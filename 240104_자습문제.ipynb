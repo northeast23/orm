{
  "nbformat": 4,
  "nbformat_minor": 0,
  "metadata": {
    "colab": {
      "provenance": [],
      "authorship_tag": "ABX9TyNucAvMKdiAr1Tjr4Vhelya"
    },
    "kernelspec": {
      "name": "python3",
      "display_name": "Python 3"
    },
    "language_info": {
      "name": "python"
    }
  },
  "cells": [
    {
      "cell_type": "markdown",
      "source": [
        "# Python 100제 - 1권\n",
        "\n",
        "문제 4 - 변수의 타입\n",
        "\n",
        "문제 6 - bool\n",
        "\n",
        "문제 7 - 변수명\n",
        "\n",
        "문제 16 - 로꾸꺼\n",
        "\n",
        "문제 22 - 배수\n",
        "\n",
        "문제 24 - 대소문자\n",
        "\n",
        "문제 30 - Index / find\n",
        "\n",
        "문제 31 - 파이썬 자료형의 복잡도\n",
        "\n",
        "문제 32 - 문자열 자료형"
      ],
      "metadata": {
        "id": "11Bia0Xjobug"
      }
    },
    {
      "cell_type": "code",
      "execution_count": 2,
      "metadata": {
        "colab": {
          "base_uri": "https://localhost:8080/",
          "height": 53
        },
        "id": "A8aDas92oavM",
        "outputId": "12d23b6f-5111-4217-a57e-c8803eebeef2"
      },
      "outputs": [
        {
          "name": "stdout",
          "output_type": "stream",
          "text": [
            "문장:   거꾸로\n"
          ]
        },
        {
          "output_type": "execute_result",
          "data": {
            "text/plain": [
              "'로꾸거'"
            ],
            "application/vnd.google.colaboratory.intrinsic+json": {
              "type": "string"
            }
          },
          "metadata": {},
          "execution_count": 2
        }
      ],
      "source": [
        "# 문제 16\n",
        "\n",
        "my_str = input(\"문장:   \")\n",
        "\n",
        "my_str[::-1]\n"
      ]
    },
    {
      "cell_type": "code",
      "source": [
        "# 문제 24\n",
        "ss = input(\"메리 를 타이핑해주세요\")\n",
        "print(ss.upper())"
      ],
      "metadata": {
        "colab": {
          "base_uri": "https://localhost:8080/"
        },
        "id": "OcwXD5fcp1ER",
        "outputId": "5fed5c60-0b92-42ec-e049-22303c43574f"
      },
      "execution_count": 3,
      "outputs": [
        {
          "output_type": "stream",
          "name": "stdout",
          "text": [
            "메리 를 타이핑해주세요mary\n",
            "MARY\n"
          ]
        }
      ]
    },
    {
      "cell_type": "code",
      "source": [
        "# 문제 30\n",
        "sen_1  = input(\"sentence_1 :_______ \")\n",
        "sen_2 = input(\"sentence_2 :_______ \")\n",
        "\n",
        "print(sen_1.find(sen_2))\n",
        "\n",
        "\n",
        "\n"
      ],
      "metadata": {
        "colab": {
          "base_uri": "https://localhost:8080/"
        },
        "id": "mdteMxugqRGi",
        "outputId": "830b3802-66c9-43f3-8004-4972117e5e43"
      },
      "execution_count": 5,
      "outputs": [
        {
          "output_type": "stream",
          "name": "stdout",
          "text": [
            "sentence_1 :_______ pineapple\n",
            "sentence_2 :_______ apple\n",
            "4\n"
          ]
        }
      ]
    },
    {
      "cell_type": "code",
      "source": [
        "# 문제 31\n",
        "'''\n",
        "다음 리스트의 내장함수의 시간 복잡도가 O(1)이 아닌것은?\n",
        "\n",
        "1)  l[i]\n",
        "2)  l.append(5)\n",
        "3)  l[a:b]\n",
        "4)  l.pop()\n",
        "5)  l.clear()\n",
        "'''\n"
      ],
      "metadata": {
        "id": "x_l23dsysBsA"
      },
      "execution_count": null,
      "outputs": []
    },
    {
      "cell_type": "code",
      "source": [
        "# 문제 32\n",
        "sen = input(\"문장을 넣어주세요 : \").split()\n",
        "\n",
        "n = len(sen)\n",
        "\n",
        "print(n)"
      ],
      "metadata": {
        "colab": {
          "base_uri": "https://localhost:8080/"
        },
        "id": "41JARZHhuUyz",
        "outputId": "256b6be7-ebcf-4602-823d-653de4d01704"
      },
      "execution_count": 17,
      "outputs": [
        {
          "output_type": "stream",
          "name": "stdout",
          "text": [
            "문장을 넣어주세요 : 안녕하세요. 저는 제주대학교 컴퓨터공학전공 혜림입니다.\n",
            "5\n"
          ]
        }
      ]
    },
    {
      "cell_type": "code",
      "source": [],
      "metadata": {
        "id": "Qnv_M7xFuuE8"
      },
      "execution_count": null,
      "outputs": []
    }
  ]
}
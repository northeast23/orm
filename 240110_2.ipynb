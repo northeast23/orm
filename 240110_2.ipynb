{
  "nbformat": 4,
  "nbformat_minor": 0,
  "metadata": {
    "colab": {
      "provenance": [],
      "authorship_tag": "ABX9TyP0eRRVJlnruUBL+556aJJ/"
    },
    "kernelspec": {
      "name": "python3",
      "display_name": "Python 3"
    },
    "language_info": {
      "name": "python"
    }
  },
  "cells": [
    {
      "cell_type": "markdown",
      "source": [
        "# class"
      ],
      "metadata": {
        "id": "3DDECGhvxSbo"
      }
    },
    {
      "cell_type": "markdown",
      "source": [
        "## 클라스 __init__ 에 인스턴스 생성시 필요한 내용들 정의"
      ],
      "metadata": {
        "id": "WPfs_LSEyDcb"
      }
    },
    {
      "cell_type": "code",
      "execution_count": 1,
      "metadata": {
        "colab": {
          "base_uri": "https://localhost:8080/"
        },
        "id": "pqjqHCWaxQ2u",
        "outputId": "9279c57b-f2b8-4b2c-99b7-161ab09e585b"
      },
      "outputs": [
        {
          "output_type": "stream",
          "name": "stdout",
          "text": [
            "Tesla\n"
          ]
        }
      ],
      "source": [
        "class Car: # 차에 설계 도면 또는 차 공장, 클래스\n",
        "    max_speed = 300 # 멤버 또는 애트리뷰트\n",
        "    max_people = 5\n",
        "    car_gear = ['P', 'D', 'R', 'N']\n",
        "\n",
        "    def __init__(self, name):\n",
        "        self.name = name\n",
        "\n",
        "modelx = Car(\"Tesla\")\n",
        "print(modelx.name)"
      ]
    },
    {
      "cell_type": "markdown",
      "source": [
        "## method 에서 self.  "
      ],
      "metadata": {
        "id": "9d8JdS8-1SRh"
      }
    },
    {
      "cell_type": "code",
      "source": [
        "class Car:\n",
        "    kinds = []\n",
        "    speed = 300\n",
        "\n",
        "    def add_kinds(self, name):\n",
        "        self.kinds.append(name)     # 이 메쏘드(self.kinds.append)로 실행된 결과는 다른 인스턴스와 공유됨\n",
        "\n",
        "    def change_speed(self, speed):\n",
        "        self.speed = speed          # 이 메쏘드(self.kinds.append)로 실행된 결과는 다른 인스턴스와 공유됨\n",
        "\n",
        "modelx = Car()\n",
        "modely = Car()\n",
        "\n",
        "modelx.add_kinds('x')\n",
        "modely.add_kinds('y')\n",
        "\n",
        "Car.speed = 100\n",
        "\n",
        "# modelx.change_speed(500)\n",
        "# modely.change_speed(250)\n",
        "\n",
        "print(f'modelx.kinds: {modelx.kinds}')\n",
        "print(f'modely.kinds: {modely.kinds}')\n",
        "print(f'modelx.speed: {modelx.speed}')\n",
        "print(f'modely.speed: {modely.speed}')"
      ],
      "metadata": {
        "colab": {
          "base_uri": "https://localhost:8080/"
        },
        "id": "GdZfRfvGyBZT",
        "outputId": "5fe829c0-ff48-4a3b-c93f-1ee8bb5b4494"
      },
      "execution_count": 3,
      "outputs": [
        {
          "output_type": "stream",
          "name": "stdout",
          "text": [
            "modelx.kinds: ['x', 'y']\n",
            "modely.kinds: ['x', 'y']\n",
            "modelx.speed: 100\n",
            "modely.speed: 100\n"
          ]
        }
      ]
    },
    {
      "cell_type": "code",
      "source": [
        "#Step1. modelx에 대해서 Car()를 불러왔어요!\n",
        "modelx = Car()\n",
        "kinds = []\n",
        "speed = 300\n",
        "# ! 주의 self가 들어있는 add_kinds() change_speed를 주의하세요!\n",
        "#Car()와 modelx는 분리되어있다.! 그게 아닐수도 있다.\n",
        "#왜냐하면 self라는 것때문에 아이클라우드 곧 class의 self다.\n",
        ""
      ],
      "metadata": {
        "colab": {
          "base_uri": "https://localhost:8080/"
        },
        "id": "k-M0cwADy5PK",
        "outputId": "768cc21a-f2f9-41e6-aeab-9938fdd0da78"
      },
      "execution_count": 4,
      "outputs": [
        {
          "output_type": "stream",
          "name": "stdout",
          "text": [
            "100\n"
          ]
        }
      ]
    },
    {
      "cell_type": "code",
      "source": [
        "class Car:\n",
        "    max_speed = 300\n",
        "\n",
        "    def __init__(self, name): # self는 자신만의 영역\n",
        "        self.name = name\n",
        "\n",
        "    def start(self, speed): # self는 자신만의 영역\n",
        "        self.speed = speed\n",
        "        return f'{self.name}차가 {self.speed}의 속력으로 움직이고 있습니다.'\n",
        "\n",
        "modelx = Car('Tesla Model X')\n",
        "modelx.name = 'ModelY'\n",
        "modelx.welcome = 'hello world'\n",
        "print(modelx.name, modelx.welcome) # 출력: ModelY hello world\n"
      ],
      "metadata": {
        "id": "0a8ZtvLG2LOE"
      },
      "execution_count": null,
      "outputs": []
    },
    {
      "cell_type": "markdown",
      "source": [
        "### self.kinds.append()"
      ],
      "metadata": {
        "id": "Q3dbSzY82vo7"
      }
    },
    {
      "cell_type": "code",
      "source": [
        "class Car:\n",
        "    kinds = []\n",
        "\n",
        "    def add_kinds(self, name):\n",
        "        self.kinds.append(name)\n",
        "\n",
        "modelx = Car()\n",
        "\n",
        "modelx.add_kinds(\"Hyundai\")\n",
        "print(modelx.kinds)\n",
        "modelx.add_kinds(\"Kia\")\n",
        "print(modelx.kinds)\n"
      ],
      "metadata": {
        "colab": {
          "base_uri": "https://localhost:8080/"
        },
        "id": "Kpu-D4ZD2LnW",
        "outputId": "1114dbb2-035a-427f-a191-195cd26f50be"
      },
      "execution_count": 6,
      "outputs": [
        {
          "output_type": "stream",
          "name": "stdout",
          "text": [
            "['Hyundai']\n",
            "['Hyundai', 'Kia']\n"
          ]
        }
      ]
    },
    {
      "cell_type": "markdown",
      "source": [
        "### 클래스 속성 동기화???"
      ],
      "metadata": {
        "id": "w96bQU_P3Y_p"
      }
    },
    {
      "cell_type": "code",
      "source": [
        "class Car:\n",
        "    kinds = []\n",
        "    speed = 300         # 변수\n",
        "\n",
        "    def add_kinds(self, name):\n",
        "        self.kinds.append(name)\n",
        "\n",
        "    def change_speed(self, speed):\n",
        "        self.speed = speed\n",
        "\n",
        "modelx = Car()\n",
        "\n",
        "modelx.add_kinds(\"Hyundai\")\n",
        "print(modelx.kinds)\n",
        "modelx.add_kinds(\"Kia\")\n",
        "print(modelx.kinds)\n",
        "\n",
        "modelx.change_speed(100)        # modelx 의 speed 만 변경됨\n",
        "print(modelx.speed)\n",
        "print(Car.speed)"
      ],
      "metadata": {
        "colab": {
          "base_uri": "https://localhost:8080/"
        },
        "id": "B-O6Q9qv2MR2",
        "outputId": "1b7cddc6-0d89-4ddd-c79c-ed01e60d6af4"
      },
      "execution_count": 10,
      "outputs": [
        {
          "output_type": "stream",
          "name": "stdout",
          "text": [
            "['Hyundai']\n",
            "['Hyundai', 'Kia']\n",
            "100\n",
            "300\n"
          ]
        }
      ]
    },
    {
      "cell_type": "code",
      "source": [
        "class fruit():\n",
        "    color = []\n",
        "    name = ''\n",
        "\n",
        "    def __init__(self, str):\n",
        "        self.color.append(str)\n",
        "\n",
        "    # def change_x(self, str):\n",
        "    #     self.x = str\n",
        "\n",
        "    def add_name(self, str):\n",
        "        self.name += str\n",
        "\n",
        "    def add_color(self, str):\n",
        "        self.color.append(str)\n",
        "\n",
        "apple = fruit('smith')\n",
        "apple.add_color('green')\n",
        "apple.add_name('daisy')\n",
        "\n",
        "print(f'apple.name: {apple.name}')\n",
        "print(f'apple.add_color: {apple.color}')\n",
        "print(f'fruit.name: {fruit.name}')\n",
        "print(f'fruit.color: {fruit.color}')\n",
        "\n"
      ],
      "metadata": {
        "colab": {
          "base_uri": "https://localhost:8080/"
        },
        "id": "GJPy1o7Q3qFV",
        "outputId": "a555eff1-b406-4e85-eb15-662a731350ef"
      },
      "execution_count": 14,
      "outputs": [
        {
          "output_type": "stream",
          "name": "stdout",
          "text": [
            "apple.name: daisy\n",
            "apple.add_color: ['smith', 'green']\n",
            "fruit.name: \n",
            "fruit.color: ['smith', 'green']\n"
          ]
        }
      ]
    },
    {
      "cell_type": "markdown",
      "source": [],
      "metadata": {
        "id": "F8QNeA5T6LWK"
      }
    },
    {
      "cell_type": "markdown",
      "source": [
        "### kinds[], speed 확인 ********"
      ],
      "metadata": {
        "id": "M5NwugKbAcUO"
      }
    },
    {
      "cell_type": "code",
      "source": [
        "# 교안\n",
        "class Car:\n",
        "    kinds = []\n",
        "    speed = 300\n",
        "\n",
        "    def add_kinds(self, name):\n",
        "        self.kinds.append(name)\n",
        "\n",
        "    def change_speed(self, speed):\n",
        "        self.speed = speed\n",
        "\n",
        "modelx = Car()\n",
        "modely = Car()\n",
        "\n",
        "modelx.add_kinds('x')\n",
        "modely.add_kinds('y')\n",
        "\n",
        "Car.speed = 100\n",
        "\n",
        "# modelx.change_speed(500)\n",
        "# modely.change_speed(250)\n",
        "\n",
        "print(f'modelx.kinds: {modelx.kinds}')\n",
        "print(f'modely.kinds: {modely.kinds}')\n",
        "print(f'modelx.speed: {modelx.speed}')\n"
      ],
      "metadata": {
        "id": "7TxbSd8NCLgt"
      },
      "execution_count": null,
      "outputs": []
    },
    {
      "cell_type": "code",
      "source": [
        "class Car:\n",
        "    kinds = []\n",
        "    speed = 300\n",
        "\n",
        "    def add_kinds(self, name):\n",
        "        self.kinds.append(name)\n",
        "\n",
        "    def change_speed(self, speed):\n",
        "        self.speed = speed\n",
        "\n",
        "modelx = Car()\n",
        "# modely = Car()\n",
        "\n",
        "modelx.speed = 100\n",
        "modelx.kinds = 'kia'\n",
        "modelx.add_kinds('audi')\n",
        "\n",
        "print(modelx.kinds)\n",
        "print(Car.kinds)\n",
        "\n",
        "# modelx.change_speed(500)\n",
        "# modely.change_speed(250)\n",
        "\n",
        "# print(f'modelx.speed: {modelx.speed}')\n",
        "# print(f'modely.speed: {modely.speed}')\n",
        "\n",
        "Car.speed"
      ],
      "metadata": {
        "colab": {
          "base_uri": "https://localhost:8080/",
          "height": 378
        },
        "id": "VW4vrPeE9DTN",
        "outputId": "516bf8cb-5cc7-4f60-ba83-c898e5b6a968"
      },
      "execution_count": 8,
      "outputs": [
        {
          "output_type": "error",
          "ename": "AttributeError",
          "evalue": "'str' object has no attribute 'append'",
          "traceback": [
            "\u001b[0;31m---------------------------------------------------------------------------\u001b[0m",
            "\u001b[0;31mAttributeError\u001b[0m                            Traceback (most recent call last)",
            "\u001b[0;32m<ipython-input-8-ae996d795319>\u001b[0m in \u001b[0;36m<cell line: 16>\u001b[0;34m()\u001b[0m\n\u001b[1;32m     14\u001b[0m \u001b[0mmodelx\u001b[0m\u001b[0;34m.\u001b[0m\u001b[0mspeed\u001b[0m \u001b[0;34m=\u001b[0m \u001b[0;36m100\u001b[0m\u001b[0;34m\u001b[0m\u001b[0;34m\u001b[0m\u001b[0m\n\u001b[1;32m     15\u001b[0m \u001b[0mmodelx\u001b[0m\u001b[0;34m.\u001b[0m\u001b[0mkinds\u001b[0m \u001b[0;34m=\u001b[0m \u001b[0;34m'kia'\u001b[0m\u001b[0;34m\u001b[0m\u001b[0;34m\u001b[0m\u001b[0m\n\u001b[0;32m---> 16\u001b[0;31m \u001b[0mmodelx\u001b[0m\u001b[0;34m.\u001b[0m\u001b[0madd_kinds\u001b[0m\u001b[0;34m(\u001b[0m\u001b[0;34m'audi'\u001b[0m\u001b[0;34m)\u001b[0m\u001b[0;34m\u001b[0m\u001b[0;34m\u001b[0m\u001b[0m\n\u001b[0m\u001b[1;32m     17\u001b[0m \u001b[0;34m\u001b[0m\u001b[0m\n\u001b[1;32m     18\u001b[0m \u001b[0mprint\u001b[0m\u001b[0;34m(\u001b[0m\u001b[0mmodelx\u001b[0m\u001b[0;34m.\u001b[0m\u001b[0mkinds\u001b[0m\u001b[0;34m)\u001b[0m\u001b[0;34m\u001b[0m\u001b[0;34m\u001b[0m\u001b[0m\n",
            "\u001b[0;32m<ipython-input-8-ae996d795319>\u001b[0m in \u001b[0;36madd_kinds\u001b[0;34m(self, name)\u001b[0m\n\u001b[1;32m      4\u001b[0m \u001b[0;34m\u001b[0m\u001b[0m\n\u001b[1;32m      5\u001b[0m     \u001b[0;32mdef\u001b[0m \u001b[0madd_kinds\u001b[0m\u001b[0;34m(\u001b[0m\u001b[0mself\u001b[0m\u001b[0;34m,\u001b[0m \u001b[0mname\u001b[0m\u001b[0;34m)\u001b[0m\u001b[0;34m:\u001b[0m\u001b[0;34m\u001b[0m\u001b[0;34m\u001b[0m\u001b[0m\n\u001b[0;32m----> 6\u001b[0;31m         \u001b[0mself\u001b[0m\u001b[0;34m.\u001b[0m\u001b[0mkinds\u001b[0m\u001b[0;34m.\u001b[0m\u001b[0mappend\u001b[0m\u001b[0;34m(\u001b[0m\u001b[0mname\u001b[0m\u001b[0;34m)\u001b[0m\u001b[0;34m\u001b[0m\u001b[0;34m\u001b[0m\u001b[0m\n\u001b[0m\u001b[1;32m      7\u001b[0m \u001b[0;34m\u001b[0m\u001b[0m\n\u001b[1;32m      8\u001b[0m     \u001b[0;32mdef\u001b[0m \u001b[0mchange_speed\u001b[0m\u001b[0;34m(\u001b[0m\u001b[0mself\u001b[0m\u001b[0;34m,\u001b[0m \u001b[0mspeed\u001b[0m\u001b[0;34m)\u001b[0m\u001b[0;34m:\u001b[0m\u001b[0;34m\u001b[0m\u001b[0;34m\u001b[0m\u001b[0m\n",
            "\u001b[0;31mAttributeError\u001b[0m: 'str' object has no attribute 'append'"
          ]
        }
      ]
    },
    {
      "cell_type": "code",
      "source": [],
      "metadata": {
        "id": "_ENOZPKBArXD"
      },
      "execution_count": null,
      "outputs": []
    },
    {
      "cell_type": "markdown",
      "source": [
        "# 예외처리"
      ],
      "metadata": {
        "id": "W0E6JgjHEum3"
      }
    },
    {
      "cell_type": "markdown",
      "source": [
        "## try except (except) else"
      ],
      "metadata": {
        "id": "gNtuqUTIF-Zs"
      }
    },
    {
      "cell_type": "code",
      "source": [
        "try:\n",
        "    i = 1\n",
        "    j = 1\n",
        "    x = 1 / j\n",
        "except:\n",
        "    print('error')\n",
        "else:\n",
        "    print(x)\n",
        "finally:\n",
        "    print('finished')\n"
      ],
      "metadata": {
        "colab": {
          "base_uri": "https://localhost:8080/"
        },
        "id": "M5r86jnFgkHj",
        "outputId": "60a9dbc9-7178-4120-af0d-529825832d19"
      },
      "execution_count": null,
      "outputs": [
        {
          "output_type": "stream",
          "name": "stdout",
          "text": [
            "1.0\n",
            "finished\n"
          ]
        }
      ]
    },
    {
      "cell_type": "markdown",
      "source": [
        "## try finally"
      ],
      "metadata": {
        "id": "R6qnQki_GFGk"
      }
    },
    {
      "cell_type": "code",
      "source": [],
      "metadata": {
        "id": "qDGjws_sE_Vc"
      },
      "execution_count": null,
      "outputs": []
    },
    {
      "cell_type": "markdown",
      "source": [
        "## try except finally"
      ],
      "metadata": {
        "id": "ClXQRw1NGLgu"
      }
    },
    {
      "cell_type": "markdown",
      "source": [
        "## try except else finally"
      ],
      "metadata": {
        "id": "uNWRaUe-GRax"
      }
    },
    {
      "cell_type": "markdown",
      "source": [
        "## assert\n"
      ],
      "metadata": {
        "id": "iT0KoN9kG7X9"
      }
    },
    {
      "cell_type": "code",
      "source": [
        "test = 'hello'\n",
        "\n",
        "assert test == 'hello', '애러 메시지 1' #1\n",
        "assert test == 'world', '애러 메시지 2' #2\n",
        "assert test + 3 == 5, '애러 메시지 3'   #3"
      ],
      "metadata": {
        "id": "S0YvmPVVG7-z"
      },
      "execution_count": null,
      "outputs": []
    },
    {
      "cell_type": "markdown",
      "source": [
        "## 에러 발생시키기 raise\n",
        "* 에러를 만드는 것"
      ],
      "metadata": {
        "id": "RixS_YR5HUcT"
      }
    },
    {
      "cell_type": "code",
      "source": [
        "try:\n",
        "    1/0\n",
        "except ValueError:\n",
        "    print('ValueError')\n",
        "except ZeroDivisionError:\n",
        "    print('ZeroDivisionError')\n",
        "\n",
        "print(ZeroDivisionError)\n",
        "print(type(ZeroDivisionError))\n",
        "print(dir(ZeroDivisionError))"
      ],
      "metadata": {
        "colab": {
          "base_uri": "https://localhost:8080/"
        },
        "id": "MlpWirNNHU3R",
        "outputId": "0a99ad90-5ab6-4abf-c8d7-ed994e9004b0"
      },
      "execution_count": null,
      "outputs": [
        {
          "output_type": "stream",
          "name": "stdout",
          "text": [
            "ZeroDivisionError\n",
            "<class 'ZeroDivisionError'>\n",
            "<class 'type'>\n",
            "['__cause__', '__class__', '__context__', '__delattr__', '__dict__', '__dir__', '__doc__', '__eq__', '__format__', '__ge__', '__getattribute__', '__gt__', '__hash__', '__init__', '__init_subclass__', '__le__', '__lt__', '__ne__', '__new__', '__reduce__', '__reduce_ex__', '__repr__', '__setattr__', '__setstate__', '__sizeof__', '__str__', '__subclasshook__', '__suppress_context__', '__traceback__', 'args', 'with_traceback']\n"
          ]
        }
      ]
    },
    {
      "cell_type": "markdown",
      "source": [
        "## 로깅\n",
        "\n",
        "* 로깅은 경고, 접근, 애러, 예외 처리, 특정 함수 사용 등에 대한 기록을 남기는 행위\n",
        "* 주로 화면에 출력하거나 DB또는 일반 plane text로 남기는 방식을 사용"
      ],
      "metadata": {
        "id": "Otgi3X2ZHqR8"
      }
    },
    {
      "cell_type": "code",
      "source": [
        "#\n",
        "\n",
        "import logging.handlers\n",
        "\n",
        "def logger():\n",
        "    log_obj = logging.getLogger(\"log_name\") # log name으로 log 객체 생성\n",
        "    log_obj.setLevel(logging.DEBUG) # 어디부터 기록할지 설정\n",
        "\n",
        "    fileHandeler = logging.FileHandler(filename=\"./test.txt\") # 파일로 기록\n",
        "    # streamHandler = logging.StreamHandler() # 콘솔에 출력\n",
        "\n",
        "    fileHandeler.setLevel(logging.INFO) # 파일 기록 레벨 설정\n",
        "    # streamHandler.setLevel(logging.DEBUG) # 콘솔 기록 레벨 설정\n",
        "\n",
        "    formatter = logging.Formatter(\"%(name)s, %(asctime)s, %(levelname)s, %(message)s\") #포멧 생성\n",
        "\n",
        "    fileHandeler.setFormatter(formatter) # 파일 메시지 포멧 설정\n",
        "    # streamHandler.setFormatter(formatter) # 콘솔 메시지 포멧 설정\n",
        "\n",
        "    log_obj.addHandler(fileHandeler) # log_obj handler에 파일 출력 방식 추가\n",
        "    # log_obj.addHandler(streamHandler) # log_obj handler에 파일 콘솔 방식 추가\n",
        "\n",
        "    return log_obj\n",
        "\n",
        "log = logger()\n",
        "\n",
        "# 아래 코드를 기록하고 싶은 곳에 함께 설정\n",
        "log.debug('debug')\n",
        "log.info('info')\n",
        "log.warning('warning')\n",
        "log.error('error')\n",
        "log.critical('critical')\n",
        "\n",
        "print('---')\n",
        "\n",
        "# 아래와 같이 사용합니다.\n",
        "def f():\n",
        "    try:\n",
        "        x = 1 / 0\n",
        "    except Exception as e:\n",
        "        print(e)\n",
        "        log.error(f'{e} error')\n",
        "\n",
        "f()\n"
      ],
      "metadata": {
        "id": "ePtmNqzeHbyP"
      },
      "execution_count": null,
      "outputs": []
    }
  ]
}
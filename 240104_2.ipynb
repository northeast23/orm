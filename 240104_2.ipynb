{
  "nbformat": 4,
  "nbformat_minor": 0,
  "metadata": {
    "colab": {
      "provenance": [],
      "toc_visible": true,
      "authorship_tag": "ABX9TyO75Zwf4IyLeSJc+3o+7dvK",
      "include_colab_link": true
    },
    "kernelspec": {
      "name": "python3",
      "display_name": "Python 3"
    },
    "language_info": {
      "name": "python"
    }
  },
  "cells": [
    {
      "cell_type": "markdown",
      "metadata": {
        "id": "view-in-github",
        "colab_type": "text"
      },
      "source": [
        "<a href=\"https://colab.research.google.com/github/northeast23/orm/blob/main/240104_2.ipynb\" target=\"_parent\"><img src=\"https://colab.research.google.com/assets/colab-badge.svg\" alt=\"Open In Colab\"/></a>"
      ]
    },
    {
      "cell_type": "markdown",
      "source": [
        "# Sequence 자료형"
      ],
      "metadata": {
        "id": "hDHloZvg2ekf"
      }
    },
    {
      "cell_type": "code",
      "execution_count": 2,
      "metadata": {
        "colab": {
          "base_uri": "https://localhost:8080/"
        },
        "id": "aZpcoi3-2PQ-",
        "outputId": "3a6c3ea4-a8bb-42e2-a49e-a85329076aab"
      },
      "outputs": [
        {
          "output_type": "stream",
          "name": "stdout",
          "text": [
            "a\n",
            "c\n",
            "e\n",
            "a\n"
          ]
        }
      ],
      "source": [
        "example = 'abcde'\n",
        "print(example[0]) # 출력: a\n",
        "print(example[2]) # 출력: c\n",
        "\n",
        "# 뒤에서 부터\n",
        "print(example[-1]) # 출력: e\n",
        "print(example[-5]) # 출력: a\n"
      ]
    },
    {
      "cell_type": "code",
      "source": [
        "# 시퀀스의 일부분을 선택하여 새로운 시퀀스를 생성할 수 있습니다.\n",
        "\n",
        "example = 'abcde'\n",
        "print(example[1:3]) # 출력: bc   stop point 안들어감\n",
        "\n",
        "range(10)[3] # 출력: 3\n",
        "print(range(10)[3])\n",
        "\n",
        "range(100)[::5] # 출력: range(0, 100, 5)"
      ],
      "metadata": {
        "colab": {
          "base_uri": "https://localhost:8080/"
        },
        "id": "Hxvzj9z_7SBy",
        "outputId": "e6e37535-3de0-4bc0-caae-888101fbce07"
      },
      "execution_count": 5,
      "outputs": [
        {
          "output_type": "stream",
          "name": "stdout",
          "text": [
            "bc\n"
          ]
        },
        {
          "output_type": "execute_result",
          "data": {
            "text/plain": [
              "range(0, 100, 5)"
            ]
          },
          "metadata": {},
          "execution_count": 5
        }
      ]
    },
    {
      "cell_type": "code",
      "source": [
        "example = 'abcde'\n",
        "print('a' in example) # 출력: True\n",
        "print('z' in example) # 출력: False\n",
        "\n",
        "type(example)"
      ],
      "metadata": {
        "colab": {
          "base_uri": "https://localhost:8080/"
        },
        "id": "h-zORhT27yEO",
        "outputId": "d179716d-3e86-4d62-b67d-074ba345ccf1"
      },
      "execution_count": 9,
      "outputs": [
        {
          "output_type": "stream",
          "name": "stdout",
          "text": [
            "True\n",
            "False\n"
          ]
        },
        {
          "output_type": "execute_result",
          "data": {
            "text/plain": [
              "str"
            ]
          },
          "metadata": {},
          "execution_count": 9
        }
      ]
    },
    {
      "cell_type": "markdown",
      "source": [
        "## **패킹(packing), 언패킹(unpacking)** : sequence type 에서 모두 가능 )"
      ],
      "metadata": {
        "id": "p-XavQtq9nDT"
      }
    },
    {
      "cell_type": "code",
      "source": [
        "#  tuple packing\n",
        "\n",
        "packed_tuple = 1, 2, 3, 4\n",
        "print(packed_tuple)\n",
        "\n",
        "type(packed_tuple)\n",
        "print(type(packed_tuple))\n",
        "\n",
        "packed_tuple = 1            # tuple 에 정수 넣으면\n",
        "type(packed_tuple)          # 자료형이 정수로 변함"
      ],
      "metadata": {
        "colab": {
          "base_uri": "https://localhost:8080/"
        },
        "id": "RapI5b3F9vpG",
        "outputId": "0ceea1ea-e33f-46a0-b3d2-705ba115fc75"
      },
      "execution_count": 12,
      "outputs": [
        {
          "output_type": "stream",
          "name": "stdout",
          "text": [
            "(1, 2, 3, 4)\n",
            "<class 'tuple'>\n"
          ]
        },
        {
          "output_type": "execute_result",
          "data": {
            "text/plain": [
              "int"
            ]
          },
          "metadata": {},
          "execution_count": 12
        }
      ]
    },
    {
      "cell_type": "code",
      "source": [
        "# tuple unpacking\n",
        "packed_tuple = 1, 2, 3, 4\n",
        "\n",
        "a, b, c, d = packed_tuple     # tupe 값의 갯수대로 따로 할당하면 값이 쪼개진다\n",
        "print(a)\n",
        "print(b)\n",
        "print(c)\n",
        "print(d)"
      ],
      "metadata": {
        "colab": {
          "base_uri": "https://localhost:8080/"
        },
        "id": "GuESUDgg8K8c",
        "outputId": "26a3d809-0b82-4509-dd28-8099aea82639"
      },
      "execution_count": 13,
      "outputs": [
        {
          "output_type": "stream",
          "name": "stdout",
          "text": [
            "1\n",
            "2\n",
            "3\n",
            "4\n"
          ]
        }
      ]
    },
    {
      "cell_type": "code",
      "source": [
        "range(3)    # packing 되어 있음\n",
        "print(a)"
      ],
      "metadata": {
        "colab": {
          "base_uri": "https://localhost:8080/"
        },
        "id": "4pPpYpa9_Ajk",
        "outputId": "8545bc39-1de5-409a-c940-8c2371bfb2d1"
      },
      "execution_count": 15,
      "outputs": [
        {
          "output_type": "stream",
          "name": "stdout",
          "text": [
            "range(0, 3)\n"
          ]
        }
      ]
    },
    {
      "cell_type": "code",
      "source": [
        "#\n",
        "a, b, c = range(3)\n",
        "print(range(3))\n",
        "\n",
        "print(a)\n",
        "print(b)\n",
        "print(c)"
      ],
      "metadata": {
        "colab": {
          "base_uri": "https://localhost:8080/"
        },
        "id": "DAqNYwL1_UR2",
        "outputId": "93ffa858-1f50-464d-8ba3-8a1ac1213a5e"
      },
      "execution_count": 18,
      "outputs": [
        {
          "output_type": "stream",
          "name": "stdout",
          "text": [
            "range(0, 3)\n",
            "0\n",
            "1\n",
            "2\n"
          ]
        }
      ]
    },
    {
      "cell_type": "code",
      "source": [
        "# Unpacking 은 sequence 자료형에서 모두 가능\n",
        "\n",
        "a, b, c, d, e = \"Hello\"\n",
        "\n",
        "print(a)\n",
        "print(e)"
      ],
      "metadata": {
        "colab": {
          "base_uri": "https://localhost:8080/"
        },
        "id": "Nr_oL_2D_mqw",
        "outputId": "1272c7a6-20c6-480f-814d-7d0b940580af"
      },
      "execution_count": 20,
      "outputs": [
        {
          "output_type": "stream",
          "name": "stdout",
          "text": [
            "H\n",
            "o\n"
          ]
        }
      ]
    },
    {
      "cell_type": "code",
      "source": [
        "total = 0\n",
        "for i in range(5):\n",
        "  total += i\n",
        "  print(total)"
      ],
      "metadata": {
        "colab": {
          "base_uri": "https://localhost:8080/"
        },
        "id": "37n_51q-_9V9",
        "outputId": "58983dcb-adcb-47eb-9406-c59859a77e1c"
      },
      "execution_count": 23,
      "outputs": [
        {
          "output_type": "stream",
          "name": "stdout",
          "text": [
            "0\n",
            "1\n",
            "3\n",
            "6\n",
            "10\n"
          ]
        }
      ]
    },
    {
      "cell_type": "markdown",
      "source": [
        "## '*' 를 이용한 언팩킹 (리스트로 묶인다)"
      ],
      "metadata": {
        "id": "UO5nP4-_ERuc"
      }
    },
    {
      "cell_type": "code",
      "source": [
        "# * 을 이용한 언패킹\n",
        "\n",
        "first, *middle, last = [1, 2, 3, 4, 5]       # * 붙은 곳에 다 묶여서 리스트형으로 들어감\n",
        "\n",
        "print(first)\n",
        "print(middle)\n",
        "print(last)\n",
        "\n",
        "print()\n",
        "*first, last = [1, 2, 3, 4, 5]\n",
        "\n",
        "print(first)\n",
        "print(last)\n"
      ],
      "metadata": {
        "colab": {
          "base_uri": "https://localhost:8080/"
        },
        "id": "mLAfLVB7AUCf",
        "outputId": "8aca10d6-bd24-4d48-a2c7-dbd74ced827a"
      },
      "execution_count": 26,
      "outputs": [
        {
          "output_type": "stream",
          "name": "stdout",
          "text": [
            "1\n",
            "[2, 3, 4]\n",
            "5\n",
            "\n",
            "[1, 2, 3, 4]\n",
            "5\n"
          ]
        }
      ]
    },
    {
      "cell_type": "markdown",
      "source": [
        "# List [   ]\n",
        "\n",
        "* 가변적(mutable) : 값을 변경, 추가, 삭제가 가능함\n",
        "* Sequencial\n",
        "* 여러가지 데이터 타입을 담을 수 있다"
      ],
      "metadata": {
        "id": "U4aGC7pCEfgP"
      }
    },
    {
      "cell_type": "code",
      "source": [
        "z = [1, 'apple', 2.5, ['a', 'b'], (1,2), True]\n",
        "\n",
        "print(z[0])\n",
        "print(z[1])\n",
        "print(z[2])\n",
        "print(z[3])\n",
        "print(z[4])\n",
        "print(z[5])"
      ],
      "metadata": {
        "colab": {
          "base_uri": "https://localhost:8080/"
        },
        "id": "0myOsuy_A8IV",
        "outputId": "08d98b81-7cc2-4469-9447-7cb7f68b8893"
      },
      "execution_count": 28,
      "outputs": [
        {
          "output_type": "stream",
          "name": "stdout",
          "text": [
            "1\n",
            "apple\n",
            "2.5\n",
            "['a', 'b']\n",
            "(1, 2)\n",
            "True\n"
          ]
        }
      ]
    },
    {
      "cell_type": "markdown",
      "source": [
        "## List 연산"
      ],
      "metadata": {
        "id": "7ypsGjJiGT1P"
      }
    },
    {
      "cell_type": "markdown",
      "source": [
        "### List 덧셈"
      ],
      "metadata": {
        "id": "xR4E40ChGdg-"
      }
    },
    {
      "cell_type": "code",
      "source": [
        "a = [1, 2, 3, 4, 5]\n",
        "b = [6, 7, 8]\n",
        "\n",
        "print(a + b)        # 출력: [1, 2, 3, 4, 5, 6, 7, 8]"
      ],
      "metadata": {
        "colab": {
          "base_uri": "https://localhost:8080/"
        },
        "id": "-_vd_rnXFyYO",
        "outputId": "c2ced08b-115c-4de6-9049-00c065b23517"
      },
      "execution_count": 29,
      "outputs": [
        {
          "output_type": "stream",
          "name": "stdout",
          "text": [
            "[1, 2, 3, 4, 5, 6, 7, 8]\n"
          ]
        }
      ]
    },
    {
      "cell_type": "markdown",
      "source": [
        "#### Numpy 로 하면 List 계산도 가능.\n",
        "아니라면 list 덧셈은 리스트를 붙이는 것"
      ],
      "metadata": {
        "id": "Ca0_8lb0JP0a"
      }
    },
    {
      "cell_type": "code",
      "source": [
        "from re import L\n",
        "import numpy as np\n",
        "\n",
        "l = [1, 2, 3]\n",
        "l = np.array(l)\n",
        "l * 3     # list 각 item 에 3이 곱해짐 numpy\n",
        "print(l * 3)\n",
        "l + l   # 너무 당연하게 요소를 붙이는 것이다라고 생각하지 않으셨으면 좋겠습니다.\n",
        "print(l + l)"
      ],
      "metadata": {
        "colab": {
          "base_uri": "https://localhost:8080/"
        },
        "id": "Ntiwujt4JQV6",
        "outputId": "1de918be-2d88-4c03-9e53-34fe2ef47093"
      },
      "execution_count": 44,
      "outputs": [
        {
          "output_type": "stream",
          "name": "stdout",
          "text": [
            "[3 6 9]\n",
            "[2 4 6]\n"
          ]
        }
      ]
    },
    {
      "cell_type": "markdown",
      "source": [
        "### List 곱셈"
      ],
      "metadata": {
        "id": "7FTjS3lCGhj-"
      }
    },
    {
      "cell_type": "code",
      "source": [
        "a = [1, 2, 3, 4, 5, 6, 7, 9]\n",
        "b = [6, 7, 8]\n",
        "\n",
        "print(b * 3)"
      ],
      "metadata": {
        "colab": {
          "base_uri": "https://localhost:8080/"
        },
        "id": "hOc6tzVRGtm0",
        "outputId": "f76ded19-4dcd-43bb-e3ec-1bf0a7f48e15"
      },
      "execution_count": 32,
      "outputs": [
        {
          "output_type": "stream",
          "name": "stdout",
          "text": [
            "[6, 7, 8, 6, 7, 8, 6, 7, 8]\n"
          ]
        }
      ]
    },
    {
      "cell_type": "markdown",
      "source": [
        "### String 은 item 할당이 안됨 (.replace()사용)"
      ],
      "metadata": {
        "id": "zYmGE-q6GuD6"
      }
    },
    {
      "cell_type": "code",
      "source": [],
      "metadata": {
        "id": "Iv2tGVkcGbwk"
      },
      "execution_count": null,
      "outputs": []
    },
    {
      "cell_type": "markdown",
      "source": [
        "## 다차원 리스트"
      ],
      "metadata": {
        "id": "DyjsgostHoP1"
      }
    },
    {
      "cell_type": "code",
      "source": [
        "b = [[10, 20, 30], [1, 2, 3]]\n",
        "'''\n",
        "10  1\n",
        "20  2\n",
        "30  3\n",
        "'''\n",
        "\n",
        "print(b[1][2])"
      ],
      "metadata": {
        "colab": {
          "base_uri": "https://localhost:8080/"
        },
        "id": "GJTOMNFqHr2h",
        "outputId": "1973bd73-7984-43b9-b2bf-035ba1825185"
      },
      "execution_count": 34,
      "outputs": [
        {
          "output_type": "stream",
          "name": "stdout",
          "text": [
            "3\n"
          ]
        }
      ]
    },
    {
      "cell_type": "code",
      "source": [
        "print(b)\n",
        "print(b[0])\n",
        "print(b[1])\n",
        "print(b[0][1])\n"
      ],
      "metadata": {
        "colab": {
          "base_uri": "https://localhost:8080/"
        },
        "id": "jhlxH0U3H34d",
        "outputId": "3bd6cc40-89a9-4f82-8eb3-1b1765791858"
      },
      "execution_count": 36,
      "outputs": [
        {
          "output_type": "stream",
          "name": "stdout",
          "text": [
            "[[10, 20, 30], [1, 2, 3]]\n",
            "[10, 20, 30]\n",
            "[1, 2, 3]\n",
            "20\n"
          ]
        }
      ]
    },
    {
      "cell_type": "markdown",
      "source": [
        "## 리스트 슬라이싱"
      ],
      "metadata": {
        "id": "50wWM2qsK_FV"
      }
    },
    {
      "cell_type": "markdown",
      "source": [
        "### [start:stop:step] - endpoint 포함 안됨"
      ],
      "metadata": {
        "id": "zb_gIFvIMUZG"
      }
    },
    {
      "cell_type": "code",
      "source": [
        "l = [1, 2, 3, 4, 5]\n",
        "print(l[1:4]) # 출력: [2, 3, 4]\n"
      ],
      "metadata": {
        "colab": {
          "base_uri": "https://localhost:8080/"
        },
        "id": "2_1KmSxqLFxI",
        "outputId": "3afa88d6-2614-405a-9455-a7fd8fcd135c"
      },
      "execution_count": 46,
      "outputs": [
        {
          "output_type": "stream",
          "name": "stdout",
          "text": [
            "[2, 3, 4]\n"
          ]
        }
      ]
    },
    {
      "cell_type": "code",
      "source": [
        "l = [1, 2, 3, 4, 5]\n",
        "print(l[:])       # 출력: [1, 2, 3, 4, 5]\n",
        "print(l[::-1])    # 출력: [5, 4, 3, 2, 1]\n",
        "print(l[::2])     # 출력: [1, 3, 5]\n",
        "print(l[0:4][::-1]) # 출력: [4, 3, 2, 1]\n",
        "\n",
        "print(l[0:4][::-1])    # stop point 빠짐"
      ],
      "metadata": {
        "colab": {
          "base_uri": "https://localhost:8080/"
        },
        "id": "lc8md5GgLYI7",
        "outputId": "b313d67f-99d3-4d93-a9aa-5f5e9e25679c"
      },
      "execution_count": 51,
      "outputs": [
        {
          "output_type": "stream",
          "name": "stdout",
          "text": [
            "[1, 2, 3, 4, 5]\n",
            "[5, 4, 3, 2, 1]\n",
            "[1, 3, 5]\n",
            "[4, 3, 2, 1]\n",
            "[4, 3, 2, 1]\n"
          ]
        }
      ]
    },
    {
      "cell_type": "code",
      "source": [],
      "metadata": {
        "id": "_wp5GrblYjAY"
      },
      "execution_count": null,
      "outputs": []
    }
  ]
}
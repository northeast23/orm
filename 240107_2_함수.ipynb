{
  "nbformat": 4,
  "nbformat_minor": 0,
  "metadata": {
    "colab": {
      "provenance": [],
      "toc_visible": true,
      "authorship_tag": "ABX9TyNy/011dBqNjTKs9qFqO1db"
    },
    "kernelspec": {
      "name": "python3",
      "display_name": "Python 3"
    },
    "language_info": {
      "name": "python"
    }
  },
  "cells": [
    {
      "cell_type": "markdown",
      "source": [
        "# 함수"
      ],
      "metadata": {
        "id": "CSxi_pGMOg0u"
      }
    },
    {
      "cell_type": "code",
      "source": [],
      "metadata": {
        "id": "vwKVUdcVl8KZ"
      },
      "execution_count": null,
      "outputs": []
    },
    {
      "cell_type": "markdown",
      "source": [
        "## 지역 변수, 전역 변수 **** 복습"
      ],
      "metadata": {
        "id": "_00MjLSJhsH9"
      }
    },
    {
      "cell_type": "code",
      "source": [
        "def f():\n",
        "    a = 1\n",
        "    print(a)        # a 는 지역변수\n",
        "\n",
        "f()                 # 함수 호출. 1 출력\n",
        "print(a)            # 에러"
      ],
      "metadata": {
        "colab": {
          "base_uri": "https://localhost:8080/",
          "height": 233
        },
        "id": "tGAm_0egPWAC",
        "outputId": "59401fa7-83d2-49de-d7c6-7fac61068833"
      },
      "execution_count": 1,
      "outputs": [
        {
          "output_type": "stream",
          "name": "stdout",
          "text": [
            "1\n"
          ]
        },
        {
          "output_type": "error",
          "ename": "NameError",
          "evalue": "name 'a' is not defined",
          "traceback": [
            "\u001b[0;31m---------------------------------------------------------------------------\u001b[0m",
            "\u001b[0;31mNameError\u001b[0m                                 Traceback (most recent call last)",
            "\u001b[0;32m<ipython-input-1-076679df65d4>\u001b[0m in \u001b[0;36m<cell line: 6>\u001b[0;34m()\u001b[0m\n\u001b[1;32m      4\u001b[0m \u001b[0;34m\u001b[0m\u001b[0m\n\u001b[1;32m      5\u001b[0m \u001b[0mf\u001b[0m\u001b[0;34m(\u001b[0m\u001b[0;34m)\u001b[0m         \u001b[0;31m# 함수 호출. 1 출력\u001b[0m\u001b[0;34m\u001b[0m\u001b[0;34m\u001b[0m\u001b[0m\n\u001b[0;32m----> 6\u001b[0;31m \u001b[0mprint\u001b[0m\u001b[0;34m(\u001b[0m\u001b[0ma\u001b[0m\u001b[0;34m)\u001b[0m    \u001b[0;31m# 에러\u001b[0m\u001b[0;34m\u001b[0m\u001b[0;34m\u001b[0m\u001b[0m\n\u001b[0m",
            "\u001b[0;31mNameError\u001b[0m: name 'a' is not defined"
          ]
        }
      ]
    },
    {
      "cell_type": "code",
      "source": [
        "test = 100\n",
        "\n",
        "def f():\n",
        "    test = 100\n",
        "    return test\n",
        "\n",
        "f()\n",
        "print(test)"
      ],
      "metadata": {
        "colab": {
          "base_uri": "https://localhost:8080/"
        },
        "id": "hFcUH7zNi6FF",
        "outputId": "db6e0821-49aa-45a9-9e71-28a8447d9bd7"
      },
      "execution_count": 13,
      "outputs": [
        {
          "output_type": "stream",
          "name": "stdout",
          "text": [
            "100\n"
          ]
        }
      ]
    },
    {
      "cell_type": "markdown",
      "source": [
        "#### locals(): 사용되는 지역변수 확인"
      ],
      "metadata": {
        "id": "8LZpxCqlkZj7"
      }
    },
    {
      "cell_type": "code",
      "source": [
        "def f():\n",
        "    a = 1           # local\n",
        "    print(locals()) # 출력: {'a': 1}\n",
        "\n",
        "f()"
      ],
      "metadata": {
        "colab": {
          "base_uri": "https://localhost:8080/"
        },
        "id": "6CQV1RS1jqFl",
        "outputId": "0d592b3d-3323-4c10-d0f3-39dba9f44c2d"
      },
      "execution_count": 2,
      "outputs": [
        {
          "output_type": "stream",
          "name": "stdout",
          "text": [
            "{'a': 1}\n"
          ]
        }
      ]
    },
    {
      "cell_type": "code",
      "source": [
        "def f():\n",
        "    a = 1\n",
        "    b = 'hello'\n",
        "    def ff():       # 함수 내 함수. 함수자체도 지역 변수\n",
        "        pass\n",
        "    print(locals()) # 출력: {'a': 1, 'b': 'hello', 'ff': <function f.<locals>.ff at 0x7a46e99d2c20>}\n",
        "\n",
        "f()"
      ],
      "metadata": {
        "colab": {
          "base_uri": "https://localhost:8080/"
        },
        "id": "8bYFYdoQj1r8",
        "outputId": "0c3a7b28-f4c9-4b45-cb68-e4e9f00cb9a7"
      },
      "execution_count": 6,
      "outputs": [
        {
          "output_type": "stream",
          "name": "stdout",
          "text": [
            "{'a': 1, 'b': 'hello', 'ff': <function f.<locals>.ff at 0x7bbba417dd80>}\n"
          ]
        }
      ]
    },
    {
      "cell_type": "markdown",
      "source": [
        "#### global\n",
        "*"
      ],
      "metadata": {
        "id": "VxZyBLmgPWuh"
      }
    },
    {
      "cell_type": "code",
      "source": [
        "# global 변수\n",
        "\n",
        "a = 100\n",
        "\n",
        "def f():\n",
        "    global a\n",
        "    a = a + 1\n",
        "    return a\n",
        "\n",
        "f()\n",
        "print(a)  # 출력: 101, 함수 f 내에서 전역 변수 a가 수정되었습니다."
      ],
      "metadata": {
        "colab": {
          "base_uri": "https://localhost:8080/"
        },
        "id": "dFZVNHe6k_Av",
        "outputId": "0fa9c676-3367-490b-cc0d-b83c61e73689"
      },
      "execution_count": 7,
      "outputs": [
        {
          "output_type": "stream",
          "name": "stdout",
          "text": [
            "101\n"
          ]
        }
      ]
    },
    {
      "cell_type": "code",
      "source": [
        "a = 100\n",
        "def f():\n",
        "    # global a  # 이거 없으면 에러\n",
        "    a = a + 1   # error : 함수 안에서 전역 변수를 global 키워드 없이 수정하는 것은 허락하지 않기 때문에 애러\n",
        "\n",
        "f()\n",
        "print(a)"
      ],
      "metadata": {
        "colab": {
          "base_uri": "https://localhost:8080/"
        },
        "id": "0s2n0KEOlC1u",
        "outputId": "5255044f-bde2-4770-e8d6-14f98df1d783"
      },
      "execution_count": 11,
      "outputs": [
        {
          "output_type": "stream",
          "name": "stdout",
          "text": [
            "101\n"
          ]
        }
      ]
    },
    {
      "cell_type": "code",
      "source": [
        "a = 100\n",
        "\n",
        "def f():\n",
        "    print(a) # 출력: 100\n",
        "\n",
        "f()\n",
        "\n",
        "def ff():\n",
        "    b = a + 1\n",
        "    print(b) # 출력: 101\n",
        "\n",
        "ff()"
      ],
      "metadata": {
        "colab": {
          "base_uri": "https://localhost:8080/"
        },
        "id": "eqYJBJEAl_WQ",
        "outputId": "de36c5cd-9ddc-4dd4-c18c-6d1ba0641aab"
      },
      "execution_count": 9,
      "outputs": [
        {
          "output_type": "stream",
          "name": "stdout",
          "text": [
            "100\n",
            "101\n"
          ]
        }
      ]
    },
    {
      "cell_type": "code",
      "source": [
        "a = 100\n",
        "\n",
        "def f():\n",
        "    a = 1000\n",
        "    print(a) # 출력: 1000\n",
        "\n",
        "f()"
      ],
      "metadata": {
        "colab": {
          "base_uri": "https://localhost:8080/"
        },
        "id": "vnoLSSNjmES6",
        "outputId": "249c7d64-3a05-4fe8-cb89-998343299565"
      },
      "execution_count": 10,
      "outputs": [
        {
          "output_type": "stream",
          "name": "stdout",
          "text": [
            "1000\n"
          ]
        }
      ]
    },
    {
      "cell_type": "code",
      "source": [
        "a = 100\n",
        "def f():\n",
        "    a = 100     # a 는 지역 변수 임. 같은 이름일 뿐\n",
        "f()\n",
        "print(a)"
      ],
      "metadata": {
        "colab": {
          "base_uri": "https://localhost:8080/"
        },
        "id": "vgIivhieneFP",
        "outputId": "05ffafc7-c4f2-4835-ecb5-73f91d6dd778"
      },
      "execution_count": 17,
      "outputs": [
        {
          "output_type": "stream",
          "name": "stdout",
          "text": [
            "100\n"
          ]
        }
      ]
    },
    {
      "cell_type": "markdown",
      "source": [
        "### 함수에서 pass 사용"
      ],
      "metadata": {
        "id": "vMorWatmq5cH"
      }
    },
    {
      "cell_type": "code",
      "source": [
        "# TODO 어떠한 일을 해야 합니다.\n",
        "def my_function():\n",
        "    pass"
      ],
      "metadata": {
        "id": "iPeUp69iqzHU"
      },
      "execution_count": 18,
      "outputs": []
    },
    {
      "cell_type": "markdown",
      "source": [
        "## built-in 함수"
      ],
      "metadata": {
        "id": "JCUCgaz8q9gS"
      }
    },
    {
      "cell_type": "markdown",
      "source": [
        "```\n",
        "# 요소 전체의 True, False 판별\n",
        "all\n",
        "any\n",
        "\n",
        "# 숫자를 문자로 바꾸거나 문자를 숫자로 바꾸는 함수\n",
        "chr\n",
        "ord\n",
        "\n",
        "# 함수와 순회할 수 있는 객체의 연산\n",
        "map\n",
        "filter\n",
        "\n",
        "# 순회할 수 있는 객체의 묶음\n",
        "zip\n",
        "\n",
        "# 형식 변환\n",
        "format\n",
        "\n",
        "# 길이 반환\n",
        "len\n",
        "\n",
        "# 큰 값, 작은 값, 다 더한 값\n",
        "max\n",
        "min\n",
        "sum\n",
        "\n",
        "# 문자열, 대표 문자열, 문자열 출력\n",
        "str\n",
        "repr\n",
        "print\n",
        "\n",
        "# 순회할 수 있는 객체\n",
        "enumerate\n",
        "range\n",
        "\n",
        "# 역순과 정렬\n",
        "reversed\n",
        "sorted\n",
        "```"
      ],
      "metadata": {
        "id": "YVBG2tCrrXhF"
      }
    },
    {
      "cell_type": "markdown",
      "source": [
        "### all([True, True, True]), any([True, True, True])"
      ],
      "metadata": {
        "id": "p6kbeFPMsUww"
      }
    },
    {
      "cell_type": "code",
      "source": [
        "# all(), any()\n",
        "print(all([True, True, True])) # 출력: Ture\n",
        "print(all([True, True, False])) # 출력: False\n",
        "print(all([1, 1, 1, 0])) # 출력: False\n",
        "print(all([1, 0, 1, 1])) # 출력: False\n",
        "print(all([1, 100, 10, -1])) # 출력: True"
      ],
      "metadata": {
        "colab": {
          "base_uri": "https://localhost:8080/"
        },
        "id": "ipaa_CsOrjjX",
        "outputId": "d1c7a720-1493-412f-bad4-aaa514b8655a"
      },
      "execution_count": 21,
      "outputs": [
        {
          "output_type": "stream",
          "name": "stdout",
          "text": [
            "True\n",
            "False\n",
            "False\n",
            "False\n",
            "True\n"
          ]
        }
      ]
    },
    {
      "cell_type": "code",
      "source": [
        "# 하나라도 True이면 True이다.\n",
        "print(any([True, False, False])) # 출력: True\n",
        "print(any([False, False, False])) # 출력: False"
      ],
      "metadata": {
        "colab": {
          "base_uri": "https://localhost:8080/"
        },
        "id": "8YS8m9Guqy89",
        "outputId": "c3b6fa27-845a-4996-e95f-9419cef349ba"
      },
      "execution_count": 23,
      "outputs": [
        {
          "output_type": "stream",
          "name": "stdout",
          "text": [
            "True\n",
            "False\n"
          ]
        }
      ]
    },
    {
      "cell_type": "markdown",
      "source": [
        "### map(function, list or tuple)"
      ],
      "metadata": {
        "id": "AGuAKdyDPXKQ"
      }
    },
    {
      "cell_type": "code",
      "source": [
        "# 첫번째 방법\n",
        "def 제곱(x):\n",
        "    return x ** 2\n",
        "list(map(제곱, [1, 2, 3, 4])) # 출력: [1, 4, 9, 16]\n",
        "#  리스트의 값을 각각을 따로 계산하고 싶을때 map()사용"
      ],
      "metadata": {
        "colab": {
          "base_uri": "https://localhost:8080/"
        },
        "id": "vjYiPJNesak0",
        "outputId": "f7fd2796-0fee-4583-ac04-21aafeae895a"
      },
      "execution_count": 24,
      "outputs": [
        {
          "output_type": "execute_result",
          "data": {
            "text/plain": [
              "[1, 4, 9, 16]"
            ]
          },
          "metadata": {},
          "execution_count": 24
        }
      ]
    },
    {
      "cell_type": "code",
      "source": [
        "def 제곱(x):\n",
        "    return x ** 2\n",
        "\n",
        "map(제곱, [1, 2, 3, 4])\n",
        "\n",
        "# 제곱(2)\n",
        "# type(제곱(2))"
      ],
      "metadata": {
        "colab": {
          "base_uri": "https://localhost:8080/"
        },
        "id": "0oj0AvvqtL03",
        "outputId": "dc0b4146-ac20-47d6-928e-7141876e7259"
      },
      "execution_count": 28,
      "outputs": [
        {
          "output_type": "execute_result",
          "data": {
            "text/plain": [
              "<map at 0x7bbba412c400>"
            ]
          },
          "metadata": {},
          "execution_count": 28
        }
      ]
    },
    {
      "cell_type": "markdown",
      "source": [
        "### filter(조건함수, 리스트 또는 튜플)\n"
      ],
      "metadata": {
        "id": "vGt1OL1XOUqd"
      }
    },
    {
      "cell_type": "code",
      "source": [
        "# lambda\n",
        "list(filter(lambda x : x > 50, range(100)))\n"
      ],
      "metadata": {
        "colab": {
          "base_uri": "https://localhost:8080/"
        },
        "id": "ETc6ldJQtzWZ",
        "outputId": "9f5dd866-debf-431c-c279-e6d7c29a1672"
      },
      "execution_count": 29,
      "outputs": [
        {
          "output_type": "execute_result",
          "data": {
            "text/plain": [
              "[51,\n",
              " 52,\n",
              " 53,\n",
              " 54,\n",
              " 55,\n",
              " 56,\n",
              " 57,\n",
              " 58,\n",
              " 59,\n",
              " 60,\n",
              " 61,\n",
              " 62,\n",
              " 63,\n",
              " 64,\n",
              " 65,\n",
              " 66,\n",
              " 67,\n",
              " 68,\n",
              " 69,\n",
              " 70,\n",
              " 71,\n",
              " 72,\n",
              " 73,\n",
              " 74,\n",
              " 75,\n",
              " 76,\n",
              " 77,\n",
              " 78,\n",
              " 79,\n",
              " 80,\n",
              " 81,\n",
              " 82,\n",
              " 83,\n",
              " 84,\n",
              " 85,\n",
              " 86,\n",
              " 87,\n",
              " 88,\n",
              " 89,\n",
              " 90,\n",
              " 91,\n",
              " 92,\n",
              " 93,\n",
              " 94,\n",
              " 95,\n",
              " 96,\n",
              " 97,\n",
              " 98,\n",
              " 99]"
            ]
          },
          "metadata": {},
          "execution_count": 29
        }
      ]
    },
    {
      "cell_type": "markdown",
      "source": [
        "### zip(순회할수 있는 객체1, 순회할 수 있는객체2, ..)"
      ],
      "metadata": {
        "id": "czlfLWDtt7kz"
      }
    },
    {
      "cell_type": "code",
      "source": [
        "zip('ab', '12') # 출력: <zip at 0x7b9d83c6e440>"
      ],
      "metadata": {
        "colab": {
          "base_uri": "https://localhost:8080/"
        },
        "id": "Z9iyyKKVt0Bz",
        "outputId": "d7651419-b640-400b-f83d-f4dea8ed607e"
      },
      "execution_count": 30,
      "outputs": [
        {
          "output_type": "execute_result",
          "data": {
            "text/plain": [
              "<zip at 0x7bbbb5dbf180>"
            ]
          },
          "metadata": {},
          "execution_count": 30
        }
      ]
    },
    {
      "cell_type": "code",
      "source": [
        "list(zip('ab', '12')) # 출력: [('a', '1'), ('b', '2')]"
      ],
      "metadata": {
        "colab": {
          "base_uri": "https://localhost:8080/"
        },
        "id": "is_DxxNnuKCJ",
        "outputId": "2ba5c646-d35c-4927-cb03-2b81432132e7"
      },
      "execution_count": 31,
      "outputs": [
        {
          "output_type": "execute_result",
          "data": {
            "text/plain": [
              "[('a', '1'), ('b', '2')]"
            ]
          },
          "metadata": {},
          "execution_count": 31
        }
      ]
    },
    {
      "cell_type": "code",
      "source": [
        "list(zip('ab', '12', [10, 20])) # 출력: [('a', '1', 10), ('b', '2', 20)]"
      ],
      "metadata": {
        "colab": {
          "base_uri": "https://localhost:8080/"
        },
        "id": "okR8vPPzuPcL",
        "outputId": "218592f4-990f-42ba-bf4a-d55f6ce30c40"
      },
      "execution_count": 33,
      "outputs": [
        {
          "output_type": "execute_result",
          "data": {
            "text/plain": [
              "[('a', '1', 10), ('b', '2', 20)]"
            ]
          },
          "metadata": {},
          "execution_count": 33
        }
      ]
    },
    {
      "cell_type": "code",
      "source": [
        "list(zip('abc', '1234567', [10, 20, 30]))\n",
        "# 출력 : [('a', '1', 10), ('b', '2', 20), ('c', '3', 30)]"
      ],
      "metadata": {
        "colab": {
          "base_uri": "https://localhost:8080/"
        },
        "id": "7TYyh-RWucWy",
        "outputId": "dcb9e2b5-c0b9-4b09-c060-0c7226946475"
      },
      "execution_count": 35,
      "outputs": [
        {
          "output_type": "execute_result",
          "data": {
            "text/plain": [
              "[('a', '1', 10), ('b', '2', 20), ('c', '3', 30)]"
            ]
          },
          "metadata": {},
          "execution_count": 35
        }
      ]
    },
    {
      "cell_type": "code",
      "source": [
        "x = [1, 2, 3]\n",
        "y = [1, 4, 9]\n",
        "list(zip(x, y)) # 출력: [(1, 1), (2, 4), (3, 9)]"
      ],
      "metadata": {
        "colab": {
          "base_uri": "https://localhost:8080/"
        },
        "id": "1vrPpe6Iuki6",
        "outputId": "1d7dbd11-42a6-441f-d446-2eb6c9353b51"
      },
      "execution_count": 36,
      "outputs": [
        {
          "output_type": "execute_result",
          "data": {
            "text/plain": [
              "[(1, 1), (2, 4), (3, 9)]"
            ]
          },
          "metadata": {},
          "execution_count": 36
        }
      ]
    },
    {
      "cell_type": "markdown",
      "source": [
        "### format(), len(): 요소의 갯수를 반환"
      ],
      "metadata": {
        "id": "mc4Ceo7GvD2d"
      }
    },
    {
      "cell_type": "code",
      "source": [],
      "metadata": {
        "id": "hrIhGzpBvX9_"
      },
      "execution_count": null,
      "outputs": []
    },
    {
      "cell_type": "markdown",
      "source": [
        "### numpy.sum()"
      ],
      "metadata": {
        "id": "9tpCICx5vM4n"
      }
    },
    {
      "cell_type": "code",
      "source": [
        "import numpy as np\n",
        "\n",
        "np.sum([[1, 2], [3, 101], [1, 20], [3, 100]]) # 출력 : 328"
      ],
      "metadata": {
        "id": "9C5iYy8Suulp"
      },
      "execution_count": null,
      "outputs": []
    },
    {
      "cell_type": "markdown",
      "source": [
        "### print(), repr()"
      ],
      "metadata": {
        "id": "iAnTIY04vryI"
      }
    },
    {
      "cell_type": "code",
      "source": [
        "class Charactor:\n",
        "    def __repr__(self):\n",
        "        return 'hello'\n",
        "    def __str__(self):\n",
        "        return 'world'\n",
        "\n",
        "hero = Charactor()\n",
        "print(hero) # 출력 : 'world'\n",
        "hero # 출력 : 'hello'"
      ],
      "metadata": {
        "colab": {
          "base_uri": "https://localhost:8080/"
        },
        "id": "3_-xvsVGvtUO",
        "outputId": "680553bc-05db-4546-f041-e9f3ff7daf0e"
      },
      "execution_count": 37,
      "outputs": [
        {
          "output_type": "stream",
          "name": "stdout",
          "text": [
            "world\n"
          ]
        },
        {
          "output_type": "execute_result",
          "data": {
            "text/plain": [
              "hello"
            ]
          },
          "metadata": {},
          "execution_count": 37
        }
      ]
    },
    {
      "cell_type": "markdown",
      "source": [
        "### enumberate(list[])\n",
        "* 인덱스 번호 시작 지정 가능"
      ],
      "metadata": {
        "id": "gVocDeoRwFdi"
      }
    },
    {
      "cell_type": "code",
      "source": [
        "#\n",
        "values = ['A', 'B', 'C', 'D']\n",
        "print(list(enumerate(values)))      # 리스트를 받아서 인덱스와 쌍으로 만들어줌(리스트).\n",
        "print(list(enumerate(values, 1)))   # 인덱스 번호 시작을 1 로 지정\n",
        "print(list(enumerate(values, 100))) # 인덱스 번호 시작을 100 으로 지정\n",
        "\n",
        "# # 출력\n",
        "# [(0, 'A'), (1, 'B'), (2, 'C'), (3, 'D')]\n",
        "# [(1, 'A'), (2, 'B'), (3, 'C'), (4, 'D')]\n",
        "# [(100, 'A'), (101, 'B'), (102, 'C'), (103, 'D')]"
      ],
      "metadata": {
        "colab": {
          "base_uri": "https://localhost:8080/"
        },
        "id": "MRtBDkwNv7Vk",
        "outputId": "aa1683a2-f57c-4cdf-afb2-c843906ca8ea"
      },
      "execution_count": 38,
      "outputs": [
        {
          "output_type": "stream",
          "name": "stdout",
          "text": [
            "[(0, 'A'), (1, 'B'), (2, 'C'), (3, 'D')]\n",
            "[(1, 'A'), (2, 'B'), (3, 'C'), (4, 'D')]\n",
            "[(100, 'A'), (101, 'B'), (102, 'C'), (103, 'D')]\n"
          ]
        }
      ]
    },
    {
      "cell_type": "markdown",
      "source": [
        "### sorted(), reversed(): 원본 수정 X"
      ],
      "metadata": {
        "id": "RylhtvGExvXV"
      }
    },
    {
      "cell_type": "code",
      "source": [
        "sorted([1, 2, 100, 200, 3, 4, 10, 20])\n",
        "# 출력 : [1, 2, 3, 4, 10, 20, 100, 200]"
      ],
      "metadata": {
        "colab": {
          "base_uri": "https://localhost:8080/"
        },
        "id": "30HoLlm4wc7Z",
        "outputId": "e07eda54-199c-4e09-92ed-1008ef8c4d4f"
      },
      "execution_count": 39,
      "outputs": [
        {
          "output_type": "execute_result",
          "data": {
            "text/plain": [
              "[1, 2, 3, 4, 10, 20, 100, 200]"
            ]
          },
          "metadata": {},
          "execution_count": 39
        }
      ]
    },
    {
      "cell_type": "code",
      "source": [
        "sorted([1, 2, 100, 200, 3, 4, 10, 20], reverse=True)\n",
        "# 출력 : [200, 100, 20, 10, 4, 3, 2, 1]"
      ],
      "metadata": {
        "colab": {
          "base_uri": "https://localhost:8080/"
        },
        "id": "JnDclf8ex2kQ",
        "outputId": "b89a25d3-8950-4a15-ed5a-a8787af42c27"
      },
      "execution_count": 40,
      "outputs": [
        {
          "output_type": "execute_result",
          "data": {
            "text/plain": [
              "[200, 100, 20, 10, 4, 3, 2, 1]"
            ]
          },
          "metadata": {},
          "execution_count": 40
        }
      ]
    },
    {
      "cell_type": "code",
      "source": [
        "sorted(['hello', 'l', 'hllo', 'hel', 'heo', 'a'])\n",
        "# 출력 : ['a', 'hel', 'hello', 'heo', 'hllo', 'l']"
      ],
      "metadata": {
        "colab": {
          "base_uri": "https://localhost:8080/"
        },
        "id": "zcdch5Yax4It",
        "outputId": "7891220f-1548-4455-bb86-f31567794c92"
      },
      "execution_count": 41,
      "outputs": [
        {
          "output_type": "execute_result",
          "data": {
            "text/plain": [
              "['a', 'hel', 'hello', 'heo', 'hllo', 'l']"
            ]
          },
          "metadata": {},
          "execution_count": 41
        }
      ]
    },
    {
      "cell_type": "code",
      "source": [
        "sorted(['hello', 'l', 'hllo', 'hel', 'heo', 'a'], key=len)\n",
        "# 출력 : ['l', 'a', 'hel', 'heo', 'hllo', 'hello']"
      ],
      "metadata": {
        "colab": {
          "base_uri": "https://localhost:8080/"
        },
        "id": "XNQUOLdHx7YI",
        "outputId": "b804ed11-f4fa-4c6e-dda8-8bc187ed7fe1"
      },
      "execution_count": 42,
      "outputs": [
        {
          "output_type": "execute_result",
          "data": {
            "text/plain": [
              "['l', 'a', 'hel', 'heo', 'hllo', 'hello']"
            ]
          },
          "metadata": {},
          "execution_count": 42
        }
      ]
    },
    {
      "cell_type": "code",
      "source": [
        "print(list(reversed('hello world')))\n",
        "print(list(reversed([1, 2, 3, 10, 5, 4]))) # 역 정렬 아닙니다! 역순입니다.\n",
        "print(list(reversed(sorted([1, 2, 3, 10, 5, 4]))))"
      ],
      "metadata": {
        "colab": {
          "base_uri": "https://localhost:8080/"
        },
        "id": "FwJuCqJex_DI",
        "outputId": "bea2b136-7802-4124-e819-cde17453751c"
      },
      "execution_count": 47,
      "outputs": [
        {
          "output_type": "stream",
          "name": "stdout",
          "text": [
            "['d', 'l', 'r', 'o', 'w', ' ', 'o', 'l', 'l', 'e', 'h']\n",
            "[4, 5, 10, 3, 2, 1]\n",
            "[10, 5, 4, 3, 2, 1]\n"
          ]
        }
      ]
    },
    {
      "cell_type": "markdown",
      "source": [
        "### 연습문제"
      ],
      "metadata": {
        "id": "ZjZqgzYr0WLz"
      }
    },
    {
      "cell_type": "code",
      "source": [
        "# 문제 1.\n",
        "a = 'pithon'\n",
        "\n",
        "def 함수1():\n",
        "    def 함수2():\n",
        "        print('love')\n",
        "\n",
        "    print('I')\n",
        "    함수2()\n",
        "    return \"python\"\n",
        "\n",
        "\n",
        "a = 함수1()     # 'I'\n",
        "                # 'love'\n",
        "print(a)        # 'python'\n"
      ],
      "metadata": {
        "colab": {
          "base_uri": "https://localhost:8080/"
        },
        "id": "UXcmT-bqyLO5",
        "outputId": "121c8008-1deb-47dc-a0fc-702e8602a930"
      },
      "execution_count": 49,
      "outputs": [
        {
          "output_type": "stream",
          "name": "stdout",
          "text": [
            "I\n",
            "love\n",
            "python\n"
          ]
        }
      ]
    },
    {
      "cell_type": "code",
      "source": [
        "# 문제 2.\n",
        "\n",
        "def plus(num1, num2):\n",
        "\treturn num1 + num2\n",
        "\n",
        "def minus(num1, num2):\n",
        "\treturn num1 - num2\n",
        "\n",
        "def multiply(num1, num2):\n",
        "\treturn num1 * num2\n",
        "\n",
        "def divide(num1, num2):\n",
        "    # return num1 / num2\n",
        "    if num2 != 0:\n",
        "        tmp = num1 / num2\n",
        "        return int(tmp)\n",
        "    else:\n",
        "        return \"divide by zero\"\n",
        "\n",
        "\n",
        "print(f'plus : {plus(10, 5)}')\n",
        "print(f'minus : {minus(10, 5)}')\n",
        "print(f'multiply : {multiply(10, 5)}')\n",
        "print(f'divide : {divide(10, 5)}')\n",
        "print(f'divide : {divide(10, 0)}')\n"
      ],
      "metadata": {
        "colab": {
          "base_uri": "https://localhost:8080/"
        },
        "id": "12ZBSa0BzeBi",
        "outputId": "7f8ed205-0e57-4046-e7dc-d00b4ee8aadb"
      },
      "execution_count": 54,
      "outputs": [
        {
          "output_type": "stream",
          "name": "stdout",
          "text": [
            "plus : 15\n",
            "minus : 5\n",
            "multiply : 50\n",
            "divide : 2\n",
            "divide : divide by zero\n"
          ]
        }
      ]
    },
    {
      "cell_type": "code",
      "source": [],
      "metadata": {
        "id": "kA1SeNdq1nQR"
      },
      "execution_count": null,
      "outputs": []
    }
  ]
}
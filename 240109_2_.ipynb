{
  "nbformat": 4,
  "nbformat_minor": 0,
  "metadata": {
    "colab": {
      "provenance": [],
      "authorship_tag": "ABX9TyOFt4TDBMIr/RWUxVQj/woB"
    },
    "kernelspec": {
      "name": "python3",
      "display_name": "Python 3"
    },
    "language_info": {
      "name": "python"
    }
  },
  "cells": [
    {
      "cell_type": "markdown",
      "source": [
        "# 복합 자료형 순회\n",
        "* unpacking_a, b, c = [1, 2, 3] : unpacking\n",
        "* 리스트 안에 문자열이 들어가 있으면 해당 자료형도 언패킹이 가능\n",
        "*  ‘a’, ‘b’, ‘c’ 각각의 값을 받을 변수가 모두 준비되어 있다면 이를 각각의 변수에 할당"
      ],
      "metadata": {
        "id": "TNFM_1rxmKPN"
      }
    },
    {
      "cell_type": "code",
      "source": [
        "for i, j, k in ['abc', 'def', 'ghi']:\n",
        "    print(i, j, k)"
      ],
      "metadata": {
        "colab": {
          "base_uri": "https://localhost:8080/"
        },
        "id": "XoB31W7Kmv7o",
        "outputId": "b47f4ffd-95d8-4081-8453-9ca4c7da9cae"
      },
      "execution_count": 1,
      "outputs": [
        {
          "output_type": "stream",
          "name": "stdout",
          "text": [
            "a b c\n",
            "d e f\n",
            "g h i\n"
          ]
        }
      ]
    },
    {
      "cell_type": "code",
      "source": [
        "for i in ['abc']:\n",
        "    print(i)"
      ],
      "metadata": {
        "colab": {
          "base_uri": "https://localhost:8080/"
        },
        "id": "vlWWzqJsmwqK",
        "outputId": "dcebfd24-58d5-4695-d197-0c7a3046c73f"
      },
      "execution_count": 2,
      "outputs": [
        {
          "output_type": "stream",
          "name": "stdout",
          "text": [
            "abc\n"
          ]
        }
      ]
    },
    {
      "cell_type": "code",
      "source": [
        "# tuple 항목을 가진 리스트를 언팩킹\n",
        "skill = [\n",
        "        ('고기잡이', 100),\n",
        "        ('고기팔기', 120),\n",
        "        ('낚시', 5),\n",
        "        ('통발', 5),\n",
        "        ('큰그물', 5)\n",
        "]\n",
        "\n",
        "for i, j in skill:\n",
        "    print(i, j)"
      ],
      "metadata": {
        "colab": {
          "base_uri": "https://localhost:8080/"
        },
        "id": "rhaqJFOfsCwq",
        "outputId": "40897f8a-00b1-43ad-fcde-d8e246de736b"
      },
      "execution_count": 3,
      "outputs": [
        {
          "output_type": "stream",
          "name": "stdout",
          "text": [
            "고기잡이 100\n",
            "고기팔기 120\n",
            "낚시 5\n",
            "통발 5\n",
            "큰그물 5\n"
          ]
        }
      ]
    },
    {
      "cell_type": "code",
      "source": [
        "# 하나만 리스트여도 쌍이면 상관없이 잘 돌아감\n",
        "skill = [\n",
        "        ('고기잡이', 100, 'SS'),\n",
        "        ('고기팔기', 120, 'SSS'),\n",
        "        ('낚시', 5, 'C'),\n",
        "        ('통발', 5, 'C'),\n",
        "        ('큰그물', 5, 'C')\n",
        "]\n",
        "\n",
        "for skillName, skillLevel, skillGrade in skill:\n",
        "    print(skillName, skillLevel, skillGrade)"
      ],
      "metadata": {
        "colab": {
          "base_uri": "https://localhost:8080/"
        },
        "id": "cF5F1exIsQUH",
        "outputId": "ad1c9f64-0270-4afc-ffc0-f872ca7e18e9"
      },
      "execution_count": 4,
      "outputs": [
        {
          "output_type": "stream",
          "name": "stdout",
          "text": [
            "고기잡이 100 SS\n",
            "고기팔기 120 SSS\n",
            "낚시 5 C\n",
            "통발 5 C\n",
            "큰그물 5 C\n"
          ]
        }
      ]
    },
    {
      "cell_type": "markdown",
      "source": [
        "## enumerate를 사용한 순회 *** 복습하기"
      ],
      "metadata": {
        "id": "O4SUpi3At-Xy"
      }
    },
    {
      "cell_type": "code",
      "source": [
        "# enumerate를 사용한 순회\n",
        "영화누적관객수 = ['레미제라블', '뷰티인사이트', '매트릭스', '인셉션', '어거스트 러쉬']\n",
        "for i in enumerate(영화누적관객수):\n",
        "    print(i)\n",
        "\n",
        "# for i, j in enumerate(영화누적관객수, 1):\n",
        "#     print(f'누적관객수 {i}위! {j}!')\n"
      ],
      "metadata": {
        "colab": {
          "base_uri": "https://localhost:8080/"
        },
        "id": "Awr5JZqxswrh",
        "outputId": "5e796ca5-bcb4-4fe4-f6e3-28fa7932deb5"
      },
      "execution_count": 5,
      "outputs": [
        {
          "output_type": "stream",
          "name": "stdout",
          "text": [
            "(0, '레미제라블')\n",
            "(1, '뷰티인사이트')\n",
            "(2, '매트릭스')\n",
            "(3, '인셉션')\n",
            "(4, '어거스트 러쉬')\n"
          ]
        }
      ]
    },
    {
      "cell_type": "code",
      "source": [
        "for i, j in enumerate(영화누적관객수, 1):   # enumerate 에서 1로 시작\n",
        "    print(f'누적관객수 {i}위! {j}!')"
      ],
      "metadata": {
        "colab": {
          "base_uri": "https://localhost:8080/"
        },
        "id": "oeHmODTct3Ra",
        "outputId": "7b318a21-c63d-49df-daec-7ba724afafb8"
      },
      "execution_count": 6,
      "outputs": [
        {
          "output_type": "stream",
          "name": "stdout",
          "text": [
            "누적관객수 1위! 레미제라블!\n",
            "누적관객수 2위! 뷰티인사이트!\n",
            "누적관객수 3위! 매트릭스!\n",
            "누적관객수 4위! 인셉션!\n",
            "누적관객수 5위! 어거스트 러쉬!\n"
          ]
        }
      ]
    },
    {
      "cell_type": "markdown",
      "source": [
        "# while 구문:\n",
        "    "
      ],
      "metadata": {
        "id": "U4ynpyK5vsB_"
      }
    },
    {
      "cell_type": "markdown",
      "source": [
        "# while 구문:\n",
        "    pass    # 수행할 문장"
      ],
      "metadata": {
        "id": "QbNZjXmAuEiv"
      }
    },
    {
      "cell_type": "code",
      "source": [
        "#\n",
        "a = 1\n",
        "\n",
        "while a < 10 :   # while 은 조건이 참일 때 수행. 순차형 아니더라도 가능\n",
        "    print(a)\n",
        "    a += 1      # 순차형 자료형이 아니므로 없으면 안됨.\n",
        "\n",
        "for i in range(1, 10):  # for는 순차형 자료형의 범위 내에서 수행\n",
        "    print(i)\n"
      ],
      "metadata": {
        "id": "OUWMhcMawPaZ"
      },
      "execution_count": null,
      "outputs": []
    },
    {
      "cell_type": "markdown",
      "source": [
        "## 스무고개 숫자 맞추기\n",
        "* 스무번 안에 숫자 맞추기"
      ],
      "metadata": {
        "id": "jUeDWR6W0_zU"
      }
    },
    {
      "cell_type": "code",
      "source": [
        "\n",
        "number = int(input('숫자를 입력하세요 1에서 100: '))\n",
        "\n",
        "import random\n",
        "\n",
        "secret_num = random.randrange(1, 101)\n",
        "\n",
        "#  정답을 위한 스텝 1\n",
        "if number == secret_num:\n",
        "    print(\"정답\")\n",
        "else:\n",
        "    print(\"틀렸습니다.\")\n",
        ""
      ],
      "metadata": {
        "colab": {
          "base_uri": "https://localhost:8080/"
        },
        "id": "Hot2cGIi007P",
        "outputId": "6e9e270e-b579-4300-d7c8-db213dbc6566"
      },
      "execution_count": 9,
      "outputs": [
        {
          "output_type": "stream",
          "name": "stdout",
          "text": [
            "숫자를 입력하세요 1에서 100: 25\n",
            "틀렸습니다.\n"
          ]
        }
      ]
    },
    {
      "cell_type": "markdown",
      "source": [
        "### 스무번 반복"
      ],
      "metadata": {
        "id": "18QoKgS-44vj"
      }
    },
    {
      "cell_type": "code",
      "source": [
        "# 스무번 반복하는 기능\n",
        "\n",
        "# number = int(input('숫자를 입력하세요 1에서 100: '))\n",
        "\n",
        "import random\n",
        "\n",
        "secret_num = random.randrange(1, 101)\n",
        "\n",
        "#\n",
        "for i in range(20) :\n",
        "    number = random.randrange(1, 101)   # 자동 생성\n",
        "    print(number)\n",
        "    if number == secret_num:\n",
        "        print(f'시도 값은: {number} 이고 정답입니다.')\n",
        "    else:\n",
        "        print(f'시도 값은: {number} 이고 틀렸습니다.')\n",
        "\n"
      ],
      "metadata": {
        "colab": {
          "base_uri": "https://localhost:8080/"
        },
        "id": "TQt1sQi1156c",
        "outputId": "a34d495f-ab7c-47b1-d11d-88ef6b9a6b18"
      },
      "execution_count": 14,
      "outputs": [
        {
          "output_type": "stream",
          "name": "stdout",
          "text": [
            "26\n",
            "시도 값은: 26 이고 \"틀렸습니다.\"\n",
            "19\n",
            "시도 값은: 19 이고 \"틀렸습니다.\"\n",
            "93\n",
            "시도 값은: 93 이고 \"틀렸습니다.\"\n",
            "79\n",
            "시도 값은: 79 이고 \"틀렸습니다.\"\n",
            "73\n",
            "시도 값은: 73 이고 \"틀렸습니다.\"\n",
            "15\n",
            "시도 값은: 15 이고 \"틀렸습니다.\"\n",
            "87\n",
            "시도 값은: 87 이고 \"틀렸습니다.\"\n",
            "37\n",
            "시도 값은: 37 이고 \"정답입니다.\"\n",
            "94\n",
            "시도 값은: 94 이고 \"틀렸습니다.\"\n",
            "65\n",
            "시도 값은: 65 이고 \"틀렸습니다.\"\n",
            "30\n",
            "시도 값은: 30 이고 \"틀렸습니다.\"\n",
            "46\n",
            "시도 값은: 46 이고 \"틀렸습니다.\"\n",
            "59\n",
            "시도 값은: 59 이고 \"틀렸습니다.\"\n",
            "32\n",
            "시도 값은: 32 이고 \"틀렸습니다.\"\n",
            "83\n",
            "시도 값은: 83 이고 \"틀렸습니다.\"\n",
            "65\n",
            "시도 값은: 65 이고 \"틀렸습니다.\"\n",
            "26\n",
            "시도 값은: 26 이고 \"틀렸습니다.\"\n",
            "61\n",
            "시도 값은: 61 이고 \"틀렸습니다.\"\n",
            "40\n",
            "시도 값은: 40 이고 \"틀렸습니다.\"\n",
            "6\n",
            "시도 값은: 6 이고 \"틀렸습니다.\"\n"
          ]
        }
      ]
    },
    {
      "cell_type": "markdown",
      "source": [
        "### 값의 범위를 힌트를 준다"
      ],
      "metadata": {
        "id": "ZD3kUT3A49OF"
      }
    },
    {
      "cell_type": "code",
      "source": [
        "# step 2. up, down hint 주기\n",
        "import random\n",
        "\n",
        "secret_num = random.randrange(1, 101)\n",
        "number = 0\n",
        "print(number, secret_num)\n",
        "\n",
        "def compr(number, secret_num):\n",
        "    if number == secret_num :\n",
        "        commt = '맞았습니다.'\n",
        "    elif number > secret_num:\n",
        "        commt = '그 보다 작은 숫자 입니다,'\n",
        "    elif number < secret_num:\n",
        "        commt = '그 보다 큰 숫자 입니다.'\n",
        "    else:\n",
        "        cmmt = None\n",
        "    return commt\n",
        "\n",
        "for i in range(20) :\n",
        "\n",
        "    tmp = compr(number, secret_num)\n",
        "    print(tmp)\n",
        "\n",
        "    if tmp != '맞았습니다.':\n",
        "        number = int(input('숫자를 입력하세요 1에서 100: '))\n",
        "\n",
        "    elif tmp == '맞았습니다.':\n",
        "        print(f' {i} 번 시도하여 숫자가 맞았습니다.')\n",
        "        break\n",
        "\n",
        "    else:\n",
        "        print(f' {i} 번 시도되었습니다. 종료합니다.')\n"
      ],
      "metadata": {
        "colab": {
          "base_uri": "https://localhost:8080/"
        },
        "id": "1PmJYrYB3Elg",
        "outputId": "4a9858e4-f953-46f9-bac9-3c70d3a6a52d"
      },
      "execution_count": 64,
      "outputs": [
        {
          "output_type": "stream",
          "name": "stdout",
          "text": [
            "0 98\n",
            "그 보다 큰 숫자 입니다.\n",
            "숫자를 입력하세요 1에서 100: 99\n",
            "그 보다 작은 숫자 입니다,\n",
            "숫자를 입력하세요 1에서 100: 70\n",
            "그 보다 큰 숫자 입니다.\n",
            "숫자를 입력하세요 1에서 100: 98\n",
            "맞았습니다.\n",
            " 3 번 시도하여 숫자가 맞았습니다.\n"
          ]
        }
      ]
    },
    {
      "cell_type": "markdown",
      "source": [
        "## 가위바위 보"
      ],
      "metadata": {
        "id": "g45jvZ4JJn3o"
      }
    },
    {
      "cell_type": "code",
      "source": [
        "#\n",
        "import random\n",
        "\n",
        "my_list = ['가위', '바위', '보']\n",
        "\n",
        "user_t = input(\"가위, 바위, 보를 입력해 주세요:  \")\n",
        "\n",
        "if user_t not in my_list:                           # 다른 값을 냈을때 오류 처리\n",
        "    user_t = input(\"가위, 바위, 보 를 정확히 입력해 주셔야 합니다. 다시 입력해 주세요:  \")\n",
        "\n",
        "pc_t = random.choice(my_list)                       # 컴퓨터의 값\n",
        "\n",
        "if user_t == '가위':\n",
        "    if pc_t == '가위':\n",
        "        print(f'컴퓨터는 {pc_t} 였습니다. 결과는 비겼습니다.')\n",
        "    elif pc_t == '바위':\n",
        "        print(f'컴퓨터는 {pc_t} 였습니다. 결과는 컴퓨터가 이겼습니다.')\n",
        "    else:\n",
        "        print(f'컴퓨터는 {pc_t} 였습니다. 결과는 손님이 이겼습니다. ')\n",
        "elif user_t == '바위':\n",
        "    if pc_t == '가위':\n",
        "        print(f'컴퓨터는 {pc_t} 였습니다. 결과는 손님이 이겼습니다.')\n",
        "    elif pc_t == '바위':\n",
        "        print(f'컴퓨터는 {pc_t} 였습니다. 결과는 비겼습니다.')\n",
        "    else:\n",
        "        print(f'컴퓨터는 {pc_t} 였습니다. 결과는 컴퓨터가 이겼습니다. ')\n",
        "elif user_t == '보':\n",
        "    if pc_t == '가위':\n",
        "        print(f'컴퓨터는 {pc_t} 였습니다. 결과는 컴퓨터가 이겼습니다.')\n",
        "    elif pc_t == '바위':\n",
        "        print(f'컴퓨터는 {pc_t} 였습니다. 결과는 손님이 이겼습니다.')\n",
        "    else:\n",
        "        print(f'컴퓨터는 {pc_t} 였습니다. 결과는 비겼습니다.')\n",
        "\n",
        "\n",
        "\n",
        "\n"
      ],
      "metadata": {
        "colab": {
          "base_uri": "https://localhost:8080/"
        },
        "id": "Rh6m88RC7ius",
        "outputId": "a542c64b-82a9-4b30-d2cd-454d99f48e8f"
      },
      "execution_count": 30,
      "outputs": [
        {
          "output_type": "stream",
          "name": "stdout",
          "text": [
            "가위, 바위, 보를 입력해 주세요:  ss\n",
            "가위, 바위, 보 를 정확히 입력해 주셔야 합니다. 다시 입력해 주세요:  가위\n",
            "컴퓨터는 가위 였습니다. 결과는 비겼습니다.\n"
          ]
        }
      ]
    },
    {
      "cell_type": "markdown",
      "source": [
        "## 자습 문제\n",
        "```\n",
        "# 문제 1\n",
        "# 숫자를 하나 입력받아, 그 숫자가 5보다 큰지 확인하는 프로그램을 작성해보세요.\n",
        "\n",
        "# 문제 2\n",
        "# \"안녕하세요!\"를 5번 출력하는 프로그램을 작성해보세요.\n",
        "\n",
        "# 문제3\n",
        "# 1부터 10까지의 숫자 중에서, 짝수만 출력하는 프로그램을 작성해보세요.\n",
        "\n",
        "# 문제4\n",
        "# 1부터 20까지의 숫자 중, 3의 배수만 출력하는 프로그램을 작성하세요.\n",
        "\n",
        "# 문제5\n",
        "# 구구단 2단부터 9단까지 출력하는 프로그램을 작성하세요.\n",
        "```"
      ],
      "metadata": {
        "id": "bYwHV_PvN31O"
      }
    },
    {
      "cell_type": "code",
      "source": [
        "# 문제 1\n",
        "# 숫자를 하나 입력받아, 그 숫자가 5보다 큰지 확인하는 프로그램을 작성해보세요.\n",
        "\n",
        "t = int(input('숫자를 입력해 주세요: '))\n",
        "\n",
        "if t > 5 :\n",
        "    print('5보다 큰 숫자입니다.')\n",
        "else:\n",
        "    print('5보다 작은 숫자입니다.')\n",
        "\n",
        "\n",
        "# 문제 2\n",
        "# \"안녕하세요!\"를 5번 출력하는 프로그램을 작성해보세요.\n",
        "\n",
        "for i in range(5):\n",
        "    print('안녕하세요!')\n",
        "\n",
        "\n",
        "# 문제3\n",
        "# 1부터 10까지의 숫자 중에서, 짝수만 출력하는 프로그램을 작성해보세요.\n",
        "\n",
        "tt = []\n",
        "for i in range(1, 11):\n",
        "    if i % 2 == 0:\n",
        "        print(i)            # 그대로 숫자 하나씩 출력\n",
        "\n",
        "        # tt.append(i)      # 숫자를 리스트에 담아서 한번에 리스트로 출력할 수 있음\n",
        "# print(tt)                 # 리스트의 숫자 출력\n",
        "\n",
        "\n",
        "# 문제4\n",
        "# 1부터 20까지의 숫자 중, 3의 배수만 출력하는 프로그램을 작성하세요.\n",
        "\n",
        "for i in range(1, 21):\n",
        "    if i % 3 == 0:\n",
        "        print(i)\n",
        "\n",
        "\n",
        "문제5\n",
        "구구단 2단부터 9단까지 출력하는 프로그램을 작성하세요.\n",
        "\n",
        "for i in range(2, 10):\n",
        "    print(f'----- {i} 단 -----')\n",
        "    for j in range(2, 10):\n",
        "        print(f'{i} * {j} = {i * j}')\n",
        "\n"
      ],
      "metadata": {
        "colab": {
          "base_uri": "https://localhost:8080/"
        },
        "id": "WSRIrSWo72LP",
        "outputId": "46449cf7-3825-4f68-cf3b-59b8ddb3dd65"
      },
      "execution_count": 47,
      "outputs": [
        {
          "output_type": "stream",
          "name": "stdout",
          "text": [
            "----- 2 단 -----\n",
            "2 * 2 = 4\n",
            "2 * 3 = 6\n",
            "2 * 4 = 8\n",
            "2 * 5 = 10\n",
            "2 * 6 = 12\n",
            "2 * 7 = 14\n",
            "2 * 8 = 16\n",
            "2 * 9 = 18\n",
            "----- 3 단 -----\n",
            "3 * 2 = 6\n",
            "3 * 3 = 9\n",
            "3 * 4 = 12\n",
            "3 * 5 = 15\n",
            "3 * 6 = 18\n",
            "3 * 7 = 21\n",
            "3 * 8 = 24\n",
            "3 * 9 = 27\n",
            "----- 4 단 -----\n",
            "4 * 2 = 8\n",
            "4 * 3 = 12\n",
            "4 * 4 = 16\n",
            "4 * 5 = 20\n",
            "4 * 6 = 24\n",
            "4 * 7 = 28\n",
            "4 * 8 = 32\n",
            "4 * 9 = 36\n",
            "----- 5 단 -----\n",
            "5 * 2 = 10\n",
            "5 * 3 = 15\n",
            "5 * 4 = 20\n",
            "5 * 5 = 25\n",
            "5 * 6 = 30\n",
            "5 * 7 = 35\n",
            "5 * 8 = 40\n",
            "5 * 9 = 45\n",
            "----- 6 단 -----\n",
            "6 * 2 = 12\n",
            "6 * 3 = 18\n",
            "6 * 4 = 24\n",
            "6 * 5 = 30\n",
            "6 * 6 = 36\n",
            "6 * 7 = 42\n",
            "6 * 8 = 48\n",
            "6 * 9 = 54\n",
            "----- 7 단 -----\n",
            "7 * 2 = 14\n",
            "7 * 3 = 21\n",
            "7 * 4 = 28\n",
            "7 * 5 = 35\n",
            "7 * 6 = 42\n",
            "7 * 7 = 49\n",
            "7 * 8 = 56\n",
            "7 * 9 = 63\n",
            "----- 8 단 -----\n",
            "8 * 2 = 16\n",
            "8 * 3 = 24\n",
            "8 * 4 = 32\n",
            "8 * 5 = 40\n",
            "8 * 6 = 48\n",
            "8 * 7 = 56\n",
            "8 * 8 = 64\n",
            "8 * 9 = 72\n",
            "----- 9 단 -----\n",
            "9 * 2 = 18\n",
            "9 * 3 = 27\n",
            "9 * 4 = 36\n",
            "9 * 5 = 45\n",
            "9 * 6 = 54\n",
            "9 * 7 = 63\n",
            "9 * 8 = 72\n",
            "9 * 9 = 81\n"
          ]
        }
      ]
    },
    {
      "cell_type": "code",
      "source": [
        "\n"
      ],
      "metadata": {
        "id": "4Ugj7lgDOgZ5"
      },
      "execution_count": null,
      "outputs": []
    }
  ]
}
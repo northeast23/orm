{
  "nbformat": 4,
  "nbformat_minor": 0,
  "metadata": {
    "colab": {
      "provenance": [],
      "authorship_tag": "ABX9TyMOt5MJq0yvo6+hyPtngCa6"
    },
    "kernelspec": {
      "name": "python3",
      "display_name": "Python 3"
    },
    "language_info": {
      "name": "python"
    }
  },
  "cells": [
    {
      "cell_type": "markdown",
      "source": [
        "```\n",
        "다음 값은 어떤 값이 출력되는지 이유를 설명하세요.\n",
        "1.1 'hello' and 1\n",
        "1.2 10 or 'hello world'\n",
        "\n",
        "아래 dict에 'three' key를 이용하여 '3'라는 값을 출력해주세요. 없을 경우 애러가 나는 것이 아니라 '3'이라는 값을 출력해야 합니다.\n",
        "d = {'one': 1, 'two': 2}\n",
        "\n",
        "다음 리스트에서 100은 어떻게 꺼낼 수 있나요?\n",
        "l = [1, [10, 20], [3, [100, 200], 5]]\n",
        "\n",
        "아래 숫자를 모두 더해주세요.\n",
        "l = [[1, 2], [3, 4]]\n",
        "\n",
        "(난이도 있는 문제) filter를 사용하여 아래 리스트에서 짝수를 모두 더하는 코드를 작성해주세요.\n",
        "l = [1, 2, 3, 4, 5, 6, 7, 8, 9, 10]\n",
        "정답: 30\n",
        "```"
      ],
      "metadata": {
        "id": "RfXCQgqmdpgc"
      }
    },
    {
      "cell_type": "code",
      "execution_count": 28,
      "metadata": {
        "colab": {
          "base_uri": "https://localhost:8080/"
        },
        "id": "kmjrJxjPdHD-",
        "outputId": "8850adb0-11e3-40f2-f896-6e7c0ecba05f"
      },
      "outputs": [
        {
          "output_type": "execute_result",
          "data": {
            "text/plain": [
              "30"
            ]
          },
          "metadata": {},
          "execution_count": 28
        }
      ],
      "source": [
        "### 1\n",
        "'hello' and 1         # --> True. 둘다 참이라 True 값 1\n",
        "10 or 'hello world'   # --> True. 둘 중 하나만 참이면 or 이전 수행하고 단락평가. 값이 10 이라 10 출력\n",
        "\n",
        "### 2\n",
        "d = {'one': 1, 'two': 2}\n",
        "d.get('three',3)\n",
        "\n",
        "### 3. 100 을 꺼내기\n",
        "l = [1, [10, 20], [3, [100, 200], 5]]\n",
        "l[2][1][0]\n",
        "\n",
        "### 4. 모두 더하기\n",
        "l = [[1,2], [3, 4]]\n",
        "sum(sum(l,[]), 0)\n",
        "\n",
        "### 5. (난이도 있는 문제) filter를 사용하여 아래 리스트에서 짝수를 모두 더하는 코드를 작성해주세요.\n",
        "# l = [1, 2, 3, 4, 5, 6, 7, 8, 9, 10]\n",
        "# def f(x):\n",
        "#     return x != 1\n",
        "\n",
        "# l = [1, 1, 1, 1, 2, 2, 3, 3, 3]\n",
        "# list(filter(f, l))\n",
        "\n",
        "l = [1, 2, 3, 4, 5, 6, 7, 8, 9, 10]\n",
        "# 짝수를 먼저 찾고 ( %2 == 0 )\n",
        "\n",
        "def f(x):\n",
        "    y = x % 2\n",
        "    return y == (0)\n",
        "\n",
        "sum(list(filter(f, l)), 0)\n",
        "\n",
        "\n"
      ]
    }
  ]
}
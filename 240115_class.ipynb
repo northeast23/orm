{
  "nbformat": 4,
  "nbformat_minor": 0,
  "metadata": {
    "colab": {
      "provenance": [],
      "authorship_tag": "ABX9TyMZQ14Bvv66OF7r15GMa956"
    },
    "kernelspec": {
      "name": "python3",
      "display_name": "Python 3"
    },
    "language_info": {
      "name": "python"
    }
  },
  "cells": [
    {
      "cell_type": "markdown",
      "source": [],
      "metadata": {
        "id": "Z6PDb4HAgThV"
      }
    },
    {
      "cell_type": "code",
      "execution_count": 1,
      "metadata": {
        "id": "2H3DNTlugSDI"
      },
      "outputs": [],
      "source": [
        "from datetime import datetime\n"
      ]
    },
    {
      "cell_type": "code",
      "source": [
        "datetime.now()"
      ],
      "metadata": {
        "colab": {
          "base_uri": "https://localhost:8080/"
        },
        "id": "JNuz0qzdgW3H",
        "outputId": "e4f119e4-65c9-42de-c410-11801ad326a0"
      },
      "execution_count": 2,
      "outputs": [
        {
          "output_type": "execute_result",
          "data": {
            "text/plain": [
              "datetime.datetime(2024, 1, 15, 5, 4, 19, 199057)"
            ]
          },
          "metadata": {},
          "execution_count": 2
        }
      ]
    },
    {
      "cell_type": "code",
      "source": [
        "datetime.now().date()"
      ],
      "metadata": {
        "colab": {
          "base_uri": "https://localhost:8080/"
        },
        "id": "ABFgpQ78gZkU",
        "outputId": "2fc2e10a-b19c-4851-e064-67468a6d6749"
      },
      "execution_count": 4,
      "outputs": [
        {
          "output_type": "execute_result",
          "data": {
            "text/plain": [
              "datetime.date(2024, 1, 15)"
            ]
          },
          "metadata": {},
          "execution_count": 4
        }
      ]
    },
    {
      "cell_type": "code",
      "source": [
        "datetime.now().year\n"
      ],
      "metadata": {
        "colab": {
          "base_uri": "https://localhost:8080/"
        },
        "id": "70ZqfCIAglCs",
        "outputId": "0a9d8b8b-dd2a-421e-b1ff-6e2efa26923d"
      },
      "execution_count": 5,
      "outputs": [
        {
          "output_type": "execute_result",
          "data": {
            "text/plain": [
              "2024"
            ]
          },
          "metadata": {},
          "execution_count": 5
        }
      ]
    },
    {
      "cell_type": "code",
      "source": [
        "datetime.now().month"
      ],
      "metadata": {
        "colab": {
          "base_uri": "https://localhost:8080/"
        },
        "id": "SirNXSPsgp8Q",
        "outputId": "db8b65ee-194d-46d4-9dea-384fad8a8222"
      },
      "execution_count": 6,
      "outputs": [
        {
          "output_type": "execute_result",
          "data": {
            "text/plain": [
              "1"
            ]
          },
          "metadata": {},
          "execution_count": 6
        }
      ]
    },
    {
      "cell_type": "code",
      "source": [
        "datetime.now().day"
      ],
      "metadata": {
        "colab": {
          "base_uri": "https://localhost:8080/"
        },
        "id": "TLzeuKLJgrs4",
        "outputId": "de0ca4a5-9919-4539-f490-ecf26cb52e8e"
      },
      "execution_count": 7,
      "outputs": [
        {
          "output_type": "execute_result",
          "data": {
            "text/plain": [
              "15"
            ]
          },
          "metadata": {},
          "execution_count": 7
        }
      ]
    },
    {
      "cell_type": "code",
      "source": [
        "datetime.now().hour"
      ],
      "metadata": {
        "colab": {
          "base_uri": "https://localhost:8080/"
        },
        "id": "ksdmFN8Rgs_8",
        "outputId": "5357f629-f6ba-4c0e-c482-2a271083af24"
      },
      "execution_count": 8,
      "outputs": [
        {
          "output_type": "execute_result",
          "data": {
            "text/plain": [
              "5"
            ]
          },
          "metadata": {},
          "execution_count": 8
        }
      ]
    },
    {
      "cell_type": "code",
      "source": [
        "datetime.now().minute"
      ],
      "metadata": {
        "colab": {
          "base_uri": "https://localhost:8080/"
        },
        "id": "mm1c-SWigur1",
        "outputId": "a2f9adf7-d328-4677-8abc-160037116f6d"
      },
      "execution_count": 9,
      "outputs": [
        {
          "output_type": "execute_result",
          "data": {
            "text/plain": [
              "5"
            ]
          },
          "metadata": {},
          "execution_count": 9
        }
      ]
    },
    {
      "cell_type": "code",
      "source": [
        "d = datetime.now()  # date time 은 포맷이 있음.\n",
        "print(f'{d.year}/{d.month}/{d.day}')\n"
      ],
      "metadata": {
        "colab": {
          "base_uri": "https://localhost:8080/"
        },
        "id": "Pa1w5ZaIgwzt",
        "outputId": "ff141c82-9831-4063-9a88-e6f5fe584ee4"
      },
      "execution_count": 10,
      "outputs": [
        {
          "output_type": "stream",
          "name": "stdout",
          "text": [
            "2024/1/15\n"
          ]
        }
      ]
    },
    {
      "cell_type": "code",
      "source": [
        "d.strftime('올해 연도는 %Y')"
      ],
      "metadata": {
        "colab": {
          "base_uri": "https://localhost:8080/",
          "height": 36
        },
        "id": "un4Gm0ttg_Gu",
        "outputId": "972952a7-9dda-4e47-b87f-0d82ce88a9df"
      },
      "execution_count": 12,
      "outputs": [
        {
          "output_type": "execute_result",
          "data": {
            "text/plain": [
              "'올해 연도는 2024'"
            ],
            "application/vnd.google.colaboratory.intrinsic+json": {
              "type": "string"
            }
          },
          "metadata": {},
          "execution_count": 12
        }
      ]
    },
    {
      "cell_type": "code",
      "source": [
        "d.strftime('%Y/%m/%d')  # 자주 사용하는 형태 연도를 대문자 Y"
      ],
      "metadata": {
        "colab": {
          "base_uri": "https://localhost:8080/",
          "height": 36
        },
        "id": "9Ns8nxXohTOO",
        "outputId": "ca61aa41-2a89-4de3-e91a-521f6598829d"
      },
      "execution_count": 14,
      "outputs": [
        {
          "output_type": "execute_result",
          "data": {
            "text/plain": [
              "'2024/01/15'"
            ],
            "application/vnd.google.colaboratory.intrinsic+json": {
              "type": "string"
            }
          },
          "metadata": {},
          "execution_count": 14
        }
      ]
    },
    {
      "cell_type": "code",
      "source": [
        "d.strftime('%y/%m/%d')  # 소문자 %"
      ],
      "metadata": {
        "colab": {
          "base_uri": "https://localhost:8080/",
          "height": 36
        },
        "id": "f-GUdelFhd5c",
        "outputId": "d9981c64-5924-4d7a-eed7-f22ec22b9029"
      },
      "execution_count": 15,
      "outputs": [
        {
          "output_type": "execute_result",
          "data": {
            "text/plain": [
              "'24/01/15'"
            ],
            "application/vnd.google.colaboratory.intrinsic+json": {
              "type": "string"
            }
          },
          "metadata": {},
          "execution_count": 15
        }
      ]
    },
    {
      "cell_type": "markdown",
      "source": [
        "## class User()"
      ],
      "metadata": {
        "id": "hMoscKhOiAeC"
      }
    },
    {
      "cell_type": "code",
      "source": [
        "class User:\n",
        "    # 모든 클래스에서 공유해야 하는 변수를 여기에 정의\n",
        "    # 공통 메모리 영역이라고 생각\n",
        "    # 인스턴스는 클래스 변수의 주소를 가짐. 그래서 클래스 변수값이 변경되면 모두 공유\n",
        "    # 클래스 변수값이 수정이 안되는 것이 아님.\n",
        "    user_count = 0\n",
        "    gender = ('남', '여')\n",
        "\n",
        "def __init__(self, name, gender, age, email, password):\n",
        "    self.name = name\n",
        "    self.gender = gender\n",
        "    self.age = age\n",
        "    self.email = email\n",
        "    self.password = password  # 오류 나는 경우도 많고, 이렇게 저장하면 안됨.암호화 필요\n",
        "    # (Django 에서도 이렇게 저장해서 오류나는 경우 많음)\n",
        "    # Django 에서도 sha256을 사용. 은행권에서는 알고리즘이 깨졌다고 보고 있음.\n",
        "    # MD5 라는 알고리즘을 암호화 알고리즘으로 많이 사용했으나 깨졌음. 레인보우 어택\n",
        "    # 해쉬알고리즘은 암호화는 되지만 복호화가 안됨. 해킹되어도 암호는 해킹안됨\n",
        "    # 비번+salt(그냥 의미없이 붙여쓰는 문자. 공개안함)\n",
        "    # self.password = 39743FFC/FB179CEB/A590B68F/FF1A7C65/A9DB72B3/A5AD63E/E01A66C6/896A07311 + salt\n",
        "    # 은행권은 sha512 사용하려고 노력. 서비스 부하가 심해짐. 효용성 고려\n",
        "    # instance 의 영역을 나타내는 것이 self\n",
        "\n",
        "user1 = User('이호준', '2024/01/15', '남', 15, 'hojun@gmail.com', '1q2w3e4r!')\n",
        "user1.name\n"
      ],
      "metadata": {
        "id": "nxM7zknxiDva"
      },
      "execution_count": null,
      "outputs": []
    },
    {
      "cell_type": "code",
      "source": [
        "def f():\n",
        "    return      # return 이 None 이면 출력이 아예 없음"
      ],
      "metadata": {
        "id": "yJnJa4xemft-"
      },
      "execution_count": 18,
      "outputs": []
    },
    {
      "cell_type": "code",
      "source": [
        "print(f)"
      ],
      "metadata": {
        "colab": {
          "base_uri": "https://localhost:8080/"
        },
        "id": "21Y3M4s5qH6U",
        "outputId": "2798d298-3e9b-44f8-ddd3-4b7c0ee00ab0"
      },
      "execution_count": 19,
      "outputs": [
        {
          "output_type": "stream",
          "name": "stdout",
          "text": [
            "<function f at 0x7970be0928c0>\n"
          ]
        }
      ]
    },
    {
      "cell_type": "code",
      "source": [
        "from datetime import datetime\n",
        "\n",
        "class User:\n",
        "    user_count = 0\n",
        "    gender = ('남', '여')\n",
        "\n",
        "    def __init__(self, name, joindate, gender, age, email, password):\n",
        "        self.joindate = joindate\n",
        "        self.accessdate = joindate\n",
        "        self.name = name\n",
        "        self.gender = gender\n",
        "        self.age = age\n",
        "        self.email = email\n",
        "        self.password = password\n",
        "\n",
        "    def change_password(self, password):\n",
        "        self.password = password\n",
        "        self.accessdate = datetime.now().strftime('%Y/%m/%d')\n",
        "\n",
        "    def update_email(self, email):\n",
        "        self.email = email\n",
        "        self.accessdate = datetime.now().strftime('%Y/%m/%d')\n",
        "\n",
        "    def display_profile(self):\n",
        "        print(f'name: {self.name}')\n",
        "        print(f'joindate: {self.joindate}')\n",
        "        print(f'accessdate: {self.accessdate}')\n",
        "\n",
        "    def __str__(self):\n",
        "        return self.name\n",
        "\n",
        "    def __repr__(self):\n",
        "        return self.name\n",
        "\n",
        "user1 = User('이호준', '2024/01/15', '남', 15, 'hojun@gmail.com', '1q2w3e4r!')\n",
        "user2 = User('홍길동', '2024/01/15', '남', 30, 'gildong@gmail.com', '1q2w3e4r!!')\n",
        "\n",
        "print(user1)"
      ],
      "metadata": {
        "colab": {
          "base_uri": "https://localhost:8080/"
        },
        "id": "-UGNG1IHqJVe",
        "outputId": "5f254fa8-bc4c-4081-cce5-c1b6453d4b36"
      },
      "execution_count": 20,
      "outputs": [
        {
          "output_type": "stream",
          "name": "stdout",
          "text": [
            "이호준\n"
          ]
        }
      ]
    },
    {
      "cell_type": "code",
      "source": [
        "# 수정된 버전\n",
        "# 이해 X, 복습 X\n",
        "import hashlib\n",
        "import re\n",
        "from datetime import datetime\n",
        "\n",
        "class User:\n",
        "    user_count = 0\n",
        "    gender = ('남', '여')\n",
        "\n",
        "    def __init__(self, name, joindate, gender, age, email, password):\n",
        "        self.joindate = joindate\n",
        "        self.accessdate = joindate\n",
        "        self.name = name\n",
        "        self.gender = gender\n",
        "        self.age = age\n",
        "        self.email = email\n",
        "        self.password = self._hash_password(password)\n",
        "\n",
        "    def _hash_password(self, password):\n",
        "        return hashlib.sha256(password.encode()).hexdigest()\n",
        "\n",
        "    def change_password(self, password): # django의 user.set_password('비밀번호')와 비슷한 역할\n",
        "        if len(password) < 8: # validate 또는 유효성 검증이라고 합니다.\n",
        "            print('너무 짧습니다!')\n",
        "            return\n",
        "        self.password = self._hash_password(password)\n",
        "        self.accessdate = datetime.now().strftime('%Y/%m/%d')\n",
        "\n",
        "    def update_email(self, email):\n",
        "        if self._validate_email(email):\n",
        "            self.email = email\n",
        "            self.accessdate = datetime.now().strftime('%Y/%m/%d')\n",
        "        else:\n",
        "            print(\"유효하지 않은 이메일 주소입니다.\")\n",
        "\n",
        "    def _validate_email(self, email):\n",
        "        pattern = r\"[\\w.-]+@[\\w.-]+\\.\\w+\"\n",
        "        return re.match(pattern, email) is not None\n",
        "\n",
        "    def display_profile(self):\n",
        "        print(f'name: {self.name}')\n",
        "        print(f'joindate: {self.joindate}')\n",
        "        print(f'accessdate: {self.accessdate}')\n",
        "        print(f'email: {self.email}')\n",
        "\n",
        "    def __str__(self):\n",
        "        return self.name\n",
        "\n",
        "    def __repr__(self):\n",
        "        return self.name\n",
        "\n",
        "user1 = User('이호준', '2024/01/15', '남', 15, 'hojun@gmail.com', '1q2w3e4r!')\n",
        "user2 = User('홍길동', '2024/01/15', '남', 30, 'gildong@gmail.com', '1q2w3e4r!!')\n",
        "\n",
        "print(user1)\n",
        "user1.display_profile()\n",
        "user1.password"
      ],
      "metadata": {
        "colab": {
          "base_uri": "https://localhost:8080/",
          "height": 128
        },
        "id": "hl2qNKPxrpAt",
        "outputId": "2db6c9f9-cb5f-4550-8f66-6511c5fff64d"
      },
      "execution_count": 21,
      "outputs": [
        {
          "output_type": "stream",
          "name": "stdout",
          "text": [
            "이호준\n",
            "name: 이호준\n",
            "joindate: 2024/01/15\n",
            "accessdate: 2024/01/15\n",
            "email: hojun@gmail.com\n"
          ]
        },
        {
          "output_type": "execute_result",
          "data": {
            "text/plain": [
              "'febd93f04bda1aec0d374f8fd014d062525934feb1f1b81ee7c64d61f66b84b1'"
            ],
            "application/vnd.google.colaboratory.intrinsic+json": {
              "type": "string"
            }
          },
          "metadata": {},
          "execution_count": 21
        }
      ]
    },
    {
      "cell_type": "markdown",
      "source": [
        "## class Cart:, Product:"
      ],
      "metadata": {
        "id": "3-dK5Ay-uqbC"
      }
    },
    {
      "cell_type": "code",
      "source": [
        "# 온라인 쇼핑몰에서 장바구니에 넣기\n",
        "\n",
        "class Cart:\n",
        "    def __init__(self):\n",
        "        self.items = []\n",
        "\n",
        "    def add_item(self, item, count):\n",
        "        self.items.append({\n",
        "            '물품': item,\n",
        "            '갯수': count,\n",
        "        })\n",
        "\n",
        "class Product:\n",
        "    def __init__(self, product_name, price):\n",
        "        self.product_name = product_name\n",
        "        self.price = price\n",
        "\n",
        "    def __repr__(self):\n",
        "        return 'hello world'\n",
        "\n",
        "로지텍키보드 = Product('로지텍키보드', 50000)\n",
        "LG모니터 = Product('LG모니터', 300000)\n",
        "그래픽카드4090 = Product('GTX4090', 2000000)\n",
        "\n",
        "hojun_cart = Cart()\n",
        "hojun_cart.add_item(로지텍키보드, 10)\n",
        "hojun_cart.add_item(LG모니터, 10)\n",
        "hojun_cart.add_item(그래픽카드4090, 2)\n",
        "hojun_cart.items"
      ],
      "metadata": {
        "colab": {
          "base_uri": "https://localhost:8080/"
        },
        "id": "0BwSl4lhumLs",
        "outputId": "e971b05c-f96f-43ed-e483-5b3574c5cfe5"
      },
      "execution_count": 22,
      "outputs": [
        {
          "output_type": "execute_result",
          "data": {
            "text/plain": [
              "[{'물품': hello world, '갯수': 10},\n",
              " {'물품': hello world, '갯수': 10},\n",
              " {'물품': hello world, '갯수': 2}]"
            ]
          },
          "metadata": {},
          "execution_count": 22
        }
      ]
    },
    {
      "cell_type": "code",
      "source": [
        "# 온라인 쇼핑몰에서 장바구니에 넣기\n",
        "\n",
        "class Cart:\n",
        "    def __init__(self):\n",
        "        self.items = []\n",
        "\n",
        "    def add_item(self, item, count):\n",
        "        self.items.append({\n",
        "            '물품': item,\n",
        "            '갯수': count,\n",
        "        })\n",
        "\n",
        "    def total_price(self):\n",
        "        total_sum = 0\n",
        "        for i in self.items:\n",
        "            total_sum += i['물품'].price * i['갯수']\n",
        "        return format(total_sum, ',')\n",
        "\n",
        "class Product:\n",
        "    def __init__(self, product_name, price):\n",
        "        self.product_name = product_name\n",
        "        self.price = price\n",
        "\n",
        "    def __str__(self):\n",
        "        return self.product_name\n",
        "\n",
        "    def __repr__(self):\n",
        "        return self.product_name\n",
        "\n",
        "로지텍키보드 = Product('로지텍키보드', 50000)\n",
        "LG모니터 = Product('LG모니터', 300000)\n",
        "그래픽카드4090 = Product('GTX4090', 2000000)\n",
        "\n",
        "hojun_cart = Cart()\n",
        "hojun_cart.add_item(로지텍키보드, 10)\n",
        "hojun_cart.add_item(LG모니터, 10)\n",
        "hojun_cart.add_item(그래픽카드4090, 2)\n",
        "hojun_cart.items\n",
        "hojun_cart.total_price()"
      ],
      "metadata": {
        "colab": {
          "base_uri": "https://localhost:8080/",
          "height": 36
        },
        "id": "C4c6hjqrxP7E",
        "outputId": "21fe2366-4d8f-48c3-a8f2-c39acf6f41ff"
      },
      "execution_count": 27,
      "outputs": [
        {
          "output_type": "execute_result",
          "data": {
            "text/plain": [
              "'7,500,000'"
            ],
            "application/vnd.google.colaboratory.intrinsic+json": {
              "type": "string"
            }
          },
          "metadata": {},
          "execution_count": 27
        }
      ]
    },
    {
      "cell_type": "markdown",
      "source": [
        "## class 변수를 변경할떄는 class method(cls):\n",
        "* cls 그대로 사용하자\n"
      ],
      "metadata": {
        "id": "gt92anlazI48"
      }
    },
    {
      "cell_type": "code",
      "source": [
        "class MyClass:\n",
        "    count = 0\n",
        "\n",
        "    @classmethod\n",
        "    def increment(cls):     # class 의 변경\n",
        "        cls.count += 1\n",
        "\n",
        "MyClass.increment()\n",
        "print(MyClass.count)  # 출력: 1"
      ],
      "metadata": {
        "colab": {
          "base_uri": "https://localhost:8080/"
        },
        "id": "Y1Dj4WC5xk_N",
        "outputId": "eb538771-1b53-4ae6-cf17-c8be336f516a"
      },
      "execution_count": 28,
      "outputs": [
        {
          "output_type": "stream",
          "name": "stdout",
          "text": [
            "1\n"
          ]
        }
      ]
    },
    {
      "cell_type": "markdown",
      "source": [
        "## 정적 메쏘드: self로 내부변수 접근 안됨\n",
        "책 클래스의 할인율처럼 밖으로 빼기 부담스러운것들 정의"
      ],
      "metadata": {
        "id": "eZfz4sIJz_Fl"
      }
    },
    {
      "cell_type": "code",
      "source": [
        "class MyClass:\n",
        "    @staticmethod\n",
        "    def my_method(x, y):\n",
        "        return x + y\n",
        "\n",
        "print(MyClass.my_method(5, 3))  # 출력: 8"
      ],
      "metadata": {
        "id": "5XlO5sFSzbyW"
      },
      "execution_count": null,
      "outputs": []
    },
    {
      "cell_type": "code",
      "source": [
        "class Book:\n",
        "    def __init__(self, name, price):\n",
        "        self.name = name\n",
        "        self.price = price\n",
        "\n",
        "    @staticmethod       # 관련있는 메쏘드를 클래스 안에 포함\n",
        "    def 할인율(원가, 할인):\n",
        "        return 원가 * (1-(할인/100))\n",
        "\n",
        "boo1 = Book('python 100제', 9000)\n",
        "\n",
        "Book.할인율(boo1.price, 10) # 밖으로 뺄 수 있는 함수이고, 굳이 안에 들어갈 필요가 없죠?\n",
        "# 그런데 할인율은 Book과 연관이 있습니다.\n",
        "# 이렇게 코딩을 하시면 유지보수하기가 좋습니다."
      ],
      "metadata": {
        "colab": {
          "base_uri": "https://localhost:8080/"
        },
        "id": "CWagCUjz0ZsV",
        "outputId": "09f3b73d-54c7-4988-c9a0-64197b227a8b"
      },
      "execution_count": 29,
      "outputs": [
        {
          "output_type": "execute_result",
          "data": {
            "text/plain": [
              "8100.0"
            ]
          },
          "metadata": {},
          "execution_count": 29
        }
      ]
    },
    {
      "cell_type": "code",
      "source": [
        "# 비권장하는 케이스\n",
        "\n",
        "class Book:\n",
        "    def __init__(self, name, price):\n",
        "        self.name = name\n",
        "        self.price = price\n",
        "\n",
        "def 할인율(원가, 할인):\n",
        "    return 원가 * (1-(할인/100))\n",
        "\n",
        "boo1 = Book('python 100제', 9000)\n",
        "\n",
        "할인율(boo1.price, 10)"
      ],
      "metadata": {
        "colab": {
          "base_uri": "https://localhost:8080/"
        },
        "id": "9mwjww3Z1qoy",
        "outputId": "d79d6848-2cfb-4546-e620-f24e7f24f85b"
      },
      "execution_count": 30,
      "outputs": [
        {
          "output_type": "execute_result",
          "data": {
            "text/plain": [
              "8100.0"
            ]
          },
          "metadata": {},
          "execution_count": 30
        }
      ]
    },
    {
      "cell_type": "markdown",
      "source": [
        "## 속성 접근자\n",
        "* 드물게 보게됨. property 라는 데코레이터 사용.\n",
        "* 중요도 높지 않음.\n"
      ],
      "metadata": {
        "id": "SVfMrme_1_Na"
      }
    },
    {
      "cell_type": "code",
      "source": [
        "class Person:\n",
        "    def __init__(self, first_name, last_name):\n",
        "        self._first_name = first_name\n",
        "        self._last_name = last_name\n",
        "\n",
        "    @property\n",
        "    def full_name(self):\n",
        "        return f'{self._first_name}{self._last_name}'\n",
        "\n",
        "licat = Person('li', 'cat')\n",
        "print(licat._first_name)\n",
        "print(licat._last_name)\n",
        "print(licat.full_name)  # method 를 속성처럼 사용 () 안붙음.\n",
        "# print(licat.full_name())"
      ],
      "metadata": {
        "colab": {
          "base_uri": "https://localhost:8080/"
        },
        "id": "8mvlhd_K1wzr",
        "outputId": "fbab07c7-837b-4d5d-91e0-88a535a68926"
      },
      "execution_count": 31,
      "outputs": [
        {
          "output_type": "stream",
          "name": "stdout",
          "text": [
            "li\n",
            "cat\n",
            "licat\n"
          ]
        }
      ]
    },
    {
      "cell_type": "markdown",
      "source": [
        "## Duck Typing"
      ],
      "metadata": {
        "id": "CBgaqftU203p"
      }
    },
    {
      "cell_type": "code",
      "source": [
        "\n",
        "# 덕타이핑\n",
        "# https://world.weniv.co.kr/\n",
        "\n",
        "# licat.move()\n",
        "# move() => 직관적이고 누가 움직이는지는 알고 싶지 않고 주인공을 앞으로 한 칸 움직이고 싶다.\n",
        "\n",
        "class Duck:\n",
        "    def quack(self):\n",
        "        print('꽥꽥!')\n",
        "\n",
        "class Person:\n",
        "    def quack(self):\n",
        "        print(\"안녕하세요!\")\n",
        "\n",
        "def quack(obj):\n",
        "    obj.quack()\n",
        "\n",
        "duck = Duck()\n",
        "person = Person()\n",
        "\n",
        "quack(duck)  # 출력: 꽥꽥! duck.quack() 대신 quack(duck)를 사용하겠다.\n"
      ],
      "metadata": {
        "id": "_wTNQHPj2G_E"
      },
      "execution_count": null,
      "outputs": []
    },
    {
      "cell_type": "markdown",
      "source": [
        "## 메서드 오버라이딩 ************\n",
        "* 하위클래스에서 상위클래스의 메쏘드를 재정의(덮어쓰는) 하는 것\n"
      ],
      "metadata": {
        "id": "uuVQGn0J3_jy"
      }
    },
    {
      "cell_type": "code",
      "source": [
        "# 오버라이딩\n",
        "# 자식이 부모의 메서드를 덮어 쓰는 것\n",
        "\n",
        "class Animal:\n",
        "    def sound(self):\n",
        "        print(\"기본 동물 울음 소리, 악!\")\n",
        "\n",
        "class Dog(Animal):\n",
        "    def sound(self):\n",
        "        print(\"왈왈!\")\n",
        "\n",
        "class Cat(Animal):\n",
        "    def sound(self):\n",
        "        print(\"냐옹!\")\n",
        "\n",
        "# super()를 사용해서 부모의 메서드를 사용 할 수 있습니다.\n",
        "class Bird(Animal):\n",
        "    def sound(self):\n",
        "        super().sound()\n",
        "        print(\"짹짹!\")\n",
        "\n",
        "b = Bird()\n",
        "b.sound()"
      ],
      "metadata": {
        "id": "DZpkGIwi4ggY"
      },
      "execution_count": 32,
      "outputs": []
    },
    {
      "cell_type": "code",
      "source": [
        "class Person:\n",
        "    def __init__(self, name):\n",
        "        self.name = name\n",
        "\n",
        "class Student(Person):\n",
        "    def __init__(self, name, student_id):\n",
        "        super().__init__(name)  # 부모 클래스의 __init__ 메서드 호출\n",
        "        # self.name = name 위 코드와 이코드는 동일합니다.\n",
        "        self.student_id = student_id\n",
        "\n",
        "s = Student(\"Alice\", \"S12345\")\n",
        "print(s.name)        # 출력: Alice\n",
        "print(s.student_id)  # 출력: S12345\n"
      ],
      "metadata": {
        "colab": {
          "base_uri": "https://localhost:8080/"
        },
        "id": "JvZ1BmYz73nT",
        "outputId": "ee269019-cf5e-40d7-cc86-94a55f9a003f"
      },
      "execution_count": 34,
      "outputs": [
        {
          "output_type": "stream",
          "name": "stdout",
          "text": [
            "Alice\n",
            "S12345\n"
          ]
        }
      ]
    },
    {
      "cell_type": "markdown",
      "source": [
        "## 추상 클래스와 인터페이스\n",
        "* (Abstract Base Class, ABC)\n",
        "* 인터페이스 구현시 자주 사용"
      ],
      "metadata": {
        "id": "aVQ3voHb82vd"
      }
    },
    {
      "cell_type": "markdown",
      "source": [
        "* 중요도는 높지만 사용빈도가 낮음\n",
        "* 반드시 구현해야 하는 메서드를 정의하는데 사용\n",
        "* 그것을 상속한 클래스에서는 반드시 그 메소드를 구현해야 함.\n",
        "* 게시판의 경우 게시물 업데이트 날짜, 생성 날짜를 추상 클래스로 구현할 수 있음."
      ],
      "metadata": {
        "id": "vs-4vT__9eI1"
      }
    },
    {
      "cell_type": "code",
      "source": [
        "from abc import ABC, abstractmethod\n",
        "\n",
        "class AbstractClassExample(ABC):\n",
        "\n",
        "    @abstractmethod                 # 데코레이터로서 반드시 구현해야 함을 알림\n",
        "    def do_something(self):\n",
        "        pass                        # 오류 발생\n",
        "\n",
        "class Person(AbstractClassExample):\n",
        "\n",
        "    def __init__(self, name):\n",
        "        self.name = name\n",
        "\n",
        "    def print_name(self):\n",
        "        print(f'제 이름은 {self.name}입니다.')\n",
        "\n",
        "    def do_something(self):\n",
        "        pass\n",
        "\n",
        "hojun = Person('Jun')\n",
        "hojun.print_name()\n",
        "\n",
        "\n"
      ],
      "metadata": {
        "colab": {
          "base_uri": "https://localhost:8080/"
        },
        "id": "bllKPniO7CRk",
        "outputId": "7bd58427-ba8d-4a65-b513-2efbf7fed726"
      },
      "execution_count": 35,
      "outputs": [
        {
          "output_type": "stream",
          "name": "stdout",
          "text": [
            "제 이름은 Jun입니다.\n"
          ]
        }
      ]
    },
    {
      "cell_type": "markdown",
      "source": [
        "## 비공개 속성(Private Attributes)\n",
        "* 완전한 비공개(접근제한)은 아님\n",
        "* __, _ 로 시작하는 변수명"
      ],
      "metadata": {
        "id": "LSH0FYrY-UQI"
      }
    },
    {
      "cell_type": "markdown",
      "source": [
        "* closure 를 사용하면 그나마 접근제한"
      ],
      "metadata": {
        "id": "mKoE-JaZ-pQ2"
      }
    },
    {
      "cell_type": "code",
      "source": [
        "class MyClass:\n",
        "    __a = 10\n",
        "    _a = 100\n",
        "    b = 20\n",
        "\n",
        "    def __init__(self, c, d):\n",
        "        self.__c = c\n",
        "        self.d = d\n",
        "\n",
        "c = MyClass(30, 40)\n",
        "# c.__a #error\n",
        "c._a # 출력: 100\n",
        "c.b # 출력: 20\n",
        "# c.__c # error\n",
        "c.d # 출력: 40"
      ],
      "metadata": {
        "colab": {
          "base_uri": "https://localhost:8080/"
        },
        "id": "r5_tkUPR97jy",
        "outputId": "a9c88c2c-8194-49ad-d191-d62d49d009c4"
      },
      "execution_count": 36,
      "outputs": [
        {
          "output_type": "execute_result",
          "data": {
            "text/plain": [
              "40"
            ]
          },
          "metadata": {},
          "execution_count": 36
        }
      ]
    },
    {
      "cell_type": "code",
      "source": [
        "# 비공개 속성\n",
        "# 시큐어 코딩\n",
        "\n",
        "class MyClass:\n",
        "    __a = 10    # 비공개 속성(Private Attributes): 앞에만 __ 붙임\n",
        "    _a = 100    # 수정하지 말라는 의미로 많이 사용\n",
        "    b = 20\n",
        "\n",
        "    def __init__(self, c, d):\n",
        "        self.__c = c\n",
        "        self.d = d\n",
        "\n",
        "c = MyClass(30, 40)\n",
        "c._a    # 접근(출력) 가능\n",
        "# c.__a   # 접근(출력) 안됨\n",
        "\n",
        "\n",
        "# c.__a #error\n",
        "# c._a # 출력: 100\n",
        "# c.b # 출력: 20\n",
        "# # c.__c # error\n",
        "# c.d # 출력: 40\n",
        "\n",
        "print(c._MyClass__c)  # 출력: 30"
      ],
      "metadata": {
        "colab": {
          "base_uri": "https://localhost:8080/"
        },
        "id": "WBp2K5D6_G_J",
        "outputId": "db784810-3ae8-4a26-8525-8605c8105c07"
      },
      "execution_count": 39,
      "outputs": [
        {
          "output_type": "stream",
          "name": "stdout",
          "text": [
            "30\n"
          ]
        }
      ]
    },
    {
      "cell_type": "markdown",
      "source": [
        "## 자습문제\n"
      ],
      "metadata": {
        "id": "-mx4shnbBQBP"
      }
    },
    {
      "cell_type": "markdown",
      "source": [
        "```\n",
        "`class Commnet`를 작성해주세요.\n",
        "\n",
        "요구사항\n",
        "* 각 댓글은 고유한 ID, 작성자 이름, 댓글 내용, 작성 시간을 가져야 합니다.\n",
        "* 댓글은 하나 이상의 대댓글을 가질 수 있어야 합니다.\n",
        "* 대댓글도 Comment 클래스의 인스턴스로 생성되며, 원 댓글에 종속됩니다.\n",
        "* 시간은 '년-월-일 시:분' 형식으로 표시되어야 합니다.\n",
        "* (선택 과제) 댓글 출력 기능 - 계층적 출력을 해보세요.\n",
        "* (선택 과제)댓글에 대한 좋아요 기능을 추가할 수 있습니다.\n",
        "```"
      ],
      "metadata": {
        "id": "OkLotW5FDCxd"
      }
    }
  ]
}
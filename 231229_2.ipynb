{
  "nbformat": 4,
  "nbformat_minor": 0,
  "metadata": {
    "colab": {
      "provenance": [],
      "toc_visible": true,
      "authorship_tag": "ABX9TyOvduS4dJx4Me4GELJYEWXU",
      "include_colab_link": true
    },
    "kernelspec": {
      "name": "python3",
      "display_name": "Python 3"
    },
    "language_info": {
      "name": "python"
    }
  },
  "cells": [
    {
      "cell_type": "markdown",
      "metadata": {
        "id": "view-in-github",
        "colab_type": "text"
      },
      "source": [
        "<a href=\"https://colab.research.google.com/github/northeast23/orm/blob/main/231229_2.ipynb\" target=\"_parent\"><img src=\"https://colab.research.google.com/assets/colab-badge.svg\" alt=\"Open In Colab\"/></a>"
      ]
    },
    {
      "cell_type": "markdown",
      "source": [
        "# 주석\n",
        "\n"
      ],
      "metadata": {
        "id": "a6fYa9_cDayY"
      }
    },
    {
      "cell_type": "markdown",
      "source": [
        "\n",
        "## 한줄 주석 (\"#\")\n"
      ],
      "metadata": {
        "id": "z6hcGMXJGiE-"
      }
    },
    {
      "cell_type": "code",
      "source": [
        "# Ctrl + /   한줄 주석\n",
        "print('Hello, World 1!')\n",
        "print('Hello, World 2!')\n"
      ],
      "metadata": {
        "colab": {
          "base_uri": "https://localhost:8080/",
          "height": 0
        },
        "id": "rrIbaPXoHolc",
        "outputId": "6546ac22-33de-4445-b08a-8b4d0c0e915e"
      },
      "execution_count": 13,
      "outputs": [
        {
          "output_type": "stream",
          "name": "stdout",
          "text": [
            "Hello, World 1!\n",
            "Hello, World 2!\n"
          ]
        }
      ]
    },
    {
      "cell_type": "code",
      "source": [
        "print('Hello, World 1!')    # 이것도 주석\n",
        "print('Hello, World 2!')"
      ],
      "metadata": {
        "colab": {
          "base_uri": "https://localhost:8080/",
          "height": 0
        },
        "id": "prunGp5dEAa9",
        "outputId": "4974e5ce-f5f9-4312-c033-24a274020e48"
      },
      "execution_count": 11,
      "outputs": [
        {
          "output_type": "stream",
          "name": "stdout",
          "text": [
            "Hello, World 1!\n",
            "Hello, World 2!\n"
          ]
        }
      ]
    },
    {
      "cell_type": "markdown",
      "source": [
        "## 여러 줄 주석 (''' 혹은 \"\"\")"
      ],
      "metadata": {
        "id": "HqDy788DEzCg"
      }
    },
    {
      "cell_type": "code",
      "source": [
        "print('Hello, World 1!')\n",
        "print('Hello, World 2!')\n",
        "print('Hello, World 3!')"
      ],
      "metadata": {
        "colab": {
          "base_uri": "https://localhost:8080/",
          "height": 0
        },
        "id": "nz0BGvUhE2Cm",
        "outputId": "948ce0f0-ac9e-4e4d-e723-b16160faa36a"
      },
      "execution_count": 2,
      "outputs": [
        {
          "output_type": "stream",
          "name": "stdout",
          "text": [
            "Hello, World 1!\n",
            "Hello, World 2!\n",
            "Hello, World 3!\n"
          ]
        }
      ]
    },
    {
      "cell_type": "code",
      "source": [
        "'''\n",
        "이것은 주석입니다.\n",
        "이렇게 여러줄 주석을 넣을 수 있습니다.\n",
        "'''\n",
        "print(\"Hello, World!\")"
      ],
      "metadata": {
        "colab": {
          "base_uri": "https://localhost:8080/",
          "height": 0
        },
        "id": "cKFRwyHoFDo_",
        "outputId": "1943951c-3738-4249-8ef9-4793cbf2748d"
      },
      "execution_count": 7,
      "outputs": [
        {
          "output_type": "stream",
          "name": "stdout",
          "text": [
            "Hello, World!\n"
          ]
        }
      ]
    },
    {
      "cell_type": "code",
      "source": [
        "'''주석 테스트  (작은따옴표 혹은 큰따옴표 3개. backtick 아님)\n",
        "주석\n",
        "주석'''\n",
        "print(\"hi\")"
      ],
      "metadata": {
        "colab": {
          "base_uri": "https://localhost:8080/",
          "height": 0
        },
        "id": "Wz-K3meAFlxl",
        "outputId": "1f34d50b-2a51-49b8-cb31-77668d2ac9ef"
      },
      "execution_count": 8,
      "outputs": [
        {
          "output_type": "stream",
          "name": "stdout",
          "text": [
            "hi\n"
          ]
        }
      ]
    },
    {
      "cell_type": "code",
      "source": [
        "\"\"\"주석 테스트  (작은따옴표 혹은 큰따옴표 3개 앞뒤로 넣어줌. backtick 아님)\n",
        "주석\n",
        "주석\"\"\"\n",
        "print(\"hi\")"
      ],
      "metadata": {
        "colab": {
          "base_uri": "https://localhost:8080/",
          "height": 0
        },
        "id": "d-LXoSXUHYxe",
        "outputId": "cd4325b9-9e2d-43d7-929d-f61af9aa83fe"
      },
      "execution_count": 57,
      "outputs": [
        {
          "output_type": "stream",
          "name": "stdout",
          "text": [
            "hi\n"
          ]
        }
      ]
    },
    {
      "cell_type": "markdown",
      "source": [
        "# 입력 과 출력"
      ],
      "metadata": {
        "id": "SSUF90DpIEEO"
      }
    },
    {
      "cell_type": "markdown",
      "source": [
        "## 입력(input)"
      ],
      "metadata": {
        "id": "ycRwxW-DNqn_"
      }
    },
    {
      "cell_type": "code",
      "source": [
        "input('입력해주세요')"
      ],
      "metadata": {
        "colab": {
          "base_uri": "https://localhost:8080/",
          "height": 52
        },
        "id": "zq9m_cJLIP22",
        "outputId": "7ecd91b4-bcae-4a4a-93db-40bc77136bec"
      },
      "execution_count": 26,
      "outputs": [
        {
          "name": "stdout",
          "output_type": "stream",
          "text": [
            "입력해주세요헬로우\n"
          ]
        },
        {
          "output_type": "execute_result",
          "data": {
            "text/plain": [
              "'헬로우'"
            ],
            "application/vnd.google.colaboratory.intrinsic+json": {
              "type": "string"
            }
          },
          "metadata": {},
          "execution_count": 26
        }
      ]
    },
    {
      "cell_type": "code",
      "source": [
        "name = input(\"이름을 입력해주세요:\")\n",
        "print(\"hello, \" + name + \"!\")"
      ],
      "metadata": {
        "colab": {
          "base_uri": "https://localhost:8080/"
        },
        "id": "n4q9nwoHMJU7",
        "outputId": "02d06dbd-7e63-44ab-8b88-aae13359d008"
      },
      "execution_count": 88,
      "outputs": [
        {
          "output_type": "stream",
          "name": "stdout",
          "text": [
            "이름을 입력해주세요:제인\n",
            "hello, 제인!\n"
          ]
        }
      ]
    },
    {
      "cell_type": "code",
      "source": [
        "# input 을 활용한 덧셈 - 문자열인 경우\n",
        "a = input(\"첫번째 숫자를 입력해주세요\")\n",
        "b = input(\"두번째 숫자를 입력해주세요\")\n",
        "print (\"a + b = \", a+b, \" 입니다\")    # 문자열 덧셈"
      ],
      "metadata": {
        "colab": {
          "base_uri": "https://localhost:8080/",
          "height": 0
        },
        "id": "8aIVWi5SMuEg",
        "outputId": "ae9b5e44-1c8b-4ab0-b7fd-aeec93bbf3c2"
      },
      "execution_count": 27,
      "outputs": [
        {
          "output_type": "stream",
          "name": "stdout",
          "text": [
            "첫번째 숫자를 입력해주세요22\n",
            "두번째 숫자를 입력해주세요33\n",
            "a + b =  2233  입니다\n"
          ]
        }
      ]
    },
    {
      "cell_type": "code",
      "source": [
        "# input 을 활용한 덧셈 - 문자열을 정수로 치환\n",
        "a = int(input(\"첫번째 숫자를 입력해주세요\"))\n",
        "b = int(input(\"두번째 숫자를 입력해주세요\"))\n",
        "print (\"a + b = \", a+b, \" 입니다\")"
      ],
      "metadata": {
        "colab": {
          "base_uri": "https://localhost:8080/",
          "height": 0
        },
        "id": "9DQIZWnmNU94",
        "outputId": "4a08475f-2fbf-4a97-a399-8538f80f9d7f"
      },
      "execution_count": 28,
      "outputs": [
        {
          "output_type": "stream",
          "name": "stdout",
          "text": [
            "첫번째 숫자를 입력해주세요22\n",
            "두번째 숫자를 입력해주세요33\n",
            "a + b =  55  입니다\n"
          ]
        }
      ]
    },
    {
      "cell_type": "code",
      "source": [
        "# ChatGPT Code\n",
        "import datetime\n",
        "\n",
        "def days_until_birthday(birth_date):\n",
        "    # Get today's date\n",
        "    today = datetime.date.today()\n",
        "\n",
        "    # Extract month and day from the birth date\n",
        "    birth_month, birth_day = map(int, birth_date.split('-'))\n",
        "\n",
        "    # Create a date object for the next birthday\n",
        "    # Year is this year if birthday hasn't occurred yet, or next year if it has\n",
        "    this_years_birthday = datetime.date(today.year, birth_month, birth_day)\n",
        "    if this_years_birthday < today:\n",
        "        next_birthday = datetime.date(today.year + 1, birth_month, birth_day)\n",
        "    else:\n",
        "        next_birthday = this_years_birthday\n",
        "\n",
        "    # Calculate the number of days until the next birthday\n",
        "    days_left = (next_birthday - today).days\n",
        "    return days_left\n",
        "\n",
        "# Example usage\n",
        "birth_date = input(\"Enter your birth date (mm-dd): \")\n",
        "days_left = days_until_birthday(birth_date)\n",
        "print(f\"Days left until your next birthday: {days_left}\")"
      ],
      "metadata": {
        "colab": {
          "base_uri": "https://localhost:8080/",
          "height": 0
        },
        "id": "fCH3eLfOK9oV",
        "outputId": "0aae7740-aa1a-4f91-8607-b88383b0f42a"
      },
      "execution_count": 31,
      "outputs": [
        {
          "output_type": "stream",
          "name": "stdout",
          "text": [
            "Enter your birth date (mm-dd): 02-28\n",
            "Days left until your next birthday: 61\n"
          ]
        }
      ]
    },
    {
      "cell_type": "markdown",
      "source": [
        "## 출력(print)"
      ],
      "metadata": {
        "id": "k4hGiAn_NvT4"
      }
    },
    {
      "cell_type": "code",
      "source": [
        "print('출력해줘')"
      ],
      "metadata": {
        "colab": {
          "base_uri": "https://localhost:8080/",
          "height": 0
        },
        "id": "VkFyeNBJOTpZ",
        "outputId": "d2d7f5c3-37d8-45f0-ca30-308dd28bc4a2"
      },
      "execution_count": 32,
      "outputs": [
        {
          "output_type": "stream",
          "name": "stdout",
          "text": [
            "출력해줘\n"
          ]
        }
      ]
    },
    {
      "cell_type": "code",
      "source": [
        "# print 사용없이 여러줄 쓰면 맨 아래줄을 출력\n",
        "'출력해줘'\n",
        "'출력해줘'"
      ],
      "metadata": {
        "colab": {
          "base_uri": "https://localhost:8080/",
          "height": 35
        },
        "id": "hGHM4o8tO5gH",
        "outputId": "2201984e-a548-4d2a-d574-31804a9bedc2"
      },
      "execution_count": 37,
      "outputs": [
        {
          "output_type": "execute_result",
          "data": {
            "text/plain": [
              "'출력해줘'"
            ],
            "application/vnd.google.colaboratory.intrinsic+json": {
              "type": "string"
            }
          },
          "metadata": {},
          "execution_count": 37
        }
      ]
    },
    {
      "cell_type": "code",
      "source": [
        "# 여러값 출력\n",
        "print(\"hello\", \"world\", \"!\")"
      ],
      "metadata": {
        "colab": {
          "base_uri": "https://localhost:8080/",
          "height": 0
        },
        "id": "D1TwxYjgPikA",
        "outputId": "1a72243c-1e12-4f00-e763-dc5ae3e301f6"
      },
      "execution_count": 38,
      "outputs": [
        {
          "output_type": "stream",
          "name": "stdout",
          "text": [
            "hello world !\n"
          ]
        }
      ]
    },
    {
      "cell_type": "code",
      "source": [
        "# sep 구분자\n",
        "print(\"010\",\"0000\",\"0000\", sep=\"-\")"
      ],
      "metadata": {
        "colab": {
          "base_uri": "https://localhost:8080/",
          "height": 0
        },
        "id": "EmRiLL_hPAkQ",
        "outputId": "cfd24016-50e0-4523-ff2a-444f2a9c521d"
      },
      "execution_count": 36,
      "outputs": [
        {
          "output_type": "stream",
          "name": "stdout",
          "text": [
            "010-0000-0000\n"
          ]
        }
      ]
    },
    {
      "cell_type": "code",
      "source": [
        "# end\n",
        "print(\"010\",\"0000\",\"0000\", sep=\"-\", end = \" 로 연결\")"
      ],
      "metadata": {
        "colab": {
          "base_uri": "https://localhost:8080/",
          "height": 0
        },
        "id": "r8CwxAu8QEOA",
        "outputId": "a19261d8-e02a-41d3-f4a5-e81a8e511ede"
      },
      "execution_count": 41,
      "outputs": [
        {
          "output_type": "stream",
          "name": "stdout",
          "text": [
            "010-0000-0000 로 연결"
          ]
        }
      ]
    },
    {
      "cell_type": "code",
      "source": [],
      "metadata": {
        "id": "YVUTaIMiScUR"
      },
      "execution_count": null,
      "outputs": []
    },
    {
      "cell_type": "markdown",
      "source": [
        "### f-string"
      ],
      "metadata": {
        "id": "q7xah4daSSY3"
      }
    },
    {
      "cell_type": "code",
      "source": [
        "# f-string 사용\n",
        "name = 'licat'\n",
        "age = 10\n",
        "print(f'제 이름은 {name}, 제 나이는 {age}, 입니다')"
      ],
      "metadata": {
        "colab": {
          "base_uri": "https://localhost:8080/",
          "height": 0
        },
        "id": "2miH54rOQuP-",
        "outputId": "f7a456a2-8144-486a-ff0c-2f59ddbc9153"
      },
      "execution_count": 42,
      "outputs": [
        {
          "output_type": "stream",
          "name": "stdout",
          "text": [
            "제 이름은 licat, 제 나이는 10, 입니다\n"
          ]
        }
      ]
    },
    {
      "cell_type": "code",
      "source": [
        "# f-string 사용\n",
        "name = input(\"이름을 알려주세요\")\n",
        "print(f'안녕하세요 {name}님, 반갑습니다.')"
      ],
      "metadata": {
        "colab": {
          "base_uri": "https://localhost:8080/"
        },
        "id": "If1A8AeEQ_vH",
        "outputId": "57080c9d-55c1-4a13-f639-50aef587e8bc"
      },
      "execution_count": 87,
      "outputs": [
        {
          "output_type": "stream",
          "name": "stdout",
          "text": [
            "이름을 알려주세요홍길동\n",
            "안녕하세요 홍길동님, 반갑습니다.\n"
          ]
        }
      ]
    },
    {
      "cell_type": "code",
      "source": [
        "# f-string 사용안하면\n",
        "name = 'licat'\n",
        "age = 10\n",
        "print('제 이름은 {name}, 제 나이는 {age} 입니다')"
      ],
      "metadata": {
        "colab": {
          "base_uri": "https://localhost:8080/",
          "height": 0
        },
        "id": "qGS883cyRmUK",
        "outputId": "1a8e06b8-aaf8-43ec-c4d1-d8e0160d783f"
      },
      "execution_count": 47,
      "outputs": [
        {
          "output_type": "stream",
          "name": "stdout",
          "text": [
            "제 이름은 {name}, 제 나이는 {age} 입니다\n"
          ]
        }
      ]
    },
    {
      "cell_type": "code",
      "source": [
        "# f-string 쓰고 변수로 안받으면\n",
        "name = 'licat'\n",
        "age = 10\n",
        "print(f'제 이름은 name, 제 나이는 age 입니다')"
      ],
      "metadata": {
        "colab": {
          "base_uri": "https://localhost:8080/",
          "height": 0
        },
        "id": "j5NMtE9CR1mt",
        "outputId": "9e96aa9c-62a3-42b5-b96d-e80b11e484aa"
      },
      "execution_count": 48,
      "outputs": [
        {
          "output_type": "stream",
          "name": "stdout",
          "text": [
            "제 이름은 name, 제 나이는 age 입니다\n"
          ]
        }
      ]
    },
    {
      "cell_type": "markdown",
      "source": [],
      "metadata": {
        "id": "ani0_RD-WWrO"
      }
    },
    {
      "cell_type": "markdown",
      "source": [
        "### None 값 (Print 를 사용하지 않는한 출력 안됨)"
      ],
      "metadata": {
        "id": "70F6HAPYWP3Z"
      }
    },
    {
      "cell_type": "code",
      "source": [
        "# 변수값이 None 이면 출력되지 않음. 실행하면 결과가 아무것도 안나옴\n",
        "a = None\n",
        "a"
      ],
      "metadata": {
        "id": "tt37KSKpSLpr"
      },
      "execution_count": 54,
      "outputs": []
    },
    {
      "cell_type": "code",
      "source": [
        "# 변수값이 None 이면 출력되지 않음. print에 넣어봄\n",
        "a = None\n",
        "print(a)"
      ],
      "metadata": {
        "colab": {
          "base_uri": "https://localhost:8080/",
          "height": 0
        },
        "id": "PC5jKTzhUSqd",
        "outputId": "fab545f4-492d-4e75-e418-28adc5bf76f0"
      },
      "execution_count": 53,
      "outputs": [
        {
          "output_type": "stream",
          "name": "stdout",
          "text": [
            "None\n"
          ]
        }
      ]
    },
    {
      "cell_type": "code",
      "source": [
        "def f():\n",
        "  return None\n",
        "\n",
        "f()    # 함수 f() 불러도 암것도 안나옴"
      ],
      "metadata": {
        "id": "avl8_CMTTXab"
      },
      "execution_count": 55,
      "outputs": []
    },
    {
      "cell_type": "code",
      "source": [
        "def f():\n",
        "  return None\n",
        "\n",
        "print(f())    # 함수를 print에 넣어도 None 출력됨"
      ],
      "metadata": {
        "colab": {
          "base_uri": "https://localhost:8080/",
          "height": 0
        },
        "id": "vSzkp1EZUvkr",
        "outputId": "fd874c75-eb06-4979-b9ad-038baa9667f5"
      },
      "execution_count": 56,
      "outputs": [
        {
          "output_type": "stream",
          "name": "stdout",
          "text": [
            "None\n"
          ]
        }
      ]
    },
    {
      "cell_type": "markdown",
      "source": [],
      "metadata": {
        "id": "h_xqhXXYacBC"
      }
    },
    {
      "cell_type": "markdown",
      "source": [
        "## input 과 print 연습"
      ],
      "metadata": {
        "id": "SrYDIa-taVw0"
      }
    },
    {
      "cell_type": "code",
      "source": [
        "input(\"전화번호를 ***-****-**** 형태로 입력해주세요:   \").split(\"-\")"
      ],
      "metadata": {
        "colab": {
          "base_uri": "https://localhost:8080/",
          "height": 0
        },
        "id": "AfBYOl4UPPUY",
        "outputId": "8e6505b1-5f0b-4b9d-f068-3ee9aca35bf2"
      },
      "execution_count": 71,
      "outputs": [
        {
          "name": "stdout",
          "output_type": "stream",
          "text": [
            "전화번호를 ***-****-**** 형태로 입력해주세요:   010-333-3333\n"
          ]
        },
        {
          "output_type": "execute_result",
          "data": {
            "text/plain": [
              "['010', '333', '3333']"
            ]
          },
          "metadata": {},
          "execution_count": 71
        }
      ]
    }
  ]
}
{
  "nbformat": 4,
  "nbformat_minor": 0,
  "metadata": {
    "colab": {
      "provenance": [],
      "authorship_tag": "ABX9TyPeiHWjBJpSduWXqAIIHY5N"
    },
    "kernelspec": {
      "name": "python3",
      "display_name": "Python 3"
    },
    "language_info": {
      "name": "python"
    }
  },
  "cells": [
    {
      "cell_type": "markdown",
      "source": [
        "```\n",
        "1. get secret_key from platform.openai\n",
        "2. install openai lib\n",
        "3."
      ],
      "metadata": {
        "id": "G-H_oDEyCtSj"
      }
    },
    {
      "cell_type": "code",
      "execution_count": 2,
      "metadata": {
        "colab": {
          "base_uri": "https://localhost:8080/"
        },
        "id": "H1JG-mE7AOcl",
        "outputId": "7ebf0fa3-d84b-4a43-e91d-06e08c10ce82"
      },
      "outputs": [
        {
          "output_type": "stream",
          "name": "stdout",
          "text": [
            "Requirement already satisfied: openai in /usr/local/lib/python3.10/dist-packages (1.9.0)\n",
            "Requirement already satisfied: anyio<5,>=3.5.0 in /usr/local/lib/python3.10/dist-packages (from openai) (3.7.1)\n",
            "Requirement already satisfied: distro<2,>=1.7.0 in /usr/lib/python3/dist-packages (from openai) (1.7.0)\n",
            "Requirement already satisfied: httpx<1,>=0.23.0 in /usr/local/lib/python3.10/dist-packages (from openai) (0.26.0)\n",
            "Requirement already satisfied: pydantic<3,>=1.9.0 in /usr/local/lib/python3.10/dist-packages (from openai) (1.10.14)\n",
            "Requirement already satisfied: sniffio in /usr/local/lib/python3.10/dist-packages (from openai) (1.3.0)\n",
            "Requirement already satisfied: tqdm>4 in /usr/local/lib/python3.10/dist-packages (from openai) (4.66.1)\n",
            "Requirement already satisfied: typing-extensions<5,>=4.7 in /usr/local/lib/python3.10/dist-packages (from openai) (4.9.0)\n",
            "Requirement already satisfied: idna>=2.8 in /usr/local/lib/python3.10/dist-packages (from anyio<5,>=3.5.0->openai) (3.6)\n",
            "Requirement already satisfied: exceptiongroup in /usr/local/lib/python3.10/dist-packages (from anyio<5,>=3.5.0->openai) (1.2.0)\n",
            "Requirement already satisfied: certifi in /usr/local/lib/python3.10/dist-packages (from httpx<1,>=0.23.0->openai) (2023.11.17)\n",
            "Requirement already satisfied: httpcore==1.* in /usr/local/lib/python3.10/dist-packages (from httpx<1,>=0.23.0->openai) (1.0.2)\n",
            "Requirement already satisfied: h11<0.15,>=0.13 in /usr/local/lib/python3.10/dist-packages (from httpcore==1.*->httpx<1,>=0.23.0->openai) (0.14.0)\n"
          ]
        }
      ],
      "source": [
        "# ipip install openai\n",
        "pip install openai\n"
      ]
    },
    {
      "cell_type": "markdown",
      "source": [],
      "metadata": {
        "id": "ef83KBz8BAUj"
      }
    },
    {
      "cell_type": "code",
      "source": [
        "from openai import OpenAI  # OpenAI 모듈 불러오기\n",
        "\n",
        "# OpenAI API 키 설정\n",
        "client = OpenAI(api_key='SK-keymeksdfksDGSDlfljsLDGhs;lsdgds')  # 사용자의 API 키로 대체해야 함\n",
        "# ChatGPT를 사용한 텍스트 생성 요청\n",
        "response = client.chat.completions.create(\n",
        "    model = \"gpt-3.5-turbo\",                                                    # GPT 4 보다 15배 저렴\n",
        "    messages = [{\"role\" : \"user\", \"content\" : \"Hello World!\"}]      #\n",
        ")\n",
        "# API 응답에서 마지막 메시지의 내용을 출력\n",
        "print(response.choices[0].message.content)"
      ],
      "metadata": {
        "colab": {
          "base_uri": "https://localhost:8080/"
        },
        "id": "E5gdFAUHEB0y",
        "outputId": "8fb5cf97-6613-4f35-c077-cb3f19b29261"
      },
      "execution_count": 9,
      "outputs": [
        {
          "output_type": "stream",
          "name": "stdout",
          "text": [
            "Hello! How can I assist you today?\n"
          ]
        }
      ]
    },
    {
      "cell_type": "code",
      "source": [
        "import openai\n",
        "\n",
        "# ChatGPT를 사용한 텍스트 생성 요청\n",
        "response = client.chat.completions.create(\n",
        "    model = \"gpt-3.5-turbo\",\n",
        "    messages = [{\"role\" : \"user\", \"content\" : \"Translate the following English text to French: 'Hello, how are you?'\"}]\n",
        ")\n",
        "\n",
        "#응답 출력\n",
        "print(response.choices[0].message.content)"
      ],
      "metadata": {
        "colab": {
          "base_uri": "https://localhost:8080/"
        },
        "id": "5w9uw_2gEC4n",
        "outputId": "8112f1b8-a293-4546-f7f3-ed7f34e44675"
      },
      "execution_count": 10,
      "outputs": [
        {
          "output_type": "stream",
          "name": "stdout",
          "text": [
            "Bonjour, comment ça va?\n"
          ]
        }
      ]
    },
    {
      "cell_type": "code",
      "source": [
        "import openai\n",
        "\n",
        "# ChatGPT를 사용한 텍스트 생성 요청\n",
        "response = client.chat.completions.create(\n",
        "    model = \"gpt-3.5-turbo\",\n",
        "    messages = [{\"role\" : \"user\", \"content\" : \"Translate the following English text to Japanese: 'Hello, how are you?'\"}]\n",
        ")\n",
        "\n",
        "#응답 출력\n",
        "print(response.choices[0].message.content)"
      ],
      "metadata": {
        "colab": {
          "base_uri": "https://localhost:8080/"
        },
        "id": "6HLHHjJZPXFp",
        "outputId": "ccebaca1-8e93-4987-ebed-dfedbf32748b"
      },
      "execution_count": 11,
      "outputs": [
        {
          "output_type": "stream",
          "name": "stdout",
          "text": [
            "こんにちは、お元気ですか？\n"
          ]
        }
      ]
    },
    {
      "cell_type": "code",
      "source": [
        "for i in range(10):\n",
        "    response = client.chat.completions.create(\n",
        "        model = \"gpt-3.5-turbo\",\n",
        "        messages = [{\"role\" : \"user\", \"content\" : \"Translate the following korean text to English: 안녕하세요 오늘 날씨가 좋네요. 햇살이 맑아요\"}],\n",
        "        max_tokens=10,\n",
        "        temperature=0.7,\n",
        "        top_p=0.8,\n",
        "        frequency_penalty=0.2\n",
        "    )\n",
        "    print(response.choices[0].message.content)"
      ],
      "metadata": {
        "colab": {
          "base_uri": "https://localhost:8080/"
        },
        "id": "D1jeMe78P5B4",
        "outputId": "444317aa-f18f-460b-db67-5df5025a16c1"
      },
      "execution_count": 18,
      "outputs": [
        {
          "output_type": "stream",
          "name": "stdout",
          "text": [
            "Hello, today's weather is nice. The sunlight\n",
            "Hello, the weather is nice today. The sunlight\n",
            "Hello, today's weather is nice. The sunlight\n",
            "Hello, today's weather is nice. The sunlight\n",
            "Hello, the weather is nice today. The sunlight\n",
            "Hello, today's weather is good. The sunlight\n",
            "Hello, today's weather is good. The sunlight\n",
            "Hello, the weather is nice today. The sunlight\n",
            "Hello, the weather is nice today. The sunlight\n",
            "Hello, the weather is nice today. The sunshine\n"
          ]
        }
      ]
    },
    {
      "cell_type": "code",
      "source": [
        "# 이대로 하면 오류 남\n",
        "# def ask_chatbot(messages):\n",
        "#     response = client.chat.completions.create(\n",
        "#         model = \"gpt-3.5-turbo\", messages = messages\n",
        "#     )\n",
        "#     return response.choices[0].message['content']\n",
        "\n",
        "def ask_chatbot(messages):\n",
        "    response = client.chat.completions.create(\n",
        "        model = \"gpt-3.5-turbo\", messages = messages\n",
        "    )\n",
        "    return response.choices[0].message.content\n",
        "\n",
        "prompt_role = \"너는 블로그 전문가, 파워블로그처럼 글을 써야해.\\\n",
        "                개발자의 직업관에 대한 글을 써야하고,\\\n",
        "                그리고 취업을 준비하는 20대 독자들에게 잘 보일수 있도록 글을 써야되\\\n",
        "                SEO최적화된 글을 써야되\""
      ],
      "metadata": {
        "id": "VpdNrOJyQMti"
      },
      "execution_count": 23,
      "outputs": []
    },
    {
      "cell_type": "code",
      "source": [
        "from typing import List\n",
        "def assist_blogger(\n",
        "    facts: List[str], tone: str, length_words: int, style: str\n",
        "):\n",
        "    facts = \", \".join(facts)\n",
        "    prompt_role = \"너는 블로그 전문가고, 파워블로그처럼 글을 써야해\"\n",
        "    prompt = f\"{prompt_role} \\\n",
        "            FACTS: {facts} \\\n",
        "            TONE: {tone} \\\n",
        "            LEGNTH: {length_words} words \\\n",
        "            STYLE: {style}\"\n",
        "    return ask_chatbot([{\"role\": \"user\", \"content\": prompt}])"
      ],
      "metadata": {
        "id": "f2B93Z8JQlr4"
      },
      "execution_count": 24,
      "outputs": []
    },
    {
      "cell_type": "code",
      "source": [
        "print(\n",
        "    assist_blogger(\n",
        "        [\"대학 진학 이후의 개발자의 삶은?\"], \"informal\", 100, \"blogpost\"\n",
        "    )\n",
        ")"
      ],
      "metadata": {
        "colab": {
          "base_uri": "https://localhost:8080/"
        },
        "id": "J5aMhJD4RD4A",
        "outputId": "5d2f21d2-ce50-4f1b-d89a-cf2133da7e69"
      },
      "execution_count": 25,
      "outputs": [
        {
          "output_type": "stream",
          "name": "stdout",
          "text": [
            "안녕하세요! 블로그 전문가 어시스턴트입니다.\n",
            "\n",
            "오늘은 대학 진학 이후의 개발자의 삶에 대해 이야기해보려고 합니다. 개발자로서의 삶은 대학을 졸업한 후에도 계속되어야 할까요? 그 질문에 대한 답은 '그렇습니다' 입니다. 대학을 졸업한 후에는 개발자로서의 성장을 위해 계속해서 노력해야합니다.\n",
            "\n",
            "개발자로서 성장하고 더 나은 프로그래머가 되기 위해서는 꾸준한 자기 개발이 필요합니다. 책을 읽고, 오래된 프로젝트들을 리뷰하며, 혹은 새로운 언어나 프레임워크를 배워보는 등 다양한 방법으로 개발자로써 성장할 수 있습니다.\n",
            "\n",
            "또한, 개발자 커뮤니티에 참여하는 것도 큰 도움이 될 수 있습니다. 온라인 포럼이나 스택 오버플로우 같은 사이트에서 다른 개발자들과 정보를 공유하고 의견을 나누는 것은 개발자로써 성장하는 데 매우 유익합니다.\n",
            "\n",
            "또한, 직장이나 프로젝트에서는 항상 동료들과의 협업이 필요합니다. 개발자로서 경험을 쌓을수록 새로운 아이디어를 제시하고 나서 동료들과 팀을 이뤄 문제를 해결하는 경험을 통해 더욱 성장할 수 있습니다.\n",
            "\n",
            "개발자로서 성장하기 위해 노력하는 것은 쉽지 않을 수 있지만, 꾸준한 노력과 열정을 가지고 끊임없이 도전해나가는 자세가 중요합니다. 그래야만 훌륭한 개발자로서 성공할 수 있을 것입니다.\n",
            "\n",
            "그러니까 여러분들도 대학 이후에도 개발자로서의 성장을 위해 노력하는 것을 잊지 말아주세요. 개발자라는 직업은 끊임없이 발전하고 변화하는 분야입니다. 그래서 우리는 더욱 발전하기 위해 계속해서 노력해야 합니다.\n",
            "\n",
            "언제나 자신을 도전시키고, 새로운 기술과 도구들을 익히고 활용하는 개발자가 되기 위해 열정을 잃지 말고 계속해서 성장해 나갑시다. 화이팅!\n"
          ]
        }
      ]
    },
    {
      "cell_type": "code",
      "source": [
        "print(\n",
        "    assist_blogger(\n",
        "        facts =[\"Chat GPT 등장이후의 취업 전략은?\"],\n",
        "        tone = \"정중하게\",\n",
        "        length_words = 200,\n",
        "        style= \"파워블로그 스럽게\"\n",
        "        )\n",
        ")"
      ],
      "metadata": {
        "colab": {
          "base_uri": "https://localhost:8080/"
        },
        "id": "91Iyt1iSRHeQ",
        "outputId": "e5002762-663f-4522-c489-b3bfd244d6d5"
      },
      "execution_count": 26,
      "outputs": [
        {
          "output_type": "stream",
          "name": "stdout",
          "text": [
            "안녕하세요! 저는 블로그 전문가로서 여러분들께 Chat GPT 등장 이후의 취업 전략에 대해 알려드리고자 합니다. \n",
            "\n",
            "Chat GPT의 등장은 인공지능 기술의 발전으로 인해 새로운 취업 전략을 고려해야 한다는 사실을 보여줍니다. 과거에는 취업에 관련된 정보들이 주로 교재나 인터넷 기사를 통해 전달되었지만, 이제는 Chat GPT와 같은 자연어처리 기술을 통해 실시간으로 개인 맞춤형 정보를 얻을 수 있습니다. \n",
            "\n",
            "따라서, Chat GPT를 활용한 취업 전략은 굉장히 효과적일 수 있습니다. 우선, 자신이 원하는 취업 분야에 관련된 최신 정보를 Chat GPT를 통해 얻을 수 있습니다. 이를 통해 자신의 경쟁력을 높이고 취업 시장의 동향에 대해 더 잘 파악할 수 있습니다. 또한, 취업 전문가나 노하우를 가진 사람들의 조언을 Chat GPT를 통해 얻을 수도 있습니다. 이는 자신의 취업 전략을 세우는 데 큰 도움이 될 것입니다.\n",
            "\n",
            "뿐만 아니라, Chat GPT를 활용하여 자기소개서와 이력서를 작성하는 데도 도움을 받을 수 있습니다. 각 회사에서 요구하는 지원서 양식 및 필요한 내용 등을 Chat GPT에게 입력하면, 제안된 내용과 구문들을 활용하여 더욱 전문적이고 명확한 자기소개서와 이력서를 작성할 수 있습니다. 이는 자신의 경력을 강조하고 채용 담당자에게 좋은 인상을 남기는 데 도움이 될 것입니다.\n",
            "\n",
            "마지막으로, 취업 면접에 대비하기 위해 Chat GPT를 활용할 수도 있습니다. 일반 면접 질문들을 Chat GPT에게 입력하면, 다양한 답변을 제공받을 수 있습니다. 이를 통해 사용자는 답변을 분석하고 질문에 어떻게 대답해야 할지에 대한 아이디어를 얻을 수 있으며, 면접에서 더욱 자신감있게 대처할 수 있습니다.\n",
            "\n",
            "이처럼 Chat GPT 등장 후의 취업 전략은 개인 맞춤형 정보 획득, 자기소개서 및 이력서 작성, 면접 대비 등 다양한 측면에서 많은 도움을 줄 수 있습니다. 취업 준비를 위해 Chat GPT의 기능을 최대한 활용해보세요. 감사합니다.\n"
          ]
        }
      ]
    },
    {
      "cell_type": "markdown",
      "source": [
        "## 텍스트 파일 잘라서 읽기"
      ],
      "metadata": {
        "id": "a8gKtBEpUWOp"
      }
    },
    {
      "cell_type": "code",
      "source": [
        "# 첨부된 파일을 읽고 작은 부분으로 나누기 위한 코드입니다.\n",
        "\n",
        "# 파일 경로 설정\n",
        "# file_path = '/content/[English] But what is a neural network_ _ Chapter 1, Deep learning [DownSub.com].txt'\n",
        "file_path = '/content/English_But_what_is_a_neural_network____Chapter_1_Deep_learning_DownSub.com.txt'\n",
        "\n",
        "\n",
        "# 파일을 읽어서 내용을 저장\n",
        "with open(file_path, 'r') as file:\n",
        "    transcript = file.read()\n",
        "\n",
        "# 텍스트를 나눌 최대 길이 설정 (토큰 수가 아닌 문자 수 기준)\n",
        "max_length = 5000  # 각 부분의 최대 길이 (문자 수)\n",
        "\n",
        "# 텍스트를 작은 부분으로 나누는 함수\n",
        "def split_into_parts(text, length):\n",
        "    return [text[i:i+length] for i in range(0, len(text), length)]\n",
        "\n",
        "# 텍스트를 여러 부분으로 나눔\n",
        "parts = split_into_parts(transcript, max_length)\n",
        "\n",
        "# 나누어진 부분들의 수와 첫 부분의 내용 일부를 출력\n",
        "num_parts = len(parts)\n",
        "first_part_preview = parts[0][:500]  # 첫 부분의 처음 500자\n",
        "\n",
        "num_parts, first_part_preview"
      ],
      "metadata": {
        "colab": {
          "base_uri": "https://localhost:8080/"
        },
        "id": "vKxzo0YWTsIl",
        "outputId": "c8d1ca76-021d-4e4d-d5a4-6cdc2af3e20d"
      },
      "execution_count": 31,
      "outputs": [
        {
          "output_type": "execute_result",
          "data": {
            "text/plain": [
              "(4,\n",
              " \"This is a 3. It's sloppily written and rendered at an extremely low resolution of 28x28 pixels,\\n\\nbut your brain has no trouble recognizing it as a 3. And I want you to take a moment\\n\\nto appreciate how crazy it is that brains can do this so effortlessly. I mean, this,\\n\\nthis and this are also recognizable as 3s, even though the specific values of each pixel\\n\\nis very different from one image to the next. The particular light-sensitive cells in your\\n\\neye that are firing when you see this 3 are very \")"
            ]
          },
          "metadata": {},
          "execution_count": 31
        }
      ]
    },
    {
      "cell_type": "code",
      "source": [
        "# 첫 번째 부분만 사용\n",
        "first_part = parts[0]\n",
        "\n",
        "# 첫 번째 부분에 대한 번역 요청\n",
        "response = client.chat.completions.create(\n",
        "    model=\"gpt-3.5-turbo\",\n",
        "    messages = [\n",
        "        {\"role\" : \"system\", \"content\" : \"너는 유튜브를 영어에서 한국어로 번역하는 번역가이자, 요약을 잘하는 역할을 할꺼야\"},\n",
        "        {\"role\" : \"user\", \"content\" : \"업로드한 파일을 한국어로 변역해줘\"},\n",
        "        {\"role\" : \"assistant\", \"content\" : \"Yes.\"},\n",
        "        {\"role\" : \"user\", \"content\" : \"한국어로 번역한 내용을 요약해\"},\n",
        "        {\"role\" : \"assistant\", \"content\" : \"Yes.\"},\n",
        "        {\"role\" : \"user\", \"content\" : first_part_preview}\n",
        "      ],\n",
        ")\n",
        "\n",
        "# 번역 결과 출력\n",
        "print(response.choices[0].message.content)"
      ],
      "metadata": {
        "colab": {
          "base_uri": "https://localhost:8080/"
        },
        "id": "vp8qhfFMUe_n",
        "outputId": "1d8f4799-dce7-437f-caa9-52fe05ce7daf"
      },
      "execution_count": 33,
      "outputs": [
        {
          "output_type": "stream",
          "name": "stdout",
          "text": [
            "이것은 3이다. 손쉽게 인식할 수 있는데, 이것이 어떻게 뇌로 이루어지는지에 대해 감탄할 시간이 필요하다. 이것, 이것, 이것도 3으로 인식되는데, 각 픽셀의 특정 값들은 이미지별로 매우 다르다. 눈에서 '3'을 보았을 때 활성화되는 특정 조명 감지 세포들은 매우 다르다.\n"
          ]
        }
      ]
    },
    {
      "cell_type": "code",
      "source": [
        "# 각 부분에 대한 번역 및 요약 결과를 저장할 리스트\n",
        "translated_summaries = []\n",
        "\n",
        "# 모든 부분에 대해 번역 및 요약 요청 수행\n",
        "for part in parts:\n",
        "    # 실제 환경에서는 이 부분에 API 요청을 넣어야 합니다.\n",
        "    response = client.chat.completions.create(\n",
        "        model=\"gpt-3.5-turbo\",\n",
        "        messages = [\n",
        "        {\"role\" : \"system\", \"content\" : \"너는 유튜브를 영어에서 한국어로 번역하는 번역가이자, 요약을 잘하는 역할을 할꺼야\"},\n",
        "        {\"role\" : \"user\", \"content\" : \"업로드한 파일을 한국어로 변역해줘\"},\n",
        "        {\"role\" : \"assistant\", \"content\" : \"Yes.\"},\n",
        "        {\"role\" : \"user\", \"content\" : \"한국어로 번역한 내용을 요약해\"},\n",
        "        {\"role\" : \"assistant\", \"content\" : \"Yes.\"},\n",
        "        {\"role\" : \"user\", \"content\" : first_part_preview}\n",
        "      ],\n",
        "    )\n",
        "    # 번역 및 요약 결과 저장\n",
        "    translated_summary = response.choices[0].message.content\n",
        "    translated_summaries.append(translated_summary)\n",
        "\n",
        "# 모든 결과를 하나의 문자열로 결합\n",
        "final_result = '\\n\\n'.join(translated_summaries)\n",
        "\n",
        "# 최종 결과 출력\n",
        "print(final_result)"
      ],
      "metadata": {
        "colab": {
          "base_uri": "https://localhost:8080/"
        },
        "id": "WGaT5jicVIz1",
        "outputId": "77bd0a07-14b9-4e4f-f8ec-930b6a0dd5bb"
      },
      "execution_count": 34,
      "outputs": [
        {
          "output_type": "stream",
          "name": "stdout",
          "text": [
            "이것은 3입니다. 낙서처럼 쓰여져 있고, 28x28 픽셀의 매우 낮은 해상도로 렌더링되었습니다. \n",
            "\n",
            "하지만 당신의 뇌는 이것을 3으로 인지하는 데 어려움이 없습니다. \n",
            "\n",
            "뇌가 이렇게 쉽게 할 수 있다는 것이 얼마나 놀라운지 한 번 고려해 보기를 원합니다. \n",
            "\n",
            "나는 말하고 싶습니다, 이것과 이것, 그리고 이것들도 3으로 인식됩니다. \n",
            "\n",
            "심지어 각 이미지마다 특정 픽셀의 값이 매우 다릅니다. \n",
            "\n",
            "여기 3을 볼 때 활성화되는 특정 빛 감지 세포도 매우 다릅니다.\n",
            "\n",
            "이것은 3입니다. 서툴게 쓰여 있고, 28x28 픽셀의 매우 낮은 해상도로 렌더링되었습니다. 그러나 당신의 뇌는 이것을 3으로 인식하는 데 어려움이 없습니다. 그리고 당신이 이것을 손쉽게 할 수 있다는 것이 얼마나 믿기 어려운 일인지 깨닫기를 원합니다. 즉, 이것, 이것과 이것도 각각의 픽셀의 구체적인 값이 매우 다르지만 3으로 알아볼 수 있습니다. 이 3을 보고 있을 때 눈의 특정한 빛 감지 세포는 활성화됩니다.\n",
            "\n",
            "이것은 3입니다. 그것은 형편없이 쓰여지고 28x28 픽셀의 매우 낮은 해상도로 렌더링되었습니다.\n",
            "\n",
            "하지만 당신의 뇌는 이것을 3으로 인식하는데 전혀 어려움이 없습니다. 이것이 얼마나 믿을 수 없을만큼 믿기\n",
            "\n",
            "어려운지 한번 생각해보세요. 즉, 이것, 이것 그리고 이것도 또한 3으로 인식하기에는, 각 픽셀의 특정 값\n",
            "\n",
            "이 하나의 이미지에서 다음 이미지로 매우 다를지라도 가능합니다. 이 3을 보고 뇌에서 발화되는 특정한\n",
            "\n",
            "광감지 세포는 매우 다릅니다.\n",
            "\n",
            "이것은 3입니다. 느슨하게 작성되었으며 28x28 픽셀의 매우 낮은 해상도로 렌더링되었습니다.\n",
            "\n",
            "하지만 당신의 뇌는 이것을 3으로 인식하는데 어려움이 없습니다. 그리고 이게 얼마나 미친 일인지 잠시 생각해 보세요.\n",
            "\n",
            "마음속에 모든 것이 이렇게 쉽게 할 수 있는데요. 말하자면 이것, 이건 또한 3로 인식 가능하며 각 픽셀의 특정 값은\n",
            "\n",
            "이미지마다 매우 다릅니다. 이 3을 보았을 때 눈에 민감한 특정 세포들은 활동합니다.\n"
          ]
        }
      ]
    },
    {
      "cell_type": "code",
      "source": [],
      "metadata": {
        "id": "Q-Ypii3HVkSW"
      },
      "execution_count": null,
      "outputs": []
    }
  ]
}
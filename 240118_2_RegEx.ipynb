{
  "nbformat": 4,
  "nbformat_minor": 0,
  "metadata": {
    "colab": {
      "provenance": [],
      "authorship_tag": "ABX9TyPeTKGaiNl26ocBRGYCOSWp"
    },
    "kernelspec": {
      "name": "python3",
      "display_name": "Python 3"
    },
    "language_info": {
      "name": "python"
    }
  },
  "cells": [
    {
      "cell_type": "markdown",
      "source": [
        "# 정규표현식 (별 2개. 1문제 꼭 나옴)\n",
        "[regexr.com](regexr.com) or [regex101.com](regex101.com)\n"
      ],
      "metadata": {
        "id": "wArq82H49Uxl"
      }
    },
    {
      "cell_type": "code",
      "execution_count": null,
      "metadata": {
        "id": "r0onaM068Ze4"
      },
      "outputs": [],
      "source": [
        "# https://regexr.com/5nvc2    # 실습\n",
        "# 표현식으로 데이터 찾는 것\n",
        "# https://paullabworkspace.notion.site/7436c793ea724f77bc01240b0a0ed607#d7056bc954124bf4869f7cfa3864bc9d"
      ]
    },
    {
      "cell_type": "markdown",
      "source": [
        "```\n",
        "# injection\n",
        "# sql injection\n",
        "# 010[- .][0-9][0-9][0-9][0-9][- .][0-9][0-9][0-9][0-9]\n",
        "```\n",
        "\n"
      ],
      "metadata": {
        "id": "IbvTHtbQB4XW"
      }
    },
    {
      "cell_type": "markdown",
      "source": [
        "## 기본 표현"
      ],
      "metadata": {
        "id": "wXuglW4xEMud"
      }
    },
    {
      "cell_type": "markdown",
      "source": [
        "**' _ (underscore)' 는 문자하나를 의미**\n",
        "\n",
        "**' . (full stop)' 은 모든 문자열**\n",
        "\n",
        "```\n",
        "_* : 앞에 있는 문자가 0개 ~ N개\n",
        "_+ : 앞에 있는 문자가 1개 ~ N개\n",
        "_? : 앞에 있는 문자가 0개 ~ 1개\n",
        "\n",
        "{3} : 3개\n",
        "{3,} : 3개 이상\n",
        "{1,3} : 1개 ~ 3개\n",
        "\n",
        "_* : 앞에 있는 문자가 0개 ~ N개 ({0,})\n",
        "_+ : 앞에 있는 문자가 1개 ~ N개({1,})\n",
        "_? : 앞에 있는 문자가 0개 ~ 1개 ({0,1})\n",
        "\n",
        "/[0-9]{3}[-.* ][0-9]{4}[-.* ][0-9]{4}/gm\n",
        "/[0-9a-zA-Z]{2,3}[-.* ][0-9]{3,4}[-.* ][0-9]{4}/gm\n",
        "/[0-9a-zA-Z]+@[0-9a-zA-Z]+.[a-zA-Z]+/gm\n",
        "\n",
        "010[- .]?[0-9][0-9][0-9][0-9][- .]?[0-9][0-9][0-9][0-9]\n",
        "```"
      ],
      "metadata": {
        "id": "EmpHXH3uB4L4"
      }
    },
    {
      "cell_type": "markdown",
      "source": [
        "## compile('패턴').method('string')"
      ],
      "metadata": {
        "id": "xP3iyC4hdD9Q"
      }
    },
    {
      "cell_type": "code",
      "source": [
        "import re\n",
        "\n",
        "regex = re.compile('[a-f]')\n",
        "s = 'abcdefgihjklmnABCDEFGGHGHH'\n",
        "\n",
        "regex.findall(s)"
      ],
      "metadata": {
        "colab": {
          "base_uri": "https://localhost:8080/"
        },
        "id": "DuYNT-vdcYMh",
        "outputId": "f65ee819-dad9-4ce9-f405-2bba78b2754f"
      },
      "execution_count": 15,
      "outputs": [
        {
          "output_type": "execute_result",
          "data": {
            "text/plain": [
              "['a', 'b', 'c', 'd', 'e', 'f']"
            ]
          },
          "metadata": {},
          "execution_count": 15
        }
      ]
    },
    {
      "cell_type": "markdown",
      "source": [
        "\n",
        "\n",
        "```\n",
        "# 전화번호\n",
        "# /[0-9a-zA-Z]{2,3}[-.* ][0-9]{3,4}[-.* ][0-9]{4}/gm\n",
        "# /[0-9]{2,3}[-.* ][0-9]{3,4}[-.* ][0-9]{4}/gm\n",
        "```\n",
        "\n"
      ],
      "metadata": {
        "id": "QWhVE0vWF6BL"
      }
    },
    {
      "cell_type": "markdown",
      "source": [
        "## email address 찾는 정규표현식\n",
        "* [a-zA-Z0-9+-_.]+@[a-zA-Z0-9-]+\\.[a-zA-Z0-9-.]+\n",
        "\n",
        "\n",
        "\n",
        "```\n",
        "# 이메일\n",
        "# /[0-9a-zA-Z]+@[0-9a-zA-Z]+.[a-zA-Z]+/gm\n",
        "# ^[a-zA-Z0-9+-_.]+@[a-zA-Z0-9-]+\\.[a-zA-Z0-9-.]+$\n",
        "# .....@----....\n",
        "```\n",
        "\n"
      ],
      "metadata": {
        "id": "7U5rRwfRECGF"
      }
    },
    {
      "cell_type": "markdown",
      "source": [
        "##\n",
        "\n",
        "* [0-9]{2,3}[-.* ][0-9]{3,4}[-.* ][0-9]{4}\n",
        "  --> 0에서9까지 2 또는 3자리. - 또는 * .\n"
      ],
      "metadata": {
        "id": "wAAEqRXeEYLZ"
      }
    },
    {
      "cell_type": "markdown",
      "source": [
        "## 자주 사용하는 표현"
      ],
      "metadata": {
        "id": "SA_Ti3iJEYC0"
      }
    },
    {
      "cell_type": "markdown",
      "source": [
        "\n",
        "\n",
        "```\n",
        "# /\\w/gm : 워드 # 많이 사용\n",
        "# /\\w{5} /gm : 5개의 글자와 스페이스 하나\n",
        "# /\\W/gm : not 워드 # 많이 사용\n",
        "# /\\d/gm : 숫자 # 많이 사용\n",
        "# /\\D/gm : not 숫자\n",
        "# /\\s/gm : 스페이스\n",
        "# /\\S/gm : not 스페이스\n",
        "\n",
        "# ^\\d{3}[- .]?\\d{3,4}[- .]?\\d{4}$\n",
        "\n",
        "# /\\[.*]/gm : 대괄호([]) 안에 감싸여진 문자열\n",
        "# /\\(.*\\)/gm : 소괄호 안에 감싸여진 문자열\n",
        "# /\\\\.*\\//gm : 이미 사용되고 있는 특수문자로 감싸여진 문자열\n",
        "# /-.*-/gm : 이스케이프 문자를 사용할 필요가 없는 경우\n",
        "# /\\^\\^/gm : 이스케이프 문자가 필요한 경우\n",
        "# /:\\)/gm : 이스케이프 문자가 필요한 경우\n",
        "\n",
        "# \\[.*]\n",
        "# \\[.*\\], \\[.*\\]\n",
        "```\n",
        "\n"
      ],
      "metadata": {
        "id": "Fpj1SrP8EX5H"
      }
    },
    {
      "cell_type": "markdown",
      "source": [
        "## 다트게임\n",
        "school.programmers.co.kr\n",
        "* 문제열 문제에서 일반적 함정: 0 - 10점 나오도록 조건"
      ],
      "metadata": {
        "id": "b3JTqHuCEXts"
      }
    },
    {
      "cell_type": "markdown",
      "source": [
        "\n",
        "```\n",
        "입력 형식\n",
        "\"점수|보너스|[옵션]\"으로 이루어진 문자열 3세트.\n",
        "예) 1S2D*3T\n",
        "\n",
        "점수는 0에서 10 사이의 정수이다.\n",
        "보너스는 S, D, T 중 하나이다.\n",
        "옵선은 *이나 # 중 하나이며, 없을 수도 있다.\n",
        "출력 형식\n",
        "3번의 기회에서 얻은 점수 합계에 해당하는 정수값을 출력한다.\n",
        "예) 37\n",
        "```\n",
        "\n"
      ],
      "metadata": {
        "id": "Ne_n-6B1EXoi"
      }
    },
    {
      "cell_type": "code",
      "source": [
        "# 사용되는 패턴\n",
        "# 1\n",
        "p = re.compile(r'([0-9]|10)([SDT])([\\*\\#]?)')\n",
        "p.findall('1S2D*3T')\n",
        "\n",
        "# 2\n",
        "re.findall(r'([0-9]|10)([SDT])([\\*\\#]?)', '1S2D*3T')\n",
        "\n",
        "# 자주 사용하는 메서드\n",
        "sub() : 매치된 부분을 치환 (str에 replace와 같은 역활) # 가장 많이 사용.\n",
        "findall() : 매치된 부분 모두 리스트 반환"
      ],
      "metadata": {
        "id": "5eO-42t4NxYg"
      },
      "execution_count": null,
      "outputs": []
    },
    {
      "cell_type": "code",
      "source": [
        "# 1S // 2D* // 3T\n",
        "# 스타상, 아차상은 빼고 진행\n",
        "\n",
        "l = []\n",
        "for i in '1S2D*3T':\n",
        "    if i.isdigit():\n",
        "        l.append(int(i))\n",
        "    elif i == 'S':\n",
        "        l[-1] = l[-1] ** 1\n",
        "    elif i == 'D':\n",
        "        l[-1] = l[-1] ** 2\n",
        "    elif i == 'T':\n",
        "        l[-1] = l[-1] ** 3\n",
        "sum(l)"
      ],
      "metadata": {
        "colab": {
          "base_uri": "https://localhost:8080/"
        },
        "id": "Ty02W8G6MLKy",
        "outputId": "028f66e9-10d2-40dd-d6cb-0fbbd7458916"
      },
      "execution_count": 3,
      "outputs": [
        {
          "output_type": "execute_result",
          "data": {
            "text/plain": [
              "32"
            ]
          },
          "metadata": {},
          "execution_count": 3
        }
      ]
    },
    {
      "cell_type": "code",
      "source": [
        "# 1S // 2D* // 3T\n",
        "# 스타상, 아차상은 빼고 진행\n",
        "\n",
        "l = []\n",
        "for i in '1S2D*10T':\n",
        "    if i.isdigit():\n",
        "        l.append(int(i))\n",
        "    elif i == 'S':\n",
        "        l[-1] = l[-1] ** 1\n",
        "    elif i == 'D':\n",
        "        l[-1] = l[-1] ** 2\n",
        "    elif i == 'T':\n",
        "        l[-1] = l[-1] ** 3\n",
        "l\n"
      ],
      "metadata": {
        "colab": {
          "base_uri": "https://localhost:8080/"
        },
        "id": "73CwTFgoNHRa",
        "outputId": "9cc93fa0-7d7f-4062-d04f-9b6bb5a273a9"
      },
      "execution_count": 4,
      "outputs": [
        {
          "output_type": "execute_result",
          "data": {
            "text/plain": [
              "[1, 4, 1, 0]"
            ]
          },
          "metadata": {},
          "execution_count": 4
        }
      ]
    },
    {
      "cell_type": "code",
      "source": [
        "import re\n",
        "\n",
        "list(re.findall(r'([0-9]|10)([SDT])([\\*\\#]?)', '1S2D*3T'))"
      ],
      "metadata": {
        "colab": {
          "base_uri": "https://localhost:8080/"
        },
        "id": "V3h0ZtlwOAz2",
        "outputId": "d92d9a95-1a1d-4f39-cba4-1074111a353c"
      },
      "execution_count": 5,
      "outputs": [
        {
          "output_type": "execute_result",
          "data": {
            "text/plain": [
              "[('1', 'S', ''), ('2', 'D', '*'), ('3', 'T', '')]"
            ]
          },
          "metadata": {},
          "execution_count": 5
        }
      ]
    },
    {
      "cell_type": "markdown",
      "source": [
        "## 날짜찾기"
      ],
      "metadata": {
        "id": "u_gpoHqYOJt8"
      }
    },
    {
      "cell_type": "code",
      "source": [],
      "metadata": {
        "id": "Yz3XAMmkOMn0"
      },
      "execution_count": null,
      "outputs": []
    },
    {
      "cell_type": "markdown",
      "source": [
        "## 모음제거\n",
        "\n",
        "maketrans('aeiou', '!!!!!') 와 같이 많이 사용"
      ],
      "metadata": {
        "id": "VNmwmRejFJBC"
      }
    },
    {
      "cell_type": "code",
      "source": [
        "# re.sub()\n",
        "\n",
        "import re\n",
        "\n",
        "def solution(my_string):\n",
        "    return re.sub(r'[aeiou]', ' ', my_string)\n",
        "\n",
        "solution('hello world')"
      ],
      "metadata": {
        "colab": {
          "base_uri": "https://localhost:8080/",
          "height": 35
        },
        "id": "aX497a8aQAsx",
        "outputId": "e5b53df5-d80e-40f2-b7dc-a4157ee174e5"
      },
      "execution_count": 8,
      "outputs": [
        {
          "output_type": "execute_result",
          "data": {
            "text/plain": [
              "'h ll  w rld'"
            ],
            "application/vnd.google.colaboratory.intrinsic+json": {
              "type": "string"
            }
          },
          "metadata": {},
          "execution_count": 8
        }
      ]
    },
    {
      "cell_type": "markdown",
      "source": [
        "##"
      ],
      "metadata": {
        "id": "sVh1IJWIReo0"
      }
    },
    {
      "cell_type": "code",
      "source": [
        "import re\n",
        "\n",
        "\n",
        "def solution(my_string):\n",
        "    return sum(map(int, list(re.sub(r\"[a-zA-Z]\", \"\", my_string))))\n",
        "\n",
        "solution('hello1928ljwlie123slie21e1j3')"
      ],
      "metadata": {
        "id": "Rn-MvUidQ6ZR"
      },
      "execution_count": null,
      "outputs": []
    },
    {
      "cell_type": "code",
      "source": [
        "list(re.findall(r'[0-9]', 'hello1928ljwlie123slie21e1j3'))\n"
      ],
      "metadata": {
        "colab": {
          "base_uri": "https://localhost:8080/",
          "height": 211
        },
        "id": "AWz3yWHcSZLD",
        "outputId": "0995a9c7-5796-41d7-810b-c802f0a3b5d4"
      },
      "execution_count": 11,
      "outputs": [
        {
          "output_type": "error",
          "ename": "TypeError",
          "evalue": "unsupported operand type(s) for +: 'int' and 'str'",
          "traceback": [
            "\u001b[0;31m---------------------------------------------------------------------------\u001b[0m",
            "\u001b[0;31mTypeError\u001b[0m                                 Traceback (most recent call last)",
            "\u001b[0;32m<ipython-input-11-cfe37ed21398>\u001b[0m in \u001b[0;36m<cell line: 3>\u001b[0;34m()\u001b[0m\n\u001b[1;32m      1\u001b[0m \u001b[0mlist\u001b[0m\u001b[0;34m(\u001b[0m\u001b[0mre\u001b[0m\u001b[0;34m.\u001b[0m\u001b[0mfindall\u001b[0m\u001b[0;34m(\u001b[0m\u001b[0;34mr'[0-9]'\u001b[0m\u001b[0;34m,\u001b[0m \u001b[0;34m'hello1928ljwlie123slie21e1j3'\u001b[0m\u001b[0;34m)\u001b[0m\u001b[0;34m)\u001b[0m\u001b[0;34m\u001b[0m\u001b[0;34m\u001b[0m\u001b[0m\n\u001b[1;32m      2\u001b[0m \u001b[0;34m\u001b[0m\u001b[0m\n\u001b[0;32m----> 3\u001b[0;31m \u001b[0msum\u001b[0m\u001b[0;34m(\u001b[0m\u001b[0mlist\u001b[0m\u001b[0;34m(\u001b[0m\u001b[0mre\u001b[0m\u001b[0;34m.\u001b[0m\u001b[0mfindall\u001b[0m\u001b[0;34m(\u001b[0m\u001b[0;34mr'[0-9]'\u001b[0m\u001b[0;34m,\u001b[0m \u001b[0;34m'hello1928ljwlie123slie21e1j3'\u001b[0m\u001b[0;34m)\u001b[0m\u001b[0;34m)\u001b[0m\u001b[0;34m)\u001b[0m\u001b[0;34m\u001b[0m\u001b[0;34m\u001b[0m\u001b[0m\n\u001b[0m",
            "\u001b[0;31mTypeError\u001b[0m: unsupported operand type(s) for +: 'int' and 'str'"
          ]
        }
      ]
    },
    {
      "cell_type": "code",
      "source": [
        "list(re.findall(r'[0-9]+', 'hello1928ljwlie123slie21e1j3'))"
      ],
      "metadata": {
        "colab": {
          "base_uri": "https://localhost:8080/"
        },
        "id": "gglsqw4kSmtc",
        "outputId": "3df6bae4-11e0-4c21-a2aa-fee083ddafb2"
      },
      "execution_count": 9,
      "outputs": [
        {
          "output_type": "execute_result",
          "data": {
            "text/plain": [
              "['1928', '123', '21', '1', '3']"
            ]
          },
          "metadata": {},
          "execution_count": 9
        }
      ]
    },
    {
      "cell_type": "code",
      "source": [
        "import re\n",
        "\n",
        "my_string = \"aAb1B2cC34oOp\"\n",
        "re.sub('[^1-9]', '', my_string)"
      ],
      "metadata": {
        "colab": {
          "base_uri": "https://localhost:8080/",
          "height": 35
        },
        "id": "RnC-hSkySnIn",
        "outputId": "0ba0a7fb-ad09-4a67-f17b-a411b49c0cef"
      },
      "execution_count": 12,
      "outputs": [
        {
          "output_type": "execute_result",
          "data": {
            "text/plain": [
              "'1234'"
            ],
            "application/vnd.google.colaboratory.intrinsic+json": {
              "type": "string"
            }
          },
          "metadata": {},
          "execution_count": 12
        }
      ]
    },
    {
      "cell_type": "code",
      "source": [
        "import re\n",
        "\n",
        "my_string = \"aAb1B2cC34oOp\"\n",
        "re.sub('\\d', '', my_string)"
      ],
      "metadata": {
        "colab": {
          "base_uri": "https://localhost:8080/",
          "height": 35
        },
        "id": "yxgxkW1UUJSL",
        "outputId": "f2a17707-b6dc-4deb-d605-1f635b0f79e2"
      },
      "execution_count": 13,
      "outputs": [
        {
          "output_type": "execute_result",
          "data": {
            "text/plain": [
              "'aAbBcCoOp'"
            ],
            "application/vnd.google.colaboratory.intrinsic+json": {
              "type": "string"
            }
          },
          "metadata": {},
          "execution_count": 13
        }
      ]
    },
    {
      "cell_type": "code",
      "source": [
        "# 복습 X\n",
        "# (r'([0-9]{3}) --> grouping\n",
        "import re\n",
        "\n",
        "print(re.sub(r'([0-9]{3})-([0-9]{4})-([0-9]{4})', r'\\1!\\2!\\3', '010-5000-3000'))\n",
        "print(re.sub(r'([0-9]{3})-([0-9]{4})-([0-9]{4})', r'\\1/\\2/\\3', '010-5000-3000'))\n",
        "print(re.sub(r'([0-9]{3})-([0-9]{4})-([0-9]{4})', r'[\\1][\\2][\\3]', '010-5000-3000'))\n",
        "print(re.sub(r'([0-9]{3})-([0-9]{4})-([0-9]{4})', r'[\\1]-[\\2]-[\\3]', '010-5000-3000'))\n",
        "print(re.sub(r'([0-9]{3})-([0-9]{4})-([0-9]{4})', r'지역번호: \\1 전화번호: \\2\\3', '010-5000-3000'))"
      ],
      "metadata": {
        "id": "sVZeqAAOUKqm"
      },
      "execution_count": null,
      "outputs": []
    },
    {
      "cell_type": "code",
      "source": [
        "# 복습 XXX\n",
        "# (r'(?P<one>[0-9]{3})-(?P<two>[0-9]{4})-(?P<three>[0-9]{4}) -->\n",
        "import re\n",
        "\n",
        "print(re.sub(r'(?P<one>[0-9]{3})-(?P<two>[0-9]{4})-(?P<three>[0-9]{4})', r'\\g<one>!!\\g<two>!!\\g<three>', '010-5000-3000'))"
      ],
      "metadata": {
        "id": "-GZNvuJdYAov"
      },
      "execution_count": null,
      "outputs": []
    },
    {
      "cell_type": "markdown",
      "source": [
        "## python <==> markdown 정규표현식으로"
      ],
      "metadata": {
        "id": "59GbBQkXaEam"
      }
    },
    {
      "cell_type": "code",
      "source": [
        "import re\n",
        "\n",
        "text = '''# This is a h1\n",
        "## This is a h2\n",
        "### This is a h3\n",
        "#### This is a h4\n",
        "##### This is a h5\n",
        "###### This is a h6\n",
        "\n",
        "* This is a bulleted list\n",
        "  * This is a nested bulleted list\n",
        "\n",
        "**This is bold text**\n",
        "\n",
        "_This is italic text_\n",
        "\n",
        "~~This text is strikethrough~~\n",
        "'''\n",
        "\n",
        "def markdown_to_html(markdown):\n",
        "    html = re.sub(r'# (.*)', r'<h1>\\1</h1>', markdown)\n",
        "    # html = re.sub(r'## (.*)', r'\\1', html)\n",
        "    # html = re.sub(r'# (.*)', r'\\1', html)\n",
        "    # html = re.sub(r'`(.*)`', r'\\1', html)\n",
        "    # html = re.sub(r'\\*\\*(.*)\\*\\*', r'\\1', html)\n",
        "    # html = re.sub(r'_(.*)_', r'\\1', html)\n",
        "    # html = re.sub(r'~~(.*)~~', r'\\1', html)\n",
        "    # html = re.sub(r'^(>+) (.*)', r'\\1\\2', html)\n",
        "    # html = re.sub(r'^\\* (.*)', r'\\1', html, flags=re.M+re.S)\n",
        "    return html\n",
        "\n",
        "print(markdown_to_html(text))"
      ],
      "metadata": {
        "colab": {
          "base_uri": "https://localhost:8080/"
        },
        "id": "4TEHbN9eZrrI",
        "outputId": "d3bc323d-f140-4587-cc28-9208ea53c5f5"
      },
      "execution_count": 14,
      "outputs": [
        {
          "output_type": "stream",
          "name": "stdout",
          "text": [
            "<h1>This is a h1</h1>\n",
            "#<h1>This is a h2</h1>\n",
            "##<h1>This is a h3</h1>\n",
            "###<h1>This is a h4</h1>\n",
            "####<h1>This is a h5</h1>\n",
            "#####<h1>This is a h6</h1>\n",
            "\n",
            "* This is a bulleted list\n",
            "  * This is a nested bulleted list\n",
            "\n",
            "**This is bold text**\n",
            "\n",
            "_This is italic text_\n",
            "\n",
            "~~This text is strikethrough~~\n",
            "\n"
          ]
        }
      ]
    },
    {
      "cell_type": "code",
      "source": [
        "import re\n",
        "\n",
        "text = '''# This is a h1\n",
        "## This is a h2\n",
        "### This is a h3\n",
        "\n",
        "**This is bold text**\n",
        "'''\n",
        "\n",
        "def markdown_to_html(markdown):\n",
        "    html = re.sub(r'### (.*)', r'<h3>\\1<h3>', markdown)\n",
        "    html = re.sub(r'## (.*)', r'<h2>\\1<h2>', html)\n",
        "    html = re.sub(r'# (.*)', r'<h1>\\1</h1>', html)\n",
        "    html = re.sub(r'\\*\\*(.*)\\*\\*', r'<strong>\\1</strong>', html)\n",
        "    return html\n",
        "\n",
        "print(markdown_to_html(text))"
      ],
      "metadata": {
        "colab": {
          "base_uri": "https://localhost:8080/"
        },
        "id": "VvH8cFbgez6V",
        "outputId": "76de68ea-ef20-4c02-a9e8-50f38c0ad82d"
      },
      "execution_count": 17,
      "outputs": [
        {
          "output_type": "stream",
          "name": "stdout",
          "text": [
            "<h1>This is a h1</h1>\n",
            "<h2>This is a h2<h2>\n",
            "<h3>This is a h3<h3>\n",
            "\n",
            "<strong>This is bold text</strong>\n",
            "\n"
          ]
        }
      ]
    },
    {
      "cell_type": "code",
      "source": [
        "import re\n",
        "\n",
        "text='''# hello1\n",
        "## hello1.1\n",
        "hello world\n",
        "# hello2\n",
        "## hello2.1\n",
        "hello world\n",
        "# hello3\n",
        "## hello3.1\n",
        "hello world\n",
        "'''\n",
        "\n",
        "# p = re.compile('^# (.*)', re.MULTILINE)\n",
        "# text = p.sub(r'\\1', text)\n",
        "text = re.sub(r'^# (.*)', r'\\1', text, flags=re.M)\n",
        "text = re.sub(r'^## (.*)', r'\\1', text, flags=re.M)\n",
        "text"
      ],
      "metadata": {
        "id": "yUV7T1Ise2zL"
      },
      "execution_count": null,
      "outputs": []
    },
    {
      "cell_type": "markdown",
      "source": [
        "# 복습"
      ],
      "metadata": {
        "id": "SYh56qizdd3d"
      }
    },
    {
      "cell_type": "code",
      "source": [
        "import re\n",
        "\n",
        "정규표현식 = r'([a-zA-Z]+) : (\\d+)'\n",
        "문자열 = 'name : leehojun, age : 10, height : 180, email : paul-lab@naver.com'\n",
        "결과 = re.search(정규표현식, 문자열)\n",
        "\n",
        "print(f're.search(정규표현식, 문자열) : {결과}')\n",
        "\n",
        "# if 결과:\n",
        "#     print(f'결과값의 시작과 끝 : {결과.start()}, {결과.end()}')\n",
        "#     print(f'매칭 그룹핑 : {결과.group(0)}') # 그룹 0 ~ 3\n",
        "# else:\n",
        "#     print('매칭 결과 없음!')"
      ],
      "metadata": {
        "colab": {
          "base_uri": "https://localhost:8080/"
        },
        "id": "l5A8msM7aBLO",
        "outputId": "18beb3aa-f1b7-45b1-a5b8-339f82e9b463"
      },
      "execution_count": 16,
      "outputs": [
        {
          "output_type": "stream",
          "name": "stdout",
          "text": [
            "re.search(정규표현식, 문자열) : <re.Match object; span=(17, 25), match='age : 10'>\n"
          ]
        }
      ]
    },
    {
      "cell_type": "code",
      "source": [],
      "metadata": {
        "id": "oey5D3dheCRO"
      },
      "execution_count": null,
      "outputs": []
    }
  ]
}
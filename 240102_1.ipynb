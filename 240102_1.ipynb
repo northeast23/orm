{
  "nbformat": 4,
  "nbformat_minor": 0,
  "metadata": {
    "colab": {
      "provenance": [],
      "toc_visible": true,
      "authorship_tag": "ABX9TyMoU0GDywBfxaMoqjw/lxGD",
      "include_colab_link": true
    },
    "kernelspec": {
      "name": "python3",
      "display_name": "Python 3"
    },
    "language_info": {
      "name": "python"
    }
  },
  "cells": [
    {
      "cell_type": "markdown",
      "metadata": {
        "id": "view-in-github",
        "colab_type": "text"
      },
      "source": [
        "<a href=\"https://colab.research.google.com/github/northeast23/orm/blob/main/240102_1.ipynb\" target=\"_parent\"><img src=\"https://colab.research.google.com/assets/colab-badge.svg\" alt=\"Open In Colab\"/></a>"
      ]
    },
    {
      "cell_type": "markdown",
      "source": [
        "# 복습 (주석, print)"
      ],
      "metadata": {
        "id": "56IyNgC05AHE"
      }
    },
    {
      "cell_type": "code",
      "execution_count": 41,
      "metadata": {
        "colab": {
          "base_uri": "https://localhost:8080/"
        },
        "id": "pwccqliRz66Q",
        "outputId": "5e4ea0e9-b30e-4cc6-b557-d1103adaca07"
      },
      "outputs": [
        {
          "output_type": "stream",
          "name": "stdout",
          "text": [
            "aaa!bbb!ccc\n",
            "글자를-붙여서-나옴?!"
          ]
        }
      ],
      "source": [
        "# name = input(\"이름을 입력해 주세요:    \")\n",
        "# print(f\"안녕하세요, {name} 님\")\n",
        "\n",
        "# print(\"aaa\", \"bbb\", \"ccc\", sep=\"-\", end = \" 반갑습니다\")\n",
        "# p_list = input(\"전화번호를 ***-****-**** 형태로 입력해주세요:   \").split(\"-\")\n",
        "# print(p_list[1])\n",
        "\n",
        "print(\"aaa\", \"bbb\", \"ccc\", sep=\"!\")\n",
        "print(\"글자를\", \"붙여서\", \"나옴\", sep=\"-\", end = \"?!\", )\n",
        "\n"
      ]
    },
    {
      "cell_type": "markdown",
      "source": [
        "## backtick - 코드 보여주기"
      ],
      "metadata": {
        "id": "bKdBs58KIN1W"
      }
    },
    {
      "cell_type": "markdown",
      "source": [
        "* backtick 으로 막으면 이렇게 보임\n",
        "\n",
        "`print(\"hello\")`"
      ],
      "metadata": {
        "id": "Byw-8L6BDrs3"
      }
    },
    {
      "cell_type": "code",
      "source": [
        "# backtick 붙여서 코드 복사\n",
        "print(\"Hello\")"
      ],
      "metadata": {
        "colab": {
          "base_uri": "https://localhost:8080/"
        },
        "id": "euW_GtwEDXoA",
        "outputId": "434ef84e-df46-49b7-bdc8-4e0e2a38b971"
      },
      "execution_count": 101,
      "outputs": [
        {
          "output_type": "stream",
          "name": "stdout",
          "text": [
            "Hello\n"
          ]
        }
      ]
    },
    {
      "cell_type": "code",
      "source": [
        "# 한줄 주석"
      ],
      "metadata": {
        "id": "Rf-KwMST5C-F"
      },
      "execution_count": 7,
      "outputs": []
    },
    {
      "cell_type": "code",
      "source": [
        "# 코드 뒤 한줄 주석\n",
        "print(\"Hello World\")    # 여기도 주석"
      ],
      "metadata": {
        "colab": {
          "base_uri": "https://localhost:8080/",
          "height": 0
        },
        "id": "L3YzvE0N5EXr",
        "outputId": "4abe0fb4-fce9-4f05-8136-91ccf09d75f1"
      },
      "execution_count": 5,
      "outputs": [
        {
          "output_type": "stream",
          "name": "stdout",
          "text": [
            "Hello World\n"
          ]
        }
      ]
    },
    {
      "cell_type": "code",
      "source": [
        "''' 여러줄\n",
        "여러 줄\n",
        "주석 작은 따옴표, 큰 따옴표 '''"
      ],
      "metadata": {
        "colab": {
          "base_uri": "https://localhost:8080/",
          "height": 35
        },
        "id": "qcyK4d3b5E54",
        "outputId": "a90b5be7-3664-4d92-9036-8f2337a931ba"
      },
      "execution_count": 4,
      "outputs": [
        {
          "output_type": "execute_result",
          "data": {
            "text/plain": [
              "' 여러줄\\n여러 줄 \\n주석 작은 따옴표, 큰 따옴표 '"
            ],
            "application/vnd.google.colaboratory.intrinsic+json": {
              "type": "string"
            }
          },
          "metadata": {},
          "execution_count": 4
        }
      ]
    },
    {
      "cell_type": "code",
      "source": [
        "'''print(\"Hello\")\n",
        "print(\"Hello\")\n",
        "print(\"Hello\")\n",
        "\n",
        "Colab 에서는 주석문이 표시됨 '''"
      ],
      "metadata": {
        "colab": {
          "base_uri": "https://localhost:8080/",
          "height": 35
        },
        "id": "7tx0agRngH9N",
        "outputId": "aa80efc1-62cc-454d-d54a-63bdad50b364"
      },
      "execution_count": 9,
      "outputs": [
        {
          "output_type": "execute_result",
          "data": {
            "text/plain": [
              "'print(\"Hello\")\\nprint(\"Hello\")\\nprint(\"Hello\")  \\n\\nColab 에서는 주석문이 표시됨 '"
            ],
            "application/vnd.google.colaboratory.intrinsic+json": {
              "type": "string"
            }
          },
          "metadata": {},
          "execution_count": 9
        }
      ]
    },
    {
      "cell_type": "markdown",
      "source": [
        "# input/output"
      ],
      "metadata": {
        "id": "bewq_qGrlXoP"
      }
    },
    {
      "cell_type": "markdown",
      "source": [
        "## type(input()) --> str"
      ],
      "metadata": {
        "id": "qYsOS8Ko-gTK"
      }
    },
    {
      "cell_type": "markdown",
      "source": [
        "## print(f'문장 {변수} 문장.\\n')   - 다음 줄로 break"
      ],
      "metadata": {
        "id": "99yk7JJ_9hBB"
      }
    },
    {
      "cell_type": "code",
      "source": [
        "\n",
        "sentence_1 = input(\"이번 해에는 매일 ______ 운동을 하기로 했다.:      \")\n",
        "print(f'이번 해에는 매일 {sentence_1} 운동을 하기로 했다.\\n')\n",
        "\n",
        "sentence_2 = input(\"또 다른 _____ 운동을 하기로 했다:     \")\n",
        "print(f'이번 해에는 {sentence_2} 도 연습하기로 했다.\\n')\n",
        "\n",
        "\n",
        "sentence_3= input(\"또 다른 계획으로는 ____________ 하기로 했다:     \")\n",
        "print(f'또 다른 계획으로는 {sentence_3} 를 하기로 했다.\\n')\n",
        "\n",
        "print(f'2024년에는 {sentence_1}, {sentence_2}, {sentence_3} 를 결심하셨습니다. \\n')\n",
        "\n",
        "# word_1, word_2 = sentence_2.split()ㅊ\n",
        "sentence_4, sentence_5 = input(\"두개 값 받기를 해봅시다. 올해는 ______   와 ____ 에 집중하기로 했다.   빈칸으로 구분해 주세요,\\n\").split()\n",
        "\n",
        "print(f'올해는 {sentence_4}   와 {sentence_5} 에 집중하기로 했다.  \\n')\n",
        "\n"
      ],
      "metadata": {
        "colab": {
          "base_uri": "https://localhost:8080/"
        },
        "id": "-GLtkLbFlV9g",
        "outputId": "90baf277-b694-44e8-c4a9-ced9dede1a20"
      },
      "execution_count": 35,
      "outputs": [
        {
          "output_type": "stream",
          "name": "stdout",
          "text": [
            "이번 해에는 매일 ______ 운동을 하기로 했다.:      걷기\n",
            "이번 해에는 매일 걷기 운동을 하기로 했다.\n",
            "\n",
            "또 다른 _____ 운동을 하기로 했다:     수영\n",
            "이번 해에는 수영 도 연습하기로 했다.\n",
            "\n",
            "또 다른 계획으로는 ____________ 하기로 했다:     ㅊㅔ조\n",
            "또 다른 계획으로는 ㅊㅔ조 를 하기로 했다.\n",
            "\n",
            "2024년에는 걷기, 수영, ㅊㅔ조 를 결심하셨습니다. \n",
            "\n",
            "두개 값 받기를 해봅시다. 올해는 ______   와 ____ 에 집중하기로 했다.   빈칸으로 구분해 주세요,\n",
            "코딩연습 체조\n",
            "올해는 코딩연습   와 체조 에 집중하기로 했다  \n",
            " \n"
          ]
        }
      ]
    },
    {
      "cell_type": "markdown",
      "source": [
        "## var1, var2 = input(\"  \").split()"
      ],
      "metadata": {
        "id": "CSkyLeEp-Nrh"
      }
    },
    {
      "cell_type": "markdown",
      "source": [],
      "metadata": {
        "id": "Ey_ewnQ0-Rp8"
      }
    },
    {
      "cell_type": "code",
      "source": [
        "name = input(\"이름을 알려주세요:    \")\n",
        "phone = input(\"전화번호를 ### #### #### 형태로 입력해 주세요: \").split()\n",
        "print(phone)\n",
        "print(f'{name} 님의', end = \" \")\n",
        "print(f'전화번호는 {phone[0]}-{phone[1]}-{phone[2]} 입니다')"
      ],
      "metadata": {
        "colab": {
          "base_uri": "https://localhost:8080/"
        },
        "id": "3eSRt1Ano4bS",
        "outputId": "3d7b6d5f-d933-4785-af70-82faf1b0eeec"
      },
      "execution_count": 40,
      "outputs": [
        {
          "output_type": "stream",
          "name": "stdout",
          "text": [
            "이름을 알려주세요:    수지\n",
            "전화번호를 ### #### #### 형태로 입력해 주세요: 012 2456 4566\n",
            "['012', '2456', '4566']\n",
            "수지 님의 전화번호는 012-2456-4566 입니다\n"
          ]
        }
      ]
    },
    {
      "cell_type": "code",
      "source": [
        "home, place = input(\"본가는 ______ 이고 현재 ______ 에 살고 있습니다.\").split()\n",
        "print(f'본가는 {home} 이고 현재 {place}에 살고 있습니다.')"
      ],
      "metadata": {
        "colab": {
          "base_uri": "https://localhost:8080/"
        },
        "id": "ir6I7bCkx5Ea",
        "outputId": "d75033a1-22f5-4b10-ec15-b526c682c057"
      },
      "execution_count": 44,
      "outputs": [
        {
          "output_type": "stream",
          "name": "stdout",
          "text": [
            "본가는 ______ 이고 현재 ______ 에 살고 있습니다.서울 수원\n",
            "본가는 서울 이고 현재 수원에 살고 있습니다.\n"
          ]
        }
      ]
    },
    {
      "cell_type": "markdown",
      "source": [
        "# Random  \n",
        "\n",
        "\n",
        "\n"
      ],
      "metadata": {
        "id": "zVnVpQimujW8"
      }
    },
    {
      "cell_type": "markdown",
      "source": [
        "## random.randrange()"
      ],
      "metadata": {
        "id": "7suGMPzq8tEI"
      }
    },
    {
      "cell_type": "code",
      "source": [
        "from random import randrange\n",
        "# Randrange(start,stop[, step]) 함수 연습. step 은 선택해서 부여\n",
        "# start 는 시작값, stop 끝값, step 은 간격. stop 값이 범위에 포함되지 않음.\n",
        "\n",
        "import random\n",
        "\n",
        "num = random.randrange(10)\n",
        "print(f'첫번째 10까지에서 랜덤 수: {num}\\n')\n",
        "\n",
        "start_1 = randrange(1,10,3)\n",
        "\n",
        "start_2 = randrange(10,20)\n",
        "\n",
        "start_3 = randrange(10, 101, 10)\n",
        "print(f'10~101 사이 간격을 10으로: {start_3}\\n')\n",
        "\n",
        "print(f'첫번째 값 1~10,3간격 : {start_1} , 두번째 10~20 랜덤 :  {start_2} \\n')\n",
        "\n",
        "# lotto 번호 생성\n",
        "\n",
        "num_1 = random.randrange(1,46)\n",
        "num_2 = random.randrange(1,46)\n",
        "num_3 = random.randrange(1,46)\n",
        "num_4 = random.randrange(1,46)\n",
        "num_5 = random.randrange(1,46)\n",
        "num_6 = random.randrange(1,46)\n",
        "\n",
        "print(f'이번 주 로또 번호는 {num_1} {num_2} {num_3} {num_4} {num_5} {num_6} 입니다 \\n')\n",
        "\n"
      ],
      "metadata": {
        "colab": {
          "base_uri": "https://localhost:8080/"
        },
        "id": "mGKmINgpzvlu",
        "outputId": "f408c181-3723-431e-f5d2-5fbeca4b5a5d"
      },
      "execution_count": 66,
      "outputs": [
        {
          "output_type": "stream",
          "name": "stdout",
          "text": [
            "첫번째 10까지에서 랜덤 수: 3\n",
            "\n",
            "10~101 사이 간격을 10으로: 20\n",
            "\n",
            "첫번째 값 1~10,3간격 : 4 , 두번째 10~20 랜덤 :  19 \n",
            "\n",
            "이번 주 로또 번호는 9 34 9 34 33 34 입니다 \n",
            "\n"
          ]
        }
      ]
    },
    {
      "cell_type": "markdown",
      "source": [
        "## random.choice()"
      ],
      "metadata": {
        "id": "4BxR4nZ68yGM"
      }
    },
    {
      "cell_type": "code",
      "source": [
        "sequence = ['사과','귤','바나나','체리' ]\n",
        "rnd = random.choice(sequence)\n",
        "print(sequence)\n",
        "print(f'randome.choice 로 선택된 값은 :  {rnd}   \\n')\n",
        "print(f'randome.choice 로 두번째 선택된 값은 :  {rnd}   \\n')"
      ],
      "metadata": {
        "colab": {
          "base_uri": "https://localhost:8080/"
        },
        "id": "P5fs8-T2zwJf",
        "outputId": "eb4ba322-4bd9-409a-b601-cf9d1f10e1f9"
      },
      "execution_count": 73,
      "outputs": [
        {
          "output_type": "stream",
          "name": "stdout",
          "text": [
            "['사과', '귤', '바나나', '체리']\n",
            "randome.choice 로 선택된 값은 :  체리   \n",
            "\n",
            "randome.choice 로 두번째 선택된 값은 :  체리   \n",
            "\n"
          ]
        }
      ]
    },
    {
      "cell_type": "code",
      "source": [
        "greetings = \"안녕하세요\"\n",
        "choice_char = random.choice(greetings)\n",
        "print(f\"선택된 문자: '{choice_char}' 입니다, \\n\")"
      ],
      "metadata": {
        "colab": {
          "base_uri": "https://localhost:8080/"
        },
        "id": "6dXCmpw3zwb3",
        "outputId": "c89a62ad-8531-4539-c76c-aff44bf91b9e"
      },
      "execution_count": 80,
      "outputs": [
        {
          "output_type": "stream",
          "name": "stdout",
          "text": [
            "선택된 문자: '세' 입니다, \n",
            "\n"
          ]
        }
      ]
    },
    {
      "cell_type": "markdown",
      "source": [
        "### type(random.randrange()) ---> int"
      ],
      "metadata": {
        "id": "gMm-3QR8-rIL"
      }
    },
    {
      "cell_type": "code",
      "source": [
        "import random\n",
        "\n",
        "test1, test2 = input(\"임의의 숫자 두개를 입력하세요.:   \\n\").split()\n",
        "print(f'test1: {test1}  test2: {test2}, test1 + test2 = {test1 + test2}  \\n')\n",
        "type(test1)\n",
        "type(test2)\n",
        "\n",
        "test1 = int(test1) + int(test2)\n",
        "print(f\"정수로 변환된 test1 + test2 값은 {test1} \\n\")\n",
        "type(test1)\n",
        "\n",
        "# test_r = random,ran"
      ],
      "metadata": {
        "colab": {
          "base_uri": "https://localhost:8080/"
        },
        "id": "6waDDWyf-Yj3",
        "outputId": "08d04b19-5c1f-46e3-bcf5-6a6ede459285"
      },
      "execution_count": 97,
      "outputs": [
        {
          "output_type": "stream",
          "name": "stdout",
          "text": [
            "임의의 숫자 두개를 입력하세요.:   \n",
            "2349753 352362\n",
            "test1: 2349753  test2: 352362, test1 + test2 = 2349753352362  \n",
            "\n",
            "정수로 변환된 test1 + test2 값은 2702115 \n",
            "\n"
          ]
        },
        {
          "output_type": "execute_result",
          "data": {
            "text/plain": [
              "int"
            ]
          },
          "metadata": {},
          "execution_count": 97
        }
      ]
    },
    {
      "cell_type": "markdown",
      "source": [
        "## 주사위 프로그램"
      ],
      "metadata": {
        "id": "m-85xLF_B7V6"
      }
    },
    {
      "cell_type": "code",
      "source": [
        "import random\n",
        "\n",
        "dice1 = random.randrange(1,7)\n",
        "dice2 = random.randrange(1,7)\n",
        "\n",
        "sum = dice1 + dice2\n",
        "\n",
        "print(f\"주사위 결과: {dice1} + {dice2} = {sum} \\n\")\n",
        "\n",
        "print(\"random.randeint() 실습 - end point 포함\")\n",
        "dice3 = random.randint(1,6)\n",
        "dice4 = random.randint(1,6)\n",
        "print(\"주사위 결과는  \", dice3 + dice4)"
      ],
      "metadata": {
        "colab": {
          "base_uri": "https://localhost:8080/"
        },
        "id": "zbunmB4vB1so",
        "outputId": "e5533999-94a6-4ae7-c1e7-f011a5ef4307"
      },
      "execution_count": 102,
      "outputs": [
        {
          "output_type": "stream",
          "name": "stdout",
          "text": [
            "주사위 결과: 5 + 6 = 11 \n",
            "\n",
            "random.randeint() 실습 - end point 포함\n",
            "주사위 결과는   10\n"
          ]
        }
      ]
    },
    {
      "cell_type": "markdown",
      "source": [
        "## 윷놀이 프로그램"
      ],
      "metadata": {
        "id": "Ew88ybpSE8bC"
      }
    },
    {
      "cell_type": "code",
      "source": [
        "import random\n",
        "\n",
        "bar = [0, 1]\n",
        "\n",
        "bar1 = random.choice(bar)\n",
        "bar2 = random.choice(bar)\n",
        "bar3 = random.choice(bar)\n",
        "bar4 = random.choice(bar)\n",
        "\n",
        "print(f'윷을 던졌더니  {bar1}  {bar2}  {bar3}  {bar4} 가 나왔습니다. \\n')\n",
        "\n",
        "trial = bar1 + bar2 + bar3 + bar4\n",
        "\n",
        "# 1 이 하나도 없으면 \"모\", 도, 개, 걸,윷\n",
        "\n",
        "result = [\"모\", \"도\", \"개\", \"걸\", \"윷\"]\n",
        "\n",
        "print(\" 1 이 하나도 없으면 '모', 도, 개, 걸,윷 순서입니다. \\n\")\n",
        "\n",
        "print(f'이번 윷놀이 결과는 \"{result[trial]}\" 입니다. \\n')\n",
        "\n"
      ],
      "metadata": {
        "colab": {
          "base_uri": "https://localhost:8080/"
        },
        "id": "KOYNU1IEB168",
        "outputId": "47599568-fd6a-4d18-b5dc-a98fee7d639e"
      },
      "execution_count": 108,
      "outputs": [
        {
          "output_type": "stream",
          "name": "stdout",
          "text": [
            "윷을 던졌더니  1  1  0  0 가 나왔습니다. \n",
            "\n",
            " 1 이 하나도 없으면 '모', 도, 개, 걸,윷 순서입니다. \n",
            "\n",
            "이번 윷놀이 결과는 \"개\" 입니다. \n",
            "\n"
          ]
        }
      ]
    },
    {
      "cell_type": "markdown",
      "source": [
        "# 변수 (대문자, 소문자, _ (underscore))"
      ],
      "metadata": {
        "id": "ogiEI7uPM-Rg"
      }
    },
    {
      "cell_type": "markdown",
      "source": [
        "* 숫자로 시작하지 않음. _test ()   1test (X)\n",
        "* 일반적으로 소문자로 시작. 사용하지 않는 변수는 _ 로 시작\n",
        "* Python keyword 사용 않함 (import keyword    print(keyword.kwlist)\n",
        "* class 는 대문자로 시작\n",
        "* word_word_word\n"
      ],
      "metadata": {
        "id": "7NeyBQXJNC4m"
      }
    },
    {
      "cell_type": "code",
      "source": [],
      "metadata": {
        "id": "6XsDlfSXNB_p"
      },
      "execution_count": 110,
      "outputs": []
    }
  ]
}
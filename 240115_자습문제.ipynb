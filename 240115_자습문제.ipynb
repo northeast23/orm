{
  "nbformat": 4,
  "nbformat_minor": 0,
  "metadata": {
    "colab": {
      "provenance": [],
      "authorship_tag": "ABX9TyPUZmM+uu39e/4oIjqGFtm4"
    },
    "kernelspec": {
      "name": "python3",
      "display_name": "Python 3"
    },
    "language_info": {
      "name": "python"
    }
  },
  "cells": [
    {
      "cell_type": "markdown",
      "source": [
        "```\n",
        "`class Comment`를 작성해주세요.\n",
        "\n",
        "요구사항\n",
        "* 각 댓글은 고유한 ID, 작성자 이름, 댓글 내용, 작성 시간을 가져야 합니다.\n",
        "* 댓글은 하나 이상의 대댓글을 가질 수 있어야 합니다.\n",
        "* 대댓글도 Comment 클래스의 인스턴스로 생성되며, 원 댓글에 종속됩니다.\n",
        "* 시간은 '년-월-일 시:분' 형식으로 표시되어야 합니다.\n",
        "* (선택 과제) 댓글 출력 기능 - 계층적 출력을 해보세요.\n",
        "* (선택 과제)댓글에 대한 좋아요 기능을 추가할 수 있습니다.\n",
        "```"
      ],
      "metadata": {
        "id": "U517MgzdlcOi"
      }
    },
    {
      "cell_type": "code",
      "source": [
        "from datetime import datetime\n",
        "\n",
        "class Post:\n",
        "    pst_count = 0\n",
        "\n",
        "    def __init__(self, title, user, content):\n",
        "        self.post_id = Post.pst_count + 1\n",
        "        self.title = title\n",
        "        self.author = user.name\n",
        "        self.content = content\n",
        "        self.p_created_at = datetime.now().strftime('%Y-%m-%d %H:%M')\n",
        "        Post.pst_count += 1\n",
        "\n",
        "    def __str__(self):\n",
        "        return self.title\n",
        "\n",
        "    def __repr__(self):\n",
        "        return self.title\n",
        "\n",
        "\n",
        "class User:\n",
        "    def __init__(self, name, user_id):\n",
        "        self.name = name\n",
        "        self.user_id = user_id\n",
        "\n",
        "    def __str__(self):\n",
        "        return self.name\n",
        "\n",
        "    def __repr__(self):\n",
        "        return self.name\n",
        "\n",
        "\n",
        "class Comment:\n",
        "    cmt_count = 0\n",
        "\n",
        "    def __init__(self, User, Post, comment):\n",
        "        self.user = User\n",
        "        self.post = Post\n",
        "        self.comment = comment\n",
        "        self.cmt_id = f'{self.post.post_id}-{str(Comment.cmt_count).rjust(4, \"0\")}'\n",
        "        self.c_created_at = datetime.now().strftime('%Y-%m-%d %H:%M')\n",
        "        Comment.cmt_count += 1\n",
        "\n",
        "    def __str__(self):\n",
        "        return f'Re: {self.post.title}'\n",
        "\n",
        "    def __repr__(self):\n",
        "        return f'Re: {self.post.title}'\n",
        "\n",
        "\n",
        "# Example usage\n",
        "user1 = User('김혜경', 'abc001')\n",
        "user2 = User('이철수', 'adf029')\n",
        "user3 = User('이재구', 'cfd057')\n",
        "user4 = User('박희순', 'rpo093')\n",
        "# print(user2)\n",
        "\n",
        "post1 = Post('날씨가 춥다', user2, '따뜻한 국물을 먹고 싶다')\n",
        "print(post1, post1.post_id)\n",
        "\n",
        "post2 = Post('눈이 오네', user3, '온세상이 하얗게..')\n",
        "print(post2, post2.post_id)\n",
        "\n",
        "comment1 = Comment(user2, post1, \"생생우동이 좋아요\")\n",
        "print(f'Re: {comment1.post} {comment1.comment} created at {comment1.c_created_at} by {comment1.user}')\n",
        "\n"
      ],
      "metadata": {
        "colab": {
          "base_uri": "https://localhost:8080/"
        },
        "id": "c4eIceRen_gM",
        "outputId": "cfc0bb48-a270-4b1a-fc4c-a976c1b4285f"
      },
      "execution_count": 20,
      "outputs": [
        {
          "output_type": "stream",
          "name": "stdout",
          "text": [
            "날씨가 춥다 1\n",
            "눈이 오네 2\n",
            "Re: 날씨가 춥다 생생우동이 좋아요 created at 2024-01-15 10:59 by 이철수\n"
          ]
        }
      ]
    },
    {
      "cell_type": "code",
      "source": [],
      "metadata": {
        "id": "jUNnNrf8wgO2"
      },
      "execution_count": null,
      "outputs": []
    }
  ]
}
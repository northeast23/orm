{
  "nbformat": 4,
  "nbformat_minor": 0,
  "metadata": {
    "colab": {
      "provenance": [],
      "authorship_tag": "ABX9TyPuQGXLLXrLXQlm2pqCWpgs"
    },
    "kernelspec": {
      "name": "python3",
      "display_name": "Python 3"
    },
    "language_info": {
      "name": "python"
    }
  },
  "cells": [
    {
      "cell_type": "code",
      "execution_count": null,
      "metadata": {
        "id": "fJ1rKGqclaAN"
      },
      "outputs": [],
      "source": []
    },
    {
      "cell_type": "markdown",
      "source": [
        "## 자습문제\n",
        "```\n",
        "오늘 진행한 책 크롤링 코드를 이용하여 다음 요구사항을 만족하는 코드를 작성해주세요.\n",
        "\n",
        "1. 모든 텍스트는 앞, 뒤 공백이 제거된 텍스트여야 합니다.\n",
        "2. 가격은 int 형이어야 합니다.\n",
        "3. 저자는 앞에 '저자: '가 없어야 합니다.\n",
        "4. 가격을 달러로 바꿔주는 메서드를 작성해주세요.\n",
        "5. 할인 메서드를 작성해주세요. 할인율이 들어가면 변경되어야 합니다.\n",
        "5.1 object.discount(10) => 10프로 할인된 가격을 반환합니다.\n",
        "5.2 object.discount(0) => 0프로 할인된 가격을 반환합니다.\n",
        "```"
      ],
      "metadata": {
        "id": "10z9UYYlghrp"
      }
    },
    {
      "cell_type": "code",
      "source": [
        "import requests     # 통신을 해서 서버에서 제공해주는 값을 가져옴\n",
        "from bs4 import BeautifulSoup   # 가져온 값을 파싱(태그별로 나눔)해주는 모듈\n",
        "\n",
        "############# 여기를 for 문에 넣어 돌리지 않기 ################\n",
        "response = requests.get('https://paullab.co.kr/bookservice/')\n",
        "soup = BeautifulSoup(response.text, 'html.parser')\n",
        "#############\n",
        "# 이 부분을 따로 빼고, 프린트 문 등과 구분. 서버 부하."
      ],
      "metadata": {
        "id": "dlt9x99MnQps"
      },
      "execution_count": 5,
      "outputs": []
    },
    {
      "cell_type": "code",
      "source": [
        "book_name = soup.select('.book_name')  # 크롬 Ctrl+Shift+i 해서 태그를 찾음\n",
        "book_info = soup.select('.book_info')"
      ],
      "metadata": {
        "id": "GLQOrG8IoXqG"
      },
      "execution_count": 8,
      "outputs": []
    },
    {
      "cell_type": "code",
      "source": [
        "books = []\n",
        "class Book:\n",
        "    def __init__(self, name='', price=0, author='', info=''):\n",
        "        self.name = name.strip()\n",
        "        if price.replace('가격: ', '').replace('원', '').replace(',', '') == '무료':\n",
        "            self.price = 0\n",
        "        else:\n",
        "            self.price = int(price.replace('가격: ', '').replace('원', '').replace(',', ''))\n",
        "        self.author = author.replace('저자: ','').strip()\n",
        "        self.info = info.strip()\n",
        "\n",
        "    def __str__(self):\n",
        "        return self.name\n",
        "\n",
        "    def __repr__(self):\n",
        "        return self.name\n",
        "\n",
        "    def usd(self, rate=1350):\n",
        "        return f'{self.price/rate:.2f}'\n",
        "\n",
        "    def discount(self, perc):\n",
        "        return int(self.price - (self.price * perc/100))\n",
        "\n",
        "\n",
        "for i, _ in enumerate(book_name):\n",
        "    books.append(Book(\n",
        "        book_name[i].text,\n",
        "        book_info[(i*3)].text,\n",
        "        book_info[(i*3)+1].text,\n",
        "        book_info[(i*3)+2].text\n",
        "    ))\n",
        "\n",
        "books\n",
        "print(books[0].name)\n",
        "print(books[0].price)\n",
        "\n",
        "print(books[0].author)\n",
        "print(books[0].usd())\n",
        "print(books[0].discount(10))"
      ],
      "metadata": {
        "colab": {
          "base_uri": "https://localhost:8080/"
        },
        "id": "Pt9YbCr-giFK",
        "outputId": "eb74d396-9ce1-47b4-d46b-905304bce730"
      },
      "execution_count": 10,
      "outputs": [
        {
          "output_type": "stream",
          "name": "stdout",
          "text": [
            "메모혁신 Notion(노션) 활용 가이드\n",
            "7000\n",
            "이호준, 이준호, 김혜원, 김유진, 차경림, 김진, 현지연, 정승한\n",
            "5.19\n",
            "6300\n"
          ]
        }
      ]
    },
    {
      "cell_type": "code",
      "source": [],
      "metadata": {
        "id": "9W66urf8vdcL"
      },
      "execution_count": null,
      "outputs": []
    }
  ]
}
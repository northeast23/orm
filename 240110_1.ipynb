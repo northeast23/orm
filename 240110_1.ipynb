{
  "nbformat": 4,
  "nbformat_minor": 0,
  "metadata": {
    "colab": {
      "provenance": [],
      "authorship_tag": "ABX9TyNFMDNDPvewmIPzLsCpswcu"
    },
    "kernelspec": {
      "name": "python3",
      "display_name": "Python 3"
    },
    "language_info": {
      "name": "python"
    }
  },
  "cells": [
    {
      "cell_type": "markdown",
      "source": [
        "# While 문"
      ],
      "metadata": {
        "id": "ykgSVBvPsLkn"
      }
    },
    {
      "cell_type": "markdown",
      "source": [
        "## 무한반복"
      ],
      "metadata": {
        "id": "VGKAEzfAyDZz"
      }
    },
    {
      "cell_type": "code",
      "execution_count": null,
      "metadata": {
        "colab": {
          "base_uri": "https://localhost:8080/"
        },
        "id": "fJHzFo8JsHui",
        "outputId": "76150d5f-2cf6-4e21-d5a4-288481e15117"
      },
      "outputs": [
        {
          "output_type": "stream",
          "name": "stdout",
          "text": [
            ">dir\n",
            "['.config', 'sample_data']\n",
            ">ls\n",
            "['.config', 'sample_data']\n",
            ">exit\n",
            "안녕히가세요.\n"
          ]
        }
      ],
      "source": [
        "# colab에서도 작동되지만 가능하면 .py파일로 작성해서 실행해보세요.\n",
        "import os\n",
        "\n",
        "while True:\n",
        "    userinput = input('>')\n",
        "    if userinput == 'pwd':\n",
        "        # print('현재 위치 출력')\n",
        "        # print('\\\\'.join(__file__.split('\\\\')[:-1]))\n",
        "        print(os.getcwd())\n",
        "    elif userinput == 'dir' or userinput == 'ls':\n",
        "        # print('현재 폴더에 폴더와 파일명 출력')\n",
        "        print(os.listdir(os.getcwd()))\n",
        "    elif userinput == 'exit':\n",
        "        print('안녕히가세요.')\n",
        "        break                   # 반복문 즉시 종료\n"
      ]
    },
    {
      "cell_type": "markdown",
      "source": [
        "## break, continue"
      ],
      "metadata": {
        "id": "0lYqKBVWyNTP"
      }
    },
    {
      "cell_type": "code",
      "source": [
        "for i in range(10):\n",
        "    if i % 2 == 0:\n",
        "            print(i)\n",
        "    # print(i)"
      ],
      "metadata": {
        "colab": {
          "base_uri": "https://localhost:8080/"
        },
        "id": "ISWK7f9_z7It",
        "outputId": "2567ebcd-c22a-4866-ed0a-42506c99bee4"
      },
      "execution_count": null,
      "outputs": [
        {
          "output_type": "stream",
          "name": "stdout",
          "text": [
            "0\n",
            "2\n",
            "4\n",
            "6\n",
            "8\n"
          ]
        }
      ]
    },
    {
      "cell_type": "code",
      "source": [
        "for i in range(10):\n",
        "    if i % 2 == 0:\n",
        "            continue\n",
        "    print(i)"
      ],
      "metadata": {
        "colab": {
          "base_uri": "https://localhost:8080/"
        },
        "id": "IhL0Jyc9yN6A",
        "outputId": "4d5a74a7-436a-4bb0-d7df-0127832cfe0d"
      },
      "execution_count": null,
      "outputs": [
        {
          "output_type": "stream",
          "name": "stdout",
          "text": [
            "1\n",
            "3\n",
            "5\n",
            "7\n",
            "9\n"
          ]
        }
      ]
    },
    {
      "cell_type": "code",
      "source": [
        "# for i in range(10):       # 0 ~ 9 까지\n",
        "#     if i % 2 == 0:        # 짝수 일때 하단 실행\n",
        "#             continue      # 건너뛰고 for 문 조건줄로 올라감 (출력없음)\n",
        "#     print(i)              # 1 3 5 7 9\n",
        "\n",
        "# for i in range(10):         # 0 ~ 9 까지\n",
        "#     if i % 2 == 0:\n",
        "#             print(i)        # 00 1 22 3 44 5 66 ~\n",
        "#     print(i)\n",
        "\n",
        "for i in range(10):         # 0 ~ 9 까지\n",
        "    if i % 2 == 0:          # 짝수이면\n",
        "            print(i)        # 0 2 4 6 8\n"
      ],
      "metadata": {
        "colab": {
          "base_uri": "https://localhost:8080/"
        },
        "id": "ELBG0eQzxquS",
        "outputId": "121d42e2-0cb5-45b8-dcd5-a14114a4a982"
      },
      "execution_count": null,
      "outputs": [
        {
          "output_type": "stream",
          "name": "stdout",
          "text": [
            "0\n",
            "2\n",
            "4\n",
            "6\n",
            "8\n"
          ]
        }
      ]
    },
    {
      "cell_type": "markdown",
      "source": [
        "## 난수 생성\n"
      ],
      "metadata": {
        "id": "KvN2mqBC18F6"
      }
    },
    {
      "cell_type": "code",
      "source": [
        "import random\n",
        "\n",
        "answer = random.randint(1, 1000)\n",
        "while True:\n",
        "    userinput = int(input('숫자를 입력해주세요.'))\n",
        "    if userinput > answer:\n",
        "        print('Down')\n",
        "\n",
        "    elif userinput < answer:\n",
        "        print('Up')\n",
        "    else:\n",
        "        print('축하합니다! 맞추셨어요!')\n",
        "        break"
      ],
      "metadata": {
        "colab": {
          "base_uri": "https://localhost:8080/"
        },
        "id": "q8jZtYiV0zKN",
        "outputId": "4ab3c6c0-d80b-47fe-e64e-8c50add0828e"
      },
      "execution_count": null,
      "outputs": [
        {
          "output_type": "stream",
          "name": "stdout",
          "text": [
            "숫자를 입력해주세요.50\n",
            "Down\n",
            "숫자를 입력해주세요.29\n",
            "Down\n",
            "숫자를 입력해주세요.10\n",
            "Up\n",
            "숫자를 입력해주세요.20\n",
            "축하합니다! 맞추셨어요!\n"
          ]
        }
      ]
    },
    {
      "cell_type": "markdown",
      "source": [
        "## 구구단 while 문 (초기화 필요)"
      ],
      "metadata": {
        "id": "dyXZiyzH8kqg"
      }
    },
    {
      "cell_type": "code",
      "source": [
        "i = 2\n",
        "while i < 10:\n",
        "    j = 1\n",
        "    while j < 10:\n",
        "        print(f'{i} * {j} = {i * j}')\n",
        "        j += 1\n",
        "    i += 1\n"
      ],
      "metadata": {
        "colab": {
          "base_uri": "https://localhost:8080/"
        },
        "id": "YYnFQ2el8kHl",
        "outputId": "9aae7774-f632-40a4-91d4-5acf5fa1bbf9"
      },
      "execution_count": null,
      "outputs": [
        {
          "output_type": "stream",
          "name": "stdout",
          "text": [
            "2 * 1 = 2\n",
            "2 * 2 = 4\n",
            "2 * 3 = 6\n",
            "2 * 4 = 8\n",
            "2 * 5 = 10\n",
            "2 * 6 = 12\n",
            "2 * 7 = 14\n",
            "2 * 8 = 16\n",
            "2 * 9 = 18\n",
            "3 * 1 = 3\n",
            "3 * 2 = 6\n",
            "3 * 3 = 9\n",
            "3 * 4 = 12\n",
            "3 * 5 = 15\n",
            "3 * 6 = 18\n",
            "3 * 7 = 21\n",
            "3 * 8 = 24\n",
            "3 * 9 = 27\n",
            "4 * 1 = 4\n",
            "4 * 2 = 8\n",
            "4 * 3 = 12\n",
            "4 * 4 = 16\n",
            "4 * 5 = 20\n",
            "4 * 6 = 24\n",
            "4 * 7 = 28\n",
            "4 * 8 = 32\n",
            "4 * 9 = 36\n",
            "5 * 1 = 5\n",
            "5 * 2 = 10\n",
            "5 * 3 = 15\n",
            "5 * 4 = 20\n",
            "5 * 5 = 25\n",
            "5 * 6 = 30\n",
            "5 * 7 = 35\n",
            "5 * 8 = 40\n",
            "5 * 9 = 45\n",
            "6 * 1 = 6\n",
            "6 * 2 = 12\n",
            "6 * 3 = 18\n",
            "6 * 4 = 24\n",
            "6 * 5 = 30\n",
            "6 * 6 = 36\n",
            "6 * 7 = 42\n",
            "6 * 8 = 48\n",
            "6 * 9 = 54\n",
            "7 * 1 = 7\n",
            "7 * 2 = 14\n",
            "7 * 3 = 21\n",
            "7 * 4 = 28\n",
            "7 * 5 = 35\n",
            "7 * 6 = 42\n",
            "7 * 7 = 49\n",
            "7 * 8 = 56\n",
            "7 * 9 = 63\n",
            "8 * 1 = 8\n",
            "8 * 2 = 16\n",
            "8 * 3 = 24\n",
            "8 * 4 = 32\n",
            "8 * 5 = 40\n",
            "8 * 6 = 48\n",
            "8 * 7 = 56\n",
            "8 * 8 = 64\n",
            "8 * 9 = 72\n",
            "9 * 1 = 9\n",
            "9 * 2 = 18\n",
            "9 * 3 = 27\n",
            "9 * 4 = 36\n",
            "9 * 5 = 45\n",
            "9 * 6 = 54\n",
            "9 * 7 = 63\n",
            "9 * 8 = 72\n",
            "9 * 9 = 81\n"
          ]
        }
      ]
    },
    {
      "cell_type": "code",
      "source": [
        "# i = 2\n",
        "# while i < 10:\n",
        "#     j = 1\n",
        "#     while j < 10:\n",
        "#         print(f'{i} * {j} = {i * j}')\n",
        "#         # j += 1      # 이거 없으면 무한 루프\n",
        "#     # i += 1          # 이거 없으면 무한 루프"
      ],
      "metadata": {
        "id": "b0O0hm6J20TA"
      },
      "execution_count": null,
      "outputs": []
    },
    {
      "cell_type": "markdown",
      "source": [
        "## break"
      ],
      "metadata": {
        "id": "ygYQgXUX-j5G"
      }
    },
    {
      "cell_type": "code",
      "source": [
        "x = 0\n",
        "while x < 10:\n",
        "    print(x)\n",
        "    if x == 5:\n",
        "        break           # 바로 위의 반복문(for나 while)만 탈출\n",
        "    x += 1"
      ],
      "metadata": {
        "colab": {
          "base_uri": "https://localhost:8080/"
        },
        "id": "ZO-VzJqY-kZi",
        "outputId": "e5caf385-17be-44c8-cf53-6fe2d2822e7c"
      },
      "execution_count": null,
      "outputs": [
        {
          "output_type": "stream",
          "name": "stdout",
          "text": [
            "0\n",
            "1\n",
            "2\n",
            "3\n",
            "4\n",
            "5\n"
          ]
        }
      ]
    },
    {
      "cell_type": "markdown",
      "source": [
        "## continue"
      ],
      "metadata": {
        "id": "IokfzxxA_vCU"
      }
    },
    {
      "cell_type": "code",
      "source": [
        "x = 0\n",
        "while x < 5:\n",
        "    x += 1\n",
        "    if x == 3:\n",
        "        continue        # 반복문이 실행하는 코드 블록의 나머지 부분을 실행하지 않고 다음 반복으로 건너가게 흐름을 조정\n",
        "    print(x)"
      ],
      "metadata": {
        "id": "aZrmvNEC_fQw"
      },
      "execution_count": null,
      "outputs": []
    },
    {
      "cell_type": "markdown",
      "source": [
        "## pass"
      ],
      "metadata": {
        "id": "8N8SMvf1_xmT"
      }
    },
    {
      "cell_type": "code",
      "source": [
        "x = 0\n",
        "while x < 5:\n",
        "    x += 1\n",
        "    if x == 3:\n",
        "        pass        # pass는 단지 지나칠 뿐입니다. 코드가 애러가 나지 않도록 해주는 역할만 있을 뿐\n",
        "    print(x)"
      ],
      "metadata": {
        "colab": {
          "base_uri": "https://localhost:8080/"
        },
        "id": "prlhyqCQ_zX5",
        "outputId": "84130e68-0035-44b9-ff8f-db7a4c0d3e25"
      },
      "execution_count": null,
      "outputs": [
        {
          "output_type": "stream",
          "name": "stdout",
          "text": [
            "1\n",
            "2\n",
            "3\n",
            "4\n",
            "5\n"
          ]
        }
      ]
    },
    {
      "cell_type": "markdown",
      "source": [
        "## 모든 반복문 한 번에 탈출"
      ],
      "metadata": {
        "id": "09qUfF7aAOEA"
      }
    },
    {
      "cell_type": "markdown",
      "source": [
        "### switch (변수를 하나 더 두어 여러 반복문을 탈출)"
      ],
      "metadata": {
        "id": "Dx5RJqrcARTn"
      }
    },
    {
      "cell_type": "code",
      "source": [
        "switch = 0\n",
        "for i in range(5):\n",
        "    if switch == 1:\n",
        "        break\n",
        "    for j in range(5):\n",
        "        if j == 3:\n",
        "            switch = 1\n",
        "            break\n",
        "        print(f'{i}, {j}')"
      ],
      "metadata": {
        "colab": {
          "base_uri": "https://localhost:8080/"
        },
        "id": "wKJHlpuD_1fF",
        "outputId": "3b157381-8fea-4dd8-b286-029742a55749"
      },
      "execution_count": null,
      "outputs": [
        {
          "output_type": "stream",
          "name": "stdout",
          "text": [
            "0, 0\n",
            "0, 1\n",
            "0, 2\n"
          ]
        }
      ]
    },
    {
      "cell_type": "markdown",
      "source": [
        "### try와 except"
      ],
      "metadata": {
        "id": "Lg7XK_SeAUq5"
      }
    },
    {
      "cell_type": "code",
      "source": [
        "# https://peps.python.org/pep-3136/\n",
        "\n",
        "try:\n",
        "    for i in range(2, 10):\n",
        "        for j in range(1, 10):\n",
        "            if j == 3:\n",
        "                raise StopIteration\n",
        "            print(f'{i} X {j} = {i*j}')\n",
        "except StopIteration:\n",
        "    print(\"Done\")\n"
      ],
      "metadata": {
        "colab": {
          "base_uri": "https://localhost:8080/"
        },
        "id": "NHtQING9AVLW",
        "outputId": "7f2093fe-23e2-425d-bbab-2a43d7292dba"
      },
      "execution_count": null,
      "outputs": [
        {
          "output_type": "stream",
          "name": "stdout",
          "text": [
            "2 X 1 = 2\n",
            "2 X 2 = 4\n",
            "Done\n"
          ]
        }
      ]
    },
    {
      "cell_type": "markdown",
      "source": [
        "## 반복문 else: for-else, while-else\n",
        "\n",
        "* else 도 루프와 세트. break 에 안걸려야 수행"
      ],
      "metadata": {
        "id": "IYMI2vGbCLO2"
      }
    },
    {
      "cell_type": "code",
      "source": [
        "for i in range(100):\n",
        "    print(f'{i} 물고기를 잡았습니다.')\n",
        "    if i == 5:\n",
        "        print('만선입니다. 물고기를 다 잡았습니다.')\n",
        "        break                             # if 조건에 걸리면 break. 루프내 else 실행 안됨\n",
        "else:                                     # 정상 종료 되었을때 else 수행\n",
        "    print('아직 여유가 좀 있지만, 물고기가 더 없는 것 같으니 이정도로 만족하고 돌아갑시다.')\n",
        "print('수고하셨습니다.')"
      ],
      "metadata": {
        "id": "D_UvtwrXAgIb"
      },
      "execution_count": null,
      "outputs": []
    },
    {
      "cell_type": "markdown",
      "source": [
        "## 조별 공동 코딩 (할일 목록 프로그램)\n",
        "```\n",
        "Step 1: 할 일 목록 초기화 및 표시 함수\n",
        "목표: 사용자의 할 일 목록을 관리합니다.\n",
        "내용:\n",
        "할 일 목록을 저장할 리스트를 초기화합니다.\n",
        "할 일 목록을 표시하는 함수를 정의합니다.\n",
        "\n",
        "Step 2: 할 일 추가 및 삭제 기능\n",
        "목표: 할 일을 추가하고 삭제하는 기능을 구현합니다.\n",
        "내용:\n",
        "할 일을 추가하는 함수를 정의합니다.\n",
        "할 일을 삭제하는 함수를 정의합니다.\n",
        "\n",
        "Step 3: 사용자 입력 처리\n",
        "목표: 사용자 입력에 따라 프로그램이 반응하도록 합니다.\n",
        "내용:\n",
        "사용자로부터 입력을 받아 추가, 삭제, 표시 기능을 수행합니다.\n",
        "```"
      ],
      "metadata": {
        "id": "HveSOZp6HUaA"
      }
    },
    {
      "cell_type": "code",
      "source": [
        "# 모범답안\n",
        "# 할 일 목록을 저장할 리스트\n",
        "todo_list = []\n",
        "\n",
        "# 할 일 목록을 표시하는 함수\n",
        "def display_todo_list():\n",
        "    print(\"현재 할 일 목록:\")\n",
        "    for task in todo_list:  # todo_list에 있는 모든 할 일을 순회\n",
        "        print(\"- \" + task)  # 각 할 일 앞에 '-'를 붙여서 출력\n",
        "\n",
        "# 할 일을 추가하는 함수\n",
        "def add_task(task):\n",
        "    todo_list.append(task)  # 리스트에 새 할 일 추가\n",
        "    print(f\"'{task}'가 할 일 목록에 추가되었습니다.\")\n",
        "\n",
        "# 할 일을 제거하는 함수\n",
        "def remove_task(task):\n",
        "    if task in todo_list:  # 할 일이 목록에 있는지 확인\n",
        "        todo_list.remove(task)  # 목록에서 할 일 제거\n",
        "        print(f\"'{task}'가 할 일 목록에서 제거되었습니다.\")\n",
        "    else:\n",
        "        print(f\"할 일 목록에 '{task}'가 없습니다.\")\n",
        "\n",
        "# 메인 루프\n",
        "while True:\n",
        "    print(\"\\n[1] 할 일 추가 [2] 할 일 삭제 [3] 목록 표시 [4] 종료\")\n",
        "    choice = input(\"선택: \")  # 사용자 입력 받기\n",
        "\n",
        "    if choice == '1':  # 할 일 추가\n",
        "        task = input(\"추가할 할 일: \")\n",
        "        add_task(task)\n",
        "    elif choice == '2':  # 할 일 삭제\n",
        "        task = input(\"삭제할 할 일: \")\n",
        "        remove_task(task)\n",
        "    elif choice == '3':  # 할 일 목록 표시\n",
        "        display_todo_list()\n",
        "    elif choice == '4':  # 프로그램 종료\n",
        "        print(\"프로그램을 종료합니다.\")\n",
        "        break  # while 루프 종료\n",
        "    else:\n",
        "        print(\"잘못된 선택입니다. 다시 입력하세요.\")"
      ],
      "metadata": {
        "colab": {
          "base_uri": "https://localhost:8080/",
          "height": 903
        },
        "id": "PzlKKqGzQy8s",
        "outputId": "c6ee86d9-fb7d-4df4-fe43-b91c1be70f5d"
      },
      "execution_count": 16,
      "outputs": [
        {
          "output_type": "stream",
          "name": "stdout",
          "text": [
            "\n",
            "[1] 할 일 추가 [2] 할 일 삭제 [3] 목록 표시 [4] 종료\n",
            "선택: 1\n",
            "추가할 할 일: 예습'\n",
            "'예습''가 할 일 목록에 추가되었습니다.\n",
            "\n",
            "[1] 할 일 추가 [2] 할 일 삭제 [3] 목록 표시 [4] 종료\n",
            "선택: ㄹ\n",
            "잘못된 선택입니다. 다시 입력하세요.\n",
            "\n",
            "[1] 할 일 추가 [2] 할 일 삭제 [3] 목록 표시 [4] 종료\n",
            "선택: 1\n",
            "추가할 할 일: 복습\n",
            "'복습'가 할 일 목록에 추가되었습니다.\n",
            "\n",
            "[1] 할 일 추가 [2] 할 일 삭제 [3] 목록 표시 [4] 종료\n",
            "선택: 3\n",
            "현재 할 일 목록:\n",
            "- 예습'\n",
            "- 복습\n",
            "\n",
            "[1] 할 일 추가 [2] 할 일 삭제 [3] 목록 표시 [4] 종료\n",
            "선택: 2\n",
            "삭제할 할 일: 예습'\n",
            "'예습''가 할 일 목록에서 제거되었습니다.\n",
            "\n",
            "[1] 할 일 추가 [2] 할 일 삭제 [3] 목록 표시 [4] 종료\n"
          ]
        },
        {
          "output_type": "error",
          "ename": "KeyboardInterrupt",
          "evalue": "Interrupted by user",
          "traceback": [
            "\u001b[0;31m---------------------------------------------------------------------------\u001b[0m",
            "\u001b[0;31mKeyboardInterrupt\u001b[0m                         Traceback (most recent call last)",
            "\u001b[0;32m<ipython-input-16-96f15889660d>\u001b[0m in \u001b[0;36m<cell line: 25>\u001b[0;34m()\u001b[0m\n\u001b[1;32m     25\u001b[0m \u001b[0;32mwhile\u001b[0m \u001b[0;32mTrue\u001b[0m\u001b[0;34m:\u001b[0m\u001b[0;34m\u001b[0m\u001b[0;34m\u001b[0m\u001b[0m\n\u001b[1;32m     26\u001b[0m     \u001b[0mprint\u001b[0m\u001b[0;34m(\u001b[0m\u001b[0;34m\"\\n[1] 할 일 추가 [2] 할 일 삭제 [3] 목록 표시 [4] 종료\"\u001b[0m\u001b[0;34m)\u001b[0m\u001b[0;34m\u001b[0m\u001b[0;34m\u001b[0m\u001b[0m\n\u001b[0;32m---> 27\u001b[0;31m     \u001b[0mchoice\u001b[0m \u001b[0;34m=\u001b[0m \u001b[0minput\u001b[0m\u001b[0;34m(\u001b[0m\u001b[0;34m\"선택: \"\u001b[0m\u001b[0;34m)\u001b[0m  \u001b[0;31m# 사용자 입력 받기\u001b[0m\u001b[0;34m\u001b[0m\u001b[0;34m\u001b[0m\u001b[0m\n\u001b[0m\u001b[1;32m     28\u001b[0m \u001b[0;34m\u001b[0m\u001b[0m\n\u001b[1;32m     29\u001b[0m     \u001b[0;32mif\u001b[0m \u001b[0mchoice\u001b[0m \u001b[0;34m==\u001b[0m \u001b[0;34m'1'\u001b[0m\u001b[0;34m:\u001b[0m  \u001b[0;31m# 할 일 추가\u001b[0m\u001b[0;34m\u001b[0m\u001b[0;34m\u001b[0m\u001b[0m\n",
            "\u001b[0;32m/usr/local/lib/python3.10/dist-packages/ipykernel/kernelbase.py\u001b[0m in \u001b[0;36mraw_input\u001b[0;34m(self, prompt)\u001b[0m\n\u001b[1;32m    849\u001b[0m                 \u001b[0;34m\"raw_input was called, but this frontend does not support input requests.\"\u001b[0m\u001b[0;34m\u001b[0m\u001b[0;34m\u001b[0m\u001b[0m\n\u001b[1;32m    850\u001b[0m             )\n\u001b[0;32m--> 851\u001b[0;31m         return self._input_request(str(prompt),\n\u001b[0m\u001b[1;32m    852\u001b[0m             \u001b[0mself\u001b[0m\u001b[0;34m.\u001b[0m\u001b[0m_parent_ident\u001b[0m\u001b[0;34m,\u001b[0m\u001b[0;34m\u001b[0m\u001b[0;34m\u001b[0m\u001b[0m\n\u001b[1;32m    853\u001b[0m             \u001b[0mself\u001b[0m\u001b[0;34m.\u001b[0m\u001b[0m_parent_header\u001b[0m\u001b[0;34m,\u001b[0m\u001b[0;34m\u001b[0m\u001b[0;34m\u001b[0m\u001b[0m\n",
            "\u001b[0;32m/usr/local/lib/python3.10/dist-packages/ipykernel/kernelbase.py\u001b[0m in \u001b[0;36m_input_request\u001b[0;34m(self, prompt, ident, parent, password)\u001b[0m\n\u001b[1;32m    893\u001b[0m             \u001b[0;32mexcept\u001b[0m \u001b[0mKeyboardInterrupt\u001b[0m\u001b[0;34m:\u001b[0m\u001b[0;34m\u001b[0m\u001b[0;34m\u001b[0m\u001b[0m\n\u001b[1;32m    894\u001b[0m                 \u001b[0;31m# re-raise KeyboardInterrupt, to truncate traceback\u001b[0m\u001b[0;34m\u001b[0m\u001b[0;34m\u001b[0m\u001b[0m\n\u001b[0;32m--> 895\u001b[0;31m                 \u001b[0;32mraise\u001b[0m \u001b[0mKeyboardInterrupt\u001b[0m\u001b[0;34m(\u001b[0m\u001b[0;34m\"Interrupted by user\"\u001b[0m\u001b[0;34m)\u001b[0m \u001b[0;32mfrom\u001b[0m \u001b[0;32mNone\u001b[0m\u001b[0;34m\u001b[0m\u001b[0;34m\u001b[0m\u001b[0m\n\u001b[0m\u001b[1;32m    896\u001b[0m             \u001b[0;32mexcept\u001b[0m \u001b[0mException\u001b[0m \u001b[0;32mas\u001b[0m \u001b[0me\u001b[0m\u001b[0;34m:\u001b[0m\u001b[0;34m\u001b[0m\u001b[0;34m\u001b[0m\u001b[0m\n\u001b[1;32m    897\u001b[0m                 \u001b[0mself\u001b[0m\u001b[0;34m.\u001b[0m\u001b[0mlog\u001b[0m\u001b[0;34m.\u001b[0m\u001b[0mwarning\u001b[0m\u001b[0;34m(\u001b[0m\u001b[0;34m\"Invalid Message:\"\u001b[0m\u001b[0;34m,\u001b[0m \u001b[0mexc_info\u001b[0m\u001b[0;34m=\u001b[0m\u001b[0;32mTrue\u001b[0m\u001b[0;34m)\u001b[0m\u001b[0;34m\u001b[0m\u001b[0;34m\u001b[0m\u001b[0m\n",
            "\u001b[0;31mKeyboardInterrupt\u001b[0m: Interrupted by user"
          ]
        }
      ]
    },
    {
      "cell_type": "markdown",
      "source": [
        "## 내가 작성한 코드\n",
        "\n",
        "```\n",
        "# 필요한 함수 목록\n",
        "1. 할일 목록 저장\n",
        "2. 할일 목록 표시\n",
        "3. 할일 추가\n",
        "4. 할일 삭제\n",
        "5. 입력받아서 추가, 삭제, 표시\n",
        "\n",
        "```"
      ],
      "metadata": {
        "id": "zMAUTpY5JAP3"
      }
    },
    {
      "cell_type": "code",
      "source": [
        "# 완성하기 ********************************\n",
        "my_list = ['복습', '예습']\n",
        "\n",
        "def to_do_list_show():      # 할일 목록 표시\n",
        "    print(my_list)\n",
        "\n",
        "def to_do_list_add(new_act):    # 할일 추가\n",
        "    my_list.append(new_act)\n",
        "\n",
        "\n",
        "def to_do_list_del(del_act):    # 할일 삭제\n",
        "    my_list.remove(del_act)\n",
        "\n",
        "choice = None\n",
        "\n",
        "while choice != 4:\n",
        "    choice = int(input(\"\\n [1] 할 일 추가 [2] 할 일 삭제 [3] 목록 표시 [4] 종료  \"))\n",
        "\n",
        "    if choice == 1:\n",
        "        act1 = input('\\n 추가할 일을 적어주세요:  ')\n",
        "        to_do_list_add(act1)\n",
        "    elif choice == 2:\n",
        "        print(my_list)\n",
        "        act2 = input('\\n 할 일 목록에서 삭제할 일을 적어주세요:  ')\n",
        "        to_do_list_del(act2)\n",
        "    elif choice == 3:\n",
        "        to_do_list_show()\n",
        "    elif choice == 4:\n",
        "        print(\"\\n 종료합니다.\")\n",
        "        break\n",
        "    else:\n",
        "        print('기능의 번호를 입력해 주세요')\n",
        "\n",
        "\n"
      ],
      "metadata": {
        "id": "BBAPdyYVHTYv",
        "colab": {
          "base_uri": "https://localhost:8080/"
        },
        "outputId": "eb3810e8-4745-45c7-9afa-88031888327c"
      },
      "execution_count": 15,
      "outputs": [
        {
          "output_type": "stream",
          "name": "stdout",
          "text": [
            "\n",
            " [1] 할 일 추가 [2] 할 일 삭제 [3] 목록 표시 [4] 종료  1\n",
            "\n",
            " 추가할 일을 적어주세요:  정리\n",
            "\n",
            " [1] 할 일 추가 [2] 할 일 삭제 [3] 목록 표시 [4] 종료  3\n",
            "['복습', '예습', '정리']\n",
            "\n",
            " [1] 할 일 추가 [2] 할 일 삭제 [3] 목록 표시 [4] 종료  1\n",
            "\n",
            " 추가할 일을 적어주세요:  깃허브\n",
            "\n",
            " [1] 할 일 추가 [2] 할 일 삭제 [3] 목록 표시 [4] 종료  3\n",
            "['복습', '예습', '정리', '깃허브']\n",
            "\n",
            " [1] 할 일 추가 [2] 할 일 삭제 [3] 목록 표시 [4] 종료  4\n",
            "\n",
            " 종료합니다.\n"
          ]
        }
      ]
    },
    {
      "cell_type": "markdown",
      "source": [
        "# Class (members + methods)\n",
        "* 대문자로 이름 설정\n",
        "* 초기화( __init__(self, name) ) 해야 인스턴스가 해당 속성? 가지고 생성됨\n",
        "* 클래스 안의 member(attributes) & methods 호출할 수 있음\n",
        "* method 선언할 때 argument = self 로 선언\n",
        "\n"
      ],
      "metadata": {
        "id": "Q9V1r6AYU6-E"
      }
    },
    {
      "cell_type": "markdown",
      "source": [
        "## Class 의 형태\n",
        "```\n",
        "class Character:\n",
        "    def __init__(hp, mp, power, drop_rate...(생략)):    # __init__\n",
        "        self.hp = hp\n",
        "        self.mp = mp\n",
        "        ...(생략)\n",
        "    \n",
        "    def move(self):\n",
        "        ...(생략)\n",
        "\n",
        "    def attack(self):\n",
        "        ...(생략)\n",
        "\n",
        "hero = Character(100, 100, 100, 0, ...(생략))\n",
        "mob1 = Character(30, 30, 30, 0.8, ...(생략))\n",
        "mob2 = Character(50, 50, 50, 0.5, ...(생략))\n",
        "mob3 = Character(70, 70, 70, 0.3, ...(생략))\n",
        "villain = Character(100, 100, 90, 0.1, ...(생략))\n",
        "```\n"
      ],
      "metadata": {
        "id": "OCxtxR13X-Af"
      }
    },
    {
      "cell_type": "markdown",
      "source": [
        "```\n",
        "최대 속도\n",
        "최대 탑승객\n",
        "기어\n",
        "\n",
        "기능(메서드) # 클래스 내 함수로 선언됩니다.\n",
        "출발\n",
        "정지\n",
        "```"
      ],
      "metadata": {
        "id": "Bt4NDT-LYrTb"
      }
    },
    {
      "cell_type": "code",
      "source": [
        "# 고정된 값을 가지는 클래스. 함수와 다른 점이 없는 선언\n",
        "\n",
        "class Car:              # 차에 설계 도면 또는 차 공장, 클래스\n",
        "    max_speed = 300     # 멤버 또는 애트리뷰트\n",
        "    max_people = 5\n",
        "    car_gear = ['P', 'D', 'R', 'N']\n",
        "\n",
        "    def start(self):    # 메서드 선언할떄는 arg 를 self로 선언. 관습\n",
        "        print('차가 출발합니다!')\n",
        "\n",
        "    def stop(self):\n",
        "        print('차가 멈췄습니다!')\n",
        "\n",
        "\n",
        "# 공장에서 생산된 자동차 modelx, y, s, 인스턴스\n",
        "modelx = Car() # 인스턴스 = 클래스()\n",
        "modely = Car()\n",
        "models = Car()\n",
        "\n",
        "print(models.car_gear[1])       # 클래스 내의 'D'\n",
        "models.start()\n",
        "models.stop()\n",
        "\n",
        "# Car.max_speed # modelx에 속도를 보고 싶으면 modelx.max_speed를 찍어야 합니다.\n",
        "# 초기 설계는 300으로 찍혀 있지만, 고객이 아래와 같이 자동차 튜닝을 했을 수도 있으니까요.\n",
        "\n",
        "models.max_speed = 500          # class Car 의 max_speed 가 변경되지 않음\n",
        "\n",
        "print(models.max_speed)\n",
        "print(modely.max_speed)\n"
      ],
      "metadata": {
        "colab": {
          "base_uri": "https://localhost:8080/"
        },
        "id": "LrTNYkNCYnKa",
        "outputId": "ab52ff9a-2b91-460d-d814-e3c924117e48"
      },
      "execution_count": 1,
      "outputs": [
        {
          "output_type": "stream",
          "name": "stdout",
          "text": [
            "D\n",
            "차가 출발합니다!\n",
            "차가 멈췄습니다!\n",
            "500\n",
            "300\n"
          ]
        }
      ]
    },
    {
      "cell_type": "markdown",
      "source": [
        "## class Car:"
      ],
      "metadata": {
        "id": "Ch5uNmqodWwE"
      }
    },
    {
      "cell_type": "code",
      "source": [
        "# 선생님 설명\n",
        "class Car:\n",
        "    brand_name = []                 # 내가 넣음\n",
        "\n",
        "    def __init__(self, name, CEO): # 클래스에서 __init__은 붕어빵 틀 중에서 가장 기본 틀!\n",
        "        self.name = name           # self는 인수로 전달받지도 전달하지도 않음 -> Car 클래스 그 자체\n",
        "        self.CEO = CEO             # 위에 꼭 self를 붙여야 self를 사용해서 self.name처럼 사용할 수 있음\n",
        "\n",
        "modelx = Car('Tesla Model X', '일론 머스크') # __init__과 self로 구현된 값은 클래스 할당시 입력자료를 넣을 수 있다.\n",
        "print(modelx.name)                        # 입력을 받을때는 파라미터를 설정해야한다.(name, CEO처럼)\n",
        "print(modelx.CEO)                         # 그러면 modelx처럼 name과 CEO의 데이터를 불러올수 있다.\n",
        "\n"
      ],
      "metadata": {
        "id": "4a9A5MgvfjUk"
      },
      "execution_count": null,
      "outputs": []
    },
    {
      "cell_type": "code",
      "source": [
        "\n",
        "# x = int(3) 여기서 넣었던 3이라는 값이 어떻게 처리되는지 확인\n",
        "class Car:\n",
        "    max_speed = 300\n",
        "    max_people = 5\n",
        "    car_gear = ['P', 'D', 'R', 'N']\n",
        "\n",
        "    def __init__(self, name): # 클래스로 인스턴스를 만들 때 호출!\n",
        "        self.name = name\n",
        "\n",
        "    def start(self):\n",
        "        print('차가 출발합니다!')\n",
        "\n",
        "    def stop(self):\n",
        "        print('차가 멈췄습니다!')\n",
        "\n",
        "modelx = Car('Tesla Model X') # x = int(3) 여기서 넣었던 3이 __init__ 메직메서드에서 처리!\n",
        "modelx.name"
      ],
      "metadata": {
        "colab": {
          "base_uri": "https://localhost:8080/",
          "height": 36
        },
        "id": "q0PMXFV2U9Ra",
        "outputId": "81c7eef7-2011-49e9-91ed-64f3c647c7ec"
      },
      "execution_count": 8,
      "outputs": [
        {
          "output_type": "execute_result",
          "data": {
            "text/plain": [
              "'Tesla Model X'"
            ],
            "application/vnd.google.colaboratory.intrinsic+json": {
              "type": "string"
            }
          },
          "metadata": {},
          "execution_count": 8
        }
      ]
    },
    {
      "cell_type": "code",
      "source": [
        "# 선생님 설명\n",
        "class Car:\n",
        "\n",
        "    def __init__(self, name, CEO): # 클래스에서 __init__은 붕어빵 틀 중에서 가장 기본 틀!\n",
        "        self.name = name           # self는 인수로 전달받지도 전달하지도 않음 -> Car 클래스 그 자체\n",
        "        self.CEO = CEO             # 위에 꼭 self를 붙여야 self를 사용해서 self.name처럼 사용할 수 있음\n",
        "\n",
        "modelx = Car('Tesla Model X', '일론 머스크') # __init__과 self로 구현된 값은 클래스 할당시 입력자료를 넣을 수 있다.\n",
        "print(modelx.name)                        # 입력을 받을때는 파라미터를 설정해야한다.(name, CEO처럼)\n",
        "print(modelx.CEO)                         # 그러면 modelx처럼 name과 CEO의 데이터를 불러올수 있다.\n"
      ],
      "metadata": {
        "id": "bCxr9kJdGjog"
      },
      "execution_count": null,
      "outputs": []
    }
  ]
}
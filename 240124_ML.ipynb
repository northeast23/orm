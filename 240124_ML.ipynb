{
  "nbformat": 4,
  "nbformat_minor": 0,
  "metadata": {
    "colab": {
      "provenance": [],
      "gpuType": "T4",
      "authorship_tag": "ABX9TyO695jTCjNzSDtYBQh7Mvxs"
    },
    "kernelspec": {
      "name": "python3",
      "display_name": "Python 3"
    },
    "language_info": {
      "name": "python"
    },
    "accelerator": "GPU"
  },
  "cells": [
    {
      "cell_type": "markdown",
      "source": [
        "# Machine Learning"
      ],
      "metadata": {
        "id": "3fv2AzZe1tdL"
      }
    },
    {
      "cell_type": "markdown",
      "source": [
        "## DF, RF\n"
      ],
      "metadata": {
        "id": "ZnIZoRSy1lYP"
      }
    },
    {
      "cell_type": "code",
      "source": [
        "## 기본 패키지 모음\n",
        "import numpy as np\n",
        "import pandas as pd\n",
        "import matplotlib.pyplot as plt\n",
        "import seaborn as sns\n",
        "\n",
        "## 전처리 및 모델링 준비를 위한 패키지\n",
        "from sklearn.preprocessing import StandardScaler, LabelEncoder\n",
        "from sklearn.model_selection import train_test_split\n",
        "\n",
        "## 실제 모델링을 위한 패키지\n",
        "from sklearn.linear_model import LogisticRegression\n",
        "from sklearn.svm import SVC\n",
        "from sklearn.neighbors import KNeighborsClassifier\n",
        "from sklearn.naive_bayes import GaussianNB\n",
        "\n",
        "from sklearn import tree\n",
        "from sklearn.ensemble import RandomForestClassifier\n",
        "\n",
        "\n",
        "## 모델 평가를 위한 패키지\n",
        "from sklearn.metrics import classification_report\n",
        "from sklearn import metrics"
      ],
      "metadata": {
        "id": "AuRxqAwp1yP7"
      },
      "execution_count": 1,
      "outputs": []
    },
    {
      "cell_type": "markdown",
      "source": [
        "## 1. Data import"
      ],
      "metadata": {
        "id": "WWp8pZ-s2Sc_"
      }
    },
    {
      "cell_type": "code",
      "execution_count": 2,
      "metadata": {
        "colab": {
          "base_uri": "https://localhost:8080/",
          "height": 478
        },
        "id": "q-LHwWJ71T5e",
        "outputId": "383b0d6f-fb25-47ba-a5c0-00acae473409"
      },
      "outputs": [
        {
          "output_type": "execute_result",
          "data": {
            "text/plain": [
              "      fixed acidity  volatile acidity  citric acid  residual sugar  chlorides  \\\n",
              "0               7.4             0.700         0.00             1.9      0.076   \n",
              "1               7.8             0.880         0.00             2.6      0.098   \n",
              "2               7.8             0.760         0.04             2.3      0.092   \n",
              "3              11.2             0.280         0.56             1.9      0.075   \n",
              "4               7.4             0.700         0.00             1.9      0.076   \n",
              "...             ...               ...          ...             ...        ...   \n",
              "1594            6.2             0.600         0.08             2.0      0.090   \n",
              "1595            5.9             0.550         0.10             2.2      0.062   \n",
              "1596            6.3             0.510         0.13             2.3      0.076   \n",
              "1597            5.9             0.645         0.12             2.0      0.075   \n",
              "1598            6.0             0.310         0.47             3.6      0.067   \n",
              "\n",
              "      free sulfur dioxide  total sulfur dioxide  density    pH  sulphates  \\\n",
              "0                    11.0                  34.0  0.99780  3.51       0.56   \n",
              "1                    25.0                  67.0  0.99680  3.20       0.68   \n",
              "2                    15.0                  54.0  0.99700  3.26       0.65   \n",
              "3                    17.0                  60.0  0.99800  3.16       0.58   \n",
              "4                    11.0                  34.0  0.99780  3.51       0.56   \n",
              "...                   ...                   ...      ...   ...        ...   \n",
              "1594                 32.0                  44.0  0.99490  3.45       0.58   \n",
              "1595                 39.0                  51.0  0.99512  3.52       0.76   \n",
              "1596                 29.0                  40.0  0.99574  3.42       0.75   \n",
              "1597                 32.0                  44.0  0.99547  3.57       0.71   \n",
              "1598                 18.0                  42.0  0.99549  3.39       0.66   \n",
              "\n",
              "      alcohol  quality  \n",
              "0         9.4        5  \n",
              "1         9.8        5  \n",
              "2         9.8        5  \n",
              "3         9.8        6  \n",
              "4         9.4        5  \n",
              "...       ...      ...  \n",
              "1594     10.5        5  \n",
              "1595     11.2        6  \n",
              "1596     11.0        6  \n",
              "1597     10.2        5  \n",
              "1598     11.0        6  \n",
              "\n",
              "[1599 rows x 12 columns]"
            ],
            "text/html": [
              "\n",
              "  <div id=\"df-f89d6526-b0c4-4324-95a0-3c4131a11f94\" class=\"colab-df-container\">\n",
              "    <div>\n",
              "<style scoped>\n",
              "    .dataframe tbody tr th:only-of-type {\n",
              "        vertical-align: middle;\n",
              "    }\n",
              "\n",
              "    .dataframe tbody tr th {\n",
              "        vertical-align: top;\n",
              "    }\n",
              "\n",
              "    .dataframe thead th {\n",
              "        text-align: right;\n",
              "    }\n",
              "</style>\n",
              "<table border=\"1\" class=\"dataframe\">\n",
              "  <thead>\n",
              "    <tr style=\"text-align: right;\">\n",
              "      <th></th>\n",
              "      <th>fixed acidity</th>\n",
              "      <th>volatile acidity</th>\n",
              "      <th>citric acid</th>\n",
              "      <th>residual sugar</th>\n",
              "      <th>chlorides</th>\n",
              "      <th>free sulfur dioxide</th>\n",
              "      <th>total sulfur dioxide</th>\n",
              "      <th>density</th>\n",
              "      <th>pH</th>\n",
              "      <th>sulphates</th>\n",
              "      <th>alcohol</th>\n",
              "      <th>quality</th>\n",
              "    </tr>\n",
              "  </thead>\n",
              "  <tbody>\n",
              "    <tr>\n",
              "      <th>0</th>\n",
              "      <td>7.4</td>\n",
              "      <td>0.700</td>\n",
              "      <td>0.00</td>\n",
              "      <td>1.9</td>\n",
              "      <td>0.076</td>\n",
              "      <td>11.0</td>\n",
              "      <td>34.0</td>\n",
              "      <td>0.99780</td>\n",
              "      <td>3.51</td>\n",
              "      <td>0.56</td>\n",
              "      <td>9.4</td>\n",
              "      <td>5</td>\n",
              "    </tr>\n",
              "    <tr>\n",
              "      <th>1</th>\n",
              "      <td>7.8</td>\n",
              "      <td>0.880</td>\n",
              "      <td>0.00</td>\n",
              "      <td>2.6</td>\n",
              "      <td>0.098</td>\n",
              "      <td>25.0</td>\n",
              "      <td>67.0</td>\n",
              "      <td>0.99680</td>\n",
              "      <td>3.20</td>\n",
              "      <td>0.68</td>\n",
              "      <td>9.8</td>\n",
              "      <td>5</td>\n",
              "    </tr>\n",
              "    <tr>\n",
              "      <th>2</th>\n",
              "      <td>7.8</td>\n",
              "      <td>0.760</td>\n",
              "      <td>0.04</td>\n",
              "      <td>2.3</td>\n",
              "      <td>0.092</td>\n",
              "      <td>15.0</td>\n",
              "      <td>54.0</td>\n",
              "      <td>0.99700</td>\n",
              "      <td>3.26</td>\n",
              "      <td>0.65</td>\n",
              "      <td>9.8</td>\n",
              "      <td>5</td>\n",
              "    </tr>\n",
              "    <tr>\n",
              "      <th>3</th>\n",
              "      <td>11.2</td>\n",
              "      <td>0.280</td>\n",
              "      <td>0.56</td>\n",
              "      <td>1.9</td>\n",
              "      <td>0.075</td>\n",
              "      <td>17.0</td>\n",
              "      <td>60.0</td>\n",
              "      <td>0.99800</td>\n",
              "      <td>3.16</td>\n",
              "      <td>0.58</td>\n",
              "      <td>9.8</td>\n",
              "      <td>6</td>\n",
              "    </tr>\n",
              "    <tr>\n",
              "      <th>4</th>\n",
              "      <td>7.4</td>\n",
              "      <td>0.700</td>\n",
              "      <td>0.00</td>\n",
              "      <td>1.9</td>\n",
              "      <td>0.076</td>\n",
              "      <td>11.0</td>\n",
              "      <td>34.0</td>\n",
              "      <td>0.99780</td>\n",
              "      <td>3.51</td>\n",
              "      <td>0.56</td>\n",
              "      <td>9.4</td>\n",
              "      <td>5</td>\n",
              "    </tr>\n",
              "    <tr>\n",
              "      <th>...</th>\n",
              "      <td>...</td>\n",
              "      <td>...</td>\n",
              "      <td>...</td>\n",
              "      <td>...</td>\n",
              "      <td>...</td>\n",
              "      <td>...</td>\n",
              "      <td>...</td>\n",
              "      <td>...</td>\n",
              "      <td>...</td>\n",
              "      <td>...</td>\n",
              "      <td>...</td>\n",
              "      <td>...</td>\n",
              "    </tr>\n",
              "    <tr>\n",
              "      <th>1594</th>\n",
              "      <td>6.2</td>\n",
              "      <td>0.600</td>\n",
              "      <td>0.08</td>\n",
              "      <td>2.0</td>\n",
              "      <td>0.090</td>\n",
              "      <td>32.0</td>\n",
              "      <td>44.0</td>\n",
              "      <td>0.99490</td>\n",
              "      <td>3.45</td>\n",
              "      <td>0.58</td>\n",
              "      <td>10.5</td>\n",
              "      <td>5</td>\n",
              "    </tr>\n",
              "    <tr>\n",
              "      <th>1595</th>\n",
              "      <td>5.9</td>\n",
              "      <td>0.550</td>\n",
              "      <td>0.10</td>\n",
              "      <td>2.2</td>\n",
              "      <td>0.062</td>\n",
              "      <td>39.0</td>\n",
              "      <td>51.0</td>\n",
              "      <td>0.99512</td>\n",
              "      <td>3.52</td>\n",
              "      <td>0.76</td>\n",
              "      <td>11.2</td>\n",
              "      <td>6</td>\n",
              "    </tr>\n",
              "    <tr>\n",
              "      <th>1596</th>\n",
              "      <td>6.3</td>\n",
              "      <td>0.510</td>\n",
              "      <td>0.13</td>\n",
              "      <td>2.3</td>\n",
              "      <td>0.076</td>\n",
              "      <td>29.0</td>\n",
              "      <td>40.0</td>\n",
              "      <td>0.99574</td>\n",
              "      <td>3.42</td>\n",
              "      <td>0.75</td>\n",
              "      <td>11.0</td>\n",
              "      <td>6</td>\n",
              "    </tr>\n",
              "    <tr>\n",
              "      <th>1597</th>\n",
              "      <td>5.9</td>\n",
              "      <td>0.645</td>\n",
              "      <td>0.12</td>\n",
              "      <td>2.0</td>\n",
              "      <td>0.075</td>\n",
              "      <td>32.0</td>\n",
              "      <td>44.0</td>\n",
              "      <td>0.99547</td>\n",
              "      <td>3.57</td>\n",
              "      <td>0.71</td>\n",
              "      <td>10.2</td>\n",
              "      <td>5</td>\n",
              "    </tr>\n",
              "    <tr>\n",
              "      <th>1598</th>\n",
              "      <td>6.0</td>\n",
              "      <td>0.310</td>\n",
              "      <td>0.47</td>\n",
              "      <td>3.6</td>\n",
              "      <td>0.067</td>\n",
              "      <td>18.0</td>\n",
              "      <td>42.0</td>\n",
              "      <td>0.99549</td>\n",
              "      <td>3.39</td>\n",
              "      <td>0.66</td>\n",
              "      <td>11.0</td>\n",
              "      <td>6</td>\n",
              "    </tr>\n",
              "  </tbody>\n",
              "</table>\n",
              "<p>1599 rows × 12 columns</p>\n",
              "</div>\n",
              "    <div class=\"colab-df-buttons\">\n",
              "\n",
              "  <div class=\"colab-df-container\">\n",
              "    <button class=\"colab-df-convert\" onclick=\"convertToInteractive('df-f89d6526-b0c4-4324-95a0-3c4131a11f94')\"\n",
              "            title=\"Convert this dataframe to an interactive table.\"\n",
              "            style=\"display:none;\">\n",
              "\n",
              "  <svg xmlns=\"http://www.w3.org/2000/svg\" height=\"24px\" viewBox=\"0 -960 960 960\">\n",
              "    <path d=\"M120-120v-720h720v720H120Zm60-500h600v-160H180v160Zm220 220h160v-160H400v160Zm0 220h160v-160H400v160ZM180-400h160v-160H180v160Zm440 0h160v-160H620v160ZM180-180h160v-160H180v160Zm440 0h160v-160H620v160Z\"/>\n",
              "  </svg>\n",
              "    </button>\n",
              "\n",
              "  <style>\n",
              "    .colab-df-container {\n",
              "      display:flex;\n",
              "      gap: 12px;\n",
              "    }\n",
              "\n",
              "    .colab-df-convert {\n",
              "      background-color: #E8F0FE;\n",
              "      border: none;\n",
              "      border-radius: 50%;\n",
              "      cursor: pointer;\n",
              "      display: none;\n",
              "      fill: #1967D2;\n",
              "      height: 32px;\n",
              "      padding: 0 0 0 0;\n",
              "      width: 32px;\n",
              "    }\n",
              "\n",
              "    .colab-df-convert:hover {\n",
              "      background-color: #E2EBFA;\n",
              "      box-shadow: 0px 1px 2px rgba(60, 64, 67, 0.3), 0px 1px 3px 1px rgba(60, 64, 67, 0.15);\n",
              "      fill: #174EA6;\n",
              "    }\n",
              "\n",
              "    .colab-df-buttons div {\n",
              "      margin-bottom: 4px;\n",
              "    }\n",
              "\n",
              "    [theme=dark] .colab-df-convert {\n",
              "      background-color: #3B4455;\n",
              "      fill: #D2E3FC;\n",
              "    }\n",
              "\n",
              "    [theme=dark] .colab-df-convert:hover {\n",
              "      background-color: #434B5C;\n",
              "      box-shadow: 0px 1px 3px 1px rgba(0, 0, 0, 0.15);\n",
              "      filter: drop-shadow(0px 1px 2px rgba(0, 0, 0, 0.3));\n",
              "      fill: #FFFFFF;\n",
              "    }\n",
              "  </style>\n",
              "\n",
              "    <script>\n",
              "      const buttonEl =\n",
              "        document.querySelector('#df-f89d6526-b0c4-4324-95a0-3c4131a11f94 button.colab-df-convert');\n",
              "      buttonEl.style.display =\n",
              "        google.colab.kernel.accessAllowed ? 'block' : 'none';\n",
              "\n",
              "      async function convertToInteractive(key) {\n",
              "        const element = document.querySelector('#df-f89d6526-b0c4-4324-95a0-3c4131a11f94');\n",
              "        const dataTable =\n",
              "          await google.colab.kernel.invokeFunction('convertToInteractive',\n",
              "                                                    [key], {});\n",
              "        if (!dataTable) return;\n",
              "\n",
              "        const docLinkHtml = 'Like what you see? Visit the ' +\n",
              "          '<a target=\"_blank\" href=https://colab.research.google.com/notebooks/data_table.ipynb>data table notebook</a>'\n",
              "          + ' to learn more about interactive tables.';\n",
              "        element.innerHTML = '';\n",
              "        dataTable['output_type'] = 'display_data';\n",
              "        await google.colab.output.renderOutput(dataTable, element);\n",
              "        const docLink = document.createElement('div');\n",
              "        docLink.innerHTML = docLinkHtml;\n",
              "        element.appendChild(docLink);\n",
              "      }\n",
              "    </script>\n",
              "  </div>\n",
              "\n",
              "\n",
              "<div id=\"df-422abfd0-6f1e-4190-9d4f-b4bca40d62c1\">\n",
              "  <button class=\"colab-df-quickchart\" onclick=\"quickchart('df-422abfd0-6f1e-4190-9d4f-b4bca40d62c1')\"\n",
              "            title=\"Suggest charts\"\n",
              "            style=\"display:none;\">\n",
              "\n",
              "<svg xmlns=\"http://www.w3.org/2000/svg\" height=\"24px\"viewBox=\"0 0 24 24\"\n",
              "     width=\"24px\">\n",
              "    <g>\n",
              "        <path d=\"M19 3H5c-1.1 0-2 .9-2 2v14c0 1.1.9 2 2 2h14c1.1 0 2-.9 2-2V5c0-1.1-.9-2-2-2zM9 17H7v-7h2v7zm4 0h-2V7h2v10zm4 0h-2v-4h2v4z\"/>\n",
              "    </g>\n",
              "</svg>\n",
              "  </button>\n",
              "\n",
              "<style>\n",
              "  .colab-df-quickchart {\n",
              "      --bg-color: #E8F0FE;\n",
              "      --fill-color: #1967D2;\n",
              "      --hover-bg-color: #E2EBFA;\n",
              "      --hover-fill-color: #174EA6;\n",
              "      --disabled-fill-color: #AAA;\n",
              "      --disabled-bg-color: #DDD;\n",
              "  }\n",
              "\n",
              "  [theme=dark] .colab-df-quickchart {\n",
              "      --bg-color: #3B4455;\n",
              "      --fill-color: #D2E3FC;\n",
              "      --hover-bg-color: #434B5C;\n",
              "      --hover-fill-color: #FFFFFF;\n",
              "      --disabled-bg-color: #3B4455;\n",
              "      --disabled-fill-color: #666;\n",
              "  }\n",
              "\n",
              "  .colab-df-quickchart {\n",
              "    background-color: var(--bg-color);\n",
              "    border: none;\n",
              "    border-radius: 50%;\n",
              "    cursor: pointer;\n",
              "    display: none;\n",
              "    fill: var(--fill-color);\n",
              "    height: 32px;\n",
              "    padding: 0;\n",
              "    width: 32px;\n",
              "  }\n",
              "\n",
              "  .colab-df-quickchart:hover {\n",
              "    background-color: var(--hover-bg-color);\n",
              "    box-shadow: 0 1px 2px rgba(60, 64, 67, 0.3), 0 1px 3px 1px rgba(60, 64, 67, 0.15);\n",
              "    fill: var(--button-hover-fill-color);\n",
              "  }\n",
              "\n",
              "  .colab-df-quickchart-complete:disabled,\n",
              "  .colab-df-quickchart-complete:disabled:hover {\n",
              "    background-color: var(--disabled-bg-color);\n",
              "    fill: var(--disabled-fill-color);\n",
              "    box-shadow: none;\n",
              "  }\n",
              "\n",
              "  .colab-df-spinner {\n",
              "    border: 2px solid var(--fill-color);\n",
              "    border-color: transparent;\n",
              "    border-bottom-color: var(--fill-color);\n",
              "    animation:\n",
              "      spin 1s steps(1) infinite;\n",
              "  }\n",
              "\n",
              "  @keyframes spin {\n",
              "    0% {\n",
              "      border-color: transparent;\n",
              "      border-bottom-color: var(--fill-color);\n",
              "      border-left-color: var(--fill-color);\n",
              "    }\n",
              "    20% {\n",
              "      border-color: transparent;\n",
              "      border-left-color: var(--fill-color);\n",
              "      border-top-color: var(--fill-color);\n",
              "    }\n",
              "    30% {\n",
              "      border-color: transparent;\n",
              "      border-left-color: var(--fill-color);\n",
              "      border-top-color: var(--fill-color);\n",
              "      border-right-color: var(--fill-color);\n",
              "    }\n",
              "    40% {\n",
              "      border-color: transparent;\n",
              "      border-right-color: var(--fill-color);\n",
              "      border-top-color: var(--fill-color);\n",
              "    }\n",
              "    60% {\n",
              "      border-color: transparent;\n",
              "      border-right-color: var(--fill-color);\n",
              "    }\n",
              "    80% {\n",
              "      border-color: transparent;\n",
              "      border-right-color: var(--fill-color);\n",
              "      border-bottom-color: var(--fill-color);\n",
              "    }\n",
              "    90% {\n",
              "      border-color: transparent;\n",
              "      border-bottom-color: var(--fill-color);\n",
              "    }\n",
              "  }\n",
              "</style>\n",
              "\n",
              "  <script>\n",
              "    async function quickchart(key) {\n",
              "      const quickchartButtonEl =\n",
              "        document.querySelector('#' + key + ' button');\n",
              "      quickchartButtonEl.disabled = true;  // To prevent multiple clicks.\n",
              "      quickchartButtonEl.classList.add('colab-df-spinner');\n",
              "      try {\n",
              "        const charts = await google.colab.kernel.invokeFunction(\n",
              "            'suggestCharts', [key], {});\n",
              "      } catch (error) {\n",
              "        console.error('Error during call to suggestCharts:', error);\n",
              "      }\n",
              "      quickchartButtonEl.classList.remove('colab-df-spinner');\n",
              "      quickchartButtonEl.classList.add('colab-df-quickchart-complete');\n",
              "    }\n",
              "    (() => {\n",
              "      let quickchartButtonEl =\n",
              "        document.querySelector('#df-422abfd0-6f1e-4190-9d4f-b4bca40d62c1 button');\n",
              "      quickchartButtonEl.style.display =\n",
              "        google.colab.kernel.accessAllowed ? 'block' : 'none';\n",
              "    })();\n",
              "  </script>\n",
              "</div>\n",
              "    </div>\n",
              "  </div>\n"
            ]
          },
          "metadata": {},
          "execution_count": 2
        }
      ],
      "source": [
        "# Data import\n",
        "wine = pd.read_csv('/content/winequality_red.csv')\n",
        "wine"
      ]
    },
    {
      "cell_type": "code",
      "source": [
        "# 모두 숫자인것을 확인\n",
        "wine.info()"
      ],
      "metadata": {
        "colab": {
          "base_uri": "https://localhost:8080/"
        },
        "id": "8Pwn-j1J2h61",
        "outputId": "f9b45499-0133-44dd-ca5f-b6b4a1a961db"
      },
      "execution_count": 6,
      "outputs": [
        {
          "output_type": "stream",
          "name": "stdout",
          "text": [
            "<class 'pandas.core.frame.DataFrame'>\n",
            "RangeIndex: 1599 entries, 0 to 1598\n",
            "Data columns (total 12 columns):\n",
            " #   Column                Non-Null Count  Dtype  \n",
            "---  ------                --------------  -----  \n",
            " 0   fixed acidity         1599 non-null   float64\n",
            " 1   volatile acidity      1599 non-null   float64\n",
            " 2   citric acid           1599 non-null   float64\n",
            " 3   residual sugar        1599 non-null   float64\n",
            " 4   chlorides             1599 non-null   float64\n",
            " 5   free sulfur dioxide   1599 non-null   float64\n",
            " 6   total sulfur dioxide  1599 non-null   float64\n",
            " 7   density               1599 non-null   float64\n",
            " 8   pH                    1599 non-null   float64\n",
            " 9   sulphates             1599 non-null   float64\n",
            " 10  alcohol               1599 non-null   float64\n",
            " 11  quality               1599 non-null   int64  \n",
            "dtypes: float64(11), int64(1)\n",
            "memory usage: 150.0 KB\n"
          ]
        }
      ]
    },
    {
      "cell_type": "code",
      "source": [
        "wine"
      ],
      "metadata": {
        "colab": {
          "base_uri": "https://localhost:8080/",
          "height": 478
        },
        "id": "A-WomHPY4bLA",
        "outputId": "98714bfe-b7ec-4ed7-ba95-e44c1cfeaa87"
      },
      "execution_count": 12,
      "outputs": [
        {
          "output_type": "execute_result",
          "data": {
            "text/plain": [
              "      fixed acidity  volatile acidity  citric acid  residual sugar  chlorides  \\\n",
              "0               7.4             0.700         0.00             1.9      0.076   \n",
              "1               7.8             0.880         0.00             2.6      0.098   \n",
              "2               7.8             0.760         0.04             2.3      0.092   \n",
              "3              11.2             0.280         0.56             1.9      0.075   \n",
              "4               7.4             0.700         0.00             1.9      0.076   \n",
              "...             ...               ...          ...             ...        ...   \n",
              "1594            6.2             0.600         0.08             2.0      0.090   \n",
              "1595            5.9             0.550         0.10             2.2      0.062   \n",
              "1596            6.3             0.510         0.13             2.3      0.076   \n",
              "1597            5.9             0.645         0.12             2.0      0.075   \n",
              "1598            6.0             0.310         0.47             3.6      0.067   \n",
              "\n",
              "      free sulfur dioxide  total sulfur dioxide  density    pH  sulphates  \\\n",
              "0                    11.0                  34.0  0.99780  3.51       0.56   \n",
              "1                    25.0                  67.0  0.99680  3.20       0.68   \n",
              "2                    15.0                  54.0  0.99700  3.26       0.65   \n",
              "3                    17.0                  60.0  0.99800  3.16       0.58   \n",
              "4                    11.0                  34.0  0.99780  3.51       0.56   \n",
              "...                   ...                   ...      ...   ...        ...   \n",
              "1594                 32.0                  44.0  0.99490  3.45       0.58   \n",
              "1595                 39.0                  51.0  0.99512  3.52       0.76   \n",
              "1596                 29.0                  40.0  0.99574  3.42       0.75   \n",
              "1597                 32.0                  44.0  0.99547  3.57       0.71   \n",
              "1598                 18.0                  42.0  0.99549  3.39       0.66   \n",
              "\n",
              "      alcohol  quality  \n",
              "0         9.4        0  \n",
              "1         9.8        0  \n",
              "2         9.8        0  \n",
              "3         9.8        0  \n",
              "4         9.4        0  \n",
              "...       ...      ...  \n",
              "1594     10.5        0  \n",
              "1595     11.2        0  \n",
              "1596     11.0        0  \n",
              "1597     10.2        0  \n",
              "1598     11.0        0  \n",
              "\n",
              "[1599 rows x 12 columns]"
            ],
            "text/html": [
              "\n",
              "  <div id=\"df-94c885cd-2fab-47bc-bd00-1ae078778163\" class=\"colab-df-container\">\n",
              "    <div>\n",
              "<style scoped>\n",
              "    .dataframe tbody tr th:only-of-type {\n",
              "        vertical-align: middle;\n",
              "    }\n",
              "\n",
              "    .dataframe tbody tr th {\n",
              "        vertical-align: top;\n",
              "    }\n",
              "\n",
              "    .dataframe thead th {\n",
              "        text-align: right;\n",
              "    }\n",
              "</style>\n",
              "<table border=\"1\" class=\"dataframe\">\n",
              "  <thead>\n",
              "    <tr style=\"text-align: right;\">\n",
              "      <th></th>\n",
              "      <th>fixed acidity</th>\n",
              "      <th>volatile acidity</th>\n",
              "      <th>citric acid</th>\n",
              "      <th>residual sugar</th>\n",
              "      <th>chlorides</th>\n",
              "      <th>free sulfur dioxide</th>\n",
              "      <th>total sulfur dioxide</th>\n",
              "      <th>density</th>\n",
              "      <th>pH</th>\n",
              "      <th>sulphates</th>\n",
              "      <th>alcohol</th>\n",
              "      <th>quality</th>\n",
              "    </tr>\n",
              "  </thead>\n",
              "  <tbody>\n",
              "    <tr>\n",
              "      <th>0</th>\n",
              "      <td>7.4</td>\n",
              "      <td>0.700</td>\n",
              "      <td>0.00</td>\n",
              "      <td>1.9</td>\n",
              "      <td>0.076</td>\n",
              "      <td>11.0</td>\n",
              "      <td>34.0</td>\n",
              "      <td>0.99780</td>\n",
              "      <td>3.51</td>\n",
              "      <td>0.56</td>\n",
              "      <td>9.4</td>\n",
              "      <td>0</td>\n",
              "    </tr>\n",
              "    <tr>\n",
              "      <th>1</th>\n",
              "      <td>7.8</td>\n",
              "      <td>0.880</td>\n",
              "      <td>0.00</td>\n",
              "      <td>2.6</td>\n",
              "      <td>0.098</td>\n",
              "      <td>25.0</td>\n",
              "      <td>67.0</td>\n",
              "      <td>0.99680</td>\n",
              "      <td>3.20</td>\n",
              "      <td>0.68</td>\n",
              "      <td>9.8</td>\n",
              "      <td>0</td>\n",
              "    </tr>\n",
              "    <tr>\n",
              "      <th>2</th>\n",
              "      <td>7.8</td>\n",
              "      <td>0.760</td>\n",
              "      <td>0.04</td>\n",
              "      <td>2.3</td>\n",
              "      <td>0.092</td>\n",
              "      <td>15.0</td>\n",
              "      <td>54.0</td>\n",
              "      <td>0.99700</td>\n",
              "      <td>3.26</td>\n",
              "      <td>0.65</td>\n",
              "      <td>9.8</td>\n",
              "      <td>0</td>\n",
              "    </tr>\n",
              "    <tr>\n",
              "      <th>3</th>\n",
              "      <td>11.2</td>\n",
              "      <td>0.280</td>\n",
              "      <td>0.56</td>\n",
              "      <td>1.9</td>\n",
              "      <td>0.075</td>\n",
              "      <td>17.0</td>\n",
              "      <td>60.0</td>\n",
              "      <td>0.99800</td>\n",
              "      <td>3.16</td>\n",
              "      <td>0.58</td>\n",
              "      <td>9.8</td>\n",
              "      <td>0</td>\n",
              "    </tr>\n",
              "    <tr>\n",
              "      <th>4</th>\n",
              "      <td>7.4</td>\n",
              "      <td>0.700</td>\n",
              "      <td>0.00</td>\n",
              "      <td>1.9</td>\n",
              "      <td>0.076</td>\n",
              "      <td>11.0</td>\n",
              "      <td>34.0</td>\n",
              "      <td>0.99780</td>\n",
              "      <td>3.51</td>\n",
              "      <td>0.56</td>\n",
              "      <td>9.4</td>\n",
              "      <td>0</td>\n",
              "    </tr>\n",
              "    <tr>\n",
              "      <th>...</th>\n",
              "      <td>...</td>\n",
              "      <td>...</td>\n",
              "      <td>...</td>\n",
              "      <td>...</td>\n",
              "      <td>...</td>\n",
              "      <td>...</td>\n",
              "      <td>...</td>\n",
              "      <td>...</td>\n",
              "      <td>...</td>\n",
              "      <td>...</td>\n",
              "      <td>...</td>\n",
              "      <td>...</td>\n",
              "    </tr>\n",
              "    <tr>\n",
              "      <th>1594</th>\n",
              "      <td>6.2</td>\n",
              "      <td>0.600</td>\n",
              "      <td>0.08</td>\n",
              "      <td>2.0</td>\n",
              "      <td>0.090</td>\n",
              "      <td>32.0</td>\n",
              "      <td>44.0</td>\n",
              "      <td>0.99490</td>\n",
              "      <td>3.45</td>\n",
              "      <td>0.58</td>\n",
              "      <td>10.5</td>\n",
              "      <td>0</td>\n",
              "    </tr>\n",
              "    <tr>\n",
              "      <th>1595</th>\n",
              "      <td>5.9</td>\n",
              "      <td>0.550</td>\n",
              "      <td>0.10</td>\n",
              "      <td>2.2</td>\n",
              "      <td>0.062</td>\n",
              "      <td>39.0</td>\n",
              "      <td>51.0</td>\n",
              "      <td>0.99512</td>\n",
              "      <td>3.52</td>\n",
              "      <td>0.76</td>\n",
              "      <td>11.2</td>\n",
              "      <td>0</td>\n",
              "    </tr>\n",
              "    <tr>\n",
              "      <th>1596</th>\n",
              "      <td>6.3</td>\n",
              "      <td>0.510</td>\n",
              "      <td>0.13</td>\n",
              "      <td>2.3</td>\n",
              "      <td>0.076</td>\n",
              "      <td>29.0</td>\n",
              "      <td>40.0</td>\n",
              "      <td>0.99574</td>\n",
              "      <td>3.42</td>\n",
              "      <td>0.75</td>\n",
              "      <td>11.0</td>\n",
              "      <td>0</td>\n",
              "    </tr>\n",
              "    <tr>\n",
              "      <th>1597</th>\n",
              "      <td>5.9</td>\n",
              "      <td>0.645</td>\n",
              "      <td>0.12</td>\n",
              "      <td>2.0</td>\n",
              "      <td>0.075</td>\n",
              "      <td>32.0</td>\n",
              "      <td>44.0</td>\n",
              "      <td>0.99547</td>\n",
              "      <td>3.57</td>\n",
              "      <td>0.71</td>\n",
              "      <td>10.2</td>\n",
              "      <td>0</td>\n",
              "    </tr>\n",
              "    <tr>\n",
              "      <th>1598</th>\n",
              "      <td>6.0</td>\n",
              "      <td>0.310</td>\n",
              "      <td>0.47</td>\n",
              "      <td>3.6</td>\n",
              "      <td>0.067</td>\n",
              "      <td>18.0</td>\n",
              "      <td>42.0</td>\n",
              "      <td>0.99549</td>\n",
              "      <td>3.39</td>\n",
              "      <td>0.66</td>\n",
              "      <td>11.0</td>\n",
              "      <td>0</td>\n",
              "    </tr>\n",
              "  </tbody>\n",
              "</table>\n",
              "<p>1599 rows × 12 columns</p>\n",
              "</div>\n",
              "    <div class=\"colab-df-buttons\">\n",
              "\n",
              "  <div class=\"colab-df-container\">\n",
              "    <button class=\"colab-df-convert\" onclick=\"convertToInteractive('df-94c885cd-2fab-47bc-bd00-1ae078778163')\"\n",
              "            title=\"Convert this dataframe to an interactive table.\"\n",
              "            style=\"display:none;\">\n",
              "\n",
              "  <svg xmlns=\"http://www.w3.org/2000/svg\" height=\"24px\" viewBox=\"0 -960 960 960\">\n",
              "    <path d=\"M120-120v-720h720v720H120Zm60-500h600v-160H180v160Zm220 220h160v-160H400v160Zm0 220h160v-160H400v160ZM180-400h160v-160H180v160Zm440 0h160v-160H620v160ZM180-180h160v-160H180v160Zm440 0h160v-160H620v160Z\"/>\n",
              "  </svg>\n",
              "    </button>\n",
              "\n",
              "  <style>\n",
              "    .colab-df-container {\n",
              "      display:flex;\n",
              "      gap: 12px;\n",
              "    }\n",
              "\n",
              "    .colab-df-convert {\n",
              "      background-color: #E8F0FE;\n",
              "      border: none;\n",
              "      border-radius: 50%;\n",
              "      cursor: pointer;\n",
              "      display: none;\n",
              "      fill: #1967D2;\n",
              "      height: 32px;\n",
              "      padding: 0 0 0 0;\n",
              "      width: 32px;\n",
              "    }\n",
              "\n",
              "    .colab-df-convert:hover {\n",
              "      background-color: #E2EBFA;\n",
              "      box-shadow: 0px 1px 2px rgba(60, 64, 67, 0.3), 0px 1px 3px 1px rgba(60, 64, 67, 0.15);\n",
              "      fill: #174EA6;\n",
              "    }\n",
              "\n",
              "    .colab-df-buttons div {\n",
              "      margin-bottom: 4px;\n",
              "    }\n",
              "\n",
              "    [theme=dark] .colab-df-convert {\n",
              "      background-color: #3B4455;\n",
              "      fill: #D2E3FC;\n",
              "    }\n",
              "\n",
              "    [theme=dark] .colab-df-convert:hover {\n",
              "      background-color: #434B5C;\n",
              "      box-shadow: 0px 1px 3px 1px rgba(0, 0, 0, 0.15);\n",
              "      filter: drop-shadow(0px 1px 2px rgba(0, 0, 0, 0.3));\n",
              "      fill: #FFFFFF;\n",
              "    }\n",
              "  </style>\n",
              "\n",
              "    <script>\n",
              "      const buttonEl =\n",
              "        document.querySelector('#df-94c885cd-2fab-47bc-bd00-1ae078778163 button.colab-df-convert');\n",
              "      buttonEl.style.display =\n",
              "        google.colab.kernel.accessAllowed ? 'block' : 'none';\n",
              "\n",
              "      async function convertToInteractive(key) {\n",
              "        const element = document.querySelector('#df-94c885cd-2fab-47bc-bd00-1ae078778163');\n",
              "        const dataTable =\n",
              "          await google.colab.kernel.invokeFunction('convertToInteractive',\n",
              "                                                    [key], {});\n",
              "        if (!dataTable) return;\n",
              "\n",
              "        const docLinkHtml = 'Like what you see? Visit the ' +\n",
              "          '<a target=\"_blank\" href=https://colab.research.google.com/notebooks/data_table.ipynb>data table notebook</a>'\n",
              "          + ' to learn more about interactive tables.';\n",
              "        element.innerHTML = '';\n",
              "        dataTable['output_type'] = 'display_data';\n",
              "        await google.colab.output.renderOutput(dataTable, element);\n",
              "        const docLink = document.createElement('div');\n",
              "        docLink.innerHTML = docLinkHtml;\n",
              "        element.appendChild(docLink);\n",
              "      }\n",
              "    </script>\n",
              "  </div>\n",
              "\n",
              "\n",
              "<div id=\"df-eceb3cb6-dbc5-456e-af73-ade8511598bf\">\n",
              "  <button class=\"colab-df-quickchart\" onclick=\"quickchart('df-eceb3cb6-dbc5-456e-af73-ade8511598bf')\"\n",
              "            title=\"Suggest charts\"\n",
              "            style=\"display:none;\">\n",
              "\n",
              "<svg xmlns=\"http://www.w3.org/2000/svg\" height=\"24px\"viewBox=\"0 0 24 24\"\n",
              "     width=\"24px\">\n",
              "    <g>\n",
              "        <path d=\"M19 3H5c-1.1 0-2 .9-2 2v14c0 1.1.9 2 2 2h14c1.1 0 2-.9 2-2V5c0-1.1-.9-2-2-2zM9 17H7v-7h2v7zm4 0h-2V7h2v10zm4 0h-2v-4h2v4z\"/>\n",
              "    </g>\n",
              "</svg>\n",
              "  </button>\n",
              "\n",
              "<style>\n",
              "  .colab-df-quickchart {\n",
              "      --bg-color: #E8F0FE;\n",
              "      --fill-color: #1967D2;\n",
              "      --hover-bg-color: #E2EBFA;\n",
              "      --hover-fill-color: #174EA6;\n",
              "      --disabled-fill-color: #AAA;\n",
              "      --disabled-bg-color: #DDD;\n",
              "  }\n",
              "\n",
              "  [theme=dark] .colab-df-quickchart {\n",
              "      --bg-color: #3B4455;\n",
              "      --fill-color: #D2E3FC;\n",
              "      --hover-bg-color: #434B5C;\n",
              "      --hover-fill-color: #FFFFFF;\n",
              "      --disabled-bg-color: #3B4455;\n",
              "      --disabled-fill-color: #666;\n",
              "  }\n",
              "\n",
              "  .colab-df-quickchart {\n",
              "    background-color: var(--bg-color);\n",
              "    border: none;\n",
              "    border-radius: 50%;\n",
              "    cursor: pointer;\n",
              "    display: none;\n",
              "    fill: var(--fill-color);\n",
              "    height: 32px;\n",
              "    padding: 0;\n",
              "    width: 32px;\n",
              "  }\n",
              "\n",
              "  .colab-df-quickchart:hover {\n",
              "    background-color: var(--hover-bg-color);\n",
              "    box-shadow: 0 1px 2px rgba(60, 64, 67, 0.3), 0 1px 3px 1px rgba(60, 64, 67, 0.15);\n",
              "    fill: var(--button-hover-fill-color);\n",
              "  }\n",
              "\n",
              "  .colab-df-quickchart-complete:disabled,\n",
              "  .colab-df-quickchart-complete:disabled:hover {\n",
              "    background-color: var(--disabled-bg-color);\n",
              "    fill: var(--disabled-fill-color);\n",
              "    box-shadow: none;\n",
              "  }\n",
              "\n",
              "  .colab-df-spinner {\n",
              "    border: 2px solid var(--fill-color);\n",
              "    border-color: transparent;\n",
              "    border-bottom-color: var(--fill-color);\n",
              "    animation:\n",
              "      spin 1s steps(1) infinite;\n",
              "  }\n",
              "\n",
              "  @keyframes spin {\n",
              "    0% {\n",
              "      border-color: transparent;\n",
              "      border-bottom-color: var(--fill-color);\n",
              "      border-left-color: var(--fill-color);\n",
              "    }\n",
              "    20% {\n",
              "      border-color: transparent;\n",
              "      border-left-color: var(--fill-color);\n",
              "      border-top-color: var(--fill-color);\n",
              "    }\n",
              "    30% {\n",
              "      border-color: transparent;\n",
              "      border-left-color: var(--fill-color);\n",
              "      border-top-color: var(--fill-color);\n",
              "      border-right-color: var(--fill-color);\n",
              "    }\n",
              "    40% {\n",
              "      border-color: transparent;\n",
              "      border-right-color: var(--fill-color);\n",
              "      border-top-color: var(--fill-color);\n",
              "    }\n",
              "    60% {\n",
              "      border-color: transparent;\n",
              "      border-right-color: var(--fill-color);\n",
              "    }\n",
              "    80% {\n",
              "      border-color: transparent;\n",
              "      border-right-color: var(--fill-color);\n",
              "      border-bottom-color: var(--fill-color);\n",
              "    }\n",
              "    90% {\n",
              "      border-color: transparent;\n",
              "      border-bottom-color: var(--fill-color);\n",
              "    }\n",
              "  }\n",
              "</style>\n",
              "\n",
              "  <script>\n",
              "    async function quickchart(key) {\n",
              "      const quickchartButtonEl =\n",
              "        document.querySelector('#' + key + ' button');\n",
              "      quickchartButtonEl.disabled = true;  // To prevent multiple clicks.\n",
              "      quickchartButtonEl.classList.add('colab-df-spinner');\n",
              "      try {\n",
              "        const charts = await google.colab.kernel.invokeFunction(\n",
              "            'suggestCharts', [key], {});\n",
              "      } catch (error) {\n",
              "        console.error('Error during call to suggestCharts:', error);\n",
              "      }\n",
              "      quickchartButtonEl.classList.remove('colab-df-spinner');\n",
              "      quickchartButtonEl.classList.add('colab-df-quickchart-complete');\n",
              "    }\n",
              "    (() => {\n",
              "      let quickchartButtonEl =\n",
              "        document.querySelector('#df-eceb3cb6-dbc5-456e-af73-ade8511598bf button');\n",
              "      quickchartButtonEl.style.display =\n",
              "        google.colab.kernel.accessAllowed ? 'block' : 'none';\n",
              "    })();\n",
              "  </script>\n",
              "</div>\n",
              "    </div>\n",
              "  </div>\n"
            ]
          },
          "metadata": {},
          "execution_count": 12
        }
      ]
    },
    {
      "cell_type": "code",
      "source": [
        "wine.describe()\n",
        "wine.isnull().sum()\n",
        "wine['quality'].unique()\n",
        "sns.countplot(x='quality', data=wine)\n",
        "\n",
        "# 특성별도 데이터를 시각화 하여 데이터에 대한 정보를 파악합니다\n",
        "df1 = wine.select_dtypes([int, float])\n",
        "\n",
        "for i, col in enumerate(df1.columns):\n",
        "    plt.figure(i)\n",
        "    sns.barplot(x='quality', y =col, data=df1)"
      ],
      "metadata": {
        "colab": {
          "base_uri": "https://localhost:8080/",
          "height": 1000
        },
        "id": "KK99c0ni2MDv",
        "outputId": "1ec8052a-b1e0-43d5-b3c9-a11ea8a05f5f"
      },
      "execution_count": 4,
      "outputs": [
        {
          "output_type": "display_data",
          "data": {
            "text/plain": [
              "<Figure size 640x480 with 1 Axes>"
            ],
            "image/png": "[encoded data removed]"
          },
          "metadata": {}
        },
        {
          "output_type": "display_data",
          "data": {
            "text/plain": [
              "<Figure size 640x480 with 1 Axes>"
            ],
            "image/png": "[encoded data removed]"
          },
          "metadata": {}
        },
        {
          "output_type": "display_data",
          "data": {
            "text/plain": [
              "<Figure size 640x480 with 1 Axes>"
            ],
            "image/png": "[encoded data removed]"
          },
          "metadata": {}
        },
        {
          "output_type": "display_data",
          "data": {
            "text/plain": [
              "<Figure size 640x480 with 1 Axes>"
            ],
            "image/png": "[encoded data removed]"
          },
          "metadata": {}
        },
        {
          "output_type": "display_data",
          "data": {
            "text/plain": [
              "<Figure size 640x480 with 1 Axes>"
            ],
            "image/png": "[encoded data removed]"
          },
          "metadata": {}
        },
        {
          "output_type": "display_data",
          "data": {
            "text/plain": [
              "<Figure size 640x480 with 1 Axes>"
            ],
            "image/png": "[encoded data removed]"
          },
          "metadata": {}
        },
        {
          "output_type": "display_data",
          "data": {
            "text/plain": [
              "<Figure size 640x480 with 1 Axes>"
            ],
            "image/png": "[encoded data removed]"
          },
          "metadata": {}
        },
        {
          "output_type": "display_data",
          "data": {
            "text/plain": [
              "<Figure size 640x480 with 1 Axes>"
            ],
            "image/png": "[encoded data removed]"
          },
          "metadata": {}
        },
        {
          "output_type": "display_data",
          "data": {
            "text/plain": [
              "<Figure size 640x480 with 1 Axes>"
            ],
            "image/png": "[encoded data removed]"
          },
          "metadata": {}
        },
        {
          "output_type": "display_data",
          "data": {
            "text/plain": [
              "<Figure size 640x480 with 1 Axes>"
            ],
            "image/png": "[encoded data removed]"
          },
          "metadata": {}
        },
        {
          "output_type": "display_data",
          "data": {
            "text/plain": [
              "<Figure size 640x480 with 1 Axes>"
            ],
            "image/png": "[encoded data removed]"
          },
          "metadata": {}
        },
        {
          "output_type": "display_data",
          "data": {
            "text/plain": [
              "<Figure size 640x480 with 1 Axes>"
            ],
            "image/png": "[encoded data removed]"
          },
          "metadata": {}
        }
      ]
    },
    {
      "cell_type": "markdown",
      "source": [
        "```\n",
        "분류 --> 좋으나 나쁘나 2가지중 1개\n",
        "회귀 --> 집값 연속적인 값 0원 ~ 1억 --> 이중에 얼마인지 예측\n",
        "회귀 --> 분류 0원 5천만원 --> 집값이 낮다 / 5천 ~ 1억 집값이 높다  --> 분류\n",
        "```\n"
      ],
      "metadata": {
        "id": "VEnQPRE33cHT"
      }
    },
    {
      "cell_type": "code",
      "source": [
        "## 6.5점을 기준으로 좋은 와인과 나쁜 와인을 구분하겠다고 선언\n",
        "bins = (2, 6.5, 8)\n",
        "group_names = ['bad', 'good']\n",
        "wine['quality'] = pd.cut(wine['quality'], bins = bins, labels = group_names)"
      ],
      "metadata": {
        "id": "yFeWoloN2bJh"
      },
      "execution_count": 7,
      "outputs": []
    },
    {
      "cell_type": "code",
      "source": [
        "wine.quality\n"
      ],
      "metadata": {
        "colab": {
          "base_uri": "https://localhost:8080/"
        },
        "id": "L_uUQQRE33sv",
        "outputId": "ff0875ae-2523-47bb-9efd-bed6acd077ba"
      },
      "execution_count": 8,
      "outputs": [
        {
          "output_type": "execute_result",
          "data": {
            "text/plain": [
              "0       bad\n",
              "1       bad\n",
              "2       bad\n",
              "3       bad\n",
              "4       bad\n",
              "       ... \n",
              "1594    bad\n",
              "1595    bad\n",
              "1596    bad\n",
              "1597    bad\n",
              "1598    bad\n",
              "Name: quality, Length: 1599, dtype: category\n",
              "Categories (2, object): ['bad' < 'good']"
            ]
          },
          "metadata": {},
          "execution_count": 8
        }
      ]
    },
    {
      "cell_type": "markdown",
      "source": [
        "### 라벨 인코딩"
      ],
      "metadata": {
        "id": "POflVzPy4EkH"
      }
    },
    {
      "cell_type": "code",
      "source": [
        "## Good/Bad는 인식할 수 없음. 따라서 이를 인식할 수 있도록 Label Encoding을 실시\n",
        "\n",
        "label_quality = LabelEncoder()\n",
        "wine['quality'] = label_quality.fit_transform(wine['quality'])"
      ],
      "metadata": {
        "id": "IB_HiCvg4Bmv"
      },
      "execution_count": 9,
      "outputs": []
    },
    {
      "cell_type": "code",
      "source": [
        "wine.quality\n"
      ],
      "metadata": {
        "colab": {
          "base_uri": "https://localhost:8080/"
        },
        "id": "6pW67bSG4KVg",
        "outputId": "82759984-66a8-43e8-a9da-c02455b83c00"
      },
      "execution_count": 10,
      "outputs": [
        {
          "output_type": "execute_result",
          "data": {
            "text/plain": [
              "0       0\n",
              "1       0\n",
              "2       0\n",
              "3       0\n",
              "4       0\n",
              "       ..\n",
              "1594    0\n",
              "1595    0\n",
              "1596    0\n",
              "1597    0\n",
              "1598    0\n",
              "Name: quality, Length: 1599, dtype: int64"
            ]
          },
          "metadata": {},
          "execution_count": 10
        }
      ]
    },
    {
      "cell_type": "code",
      "source": [
        "wine\n"
      ],
      "metadata": {
        "colab": {
          "base_uri": "https://localhost:8080/",
          "height": 478
        },
        "id": "dhkMny5N4L9W",
        "outputId": "e2f07c97-7809-4c79-b414-957cf7a35de8"
      },
      "execution_count": 11,
      "outputs": [
        {
          "output_type": "execute_result",
          "data": {
            "text/plain": [
              "      fixed acidity  volatile acidity  citric acid  residual sugar  chlorides  \\\n",
              "0               7.4             0.700         0.00             1.9      0.076   \n",
              "1               7.8             0.880         0.00             2.6      0.098   \n",
              "2               7.8             0.760         0.04             2.3      0.092   \n",
              "3              11.2             0.280         0.56             1.9      0.075   \n",
              "4               7.4             0.700         0.00             1.9      0.076   \n",
              "...             ...               ...          ...             ...        ...   \n",
              "1594            6.2             0.600         0.08             2.0      0.090   \n",
              "1595            5.9             0.550         0.10             2.2      0.062   \n",
              "1596            6.3             0.510         0.13             2.3      0.076   \n",
              "1597            5.9             0.645         0.12             2.0      0.075   \n",
              "1598            6.0             0.310         0.47             3.6      0.067   \n",
              "\n",
              "      free sulfur dioxide  total sulfur dioxide  density    pH  sulphates  \\\n",
              "0                    11.0                  34.0  0.99780  3.51       0.56   \n",
              "1                    25.0                  67.0  0.99680  3.20       0.68   \n",
              "2                    15.0                  54.0  0.99700  3.26       0.65   \n",
              "3                    17.0                  60.0  0.99800  3.16       0.58   \n",
              "4                    11.0                  34.0  0.99780  3.51       0.56   \n",
              "...                   ...                   ...      ...   ...        ...   \n",
              "1594                 32.0                  44.0  0.99490  3.45       0.58   \n",
              "1595                 39.0                  51.0  0.99512  3.52       0.76   \n",
              "1596                 29.0                  40.0  0.99574  3.42       0.75   \n",
              "1597                 32.0                  44.0  0.99547  3.57       0.71   \n",
              "1598                 18.0                  42.0  0.99549  3.39       0.66   \n",
              "\n",
              "      alcohol  quality  \n",
              "0         9.4        0  \n",
              "1         9.8        0  \n",
              "2         9.8        0  \n",
              "3         9.8        0  \n",
              "4         9.4        0  \n",
              "...       ...      ...  \n",
              "1594     10.5        0  \n",
              "1595     11.2        0  \n",
              "1596     11.0        0  \n",
              "1597     10.2        0  \n",
              "1598     11.0        0  \n",
              "\n",
              "[1599 rows x 12 columns]"
            ],
            "text/html": [
              "\n",
              "  <div id=\"df-968d9a83-f781-4d02-9e9f-290bcd6d1b45\" class=\"colab-df-container\">\n",
              "    <div>\n",
              "<style scoped>\n",
              "    .dataframe tbody tr th:only-of-type {\n",
              "        vertical-align: middle;\n",
              "    }\n",
              "\n",
              "    .dataframe tbody tr th {\n",
              "        vertical-align: top;\n",
              "    }\n",
              "\n",
              "    .dataframe thead th {\n",
              "        text-align: right;\n",
              "    }\n",
              "</style>\n",
              "<table border=\"1\" class=\"dataframe\">\n",
              "  <thead>\n",
              "    <tr style=\"text-align: right;\">\n",
              "      <th></th>\n",
              "      <th>fixed acidity</th>\n",
              "      <th>volatile acidity</th>\n",
              "      <th>citric acid</th>\n",
              "      <th>residual sugar</th>\n",
              "      <th>chlorides</th>\n",
              "      <th>free sulfur dioxide</th>\n",
              "      <th>total sulfur dioxide</th>\n",
              "      <th>density</th>\n",
              "      <th>pH</th>\n",
              "      <th>sulphates</th>\n",
              "      <th>alcohol</th>\n",
              "      <th>quality</th>\n",
              "    </tr>\n",
              "  </thead>\n",
              "  <tbody>\n",
              "    <tr>\n",
              "      <th>0</th>\n",
              "      <td>7.4</td>\n",
              "      <td>0.700</td>\n",
              "      <td>0.00</td>\n",
              "      <td>1.9</td>\n",
              "      <td>0.076</td>\n",
              "      <td>11.0</td>\n",
              "      <td>34.0</td>\n",
              "      <td>0.99780</td>\n",
              "      <td>3.51</td>\n",
              "      <td>0.56</td>\n",
              "      <td>9.4</td>\n",
              "      <td>0</td>\n",
              "    </tr>\n",
              "    <tr>\n",
              "      <th>1</th>\n",
              "      <td>7.8</td>\n",
              "      <td>0.880</td>\n",
              "      <td>0.00</td>\n",
              "      <td>2.6</td>\n",
              "      <td>0.098</td>\n",
              "      <td>25.0</td>\n",
              "      <td>67.0</td>\n",
              "      <td>0.99680</td>\n",
              "      <td>3.20</td>\n",
              "      <td>0.68</td>\n",
              "      <td>9.8</td>\n",
              "      <td>0</td>\n",
              "    </tr>\n",
              "    <tr>\n",
              "      <th>2</th>\n",
              "      <td>7.8</td>\n",
              "      <td>0.760</td>\n",
              "      <td>0.04</td>\n",
              "      <td>2.3</td>\n",
              "      <td>0.092</td>\n",
              "      <td>15.0</td>\n",
              "      <td>54.0</td>\n",
              "      <td>0.99700</td>\n",
              "      <td>3.26</td>\n",
              "      <td>0.65</td>\n",
              "      <td>9.8</td>\n",
              "      <td>0</td>\n",
              "    </tr>\n",
              "    <tr>\n",
              "      <th>3</th>\n",
              "      <td>11.2</td>\n",
              "      <td>0.280</td>\n",
              "      <td>0.56</td>\n",
              "      <td>1.9</td>\n",
              "      <td>0.075</td>\n",
              "      <td>17.0</td>\n",
              "      <td>60.0</td>\n",
              "      <td>0.99800</td>\n",
              "      <td>3.16</td>\n",
              "      <td>0.58</td>\n",
              "      <td>9.8</td>\n",
              "      <td>0</td>\n",
              "    </tr>\n",
              "    <tr>\n",
              "      <th>4</th>\n",
              "      <td>7.4</td>\n",
              "      <td>0.700</td>\n",
              "      <td>0.00</td>\n",
              "      <td>1.9</td>\n",
              "      <td>0.076</td>\n",
              "      <td>11.0</td>\n",
              "      <td>34.0</td>\n",
              "      <td>0.99780</td>\n",
              "      <td>3.51</td>\n",
              "      <td>0.56</td>\n",
              "      <td>9.4</td>\n",
              "      <td>0</td>\n",
              "    </tr>\n",
              "    <tr>\n",
              "      <th>...</th>\n",
              "      <td>...</td>\n",
              "      <td>...</td>\n",
              "      <td>...</td>\n",
              "      <td>...</td>\n",
              "      <td>...</td>\n",
              "      <td>...</td>\n",
              "      <td>...</td>\n",
              "      <td>...</td>\n",
              "      <td>...</td>\n",
              "      <td>...</td>\n",
              "      <td>...</td>\n",
              "      <td>...</td>\n",
              "    </tr>\n",
              "    <tr>\n",
              "      <th>1594</th>\n",
              "      <td>6.2</td>\n",
              "      <td>0.600</td>\n",
              "      <td>0.08</td>\n",
              "      <td>2.0</td>\n",
              "      <td>0.090</td>\n",
              "      <td>32.0</td>\n",
              "      <td>44.0</td>\n",
              "      <td>0.99490</td>\n",
              "      <td>3.45</td>\n",
              "      <td>0.58</td>\n",
              "      <td>10.5</td>\n",
              "      <td>0</td>\n",
              "    </tr>\n",
              "    <tr>\n",
              "      <th>1595</th>\n",
              "      <td>5.9</td>\n",
              "      <td>0.550</td>\n",
              "      <td>0.10</td>\n",
              "      <td>2.2</td>\n",
              "      <td>0.062</td>\n",
              "      <td>39.0</td>\n",
              "      <td>51.0</td>\n",
              "      <td>0.99512</td>\n",
              "      <td>3.52</td>\n",
              "      <td>0.76</td>\n",
              "      <td>11.2</td>\n",
              "      <td>0</td>\n",
              "    </tr>\n",
              "    <tr>\n",
              "      <th>1596</th>\n",
              "      <td>6.3</td>\n",
              "      <td>0.510</td>\n",
              "      <td>0.13</td>\n",
              "      <td>2.3</td>\n",
              "      <td>0.076</td>\n",
              "      <td>29.0</td>\n",
              "      <td>40.0</td>\n",
              "      <td>0.99574</td>\n",
              "      <td>3.42</td>\n",
              "      <td>0.75</td>\n",
              "      <td>11.0</td>\n",
              "      <td>0</td>\n",
              "    </tr>\n",
              "    <tr>\n",
              "      <th>1597</th>\n",
              "      <td>5.9</td>\n",
              "      <td>0.645</td>\n",
              "      <td>0.12</td>\n",
              "      <td>2.0</td>\n",
              "      <td>0.075</td>\n",
              "      <td>32.0</td>\n",
              "      <td>44.0</td>\n",
              "      <td>0.99547</td>\n",
              "      <td>3.57</td>\n",
              "      <td>0.71</td>\n",
              "      <td>10.2</td>\n",
              "      <td>0</td>\n",
              "    </tr>\n",
              "    <tr>\n",
              "      <th>1598</th>\n",
              "      <td>6.0</td>\n",
              "      <td>0.310</td>\n",
              "      <td>0.47</td>\n",
              "      <td>3.6</td>\n",
              "      <td>0.067</td>\n",
              "      <td>18.0</td>\n",
              "      <td>42.0</td>\n",
              "      <td>0.99549</td>\n",
              "      <td>3.39</td>\n",
              "      <td>0.66</td>\n",
              "      <td>11.0</td>\n",
              "      <td>0</td>\n",
              "    </tr>\n",
              "  </tbody>\n",
              "</table>\n",
              "<p>1599 rows × 12 columns</p>\n",
              "</div>\n",
              "    <div class=\"colab-df-buttons\">\n",
              "\n",
              "  <div class=\"colab-df-container\">\n",
              "    <button class=\"colab-df-convert\" onclick=\"convertToInteractive('df-968d9a83-f781-4d02-9e9f-290bcd6d1b45')\"\n",
              "            title=\"Convert this dataframe to an interactive table.\"\n",
              "            style=\"display:none;\">\n",
              "\n",
              "  <svg xmlns=\"http://www.w3.org/2000/svg\" height=\"24px\" viewBox=\"0 -960 960 960\">\n",
              "    <path d=\"M120-120v-720h720v720H120Zm60-500h600v-160H180v160Zm220 220h160v-160H400v160Zm0 220h160v-160H400v160ZM180-400h160v-160H180v160Zm440 0h160v-160H620v160ZM180-180h160v-160H180v160Zm440 0h160v-160H620v160Z\"/>\n",
              "  </svg>\n",
              "    </button>\n",
              "\n",
              "  <style>\n",
              "    .colab-df-container {\n",
              "      display:flex;\n",
              "      gap: 12px;\n",
              "    }\n",
              "\n",
              "    .colab-df-convert {\n",
              "      background-color: #E8F0FE;\n",
              "      border: none;\n",
              "      border-radius: 50%;\n",
              "      cursor: pointer;\n",
              "      display: none;\n",
              "      fill: #1967D2;\n",
              "      height: 32px;\n",
              "      padding: 0 0 0 0;\n",
              "      width: 32px;\n",
              "    }\n",
              "\n",
              "    .colab-df-convert:hover {\n",
              "      background-color: #E2EBFA;\n",
              "      box-shadow: 0px 1px 2px rgba(60, 64, 67, 0.3), 0px 1px 3px 1px rgba(60, 64, 67, 0.15);\n",
              "      fill: #174EA6;\n",
              "    }\n",
              "\n",
              "    .colab-df-buttons div {\n",
              "      margin-bottom: 4px;\n",
              "    }\n",
              "\n",
              "    [theme=dark] .colab-df-convert {\n",
              "      background-color: #3B4455;\n",
              "      fill: #D2E3FC;\n",
              "    }\n",
              "\n",
              "    [theme=dark] .colab-df-convert:hover {\n",
              "      background-color: #434B5C;\n",
              "      box-shadow: 0px 1px 3px 1px rgba(0, 0, 0, 0.15);\n",
              "      filter: drop-shadow(0px 1px 2px rgba(0, 0, 0, 0.3));\n",
              "      fill: #FFFFFF;\n",
              "    }\n",
              "  </style>\n",
              "\n",
              "    <script>\n",
              "      const buttonEl =\n",
              "        document.querySelector('#df-968d9a83-f781-4d02-9e9f-290bcd6d1b45 button.colab-df-convert');\n",
              "      buttonEl.style.display =\n",
              "        google.colab.kernel.accessAllowed ? 'block' : 'none';\n",
              "\n",
              "      async function convertToInteractive(key) {\n",
              "        const element = document.querySelector('#df-968d9a83-f781-4d02-9e9f-290bcd6d1b45');\n",
              "        const dataTable =\n",
              "          await google.colab.kernel.invokeFunction('convertToInteractive',\n",
              "                                                    [key], {});\n",
              "        if (!dataTable) return;\n",
              "\n",
              "        const docLinkHtml = 'Like what you see? Visit the ' +\n",
              "          '<a target=\"_blank\" href=https://colab.research.google.com/notebooks/data_table.ipynb>data table notebook</a>'\n",
              "          + ' to learn more about interactive tables.';\n",
              "        element.innerHTML = '';\n",
              "        dataTable['output_type'] = 'display_data';\n",
              "        await google.colab.output.renderOutput(dataTable, element);\n",
              "        const docLink = document.createElement('div');\n",
              "        docLink.innerHTML = docLinkHtml;\n",
              "        element.appendChild(docLink);\n",
              "      }\n",
              "    </script>\n",
              "  </div>\n",
              "\n",
              "\n",
              "<div id=\"df-77319433-0991-457b-9d8d-b8cfc58f0c3b\">\n",
              "  <button class=\"colab-df-quickchart\" onclick=\"quickchart('df-77319433-0991-457b-9d8d-b8cfc58f0c3b')\"\n",
              "            title=\"Suggest charts\"\n",
              "            style=\"display:none;\">\n",
              "\n",
              "<svg xmlns=\"http://www.w3.org/2000/svg\" height=\"24px\"viewBox=\"0 0 24 24\"\n",
              "     width=\"24px\">\n",
              "    <g>\n",
              "        <path d=\"M19 3H5c-1.1 0-2 .9-2 2v14c0 1.1.9 2 2 2h14c1.1 0 2-.9 2-2V5c0-1.1-.9-2-2-2zM9 17H7v-7h2v7zm4 0h-2V7h2v10zm4 0h-2v-4h2v4z\"/>\n",
              "    </g>\n",
              "</svg>\n",
              "  </button>\n",
              "\n",
              "<style>\n",
              "  .colab-df-quickchart {\n",
              "      --bg-color: #E8F0FE;\n",
              "      --fill-color: #1967D2;\n",
              "      --hover-bg-color: #E2EBFA;\n",
              "      --hover-fill-color: #174EA6;\n",
              "      --disabled-fill-color: #AAA;\n",
              "      --disabled-bg-color: #DDD;\n",
              "  }\n",
              "\n",
              "  [theme=dark] .colab-df-quickchart {\n",
              "      --bg-color: #3B4455;\n",
              "      --fill-color: #D2E3FC;\n",
              "      --hover-bg-color: #434B5C;\n",
              "      --hover-fill-color: #FFFFFF;\n",
              "      --disabled-bg-color: #3B4455;\n",
              "      --disabled-fill-color: #666;\n",
              "  }\n",
              "\n",
              "  .colab-df-quickchart {\n",
              "    background-color: var(--bg-color);\n",
              "    border: none;\n",
              "    border-radius: 50%;\n",
              "    cursor: pointer;\n",
              "    display: none;\n",
              "    fill: var(--fill-color);\n",
              "    height: 32px;\n",
              "    padding: 0;\n",
              "    width: 32px;\n",
              "  }\n",
              "\n",
              "  .colab-df-quickchart:hover {\n",
              "    background-color: var(--hover-bg-color);\n",
              "    box-shadow: 0 1px 2px rgba(60, 64, 67, 0.3), 0 1px 3px 1px rgba(60, 64, 67, 0.15);\n",
              "    fill: var(--button-hover-fill-color);\n",
              "  }\n",
              "\n",
              "  .colab-df-quickchart-complete:disabled,\n",
              "  .colab-df-quickchart-complete:disabled:hover {\n",
              "    background-color: var(--disabled-bg-color);\n",
              "    fill: var(--disabled-fill-color);\n",
              "    box-shadow: none;\n",
              "  }\n",
              "\n",
              "  .colab-df-spinner {\n",
              "    border: 2px solid var(--fill-color);\n",
              "    border-color: transparent;\n",
              "    border-bottom-color: var(--fill-color);\n",
              "    animation:\n",
              "      spin 1s steps(1) infinite;\n",
              "  }\n",
              "\n",
              "  @keyframes spin {\n",
              "    0% {\n",
              "      border-color: transparent;\n",
              "      border-bottom-color: var(--fill-color);\n",
              "      border-left-color: var(--fill-color);\n",
              "    }\n",
              "    20% {\n",
              "      border-color: transparent;\n",
              "      border-left-color: var(--fill-color);\n",
              "      border-top-color: var(--fill-color);\n",
              "    }\n",
              "    30% {\n",
              "      border-color: transparent;\n",
              "      border-left-color: var(--fill-color);\n",
              "      border-top-color: var(--fill-color);\n",
              "      border-right-color: var(--fill-color);\n",
              "    }\n",
              "    40% {\n",
              "      border-color: transparent;\n",
              "      border-right-color: var(--fill-color);\n",
              "      border-top-color: var(--fill-color);\n",
              "    }\n",
              "    60% {\n",
              "      border-color: transparent;\n",
              "      border-right-color: var(--fill-color);\n",
              "    }\n",
              "    80% {\n",
              "      border-color: transparent;\n",
              "      border-right-color: var(--fill-color);\n",
              "      border-bottom-color: var(--fill-color);\n",
              "    }\n",
              "    90% {\n",
              "      border-color: transparent;\n",
              "      border-bottom-color: var(--fill-color);\n",
              "    }\n",
              "  }\n",
              "</style>\n",
              "\n",
              "  <script>\n",
              "    async function quickchart(key) {\n",
              "      const quickchartButtonEl =\n",
              "        document.querySelector('#' + key + ' button');\n",
              "      quickchartButtonEl.disabled = true;  // To prevent multiple clicks.\n",
              "      quickchartButtonEl.classList.add('colab-df-spinner');\n",
              "      try {\n",
              "        const charts = await google.colab.kernel.invokeFunction(\n",
              "            'suggestCharts', [key], {});\n",
              "      } catch (error) {\n",
              "        console.error('Error during call to suggestCharts:', error);\n",
              "      }\n",
              "      quickchartButtonEl.classList.remove('colab-df-spinner');\n",
              "      quickchartButtonEl.classList.add('colab-df-quickchart-complete');\n",
              "    }\n",
              "    (() => {\n",
              "      let quickchartButtonEl =\n",
              "        document.querySelector('#df-77319433-0991-457b-9d8d-b8cfc58f0c3b button');\n",
              "      quickchartButtonEl.style.display =\n",
              "        google.colab.kernel.accessAllowed ? 'block' : 'none';\n",
              "    })();\n",
              "  </script>\n",
              "</div>\n",
              "    </div>\n",
              "  </div>\n"
            ]
          },
          "metadata": {},
          "execution_count": 11
        }
      ]
    },
    {
      "cell_type": "code",
      "source": [
        "##종속변수와 독립변수를 나누어주는 작업\n",
        "x = wine.drop('quality', axis = 1)\n",
        "y = wine['quality']\n",
        "\n",
        "## 변수별로 Train과 Test 쓸 데이터 셋을 분류x\n",
        "x_train, x_test, y_train, y_test = train_test_split(x, y, test_size = 0.2, random_state = 42)\n",
        "\n",
        "\n",
        "## 측정 지표의 표준화.\n",
        "# ML 에서 표준화를 시켰을때 예측이 더 잘 되는 경향이 있음\n",
        "sc = StandardScaler()\n",
        "x_train = sc.fit_transform(x_train)\n",
        "x_test = sc.fit_transform(x_test)"
      ],
      "metadata": {
        "id": "yhJOGztC4V7I"
      },
      "execution_count": 14,
      "outputs": []
    },
    {
      "cell_type": "code",
      "source": [
        "x_train"
      ],
      "metadata": {
        "colab": {
          "base_uri": "https://localhost:8080/"
        },
        "id": "ySGQifSY4fMh",
        "outputId": "41c84057-f7a2-40ef-882a-e0f2f1ceb601"
      },
      "execution_count": 15,
      "outputs": [
        {
          "output_type": "execute_result",
          "data": {
            "text/plain": [
              "array([[ 0.21833164,  0.88971201,  0.19209222, ...,  1.09349989,\n",
              "         0.45822284,  1.12317723],\n",
              "       [-1.29016623, -1.78878251,  0.65275338, ..., -0.40043872,\n",
              "        -0.40119696,  1.40827174],\n",
              "       [ 1.49475291, -0.78434707,  1.01104539, ..., -0.07566946,\n",
              "         0.51551749, -0.58738978],\n",
              "       ...,\n",
              "       [-0.65195559,  0.49909822, -1.08752211, ...,  1.28836145,\n",
              "        -0.68767023, -0.87248428],\n",
              "       [-0.24582155, -1.84458448,  0.39683051, ...,  0.05423824,\n",
              "         0.80199076,  1.40827174],\n",
              "       [-1.46422367, -1.34236676, -0.06383064, ...,  0.50891521,\n",
              "        -0.68767023,  2.92877575]])"
            ]
          },
          "metadata": {},
          "execution_count": 15
        }
      ]
    },
    {
      "cell_type": "markdown",
      "source": [
        "# 모델들 (accuracy 확인)"
      ],
      "metadata": {
        "id": "Ps1q9MPX6FJG"
      }
    },
    {
      "cell_type": "markdown",
      "source": [
        "## 로지스틱 회귀"
      ],
      "metadata": {
        "id": "rYxYMWeN5FMY"
      }
    },
    {
      "cell_type": "code",
      "source": [
        "## 로지스틱 회귀\n",
        "model = LogisticRegression()\n",
        "model.fit(x_train, y_train)\n",
        "y_pred = model.predict(x_test)\n",
        "print(classification_report(y_test, y_pred))\n",
        "\n",
        "print(\"Accuracy:\", metrics.accuracy_score(y_test, y_pred))\n",
        "print(\"Precision:\", metrics.precision_score(y_test, y_pred))\n",
        "print(\"Recall:\", metrics.recall_score(y_test, y_pred))"
      ],
      "metadata": {
        "colab": {
          "base_uri": "https://localhost:8080/"
        },
        "id": "8LEDSEhX4p52",
        "outputId": "0e67de7e-b80b-46b3-8c3f-93d724e428ab"
      },
      "execution_count": 16,
      "outputs": [
        {
          "output_type": "stream",
          "name": "stdout",
          "text": [
            "              precision    recall  f1-score   support\n",
            "\n",
            "           0       0.88      0.98      0.93       273\n",
            "           1       0.71      0.26      0.37        47\n",
            "\n",
            "    accuracy                           0.88       320\n",
            "   macro avg       0.80      0.62      0.65       320\n",
            "weighted avg       0.86      0.88      0.85       320\n",
            "\n",
            "Accuracy: 0.875\n",
            "Precision: 0.7058823529411765\n",
            "Recall: 0.2553191489361702\n"
          ]
        }
      ]
    },
    {
      "cell_type": "markdown",
      "source": [
        "## SVC"
      ],
      "metadata": {
        "id": "SCGJVT5O6KxJ"
      }
    },
    {
      "cell_type": "code",
      "source": [
        "## SVC\n",
        "model_svc = SVC()\n",
        "model_svc.fit(x_train, y_train)\n",
        "y_pred_svc = model_svc.predict(x_test)\n",
        "print(classification_report(y_test, y_pred_svc))\n",
        "\n",
        "print(\"Accuracy:\", metrics.accuracy_score(y_test, y_pred_svc))\n",
        "print(\"Precision:\", metrics.precision_score(y_test, y_pred_svc))\n",
        "print(\"Recall:\", metrics.recall_score(y_test, y_pred_svc))"
      ],
      "metadata": {
        "colab": {
          "base_uri": "https://localhost:8080/"
        },
        "id": "0kZyNUJP5JXN",
        "outputId": "680e7e8d-3372-4284-949e-65f88cfd17cc"
      },
      "execution_count": 17,
      "outputs": [
        {
          "output_type": "stream",
          "name": "stdout",
          "text": [
            "              precision    recall  f1-score   support\n",
            "\n",
            "           0       0.88      0.98      0.93       273\n",
            "           1       0.71      0.26      0.37        47\n",
            "\n",
            "    accuracy                           0.88       320\n",
            "   macro avg       0.80      0.62      0.65       320\n",
            "weighted avg       0.86      0.88      0.85       320\n",
            "\n",
            "Accuracy: 0.875\n",
            "Precision: 0.7058823529411765\n",
            "Recall: 0.2553191489361702\n"
          ]
        }
      ]
    },
    {
      "cell_type": "code",
      "source": [
        "## SVC\n",
        "model_svc = SVC()\n",
        "model_svc.fit(x_train, y_train)\n",
        "y_pred_svc = model_svc.predict(x_test)\n",
        "print(classification_report(y_test, y_pred_svc))\n",
        "\n",
        "print(\"Accuracy:\", metrics.accuracy_score(y_test, y_pred_svc))\n",
        "print(\"Precision:\", metrics.precision_score(y_test, y_pred_svc))\n",
        "print(\"Recall:\", metrics.recall_score(y_test, y_pred_svc))"
      ],
      "metadata": {
        "colab": {
          "base_uri": "https://localhost:8080/"
        },
        "id": "CTlSQdGq6Wd8",
        "outputId": "6a7673c6-a123-4b16-e222-03019ae9f494"
      },
      "execution_count": 24,
      "outputs": [
        {
          "output_type": "stream",
          "name": "stdout",
          "text": [
            "              precision    recall  f1-score   support\n",
            "\n",
            "           0       0.88      0.98      0.93       273\n",
            "           1       0.71      0.26      0.37        47\n",
            "\n",
            "    accuracy                           0.88       320\n",
            "   macro avg       0.80      0.62      0.65       320\n",
            "weighted avg       0.86      0.88      0.85       320\n",
            "\n",
            "Accuracy: 0.875\n",
            "Precision: 0.7058823529411765\n",
            "Recall: 0.2553191489361702\n"
          ]
        }
      ]
    },
    {
      "cell_type": "markdown",
      "source": [
        "## KNN"
      ],
      "metadata": {
        "id": "039zvuiA6ZLS"
      }
    },
    {
      "cell_type": "code",
      "source": [
        "## KNN\n",
        "model_knn = KNeighborsClassifier(5)\n",
        "model_knn.fit(x_train, y_train)\n",
        "y_pred_knn = model_knn.predict(x_test)\n",
        "print(classification_report(y_test, y_pred_knn))\n",
        "\n",
        "print(\"Accuracy:\", metrics.accuracy_score(y_test, y_pred_knn))\n",
        "print(\"Precision:\", metrics.precision_score(y_test, y_pred_knn))\n",
        "print(\"Recall:\", metrics.recall_score(y_test, y_pred_knn))"
      ],
      "metadata": {
        "colab": {
          "base_uri": "https://localhost:8080/"
        },
        "id": "D_i5nmfa5QXY",
        "outputId": "a49911fc-67e8-49a6-955e-4ab8c8510323"
      },
      "execution_count": 19,
      "outputs": [
        {
          "output_type": "stream",
          "name": "stdout",
          "text": [
            "              precision    recall  f1-score   support\n",
            "\n",
            "           0       0.90      0.96      0.93       273\n",
            "           1       0.61      0.40      0.49        47\n",
            "\n",
            "    accuracy                           0.88       320\n",
            "   macro avg       0.76      0.68      0.71       320\n",
            "weighted avg       0.86      0.88      0.86       320\n",
            "\n",
            "Accuracy: 0.875\n",
            "Precision: 0.6129032258064516\n",
            "Recall: 0.40425531914893614\n"
          ]
        }
      ]
    },
    {
      "cell_type": "markdown",
      "source": [
        "## NB"
      ],
      "metadata": {
        "id": "O_YcXEuc6cDq"
      }
    },
    {
      "cell_type": "code",
      "source": [
        "## NB\n",
        "model_NB = GaussianNB()\n",
        "model_NB.fit(x_train, y_train)\n",
        "y_pred_NB = model_NB.predict(x_test)\n",
        "print(classification_report(y_test, y_pred_NB))\n",
        "\n",
        "print(\"Accuracy:\", metrics.accuracy_score(y_test, y_pred_NB))\n",
        "print(\"Precision:\", metrics.precision_score(y_test, y_pred_NB))\n",
        "print(\"Recall:\", metrics.recall_score(y_test, y_pred_NB))"
      ],
      "metadata": {
        "colab": {
          "base_uri": "https://localhost:8080/"
        },
        "id": "UWXY4gJ05Zx3",
        "outputId": "4d973e05-4cde-4543-d3c0-412bdfee6108"
      },
      "execution_count": 20,
      "outputs": [
        {
          "output_type": "stream",
          "name": "stdout",
          "text": [
            "              precision    recall  f1-score   support\n",
            "\n",
            "           0       0.95      0.87      0.91       273\n",
            "           1       0.50      0.74      0.60        47\n",
            "\n",
            "    accuracy                           0.85       320\n",
            "   macro avg       0.73      0.81      0.75       320\n",
            "weighted avg       0.89      0.85      0.86       320\n",
            "\n",
            "Accuracy: 0.853125\n",
            "Precision: 0.5\n",
            "Recall: 0.7446808510638298\n"
          ]
        }
      ]
    },
    {
      "cell_type": "markdown",
      "source": [
        "## Decision Tree"
      ],
      "metadata": {
        "id": "DeXdS29E6eUQ"
      }
    },
    {
      "cell_type": "markdown",
      "source": [
        "## 모델 비교![Untitled (1).png](data:image/png;base64,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)"
      ],
      "metadata": {
        "id": "xqxhS0p2Osjx"
      }
    },
    {
      "cell_type": "code",
      "source": [
        "## Decision Tree\n",
        "model_tree = tree.DecisionTreeClassifier()\n",
        "model_tree.fit(x_train, y_train)\n",
        "y_pred_tree = model_tree.predict(x_test)\n",
        "print(classification_report(y_test, y_pred_tree))\n",
        "\n",
        "print(\"Accuracy:\", metrics.accuracy_score(y_test, y_pred_tree))\n",
        "print(\"Precision:\", metrics.precision_score(y_test, y_pred_tree))\n",
        "print(\"Recall:\", metrics.recall_score(y_test, y_pred_tree))"
      ],
      "metadata": {
        "colab": {
          "base_uri": "https://localhost:8080/"
        },
        "id": "iSi7JYVB5bbo",
        "outputId": "fe782420-f0f4-4898-c3ce-d1b87c49f234"
      },
      "execution_count": 21,
      "outputs": [
        {
          "output_type": "stream",
          "name": "stdout",
          "text": [
            "              precision    recall  f1-score   support\n",
            "\n",
            "           0       0.90      0.93      0.91       273\n",
            "           1       0.49      0.40      0.44        47\n",
            "\n",
            "    accuracy                           0.85       320\n",
            "   macro avg       0.69      0.67      0.68       320\n",
            "weighted avg       0.84      0.85      0.84       320\n",
            "\n",
            "Accuracy: 0.85\n",
            "Precision: 0.48717948717948717\n",
            "Recall: 0.40425531914893614\n"
          ]
        }
      ]
    },
    {
      "cell_type": "markdown",
      "source": [
        "## RandomForest"
      ],
      "metadata": {
        "id": "E6AIZXv46ggU"
      }
    },
    {
      "cell_type": "code",
      "source": [
        "## RandomForest\n",
        "model_rfc = RandomForestClassifier(n_estimators=200)\n",
        "model_rfc.fit(x_train, y_train)\n",
        "y_pred_rfc = model_rfc.predict(x_test)\n",
        "print(classification_report(y_test, y_pred_rfc))\n",
        "\n",
        "print(\"Accuracy:\", metrics.accuracy_score(y_test, y_pred_rfc))\n",
        "print(\"Precision:\", metrics.precision_score(y_test, y_pred_rfc))\n",
        "print(\"Recall:\", metrics.recall_score(y_test, y_pred_rfc))"
      ],
      "metadata": {
        "colab": {
          "base_uri": "https://localhost:8080/"
        },
        "id": "oyDiiY9v5dRI",
        "outputId": "61fbc8cf-78b0-4bae-f8ac-4dc3e89ebf94"
      },
      "execution_count": 22,
      "outputs": [
        {
          "output_type": "stream",
          "name": "stdout",
          "text": [
            "              precision    recall  f1-score   support\n",
            "\n",
            "           0       0.90      0.97      0.94       273\n",
            "           1       0.72      0.38      0.50        47\n",
            "\n",
            "    accuracy                           0.89       320\n",
            "   macro avg       0.81      0.68      0.72       320\n",
            "weighted avg       0.88      0.89      0.87       320\n",
            "\n",
            "Accuracy: 0.8875\n",
            "Precision: 0.72\n",
            "Recall: 0.3829787234042553\n"
          ]
        }
      ]
    },
    {
      "cell_type": "markdown",
      "source": [
        "## Random Forest 가 tree 기반에서 더 좋음"
      ],
      "metadata": {
        "id": "fpY0W6hS6kzx"
      }
    },
    {
      "cell_type": "code",
      "source": [
        "print(\"Logistic Regression Accuracy:\", metrics.accuracy_score(y_test, y_pred))\n",
        "print(\"Support Vector Machine Accuracy:\", metrics.accuracy_score(y_test, y_pred_svc))\n",
        "print(\"KNN Accuracy:\", metrics.accuracy_score(y_test, y_pred_knn))\n",
        "print(\"Gausian NB Accuracy:\", metrics.accuracy_score(y_test, y_pred_NB))\n",
        "print(\"Decision Tree Accuracy:\", metrics.accuracy_score(y_test, y_pred_NB))\n",
        "print(\"Random Forest Accuracy:\", metrics.accuracy_score(y_test, y_pred_rfc))\n",
        "\n",
        "acc_df = pd.DataFrame({'classifier':\n",
        "                      ['Logistic Regression ',\n",
        "                       'Support Vector Machine',\n",
        "                       'KNN',\n",
        "                       'Gausian NB',\n",
        "                       'Decision Tree',\n",
        "                       'Random Forest'],\n",
        "                      'accuracy':\n",
        "                      [metrics.accuracy_score(y_test, y_pred),\n",
        "                       metrics.accuracy_score(y_test, y_pred_svc),\n",
        "                       metrics.accuracy_score(y_test, y_pred_knn),\n",
        "                       metrics.accuracy_score(y_test, y_pred_NB),\n",
        "                       metrics.accuracy_score(y_test, y_pred_tree),\n",
        "                       metrics.accuracy_score(y_test, y_pred_rfc),\n",
        "                       ]\n",
        "                      })"
      ],
      "metadata": {
        "colab": {
          "base_uri": "https://localhost:8080/"
        },
        "id": "ICUUXg575jT_",
        "outputId": "5f7a5bef-1ae0-44c9-df6b-4996756525b7"
      },
      "execution_count": 23,
      "outputs": [
        {
          "output_type": "stream",
          "name": "stdout",
          "text": [
            "Logistic Regression Accuracy: 0.875\n",
            "Support Vector Machine Accuracy: 0.875\n",
            "KNN Accuracy: 0.875\n",
            "Gausian NB Accuracy: 0.853125\n",
            "Decision Tree Accuracy: 0.853125\n",
            "Random Forest Accuracy: 0.8875\n"
          ]
        }
      ]
    },
    {
      "cell_type": "markdown",
      "source": [
        "# Tree Decision (분류모델에 더 적합)\n",
        "* 직관적\n",
        "* 룰기반 분석에서 설명하기 쉬움\n",
        "* 지니계수 기반"
      ],
      "metadata": {
        "id": "fkhoAQ4P6rLU"
      }
    },
    {
      "cell_type": "code",
      "source": [
        "##종속변수와 독립변수를 나누어주는 작업\n",
        "x = wine.drop('quality', axis = 1)\n",
        "y = wine['quality']\n",
        "\n",
        "## 변수별로 Train과 Test 쓸 데이터 셋을 분류x\n",
        "x_train, x_test, y_train, y_test = train_test_split(x, y, test_size = 0.2, random_state = 42)\n",
        "\n",
        "from sklearn.tree import DecisionTreeClassifier\n",
        "\n",
        "dt = DecisionTreeClassifier(random_state = 2023)\n",
        "dt.fit(x_train, y_train)\n",
        "print(dt.score(x_train, y_train))\n",
        "print(dt.score(x_test, y_test))"
      ],
      "metadata": {
        "colab": {
          "base_uri": "https://localhost:8080/"
        },
        "id": "MBwhwsoC5lh3",
        "outputId": "dd278f9b-d1bf-4bef-d48b-41b10cddd42a"
      },
      "execution_count": 25,
      "outputs": [
        {
          "output_type": "stream",
          "name": "stdout",
          "text": [
            "1.0\n",
            "0.9\n"
          ]
        }
      ]
    },
    {
      "cell_type": "code",
      "source": [
        "import matplotlib.pyplot as plt\n",
        "from sklearn.tree import plot_tree\n",
        "plt.figure(figsize =(10,7))\n",
        "plot_tree(dt)\n",
        "plt.show()"
      ],
      "metadata": {
        "colab": {
          "base_uri": "https://localhost:8080/",
          "height": 501
        },
        "id": "wDbH1hWf8fCK",
        "outputId": "4581a961-d338-4d4d-f05e-4997f243a754"
      },
      "execution_count": 26,
      "outputs": [
        {
          "output_type": "display_data",
          "data": {
            "text/plain": [
              "<Figure size 1000x700 with 1 Axes>"
            ],
            "image/png": "[encoded data removed]"
          },
          "metadata": {}
        }
      ]
    },
    {
      "cell_type": "markdown",
      "source": [
        "#"
      ],
      "metadata": {
        "id": "_ac1XMAM_8d_"
      }
    },
    {
      "cell_type": "markdown",
      "source": [
        "![image.png](data:image/png;base64,iVBORw0KGgoAAAANSUhEUgAAAm0AAAHACAYAAADwYV8TAAAAAXNSR0IArs4c6QAAAARnQU1BAACxjwv8YQUAAAAJcEhZcwAAFiUAABYlAUlSJPAAANdCSURBVHhe7J0HYBXHtf4/UO+9C5AA0XuvxgV3O+69t9iO0/P+TvJe8tJeuhPHcY17t3EFAwaM6b0X0YR67703+J/vXF0shMAYSxjh87OHe+/u7OzMXu3cb8/MnNPrsADDMAzDMAzjjKZ326thGIZhGIZxBmOizTAMwzAMowdgos0wDMMwDKMHYKLNMAzDMAyjB2CizTAMwzAMowdgos0wDMMwDKMHYKLNMAzDMAyjB2CizTAMwzAMowdgos0wDMMwDKMHYKLNMAzDMAyjB2CizTAMwzAMowdgos0wDMMwDKMHYKLNMAzDMAyjB2CizTAMwzAMowdgos0wDMMwDKMHYKLNMAzDMAyjB2CizTAMwzAMowdgos0wDMMwDKMHYKLNMAzDMAyjB2CizTAMwzAMowdgos0wDMMwDKMHYKLNMAzDMAyjB2CizTAMwzAMowdgos0wDMMwDKMHYKLNMAzDMAyjB2CizTAMwzAMowdgos0wDMMwDKMHYKLNMAzDMAyjB2CizTAMwzAMowdgos0wDMMwDKMHYKLNMAzDMAyjB2CizTAMwzAMowdgos0wDMMwDKMHYKLNMAzDMAyjB2CizTAMwzAMowdgos0wDMMwDKMHYKLNMAzDMAyjB2CizTAMwzAMowdgos0wDMMwDKMH0Ouw0PbeMIweQmtrKxoaGtDc3Ny2xTBOP66urvD09NRXwzC6HxNthtHDqK+vx+JFi/HU00+htq6+bathnH5cXFzwwP334brrroOfn1/bVsMwugsTbYbRwygvL8dLLzyPJW8+iWsn9oWPpxvsNjZOJ7179UJTSys+3pyOsZfcgUd+/BNERkS07TUMo7sw0WYYPYyysnK89soLSPrsdfz8O2Pg7+1hos04rfQS0dbY3IJ/ztsOv7FX4MHv/xiRkSbaDKO7sYUIhtED6dWW+A9/QC1ZOr2Jf3yGYZxuTLQZhnHKcJjMmbqL03EOwzCMnoCJNsMwTonmlkPIK69FZkk1ckqr0dx6qG1PmyWwndg6kdw6UT6WmV1WrefguXjOM42TbetReSSdLM5j2qeOx7cv+3h5DMPo+ZhoMwzjK9O7dy9kl1Th9+9twm/mbMIzi3ejoqZBxAJw6PBhVNU3Iau4CvtzypCUV47y2kZ0Nu2urrEZmUWV2JtdimTJV6H5HBkpPMqr6/GclP2bdzfhD+9tFOFWo+c+U2BbK+sa9Vrsyy7DPmkvP3fUS43NrSgoq0VKfoW0tUzyHy1yO4Nl1DY0Y4/k351Vit2ZkuQ1UVKuiGTnOVgORTO3O/PwNb2oCnVNLY5MhmGcFbj8Vmh7bxhGD6C+vgG7dm5HaeouTB8SCU+30+8jq3ev3sgQsfXi0j1IiAzAjGHRGBgVBA83FxEaLViWmIW3Vydh/tZ0rN6fjzA/T8RHBKgQI/yXAm15YjY+2piClXvzsDm5ACXVdYgM8oGfl7uKEuqa1kOHVBRtTy3GJWPjEBnoc8YsvKCoWrwzEx9sSMa8LWlYuD0L/SP8JAUeEamHDh1GWmElXlq2F59uT8fHm1JRXFmH4X1DtJ3Ha4mrSy8VX4++sR7b0oqxM6MEm+Qa8TrQT9+Y+HDNx7JeXbEfb645qIJtc0ohNkq+chHRfUJ8EODt0eVWNxbXIl/OhqR8eEQNwoRJU+Dr69u21zCM7sIsbYZhHEOLCKX6ppajrEEUSrQYMfE9f7i93V0wZVAkrpzQH77qeoQ/5q0q3Pg5JtgXxVX1KtDaw/LXH8jDhyJgvCXflRPiMLxfCJbszMaiHZmoETHEsvy83HCFlD05IQLebr1POMzaGawjj2kV4VTb2Nxm8esawceyeX2qpa0UX4NEvKYWVKG6vukYkdTYcghNrYcRIYKTDSusqFPRcyI40FojZReU12B6QhjunDUIt89MwM0zBmJSQqSKQcI6sDy6frl5+kDJw3yDcN6IGASLWNaKGoZxVmCizTCMY8gvr8WCrelqSaF4o4WsQIQBLWe09tQ3OSIxUA+49O4FVxcRVG3igALm6skD8N/XT9LXQG8Ph3Jqg9lKRMitOZCvVqAbpw3CZePjcee5QzG2fxhWJGbr+WmCYpksm+f4KqhFT8RRXWMLcqWsTQfz8d7ag/hsZ6YKRicslVlPlI6HQ1S646bpCfjFtZNwg7TDzdVFxVZ7OJw7JCYQv7p+Ih68eCSG9w2WNrXtPAncJXNMiC/6iygcEh2M8f3DkRAddMRCxzqyvQE+HmrNTIgKxNj4MAyLDYG/l0eH2hiG0ZMx0WYYxjHQCrQ7swRzROjsyy5FZW0Dlojg+XizY2jvRLj07g0fDzd4ubs4xFYH1aACkAsYiqvRX0RGdLCPbgv0dseIPsHILqlR69zhr6g2nOKlubUV+RW1OqQ4b1MqXl2+D3PWJevwKwWos1haqDgPjPm2d5K4PTGzFCXVUpe2YzpCQcm2ero52so6dAaFl78IPDfJr4LyJJFLKSLzMFbsy9Mh0Bc/34uF2zJQVFV71Lk4lJpbWoO31yThpWX78M7aJOzJKkFDs81pM4yzCRNthmEcQ99Qf1w5IV6tRJ9sTceHm1Kwem8uxseHYcbQGHiLUDlVaImqqm9GbX0TfKUcjzazE4VRmL+XZOiNqromHG4b/jsZmJMLABKzitVC+OqyvSpgaBWkAJ06OAoPXDQSV03sLwLHcT4KuIU7MvDhhlR8uLGTJNsXbs9EemF1lw2pfhW4yCHUzxMXj+6DQVGBCPDy0AUeH2xIwQfrU3Q+Ha8m5zSO6x+OGYMjEezrIaIQ2JBUgLdFcB/ILdehYcMwzg5MtBmGcQy0Go3sG4rZo/rgYF6FCKBkFVQXj+3nEFYdzWdfES4uoChzkWKOWIxEW6glqndvNHP/ce1bx8J5dJuTC/H4gl14d22yir6x8aG4ecZg3D97OK6bMgATBkQg2I91d+Du2hvjRIROHRSBKZ2kqYMjML5/GMIDvFRonm4otvqF+uGRS0bijllDcKekB0V4jowLwfxtmSLIylSgcYj5wtF9cc95wzTPAxcO1wUbnF+3JaXwKOuiYRg9GxNthmF0ipeHKwZGBsi7Xsgtq0W/cH/0CfGFC5XW14TWtd5STrMIkyOGICm2oblVBZinq6uIua9wHimjpfUwKmubdO5ddaNjIURsiI9O/udcM1qu2lvMOGTJBQ4zh0Vj5tDO0+SEcEQFeR932LO78ZbvoG+Yvw6tclFGfIQ/zh8Ri9KqehFlFTrUyiHaUH9vhIiY5hw7rq6dMCAcIX6eci3qdQHGyctfwzDOZEy0GYbRKTUNTdiWWoQG+dGPCfZBemElckprHMNtJyFi1DrVpnb4r1P40IYW6OMhyVNXc9JXG/dxNx3ouvfuJfvcpHNqO+AkoHAZPyAMP7p8NO46bwj8PF3x6fYM/GXudjy7eDc2JuWjrKbhyGpYno/te3JRIv700Xb8+eNj058+2oZ/y/4d6SUq+I4Ha6n1b1fdzmqu+RxvFf3cWcZ28Kx65rZ8fM85gyp0j5r015ZTMzvK7dW27UtOYRhGD8JEm2EYx8B5YFtTCrF6fx6mD43CA7OHobi6QX2SceWnLp08AVwMQLcdDU0tKvJoQeMcrKaWVv0cFeyLQTFB6niX8664L7PYMZw3WLbTWvRV1AatcqF+Xpg6KBI3TE3AfbNH4NaZQ3TV5v7sUjy7ZA9+++5GLNya5hialepT/MSH+6mfueOl/uH+CPB2P25V1A2KtKlO6s9hSLrh4OR/WrfYVqdlj+esa2pWgcprw+vLla31kng9WD6PSc6vQFFlnZbDY4oqalFaXa/H0VFuflktFu/I0LYOjArQlbAUnwWSr1IEMFf1Mj8XUhRVNSAiwOtrzT80DOPMwpzrGkYPo7ud69KqtD+nHO+sPQhvT1fcPGOQDrdRWC3bnaNDdgNE0FAcfLYjExMHRmJEv9Ajw5wMNbU5pQBz1ieLCCtCYlYZquoa1Y0HxVtEgDf8RQi5ufYSQVWO3ZnF6nx22e5sZJbU4LqpAzA6LkytZ4SLIXZnFGN7ahEuHR+vw52dLQygcGNeOvgN8vVEbKivusgYHRcqItEbZSI665paMVHa4iJls3yKsmF9g3XV6vAOaUTfEBGQgTqHj/k7g7VYsSdbXaFsOFiAnZml0v4WpBdWqYiLDfGFq4jD3LIaXXm7Ym8utkg7Cioa1PJHyyKtjhze3Jddgn8v3I0mEXR029Hcehgfb0rBwm1pKm5p9fxUROf+vApcNq4vLh7TTy1qjDrxxor9ItR4rUulPjkqtvuF+eGK8XGIFoH8VVasngwsjsLTnOsaxunFLG2GYRwFrTyVdU2ICvLB1RP7Y2BkIHy93EUoxOGCUX1R19CiDnaJSif5AW8/UZ8LCOgUNl+ESa9evVXw+Xt7orCyQcRbs5ZPgTU2Lhx3nzdEV0YWyT4fD3fce/4wzBoeK8LrCyFKgXAqkoNiiYIoISoIF0q9f3D5GNx6zuAvxKAUzHY55ot1nnw9KS5P4FRNxGNVfQvyKurRdAiYPbKPCF0P5JTV6QpZakuOYjaJkC2qrNe8CVHBGBIbguqGVt3mdFbs7c45eL4IFsHJunGhBH2z+Ut5eWX1yC6t03lr3509HLfOHNwm1ntp/rgwfxXEzNMqX80lo/vigQuGY0hMsC4qMQzj7KCXdBbHPrIahnHGUlZWjtdfeQFJn72OR68agwARRF15G7MoDvk1S/J0d9UVnbpd/qtvdAgMXy837EwrwgPPLkN/EUWc0H/XrCEIFVHBaWMcImxoEvXQTi/wLSf/e7q7HLH8cAiwXvLRakMrmZcIETcRK4R56BPujdUHsP5gATILK/DyIxdilIg9HvdV4Rm7o7Pj0GVjs9RHTnDkHPKPh1tvvX5sh3M4tON8QBfZxwUfvMbMw2vB9qsbFMnH74Cijsfxe6E/NvqEay8kuY95OOzK4nk+DynDXfI5r3NXw2I59P3PedvhN/YKPPj9HyMyMqJtr2EY3YVZ2gzDOAr+IFMY6BBmu2FBWtN8PF1VsPE9hynvmDUUI/qEqOsOHkjBwuO9RawwhBKtQM4U5OsBHxEo7YUE55VxVST3ce6YU7ARikRmZdmj+obi9nOGIizA65QF6qkd9eXQua6zrRyW1fbKZ253tpXWvQAf92OuCbc5rzHz+Hu7iXB10XbzSHXKK9dFy5VjHcPKR1v+aEnjdaVVkWUGSplebWLRMIyzCxNthmF0SmfaiNuYOO+NAuqe84fhh5eNxt3nDdeIBs5j+EJxdXRybO+Ibm9L7eFnCpG7pGyeg+cK8fPSc59JsDbHtlWSY/cRZNOxeTpk4ucTH9e2sQPc/EU+x2fDMM4+TLQZhnFK0Eqmc8JErDHRKe6pwCHC4027YpnO8nkunpMwuyNslMO6ZxiG8W3ARJthGN8YXJSQWlipcUg5f+tkoDWJIasO5JShtLruuIKvK6FA5DAmh29VLLZtPxHOYzjEebzjWHfOU+N+LjzgECm3GYZhdIaJNsMwvjHqm1vwp4+34clPd6qj3ZOZhtUqom1raiH+69XVWLYrS4VOd0JfajvTi/DBhmS8vy4ZO9KK1GfaiaDPtcTMEizYmoa3Vh/QwPX8zPY6lRsXHqQVVGLJjky8s+agxkr9XNpDNyCHDn/1hRaGYZz9mJ82w+hhdLeftu6AOqUzPcbhTS5aGBYbjLhwf7i1BXN34jyu47F05xEZ5I0RfUMR4s/Vs207uhAKSDquXbgtHS8v24ddGSXqS219Ur7Upxf6hvsdCXbfHlrUVu/Lxb8+2Ya9WaXqg45Cj77TGpoPaTxR+rqjM9zFO9Lx6fZ0HMytQFJeBdbsz9W8DNjPdp2piwlYLfPTZhinHxNthtHD6Emije4oaKmqlUSnsYflP7oTaW09rDFMXXv1RkyIj/onc/odowsNCgLqMB7n+OzITxFDoeejcTgDESrChr7gugO6FdmRVowPN6Zq/M9HLh2Ji8bEIa+sFqsP5GNwNCM3MC7p0cKKnxgDNTLIB9dPG4TLJ8RhfP9w5FfUqXPivmF+6py4l4g7+l2bMigKl46Lw+zRfRErgm7xjmwp4bCuyqXLkDMRE22G8c1gos0wehg9RbQxjFNiZrFaqd5ac1AtSPnl1ViyPUOHBftHBqpvtn/O34U9WSUavopzwP65YBc2HMxHWVU93l69H2+vTcGO9CJdrRohIomrR3dJWU8t3AFX194YJOKJ/sk6wnwtsoPC8XiJeTiHrDPhxSHQpbuy1AJ2w7QETBVxxdWrAd4eWL0vH94evdVCyDlr7WFVWNfhfUM1HBcXUFCcMRD+rsxSdVrMaAu00gVLeYy44O3pptY3+lfblFKsvuwYaYLbzkRMtBnGN4PNaTMMo8vhYoF0EWb/WbIHe3PKMX1wJAZHB2JLciEW7chEblmtw5om+bJKqjXME61pFDxZpTU6JPmZCKZx/SNw6Zg+SJGynl+6VyMIUGBV1zfpsGNFDefBHS24CIVYQXmdDmWu2JuDlcdJ6w7kaVnHIMfTYS3jd1JIRQR46mYunIgJ9oWXe29kyPkpTFXhdcC5ypWxQXkMHdGWSV0JRR9XzErT0SrXoFDatCm5QNqcgZc+34vSqjqMiQtV32uGYRjtMdFmGEaXQg3TLGJkc0qhTqq//4KheODCEeoc9zuTBiIs0FctXKp15B/OAWNq++jolHr1xvcvG40bpg/C3ecPxw1TB+hEfpZHjUah5hwq7QzuSy+qwtzN6XhnbTLeWdd5+mhTuoiphmN0FwUV28DEiAW0iqkxTzLSGugroo2xWGW3Y+MJoDhNzi/H2v35iPD3xqg+wUdimYqeQ54I1k+3Z2o9N4qoHR0XjLH9w+Dhfux8OcMwvt2YaDMMo2sRDUOhQjcedGPBYU+GVKL4GRgViJhgH4cAOg4UMhQ2GmxdXWD0Qp9QPzneHdV1TSe16IDDomPjQ/Hzq8fiT7dMxh9v7jz99zXjNKB6p0VyY/sd7d63SU59dyI4BJsigu09EYiM53rDtIGIjwxQ6xvh8DDnxv3gkpH4w82T8Ii80uK4K6MY9U3NmscwDMOJiTbDMLocSpJmESauri660lMRnUOLmqukE9um4AiV1WZ9IyrepJymluNHBWgPDXB1TY6A7HkVdboIoLPEoUla0zrCMzt9p3EhBYOxs0yem0OijBHKgPIOC2HnFaI1kYLtrdVJyCmtxR2zhmD6kCgVoU74josNGBJscHQwvjNpgOzvjQVb0lBR6xhONQzDcGKizTCMrkU0DOdsBfm4t83latDNtC6V1zSigtYy3dJ9UBhlFldhwbYMvL8+Be9v6DzN35YudXLUryMebi6ICPBSUVcgAo9WM4qsnNIa1DQdQr/wAMciBGlMiwg5ijmnoOQLh0RfXbEP2ZL/tnMG47wRMWpxdEJRx/w6xNum4/SzvJZWNaC5xbGC1jAMw4mJNsMwuhQKDVrGRvYNUSsbhROd03LIb9XeHOSUVKuoO4p26uS4QkUV0dF7HUsXjoWjj1GBProA4nwRS+ePiO00zRgSpRazjrBUBs0f0TdYA9mv2peLbamFOq/u0+0Z8HF3wei4MBF2rmoRXLUvD/O3pIErRFUwFlXixaV7sS2tRM4Rjf4RASgU4ZcrAo4LH9iUoso6bDyYh+2pBUjJr8D+nFLM35qOfbkVGC7XzsfT3anlDMMwFBNthmF0ORRtFDUXju6DvdmleHbJHry/PhkF5TXw9XCV/V9Yl5xhnpw6ztPNMSzpFCwUUJz75eXuemTBAl9pCdOh1050G1elRgV5Y+bQaMwe1QcXjIztNJ0zNAb+3h5tRx0NV4AOiw3BeSLuSkRgvbpiP178fI+udL10bD+di8Z6uPTqjcU7s/H2moNqlWNdt6cV4/PEXPl8GHtyyvHy8v14anEiXl15AIlZpaAPuKq6Rqw/kIs3Vu7Hc0sS8R9J8zenYmCkP66eMhCBx6mXYRjfXsxPm2H0MHqKnzaKrPhwf11QEOzriYFRQegb6oeCinqEB3hhwoAIeHu4aT4KIO6j3zW6uhgSI5/D/B2iTHQahREjIAzrEyxixl1En4vOAxsqn4Ok7E50mw47OleZHi9pnrb8nUFLWmyIjy6eCPDx0AUR5wyLxtTBUSr25PC21AsJUQEq8ugEmIsJYkP8MDY+DFFybGibPzY6442TdtHfG783f29PBEq59NcWE+yHcQPC1NFuglwrCtczFbbZ/LQZxumnlzyRdtbfGYZxhlJWVo7XX3kBSZ+9jkevGoMA+eE/E29j+iArqa7XoUAKM0Y3+Hx3FpYl5qil6upJ/XUSvrPuOrdLcDal7eMRNJ9s5Ob2ze2YrzvoeH2ddXXi2H34izYwdTjGCVvgPNx5nDMnN3cs+0yEVeR8xX/O2w6/sVfgwe//GJGREW17DcPoLmx41DCMLoeygysuV+/NwYtLE/G8pGcW78IyEW1x4X4Y1z9Mvf5rXlEA7YUK33amWzTfkffHz9cdOOvYsa5OuKn9dr7rzLLHJP8fge953Bf72u00DMPogIk2wzC6HFqOOG8tJsQXQX6eaJUNnPB/wag+uGlagg6bikRxZDYMwzBOChNthmF0C+5urhg/IBK3njME910wHPfNHo7rpgzEkJhguDkjDBiGYRgnjYk2wzC6BdrR6DYj2NcLEQHeCPf31uDpXF15qtC3Gf2X0WdaTxF9bK1jGNTx+Xg483SWjduO7O+YHFmOwrnPMIyzCxNthmF0GxRWnJBPseV0JnuqUKalFlTiF29twIakvDNelLDdnKzPyAb00VZSVY+G5pa2vQ6Yh4HpmYcB7pn43hnmirCZDIHFqAoMtO9MeWV1Um49ahqbtRzC1zr5zO0sq0qOo8A1DOPswFaPGkYPo6esHu1qKNp2Z5Tgl29vwvcuHIYrJ/WXdrftPAOhE9131yZh/YE8EVl1CPT1wsMXDcOFY+LUXQYprKzF57uysDEpX943qFiLCfbGpePjMXNoDHw83eDh2htPLd6DDzemqO84VXGHe6k44+rbe84fjKsn9lefcUm55Zi7KQXb00rQfOiQLvq4ZtIATE6IhJeHm56zK6BgttWjhnH6MUubYRhH4NAl/YPRca0H44a6fOH0lq8UBs79DMnkdHbrhJ94HLczxqjmk/xcGUmOHN+WxwnfceECz+fII+eXY914fkcWhRqNwqb94Cj3HymX55NjnOdzws/czvNquZK3Q5Yup6nlEPIq6uHn5YGBUQEoFoHGOKZOKDgZriqnrBb9IwNx93lDcJekwyLM/vzxdqwVsdciZdBB7wUjY/A/147HL68Zi19ePRY/vWIkxvQLRk1DEyIDvLVdGUXV6sR3W1opLhnbV8vjOf6zdA92ZhSjRUScYRg9G3Ouaxg9jO5yrssf9YO55Vi4LR1LdmRhe1ohKmobEODtAW93V7Uc7UwvxpKdmZKysSu9SMQQEBbgdUQkldU04o1VB0QQHVarz0eb0pCUUy7CxQ2+nu7Ym1WKuZvTsOFgvuan010KqPqmFqzYm4vM4hpU1TVoSKilu3NQXlOnznmdCxc4zLhMtk8cGIZBMcFynl5obGlFooiSBVvTsXRXDjJLqvR8XK3K/UzZsu3T7elYuD0D6w/kI6e4GmH+3urct7ugOJw2KBKXjIuT965qTZsqnwfHButQMWE9Jw6IwMxhMRgcE6KLNEb2DcLne3JRLdd+hmzn9Qny9VCnvP3C/dE31OF0eJ2UF+7vhWsm91eL3Or9eVi8MwM3TEvAXecOw8h+oeoYeM3+Ah2CHdEnBF4eXfO3wq/bnOsaxunHLG2GYegP8JaDBfj7vO2YJ6IqOb8MW5ML8PHGZKTklatwoLXmrdX7sXpvNpLzyrBAxN2PX16rsTid0Jnu/324FX/8YBNeXb5PY46+unIf/v7JDhFz+/Dy54kiXvKk3FT8fe42bE0pUMsZh/oWb8/Enz/agr99vBXrDuRh08E8/PyNDXji0106FNfRMEbBWFPfiI82puCPH23FZ7sykZhZhNdW7JV2bMOezFIVR+mFFVLuNryzJknqXY4DOWWSZ48IyOLjDitzO0NN8bp0mmQf959oWJrWPw8Rux3r7YTCx8vdzRFjVD6wLNY3wMcTHq6uaqn7onzZL//yI/OkFFRgR1oRJgwIR1SQj85bq2lo1msZGegJd7fe+j4q0BeBIox3pZegQsQwz2kYRs/FRJthfMvhD3lDUyt2ZZbID/0hPHrNePz1jpn4850z5P0kDO0TokKFVqAfXD4W/3fbdPzljul4/N5zMDo+FO+vS0ZBWY0OrTocxPaGp7sHfnLlOPxdyvj+paNFYJRg8c4cXDCmH/561wz86oaJkr83tqQWo6q+SUULh1uLK+sxY2gMfn/LVDx5/7l4+JKReG1VElbuyYFrb4czXkIfby3Nh6TcYqzYk4vpQ6Lw59un4x/3zMQvr5uIahFzi3eko7KuUcRfPgrKq/H/rp6oeZj+ee95Uvfjz8HaLoLo3qc+xxV/XthpuuyPC/Dw8yuxQ0RpV070p6ZakZiD4qo6TBkcqdekIzVyvRjblGG0xvUPhYsOYffSmK4kv7xBv0+Ku/zyWpRXNyC3vA4Ncr0Mw+jZmGgzDAOis3T+GC1eBfJDXyuvHNKLDvaBv5e7CADHUGZYgLcIuMO6OrG55TD6hfkho7gKhZV1KhwoXzzcemPm0EiMHRCOUH8vFXv9w30lrz/OGRarw5JDY4MRF+6P8ppGtRDxOFquRsWF4twRfRAT5IfoIB9cOT4eUYHe2JhShOZDrawpq6svdc0tGny9vLZB43wyTFa+iBMXEXfBft46n6ysqkGHKRtFsDDQe1V9sx7OugT5MHZo56Yn7r9v9jARnqPw007Sz64YhTvPHazxUY9TxFeGImtLaiHeWZuMsXHBcq1i5DvpINokD6/9qr05IjrDMFSu7SH5Pmh1HN4nWK/r/K1pugBiWWK2DlXvyS5FY4sItq7TloZhfEOYaDOMbzkccmNs0OlDozEgKhjPLd2L/3ptNf75yTb94aco4sT/g/nleGLBdjzywkr86JU1+K/X12PO+lQVXU0trSqneklhXiKSIkSYsVyKPQZQp382zjFj4rAdFxxQTPE4WvGc9WBgdX9PySPn47FeHi6IFeFINxicxN9eIFE8ltc0YG9WGZ5evAc/f3MDHn1jA37/wVYRKuXwaxt2nClCkZa411cl4ccvrcSfPtyEDzYko7i6rq2kY+EcsgkDIzBzSDRmdJZEUI3vH6HCr+Oih1OB14DzBV/4fK9cK1c8MHuEBsTvWHSLXJS9IsKKqhoxLSFCh1blMmk7+0cE4K5zh2JgVCDe25CGJxclwt/bHSMYZN/LrUvqaRjGN4uJNsMw9AedVptfXz8Bf7tjGi4fF4eC8no8uzgRq/flolJEExcV7Moow83TEvD4XdPxnwfOwV2zBsFFjqXgciDCQD535kCXmsGpGxwvbfO09L0DCjMuLOB+Jgqz6oYmddLL1aXtYefFVZPDYoN0VeVzUp9n7z8Hz0l6/sFz8YPLRiE21BchIgR/fu0E/OvuGbj7vKHwcHfHXz7eocO6za203h1Lflkt5m1OxVtrD+LtTtJba5J0Th+HHw9TXR4HZzuO1FzeOK+Bk2YRbLsyivHK8v3apu9dPFKtk1x92xGd+7cjQwSaPyYNilQR54TDpGP7h+P/bpmKVx85H699/3w8cOFwBEv7B0T6w9fT1axthtHDMdFmGIYOTVbUNaKuqRUDo4Jw47RBuGPWENBdRUZxtTqGLatuxOCYIEwdEqXWHHd3Fx0WpXA4Vl58dThxP7mgAgdyy1So1TQ2YU9Wqa4oHRQVIMLNTcRhm+qQF07yj48MgJeHO0qkbrTmRQb7IDzIRy1MDrcivdVKV1nbhOhgX1wxcQB+duVYDIoJxObkIp371bHuPAOHWtMLq3EwtwIH8zpLlVKvahFRLSfUQRSgdU0taGhpUQtjU3OrClMKNTaFopGC7bWVB9DQ3Izbzhks1zhYv4/OBCXPuSuzDJMGhiFS2tl+IQTLr21o1pW4XKnLodV1+/NQVFGLKYOjEOTraZrNMHo45vLDMHoY3eHygxacVXtz8em2dOSV1uBAXjm2pBSqC4+pgyMxvG8I8spqVGBUyLZcybM5OR+bkgp0Yvxl4+PRJ8xfxF0D3lufgvOGR+sCBs7TKqtpUDcb/j4emDUsWs9HFxQbkwvRJOJl4oBwHSrdIGVxVWSjiJdSEWG7MkrwwYZUnUd3z/lDVXQUVNRh6e5sFS3DpXy67CgQUbI1tVDqVI3skhrszSpRsUIfZrGhflh3IBfLdmchtbBKIyqw3nuyyjBreIyUE6kWqvZQxAVKXcdLvWYNi+k0navHRiDM3+uY451wyHNdUp60vUAXDiTKOUVHagSDVtkX7Ouh9X1p+X5sPFgo1zhYh4/Ti6qQkl+hwpVDpE5/dhRob646gFQRbj+8bBTCA3x0u5Pq+masl/Ot3ZejQpurdLlIY0BEAL4zqb/k98Lx5vB9VVgM22cuPwzj9GKWNsMw1CLlIwKI89M2iZiiyGppbcW1k+N1Dhd9tV0yth+mi4CjtWfjwQL1ncaoBJMTIuDn7a6iwtPdRcROGIL9vojSwPlyCdGB6CcCymnq4fniwvzQP9xfjyGth7kQIQxDYoORlFsm9ShCvzBf/NeVYxAfHqCWJNZxVN9QjWdKdUUfbjdPT8DMIVEa1mmNiDW6wuBcOYo8Lq7gKy1qFE4rRcRQuF0zKR43TB2oYrEzOOeOAoorNI+XfL3cNN/xoGCle5F1ci25QGJAdBAKKptEWBUiS8QarW201LEO9L9WWtMkIisPS3bl4LPdOdidXqLizglXqZbVNuH8YVEYFB18lJWNcDEJ230wv1J9tqWISJ02NBp3ieDtK9e+qwSbYRjfHBbGyjB6GN0RxoqH8wefw2sc0mN5FBMULoxO4Mjj8KdWzdWekt/X0yFaauqbEeDjGI6kEKF1jk5j6ZCXtaJFhsdwjhbLIxQ0tXIcFxwwb4WIkb9+vA2uUsb3Lh6uQ3s8jpa0ABGEnHPHsljHqrpm+Hi6qhh0wiFB1qNJhCbn2DG8k7eHq6OcQ4ekXU2Sx+EGg0LOX85JH2lf76qdGF4vLpTgkDP1EkWT6C59Uua1Y+L1osuTo32yOeCCDopfp9ji/uKqeq0/V/J2rDv363WQa81ymY/noENdukjpSlglC2NlGKcfE22G0cPoztijFAjOn3cNFtWhWO47IiKOyAYuRPgiIwUWxVF72g45qjzdJP+wPM6Z+/NHW0UEuuBnV47RoTwtV/7t2DaOFlL8tMdRlqPujl1H153bv6g3//mi9t1J++vZHrbJeX5Wq7NczNGh6V+0oeOONnRvu+vQVX8XHWE1TLQZxunHhkcNwzgCf+QpuJg6+73npvb7HenojB0FG3HmbQ8/Oo/vLT1RiK+nWpa48pSizHGODgcJHQUbcZTlrNexdefHL+otybG523HWqWNqf3752HmeTirpaNvxa889znOeKJ9hGD0TE22GYXyjUFt4u7vh8vFxuHRsX523ZhiGYRyLiTbDMDqFw5xcudg2ItetcN7cmLgwXWRwvMUBXwaryfpynh19up2Oep+VyHXjNeScOM5DdA7JGobxzWOizTCMY+DQGoOrL96ejuyS6tMigFrbhvVOler6JixPzMF/PtuLN1cfVH9qXMzghE2gEOXw6/Haw80UKcx3ojY7ynKUdzxR074szefYfEq0L4epI9yi+6RSRyXZ1kn2o8rquJ+hxd5YlYTn5Dp+vDkNeaXVms8wjG8e89NmGD2M7vDT1hFqJ/r8+mRzqrqLiIsI0G1nMlxZybid9B3m7eGi8UPDArxEvPRGekEl1h/Iw2e7siRlq0WuTyj9irWJEWlcVUMTdqQXq0+3pZInvbBK59lx9Wp7uNJzd2YxFmxJU59x6YUV6teNbk+cAo6iN0XOuXBbGhbvyNIQVS2HWhHiTzckJ29JZHml1fVYtz9XBGk2lki96NJjTHzoUSKQbkxeXXlA6p6NNfvzsXpfHlZJogsUxpEN9/cCY8myXnTZsnBrGhZuz8TujCJ1vxIR+IUPN4pfRsHYllaIxIxiDI0JQt8wPxHUulthVvPTZhinH7O0GcZZhuiRTq06dIVBi4nzt9dpvaGA6Wh9Yh46wK2qc7ijINyvlhn99AUOa82xZ3SWfbqGWOnHrEHqPDAyQMNw8ZWChGGmVu/LwbvrkrF6TzbmyOvOzJK2oxywhXnltZi3JV3DU1EgLRKxVVxZ52h4G/QVR2e9Lyzdi8SsEnUEvHxPDh6fv0OdDxNm3yP7/rVgJ1Yk5qBOxGByfrkes3BbhtSxpdPvpzNcpIdOyavAy8v2YYXUnUJxvtSvI/zO3V17SeoNd5de8JT3WUWVailLE0HH75P1Si2owNOLd2PF3hz5XlvUie9jUvdV0gZ+X4TxVK+dMgCTB4ajXuru+P5PtsaGYXQnJtoM4yyCfrroZZ+hm9qvHuT7jOIq5LQNddFKQjcbjECwN7sMqfLj7Tim7QCBP9MOQcYf/F46bJYtxzMskzMby8mSbSWV9Uedr1GESWZJlZbNYUoe277s7oICkc50Y0J81Secs/6TEiLxoyvG4N7ZIxDs635EiDphW2mNosPdn1wxFueNiMWhw4d0yLa9XCmuqhNRl6ll3nbOEDwwe6SGnjqQV4klOzLVJ1xDY4sKvjQRTbdKngcvHoV7zh+O2BA/zBdRmJRbrtfzZKAQ7Rvmj4cuGY1Hr5mIEX2DUd/Y6lDV7WB7b5qWgLvPHYK7zxuCG6cnYICI1qhAL3Vg7OPupo58aWWkpe1aaef9ci3uv3AkAr3d8fbaFG0b60WnyX2krhEB3m1z2tpOYhjGN46JNsM4S+DveGFFHZ5ctBsfb0rRYTHHD+5hHfL633c34oP1B3WCeYYIipeXJeIfc7firx9vxe/f34z/fJaIZBFvnYkrN5de+DwxB08s2IGU/HK1XvEHvrKuEY/P34m5W1KPBC8vr67HnLVJ+POHW7TsP3+0Bc8s2qXWp/bC7mhYnsMaRKvR8dLJCIgjWdresJ5DYoM07NSg6EB1NtsR5gny8cTY+DCMkcTwUU7LkxN+SsorV/E7dXCUCKhQRAX7iMDrg4QIfyzaniEi9rDGcN0nYjUhKggTBoQjJthXY7aOjgtR8bovp7zTuKKdwcsVEeiNGUOjMKpfqFrBOruCXMgRKqKTIb9Y92YRpRRng6ICNRoFLXAlIso4nMm4q9MGRyM6yAfDYoPBVbv8bvZnl6pljzhazn+PvgaGYXyzmGgzjLME/rwG+XrITX0Ym1OKUFrdoEqul/zHOVV7cyowUn74KZxoQYqSH+2Lx8XhtnMGaXiqvZll+GBDMspq6lUgtYdl0BKXW1arIaF0m+ShpS2ntLbtXByebMH8bWmYtzldREoYbps5CBeO6oPc8lq8vSZJjq85RnjxMy2EK/fk4MlPd+MfIgI7S48v2KVz7OjUtUMRX0rvXr1VmJ0I7tfU9rkj3JdTUo36hmb0CfXTiAwUVRRMQ0QIpZfUSjtEKLfl5VAqS+N75/XkvDkKa1q9TrYNzgUFJwu/k4Mivosq61SkUvSxDEadyJfvIVo+M9IExR+3M7xYr0OHRIzWfKXzGIZx+jHRZhhnEfRxNnlQJCrqmnAwjxYdxzDgp9sz5MfaCxMHRuqPev+IQNw8YwiumjgA54/sg6snD8DEhHAk5ZRpMPhOf7xlEwVIR7hJN8s/ZSLePt6YhkmDInD7OYNxzvBYXD4hHrNFuGUXVyExs6TTsil+KGQoDMtrG46bGBT99LnGPRaGyuollfVw/UIEsjZBfp46UZ/7g3y9MCw2ENtSizQIf1l1PfbnlqmlsqSqUS2gtIQ5LlrXwmvLa0iRzoURI/uFqA88fneNck6eluHF2otyulhxdXNFZT2FZNfXyTCMrsNEm2GcRXDoc2TfULj1PoztaYVqlcoREbYrswwXjIyBj6e7ioyWllZ8ui0d33t+BW5+fCm++/wqvLs+FUU1TahrOnSKeuIwSmsasDu7AvO3Z+GeZ1bg1ieW4u6nl+OpxXuRXFiDIhEtHYUfBRtjhZ4zLAbfu3gkfnTZGPzo8mPTDy4bjSsn9nesgmw79nTDquu5Dx/dBnVVIv9zv7uIoGunDMTY+BA89skO3PHk5/jte1tQKaIzPsJf8zPf0SV0DRS0XFDBeYTRgT6ID/eHi0v7Mx175Vh1bu/V6+j5e4ZhnHmYaDOMswn51Q0P9MLwvmFIK6pFYWWdrpysrGvChaP76n6uIn1n7QH8Ze52dWdx1YR+uHnqAExNCIenCI7j+UrTH/R2+/iZHzlhX5H3za2H1THruUMicfvMBNw2Y6CmRy4Zjt/cOAEzh0bp5PqOsBwOrVbWN6JCEufKdZZqG5sk77HHny78vT04pngkqD5hJ1pa5RhS9qMolu3xEQH4/S1T8Y97ZkjbR+AX14zDzTMGyfV203lpnu4uKrC6En4fXASxN7NUV/6O6heCQNaXp5HEAPTuUkkGlG//HTe2tKC5qRnBPm5qLTQM48zFRJthnEXwt5irJicOjFB3FdtTi/D57lyM6huMqCBfFRZclLA5pQQTBobj0WvG445ZQ3Uyely4vw6nqjjrAMv1FDFGyx1XXtJSRHca5bWNcp56+eyYuxUo5w7wdEVEkA+umTwA105OkNcEXDclQc4Rr5amjqKLx9U0NOGNVQdwz9PLccvjn0laeky6/YmlGqC8tqFFz/9VYHYOHTqHZvnidEfSHm7nPK9e7Bnb3kszHQJV/usn14jzwdIKK1UY8fiW1lbszirHkCg/uLk5ulQKY66+nDwwEpeO7aeRHrgIoUJSfxF0avGUy8DjT2aFJuvNvMzHrFov+XDUcfK+Ur7bnZnFun9on2BddMGrTTEW5OuOmFA/5JQ55tQ5255WVI1DvV0RH+YPkaK6zTCMMxMTbYZxltFbfr0TIgMQ6ueJd9YlY092qVrZON+NQsHVtbe8d0VBRR1SRXxkFlepI9ble3IdrjDaKQHnTzitaXHhfrL/MDYm56t/r71ZJfhkU4oImGo9J8UYndlePqEfFu3Ixvyt6VJ2JXJKOJetGBuT8lFQXnuMQOFxviJi6Drj5YfPw9s/mo23Okmv/2A2fvKdcZLXsQDgZKHYqqpv1HYyugOFZ3l1gwqvLNnmFJFc0VlYUatOdekOpa6hWef3ZRVXy/FNaiEcEhOs/t+W7srCxoP5yJZ9769P1on/10wZCA9XF20fHf3uyijWVboZRVXq1Jdz2iiUxw8I0/pzXtuerDKsl+tCMdfhshyB4pDXMK3A4ZaFvugyCiuQJdtoNXPClatsU6GIaM5liw32advjuMZh/j6YNTxW67Voe7q2fWtKIV5feUBF/vB+YTh0qM1qerzKGIbxjWIREQyjh/GlERHkB5cWliIRDksT8+Dj7op7LxiGMHq9l/84741Wlg0H8rFOxNrm1EINWUUfY76ebpiUEIG+ob7Yn1OqPsXG9o/Q4b4AHw/UiuChP7KNSYXYnlogwqNVJ7fTrQSPoxWK4i5LxNqSHVlYJ+dYvT9XPfrTIjcwMhDhAd7H2HNoNeK5Q/y8Tpj8vTyOEpXt4RDwZhEh3tL2CSKMWBdFTrZ2Xy6eWpKIJTuzkVVai/yyWmxKLsKWtGIVtK69e+sK2FeWH8Crqw5gZ3oJcsvq5BqUYa8k1q1PiK++hvp7Ijm/UiMnMHLAxoOFmDk0ErfMHKLnpJWNgvaFpXK+XdnquHZHWhEGRQfhjlmD0S+M0SUOo1IE2DOf7dFFIqPjQhEZ5HPMdeH3RLH2xKJdeH9DqgjwclSIgNyVUaJzFqMCvdX6RxFIMbpMhOH+nHLQcjosNkRK+OJaucv3Tr9ttMB+LiJyXVIBViRmwkeu6fcvHYn48IAjw6YUqHQIvCezFJMHR8l3+sU+wq+AC1osIoJhnF56SefRsZ8wDOMMpqysHK+/8gKSPnsdj141BgHenkesRU4oguhPjCsYwwLofyxcLW1OWlsP40BeGQ7IDzx/2AdE+sPH0xWFFfUqLsIDvNRCxBWfCfKZ/sgo+BhSiStA88rrEC7iZXBMMNIlH8M4DY0NEpFBmxtQUdeg+Sh8SJjk5bBgdLCvusjoDmgR+/enu3W+2F3nDla3HLR8EToR3pnBuV6HVAhRgHDIkALvqolxKtpotaLoyxZRxyFLjh7S9xyv28i+wTqpn/P1CC12tGDSjQaF0zgRiSooBbaf8+/2ZpWKQGSUhF4i+HwwXMrgylK6AiGMTvDU4kREyLV+4ILh6metY2dMcUSxu0EEVrmIUtZTBZMIbIpxWu2cYqtJBDQFG7+jMSICQ/xFHLf7u+Bbtp0uXXalFyO3vB5+ni4iysPVgS//Jlh2q5RNdyGLt2fi021p+PGV4zBreB89pxPmo0jkcLXf2Cvw4Pd/jMjIiLa9hmF0FybaDKOHcTKizfkD7erCYUsO/X3xg+uE+5l4JJ3l8pXzy2hlYXnOeVPOz4T7eYz8r+VyHz9TNPC9E9kNFxE4zEc0r/zjFCzdAYcyn1myB5tEeA0XAXnDtIHqUJcikdYvrqJsq84ReFXU/YZAIUJR5KyzE+5l29rXndfFWR43t8r1bd8ybm/ffsf14XVw5OLmrakFWLEnB+cMi9XhSV7bjjA3y3BrE2vt4T4OibJuzn2O74bz7Ph9tq/RF/A8TlGqde/wvdCX3l/nbtdh4kBvN/zwslGYMjhGzvPF3xDPZ6LNME4/JtoMo4dxMqLt2wgd9NJ6lVdWCw93Fx2KjQz0FiFzZk7dZX05X43Wvu6yPp4K9DW3LbVQV8jSWTOvY7Cv/I217Scm2gzjm8EWIhiGcVbACAXD+4ToHLVzhsYgOsj3jBVshPWlKDqTBBvx9XLDOcNj9DpOGBAhdTxasBmG8c1hos0wjLMGDv19kdo2nsGcqQbS9tfRMIwzBxNthmEYhmEYPQATbYZhGIZhGD0AE22GYRjGV8YGTg3j9GOrRw2jh1FWXo5XX3oeOxe8jEcuHgZ/T4/junc4nTjnPzl6FOtWupJelEjy/5lybVkfxix9dvEeRE25Bg/9wFaPGsbpwESbYfQwqqqq8PZbb+Kt/zyOYdH+6un+G0X1RC/U1dWovy8vL2/0PoNXbfY0KMgb6uvl2rbCy9vHcW3PgF6b/uESs8tw+c334YEHH0JICCMwGIbRnZhoM4weRnNzMw4cOIC1a9eiqfH4MStPC2pd64Xs7Cx89OEHiIiIwBVXfge+Pl/EvTS+BnJ9W1tbsG7dWqxftw7nnX8BJoyfABe6CTkDeu7erq6YPHkyRo0aBQ8PR0QIwzC6DxNthtEDaW1tRVNTk75+0yQlHcSzzz6DsrIy3HfffZg6dSrc3d3b9hpfBw45M4h7SkoKXnrpJWRlZeHee+/FrFmz4Ob2RViybwpa/fhdu4p4Mwyj+zHRZhjGKUExsXv3bjz11FNoaGjAd7/7XUyZMsUEWzfAbjo1NRWvvvoq9u/fj9tvvx2XXXaZWbcM41uGiTbDML4ytPBt2bIFTz/9NLy8vHD//fdj7NixZ4T152yFXXVmZibeeustbN68GTfccAOuvfZaeHt7t+UwDONsx0SbYRhfiZaWFqxfv14FG+ewcUh0+PDhNkR2GqB1Mzc3Fx988AFWrVqF73znOyre/Pz82nIYhnE2Y6LNMIyThvPoKBaee+45JCQk4O6778aAAQPMwnYaoXArLCzEvHnzsGTJElx00UW46aabEBwc3JbDMIyzFRNthmGcFJy3tnjxYrzyyisYN24c7rjjDvTr1w8uLmdWwPNvAxRuXPixYMECFW8zZszAnXfeibCwsLYchmGcjZhoMwzjS6mrq8PcuXPxzjvvYPr06ToRPjo62vyxfYOw666srFRr27vvvosJEyboytKoqKi2HIZhnG2YaDMM44TU1NTg/fff1zR79mzccsstOpfNBNs3D7vv2tpaLF26FK+99hpGjBiBBx98EH369GnLYRjG2YSJNsMwjkt1dbWuVvz4449xxRVXqGCj53tnyCrjzKC+vh7Lly/HCy+8gP79++MHP/gB4uPj2/YahnG2YKLNMIxjYLdQXl6ON954A59++qm6lrjxxhsRFBTUlsM402hsbMSaNWt0kQiHrh955BFdLGIWUcM4ezDRZhjGUXCSe1FRkVrYli1bpmKNos3f378th3GmwtW9dMfyn//8Rxcl0OHxkCFDzB2LYZwlmGgzDOMIdJpLP2BvvvkmNm7cqMOh9AXmY7FEewz0o7dp0ya1uFFoc3EC57pZ9ATD6PmYaDMMQ+GPfXp6Ot5++20NT3XrrbdqqCRGPDB6FrSWbtu2Dc8884yGFbvrrrs0YoV9l4bRszHRZhiGDqslJyer6wjGuLz55pvVaaunp2dbDqMnsnPnTrW40YJ62223YeLEiRr2yhaSGEbPxESbYXzL4QT2ffv2Yc6cOeppn4Lt3HPPteG0swB27www/+KLL6KiokLnJ9LPnq+vrwk3w+iBmGgzjG8xFGy0xtBpLh3o0hozdepUHVIzzg7YxdN6+uqrryIjIwPXX389zj//fI1XasLNMHoWJtoM41sKw1Jt3bpV57ARhkEaP368xRE9C2E3n5mZqSuC9+zZo4tLLr30UgQEBJhwM4wehIk2w/gWQmesa9euVcHGH26uMBw+fLjFET2LYVdfUFCg3zm/ezpLvuaaayzQvGH0IEy0Gca3DA6D0v8ah0RjYmJw//33mxPWbxGlpaX63TNmKRebcA6jBZo3jJ6BiTbD+BbBOJWMcPDee++p01Va2Pr162eC7VsGw5Pxb2Du3LmYNm2aDo1TwBuGcWZjos0wviXwh/qDDz7AvHnzMGnSpCM/1Dan6dsJBfyCBQvUzQuHxingGbfUMIwzFxNthvEtgO4eGOVg8eLFuPDCC3HTTTchMjKyba/xbYWLUZYuXarz3CjgH3jgAQwaNMiEvGGcoZhoM4yznOLiYrzyyisaTJwTz6+++mqbfG4cgcKNCxPeeOMN9d/20EMPYdiwYbYoxTDOQEy0GcZZCm/t/Px8vPDCC9i+fbvGEWVYKgv8bnSEwm3Lli147bXX1MpG4TZ69GgLNG8YZxgm2gzjLIS3NeOI0hN+SkqKCrbZs2erQ1XD6Aw6Wt61axdef/11ne/GVcWc+2h++wzjzMFEm2GcZTBYeFJSEl5++WUNS8XA7zNmzNChL8M4Ec3NzRrSjEOlHFa/4447MHPmTAtpZhhnCCbaDOMsgoItMTERL730klpL+KNLawmDhBvGyUDhdvDgQV1VyrBXXLRCK62np2dbDsMwvilMtBnGWQIFG8NS/ec//9EhrbvvvhtjxoxRK4mtBjS+ChRuFGxz5szRsFfXXXcdLr/8chP/hvENY6LNMM4CKNg2btyIp556CiEhIbjnnnswYsQIFW8m2IxTobW1FTk5OWpx27RpE6699lpdfezj49OWwzCM042JNsPo4bS0tKjLhieffBKxsbH47ne/i8GDB9vKP+Nrw4cBzoukH7fly5fjhhtuUKubLWgxjG8Gl98Kbe8Nw+hhcMXfihUr1MJGb/bf+973NI6oCTajK6CVlgtYGPKMMWsZUYMWuIEDB9ocN8P4BjBLm2H0UOrr6/H555/rogP+qNK3FuOI2nCo0R0wDBqHSt9//31cccUVuO2223Qo3jCM04eJNsPoYfCWramp0fBDDE1F7/UPPvgg+vTp05bDMLoHrkhmoHkKtwsuuEDdyTAcmj0oGMbpwUSbYfQgeLsyjihjiHJl3/jx43HfffchOjq6LYdhdC8cJp07d67+/U2ZMkUtboxbamGvDKP7MdFmGD0E3qplZWVYsGABPvroI3WYe9dddyE8PLwth2GcHhj26tNPP1UnvHQrc/vtt+vQvM2lNIzuxUSbYfQAOPmbHuo/+eQTLFq0COeff74OTdmcIuObgotgOET/yiuv6JxKOnLmAgUTbobRfZhoM4wzHLr0yMvLw8cff4zVq1dr0He6XQgMDGzLYRjfDHTCu2bNGrzwwgs6RHrnnXdi6NChFq/UMLoJE22GcQZDCxs909PVwrZt23D11VfjyiuvND9ZxhkD/0a3bNmCZ599Vh3vOiNxuLu7t+UwDKOrMNFmGGcodGyanJyMt956S19vvPFGXHLJJfDy8mrLYRhnBvxb3b17N5555hm1DN91912YMnmKBZo3jC7GRJthnIHwtty7d6/OF8rPz9f5QnSxYNYL40yFwu3AgQN4/vnnNYoCF8nMmjXLHjIMowsx0WYYZxj88du5cyeee+45XaVHlx7Tp0+3Cd7GGQ9/TlJTU/Hiiy/i4MGD6g7k0ksvtUDzhtFFmGgzjDMIDi1t3rxZ5wdxaIlxROmLzXxgGT2J7OxstRJv375d45VyHqa/v3/bXsMwThUTbYZxhkAXCgz8TisFXXkwLBVX4plgM3oiHCJlxA6uLr388stx/fXXIygoqG2vYRingok2wzgDoJf5ZcuW6Y9cXFycDonS51Xv3r3bchhGz4I/LSUlJbrymTFyOb/tpptuQkRERFsOwzC+KibaDOMbhoG46TCXP260rHECd3x8vMVzNHo8/HlhFI/58+drBIUJEybglltuQWxsrP19G8YpYKLNML5BKisrMW/ePA1NNW7cOP1B69u3r/2gGWcN/Ilxxsvl3zkfTBjNwx5MDOOrY6LNML4haIF47733sHLlSl0dSse59CpvQ6LG2QZ/ZviAsmLFCrW6RUdHqxubhIQE+3s3jK+AiTbD+AbgJG06zaUn+dmzZ2toKs71sR8w42yFPzWcCrBu3Tp89NFHupr0nnvuwbBhw+zv3jBOEhNthnGaYRzR1157Dbt278IVl1+Biy66CKGhofbDZZz18OemtrZWH1bmzJmjMUq56GbkyJG2StowTgITbYZxmqDTXKf/qqSkJA36zigHDPxuc3uMbxP19fXYtWsXXn/9dTQ1NeH+++9Xf4QWaN4wToyJNsM4DVCwpaenqw+2lJQUnc9z/vnna4BtE2zGtxGKtcTERLz88ss6bPrAAw9gypQpJtwM4wSYaDOMboa3GIUaw1JlZWXpcNC5554LT0/PthyG8e2EEUCc8UpLS0o1AsjUaVMtxq5hHAcTbYbRjfD24o/SU089hdLSUjz88MOYNm2aWRMMow3nQ80zzzyjDzW8R2bOnKlh3AzDOBoTbYbRTXBIdM+ePfjXv/6lc3h+/OMfq3NRm3BtGMdCwfbvf/8b+/btww9/+EOzRhtGJ5hoM4xugPN1ONGa1gOKN/4IjRkzxgSbYZyAgoICtUpv3bpVLW5cqGPzPg3jC0y0GUYX09DQgG3btuk8HQ6D/uhHP1JfVCbYDOPLYbzSZ599VgPNc/7nJZdcoj7dTLgZhok2w+gyeCsx8PumTZvw6quvqoWAgm3w4MH2g2MYJwnvI0ZP4ErrZcuW4eabb8YVV1yB4OBgu4+Mbz0m2gyji6DbAloH3n77bYSHh+ORRx7BgAED2vYahvFV4P1EP25LlizBpZdeimuvvRZhYWHmhNr4VmOizTBOgebmZri6uuqTP2+hqqoqLF26VGOJDhkyRH1O9enTpy23YRinQk1NDd5//33MmzdP4/My0DzjljotbnQZQhFnQs74tuDyW6HtvWEYJwFdd+zevVutaRRuHMr55JNPVLBxdSgFGwO/G4Zx6vBhiG4/+BDE14ULFyI3Nxf9+/dHQECACraDBw+qsONnE27GtwH7KzeMrwB/SJYsXoI33nhDYyhSwL377rsq2BjhgIItKiqqLbdhGKeK05rm5eWFq666Cg899BB27NiBJ554AsnJybrgh3Pe3nrrLX1wMoxvAybaDOMrwKf6RYsX6RBNRUWFLjiYO3eu/qjceeedGvjdMIyuhZa22bNn42c/+5n6c6NwY/zeiIgIFXKZmZn6QGUYZzsm2gzjK8Bh0eLiYh2ieeedd7By5UqNI3rLLbfoEI1hGN0D3edwXtujjz6qq7RfeuklFWoMebVlyxY0Nja25TSMsxcTbYZxknDxwYoVK3TYZtWqVeoAlCvaRo0ahZycHB2uMQyje6BA431GkcaHJN6PCxYs0Llta9euRXl5eVtOwzh7MdFmGCcJh2X4RJ+enq4/EhHhESgsLFS3BIsXL9ahU8MwugdGFuGDEqck0Bci/balp6Vj7969SExM1JBxzGMYZzMm2gzjJOBTPn8wGPydoXYCAwPR26W3uvqIjY1Va5u3t3dbbsMwuhpauBMSEjB06FAVZ7RsBwYF6iKE7OxstYIzfJxhnM2YnzbDOAl4m9BfFN0OcHXo8OHDERcXp+/5xM8wO3T/YRhG90GxRos2FwHRys0FCFyQkJqaqvNMuVCBq00N42zFRFsXYpfy7IXfLefT0LJGkebn56c/DqcznqjTBYJh9CS6q190Wtu4KIHz2VpbW9USZzF+zx6szzsWE21dACfCckVhfn4BWqTjMM5OnLfKN9GReHt56jAsh2UNo6fAxQKcA1pR0d1+1A6LiDtsDnbPGg6r+GbYssjISF18Yjgw0dYFFIlge/65Z7F88Xz4edoQ2dmKU6qd7huGP0aH3Hxw+z33a/Bse/o0egqca/bw9x4G5GHW3d2t+26eb+rmNLoe+S75NdJ5+Zgx4/DdBx/EwIEDHfsME21fF16+zKws/P3/fouW5BW4bEwfuPS2H1Wj66iqb8IniaUYdcX9+H8/+6n6qzKMMx32jVzRecftt+JnjzyAvrEM7WY/N8aXIA+lHPpevW4TcovLRbR9D+PGjTUrahsm2r4mvHwZmZl4/E+/Q1TZFtw1i3Mq7I/L6CLk7iyrbcCzK7MQNv02/OLRn5loM3oE7BvpjPq799+HF5/8GwYPHMCtjp2GcRxo8mgV0TZv4RKs374Ht995N8aPH2+irQ27Cl0E/9A4atVb/nGRxFdLlr5uotWWf082JGr0RJx/ty7yg+vKv2V5tWTphMnFRV5dTKQdB7sqXYTz+dGeIw3DMAzj1HAM/kmyH9NOMdF2FsGHWrXMSDqVaXU8xnnsKRxuGIbxzSMdWC8XF0ny83YKFmoep8f3llezcBtnGCbazhLYt5RWN2JvTiV2ZJYjtbAKh9pNV6QQ4/CEq3RIfO3YFzW2tCKjpFaPTcqvQkVt01HHnyk4henx2tEZ7dvuJokm+I6dMYciuc/NtUNyOVoA89wd87FcFmcPhobxzdLc0oKcvAJs2ZUoaQ/yCop0fpSTXuwz6ATbzVVfO/YD9Q0N2J64D5t27MaB1HTU1NUdk+dMgIISznZQYJ5kHZmP+fVYtr+Ta6B52vZrno7lO8vg3Np2Sbd1KMvoemwhwtek/UKE6HIuRBikP+qn+6K6i3h4cvE+PP15Mvy93DEjIRh/uGm81qVJBFluWR3yy+tQXtsMf283jIgNRLCfh9TfcXx+RR3eWJuGDzdnw9OtN743exC+M74PvD1cj+T5pqGILKlqwMECispmBEo7EiL9Eebvid7tlVU72IfklNYio6gGFfXNaDl0GEFyXP9wX0QFeauAa5VtmSJYd4lgPQo5ltd1UKQf4kJ9RfgBiSKKKW5bWg+rNZKXhtdrQnwwIgK9uvxa8RxlNQ14emUWQqfdagsRjB4D+0bGBH3gvnvxytOPYcjA/t3bL0ofUFBcgsf+9QzeePdDDIjrhwfuuQ03Xvsd+Hh5oaWZgi4fyalpqKysRmBgAEYMHYSIiPAjIwtpGZn48S9/h6SDKQgLDcE//vS/mDJpAg6fQf43W1oPaSSIfUnJaGxuRmxUNEYOHwyfLwmjx2tfW1uHtPRMZObkoqmpESFBQRg8aAAiw+UatAmusooK7NufhOKSMp1XFhMdiUED+sPf30/3V1VXI3HvAWTn5js6KCm4l/SN0ZERGD1yBPz9fPnla95ThatH5y5YgrXbdttChA64/FZoe2+cIhWVldi4ZhX8GvIwJi5ErTHdQWelOrfxnFtSSlBQXotfXDkc35nQR8Ubt+eU1eKxhXvx3oYMLN6dh+0Z5RgbF4TYEJ8j95anmwuGRfshWoRHaW0jBkb4YUhMoIq+U4Zld9GloLCi9fCVVSmYu1k6rJwKbEwuRkZxtYgvH4SKAO34xEhY/zkb0jB3Swb2ZJdjX24lNiUXYUtaKYJ8PRAT7C1iENidVYb3NmbgQH6FpEpJVVi4MxefSooP85FrEaAC8B+L9uONNWkqglOKqrA/r1Le12JotD8iA727RbTVN7VgS0YlvPuMxIzp08zju9FjKCoqwvxP5uHqyy9CaHBQ29avAW/CTu5z53Zaxnbu3I2gAH/8909/gHNnToWviJlWEWzrN2/DE8+9hEVLl6voWLFmLfbuP4jBIiZDQoK1GAqfKRPHITwsBHv2JeHi2eciNib61ESIVKkLu0CFVsN1Gzbjt395HGvkdb8It89XrEZ5ZRVGDhsMj+M4oeUjZkFhEd79YC7efv9jbN62E4n79uOAiFM/Xz8M6B+v/QqtlP/39yfw0fyFOJicjq07dmOplJ9XUIhhgxP0+qSkZeCxJ/+D9+bOR44It6TkFOw7kILWlhYMHZIAf18RbV8TCv4DB1ORlV+IUaPHIDo6Wr7errySPReTrj2Aw/JfY3Mrquqb0dTyham/WZ64qhua0SD7nAZTWn36iBiLCvTRP3Ju9XJzxewR0fjRpcNw09R+OhTYUVdS3IQHeIuI8YGHq4sedyrwKbBG6llUWY/K+q4J3syq1jQ0YbEIqN2Z5bh9xgD85ZbxuGPmAKSX1ImwykG5CM3O7ulWuS5TEsLxw0tH4P9uGifHjcMPLhmGmqZDeGtdGkprGtWaNjUhDH+TfY9JuUy/vWYkZg4KwyARr4Oj/OUailDSi9ILE+KD8JtrR+Lvku+ft47H/147GglRgSosDcPoHnh3VVRVo1QEinPqBv+tb2zUbY3NTfqZQ4cB/v6I7RujAeX5OU/E48tvzUFZeQV++siDeOoff8TPf/J9bN+9B8+9/AaaRdQRet6P69cH0RER+vlUYF/c0NSE0vJKZGblqNWoK2B/Xlhcgr88/qT2df/802/xxF9/j2u+cxneESH2+co1zNSWux2yjfFa5y9ainWbtuD8WTPw59/9N/71lz/g//3oexg3eoRO8egtad6CRfhw3kI88sC9+Oeff4O//v5/MH3KJHy6dAW2ihh2DDX3kuvrh6suuxj/+OP/4pl//gVPP/ZHPHTvHQgPCTnyW2R0DybaegDNItTWHyzCn+YlYtmefBVwFGzrZNtf5+/Bin2yraX1yP3K2+pIpyYvIf6euHZiX1wxrg8GRvjr9s6g5pBiv5JgY97W1sOoFoGWWVKD5XsL8PiivXhqyX6kF1WrpY91oKChoDtROp7oYVvyy+uRVFCNEX2DcIEI0IFRAZg1PBIj+wTgYH4VcsrqO604yxzZNxgTBoQgJsQXESJMh8YGIU7eU7A1NLXKTdAL3u6uaimLkBQZ5I3qxhYUVDZgfFww+oX6tJXG7opCEKhppIhuQYvUzdfTTYWfYRjdBwXDi6+8iR/9138jKydX+jsRI7W1eP/jBfjd//0N+/YfPNIFHJJ3FEuH2afIPUqLUGFxMWZMmYip0yajf/84zJo1E+edMx2r129GSlq6ihY9ln3R4a8mtNhHNTY2obisHHuTkvHeR5/g0V/9Hq++/R4aWhyCkGKmRfppCkTOvessMSTi8UQeI6MkJu5DakYW7rntJowZNxpxcf1wtYi2/vF9MX/x52hqE58dSc/MxobNW9G/Xz+MnzAOh11c0HCoFRHRkYiNjdFrycRhU18fH4wZOxaRUZHo0ycWo0YMRVCgv5TdfFQXy89l1TWokO/gkAhjbznOlfPgjG7Ffml6ALSCUThQFyzckY29OeVIzq/E3C1ZqG1oRv8wX4d1rBPRQmhZY99FoSf/f214GnYsdSJssotrsCmlWIcM//TxLry0MgXFVY0YJeLKOfTY0NQiwqpSRGYx1iQVdZrWSuLwZ2ewDyuqalCrYv8wP3h7uKBFNrLNsSK+aPovqW7QbR1RkSWVYF3Xy/kpet9ck4q9ueWYNCAMgT7uKnK1TXIBtfMVUbwzs1zLHN4nEEE+HixK8/h6uiKjuBb/+HQ/fjlnO/7nnW2Yvy1LoxYYhtF90F/h+bOmIyU9A0+/8CqKSsuxZdtOtTJxeDOuX99Of9AolijE1AeYdKKHRawcls+HRSB5enigVIRWckqadJRf7eeQfQWFS2l5OfYlp2Dx8lX411PP41d/+Cve/WAe/Pz9cO70qfJA5xAyVVXV2LJjF5atXovla9Yfm1av1yHcgqISFWgdYVzrvQcO6nDmiGFDGNhVO0dvacPIoUNQKMeVlZap+GpPi+TLyslRKyNfn3nuRfzyf36Hn/z0v/Gk1Dc5NV3FLa/RzKmT4ePjjcefeBoLRQR+PG8hFixaisEJAzB+9Ej5DeoNVzeurO2FtRs24/d/egw/ffRX+Mvf/6VWvNp6eXg2uhUTbT0A3oT9Qv3UUsaO5/1NmXh9dSpqRMRcM7EvBkT4qzA7XdSIQNmSVoL3pB7PLN2P55YlYVd2hVq0/t/lQ/GHG8fi6on9EObvJbkPq9iiYHp7fTreWNt5emt9BraI+OusHRwerm9qFTF1SEUTOw4qKC4+4GceQlFGzXa8q0CLGq/bm+vSdV5fiLc7LhweCX8vN+3UnfD8BZX12JNTgTgRygmRfhrhgjn4PcwYFIrvz07Azy4dggfPH4jwAC88vTQJyxLzVcgahtE98P4bPWIY/usHD2Pj5u14VoTbm+9+iKjIcNx1yw0ICnBMlO8IJ7BHRsgDmr8/EvclqUUuN78Aifv3Y8v2Xaitq0MZA9pzNv1JQgHF+V+fr1qHF19/F4//+zm8+tYclIiAu+ryi/D4n3+HP/z655g5fbKuXGf/UVRSik8WLsGLr72Dl18/Nr0k6b2P5iM5LV2tih2h9bC4rAxu7q4IDAg40m+xfwoODkJTUxOqa2p4oXS7Im9Z18rKKrWiJe5PQsKA/vj+g/fi0ovOx7JVa/HGO++jurZGhNshzJo5DReedw5Wr9+IV958F2+JIM4rKMCkcWMQFBioRfL1iksvxC9/+n1NN17zHeQWFOL5V97APhGVndXd6DpMtPUQXF16YVSfIEwaEIqNKaVYl1yCmUMiMDYuROcjfCE7uheKGk7+//fiA/jDx4nIr2rEleNidI7X9y8eikkDwxAggoh1IuxXOOH/mgl98OurR+B3kq+z9JtrRuCysX306bUj3HJEWLXvkJQvPlPcHe86+Hq641ERlDzPDy8ahIgAD2wV4VlZ13yU0OP5UwqqpY01GBztr3P8nPvZJg7NXjmhn7bzolGx+NnlwxAreZYk5qGirkmuT1tmwzC6HA6/XXTBLEyfMhFPPf8K0rOycdetN6FvH8Y17Rz2CdFRkbjy0otQV1uH199+Hy+/8Q7eee8jvbcpBjtap06I5K1vaMQaETb/99d/ilh7V61TD993J/7yu//BXbfdrCsy/by89CGbfRRL7xsbjR8+dJ/OA/vb7391TPr7H36lImgCLVpt/ecxHOngjtPTddJ/En2glF1TJ47HTddfjdnnnyP1vAlTJo0X4boTuVwJKnXduXsvqqqq8JPvP4g//+aX+N+f/wRDhwzCh58sUisf+0euqr30wvNFnF6MGVMn4babrtXh2rKyCmwVEVxX39BJP210FSbaehC0LHFokPPEuNqTriu+iblUXNiQEBWAcf0CERngrcOhXCCQlFeJsppGvbHbW8xo6q9pbJF9zSitaeo81Tahtqnz+Rgsia5HPNx6q3VRh0Flo5YrnynouP9Eq3ZdRPTGhvrqgoHZo2LQP8Ifn+7KQ1Zp7ZEOmy8c5kzMLoenqwuGxwTCR6738WA7aWnjKtuc0jrUShutszKM7oP3uquLq64O5SMaVzMGBQXoYoPj3nnsH7y9cNlF5+OBe27HILoeEQEzasQIzD5vpk6qpyVOTfUnCfuakOAgjBg6BKOGDYWnhyfS0zOxc1ci0jKydK4d+4L2YpDz2ehpoKikBMUlpZ2m0vIKNDQ2dirJ2MLQkGA0Nzejsqr6SF9DyxaHPt3d3eDb0d2GvKVw9PHxQaBcs6iIcPj6yoOobPd0d9d4sI0N0v/K8XRq8sJrbyI7Nw/XXn05Rg4bgqki6m669juoqq5ScdfMudOSzyFFHcnNxUVX4HrLd5FfUAS6ITG6DxNtPQTOy6Io2nCwGP1CvBEb7IUNKSVILazWjuzL0BuMnYi+tr1v+/xVoFCJF8Hz0AUJ+MllQzEgwhfZInw45PjKqmSd27Z8T77OT+OqVp6Lwmpzagk+2pqFDzZ3nj6StCO9VPN3hB1kqJ8n/DifrKhaymtRUcghU7rb4FyXUF8PHTZl/biowTknhJ/ZcTn1HLcePtxLh0yqG1pRJ2W0J6+8DgfkOtN6Rh9wjidlB87rzLJYT9arVupSWFkPf293FdAn810YhnFq8H7mXCq6objswgtUqMz/9DOUl3XwsdgROY5+xi48fxZ+9PB9ePTHj+A6ESa01PXtE4shgwbq8OBJIWV5eXrinKmT8V8/ehi33XSdCqJde/fj3Q/n4bkXXsGbcz7E6vWbkFdY5OgTpMMoKSvDos9X4q05H+Pt9+l6o2P6WIOkp2VmOyxjHeAwKOtJa2HivgNHnN7W1tbjQFKyCLIIEbBBer7W1lZd2MByaJ2MFLHm7+cnYrIOTU3NKnL58MshWxd5QOXiA85pS0vP0hW0LNfZl7n2dsyXVjEpb5zbVShLPta0qLRUh2f9/HyObyU0ugS7uj0BuUc4z2rZ3nzUNDbjlmlxuHlKHIoqG7BoZy6KqxpOKL7Y0VFYpRRUSjl1KnaySmqQLsKKQ3rOm/BkoViJDvLBjMGRuGNGfzw0e7A64u0jQie7rA7ztmXjw03peg7KQk93VxVAUweGYvqgsE7T1IFh6B/up23tCDuGqEAvJET4abSG1fsLdCHGuoOFIrCqjjjKlWzIlXYuEQGZJmKWwq1K2rc2qQDb0kpU8LHNaw4UYnVSESICPBHu51hkwOvHBQhciVotQmxYTABC6PtN9zqEGr+DzSlF6tONw6cHciuknZnYm12BadKGQO8vnBUbhtH10EfYC6+8iX59++AXP/2+CLfzsXrdRixethKNIkaOB1dlpmdmqSUsMztXxFoW3v9oPrZu34nvXHohYmKiT160CeyTvH28dYL+FZfMxkP33YmH778LF8yaoQJo285EvPDqW5i3YLE6N2fH4Ofri/GjR+DcGVMxa8aUY9P0qZgycSwiw0OPGqlwwm0jhw9BfL++mPPhJ3KO3Xo9Fi1dpvPVZp87HZ4e7nIdmnTunsO/WpEKxji5XkMGD8SB5FSsXrte/bvxuq3ftEWtbXSgS7HF8vceSMani5YiWcqmEF342TIVgUMobOU/isq1ctweEY48/4bN2/DhJ5/qg/DI4UPhLYLWOsLuw5zrdgHd7VyXw24UGuuTi3HOkAhcODIafUJ81R8aFwT4edLDvx92ZJSqhev8EdEI85Mbp+3GpzuQV1enYZGImcTsSuRXNKjQo2d/P08X9emmIaEkL4cLOTwYF+aLIdEBx3Wuy1uSidYlrq7sK/UZKkJnsBwT7OMOLxFqFHbBUg92BuH+nlrHASK8jpcY2YCdYWfwPHStQasW27k7q0Id7EaKmLt8bKzU1087Ne57c32GtN8DA0Uo0iq3cLt0MiLctmdU6PXanl6qJv3rJ/bFqH7B2nY2vry2CZ8l5uuihsvGxKi1zanaODSdKUJt8c4cdb+yLbNCrZ77csoxOi4YN0zup23sanh6c65r9FS60rkuHefSOW6miIafi2AbPXIYIkTgZOXkYdPWHRgwIB6+fn7YJkKsTvJOnzIZwfTTJsfSukQhNX/RZ1i7YRM2S34Kl2mTJuDWG69FoBznhMONySnp2LBlGy6+YNaJnevKdvZZXt5eWpcEqcOoEcMwsH8cvHy81LHvsCGDtA/09PRAn9hoEXr9dYi2s0RBRovY8bz/c5g3KDAAO3bvUQG6Xdq0VwTa1MkTcOPVV+rcupq6eiwVEbt0xRrEx/XR+jMihJ+fL3Jy87BdjtshifPPeH1uuf4aFW6u0q9w+JVOeLft2KXXhytCM7NzcM60Kbj84gvkAdxDxNp+tQhu2LRVrvt2FX6MkkAr5vnnTHdERPia0JBgznU7x0RbF9Ddoo2hlxqaD6mImDE4HMG+nnBzc1HBQlFEi1F0kLeKkX25FRjRNxg+nq7qe4x/6Hw6Kq9r1ggJCVH+upiBIocuOWilokWJNwlFy56cSi1joAisIdH+Glvzy2B3xvNwnl2wr4eWTcsaFyDwWvBqcD+Fz4nSiW5KCjKKQ4pJvgZKYiiuC0ZEaZuc4pJ9KxdCMIJBiFwbij2G7fL39pDtniqsRsQG4OJR0RjXP0StgIRn5hA0zzNUhOeIPoEiPI8WRzyHjwhHXscAH0+9flMGheKy0THq0Fga0Jaz62CJJtqMnkpXirZmEV7F5RXq9oP+1niv+nh56yIE3wB/FUReIk42b9mOgqJiDB2coPPV3N1ctX/hfePi5gZvXx8RAVEiRCarEIkIC207A71oNCM3rwC79x7Arj37RLSdZEQE7pbEoUbOs+NwJCMIJPSPh5eINfZtjj6w95emE/WDnK7RNzYG8fH94CECLiQ0RIXnlZfMRljoF+3oLfVgeK4hCQMQKNeAQ6vh0s7+clyQfA8BIvyGDxsix12IMSOH6zAz28hwVsNFZLJcf8nDtp87Y5peh4iwELnmvXX41MfPB37+/ggWkZcg5+CKU1oQ+R2fqP4ni4m242OxR78mvHzdHXtU+wN+TfK/Bjx2bFZ07pZs8BBx8tqqFLy7MVPDU3GRwN2zEo7ML6Ag4X/MzOMd7yTJP0zlNU1YmpiPz/bko6m5FTdN6acWPQox5j1T4HVgk4mj/uwMHZ+Jc79cpiM3uXObsx3cyg6//XGE+9UZp8BOviO6X8pq+yqOXD+W1V2wZIs9avREeK90ZexRltd86JDeb+r2pw1u5/ys3iLKysrL8eKrb2Hx5ytFfAzWFY4ceuSke04TYT/IV96ynAvbfs4qyS8swjMvvKbDiJwP9utHf4Sxo0d+paHT0wHbwDaz7WxD++tBGAmGedjG9v2T81pxH7fz2I79F78jLZt9oexy5nPmYhnO8vme/ayLiLmuNFbw2lvs0c6xq9AD4K3AG0etUY5NR1ArlexrlT5l4oBQ3H/eQJw7JFwtXe2fTHhDqWNEeXW8d7zyWP5H0RcX5oOLRkTi1mlxGNknSAXf1+lkuwPtIJx1l9SuiYpzf/u2O7exzc52dzyOcJNeT0mdofvblaV16KwgwzC6HN7H7iLMOgoUbud0B9qfORx50Xmz8N27bsM5UyepDzenMOO9ygdqOuVmOR0FG6FVbOyoEbjqsovw3btvQ0xUFFVK294zB7aFbfBwbfNb2QGKNTfZ3rF/cl4rHsfXzvovbuGx7m3XieW3z8UyuM15fse1tH7wdGGi7SyBTz2cM3bxqBhcNaEvpg1iZ3XyNxJdZoyLD8HVciyHHGmtsxvRMIyeBC1qDLt03VWX4ZorL8WwQQlfKbQS55NxyPT6qy/HuTOnISQ4UK1JhnGmYKLtLILzFjzcXHRI002ekk4GPmhRnDHxKZTH8gnrywQbn+RobbLuzDCMMwW1JIlIo0sOTvx3lb6sfU+mw3m0HLl03j9yCM5DjvOU4z3c3fSzIuWqiw3nZ8P4hrC/wLOQkxVSFGypBTV4ZmkSNiUXa4d2MsfyuDfWpOCfC/fh9BjjHPMnuKrLMTfvy+HDMdvjOE5eT+I4zd8258UwjJ6L9mWd3Me93dzw8YLFeOKZF5BX1OZDrSPc1m47hSBXXTJs1rxFn+m8uu6Gc8YaW1tRT39rnF/Wtv1kYR/WIMc2dXIs93E79zfK64n6O56b+VgPHmN94zePibZvMZzLVqkRACrUB9nJ3o+cB5GUV4EdmWVtW7oPBrnfll6C376/A/c+tx6/fHcrlibmoLbx+D6Z2BFnl1Tj5RUH8bPXN+OWp9fib/MT0XiciAuE/tzeWpeO7760Ee9tyEC1XBeKU8Mwzh56ufRSf227Eveqa4yTpZoObfful2M7d3zblZRXVuHDeQvxyE9+idvveRi//8s/1JkuY4h+KdJp0U/b0uWrcd/DP8Zj/3oaxSUlbTuBuvp6fLZiNR79n9/jlrsexPd+/HN8PH8Rqmpq23I4oGhMSk3D40/+B3d/94e4457v4Xd//Ds2b9vxlQWk0bWYaDvLoSWMCwo49MkhTwoRTiKl8OJTE32r/e81I3He8CjHylTZz3wcBdDJrNLJ8dj2FjVarn546XD8+eax3frkxfPsyy7HX+ftQV5FA2YMDtW2vLY6HZ/tzkdTS+edpxyG9OIaLN9XpO4y6F/tYH6lltcZjKCwN6cC87dnq/+3nLI62WZdk2H0RHT4080NvVxdjwyF6nAo+zx52Lvt5hvxm1//Av1iHG4kNI/mlfd8dZPEV3aGAh8C6T/tFz//qfp048T77oJxO+d89AlefO1tDdU1a9pkjXbwt389g6SU1C/tb1nXNBGlcz6ah1VrNiAlPVN91JGm5hb1r/bYE89oYHn6VAvw88Xjz7yAj0QkNrV88VC7PykFv/7D39Qf3MzJE3HpheeqH7rq6qPFnXH6MdF2FsM+p7S6USMILNqVi8SsMv28MbkQ+RW1KsQYHSGvol4d9dLUxv20vGUV1yJJhM7newqwYm8+skvr1BLHLoNdGaMxMOQTrXXdBQXXwp25aJU/0/93+TDcd95gPDR7COLDfLFiXyFy5fydwXZN6B+Kp+6ZhCfunoJhsUFoPYEIK6pqwJoDBTofcHiMv4i7M2t5v2EYJ4dGPsjIwrJlK7Fs+Sq1qiWJ6KEjWgoVCrTKslIU5xeo3zf2Chz6XL9hM0pLyrFj524s/HQp1q3biJLSMkcnKjQ3NaK0qBBVFRXdZ2mSc+0/mIxlq9ZqYPcfP/IAHnrwHvzk+9/VeKAUYfV1DW2ZO0GOr6iswsrV6zX26YSxo+Au4lOHgKXdmTk5WPT5CgxOGIif/eBhfPeeO/DfP/shpk8ajw9EtDF2Kq9PVV0dXnj1TS3y73/6LR548F7ceeetePCBe3DuOdMcPwLGN4aJtrMUCpfs4hr87oOdePTtbXhqyQE8sWgP/jpvN34hn9clFakF7WBBFf4+f59GXODNzSgDjy3cg999uBNPfLoXT3+2H796bwf+Nn8PUiVvL8lDlxjPfb4fv/1gt7NPO5a2G5u7j5v4zwmgaFt3sFgdAA+NDdTzxgR6YWxciEZ0SJP6dAafkOkEl054vUSI8VocjwY5B+fz0TJ3+ehojXHKPs4wjJ4FY1+uWb8J//Wr3+Pn//tH/P2JZ/H3fz2Ln/7P7/DHx/6NjOxc9PZwx1sfzsUf/v4vZIlwI8tWrMWDP34Uf3jsX3js38/gsSefxY9+8Rv8+7mXUSrCjYsR0rNz8NfHn8E7H32Cps6GKdv6DI5gfFkinfYxsm9fUgqKiosxYuQwdXTr3qs3JowZjQFx/bBxyzZU1tYcVzNx+HTPviSN/DB98iSNyuCcyUsrYnlFJfKkzVHRkYiKitCFFqFhoRg1cjgS9+1Hcmo6Dktb8wsK8fmKVXLekdi9azcef/wpvCIi7qCIX/XX9iX9ttG9mGg7C+E9VSti5K316diQVo6fXjYM/7pjPG6c2h/JhdWoaz6keQg7D97WzhuRwqi0phnF1U06ZPqnG8fivy4fpmJu/o5sjc6g+bQD6rz7YFnVjS3q6PeeFzbi/pc2dZrufn4jPtiUqfPHOsKS6xpbUdXQgv5hXlJfRwUZoSHYx02DIZdUn+Cp8yTgOTJKarB0Tz4m9g/FyL5Bxx1CNQzjzIXDhoyJycDrFG9/+NWj+Mcf/xeDBsarUGGkgyN9ntzjOiza9tnFzVUDpReXlOLh++7Cc//8C+6+7UYsXLJU53/pcKn8R/HG5DyuPRRF+cUl+NEvf4ub7v3ecdPdj/wMn69co7E8O8KA7eXlFeprLoTht9qeNj19fBAREYbcvHx5kG10dNod4AN3YWERPlu+EiEhgZh93ky4u7k7OjnNAI1k4OXphcb6BrQ0NWsfflj60aqqap2zV1RSovP10kS8FRaX4dOly/Hkf17B7j378Oacj/CL3/xRxNxqHHb+WBjfCCbazkLYIZVVN2LxrlxcNCICN07phwGRATh3aBRunhaP5hPoEvYHXu69ce6wCFw4KkYtXOcMi8SQKH9kldZrtIQvRcpwkw4nNsgT4/oGYGyfztN42Rcd6IhN2hFa9GhpYw/JcFzt+h6dZ+cigrGBgZhPEXY7XHywaGcOPFyBy8fFqssUwzB6HrQyHUzPQGpGBq664hJccvEFGD5iGG68/mqMGz3qSP/RGYx2QP9sd91yA2aeMwODEgbi3HPPQXRUFJIOpjkmyZ4EjMs5atgQTBo3WtKYTtO4USMQFhoi4q/toHa0ioCi4GRIKYbeOoL0hX6+PqhvaBSx1/nUjcbGJo2VeuBgMq66/BIEh4TIA+gX/SPb2C82BuPHjNRA8R99shBJKWlYsPhzFbr1dfVa/mG5jrTIUeSy2b/5xU/x9D//hD//9pdSJzfM+Wg+CguK9DfG+GawX6mzEN5P9U2HUFLdhP5h3ipGaEHikxsDzXu0PcF1BkVbgJebxjOlmNLj5L8gPw80tYqQarPSneiWZRfH+WFTBobh/vMScN+5AztN3DdxQBg823dQbfCsPH+vw73kvNJRtTuhTsaV/+m1+1ThQoMtqSXYkVmBy8b0QbCPB5pbvnAR4ggR05bZMIwzGrrqqaiqRkNjI6IjI49YkQIC/BESFiIPesd3sEvrEifZR0WEi2hpkc+tGjWBwdTrG+p17pt2qieAlq5Af1/cesM1ePj+uyTd2Wm6/85bNLxWr17H9l204tGvHIVZR3HGOjB83RG/ce1g/VMzszF3/mIRZaMxbswoEX8Ogcd9HJU4JGKMgebvuPl6TJowFq++/R5uve8RPPPi6xg2JAEhwcHw8HBnJeQ87hqnlSJz2vTJclwgRooYnTVjGnLzC5CelWWi7RvERNtZCLUG7ykXSXSZ0V576KrIE9xvjmNFpmlybGN+vnfMj2hf2vHhisy0whqsSSrG2oOdJ+7LKK6ROh5rMeP5fD1cpfPshfyKBvaKWm12zlX1rTjU20UDw38VjjRH3tQ1tWBpYh7qGptRVuuIu7o+uQg55XVIK6rGzowylFU3aGdsGMaZDe9pTu3gfxx61LtWtlG0cNjxy/ot59Ans7Gf0KSdHnu9k1uYxJWfm7buwIpV64+b1mzYrMO1nfUrHKb19fNFbX09KmtqHHmkDlxcwQD4FFa0dmlj28HVoVu37cD+gykarH7J0hVYtmINUtMzkZmdi7VyTi5kYFsYMP63//Mo3nrxGbz45GN46bnHcd7M6fD0cENkWKheA4b+chXR5u/vJ6WL+JU+10X6W19fb7UG0qWIXiDjG8FE29mI3Os+Inj6hnhjX141ymvkqUtuPK4QPZBXoRaz7oR9CocuN6aW4KVVKXh5VWqn6cWVKdiSVorG4wy5erm7YESsP5IKakW41WkbSqUtBwsqEezrgb6hvpqPrj/KaxtFgLUc6Qz56nDGS9HKbpfWM4cVjZ0QO/jIIB8NMv3h1my8ujYN87bnILmgBruyK7FifyEKKinatDjDMM5gKDZCg4Lh4+ODg6npqK6uln6hFTk5ecjLy+/0wbAr4ShGhZzz7Q/m4pmXXsezLx+bnpH00hvvYF/SQRw63LkQHBjXTwSUB1JS0lBRVYXmQ604mJyKnNx8jBk1HH7enN8L1Dc0oLC4RIdT2eH6+PogJipS56E99/IbeHPOh9i9dz8OiJBj4HUOhZKW1hZ15RQbG4WhwwaD05I3bd2O4cOG6KpSCoK+cX0RHRUhoi8D5eXlcu1aUFZZiTQRgRRyoSIeNZi88Y3g8luh7b1xilTIH/TGNavg15CHMXEhXxoC6nTg7tJbFxwsE/HRIp1Xgwij3VllOs+tpr4F0weHYUSfIGSW1GJjcjGGxvhjWEwgsktr1VdZvAiiIdEBOvG/UUTR2qRC1DW14rxhkfD1dMPCHTkilJpwy/T+bWc8Gg5dDojwxewRkbhkVFSn6bJR0VKHQBGYbo6n2g6wI2aorA1SP56LVsNNIgS3itAbHx+Cc4ZGiLBzRWpRDT7anIVmaWd0kLfWuUoE6ta0EqQUVmP5vkJU1zUjPNBTXZpQ0Pp7uSFB6nfesAhcPDJaknRi0f4oE/E3MiYA954zAP0j/HRo+Zv8NrWDbmrBloxKePcZiRnTp+nQhWH0BIqKijD/k3m4+vKL5Mc+qG1r18PhUPa7dN+xbccutDQ3o6y0DKvXbcD6TVvh7yf3+qzpiIyMwLKVq1FYWIwLzjsHYVInOtqlcLn2yksRHh6m1rly6dNXr9koItAbs8+diaLSUqxdtxFh4aGYNnmC+ro8CtEwPl6e6qrjiktm48pLLzwmfUfSpReej0ED+uuigGP6PHlCpKUsr6AIO3fv0SHRstJyfPLpEhRIfW+78RoMjO8HFzl22/ZdIg5fk8/xiIgMR6wItvNnTsPlbeeeOmk8KiurECn1/a8fPqTz+jzkuAMHU7Fl2w7kigjMEBG2aOkybJaybrnuKkyfOlEFHa15PPcqaW+rXMeamjqs27hZ0hZp+0RcfMEsHartTvjQzbpm5Rdi1OgxiI52+NQzzNJ2VsJnIA93F1w1vg8uElGyNqkY727IQGJ2mQiTQB1y5Hwx5vOWfLEh3vATIUaJQBEUFeCloob3CPNQg4b5eSJStmu8UdkYIQIoNthH9nYOLVn+3u6IDPSRvMdJQT7w83LXvJ3hLuJrckI4rp0Qi1QRX3OkDdtEsE2ID8Zlo2PgK2KPf8AVIuh2Z1cgt7xeLWnswMtrm/Hxthy8tT4DOiIsnewHW3IwT7bRakcxFibtiQvzR78wP0m+8t4XA0WoDYj0R6SIP861s27CMM58+IPeJzoK1111OeLj+ooYWaG+xxxz3CLg7emp7io4uz48NBSxkpcuL0iAv58OG1JIsXPjPU9REhUVrnPd2C9S8ESLMNJVnccRD3yYCg8L0eHF46XIiDAVgscrIzQ0BNdLG4YNGaSiiRazwqJi3HXrjRgzcoT0267aIecVFGKdiNHSinIdLQgM8EdcXB/E92PqK9egHxIGxEvqj359++hCBjastEyE7PqNePuDj9UqSD92d958vQo9HXoVvDw8cPP1V+PKi2eL4N2G19/9AFtFCJ8novDGa69Ua6bxzdFLFC1/l41ThJcvIzMTj//pd4gu34K7Zg1S/2dnykWtrGtSa1pD8yEEeLmo41wOS/7mmpGYMTRSBU+BiB0ONwb7uqO6ga40GkW0uerkfAoqDjHmSZ5mUT8ccqXgyyiu1jJpjetuaGmiBbCyvhk+Iiqjg7wQKHUj7Pq4PbesFkE+7gjz95LOsxdqpB1J+VVobjl0xPLJ+XDubr3VOS/zdvzL53kKKxt0dWoEBaq085uGNS+racDTK7MQOu1W/OLRn3X7U65hdAXsGxMTE/HAfffilacfw5CB/bu9X+Sk+8KSUuTlF+rNQ+eyz7/8plrt/9+PHkaciJrM7BzU1dWjX58YDSxfJPnzC4uQ0D8e3t5eKtwaGhqRk5cPV7nX+sVGo66hAbl5BbqfIpAPht0F+6USEVfZcn7WgxbKPlIHDpvqWeXcdM+RkpaJYYMHqmDreGGbmpvV3xpX1ToEqmP+b3VNrS4moCWRhItIbL+/PVXVNUjPykZ1bS38fX3RJyZaFzMc03F2A7R2clh37bbduP3OuzF+/Hj9Dg0TbV+bM1W0sU8p4/yv/Ep1GOsqQoRRDd5eny43fi/8+ppRiBLxQ9gBcdUk/xJ4XPvPTnSSr3xmTDpuphmdeWnZ6m7YUen55Q3r1LFuzv38Lo5URza68gDubI/sp+Wtsz97ZlXfSLJLV6ieAbBOJtqMngjvsdMp2ihQKEjoLy0gIEAXJGzctBXzFy7GJbPPw203XqvDpNJZSF8i/UXbPDe957mak/Nf2933DH2ln2U770TGLdXd+rmbaaujs9Ojyw7HyR3XVQUM6ydt4L7OLHccXSB6rBPJp9ud+Tm3Tva3FX0UWqYzb4c6dDcm2o6PXYWzFM7E4gKEuVsy8eLyg3ju84N4Y1WK3qPXTuyDyEAvvf+YdHJ+273Y8bMTWqko2Ahvd6drjNMBz8JzceVrZ3Vz7j+qOvKeCw94zFFJj+9QQBvcynaeKYLNMIyTh3N3k1PS8M67H+C551/G08++iM+WLtehxlkzpjqGCAlFSptgI5xUr+Knw32veY4IHuZxCJzTQlsd6bZE69Gubio45TP3cXtngo1QZB0l2AiPc5arZXcu2Iie4zh1ML45TLSdpVB4hAd44eLRsRgSE4j4MH+cPyIa37tQOrChkW25DMMwzg7c3FwxOGEAzps1Ux3kckXkzTdcozE2Bw/sf1xxYxg9CRNtZyl8JuIqz/OGReGeWQl4aPYg3DI9HqP6Bn+tuVqcH3YmrI41DMNoDxcacN7V1ZdfjO89cDce+e49uiI0vi+jnXT/imsOpzqHJA2ju7C/sLMcijda3RzJ8flUoXV8T3YFdmWW6QT/ngDnulGkcp7hicQm5/Fx3h8T83X2UM7DuY9lsUyW3RHnudonE7mGcRqRjqrXoUOaTteQXl19PTZs3oa0jKxjohmcidDqSJHZ281V0/HEJvP1dnXk4euXiVLuP1F5xtfHrqxx0nCOw4IdOfhwc6autDzTpQhXzm5PLcG8LZl4ZXUqlu/J0zZ0hM5992SX4b0NGXhrbTo2Jhehqq65ba8DzplLL6rGpzuy8erqFLy/IQ070kvUgafzOvB8723M0NW5L7SlV+W865IK0dADrpdhGKdGWXkFXn7jHazfuEUeaI/uO840OMk/KycXq9ZswBvvfoiX35yD/UnJx8R94IM+V8zST9zzr7yFOR/O03ycO9gZjNywM3EvXpHytu3crSt5ja7HRNsZCH/caek53o+87ne8PSHOcjpy0sc63ir6Xm5iRglwRifoyKmU221IXXdnleOJRfsxZ30qnv4sCR9vyTrmwbuhqRXrDxbhP8sOYsXePGxKKcKrq1KwYHu2RlkgdHmyLb1U8iRjkYjWfdnl6mz48U/34/2NmUeuBR33vrI6TctJK6xCWkGlCL0qlFQ1dHq9DMM4edQ61C51xon2taezfF/l2I4wwHpWdg7KKypU7LTHWe6Jyv6y/V0Jw159+Mmn+PezL+C1N97FE089jx27EkW0fXF+tiA5NR2PP/M83przEbZv34VPF3+OJ555EWs2bNKVuUchdaeLkudfeRN/euzfWLt+kzwMn9nitadiou2M4rBaZCrqmjQCQHVDs1pynPCHv76xRf2SMQ/DNnUUA7SAMTH2Z5UcTz9s9SJM1MIk//OYyrpm1DY2H3Us8/O4RjkfhUxlfZMe3zF2KfuVjj6K2EnxWNaJ1iZGX2jfb/E9Q01Vt9Wb0Qpo3erM6tVVsGQGvb9ifB/cd/4QDQBNEdbxjHnltSK8MuTp8zBumz4At8/or852V+wrwK6MMt1Oq9vCHdkormnEZeP64I6ZAzQSRKifB97fnIWcshq9JhR3tQ0tmBgfjLskD9Ot0+IxaSCD4rscc27DML4cihm686ioqUFReQWKKirlfe0Riw/7kaZm6X9kG/eVVFbJfdhwlHjikGVVXb30nwx316h5mFRYtJVfVlUt5VdKP1V/pG/ia0OT9FlybKOInaq6OhTLOSpr6/QYJ+wRe/eim44vflJZb4bPKq+uQaHUu1TK7yhk2GfU1DeguLJS6l6hbaCPte7sGzmtY/SIYbj5xutw5RWXqi84+q1zwu69trYWC5Z8jm0i5hjF4f57b8f1114p1/QQ5nz0CdKyso8aAq2R/CtWr1cLXqt8L4zDeszKVaNLsDBWXUBXhLHiTcpA5W+sScWHW7I0gPn2tGIVXAMi/NEiN8DuzDJ8uDkD87ZmY/GuPB2e46nCRZy4iyhhtILnlqVg3YECjdH5/sZ0yZ+F5IJK9A31QWFFPeasT8OcjZnYlFICL7feiAryVsFxILcC72zIUIe0uzJKNPrA54l5KkKiAr01UgLruHRvARgu6oLhUfDycFWxx+Dqb69LxUdbsrFc9mcVV2swdzrsJTlldViwLQvvbUjHIqk3hwsp7mKCfLSMznB0go4O5HjpRLDDZESGhEh/JEQHqJXNy60XrprQT9tLOC9vS1oJVh0olu2xOH9EFKKDvUXg9cZGuT6cnzaibyBqRZB+si0Hvl7uuFpEYP9wP3Xuy++LzoovHxODEF9PdUq8YGcuhkT5IU7y8PgQEXZBch3UG/spwJpSEFsYK6Mn8rXDWMm9SlFBQcBhtw/mLsDnK1Yhce9+BPj7IzY2BtUi5pZ8vhLvfjAXH32yUAOmp6ZlIMDPDyEhQXB1dUVWXj6efelV7NufpMe+8/7HmP/pEtSJ+IqJiVJ/bi+88Tbe4xDggYPoH9cXQUGBGlFh+ap1mr9A2rJw8ef6nqGg3KTcyPAwjSTA34CFny3HoIH9MXb0CI2uQOe0CyT/q2++iw/nLcTqtRtQJcItJipCw1XR4pW47wDeePcDrfuSz1dIuTu1PMb+ZPmdQbHktMwdL0ln3Zb7WOjvjA6ChwweJNemt5x3OSaPH4vRo0eqFYeHFxaX6vWOigjHw/feqdcjMjIcJSI+l61Yjbh+fTFscIKWR3G8dedu/Q6GDhqIchG1jMYwcdzoTp32ngz8rbEwVp1jlrYzBFqnnlpyQMMxTeofgnMGh2uYKFqleFNQYJRUN2jeMf2CMHFAMCrrW/Dq6jQduqOo49/0wYJqzN+RK4IrXwXLhPggrD5QhH8vPoDXVifrxPhxso0Wr3c3Zug8LR7H82xOLVG/bkVV9RjdLxB+nq54c126xiutE+HQcVyT/QIXJTz12QGU1DRh0oAQjO4TiAN5lXh5VYqWTevaop05WJ9crMLxnMFhGpOUYq9JnkI761tYn8SscnwqAujTnXn4VIRe+7RQtlH8cfiTlsPjwbZ6uLnATdRfxxuen3j+jOIazTM4KkCFlYs8KUeLSGVkhWJpE61sviIsR4l4yymtwdvrMzBXBNwcEaC7Mktw5ZgoxIb4fOHDTl4Z6/Qv8/fidx/uwjNLk7BfBDGfqA3D+GpwsvwmEUiMs8mHrYvOm4lZUyfB18dbhFKFCBgRdY1NGnM0LCQY58i+4UMGYduO3XjlrTlIz8hSCzcDrG8VQfTO+3ORmZWN8SKsIsNC8fyrb+IfTz6HRSKYhg0cKOJljMbYfPGNd9DUwpGMQygoLFJB9cmCJfKQ6YmJY0ajuKgEL772NjZu2Y7mZvaN7fuXXrqNouelN99BRFgILpZ6x/WJwUfzP8Xrcz5EpQi6zNx8nSd2MDkFU+S8502fqnWiUKS1qjPqRcAyduq8hYslLTkmzV2wGIuXLtdg7+0tge1hX+jh4SHJTR4s+QB4dN94WPbzWIplLy8vjQLBsH8eHu7y2VPEaC1yNVpDg5ZVXFKq56TAY8xT5j++ZDS+LibazhAYEmrTwSIVWbfPGICbpsXjrlkJuHpiPxEfLmrpmjkkAg/OHqz7me49d6Ba2BiPs0bEkVOYtModc/P0eNwwJR4PnD8EMwaFYfHuAhFNfrj9nAG4eWo8rhgXixoRPMki8iigeN/y8H6hvrhmYhxumzEQP7hkGAZE+mHJ7lwRZQ7B6IR5KZjmbcvSJ7cfXzIUt0zrL8f1x3WT+qG4sk6tVRSHnN8VFeiF66U+N03vL/UehGsnx6swaqvyUbBzphikdeuTbdnHpPnbs3VBxE7JQyvUqUJnuxyG5opRfy/HE+Fh+c/TwwV+Xm46FE2xyviol46OQXSAF1btLxTRlq0xTEtrmjElIQzetELKsUG+7rjnnHg8cuEg3HtOf0yX687Vtm+uTRPBV6vlG4bxFZC+JSklFeXlFbjqiktw483X45ZbbsBDD9yN6VMm4ZCIo6AAP9wm2x/47r245dab8OD9d+KqKy/V+Jy79x1Q8cVuhsObtBjdeuO1uPWm6/C9h++Hm5u7WvGuuvxi3Hrr9bj7zls0IDrFWHFxiRwlR8qDGK11Y8aMxF133IT77r4N9951K5qamrB2w2aUV1U58jkRgbN3f5IKsuukHo88dL/6i3vg/rs1qPuylWuQnpmN4rIyEZA5GDt2NG674xbcLG34rrTr3HOmO8JpdYD9e11jgwjMlWq5Y2zVztKCxcuQnJJ+XOH3ZTDyTaC/Hwb2j8OuxD3YtnMX6mrrkZmRgy1bd6hVsaamVsUyh3+Xr16rAe3PmTUdUVERbaUY3YWJtjMEznmaOCBUBEkuHlu4V1cpFlXWq681DhMy1TW26lyrvy3Yh999lKiT3im6CirqdY4Yuw1a5QaEeWNwlD+8PVzh4+mKgSK8KEwmDwxHkI+HbHNTa5K3u5sOo6pokxuV4mNYn0ANnu7l7oLIIC8VkRX1LSiqcswRadc1oaahGeuSipBaVINnlqXgtx/txh/m7cG7m7KQVd6AnPJ6tXb1CfFBYnYlnlxyAB9szNC4pe6ynXXqDM61u3BUDH522VD87HJJfO2QfnLJEFw8KlqHQL8OjnkvveSJ3fGZyCftILmHcJ5hYnY5gv088PAFCfh/cv4fXzoEwb6eeGNdBoqrG/T74XDwjVP747zhUZghAvtmEd4XSR0zSmrVgqrX2TCMk+fQIQxLGKgWIU6Cf/bZF7F+/UYcEiHm5+enWTiPrEJE3bvvvI///d2f8Jv/+zvmzl+EtIxMFJWU6aR5DrfRSjR0yCDE9omBr7c3woKDER/XRwPGT544XvpaTwT4+GDIoIFqZSopLWPhOhoQFhKCSeNGIyI0BH4+3hiSMAD9+sSqlalSRMxRc9Ckrjv37EVGdg6WrVqH3/7x7/j5r/8Pv//T37FUBBtXZBYUFiIsMABhYSFY8Oln+Ne/nsHSz5ahWtrh7cmYz8f+NPMcrN/37rsLv/p/P5b0o2PSr2X7j793PyZPGKfOhk8Fnsdfru3VV1yslrZf//ExPPJf/4Pf//WfahUMk2vAFajs9PYmJWPV2o0YO3okxowYruKWaM8u1+6oHwyjSzDRdobAIbqfXjFcf+gLKmrxyspk/Ndb2/DaqmQ0yBNTUVUj3libhheXJ6sVK9DLFeEiIjgvjWKg/XoEWo2cc6goE1QgyQ3m5+3muJEEhz8y6JOS81jOxaNwc3Pt7dgmyd/DTe87x2IGzdYGTeic3NuMYCk3KsBD6uOOCElDo/w0VNb0hFANzH7NpDjcOj0OLvIIN3drBh59dwee+my/is3jEeDtqqG2IgM6TwzoznlzX8cHGifk+omApXBzDrOyNC7+oJWN3wnFNIPlL9iRi0Bp58yhkRjRJ0ijSlw/OQ4bU0p1NSnLooXQXa4drz3f83sYHB0gZfZCfnnnK24Nwzg+DKE0fuxo/OFXj2LU8CHYvjMRv/nTY3joRz/HytXreBMjJTUDv/q/v+HjTxait9xiEaGhGgidc8JaWjip31GWu4gYXx8vuT/bYopKB8chP84/8xAh5szIbdzPBQHaIQicZ+br7aM/mNzHsn3kGA4j0uKmnaWzK5J7v7KqWt4cRkxUpA4bMsVERGDapIm4/85bMaBfP/SNjcHD99yJa664BJnZ2Xjq+Vfw8E//Gx/MXXjUwoD29JZOm6IpQsqK7CxFRiA8PFzr5hx5ORXYh00aNxZ/+/2vcM/tN2HkiKG47KILcM2Vl+m1pWBuEmG75LPlKuBGDhuClqZmtYhyrl5tXZ2+P1Vrn3F8TLSdIVB7xIX5486ZA/Dra0bjTzePF3EQgE925GF/TgXSiqp0kQCtOL+8aiR+cPFQ3DY9HtHBnE/VVkgbnd6ruu3EN3GzFMSVpbTaObVQUXWDlh8gAqS99YlQDIaJWIsL98dDFwzCwxcOxsOzHen+cwdisog2Cp+YIG9dAPDolaPw55sn4JKR0Vh3sBjb0kp0rl5HXKXDeHLxflz5j5W44h+rcMU/j06Xy7Zr/rUaT0geWiNP1CpHs7/I4XzHdrD+sSHeOsTK4UvuYxs5ZMpFGwEijDlMyiHespomHYp2E7HL4igWKeI4F7GmoUVuJEfJWoa+o5GAq31F7Mp7Lm5wbjcM4+Tx9vLE9KmT8JPvP4i//vF/8Zff/1pFzRtzPkRhYRG27NipQ6E//f5D+O9Hf4Qff/8BXH7pbPj5+h6ZS+rot9rfnV+g4qbdZsdbHtHW28mG+sYGlFWU6wMeFwJw3hl9s7mJmPP2okBq91MqecLDQjTf1Zdfgh898gB+9L375fV+/FjSA3ffiv7xfVUcDh06CPfffRv++Jv/wZ9++z/oEx2F+YuW4mBauvPsR2A9i8rKcdsD38e5l10r6bpj0qxLr8E1t92L9+bO1zqeWLh1aHSHvKzfqBHDNNA+FyNcefnFcPPwQE1tDfrF9ZW+rxl5+QVYuXYDHv7JL3DBd27E3Q//ROcgvvDa27j5noeQnJndJpCNrsJE2xkChVJSXoWu1uT8tcgAb/QJ8VVXGXTPQSMN//YpaLgqka45tqQWI7O4uv2td8rwfqWLETqW3ZtdrkIktbAay/cXI8rfHeH+nmo9+oLDOjR50ehY7MkpFxFWxJEM2dpL5+eVVDWiWgQgrYS55bUiehrUuhfu76XDpWxPbWOL3tAd68+O9uqJffH760ZKGoHfX3t0+oNs+801w3H1+FgRTvJU3HZcR7jMn9eOw7i0ctEyyDbW092JvKegHBodgN5yvqWJeepPraymEZtTS3XF6KBIf/h4uKo4Y6e8LaNCFy5wLiBFHRdY0O1Hv3AK50PIK6tFoYhIPYccz9WlnyXmahsZ/5UrtQzD+GpwvlR6Vo48VHL+mj/i+sYiKjIC5eWVaGpscnSMktzd3eDi6or8omKde1VUUtqhzzo1KHw4pLlk2WpdPMDVkZu27VQ/ZrSkBQYFOjI6O6KWFkydMB6DEwbipTffRVFxqfY/7Ncqa2qRI2XRGlVVU6Nz2+jyw8fHC32lXeHhYaila5IGh4/I9rAfCfLzwy9/8gP884+/wT/+79fHJG7/3S9+hnOmToGbq5se0xl0Y1JdW6vn4vAxh4O5CrdOXnkMj6LbjgK5hlzE0dDchJ2Je7Bi5WqMHjkCk8aMQqi0+947bsYTf/09/vzbX+KPv34UP374fgwe0B8Xn38Ofv6jRxAdFvYlwtH4qpjLjy6gK1x+FFc34t7/rMOODHlyTCvH53tyseZAIcb0C8Y1E/rCz9Nd54J9tjsPuzJLsT6pELuyylAsQiM22AtTB0XoUCSH8Q4dasX5wxwuOViXvdllWHWgBDdM7qsuKPi0WFjZIOcpRVSgJ0b1DVKnuVvTS1Xg8Dyr9hfgnXXp0lEewoMXDNZhPjbrs0TpcJpbcMEIx3wyrnDlQoOPt2TK8cXqSoTz8Vbsy1dB5enmiheXJ6n7EZ5vpWxftidP3WZcPjYWYSIGOz7hEc4X6xvqqwsjOkvcF+LnqQK2M9hurmJ9emkSFoq42pZRrtcqtahKRGaltpsB9Tl3z0NE8ud7CrAuqQBrDxSJcC3GtIFhuHxcrLbRS8Qdhz3pqmSdXJddWeWO9oqIu21qH1w2tq90fIfx+poUvLzioIjpEqyUcj7alKFDwPz+Zg2LgKfrV3fVwStjLj+MnsrXdflBa9Vbcz7EX//5lAqxjZu3Yd6CRdh34CBuu+EazJw2WedRccUnXVfs2XNAXWvsTTqooaU412rcmJGorKzCitVr0Tc2WraNgqeHu06DWPzZctTU1eGWm65FL+nrDou4SklLx4o1G3DpRRcgLCxUytyPXZIobjZv3a4rSRcs+kzdWtxx8/XoGxMtvwFVWLB4qW4bx5WpEeGIkGO5jWnnrkSsXLMeH85diE3SjtFjRyElIwt//Ms/8fnyldouuiChO5LzZ83QBQs+nSxG4Ny+2JgoxPXrg/jjJLYxIMCv03lxhKtDufr0ldfexiK5ZvsOJCO/oFBX1xYXF2PEiKFqQdy8ZRv+/NiTWLdhM5aKYGX9AgMC8dB9d2hgfi6QixCRmSAijZ8HD06An6831m/aItdgFG68/ir4+/m0nfWrQeFoLj86x0RbF9AVoo3DZ31DvOVpDKhpbBXB44ErRTTQiWuALh5wRf8IPwSLMKtrPoToIB9cO6kfhsUGIl4E0KCoAHiKAKmqb0F8mC+GynbOTWNNaMWjeOJKRx8P+cGXxyhauih4uEiB/tLyy+uxP68K5wyJxKT+oaioa9V995zTH+PjQ3VokA9tHA6k645htBzJ8Rw2nTQgVMSXB6obDulQKs9/4chojB8QJnV3+Gtz7e2CWqk354idOywSN06JR5zk664bkU/YjFBwIK8aLYd7YYiIzgS69ZCOJlDqNEw+UxhyoUR8uK+ISB/UNtL65oorxsbgOyK0QikoBTdpe0KUP4bH+Ku1rKbpkA753i3X5ppJ8doGtoJz7GgJrZP9h3v1xsg+gbh9RrwIXIeA5tPrV4XlmmgzeipfW7RJCg8NRVBQAOoaGlBTW6dDi9+7725cctF56ooiWPaNHjmMCk/noY0fM0pXgw4SMTFEhAQXDLAczr0aNngQ4vr20TlpotDQ2NSEPjExmCAiiu562DnSaa+npwcmjRsDLxFOFG1clHDXrTcgNDRIrWCzZkzFXbfcgMED+6s4Ytm0pI0cPuTI+eizbdrkCXq/MlIC586Nk7pxRenAuH4IEEETJm3jvOL6+gad93bTtd/Bdy67CCHBbda77kD6q4MpacjJz4e3tzdGDR8m4itc2xEbHYXRI4Zrf+/q6qbXoqyiUh5s3XHRebPUskYLYmeOc9nm1laHY/fhQwchvm9fFZmngom24yN/p/qXapwivHwZmZl4/E+/Q3T5Ftw1a5AKgVO5qBRBLhQA8rfJcun7i2Z15zfE7RQFnPSu+2Wfw/x/WOejMZ+7Kz/TE3fbXA7ZxmFJLkRo4pNkh7JodeO8MlqXXl2TqoKKc+UYQYBGcrrFaD+Bnm0jzvIJz8i6s158zzJZd87p4vkoYpmcNx23s0zm6y6c53WT6+Go1RfwvM52sUrcq3VsaxvrR793HavnbAevOfexk26RvE5kl5bB/SxTrwPbKelUW8pyOLT89MoshE67Fb949Gf6FGwYZzrsoxITE/HAfffilacfwxARMadyH+hDkYgs9cDPG1bE1mERE4dE7DjpJfddLxEZupt9E0WF5Ke4OMx8soMBz498bqN3273UKuLN2T+p81rmbWnRIcR33/sYS5atwi9++n1MnDRe9sv9z3ta9jvFi7OOPG/7enHhAFycAdTlGB4n+5n0GIoa1l3ea3/Ttq87f5ZZNtvNczvb7ITnPtQWtUHrJw+xrLtWp+3aHS/SActlXpat5Ug6uvSThyJ47oIlWLttN26/826MHz9eRaUhf1Ntr8YZAJ9QNIxUc6u8iiBoE2JO+J5iiZYzznWjIOBnCjbC+4/vjxJUso35WF5nZXGfE95g3N4iebUOzUfvJ47zHX3TMge3sV48TuvWru4sg9u4n4l5u1OwEbab52AbWKf2iXXhPmd/xZpQfLWvX2fVc7aDZfB7ai/YCD9SAB91HWRj97bUMM5uKAYoJFrpdLahQV6bjhJGhELtkO5v1Lzcz1eKB0cGRxlHPreheSW1Fy8UJYdExH0hnES8yG5+Pix59Rzc3068OOvYsV6HWC/Jq/V2HteWR48R4XdI2qP7pP78/MV5uwcViHretuvZLrENTrR+TW3tZd1k3/EEG9FrqMc42vjFFTW6EhNthqo1X09X9c/GOW8dn74MwzC+jdC6ExoajP794+Dt5dXtgsowvgwTbT0Myqmu1lQczuMcuB9ePATnDY3QYc6uhPVVU3vbZ+MLnN+nDqnaBTKMU8fR0bR96AJEoHm5u+Pi2efiFz/7IRIGxrft6CIcN37X17snoG0X+fFta3cXYKKtB8EhPbrJYOrq4UXOVWP0BbrB6Eo4RFhR26zB1BnftP2QIm9XihWnY9rjcSRfWzpeThZxJE8nmY7s5/m+5Jwnw1HlyWvH4viRfbLm6WQ/4TAqfcDx+jBOqz3IG8ZXh05uGc+Tbiq6Ej5senl4INDXx7F4oYugxY6rW4tKy9T3Wk1trfTp7YYe2VlQ1HyZsGmfj53N8Tgq35eUeSJOthzt+NrlawfnApeUl2tQei5yYHgx4+Q5+moaZyy8Nyh6VuzNx0pJ9Od2irfdaYPzuZILqvD2+nS8sioFqw4UioBz+B/i5PyaxmYUVtap77Osktpj5so54fyxvPI69XvG13oROh1hR0AfaxklNciUVFnbfk6Kg6q6JuSW1SKtsAbpRTUokHNz/tmpwLIr5Bz0k5dWWK3ltg9eT1HNuKX028b2MdHlCEWsE35/KXJ9Pt6SheeWH8THW+mL6vhzRgzDOBbe5QVFxfho7nxs2ba9bdL/mQ0d327esh1PPvMi3nrnfezYmai+0ghXwNIXXFZuHg6mZYi4KVFR2hmV1dVIzczCwfS2fC0dg9c7+ir6hMvIzlWnvfR5V1FVrX3mV4Hl1NbWHalXelY2yiurjimH9S8oKkGy1Ck5PVP97LWvV720/aOPF+L5l1/HK2+8i+TUNMeCDOOkMJcfXUBXuPz4Mmip4Y8+/Z1li8AZPyBUvfWfqYYZXgHezPTb9uHmLBErLYgL9UHfMF+16JVU12PZnnx8npiHpXsKsDWjHBPigjVeantofVq9vwCLduZie0YpDuRVqGgL9fNU9yGEQmd/biUW787B+qRi7MwoQ1Zprfqto3sPnXgrF2rRziys2V+Ibeml2J1VhgO5FahtkrJ8pSz3k+802HntyynHp1InrrrdmVku5ZWitKYJYQGe8JayKOjWHyzG8r152J5ehl2S52B+pcYxZb083V21D6OrFfqOo/+97LJ6XDkuRiM1OOF1NJcfRk/l67r8OBl4Pyany4PPi6/Bzd0dM6ZOPuGE+TOB2tpazF/8OeZ8PF8d9DKQfbS8urq5ISk5VX27LVm2Eos/W6buQBL6x6sbkiNI55GTm4+PPvkUK1atxU4RfckpabqyPDws9EgfQd9ydOD7+fJVGvZr2/Zd2LfvAC+a+lhj1IOTgas5CwqLsHTFaiyTtH3HLuzcnagB7xmxIjAwQB0bV9fUahD9zz5fiY2btmGX5Nm9Z59+RwwmTxcgjc0t2CbH79mfhOVS9+FDB2PYsCHHLOwwlx+dY5a20wD/1jr7e+Mm6rv2u5jPMaTmSO3hPodrii+GCDsrmx87lks6lt1xf9fDk/RChAiZS0fH4MKRMQj28dDz0lJIYVVZ34TsUjrzLVTLVPu2UIxtTSvGG2vS1MoYFeilIm7uliwVRLRaMXtmcQ0+2JyJxKxyjV7g7+2qERo+2JSJ8hqnZ3F52qxvgZeHizojjpQ6ldc24p316VibVPCVnjrL5LiXVqZgc2oJQnzdHREeDh3GW1LW4h05aJb31dIuOimuE1EY7u+BUH93aW8N3tmQgQ0i9Gjhk34JQ2MCcfPUeIzpE6gOfA3jW0VnHRjpuJ3v2w+3dTiGP+h0suuMuax0LIN0to1w23HK7i5Y30ED4nHzdVdh2uSJRxY6FJeWITs3T61tOxP3YpeInoaGdsO+Uj/6q3tzzoeYt+gz+Hh7qwBLScvAy2/Owf6kgw63JJI1MycX7338CdaIkKLoY7zTwAB/6e9aVYid7EM/z/fZ8tV498N5aJa+iw5+6buNIu69uQuRX1gsAvEQtu3cjdfeeR9Zct7IyHB1MpyekYW/Pfkc9uzdj16uLvAVkXfHLdfjmqsuc8RIbf+dGV+KXa1uhm489mRXYM2BIrWU8aYktJyltkUSKKpyBAfOL6/Fij15eHdDOt5el65WKA6vtR1yNNKvMFzU2qRibE0tRYOIAycUQ/N35OpwoROKhJ3ppfhQxM1bUjYtOzlldSo2uhUpnkKT4aBoRaO/OF6DMH8vXDOxH75/8TCcPywSHm7H/ilyuHH+thzpR3vhvvMScPuMAbhRBA7LYbSI0mqGV2nVSAuZJbWYNTQKt0meu84ZiPOkTMY33ZNdrmWxU79sbB/cMn0gbpraH7dO74/rJsejXsTjBsnndJvyZbA7z5ZzbcuswNSEMNwq57tpahzumpWgT6+bRJAdkrIoTi8aGY17ZPst0+R8ktheqa6IthKNb8q/AQo1Wh7d3Vy0bMP4tsB5XOs3b8PajVs0wLhTLLHPXLtxs/pGq5btHErcuz8JcxcswktvvKuiYP2mrXp8p0g52fkFWLJ8FfYfTHEMLco2OtLdsGUb1m3aohYhJ6Vl5SI+1uCVt+bg1bffw6p1G1FVXdO2t/vgozctY76+Piqo2EexFxw+mPFIb8fD992ljm8pjtrDocSkg8l4f94CzJo2GQ/edyfuuf1mXH3lpSguLsGK1evVOkcnwOvkOu3Zl4RZM6fj1ptvwPXXfge33Hwdpk+ZBD8570n1OZKJ8wW3bN8p9fTEXbfdKKLrBtx1+01IGNgfB1NSUVhSKte3UQUmw2FddvFs3Kl5btZz7k7ch70HDqooZjvZZm8VbFJ4N/8EnW2YaOtm+MOcnF8lIixNBQQn4ssm7Zg4LEhrEIO006/Z+oNFGgKKw3u04ry1Ng2vrU4VMScdWgd4w9My9cn2HHwuQo8xNlku//4P5lXixZUpKGAwddlI32GfbMvC88sPisgrxHYRb3NFLDLsUkphdeeiUKAli8KvSMRmp0nKZ7xODt99GTwHPZbxVEyM8MDICQxH5e/ldkznwfwcYtyTU4XR/QI1mgHFzYAIP4zsG4T8inoRnbUa5zNJ2suQWaP6BSHE10PDWzFKA6/x3tzKthKhIbN8RfBVixjk5P9cua50Auwn5XY8/4lg6CsOYTLIPIV4ZV2TikY+5Q+NCVCR6ittYgSLmGBvfc9wWH2CfbStXEhC572OK8K26sUxjG8VnPu0QUTFm+98gIysHO2rSFl5Od6a85GGo+JQGudHLVzyuQ4D7k7cg1Vr1uFfTz+Pj+cv1riYzuOc0HKTmpGFt9/7SC0/FG3MQSGzeOlyLJKyOKWFt1xeQRGefv5VvCFCcPv2XTrP7IVX3sQb735wXFHI+5UB64tFqBQWFR83lZaWq/Xpy3A+yBO2JSw0GAP7xyEmOlKHHju2j50jBVBlVTVmTZ+K8IhwBPhLvzh8qK5w5bAjJ/qXlJVh+85E/ghpfd9+fy6ee+l1rBRRx5ijx5R7PKR6HNakVYyLJzKzc0XoViAvr1DL7RMTheAAf+3/aPVrFJGdm5ev5y8uKZHvNlvyRGuILXVmqWXKa7t2GyePibZuhmGP+oX6qLBJEvHGH2zeK5wEvyWtRH7Y/dvibwIDwv1wzaQ43DNrIO47byDOGRqhc6YY87Iz+DdPsVYvZbb/+2dYlCoKQblBaNnamVmKd9dnaKirO2cOwH3nDsTskdE6GX9Z4heCrz38TFE0Z2MG/r0kSdKBY9ITkv4jQjAxq0yFyleFVeaE/fad1hcc1mHIRmlD3xDHEyHzMhxXmJ+XWuEoKHldaXHzcusNf4ovycjiKJIYVqpYxBnFW1uRItTq8fin+/H4ov14dVUKwgM8cdHoGA35dTKwpn1DfHHl2BisTy7CP6Ssfy46gKfkWvQXEXrJmFiNDuHoEB1z6Ziamlt13h2HZCk8KRRZlmF8W+EPfIz84PPHfX9SMprp2FX6kcR9B/SHnnOdOJTm4+WFSZMm4Jabb8SD99+NB++7G/1EALzzwcc6JKhDmh1oFrFHaxqta9q9yP3IfoZihYlDg41yvo/mf4r1m7fiyssvlrLvwnfvvQOTJ43H3AWLsUEEXGde+Ck2d+zeg2dfegN/fvxp/PVfzxyT/vzPp/DyW3NQLsLqpMVRe6SunOPFOjse7RywrBY5P8VmcGAgQjhPsG1qB0VVaEgIiktL1VJYWlGpQ5MHklKwSdpYXlqCfBFTb779HuZ8OE9Xrp5sH8Qh1fPPnani7Z9PPYc/PfYEHn/6P3Keapx/zgzEREWoRZBhuxi+6v2PF+Av/3gSf/zbE/h43kLcfP1VGo+0o3Nj46tjoq2b4U3HH2mKs/25FSisqJebkdawKhTJ+/FxwbqggKJnWGwQIgO81fJGNxk+nu4qVHZn86mw89tLZ7d10iewn+BmaqnlewtQWNWACM4Ja2hFiQgZhluSonUSPc/3xSw5B9zn7e6qgnNIlB8GR3aSovyRIG1jnFTm70pYXH1Tq9bfS+rhLJ6fXV2l45KOigGfaaGkIGL4Lw6jstXMS7HK42hlbD9fjYsEBkt7Bob76ty2EB83FXwd238iOKcwJshLy6C1kNeA89byRBDSutnxu6J43ivf/WcikEP9PDBjcJhjEUkXXzPD6Em4u7lhxJBBCA0O1snqHKak2GLwdF8fHwwbNhgekic0JAgjRcB5erjp8B/nVzEeaXZuPlLSOxdtvJ2P3NHtbm2HfuI/vVAt5cxduFiH6fz9/NQ6xhijgQEBOhy4ev0m3uw84Ch69+qNoMAADBoYj+FS/2GdJArOAXH9pI3Sd3Xxjc7FBfX19fDy9ISblO+kd28XdUvS1Ngk/V4LGuW1uqZaxfDE8WPwvQfuxo9/8CAGDRqI+YuWIlkEL8s6GRwxXgM1UD1jug4eOECEWpQOa+cVFB5Z+coh17h+sRjYv5/GXh04IE6HfjmESoF3SgLWOAoTbd0M71cGTR/dN1AFm7qjqGvCtoxSDUg+NDZAOgERIa2HsGhnDv756T68vjYVH23Nwop9hSgX8VbTbr7aV0LuD4qb3IoGDULPOV7ztmVj7rYcLZsT5sMCvFTsdNatMAj8BcMjcd3Evrh+Ur9j0g2SvjOujw4DdrXfON7aDKLPcinKnPA0FEGsszPeKV8dFjtHHh7Lz43SIWk8VxVzDiHI4dObpvTD7TP7495zB2mA+/k7ctTaeDKw0zmQU4EPt+bg0rF91Gp567Q4/ODioSrW3t+YqWJS80rinEGK9fdkO+cVXjOhDwZHO75zw/g2w2FMrpiMj+urQ25ZIsKy5JXz10aPGIaYyAidv5WTl48XX30L/376Bbz57of48OP52Lx1h1rMODwnBbWV2I7jdUft+oiG2lrk5RWIECzFJwuX4IOPF+DDuQuxet0GPXeAn6+jw+mAq6sLEkS4XHXZxbjthmtx6w3XHJO4/bKLzoefCMKuhALQRcQZrVq0FLYXXYcP8wFV+jwRcrSIcQWph4eH1DUekyeOQ1yfWAyWes+cOlkFXW5uHlpEJJ8MXByxQISei4srvv/Qfbj3zlvwgwfvFfE2ECvXrFfXHrX1DToPMTe/ELfccDXuv+s2PHjfXbj/7tuwau0GLF2+2lx7dAEm2k4To/sGwd/HQxclcAHCzswyDI32R0yQj+4vEEH3/IoUeHu44CoRQteLULpiTBTC/d2P2/8QhqZXE3pb50L5RTcWKqLkf4oDfslBXq46pHfDpL6S+qhw+d7sQbh9ejyCRVR2fBpkp5ZXVosPNmXhmc+T8fTnBztNL61Kwd7schVPXUsvnczfW6pF32zO4umzjXPdaAXkPDa6/QgUIdYo6svpdJh6iMOnFTWNCPI+ekUZ6+ktT+wB3h7oF+qrVsJ9uVW6MOBkYD0ouNOKajC8TyCC5dw6fy3SH/3DfHCgoEaech3XkvPlDuRVqp86rmK9Vr5TzrVjMH7D+NYj9wctM6OGD1HxceBgMtZv2qJztUaKaOM8LQ4RctXi0uWrMGbkcNx87ZW47aZrceF5M+Hu7uZYSNVJ18P7nA9YHAbleQinjTiGSx3H9GoL5D5scALuuPk63H7jtZruvuVG/Pwnj+CaKy49JpYooRWLE+5feO1tPPbkc/hHJ+mxfz+L1975ABXVNV1uXXKRdkeEhaKktFSvlXZK0qYGEbCVVVU6bOorYpGCMSw0BN7eXvAU8ebs4zmMSuFJC1zHfr9TpP4lZRVYv3GLHktrW6B8N3Hx/TTRPxyHWivk3Ju2bEer9NFxcf3UGhkSFIhRo0bId+WOfUnJ/GLaCjVOFbuCpwHeFzHBPirSuAhgxb4C1Dcdwri4kCP+wUrlRz2nvB4zBoXhgpHRmCg/7vT5VVnfeeBd3mq0IHm79wbndtG1BPsGDgduSS2VpzDHkCBF2/DYADS1HtJVlxOk3In9JcnreHmND/fRaAjH4OgH1Kp1qG15eMfEYUcm5jv1bkmO7Oxg2UYL5cAIHySKqOK8NbaXr3uyykSMeSA2xDGxf6AIphLZTue7tFgy7cutBB2CcAiXHXizdCQMwE/4L61itK5ll9RBLtlR7jZOpi0UZFnFNUcyc14hLZo+8n2wnhSPB/Or8Oa6NF2sccPkfpg2KFyHbA3DcMDVkwkDByAw0F9EwWYsW7UWfWOjdXiNQ390ypqWkaXz3y6cfS5mnjMd48aNVncZNTXHE0SHJb+XvuOQK31EHpZ8efmFOJiSrlYm4iOCkcObtCLFi8iYPGUCJk8ah0mSxowdpfO0tHPriGyiVeuLvpB9ZGeJgs/R23xVHEdJ29rax/prkh1s8+BBA3R4efuuPWhiUHf2R3n52LPvoFrWwkNCEC6CbUB8nM5/o0PcQ1IU+0b6geNwZojsp1WOtEqZ3H88Dvc6rJY9Xk/6mDsseflaXlam9VAfclJGL/ktKauoQEV5hf52UBSWyfUtE9EXFODfVprxdTDnul3AyTjX5TbeMMv3FWFTahn6BHvjpqnxOmGesBP4ZGu2Tpyn9wuuIH1vY5YuBogJ8cWlo6PVV9nmlGK5lXthckK4ChaKvY0i0kqq6sFoA/O3Z2N7RgmqGw/hO+NiER7ghQh/T+zJKceK/cWoqW9UEUHnsksTc3TIlis4nY5q20OBwSDyI/sEYUy/4GPSaEncFxUkT24dhB+vAIVLckE1UkVMDYkOEIHoqyJS/kdNQ7O2cVt6ia6aTSqo0flltGC5uvTSejMv56Yt3pUr16Ee1VJ3vk/Kr8HFcj3Gx1P0usLNtRcSsyvUT1udCLFdmWWYszETgyL8cN3kOJ30n11ai7/OS0RRZa2uPN0l56ZrlX351bhiXIxawFgvWkDpEoX+4GLlO+ooaNlpesu1ol+5rell8iR+CHlldXhHjtmcXo5bp/XTvwFue2V1KtYeLMGYvoEi2r10tS3dsdAKyNWzTie6/LugC5PKhhZcMdac6xpnD1/qXFduOs7DyssvUIvavgMHcelFF2DWtCk6Z4vDcWnpmVi6YpVmr6+tw9JlKzDno090Ttp5M6dh1OgRyJfjOUzXr28fTJ88kZ0PUtMysGX7LhV3ySLW6LB2x65EyRODmdMma32CAgJ0ftfOxD1orK9HTk4eNmzeJnk/03P3j+/nuOnbwcUJdCY7OGEAxo0eifFjRh2bRPSNHD5ErYWcA9cRujHZmbhPh37PnzVdFxRQ4PBMdGK7acs2bJRER7WVldVah8zMbMTERMNDhFZQUCCypa7zFi5Gq4hSLtx4T64JV8jecct1OuTs5uqmHQh9ve3Zs1+uQy3WSXkfzPsUo0YMxXcuvRAhIcHyHRXjH0/+B/sPJqvV0cNdjuuInD9XrvGK1et0OLlChNmipcvlOn2uQ9mXXXi+CsVK+S38bPkqqU+W+pbbJed++j+vqGuPHz50H6KjwvW74W9DenYO1qzbiCkTx2OoiGdzrntymGjrAk42IgIFGlcQVopguWwMrWlhR0SBl9wocWHe2CPCgz/0FXWNmDwwVP2bBfp4YNaQCNT+//bOBMiq+vrzR2WxaRqaRXYQAZFVVnFhExG34Iq7UUeiSWl0JjGp1L+SqZqZqqmpSkUrE6vydyaZyaTcwCXGDUWMuDT7IossstPsWwOyN4vM/Rze1RZa6KZfd9/ffd9P1aObd9+7/d59553f93d+55xf6TFv50HEjChdowZ1PRpHuH5WJAS/XL8rEoN5kZhqFj3/qI3s0crbXyAQLu3QNJopHbXpK7ZF5y+xNZGQotqyT3Se9pFoq1NO2JrkU/5WfvS48m604OBneU1huQJlRRu5eyTtUzDAl4+I2T8jkfr2F5tsXSTIcIQrt+63OZGYQiz17RA5segkrQrzrEVBfY9QTl2xPXJqx+2WAe3t2l5t/G/zd5pE16dtJBy37D5gny/b7ltnDbyoqT04tLO1aZrvf+/o0W9s8Ybd3kqlKLq+ROIanX+eC+cbLm1jDfPqGCsh8yIhVrRsq7+Gbm0bnyJGgV0WekTvh0rQmZGInrqixIXX/YM72o/6t7e8SNSxLdenkbDbuuewbY3e69y1u/1xs1aX2KHocyA6SHUrb4AZqYu2gxJtIl1UZEcEls6OHDvqTWFZUrtt9A3e8gI7Z5ym9QW/F02fEYmO2V44cO3wId4PbEDf3j7g79y50xYv/spF1oBISNEqg6XBrVu3ekHBpi1bInHR3ZcO2TGA5xU2ahSJgdbWo9vFtrZ4nX306RSbOnOWL/d1bN/eBg3o58t7J4M/IbpENK+gYUNf4j311sAaNGgQjQWn+g8oK9pGjhjynWhDrCxbaS+Me8N7x7FN1d69+7zFx4JIeI0cebU1KWjoOW09unf1JU52FZgzb4G1a93axj54nw0kEhn9XVYYKNigES4Cb3LRVI9aDrtqkD10353W6cIOvgMDr+F//+0lax5dmyFXDvIo5skgoDtHnwnvGeFbNGO2bdmyzUYOG+I5fB07tPOiiw7t23mj3zXR9fwkEtHzFiyKjrW3p5/8mQ2MhCwlX8AqyJr1GyPRNl2irZKcE12c708jRKXg8q0tLrY//o//Zm12zbaHh3d1IVbeReVK01uNTv9EtshtKmuH3M8AHf3wCBNiiEICImuIJ0LgpZmiBJZViUTx91kKJdeLv8lzuJ8eazyH8wCPOxQ9hvv5bnA3x9ggvjxhUlX4qyTkT5i30V6dWewRuet6t7ZubRq52EOo0BiX1xM/HngP9EGLI39cM64Lj2XJAUFMI966XDt/xAk4H6L08DFfVPDrwHvjWgACkgbEXE+uL3f7+4/OQ1sWrgeRynFTV9u6kgP20LDO0Ws91WHHxK8fsRb96q/r/Og8daO/yV/kfqpfedzJ0F6E98dzNpbss6Wb9tjfPlsZvajz7P88drnl1/uuWpZz7dx3yP786TprftX99m+/+ZUvKQmRdPA5X375pT32k7H2//78jHXr0qlcvwi00dh3iObjZgWR4MLGT3xzT5yH/Sr3lx72gZ1IUP06dW3/4VJrEIkX8rWORr5m/6GDHrXLjwQG0J/twKHS6Ht6xL9redFj+V5yXkRdLKh43P7ob+M/+Fsk8RPN4vHVNUFiov9/Xxhn/3xvov3k4ftt8KCBJ4RP9Df9Whw85Dl430Gu7jnWtKDAX5/fE71W3t8Bz9OLrgtC8vz60fHviy4m9Qei68fyJmNJXv16vgk+758dCt6f+C/7n//+V/vPv/pPNmTolXZOGfFUFpaCD0V/62B0Iy2GCCLBBq5/fC15TYej63gg+mz4u3zg376ujBgkr7AoEtIzZn9h706cZP/2y6dszO032zfR64vhb7313oc2Ze5C+/FD/8EGDBjgE3uhnLYaBaHgkbNMAn1GT3wLYq9RXj3fm5KWEIiO/Pp1XXwBUSp+5xaLEb7ICDiiNpyXBH3OzdJpLNiAx+VFjqhx5vw8nkhVdQg2wDnzN1sWnu/Ls/PWltinSzZ77zXAiXIteC3xHqHcfF/O6PXH8DYRYLwfjnNd6p0k2IDzUWDANeC9sbQbXyPgd65bfH15HOIRARU/CrnXuWUju6FPGy9SOPlvlCV+/fwtzsfrK7urAdeV1xq/r7I3nsfzeU0UKrBh/KEjx617a5ZSyq/kFSLNELlCkDRrVOC/l/3u4UcaRELsgsaNrEWTQmucnx8JhXrWLHo84oPHMokrbNjwW8EGiJtG+Q2sBQnxjRr5Ofg/CfplI2A8jnPyuJbR+XkNDfPyqjWiXScSne3atfVWIx9Mmuw7NSDAcHh+LaLXwGv57tYken2F/lpjuC75RBS5LtEx3sPJgg0QsifeX6FdEL1Hf2/x+49EbF50jvvvvN369+1t5/6AYANEE9eQa8m5mkd/lx56Za8lrwlR3ST6LHiMf14No9dVJnqHQB73xls2Zfps69Orl0fmykbZxOlRpK2KcPkqGmnLNbAsom3kmRFxQmw1OJ/oX3LnCogpKC9CVh2wgTzRV7a+qlsXoVfve2KT3xRpEyGCb6xopC3XYNWA3RwO7GdnAnPhxK1WokmREPS9So9UrP1HVSGKtvvrPV4xjDBmyZXWJGVRpO2H0VUQ1QbOiGhh04LzrUXjBh6VSrJgA8RaTQk2ICLYvCAvmpU2MHIXywo2IUQ6Id8sPz/63rdsZhe0aO57cdaaKInEU00JNuB9ksPXosUFXgjBfqai4ki0iWqHiBs5ZZplnwrXhGvj10cXSIjcIfq+H48miCwN5tqCF+/X33cOvveqItEmhBBCCBEAEm1ZIl7U0uqWEEIIcXZQzOAjqsbScpFoyxIe4I3+8U7Yx3XTLVu3zNJydBMiNGK7xYZpWfTdbgG66fZDN9oocZPPKw9Vj1YRLl9x8Tr7w3//L/bNqs9sdL/2RlPaNFxVJjzMeniPIbyf0F5vReA9fX2g1N5aWGK9bhprv/m1qkdFGPA9XLRokT344/vsN//xCevYvm2Qea0EfNyvRD9DGC5De70nw+tHuH06dbqt31Jij/3scevfv7+qRzNItGUBun7/r3//s02d/IFdkF/PvzBp4OCBA7ZjxzYrbNLUGjYsSPb7il7avr17befOEmvWrLk1yM+P7krH50BD0ANW3+58cKw9cP/9cl4iGIqLi+2Jxx+3gvw876of3GATuZDS0lIr2bHDqxybNGkS+cFkf/8OHTpou3btsry8PGvcuHHiX+/J4LWjabft2v21db2kuz3205/axRdfnJpxtapItGUBthLBOa1dW+wDbPBawS3iuH3yySdWVFRkt99+u/Xo2bNam01WFbpzL1+x3F568UW7avBVNmzY8FSVktPEsmvXi61ly5aZe4RIPgieBQsWuIgIcaihl9iChQvtg/fftyuvvDLyK8O8MW7GSSaS9Rs22Dtvv+2C7dZbb7OCgoLo3vCu/bnReNOubVu76KKLXICKE0i0ZRFCumlhy5Yt9vvf/97y8/Ptp9FMp3379ome6fDa9uzZY88++6xt377dnn76aevUqVNqZme8D800RaiE6htZRXnhhRds9erV9tRTT1m3bt0S/z1k0/ZXX33VZs2a5b574MCBwUbntapwKtowPovEA2vot6NHj9qHH35o8+fPt9GjR9ull156Yi/Ach6bpBtdtZlVTpw40cVm165d/b7yHhviTYhQKc+ek35jBQUf+NFHH9mQIUNs6NChvjdoeY9N0o0VBl5nHOHs2bOn+8PyHpv0mzgVyVhxCiz1Tp061WeVvXr1cgcQAnzJcVBXXHGFO1reR5qin0KImoEFqJKSEveDCB4EWyhLdPjBzp0726BBg+yrr77yrcRY5hXpQKJNfI+DBw+6o+In4qdFixZBzXhwrDfeeKPPkj/++GN/H0IIURkOHz5sS5Ys8RtRtg4dOmSOhEHDhg3df1M48dlnn7kAFelAok18C7PLVatW2bx583xpkahVKFG2GARmly5d7JprrvEiiuXLlyvaJoSoMPhB8mIpxCosLPTigxDb7Fx44YUu3NatW2dffPGFp72I8JFoE9+yb98+mzFjhld8EVpv3rx5UFG2GHI6Ro4caQ0aNLBJkybZgQMHMkeEEOL0EGVjSZEec9dff721bt06cyQs8IOXXXaZr5ZMmTLFNm7cmDkiQkaiTThEo1auXOnO6pJLLvEoW6hNXBGaLGeMGjXKpk+f7kscKpIWQpwJ/MTOnTttwoQJnhdGLluoFYz4wTZt2nirkq1bt9qcOXN8Qi7CRqJNOHv37nWBwywzzoUIGZZ1R4wYYU2bNrV3333X24EIIcTpIGEfP8gE9q677vJeZyFD9Xy/fv1cvNEChKVSETYSbcIdFdGohQsXWu/evT3KluRGuhWlVatWduutt/rSAO9N0TYhxOnYsWOHjRs3zgYPHuytjkJMDykLrx8/eNVVV3kEkWjb/v37M0dFiEi0CW/GOG3aNBc1VEpReZQGWNYg2kZH7ZdeeknRNiHED0KKyDvvvGO7d++2MWPGpKYLP2kuffv29ZQRChKItmkCGy4SbTkOjoqEWxox0jmbqtHQZ5dlodnuo48+6gUWLA+oklQIUR4bNmyw8ePH2y233JKq3VSAojIm5FTFKtoWNhJtOU7JjhIr+rzIKy2puEzTfp2A46WCivf23HPPee6eEEKczIsvvuj+76abbkqdHyTdhUk57ZBmzpxpa9asUcPdQJFoy2H40i78cqEtWrzIexG1a9cucyRdsDzwxBNP+P6BVIVpaUAIUZbFixfbe++9Z/fee6/3N0sjpL1ce+21Xkk6e/ZstUIKFIm2HGbz5s2+a0CzZs1s+PDhwbb4qAgdO3a0Rx55xJ5//nlPNhZCCKBi/uWXX/Z+bNddd53VqVMncyRdsOpAtG3AgAH26aef+iRW6SLhIdGWo+CoqKhkBwT6mYW2XVVlwRHffffdLkwpSlC0TQgB7ADD7gf333+/V1qmGfzgHXfc4VE2WpvQUF2EhURbDoJgIcrGnnTt27f33Q/SHGWLadmypT300EO+RMpGykKI3IZK0ddee80LD4iy5QLktbFMyiqLom3hIdGWg7CJOqXfbGuCoyLKlgvQcJdlYGbTb7zxhjaTFyKHQazgB0nMZzLXqFGjzJF0w4rKj370I2+8+8EHH7hwFeEg0ZZj4KiIsk2dOtUTbslvSEMj3YqAs2rbtq2NHj3ay95ZFtEyqRC5Cc1mX3nlFe9hRiFWroAfZOKKH6Q/59KlS7WZfEBItOUY5DJQOUSDRaJsbPOUS7AMTHdwtnVhlkljYSFEbkHlfFFRkef0EmVLW4uPM4EfZNUBP0hD4V27dmWOiKQj0ZZDEGWjgSRJtz169PD+ZWkuPigP3i+5beR0UOY/d+5c9SsSIsfYsmWLb1d19dVXW69evXLODwJpMWzzxxaGLBMr2hYGEm05RFwxxPLozTff7A11cxFy29gUnzYgRNvoEi6EyA0QJxQjkdN6++2351yULYa0GCbuFCa8P+F9KykpyRwRSUaiLUcgysaSKCKF/I0+ffpkjuQezKrZ1oVWJ2tWr/Hl4iNHjmSOCiHSzMqVK23ixImeHsLEjT2KcxX8IBP4latW+oRe0bbkI9GWI5SWltpHH33kP5ldprWBZEWhcqp/v/7WvUd3F7JEH4UQ6YbVBnK48vPzbcSIEb5LQC7DBJZoG+ky7777rm3bti1zRCQVibYcgArJ5cuXuzhhM+S0btNSWZo2a+q5bVSRkZSsaJsQ6QU/uGjRIq8aJ5etQ4cOOR1liykoKLAxY8bY2rVrfacE+cFkI4vNAQ4dOmSvv/66V4recP0NOR9li6GCihkmJf84q+Li4swRIUTaoFKc1Qa27SOnlWibOEH//v09bYZGw1p1SDYSbTkAFZL042E21bJVy8y9AhCyQ4cO9QpSOoQjcIUQ6YKc3vnz59uKFSu85Q+rDbnSn7IiUJx133332Z49e7xIQ9G25CLRlnL4ElLa3q1bNxsyZIiibCeB477kkkusX79+3nCXRpNCiHSxY8cOj6aTeE9D8VytnD8dVJGyPzO7xdC/TiQTibYUQw4HuVoIEaJsOCzxfUjELSwstMsvv9xnmzh2NdwVIj0QNaIPGTlbLIuy37Jy2U6Fa0LfNnLc2ClC0bZkIstNMVQCMWsiX2HgwIFaDvgBiD4yy6QNyrJlyzxZmeUUIUTYMHHFDzIZa926tfvCvLy8zFFxMjTc/fGPf2yfffaZp9WI5CHRllLot8POByTX33XXXTmzGfLZ0rhxYxs0aJA7dPoVUVEqhAgb/OCMGTNs06ZNnsvG3sO5uPtBRWFiT44vBVpE2/bt25c5IpKCRFtKoQKIKBt5bESQ5KhOD86qc+fOfq1ovkm0TY0mhQgXomwbN270FJFOnTp5lI3+jOL0UF1722232VdffWWff/555l6RFCTaUsjhw4dt0qRJHi164IEHcnablspCo02WkbleirYJETZUhE+ZMsW/x4MHD/Y9h8WZIV2EYg2Ks9566y013E0YEm0pg9klSwHjx4/32RIzTFExiEaS24bDIreN5GUEsBAiPIiYI9qonKcXoyrnKw7FWTfccIOv2JAPqBzf5CDRljKo+KFBIg6KilEayIqKQ5SN3BcqqOhtR6sAhLAQIhzot8iyKD+JsjVp0iRzRFQExg+ELtE2dtJhmVkkA4m2lEHzyPfee88efPBBrwQSleeiiy7y7uBcS6Jtym0TIixoczRr1izr1auXXXrppYqynQVMXG+88UbbtWuXV5OqBUgykGhLEYiLF1980bt9Dx8+XI7qLKFfEXsTtmnTxpdXtmzZkjkihEg6NBSfOnWq/87ki8pwUXkYP7p37+697RRtSw4SbSmC5Hl669DVmka6qhg9e6igGjVqlDfk5Joqt02I5EPuVdxrsXfv3r7biRrpnj20iiLaVlpaahMnTvSfonaRNacEuvi/+eabvhRALgLd/cXZg6NnlwQKOSZPnuz97pTbJkSyYSmPySsTVkXZqg5+kHSRkSNHekHC6tWr5QdrGYm2FMDskpyDdevW+ZeLXDZF2aoOs8ybbrrJtm/f7vkxBw4cyBwRQiQNcq7oLbZkyRJPoO/atWvmiKgK5LYhgOlx9/bbb3txh6g9JNpSwOZNmz0a1LNnT28OqyhbdqDhLonM3KhEY6lUpe9CJA+iP/RjI8rG7zQV16bw2YEAAHnSBAQWLlzoN0Xbag+JtsAh14qkW1pT4KiUy5ZdWF65/vrrPcrGgLB3797MESFEUiDKtnjxYvvyyy/tyiuvtIsvvjhzRGQDBDCNxxlf3n//fU/HEbWDRFvAMNtZv269FU0p8oRbEm+1TUt2QQDHzTlnzpzp0TY6rQshkgF+sKSkxPsq0mdxxIgR6k+ZZchtI9pGD0vy2vCF8oO1g0RbwBw8eNCmTpvqs544yiayD9tbXXvttZ7LQQsQWgoIIZIBqw3xsh0V3x06dMgcEdkkLy/P92+lFRLpIlu3bs0cETWJRFugkFtF1IelUXLZuGl2WX0QyRw0aJDP5tkeRw13hah9iLJRKEROL3uL0p9S6SHVA9G2du3a2WWXXebbW82ePVutkGoBibZAIcfq888/91yOoUOHel8xUX2w7MxefAwSVOoqt02I2gfRwK4lVI2OHj3amjZtmjkiqoM42ta6dWuvqGefaxUl1CwSbQFClG358uXurMi1oms1lY6ieqFnG0UJLJHSwFM5HULUHogFIj40fe3Ro4dHwuUHqxeimCyPEm0jwknjcbUAqVkk2gKEKA/RHrYZIZdNDSRrBgYEom1c7wkTJijaJkQtQnd+0hXYZu7m0Td7X0VR/VDsEee2sUS6fv16tUKqQSTaAoMvB2XtcQPJLl26aJuWGoS8mbvuustmzJhh8+bN09KAELUA3zvEwr/+9S9vRdGrdy9F2WqQVq1a+Y4xtJqaM2eOF8WJmkGjfWAQkqZyJz8/3zfypbJR1CxEN2kDMn78eFWSClELsCTHasP+/fs9+k3XflFzUPQ2YMAA69ixo0fb1qxZo2hbDSHRFhBULC5YsMD75PCFYU84RdlqHpZh2JSfvMKPP/44c68QoiYgykblPN89+oaR06uK0ZqHFlNU6zJxJdqGgBbVj0b8gCB3g2U5cqpIBNU2LbUDQpkCEBzWyy+/rH5FQtQgLMV9+OGHXjl/4403ekWjqHnwg5deeqkXgVBJqs3kawaJtkAg6ZYo24YNGzyXgO7UirLVHixL33bbbT7LZBNlLQ0IUf0gClatWmUffPCBV3Kz2iBqD1YdrrnmGl+upmfo7t27M0dEdaFRPwBwVETZmM00adLEE2+p4BG1B8sxNNwln+af//ynzzKFENULUbbXX3/dVxluvvlmNRSvZfCD7PNKug5bW5Eyogls9SLRFgDMYujJRh4HxQd0pVYOR+3Dsswtt9zin8U777yj7uBCVCNMXpcuWWrvvvuuPfzww17JLWofiuKItlG9++mnn9rOnTszR0R1INGWcHBUGzdutOnTp1uLFi3syiuv1OwyQbA8w4yfHJsVK1Zk7hVCZBsmr88//7wXHrAXsCauyYDPgSpScnxJ4WF3Cm3zV31ItCUcHNX8+fM9yjZy5EgXbiI50OD41ltv9agbuW1sLyaEyD7kTE2bPs2efPJJtTpKGKTrsJ0irVdoxaLctupDoi3BEGWj8ICQc+fOnb0/mIoPkgfLNPfcc49H28jp4HMTQmQP2kkQZaNalMptkSyItnXo0MFGjBhhCxcu9AbwVPeK7CMFkGDiXDaE2+23367ZZUIhl4NKNrZ1oQWI+hUJkV3eeust94OPPPKIWh0lFFYdhg0b5i2pPvnkE9u1a5cmsNWARFtCiaNsJN1SmdOnT5/MEZFEcFRjx4713ENtbyVE9ti0aZO9+uqrNmbMGF9xEMmFiSvRUJrtktaj3LbsI9GWUIjWMFvhJ3td1qtXL3NEJBGibYhrbi+88II2kxciCzDo01KHNhI33XSTWh0FAEUiFGhNnDjR9ybVBDa7SLQlEBwUhQfkSFF8QGWOKqWSD0m4CGyqfdnIms9RDkuIs4PvDhXZTF6J3hBlkx9MPrEfJNLGqoOibdlFoi2BEKV5//33PbqGs6pfv37miEgytGJhI3n2Q6RvGw2RNcgIcXbQSJdoDf6Pyav8YDjgA9lqcfz48R5tE9lDoi1hEJ1ZtmyZ50Yh2KjI0cAfDoWFhd5okgEH4a0KKiEqD37wq6Vf2ZQpU/z7pG37woKAw4MPPmjFxcU2efJkO3bsWOaIqCr6FiSMOMpGYvvVV1+tRrqBQQVV165dfX9YBhw13BWi8rCnL36QvS1pI6FctvBgeyvyEMnxZdVBZAeJtgTB7JI8gNmzZ3uUje2qRHgguNm5guIE8nHUcFeIikNUhj5fc+bOsVGjRlmrVq202hAgRNvuHHOn5yZS/avctuwg0VaLYMz0YouNmS7StPigWSuzSy0HhAnRUTaT79evnyfisq0LgpzBiP1JtVQgxHfgB0kjwA/yO/29JkyY4JPWwYMH+24jIjwQ2u3at7O7777bd4sh7QfwhaSP8FNUHqmCWqS0tNS3ZiF0zEBObxua6d55553aripwiLaxRIqAKyoqsq+//tq2bt3qe/Nt37498yghBG2Nli5damvWrPFJLH5w1apVdt111/kEVlG2cKF4hMbjF1xwgRclsOqAYGOrK20sf3ZItNUiRNZefPFFz3vCgAkh9+zZ07tKi7BhaZScDqJtLPUsXrzYP2ciCAxIQogTEFn7+OOPXaytW7fOJk2a5HmhfHdUMRo+rVu39hYgFNeR/sME9u9//7utXLnSI6uicki01SLMMOnHxuySmQfLaFTcEJ0hCifCBEfEUg8DzqBBg3x5h6KELZu3eHd3kqyFECfA17HaQASaqHRJSYlPXKnEJp1AA3u4sATK+Ea6D50QaJSM/6OXJYEKfbaVR6KtFmFgJ/SP8b7yyivei4hqKapt5s6dK4MOFJa6mUW+8cYb3qOILciWL1tuS5Ys8WPKaRPiO+LcpvXr19u0adM8H5T9Rd98802bOXOmJrABQ0rIX//6V19duOWWW3zVgWgb+doqTDg7JNpqEZJvqbCh+ADh1r59e/vTn/7kYWTlcYQLnx2Cm+XQ1157zbZt22bfHP/Gl39YGpCzEuI74sR0Jqr79u3zSQ0THvJ944mtCBPEGVFUxjX20m7evLlv/s/nrR6WZ4dEWy2CQ2JwJ5+Dn2xbxQzz0Ucf9eiMnFWYkM/G3nsUlHTp0sVnliRZr1i5wnN2FEEV4vswaSUaw7IZ0TVSC+69917vqq99l8MFkcZ4xudIChArDwQlWCKVaDs7JNpqEXLacFb8pHkk1VJPPfWUXXHFFS7eRLjweVJUQo7imDFjPBmXyimKTyTahPgOIm34QAZyxBq92X7yk5/YkCFDfB9LTV7DhQksE9exY8faww8/7D33yHGjiTwFKPKFlee8/xqR+V3UMERdyOFgFoJYU4l7umBpgEGHDf+JvOGgWPphXz6q44QQJ6JsRKPbtGljjz32mI0ePdp7tLG7iAgfxjOKsfCD+D2EOZ85q0kDBgxQP9JKck40kEjq1hIkac6aNcs6derkxqwtq9ILVXCIdKqFO3fu7CJOCHGi5ceiRYt8daFbt27+UxPXdEJUdfPmzd6PFD/YvXt3fdaVJDWiLcS3gQEzmJOzUZHZhow72ZzJBvm8yeNgySDEKILsLwxC84V8L8jvxQdW5HshO0w2Z7I/jlMRzGcdcjS1tuwwFaIt7vND5VEK3s4pYBzkSLFLAsttInkw8BA5JeyfRhtEaJJU3LRpU/9dJA9skJxJ+p2lMckbP0hLJJZRZYPJhKpQ/CA5imkdi1nqJY0pPz8/c2/NErxo4+V//vnnRmoeziqN6+M44yZNmnhyLontcljJA7H2s5/9zJd50rjMjQigz9KTTz7prWlE8qAy7y9/+Yu9/PLLqfQR+EEmrf/4xz9cuIlkwVg8ceJEe+aZZ7zNURojorzHZs2aua+/5557akVvBC/aSOymCeOzzz5rPXr0cHGTNujtRS7UNddcY08//bRH3USyIF+NLzGDCQm3aYLBcuHChZ57+etf/9rzL9PokEMGN04frD/+8Y/eD5AtoNKUyI+9MTGiLdJHH33kvl4kC5a4mTD87W9/83y1NI7FRLKLi4u9WOaJJ56olXY0qRFtzz33nFflsYQY+Fs6BRJ16STNBuS/+tWvJNoSCF/k++67z3r16pWqylAGS75jM2bM8E2ff/nLX3rHeom2ZFFWtLEd3tChQ31ASYsvxN5YSXnppZd8b1KJtuSBn2Av7XHjxvmkgXSKtMHEgbGYAMrPf/7zWhFtqVtLTJtgE2GB/ckGRRKQHYraIq1+MAnvSQ1ShBBCCCECQKJNCCGEECIAJNqEEEIIIQJAok0IIYQQIgAk2oQQQgghAkCiTQghhBAiACTahBBCCCECQKJNCCGEECIAJNqEEEIIIQJAok0IIYQQIgAk2oQQQgghAkCiTQghhBAiACTahBBCCCECQKJNCCGEECIAJNqEEEIIIQJAok0IIYQQIgAk2oQQQgghAkCiTQghhBAiACTaTuLcc8/1W1U455xzsnIekZtgN+edd17mf2cP55ANirMBH4b98LMqxOcRorJk2warep6kII9ehgMHDtjMmTNt8eLFdvjw4cy9lWfv3r02e/ZsW7RokR07dixzrxBnBpE1Z84cmzJlih05ciRzb+XhuXPnzrV58+ZZaWlp5l4hzszx48dt8+bNNnnyZNu2bVuVBrtNmzbZhAkTbP/+/Zl7hDgz2Nz27dtt2rRpVlxcfNbjKLaMDc+YMcPWrFnj/w8dibYMfJgYx4oVK3zgrFu3buZI5eG5hw4dsiVLlrjhpUXhi+oFu8NeEPx16tTx29kS2+/ChQtty5YtqXBWomZg8vrll1/6YNewYcMq2Q7P37Bhgy1YsEB+UFQYJprLly930Y8fPNsVA2wOX7hz505bunSp7dmzJ3g7lGjLgKNCsBUUFFirVq2qtKxUr149a9u2rX3zzTe2bt06O3r0aOaIED8MgyNRXpxK586dq2SDnKNTp07+c+3atVWKHIvcARtkgFu9erV17drVGjRokDlyduTn51uPHj1cBKZhwBQ1w65du2zjxo3WrFkza9KkSZV8IROH1q1b2759+2zr1q0+LoeMRFsGPsyvv/7axVZVZ5c4JowNh7V+/Xo/b1WMTqQf7GP37t0+WHbs2NEKCwurZIM8l3MwAWEywoBZlfOJ3IBldWyQ6AR2WFWbwRdynoMHD7odSrSJM0GQA8GGLSK2zj///CrZIbZ8wQUX+DkYj1kFC9kOpSQi+DARbUQjGOiqsiwVU79+fWvcuLFH8BBtGjDFmWB2uWPHDncw2bBBaNOmjYtBbrJBcSYYKFkdaNSokU9eqwqDI9E6oiWkn4Qe5RDVDzbIeAzYYTYKWbDlvLw894OMySEj0RaBkVA8gNDig80GGBoGRwSFc2uJVJwOBBXRMMQadpMNgcU5GCyZqZaUlGjAFGeEiBjLSKwUZCsaQbpI8+bN/bwUJCjaJk4H+WzYCWNxVaNsMUTb8KuM9dhhyL5Qoi2CD5IoG6ItTuDOBpwPCMdqwBSng+ooBkzsj0EuW+D0OB9OUDYoTgeDIzbIT6Jj2RJXTFwZgBmM8YVCnA7GYvwh42c2omzYM+fhfJwXO8yGEKwtJNrKIRsfaFmHx/lCNhJRM8Q2Uh2RCNmfqCzZshlF1kTSCNkfSrRFxNENFD7LmNlwMhhF3B+LaEc2ZgwivWAfRCOI+mI32bBBzsG5OCdFMSqGEacDe8FX8ZOIW7aIo8j42Hj1QYgfgvGYNBF8V7bSiuIIG34WOwzZF8qLR2AkDGqE7k9OUmRZiVyjeGmJD5//87hYrSP2uC8WacDjWDsH2ohItInTwUBJzgV2hi2VBfsigRbxBTwG+8O+sDPgGLmT2HDZWWT8PHKUJNrEmWDiwNIobT/KLqdjQ9hlbF/c4vw3jvF/Ho8Ncl9ZG+Q4RTb4Qc5d9pgQJ4OwZ/KAfZUdU7EbbLCsfSHqKPSLl925n995XCz48K3YIM9DsFGUwH2hIi8ewQfYokULV/c4l7IfNrsasEsCHzr/Z7CcNWuWN+pjwMRIqHSh4zKNAGNjwtgwJoyPKlINmOJ0YDdULnOjqSn2FoN9sUMCTXKxI5zSsmXLvGEpgyT3McjSlJeebLH9ck6ew4SE88oGxZlgAtuuXTsX+/EuBvg9ClmwL7rKI86wMX7/4osv3PYAm2U3j/nz5387mcAGGSw5H+2UslUVLdILNsh4HE9g48kD9oUN0jCc+2K7LCoq8lYe/B+7W7VqlY/R2BzENsjYzcQ4m/matYG8eIaWLVta06ZNfYDkA+ZD5YZDYhDFGPg/hsP/MQiMgRvGwH38BO5D/OH06DPDDDM2PCHKA5tB3NMQly2EsK/YsWBX3BfbF7bIhID2ILG4Q8hhg7GT47n8jj1fdNFFWWnfINIPAyb2ArT+iGESii0xSYj9HvbFDh4ci+/j/9z4HbBFdkQgetKlS5dv7xfih8AGaVVEwAObw7fhz7AlfFxcCc992B6+MZ5gYF/4Rp7HCgXgL3kOcF5sMWQ7lGjLQDTiwgsv/Hag44PGMPr372/Dhw/3sCr/Z/AbNmyY9enTx2eNGA4zSB7ToUOHbw2J5oBENriP5wpxJlhCpws9QoyIGfYG2NeoUaO+3WWDJazevXvb5Zdf7kIPB0Rvt6FDh9rFF1/sTo/HxVE3hCAOUIgzgc/ClphsErGIB0Puw+9hX9gpvu+SSy6xq666yo/h97C7IUOG2BVXXPFtOggTYLYj4rG0n5FoE2cCWyKdg0AKYosACP4M+8LHDRo0yO0r9nvXXXed+zj+z/3dunXz8ZggDGCDrDgQPMGuY9sMFYm2DHyQiDZmgzikeMCkozzCKw7rI8D4f+youGEMPJfQK2A83McATJhXiIqA3WBvffv2/Z4NYks4JX4Cx+h7hQPCHnkek4727du7o2Lg5bk8ji2Eqrotm8gtWD7q1auX+y5EP/bFffg97Aufhz3xO5ELJhHchw9laZXJRWxvTH55DOfjMUKcCeyNSSYTBGwJu+E+7AsbxO9hX9yH7REZZvIK3I/g43Gcg8dw4z7OF4/RISNPXgY+UCIYOJ5YjfOBx4NnDP/n/pj4MfF9hF8xEGaXirKJyoDTIYqL7cQD38n2Bfx+8v/LPobnIvR69uzpjk2IioLvQ2ixylB2Wf1MNgg8hlsMPpVoHFE2ISoDkwbG4zhAAifbF5Rnl/FjeB6TXSavBFbicT1kJNrKwAeM4EJoVWVWyIDJeQjnClFZsD9miVWxwWzZsshNGNwQ+1Ud5Ij2hp74LWqHeBzFhqpiP9hwfJ40INEmhBDiFE6Oop0t2TqPEEKiTQghhBAiCCTahBBCCCECQKJNCCGEECIAJNqEEEIIIQJAok0IIYQQIgAk2oQQQgghAkCiTQghhBAiACTahBBCCCECQKJNCCGEECIAJNqEEEIIIQJAok0IIYQQIgAk2oQQQgghAkCiTQghhBAiACTahBBCCCECQKJNCCGEECIAJNqEEEIIIQJAok0IIYQQIgAk2oQQQgghAkCiTQghhBAiAFIn2s4555xU3URYlPcZhnwT4VLe5xnqTYRFeZ9h6Lf4fdU2qRFt33zzjR05csRKS0tTdTt8+LDfjh07lnmnIqkcP348lTbI7ejRo/7+RPLBV+AzyvscQ77xnrBB2WGyYSxOq/3FY3Ft2uA50R8P+hvAy3/nnXfsd7/7nTVo0MDy8vISoYazBe/v0KFDfnvggQfsF7/4hdWrVy9zVCSFTZs22R133GH79u2zZs2apcoGccK8v2HDhtlvf/tb69y5c6reX1rgM/rDH/5gb7/9trVt29bOO++8zJF0sH//ftuwYYMVFRVZly5dMveKpICfGDdunD3zzDNWt27d1I7FCLexY8fa448/bnXq1MkcrTmCF22watUqe++992zXrl2pHEz4iAoKCmzo0KE2cOBAO/dcpSImjQMHDtj48eOtuLg4lZ8PNti/f38XboWFhZl7RZJA1EydOtWmT5/un1fafCHvqVGjRvboo4/6T5E8li5dapMmTUr1WNy4cWO7+uqrrW/fvrXyHlMh2li62bt3ryvgtIKib9iwodWvXz9zj0gSfI2wwYMHD2buSRc4p/z8fJ89a9KQTLBB7A/xRtQjjbDKwKApG0wmpIew2pDmsZgoImNxba14pUK0CSGEEEKkHU1XhBBCCCECQKJNCCGEECIAJNqEEEIIIQJAok0IIYQQIgAk2oQQQgghAkCiTQghhBAiACTahBBCCCECQKJNCCGEECIAJNqEEEIIIQJAok0IIYQQIgAk2oQQQgghAkCiTQghhBAiACTahBBCCCECQKJNCCGEECIAJNqEEEIIIQJAok0IIYQQIgAk2oQQQgghAkCiTQghhBAiACTahBBCCCECQKJNCCGEECIAJNqEEEIIIQJAok0IIYQQIgAk2oQQQgghAkCiTQghhBAiACTahBBCCCECQKJNCCGEECIAJNqEEEIIIQJAok0IIYQQIgAk2oQQQgghAkCiTQghhBAiACTahBBCCCECQKJNCCGEECIAJNqEEEIIIQJAok0IIYQQIgAk2oQQQgghEo/Z/weC6LxMmFmECwAAAABJRU5ErkJggg==)"
      ],
      "metadata": {
        "id": "pMm5hw5-Ag1k"
      }
    },
    {
      "cell_type": "markdown",
      "source": [
        "- 조건\n",
        "- 불순도(gini)\n",
        "- 총 샘플 수(samples)\n",
        "- 클래스별 샘플(value)"
      ],
      "metadata": {
        "id": "8eHbTUHOAGEd"
      }
    },
    {
      "cell_type": "markdown",
      "source": [
        "1. root node: (조건) 알코올 < 11.55 기준\n",
        "value 1109, 170 기준으로 가름\n",
        "2. ecisionTreeClassifier의 기본 불순도 구분 값은 gini로 세팅\n",
        " : gini는 아까 알코올 11.55에서 나뉘었는데요. 컴퓨터는 어떠한 기준으로 11.55에서 자동으로 나누었을까요?\n",
        " * 지니 불순도 = 1 - (타겟이 아닌 클래스 비율의 제곱 + 타겟 클래스 비율의 제곱)\n"
      ],
      "metadata": {
        "id": "RYCV6OOoArHb"
      }
    },
    {
      "cell_type": "markdown",
      "source": [
        " ```\n",
        " | 구분 | 음성 클래스(0)\n",
        "→ 6.5이하인 나쁜와인 | 양성 클래스(1)\n",
        "→ 6.5점 이상 좋은 와인 |\n",
        "| --- | --- | --- |\n",
        "| 전체 | 1,279 | 1,279 |\n",
        "| 클래스 갯수 | 1,109 | 170 |\n",
        "| 클래스/전체 | 86.7% | 13.3% |\n",
        "| 제곱(위의값의 제곱)| 75.2% | 1.8% |\n",
        "| 지니계수 (1-(0.752+0.018)) | 23.0% → 0.23 |  |\n",
        "\n",
        "```\n",
        " * 만약 지니 불순도가 0.5 → 50%면 가장 안좋은 케이스이며, 지니 계수가 0에 가까울수록 좋은 케이스입니다.\n",
        " --> 한가지 종류가 있다면 지니불순도가 0%\n",
        " --> 지니 계수를 낮추는 방향으로 tree 가 뻗어나"
      ],
      "metadata": {
        "id": "0_vzS4QsCnVV"
      }
    },
    {
      "cell_type": "markdown",
      "source": [
        "## 트리 분석 검증법\n",
        "\n",
        "1. 각 트리별로 조건을 데이터에 녹여서\n",
        "그 조건에 해당하는 데이터가 실제로 예측을 잘했는지 살펴본다. (직접적 데이터 확인)\n",
        "2. 성능 비교. 과적합 아닌지. 성능이 너무 낮지 않은지\n",
        "3. 예측률: 타겟수, 분류가 적절한지, 데이터, 모델 등의 적합성 확인"
      ],
      "metadata": {
        "id": "yB4pUgDOFRgv"
      }
    },
    {
      "cell_type": "markdown",
      "source": [
        "## Random Forest (ensemble)"
      ],
      "metadata": {
        "id": "k8eqCF9XGcHO"
      }
    },
    {
      "cell_type": "markdown",
      "source": [
        "* 랜덤포레스트는 각 트리를 훈련하기 위한 데이터를 랜덤하게 만듬\n",
        "* 다양한 데이터로 학습할 수 있다\n",
        "* 작은 변수? 특징들을 모으면 하나의 큰 특징보다 강력하다는 전제\n",
        "\n",
        "1. **데이터 랜덤**. 중복추출(Bootstrapping): 1000개 3번 돌림. 1번째의 500개와 2번째의 500개는 중복될 수도 있음. 원데이터 1000개와 같은 갯수\n",
        "train dataset과 동일하게 추출\n",
        "\n",
        "2. **변수도 랜덤**\n",
        "전체 특성 개수의 제곱근만큼 특성(변수)를 정하게 됩니다. 변수가 9개면 3개를 선택\n",
        "\n"
      ],
      "metadata": {
        "id": "uP_Kxi1QGelI"
      }
    },
    {
      "cell_type": "markdown",
      "source": [
        "### Voting (서로 다른 모델을 voting)\n",
        "인기있는 모델을 선택"
      ],
      "metadata": {
        "id": "MoI6Jm1PI1GY"
      }
    },
    {
      "cell_type": "code",
      "source": [],
      "metadata": {
        "id": "DkjFZJHZJetL"
      },
      "execution_count": null,
      "outputs": []
    },
    {
      "cell_type": "markdown",
      "source": [
        "### Bagging\n",
        "여러 모델을 만들어서 적용. 최종 결정"
      ],
      "metadata": {
        "id": "k94O3lQlJDyP"
      }
    },
    {
      "cell_type": "code",
      "source": [],
      "metadata": {
        "id": "ZUt-gTKpJAYS"
      },
      "execution_count": null,
      "outputs": []
    },
    {
      "cell_type": "markdown",
      "source": [
        "### Boosting\n",
        "틀린거에 대해 계속 분석(학습)"
      ],
      "metadata": {
        "id": "LfG1sERkI7Pw"
      }
    },
    {
      "cell_type": "markdown",
      "source": [
        "### Stacking\n"
      ],
      "metadata": {
        "id": "aZt9UqAXJ3s0"
      }
    },
    {
      "cell_type": "markdown",
      "source": [
        "# Deep Learning\n",
        "GPU 활용할 수 있다"
      ],
      "metadata": {
        "id": "UavpSqrYNbOc"
      }
    },
    {
      "cell_type": "markdown",
      "source": [
        "## TensorFlow\n",
        "\n",
        "colab > runtime > GPU 변경 해서 실행"
      ],
      "metadata": {
        "id": "qdXHpNu2Nebi"
      }
    },
    {
      "cell_type": "markdown",
      "source": [
        "* 0차원 tensor : scalar\n",
        "* 1차원 vector\n",
        "* 2차원 matrix\n",
        "* 3차원이상 3D tensor"
      ],
      "metadata": {
        "id": "khtR9RkTSwDl"
      }
    },
    {
      "cell_type": "code",
      "source": [],
      "metadata": {
        "id": "x1aneOOFToeB"
      },
      "execution_count": null,
      "outputs": []
    }
  ]
}
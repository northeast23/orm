{
  "nbformat": 4,
  "nbformat_minor": 0,
  "metadata": {
    "colab": {
      "provenance": [],
      "toc_visible": true,
      "authorship_tag": "ABX9TyOH50HedSnrKXtS2GooPBxU"
    },
    "kernelspec": {
      "name": "python3",
      "display_name": "Python 3"
    },
    "language_info": {
      "name": "python"
    }
  },
  "cells": [
    {
      "cell_type": "markdown",
      "source": [
        "# 함수 def f_name():\n",
        "\n",
        "* 코드의 재사용과 유지보수가 용이해짐\n",
        "* 가독성이 높아지고, 협업할 때 좋아짐\n",
        "* 추상화\n",
        "* tab 과 space 4칸은 다른 코드. 오류날 수 있음. tab 을 space 4칸으로 설정해야 함"
      ],
      "metadata": {
        "id": "l3TF2zrsq5GV"
      }
    },
    {
      "cell_type": "code",
      "execution_count": 1,
      "metadata": {
        "colab": {
          "base_uri": "https://localhost:8080/"
        },
        "id": "MLr6pozcqsnE",
        "outputId": "b3355b06-8973-455a-c5c3-e02c4ea2bc7f"
      },
      "outputs": [
        {
          "output_type": "stream",
          "name": "stdout",
          "text": [
            "10 20\n"
          ]
        }
      ],
      "source": [
        "def test():\n",
        "    x = 10\n",
        "    y = 20\n",
        "    print(x, y)\n",
        "\n",
        "test()"
      ]
    },
    {
      "cell_type": "code",
      "source": [
        "# 함수 만들어 보기\n",
        "def my_hamsu():     # 함수가 활성화될 준비\n",
        "    print('1')      # Indentation: Python 에서는 빈칸 4개가 표준. 본문의 시작\n",
        "    print('2')\n",
        "    print('3')      # 본문의 끝\n",
        "\n",
        "my_hamsu()          # 함수의 호출\n"
      ],
      "metadata": {
        "colab": {
          "base_uri": "https://localhost:8080/"
        },
        "id": "UjqZtjmzrDCW",
        "outputId": "e66f6615-7552-45f9-f5d9-ef989b943f7b"
      },
      "execution_count": 2,
      "outputs": [
        {
          "output_type": "stream",
          "name": "stdout",
          "text": [
            "1\n",
            "2\n",
            "3\n"
          ]
        }
      ]
    },
    {
      "cell_type": "markdown",
      "source": [
        "## 알아두기"
      ],
      "metadata": {
        "id": "cbXe3FuF4XKi"
      }
    },
    {
      "cell_type": "markdown",
      "source": [
        "### Indentation (tab = space 4 으로 설정)"
      ],
      "metadata": {
        "id": "XNXzD1wTvErr"
      }
    },
    {
      "cell_type": "code",
      "source": [
        "# Indentation 확인\n",
        "def my_function():\n",
        "    print('1')\n",
        "    print('2')\n",
        "print('3')          # 첫번째 실행. 함수에 포함되지 않음.\n",
        "\n",
        "my_function()       # 함수의 실행\n"
      ],
      "metadata": {
        "colab": {
          "base_uri": "https://localhost:8080/"
        },
        "id": "vYbKTSBAtMbB",
        "outputId": "83fa454a-7633-4fe9-e800-2d17b4478a9c"
      },
      "execution_count": 3,
      "outputs": [
        {
          "output_type": "stream",
          "name": "stdout",
          "text": [
            "3\n",
            "1\n",
            "2\n"
          ]
        }
      ]
    },
    {
      "cell_type": "markdown",
      "source": [
        "### 디스코드에서 내용 가리기 (|| ssss ||)\n",
        "* code block 으로 가리기 ``` ``` (backtick * 3)"
      ],
      "metadata": {
        "id": "hhiXkSaT2CUg"
      }
    },
    {
      "cell_type": "code",
      "source": [
        "# 함수란 작은 기능을 서브 해줌\n",
        "# 코드 블럭으로 잡으려면 ``` ```\n",
        "# || 내용 ||\n",
        "# || ``` (backtick 3개) 내용 ``` ||     <-- 디스코드에서 코드 가려짐\n",
        "\n",
        "def my_say():\n",
        "    print(\"hello\")\n",
        "\n",
        "my_say()\n"
      ],
      "metadata": {
        "colab": {
          "base_uri": "https://localhost:8080/"
        },
        "id": "fuxpD-0Ju3Yq",
        "outputId": "293d7072-3a77-4ed3-f801-275ec08e5f59"
      },
      "execution_count": 4,
      "outputs": [
        {
          "output_type": "stream",
          "name": "stdout",
          "text": [
            "hello\n"
          ]
        }
      ]
    },
    {
      "cell_type": "markdown",
      "source": [
        "## 함수의 기본 구조"
      ],
      "metadata": {
        "id": "Ub1Zn2QN2bMb"
      }
    },
    {
      "cell_type": "code",
      "source": [
        "#\n",
        "def my_addition(x, y):\n",
        "    z = x + y\n",
        "    return z\n",
        "\n",
        "print(f'my_addition(233226, 25426) = {my_addition(233226, 25426)}')"
      ],
      "metadata": {
        "colab": {
          "base_uri": "https://localhost:8080/"
        },
        "id": "QpdM8G7eu3nI",
        "outputId": "4e16d850-430d-477d-ef93-458f0ddff3dc"
      },
      "execution_count": 5,
      "outputs": [
        {
          "output_type": "stream",
          "name": "stdout",
          "text": [
            "my_addition(233226, 25426) = 258652\n"
          ]
        }
      ]
    },
    {
      "cell_type": "markdown",
      "source": [
        "### argument(인수-넘겨줌), parameter(매개변수-함수에서 받음)\n",
        "\n",
        "\n"
      ],
      "metadata": {
        "id": "MGBaCNJT3laD"
      }
    },
    {
      "cell_type": "code",
      "source": [
        "def func_name():\n",
        "    pass                # 임시로 사용. return 이 없으니 \"None\"을 return\n",
        "\n",
        "def func_test1():\n",
        "    return \"hello\"      # 한줄이라도 있어야 함\n",
        "\n",
        "def func_test2(x, y):\n",
        "    return x+y          # 반환을 지정하지 않으면 null 을 반환\n",
        "\n",
        "print(f'func_name 은 아무것도 안함, {func_name()}')\n",
        "print(f'func_test1 은 hello 출력, {func_test1()}')\n",
        "print(f'func_test2 은 9 와 19 의 합 리턴, {func_test2(9, 19)}')\n"
      ],
      "metadata": {
        "colab": {
          "base_uri": "https://localhost:8080/"
        },
        "id": "xt2rbiG8u4Bq",
        "outputId": "1b9963ff-b7b7-49f2-e7aa-9d3a3a411a03"
      },
      "execution_count": 7,
      "outputs": [
        {
          "output_type": "stream",
          "name": "stdout",
          "text": [
            "func_name 은 아무것도 안함, None\n",
            "func_test1 은 hello 출력, hello\n",
            "func_test2 은 9 와 19 의 합 리턴, 28\n"
          ]
        }
      ]
    },
    {
      "cell_type": "code",
      "source": [
        "# return\n",
        "def func_test2(x, y):\n",
        "    # return x+y        # 반환을 지정하지 않으면 null 을 반환\n",
        "    pass\n",
        "\n",
        "func_test2(2, 3)        # print 없음"
      ],
      "metadata": {
        "id": "uKl8PN9Ku41P"
      },
      "execution_count": 10,
      "outputs": []
    },
    {
      "cell_type": "markdown",
      "source": [
        "### return + print()"
      ],
      "metadata": {
        "id": "_NKpHPHI7zVV"
      }
    },
    {
      "cell_type": "code",
      "source": [
        "# return + print\n",
        "def func_test2(x, y):\n",
        "    # return x+y        # 반환을 지정하지 않으면 null 을 반환\n",
        "    pass\n",
        "\n",
        "func_test2(2, 3)        # print 없음\n",
        "print(func_test2(2, 3)) # print 있음\n"
      ],
      "metadata": {
        "colab": {
          "base_uri": "https://localhost:8080/"
        },
        "id": "Ci84Ysz2u5Mn",
        "outputId": "0f6cfa62-bada-4aab-9d51-1c1d965a5b6d"
      },
      "execution_count": 11,
      "outputs": [
        {
          "output_type": "stream",
          "name": "stdout",
          "text": [
            "None\n"
          ]
        }
      ]
    },
    {
      "cell_type": "markdown",
      "source": [
        "### 함수의 호출 function(arguments)"
      ],
      "metadata": {
        "id": "T30_UNgqrCri"
      }
    },
    {
      "cell_type": "code",
      "source": [
        "def f():\n",
        "    print(1 / 0)    # 0으로 나눠서 에러 발생\n",
        "\n",
        "print('hello')      # 에러 나는 함수가 호출되지 않아서 에러 안남"
      ],
      "metadata": {
        "colab": {
          "base_uri": "https://localhost:8080/"
        },
        "id": "D3HouwpfrD3o",
        "outputId": "d70f57c4-8845-4396-cb42-59f4c29633f5"
      },
      "execution_count": 12,
      "outputs": [
        {
          "output_type": "stream",
          "name": "stdout",
          "text": [
            "hello\n"
          ]
        }
      ]
    },
    {
      "cell_type": "markdown",
      "source": [
        "#### no args, no return"
      ],
      "metadata": {
        "id": "LXJ5iryO-dwg"
      }
    },
    {
      "cell_type": "code",
      "source": [
        "# no arguments no return\n",
        "def my_noarg_noreturn():\n",
        "    pass\n",
        "\n",
        "my_noarg_noreturn()\n"
      ],
      "metadata": {
        "id": "Eu9lWuzOrDwh"
      },
      "execution_count": 15,
      "outputs": []
    },
    {
      "cell_type": "code",
      "source": [
        "def simple_function():\n",
        "    print(\"hello world\")\n",
        "\n",
        "print(simple_function())    # 함수를 호출했으니 일단 수행\n",
        "                            # 그렇지만 return 이 없으니 print 있어서 None\n"
      ],
      "metadata": {
        "colab": {
          "base_uri": "https://localhost:8080/"
        },
        "id": "lEa1c09L9Hsc",
        "outputId": "f891cfc8-0b34-4b9a-f661-3e64c4f6d7aa"
      },
      "execution_count": 19,
      "outputs": [
        {
          "output_type": "stream",
          "name": "stdout",
          "text": [
            "hello world\n",
            "None\n"
          ]
        }
      ]
    },
    {
      "cell_type": "markdown",
      "source": [
        "#### no args, has return"
      ],
      "metadata": {
        "id": "w2lHsF5Z-l6z"
      }
    },
    {
      "cell_type": "code",
      "source": [
        "# no arguments, return\n",
        "def give_me_five():\n",
        "    return 5\n",
        "\n",
        "result = give_me_five()     # 함수호출해서 5를 받음\n",
        "print(result)               # 리턴값 프린트"
      ],
      "metadata": {
        "colab": {
          "base_uri": "https://localhost:8080/"
        },
        "id": "KtNVdSMr9zRU",
        "outputId": "53b189f3-43d9-4791-b1d5-969593a3ce1a"
      },
      "execution_count": 21,
      "outputs": [
        {
          "output_type": "stream",
          "name": "stdout",
          "text": [
            "5\n"
          ]
        }
      ]
    },
    {
      "cell_type": "markdown",
      "source": [
        "#### has args, no return"
      ],
      "metadata": {
        "id": "T2HH78t4-qch"
      }
    },
    {
      "cell_type": "code",
      "source": [
        "# arg 있고 리턴은 없음\n",
        "def greeting(name):\n",
        "    print(f'Hello, {name}!')\n",
        "\n",
        "# 함수 호출\n",
        "greeting('Licat')   # 함수의 수행 . 리턴이 아님.\n",
        "\n",
        "print(greeting('Licat'))    # None (no return) 출력\n",
        "\n"
      ],
      "metadata": {
        "colab": {
          "base_uri": "https://localhost:8080/"
        },
        "id": "P4ryubEE9ze9",
        "outputId": "7f8e3b50-afa3-4a54-fe6d-b7f49096773f"
      },
      "execution_count": 24,
      "outputs": [
        {
          "output_type": "stream",
          "name": "stdout",
          "text": [
            "Hello, Licat!\n",
            "Hello, Licat!\n",
            "None\n"
          ]
        }
      ]
    },
    {
      "cell_type": "markdown",
      "source": [
        "#### has args, has return"
      ],
      "metadata": {
        "id": "OvIj2Xpv-tLm"
      }
    },
    {
      "cell_type": "code",
      "source": [],
      "metadata": {
        "id": "TIt9xxnv9zrd"
      },
      "execution_count": null,
      "outputs": []
    },
    {
      "cell_type": "markdown",
      "source": [
        "#### None\n",
        "* 함수에서 return 이 없으면(return = None) print 있어야 출력됨"
      ],
      "metadata": {
        "id": "gIGcEd3IrCdm"
      }
    },
    {
      "cell_type": "code",
      "source": [
        "def add_numbers(x, y):\n",
        "    sum = x + y\n",
        "    return sum\n",
        "\n",
        "# 함수 호출\n",
        "result = add_numbers(5, 3)  # 함수의 호출 / 리턴 값을 result 에 할당\n",
        "print(result)  # 출력: 8"
      ],
      "metadata": {
        "colab": {
          "base_uri": "https://localhost:8080/"
        },
        "id": "m-xrAoqkEt-X",
        "outputId": "518c2b27-de26-4c32-d0f1-021a8a6fb1e5"
      },
      "execution_count": 26,
      "outputs": [
        {
          "output_type": "stream",
          "name": "stdout",
          "text": [
            "8\n"
          ]
        }
      ]
    },
    {
      "cell_type": "markdown",
      "source": [
        "#### print() 와 return 구분\n",
        "\n",
        "* return 은 함수 형태 아님\n",
        "* 결국 return 없으면 None\n",
        "* print 로 부르지 않으면 출력 없을 수 있음."
      ],
      "metadata": {
        "id": "w9YLA0EnFRGp"
      }
    },
    {
      "cell_type": "markdown",
      "source": [
        "### 함수의 정의\n",
        "def func_name(para1, para2):"
      ],
      "metadata": {
        "id": "cGkkLzrLG0XF"
      }
    },
    {
      "cell_type": "markdown",
      "source": [
        "#### parameters 함수 정의. arg 받는 것"
      ],
      "metadata": {
        "id": "CHS43p9MHXg8"
      }
    },
    {
      "cell_type": "code",
      "source": [
        "#\n",
        "def f(a, b, c):\n",
        "    print(a, b, c)\n",
        "\n",
        "f(100, 200, 300)\n",
        "f(a= 100, b= 200, c= 300)   # keyword parameters\n",
        "f(c= 300, b= 200, a= 100)   # 순서가 안맞아도 수행"
      ],
      "metadata": {
        "colab": {
          "base_uri": "https://localhost:8080/"
        },
        "id": "Jnn9hGuVFShs",
        "outputId": "e7068200-51e9-4ebd-d9f3-d0e37c2db885"
      },
      "execution_count": 29,
      "outputs": [
        {
          "output_type": "stream",
          "name": "stdout",
          "text": [
            "100 200 300\n",
            "100 200 300\n",
            "100 200 300\n"
          ]
        }
      ]
    },
    {
      "cell_type": "code",
      "source": [
        "#\n",
        "def f(a=10, b=20, c=30):\n",
        "    print(a, b, c)\n",
        "\n",
        "f()\n",
        "f(100, 10)                  # a, b는 arg 로 받고, c=parameter기본값\n",
        "f(a=100, b=200, c=300)      # keyword arguments. arg 우선순위, 없으면 파라미터 기본값\n",
        "f(c=300, a=100, b=200)   # keyword arguments, 순서가 안맞아도 수행"
      ],
      "metadata": {
        "colab": {
          "base_uri": "https://localhost:8080/"
        },
        "id": "F1zRDU6-IqE_",
        "outputId": "cc5287cf-f475-4bd9-b679-b80ab4d4a090"
      },
      "execution_count": 30,
      "outputs": [
        {
          "output_type": "stream",
          "name": "stdout",
          "text": [
            "10 20 30\n",
            "100 10 30\n",
            "100 200 300\n",
            "100 200 300\n"
          ]
        }
      ]
    },
    {
      "cell_type": "markdown",
      "source": [
        "#### 파라미터 사용 예\n",
        "* 기본값 없는 파라미터는 기본값있는 파라미터 앞에 정의\n",
        "* 기본값없는 파라미터는 반드시 arg 로 호"
      ],
      "metadata": {
        "id": "hxB91OzQHP9p"
      }
    },
    {
      "cell_type": "code",
      "source": [
        "# def f(a=10, b=20, c):\n",
        "#     print(a, b, c) # error. 기본값없는 파라미터가 기본값있는 파라미터 뒤에 갈 수 없음\n",
        "\n",
        "def f(a, b=20, c=10):\n",
        "    print(a, b, c)\n",
        "\n",
        "f(100, 10) # 출력: 100 10 10\n",
        "f(a=100, b=200, c=300) # 출력: 100 200 300\n",
        "f(c=300, a=100, b=200) # 출력: 100 200 300\n",
        "f(500)                 # 출력: 500 20 10\n",
        "\n",
        "# print(f'{f(a, b, c)}')  # 이렇게 호출해도 에러"
      ],
      "metadata": {
        "colab": {
          "base_uri": "https://localhost:8080/"
        },
        "id": "VaEExXnPFSyk",
        "outputId": "50d32684-78fc-4f9b-d2dc-deb8fa6e8e7b"
      },
      "execution_count": 46,
      "outputs": [
        {
          "output_type": "stream",
          "name": "stdout",
          "text": [
            "100 10 10\n",
            "100 200 300\n",
            "100 200 300\n",
            "500 20 10\n"
          ]
        }
      ]
    },
    {
      "cell_type": "markdown",
      "source": [
        "#### args: convention 유형"
      ],
      "metadata": {
        "id": "rOm8Zo-HN1Y1"
      }
    },
    {
      "cell_type": "code",
      "source": [
        "def add_element(my_list):\n",
        "    my_list.append(1)\n",
        "\n",
        "a = [2, 3, 4]\n",
        "add_element(a)\n",
        "print(a)  # 출력: [2, 3, 4, 1]\n"
      ],
      "metadata": {
        "colab": {
          "base_uri": "https://localhost:8080/"
        },
        "id": "IuN7qUOvFTYb",
        "outputId": "c99cf38d-dc5a-4da1-8a32-7f7ab3de1852"
      },
      "execution_count": 34,
      "outputs": [
        {
          "output_type": "stream",
          "name": "stdout",
          "text": [
            "[2, 3, 4, 1]\n"
          ]
        }
      ]
    },
    {
      "cell_type": "markdown",
      "source": [],
      "metadata": {
        "id": "XTWsXhOUNzBK"
      }
    },
    {
      "cell_type": "code",
      "source": [
        "def add_element(my_list):\n",
        "    my_list = 10\n",
        "    print(id(my_list)) # 출력: id(10) 138174604837392\n",
        "\n",
        "a = [2, 3, 4]\n",
        "add_element(a)          # id(my_list=10) 출력\n",
        "print(id(a))            # 출력: 138173335223040\n",
        "print(a)                # 출력: [2, 3, 4]\n",
        "print(f'{add_element(a)}')\n",
        "print(id(10))           # id(10)"
      ],
      "metadata": {
        "colab": {
          "base_uri": "https://localhost:8080/"
        },
        "id": "PrKFjdrGFT5s",
        "outputId": "fb4c3d51-846e-4236-fe9d-ea60bdb08141"
      },
      "execution_count": 45,
      "outputs": [
        {
          "output_type": "stream",
          "name": "stdout",
          "text": [
            "138174604837392\n",
            "138173335507840\n",
            "[2, 3, 4]\n",
            "138174604837392\n",
            "None\n",
            "138174604837392\n"
          ]
        }
      ]
    },
    {
      "cell_type": "markdown",
      "source": [
        "#### 권장되지 않는 기본값\n"
      ],
      "metadata": {
        "id": "ayQcDfYifK0y"
      }
    },
    {
      "cell_type": "code",
      "source": [
        "# 권장하지 않는 방법\n",
        "def append_to_list(value, lst=[]):\n",
        "    lst.append(value)\n",
        "    return lst # 예상치 못한 결과가 발생할 수 있습니다.\n",
        "\n",
        "append_to_list(1)   # 출력 [1]\n",
        "append_to_list(2)   # 출력 [1, 2]\n"
      ],
      "metadata": {
        "colab": {
          "base_uri": "https://localhost:8080/"
        },
        "id": "QnFLLD9pfKDv",
        "outputId": "ad7b26e9-a447-4803-fc7d-5b0d989395dd"
      },
      "execution_count": 53,
      "outputs": [
        {
          "output_type": "execute_result",
          "data": {
            "text/plain": [
              "[1, 2]"
            ]
          },
          "metadata": {},
          "execution_count": 53
        }
      ]
    },
    {
      "cell_type": "code",
      "source": [
        "# 권장 방법\n",
        "def append_to_list(value, lst=None):\n",
        "    if lst is None:         # 초기화? 안해주면 계속 이어짐(.append())\n",
        "        lst = []\n",
        "    lst.append(value)\n",
        "    return lst\n",
        "\n",
        "append_to_list(1)"
      ],
      "metadata": {
        "colab": {
          "base_uri": "https://localhost:8080/"
        },
        "id": "ibFR4IKVfcxW",
        "outputId": "51833b0d-2bd4-4b6c-ae9f-e57e3a30a5fe"
      },
      "execution_count": 54,
      "outputs": [
        {
          "output_type": "execute_result",
          "data": {
            "text/plain": [
              "[1]"
            ]
          },
          "metadata": {},
          "execution_count": 54
        }
      ]
    },
    {
      "cell_type": "code",
      "source": [
        "# 권장 방법\n",
        "def append_to_list(value, lst=None):\n",
        "    if lst is None:\n",
        "        lst = []\n",
        "    lst.append(value)\n",
        "    return lst\n",
        "\n",
        "append_to_list(1)\n",
        "append_to_list(2)\n"
      ],
      "metadata": {
        "colab": {
          "base_uri": "https://localhost:8080/"
        },
        "id": "IV6jqourFUmb",
        "outputId": "73b998e6-9414-4714-9d1e-ac3a2cb16826"
      },
      "execution_count": 55,
      "outputs": [
        {
          "output_type": "execute_result",
          "data": {
            "text/plain": [
              "[2]"
            ]
          },
          "metadata": {},
          "execution_count": 55
        }
      ]
    }
  ]
}
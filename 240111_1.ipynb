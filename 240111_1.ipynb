{
  "nbformat": 4,
  "nbformat_minor": 0,
  "metadata": {
    "colab": {
      "provenance": [],
      "authorship_tag": "ABX9TyOvcS8aNaeymsa3o+FGXUDC"
    },
    "kernelspec": {
      "name": "python3",
      "display_name": "Python 3"
    },
    "language_info": {
      "name": "python"
    }
  },
  "cells": [
    {
      "cell_type": "markdown",
      "source": [
        "# Checkpoints"
      ],
      "metadata": {
        "id": "hPTITtSH4u3v"
      }
    },
    {
      "cell_type": "markdown",
      "source": [
        "## 함수를 변수로 사용"
      ],
      "metadata": {
        "id": "avWy4DVZ9RXh"
      }
    },
    {
      "cell_type": "code",
      "execution_count": null,
      "metadata": {
        "id": "OpuGp-OWyPBt"
      },
      "outputs": [],
      "source": [
        "def hello():\n",
        "    pass\n",
        "\n",
        "def hello():\n",
        "    '''\n",
        "    *** 주석의 위치는 여기 ***\n",
        "    나중에 함수를 검색하면 여기있는 주석이 검색됨\n",
        "    arg:\n",
        "\n",
        "    return:\n",
        "    '''\n",
        "    pass\n",
        "\n",
        "def hello():\n",
        "    pass\n",
        "\n",
        "\n",
        "# TODO 유선: ~~ 함수예요.  TODO 는 지시어임\n",
        "def hello():\n",
        "    pass\n",
        "\n",
        "\n",
        "a = 10\n",
        "# 파이선에서 모든 것은 클래스(의 인스턴스)\n",
        "# a 는 int 클라스의 인스턴스\n",
        "# hello 는 funcation 클라스의 인스턴스\n"
      ]
    },
    {
      "cell_type": "code",
      "source": [
        "print('hello world')    # built-in function. function 의 인스턴스. 결국 함수의 이름은 변수가 됨"
      ],
      "metadata": {
        "id": "4iojWcdX6LlJ"
      },
      "execution_count": null,
      "outputs": []
    },
    {
      "cell_type": "code",
      "source": [
        "a = 10\n",
        "l = [a, a, a]\n",
        "l[2]"
      ],
      "metadata": {
        "colab": {
          "base_uri": "https://localhost:8080/"
        },
        "id": "X45BRwo86SZ1",
        "outputId": "988454d1-97c8-48f9-b45a-fef2de0e8849"
      },
      "execution_count": null,
      "outputs": [
        {
          "output_type": "execute_result",
          "data": {
            "text/plain": [
              "10"
            ]
          },
          "metadata": {},
          "execution_count": 2
        }
      ]
    },
    {
      "cell_type": "code",
      "source": [
        "# 함수 이름을 변수로 사용할 수 있음 확인 ***********************\n",
        "\n",
        "print()"
      ],
      "metadata": {
        "id": "-HuiUxf_76FE"
      },
      "execution_count": null,
      "outputs": []
    },
    {
      "cell_type": "markdown",
      "source": [
        "## 여기 확인 ***********************"
      ],
      "metadata": {
        "id": "Rk_nj9rR9Vxl"
      }
    },
    {
      "cell_type": "code",
      "source": [],
      "metadata": {
        "id": "g-hzPr-79YHo"
      },
      "execution_count": null,
      "outputs": []
    },
    {
      "cell_type": "code",
      "source": [
        "l = [a, a, a]\n",
        "l[2]"
      ],
      "metadata": {
        "colab": {
          "base_uri": "https://localhost:8080/"
        },
        "id": "OIOkzEYB6NoV",
        "outputId": "53a0f858-bcd4-41b4-eb29-4bcf7eb908eb"
      },
      "execution_count": null,
      "outputs": [
        {
          "output_type": "execute_result",
          "data": {
            "text/plain": [
              "10"
            ]
          },
          "metadata": {},
          "execution_count": 5
        }
      ]
    },
    {
      "cell_type": "code",
      "source": [
        "print('hello world') # built-in function"
      ],
      "metadata": {
        "id": "x-ErUZcP5_QE"
      },
      "execution_count": null,
      "outputs": []
    },
    {
      "cell_type": "code",
      "source": [
        "l = [print, print, print]\n",
        "l[2]('hello world')"
      ],
      "metadata": {
        "colab": {
          "base_uri": "https://localhost:8080/"
        },
        "id": "YNm64Bmx6Wg2",
        "outputId": "e8317b35-1282-48cd-cea6-58f3a106db22"
      },
      "execution_count": null,
      "outputs": [
        {
          "output_type": "stream",
          "name": "stdout",
          "text": [
            "hello world\n"
          ]
        }
      ]
    },
    {
      "cell_type": "code",
      "source": [
        "hojun = print\n",
        "hojun('hello world')"
      ],
      "metadata": {
        "colab": {
          "base_uri": "https://localhost:8080/"
        },
        "id": "upt6kTlF6ZzD",
        "outputId": "7e15b591-2ba9-4217-dc52-135b71415aa2"
      },
      "execution_count": null,
      "outputs": [
        {
          "output_type": "stream",
          "name": "stdout",
          "text": [
            "hello world\n"
          ]
        }
      ]
    },
    {
      "cell_type": "code",
      "source": [
        "id(hojun), id(print)"
      ],
      "metadata": {
        "colab": {
          "base_uri": "https://localhost:8080/"
        },
        "id": "rslTWUyz6jSk",
        "outputId": "85f51c37-37cb-478a-8700-ba83f51dd18f"
      },
      "execution_count": null,
      "outputs": [
        {
          "output_type": "execute_result",
          "data": {
            "text/plain": [
              "(132681909245232, 132681909245232)"
            ]
          },
          "metadata": {},
          "execution_count": 9
        }
      ]
    },
    {
      "cell_type": "code",
      "source": [
        "print = 10"
      ],
      "metadata": {
        "id": "Y4NBw-w665qP"
      },
      "execution_count": null,
      "outputs": []
    },
    {
      "cell_type": "code",
      "source": [
        "print"
      ],
      "metadata": {
        "colab": {
          "base_uri": "https://localhost:8080/"
        },
        "id": "89fzgi5E7A87",
        "outputId": "2d303d2c-6573-4088-e3cf-17530a0147f0"
      },
      "execution_count": null,
      "outputs": [
        {
          "output_type": "execute_result",
          "data": {
            "text/plain": [
              "10"
            ]
          },
          "metadata": {},
          "execution_count": 11
        }
      ]
    },
    {
      "cell_type": "code",
      "source": [
        "hojun('hello')"
      ],
      "metadata": {
        "colab": {
          "base_uri": "https://localhost:8080/"
        },
        "id": "ZTzVrg3l7DNt",
        "outputId": "eb94c100-e371-4c81-b227-f3cb3ecc3cc7"
      },
      "execution_count": null,
      "outputs": [
        {
          "output_type": "stream",
          "name": "stdout",
          "text": [
            "hello\n"
          ]
        }
      ]
    },
    {
      "cell_type": "code",
      "source": [
        "print = hojun"
      ],
      "metadata": {
        "id": "3mT_BazM7EvJ"
      },
      "execution_count": null,
      "outputs": []
    },
    {
      "cell_type": "code",
      "source": [
        "id(print)"
      ],
      "metadata": {
        "colab": {
          "base_uri": "https://localhost:8080/"
        },
        "id": "Rcd4igKz7TVd",
        "outputId": "23c15dc4-9f31-4012-962d-6aae2d760ea1"
      },
      "execution_count": null,
      "outputs": [
        {
          "output_type": "execute_result",
          "data": {
            "text/plain": [
              "132681909245232"
            ]
          },
          "metadata": {},
          "execution_count": 15
        }
      ]
    },
    {
      "cell_type": "code",
      "source": [
        "print('hello world')"
      ],
      "metadata": {
        "colab": {
          "base_uri": "https://localhost:8080/"
        },
        "id": "BznV4_CE7UJX",
        "outputId": "4879773a-3ef4-4011-c27e-5a590c9b11ae"
      },
      "execution_count": null,
      "outputs": [
        {
          "output_type": "stream",
          "name": "stdout",
          "text": [
            "hello world\n"
          ]
        }
      ]
    },
    {
      "cell_type": "markdown",
      "source": [
        "# lambda (알아야 함)\n",
        "* 변수 = lambda input, output: 실행식\n",
        "* lambda + 3항 연산자 많이 사용"
      ],
      "metadata": {
        "id": "6vFvDK0K7ejm"
      }
    },
    {
      "cell_type": "code",
      "source": [
        "add = lambda x, y: x + y"
      ],
      "metadata": {
        "id": "aD5YvuYD6qDx"
      },
      "execution_count": null,
      "outputs": []
    },
    {
      "cell_type": "code",
      "source": [
        "# lambda 연습 30 개 ***********************\n"
      ],
      "metadata": {
        "id": "gMMIsEGm8t4V"
      },
      "execution_count": null,
      "outputs": []
    },
    {
      "cell_type": "code",
      "source": [
        "x = 10\n",
        "y = True if x % 2 == 0 else False\n",
        "\n",
        "y"
      ],
      "metadata": {
        "id": "DaoSMahM8ma7"
      },
      "execution_count": null,
      "outputs": []
    },
    {
      "cell_type": "code",
      "source": [
        "# 여기 실습 ****************\n",
        "\n",
        "odd = lambda x: x**2\n",
        "print(odd)"
      ],
      "metadata": {
        "colab": {
          "base_uri": "https://localhost:8080/"
        },
        "id": "hfQk2Px6J3ho",
        "outputId": "1a99e9c1-42c5-4f44-ae16-e396768f5740"
      },
      "execution_count": null,
      "outputs": [
        {
          "output_type": "stream",
          "name": "stdout",
          "text": [
            "(<function <lambda> at 0x79aa18a408b0>, 5)\n"
          ]
        }
      ]
    },
    {
      "cell_type": "code",
      "source": [
        "test = list(lambda     )\n"
      ],
      "metadata": {
        "id": "WqdLvyUqKqTV"
      },
      "execution_count": null,
      "outputs": []
    },
    {
      "cell_type": "markdown",
      "source": [
        "## map(lambda + 3항 연산): 순회\n",
        "map 이나 filter 를 사용하면 순회 가능\n"
      ],
      "metadata": {
        "id": "MXPp7S0I9bz5"
      }
    },
    {
      "cell_type": "code",
      "source": [
        "def square(x):                              # 재사용할 수 있을 때는 함수 형태\n",
        "    return x**2\n",
        "\n",
        "list(map(sqaure,[1, 2, 3, 4]))"
      ],
      "metadata": {
        "id": "fNFFuge09bL8"
      },
      "execution_count": null,
      "outputs": []
    },
    {
      "cell_type": "code",
      "source": [
        "# 수식이 복잡해지면 가독성 많이 떨어지게 됨\n",
        "list(map(lambda x: x**2, [1, 2, 3, 4]))     # 재사용이 어려움\n"
      ],
      "metadata": {
        "id": "WjfbmJgh9-Ol"
      },
      "execution_count": null,
      "outputs": []
    },
    {
      "cell_type": "code",
      "source": [
        "# 예를 들면 수평선에서 일정 지점에 점 찍는 것. 마스킹, 마커\n",
        "#  예시: IP 대\n",
        "list(map(lambda x: True if x % 2 == 0 else False, [1, 2, 3, 4]))     # 마스킹\n"
      ],
      "metadata": {
        "colab": {
          "base_uri": "https://localhost:8080/"
        },
        "id": "ZsVW1BFn-uv3",
        "outputId": "4e94646c-3b0c-4f4f-e6a2-33fe513b1eab"
      },
      "execution_count": null,
      "outputs": [
        {
          "output_type": "execute_result",
          "data": {
            "text/plain": [
              "[False, True, False, True]"
            ]
          },
          "metadata": {},
          "execution_count": 4
        }
      ]
    },
    {
      "cell_type": "markdown",
      "source": [
        "## 에라토스테네스의 체 (lambda + 3항 연산자)"
      ],
      "metadata": {
        "id": "GCB27NqRCbAw"
      }
    },
    {
      "cell_type": "code",
      "source": [
        "# 에라토스테네스의 체\n",
        "# 소수: 1보다 큰 자연수 중 1과 자기 자신만을 약수로 가지는 수"
      ],
      "metadata": {
        "id": "hMI335iR_5Yf"
      },
      "execution_count": null,
      "outputs": []
    },
    {
      "cell_type": "code",
      "source": [
        "# [True,    True,  True,  True,  True, True,  True,  True, True,  True ]\n",
        "# [0,     1,      2,      3,      4,      5,      6,      7,      8,      9]\n",
        "\n",
        "# 소수 찾기 위해서 lambda + 3항 연산자 사용하면 훨씬 효율적\n",
        "\n",
        "# [False, False,  True,  True,  False,    True,  False,  True,    False,  False ]\n",
        "# [0,     1,      2,      3,      4,      5,      6,     7,       8,      9]\n",
        "\n"
      ],
      "metadata": {
        "id": "_C4OJVz1_Aan"
      },
      "execution_count": null,
      "outputs": []
    },
    {
      "cell_type": "code",
      "source": [
        "# 알고리즘 문제에서\n",
        "# 얼마나 효율적인지만 봐주시고, 이해는 못하셔도 괜찮습니다.\n",
        "# 복습 X\n",
        "# [True, False, False, False, True]\n",
        "# 에라토스테네스의 체(얼마나 마스킹이 유용한지 알 수 있죠.) => 소수\n",
        "[True,  True,   True    True,   True,   True,   True,   True,   True,   True]\n",
        "[0,     1,      2,      3,      4,      5,      6,      7,      8,      9]"
      ],
      "metadata": {
        "id": "8x2XV5yrF7TR"
      },
      "execution_count": null,
      "outputs": []
    },
    {
      "cell_type": "code",
      "source": [
        "[False, False,  True    True,   True,   True,   True,   True,   True,   True]\n",
        "[0,     1,      2,      3,      4,      5,      6,      7,      8,      9]"
      ],
      "metadata": {
        "id": "A8Iu98jFF_KK"
      },
      "execution_count": null,
      "outputs": []
    },
    {
      "cell_type": "code",
      "source": [
        "# 2가 소수가 되면 2의 배수들은 소수가 아닙니다. => 2의 배수는 모두 False로 만듭니다.\n",
        "[False, False,  True    True,   False,  True,   False,  True,   False,  True]\n",
        "[0,     1,      2,      3,      4,      5,      6,      7,      8,      9]"
      ],
      "metadata": {
        "id": "rJaleec1F8Pc"
      },
      "execution_count": null,
      "outputs": []
    },
    {
      "cell_type": "code",
      "source": [
        "# 이해하지 않으셔도 됩니다.\n",
        "# 복습 X\n",
        "# 지금은 얼마나 마스킹한 값이 효율적인지를 말씀드리기 위한 코드일 뿐입니다.\n",
        "# 30이 소수이냐?\n",
        "\n",
        "for i in range(2, 31):\n",
        "    if 101 % i == 0:\n",
        "        print('소수아님!')\n",
        "        break\n",
        "else: # else 대신 then으로 하자라는 논의가 활발했습니다. => 그러나 else가 이겼습니다.\n",
        "    print('소수임')"
      ],
      "metadata": {
        "id": "bvrGzkNKGD8T"
      },
      "execution_count": null,
      "outputs": []
    },
    {
      "cell_type": "markdown",
      "source": [
        "## map()"
      ],
      "metadata": {
        "id": "6-DzsRSFFpG-"
      }
    },
    {
      "cell_type": "code",
      "source": [
        "# map 복습 *******************"
      ],
      "metadata": {
        "id": "GBtNA3ebFiNH"
      },
      "execution_count": null,
      "outputs": []
    },
    {
      "cell_type": "markdown",
      "source": [
        "## filter(lambda): True 인것만 출력. 순회  "
      ],
      "metadata": {
        "id": "rnvUnO8CFrKP"
      }
    },
    {
      "cell_type": "code",
      "source": [
        "list(filter(lambda x: x % 2 == 0, range(100)))"
      ],
      "metadata": {
        "colab": {
          "base_uri": "https://localhost:8080/"
        },
        "id": "uuYBYjZaFhpT",
        "outputId": "8efae787-766c-41d1-d16d-4bcf66adbdfb"
      },
      "execution_count": null,
      "outputs": [
        {
          "output_type": "execute_result",
          "data": {
            "text/plain": [
              "[0,\n",
              " 2,\n",
              " 4,\n",
              " 6,\n",
              " 8,\n",
              " 10,\n",
              " 12,\n",
              " 14,\n",
              " 16,\n",
              " 18,\n",
              " 20,\n",
              " 22,\n",
              " 24,\n",
              " 26,\n",
              " 28,\n",
              " 30,\n",
              " 32,\n",
              " 34,\n",
              " 36,\n",
              " 38,\n",
              " 40,\n",
              " 42,\n",
              " 44,\n",
              " 46,\n",
              " 48,\n",
              " 50,\n",
              " 52,\n",
              " 54,\n",
              " 56,\n",
              " 58,\n",
              " 60,\n",
              " 62,\n",
              " 64,\n",
              " 66,\n",
              " 68,\n",
              " 70,\n",
              " 72,\n",
              " 74,\n",
              " 76,\n",
              " 78,\n",
              " 80,\n",
              " 82,\n",
              " 84,\n",
              " 86,\n",
              " 88,\n",
              " 90,\n",
              " 92,\n",
              " 94,\n",
              " 96,\n",
              " 98]"
            ]
          },
          "metadata": {},
          "execution_count": 5
        }
      ]
    },
    {
      "cell_type": "code",
      "source": [
        "list(filter(lambda x: x % 3 == 0, range(100)))"
      ],
      "metadata": {
        "colab": {
          "base_uri": "https://localhost:8080/"
        },
        "id": "jwskzQdTGF34",
        "outputId": "02994794-f46e-4989-a68f-b514f92fd04e"
      },
      "execution_count": null,
      "outputs": [
        {
          "output_type": "execute_result",
          "data": {
            "text/plain": [
              "[0,\n",
              " 3,\n",
              " 6,\n",
              " 9,\n",
              " 12,\n",
              " 15,\n",
              " 18,\n",
              " 21,\n",
              " 24,\n",
              " 27,\n",
              " 30,\n",
              " 33,\n",
              " 36,\n",
              " 39,\n",
              " 42,\n",
              " 45,\n",
              " 48,\n",
              " 51,\n",
              " 54,\n",
              " 57,\n",
              " 60,\n",
              " 63,\n",
              " 66,\n",
              " 69,\n",
              " 72,\n",
              " 75,\n",
              " 78,\n",
              " 81,\n",
              " 84,\n",
              " 87,\n",
              " 90,\n",
              " 93,\n",
              " 96,\n",
              " 99]"
            ]
          },
          "metadata": {},
          "execution_count": 7
        }
      ]
    },
    {
      "cell_type": "code",
      "source": [
        "list(filter(lambda x: x > 50 and x < 80, range(100)))"
      ],
      "metadata": {
        "colab": {
          "base_uri": "https://localhost:8080/"
        },
        "id": "xon2bnp-GQcH",
        "outputId": "76a4de80-38b6-4110-ba24-ab534b312c86"
      },
      "execution_count": null,
      "outputs": [
        {
          "output_type": "execute_result",
          "data": {
            "text/plain": [
              "[51,\n",
              " 52,\n",
              " 53,\n",
              " 54,\n",
              " 55,\n",
              " 56,\n",
              " 57,\n",
              " 58,\n",
              " 59,\n",
              " 60,\n",
              " 61,\n",
              " 62,\n",
              " 63,\n",
              " 64,\n",
              " 65,\n",
              " 66,\n",
              " 67,\n",
              " 68,\n",
              " 69,\n",
              " 70,\n",
              " 71,\n",
              " 72,\n",
              " 73,\n",
              " 74,\n",
              " 75,\n",
              " 76,\n",
              " 77,\n",
              " 78,\n",
              " 79]"
            ]
          },
          "metadata": {},
          "execution_count": 8
        }
      ]
    },
    {
      "cell_type": "code",
      "source": [
        "list(list(lambda x: True if x % 3 == 0 or x % 5 == 0 else False, range(100)))"
      ],
      "metadata": {
        "id": "NEJhUVUQGe4Y"
      },
      "execution_count": null,
      "outputs": []
    },
    {
      "cell_type": "code",
      "source": [
        "# [0, 1, 2, 3, 4, 5, 6, 7, 8, 9]\n",
        "list(filter(lambda x: x % 2, range(100)))   # 하나씩 계산 필요\n",
        "\n",
        "# x = 0, x % 2 = 0\n",
        "# x = 1,\n"
      ],
      "metadata": {
        "colab": {
          "base_uri": "https://localhost:8080/"
        },
        "id": "cwa6tIvzHQ-f",
        "outputId": "507cf21a-8480-4d05-f113-60406ae06801"
      },
      "execution_count": null,
      "outputs": [
        {
          "output_type": "execute_result",
          "data": {
            "text/plain": [
              "[1,\n",
              " 3,\n",
              " 5,\n",
              " 7,\n",
              " 9,\n",
              " 11,\n",
              " 13,\n",
              " 15,\n",
              " 17,\n",
              " 19,\n",
              " 21,\n",
              " 23,\n",
              " 25,\n",
              " 27,\n",
              " 29,\n",
              " 31,\n",
              " 33,\n",
              " 35,\n",
              " 37,\n",
              " 39,\n",
              " 41,\n",
              " 43,\n",
              " 45,\n",
              " 47,\n",
              " 49,\n",
              " 51,\n",
              " 53,\n",
              " 55,\n",
              " 57,\n",
              " 59,\n",
              " 61,\n",
              " 63,\n",
              " 65,\n",
              " 67,\n",
              " 69,\n",
              " 71,\n",
              " 73,\n",
              " 75,\n",
              " 77,\n",
              " 79,\n",
              " 81,\n",
              " 83,\n",
              " 85,\n",
              " 87,\n",
              " 89,\n",
              " 91,\n",
              " 93,\n",
              " 95,\n",
              " 97,\n",
              " 99]"
            ]
          },
          "metadata": {},
          "execution_count": 9
        }
      ]
    },
    {
      "cell_type": "markdown",
      "source": [
        "## sorted(lambda) : key, reverse 매우 매우 많이 사용. 코딩테스트 거의 출제"
      ],
      "metadata": {
        "id": "W9VgFDotIL5r"
      }
    },
    {
      "cell_type": "markdown",
      "source": [
        "### sort 많이 사용안함"
      ],
      "metadata": {
        "id": "-Ba7L83cIh63"
      }
    },
    {
      "cell_type": "code",
      "source": [
        "l = [10, 20, 5, 4, 22, 32, 5, 9, 11]\n",
        "l.sort()    # 원본을 변경시키므로 자주 사용하지 않음\n",
        "l"
      ],
      "metadata": {
        "colab": {
          "base_uri": "https://localhost:8080/"
        },
        "id": "f9oyvDG6IllX",
        "outputId": "10bc63cc-da3e-4f43-a682-acb4897636f7"
      },
      "execution_count": null,
      "outputs": [
        {
          "output_type": "execute_result",
          "data": {
            "text/plain": [
              "[4, 5, 5, 9, 10, 11, 20, 22, 32]"
            ]
          },
          "metadata": {},
          "execution_count": 12
        }
      ]
    },
    {
      "cell_type": "markdown",
      "source": [
        "### sorted (원본 변경 없음)\n",
        "* 최대값, 최소값"
      ],
      "metadata": {
        "id": "1g9tBWZaIzyH"
      }
    },
    {
      "cell_type": "code",
      "source": [
        "l = [10, 20, 5, 4, 22, 32, 5, 9, 11]\n",
        "sorted(l)           # sorted 한 결과를 보여주지만\n",
        "l                   # 원본을 변경하지 않음"
      ],
      "metadata": {
        "colab": {
          "base_uri": "https://localhost:8080/"
        },
        "id": "ss2MioFZHSIu",
        "outputId": "6be53ea0-3ba1-489e-b2d5-76c868c2bbf5"
      },
      "execution_count": null,
      "outputs": [
        {
          "output_type": "execute_result",
          "data": {
            "text/plain": [
              "[10, 20, 5, 4, 22, 32, 5, 9, 11]"
            ]
          },
          "metadata": {},
          "execution_count": 14
        }
      ]
    },
    {
      "cell_type": "code",
      "source": [
        "test = lambda i:i % 2 == 0\n",
        "[test(i) for i in range(10)]"
      ],
      "metadata": {
        "id": "9JR7Y8nZI5D2"
      },
      "execution_count": null,
      "outputs": []
    },
    {
      "cell_type": "code",
      "source": [
        "# *********************\n",
        "\n",
        "sorted() # key, reverse 옵션을 정말 정말 많이 사용합니다!\n",
        "# 알고리즘 문제에서 단골 문제이고, sorted 문제는 1문제는 거의 출제된다고 보시면 됩니다.\n",
        "# 최댓값\n",
        "# 최솟값\n",
        "# https://codingdojang.com/scode/408?answer_mode=hide 이것도 최솟값!\n",
        "# https://school.programmers.co.kr/learn/courses/30/lessons/120835 이것도 정렬 문제입니다!"
      ],
      "metadata": {
        "id": "rOqP-_ePLG32"
      },
      "execution_count": null,
      "outputs": []
    },
    {
      "cell_type": "code",
      "source": [
        "반별점수 = [\n",
        "    ['이름', '국어', '영어', '수학'],\n",
        "    ['이름', '국어', '영어', '수학'],\n",
        "    ['이름', '국어', '영어', '수학'],\n",
        "    ['이름', '국어', '영어', '수학'],\n",
        "]"
      ],
      "metadata": {
        "id": "94rThs7hLHGn"
      },
      "execution_count": null,
      "outputs": []
    },
    {
      "cell_type": "code",
      "source": [
        "반별점수 = [\n",
        "    ['홍길동', 30, 55, 22],\n",
        "    ['홍춘향', 55, 60, 73],\n",
        "    ['이철수', 32, 65, 68],\n",
        "    ['이호준', 92, 11, 95],\n",
        "]\n"
      ],
      "metadata": {
        "id": "K7oT9oALLq4-"
      },
      "execution_count": null,
      "outputs": []
    },
    {
      "cell_type": "code",
      "source": [
        "sorted(반별점수)    # 값이나 0번째 값 기준으로 정렬/ 그래서 이름순 정렬.\n",
        "# 한번 실행해야 아래 코드에서 사용"
      ],
      "metadata": {
        "colab": {
          "base_uri": "https://localhost:8080/"
        },
        "id": "9xAOT9FVMGQ9",
        "outputId": "58f4ed02-53e5-41dc-b129-9a34e7b75fde"
      },
      "execution_count": null,
      "outputs": [
        {
          "output_type": "execute_result",
          "data": {
            "text/plain": [
              "[['이철수', 32, 65, 68],\n",
              " ['이호준', 92, 11, 95],\n",
              " ['홍길동', 30, 55, 22],\n",
              " ['홍춘향', 55, 60, 73]]"
            ]
          },
          "metadata": {},
          "execution_count": 20
        }
      ]
    },
    {
      "cell_type": "code",
      "source": [
        "def 함수():\n",
        "    return x[3]     # 수학점수가 하나씩 들어감\n",
        "\n",
        "# sorted(반별점수, key=함수)  # 가장 중요한 것은 이 key 함수의 return 값대로 정렬\n",
        "sorted(반별점수, key=lambda x: x[3])\n"
      ],
      "metadata": {
        "colab": {
          "base_uri": "https://localhost:8080/"
        },
        "id": "RV5NdReSMJnP",
        "outputId": "7222b55d-2d5f-4c15-e82c-528b675bbf20"
      },
      "execution_count": null,
      "outputs": [
        {
          "output_type": "execute_result",
          "data": {
            "text/plain": [
              "[['홍길동', 30, 55, 22],\n",
              " ['이철수', 32, 65, 68],\n",
              " ['홍춘향', 55, 60, 73],\n",
              " ['이호준', 92, 11, 95]]"
            ]
          },
          "metadata": {},
          "execution_count": 22
        }
      ]
    },
    {
      "cell_type": "code",
      "source": [
        "sorted(반별점수, key=lambda x: x[2])\n"
      ],
      "metadata": {
        "colab": {
          "base_uri": "https://localhost:8080/"
        },
        "id": "j6dFzuyuNXCf",
        "outputId": "bbb40133-6545-4a98-fb47-340f00365b9f"
      },
      "execution_count": null,
      "outputs": [
        {
          "output_type": "execute_result",
          "data": {
            "text/plain": [
              "[['이호준', 92, 11, 95],\n",
              " ['홍길동', 30, 55, 22],\n",
              " ['홍춘향', 55, 60, 73],\n",
              " ['이철수', 32, 65, 68]]"
            ]
          },
          "metadata": {},
          "execution_count": 23
        }
      ]
    },
    {
      "cell_type": "code",
      "source": [
        "반별점수2 = [\n",
        "    [\"짱구\", 30, 55, 22],\n",
        "    [\"맹구\", 55, 60, 73],\n",
        "    [\"철수\", 32, 65, 68],\n",
        "    [\"유리\", 92, 11, 95],\n",
        "]\n",
        "sorted(반별점수2)       # 그냥 실행하면, 0번째 자리=이름, unicode 표 순서대로"
      ],
      "metadata": {
        "colab": {
          "base_uri": "https://localhost:8080/"
        },
        "id": "efJeGW8PN9rJ",
        "outputId": "40fba703-9b44-48d7-f5e9-dd8a3ced899d"
      },
      "execution_count": null,
      "outputs": [
        {
          "output_type": "execute_result",
          "data": {
            "text/plain": [
              "[['맹구', 55, 60, 73],\n",
              " ['유리', 92, 11, 95],\n",
              " ['짱구', 30, 55, 22],\n",
              " ['철수', 32, 65, 68]]"
            ]
          },
          "metadata": {},
          "execution_count": 24
        }
      ]
    },
    {
      "cell_type": "code",
      "source": [
        "# 국, 영, 수 평균 순으로 정렬\n",
        "\n",
        "sorted(반별점수, key=lambda x: (x[1]+x[2]+x[3]))  # 나눌 필요 없음. 총점으로 내림차순 정렬\n",
        "sorted(반별점수, key=lambda x: (x[1]+x[2]+x[3]), reverse=True)  # 높은 점수순 정렬"
      ],
      "metadata": {
        "colab": {
          "base_uri": "https://localhost:8080/"
        },
        "id": "BmE9T8XMQOmx",
        "outputId": "23d85b9b-d209-4768-c80f-b022d3c2468b"
      },
      "execution_count": null,
      "outputs": [
        {
          "output_type": "execute_result",
          "data": {
            "text/plain": [
              "[['이호준', 92, 11, 95],\n",
              " ['홍춘향', 55, 60, 73],\n",
              " ['이철수', 32, 65, 68],\n",
              " ['홍길동', 30, 55, 22]]"
            ]
          },
          "metadata": {},
          "execution_count": 26
        }
      ]
    },
    {
      "cell_type": "code",
      "source": [
        "# 살짝 어려운 문제\n",
        "# 수학 점수 높은, 평균점수 높은 순\n",
        "sorted(반별점수, key=lambda x: (x[1]+x[2]+x[3], x[3]), reverse = True)\n",
        "sorted(반별점수, key=lambda x: (x[1]+x[2]+x[3], x[3], x[0]), reverse = True)    # 조건 순 정렬"
      ],
      "metadata": {
        "colab": {
          "base_uri": "https://localhost:8080/"
        },
        "id": "t9DyUHacRIFR",
        "outputId": "f604b18c-938d-431e-cce6-bfe415f44d0a"
      },
      "execution_count": null,
      "outputs": [
        {
          "output_type": "execute_result",
          "data": {
            "text/plain": [
              "[['이호준', 92, 11, 95],\n",
              " ['홍춘향', 55, 60, 73],\n",
              " ['이철수', 32, 65, 68],\n",
              " ['홍길동', 30, 55, 22]]"
            ]
          },
          "metadata": {},
          "execution_count": 28
        }
      ]
    },
    {
      "cell_type": "code",
      "source": [
        "우편번호 = [\n",
        "    {\n",
        "    '주소': '경기도 용인시',\n",
        "    '우편번호': 321\n",
        "    },\n",
        "    {\n",
        "    '주소': '경기도 수원시',\n",
        "    '우편번호': 355\n",
        "    },\n",
        "    {\n",
        "    '주소': '제주도 제주시',\n",
        "    '우편번호': 333\n",
        "    }\n",
        "]\n",
        "\n",
        "# sorted(우편번호)        # 딕셔너리 비교 불가능\n",
        "sorted(우편번호, key=lambda x: x['우편번호'])"
      ],
      "metadata": {
        "colab": {
          "base_uri": "https://localhost:8080/"
        },
        "id": "GOsCrlu3Ta93",
        "outputId": "0eebb19e-aafe-4f74-f833-1d2aaf1efaa7"
      },
      "execution_count": null,
      "outputs": [
        {
          "output_type": "execute_result",
          "data": {
            "text/plain": [
              "[{'주소': '경기도 용인시', '우편번호': 321},\n",
              " {'주소': '제주도 제주시', '우편번호': 333},\n",
              " {'주소': '경기도 수원시', '우편번호': 355}]"
            ]
          },
          "metadata": {},
          "execution_count": 31
        }
      ]
    },
    {
      "cell_type": "markdown",
      "source": [
        "## sorted + zip"
      ],
      "metadata": {
        "id": "W3zS4qZ5WGPV"
      }
    },
    {
      "cell_type": "code",
      "source": [
        "# 다음 코딩테스트\n",
        "# 직선에 있는 점의 좌표\n",
        "# 점과 점 사이가 가장 짧은 점의 쌍을 출려\n",
        "\n",
        "# 입력값: s = [1, 3, 4, 8, 13, 17, 20]\n",
        "# 출력값: (3, 4)\n",
        "\n",
        "s = [1, 3, 4, 8, 13, 17, 20]\n",
        "s[1:]                       # slicing 해서\n",
        "\n",
        "x = list(zip(s, s[1:]))         # 쌍으로 묶음.\n",
        "\n",
        "x\n",
        "\n",
        "sorted(x, key=lambda x: (x[1]-x[0]))               # 거리 짧은 순 정렬\n",
        "sorted(x, key=lambda x: (x[1]-x[0]))[0]            # 정답"
      ],
      "metadata": {
        "colab": {
          "base_uri": "https://localhost:8080/"
        },
        "id": "9TVphJqfUfYI",
        "outputId": "51ad380c-5ebd-424f-8283-007fa0970a0e"
      },
      "execution_count": null,
      "outputs": [
        {
          "output_type": "execute_result",
          "data": {
            "text/plain": [
              "(3, 4)"
            ]
          },
          "metadata": {},
          "execution_count": 43
        }
      ]
    },
    {
      "cell_type": "markdown",
      "source": [
        "## 자주 사용 코드"
      ],
      "metadata": {
        "id": "X15LGBJ-WmmF"
      }
    },
    {
      "cell_type": "code",
      "source": [
        "list(zip('hello', 'world'))"
      ],
      "metadata": {
        "colab": {
          "base_uri": "https://localhost:8080/"
        },
        "id": "xAkJVa_jWld8",
        "outputId": "204f5296-e886-4e1b-ae53-bbb87c08ea33"
      },
      "execution_count": null,
      "outputs": [
        {
          "output_type": "execute_result",
          "data": {
            "text/plain": [
              "[('h', 'w'), ('e', 'o'), ('l', 'r'), ('l', 'l'), ('o', 'd')]"
            ]
          },
          "metadata": {},
          "execution_count": 33
        }
      ]
    },
    {
      "cell_type": "markdown",
      "source": [
        "## 자주 사용 안함"
      ],
      "metadata": {
        "id": "7jg48bKNWxDq"
      }
    },
    {
      "cell_type": "code",
      "source": [
        "list(enumerate(zip('hello', 'world')))  # eunumerate 로 순서를 붙이면 자료 형태가 다름"
      ],
      "metadata": {
        "colab": {
          "base_uri": "https://localhost:8080/"
        },
        "id": "f6M0-_yXWW8Y",
        "outputId": "4668bc26-e05c-489d-d6c9-ad7206c46c75"
      },
      "execution_count": null,
      "outputs": [
        {
          "output_type": "execute_result",
          "data": {
            "text/plain": [
              "[(0, ('h', 'w')),\n",
              " (1, ('e', 'o')),\n",
              " (2, ('l', 'r')),\n",
              " (3, ('l', 'l')),\n",
              " (4, ('o', 'd'))]"
            ]
          },
          "metadata": {},
          "execution_count": 36
        }
      ]
    },
    {
      "cell_type": "markdown",
      "source": [
        "## generator 만들어서 사용 (심화)"
      ],
      "metadata": {
        "id": "gzY66qY4W9oV"
      }
    },
    {
      "cell_type": "code",
      "source": [
        "def gen():\n",
        "    i = 1\n",
        "    while True:\n",
        "        yield i\n",
        "        i += 1\n",
        "\n",
        "list(zip(gen(), 'hello', 'world'))"
      ],
      "metadata": {
        "colab": {
          "base_uri": "https://localhost:8080/"
        },
        "id": "Ru7STjrMW9Fh",
        "outputId": "1cd34575-151c-412e-93e4-7d69d02fcb55"
      },
      "execution_count": null,
      "outputs": [
        {
          "output_type": "execute_result",
          "data": {
            "text/plain": [
              "[(1, 'h', 'w'), (2, 'e', 'o'), (3, 'l', 'r'), (4, 'l', 'l'), (5, 'o', 'd')]"
            ]
          },
          "metadata": {},
          "execution_count": 35
        }
      ]
    },
    {
      "cell_type": "markdown",
      "source": [
        "# built-in functions"
      ],
      "metadata": {
        "id": "9hdLHaI_ZFwD"
      }
    },
    {
      "cell_type": "markdown",
      "source": [
        "## chr(), ord() - 덜 중요"
      ],
      "metadata": {
        "id": "n4VToAnAZQDA"
      }
    },
    {
      "cell_type": "markdown",
      "source": [
        "유니코드 가로 세로 합쳐서 읽음\n",
        "\n",
        "![image.png](data:image/png;base64,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)\n"
      ],
      "metadata": {
        "id": "hpEohEHkZdBW"
      }
    },
    {
      "cell_type": "code",
      "source": [
        "chr(65)     # 별표 0.1 개\n",
        "# 41 이 아니고 65인 이유?\n",
        "#"
      ],
      "metadata": {
        "colab": {
          "base_uri": "https://localhost:8080/",
          "height": 36
        },
        "id": "T1p_z0yFW6to",
        "outputId": "3f5ef331-0f44-4305-f306-3af19080341a"
      },
      "execution_count": null,
      "outputs": [
        {
          "output_type": "execute_result",
          "data": {
            "text/plain": [
              "'A'"
            ],
            "application/vnd.google.colaboratory.intrinsic+json": {
              "type": "string"
            }
          },
          "metadata": {},
          "execution_count": 44
        }
      ]
    },
    {
      "cell_type": "code",
      "source": [
        "max([10, 20, 30])"
      ],
      "metadata": {
        "colab": {
          "base_uri": "https://localhost:8080/"
        },
        "id": "0bTw04LzZ0JM",
        "outputId": "73ee5d58-eb78-4fa7-cbc5-428d5f6c6cdf"
      },
      "execution_count": null,
      "outputs": [
        {
          "output_type": "execute_result",
          "data": {
            "text/plain": [
              "30"
            ]
          },
          "metadata": {},
          "execution_count": 45
        }
      ]
    },
    {
      "cell_type": "code",
      "source": [
        "min([10, 20, 30])"
      ],
      "metadata": {
        "colab": {
          "base_uri": "https://localhost:8080/"
        },
        "id": "V9RD3k7daJCg",
        "outputId": "8c70f613-54a2-428f-cabe-a835b73c8515"
      },
      "execution_count": null,
      "outputs": [
        {
          "output_type": "execute_result",
          "data": {
            "text/plain": [
              "10"
            ]
          },
          "metadata": {},
          "execution_count": 46
        }
      ]
    },
    {
      "cell_type": "code",
      "source": [
        "sum([10, 20, 30])       # sum([10, 20, 30], 0)   같음\n",
        "\n",
        "sum([10, 20, 30])\n",
        "sum([10, 20, 30], 100)\n",
        "sum([[1, 2, 3], [4, 5, 6]], [])"
      ],
      "metadata": {
        "colab": {
          "base_uri": "https://localhost:8080/"
        },
        "id": "YWY1lxZ1aLKx",
        "outputId": "684d1d82-64c9-4212-9c34-c5bfffb7c68a"
      },
      "execution_count": null,
      "outputs": [
        {
          "output_type": "execute_result",
          "data": {
            "text/plain": [
              "[1, 2, 3, 4, 5, 6]"
            ]
          },
          "metadata": {},
          "execution_count": 47
        }
      ]
    },
    {
      "cell_type": "code",
      "source": [
        "\n",
        "sum([[1, 2, 3], [4, 5, 6]], [])\n",
        "\n",
        "# [] + [1, 2, 3] == [1, 2, 3]\n",
        "# [1, 2, 3] + [4, 5, 6] == [1, 2, 3, 4, 5, 6]\n"
      ],
      "metadata": {
        "id": "BqL6hgEQahNR"
      },
      "execution_count": null,
      "outputs": []
    },
    {
      "cell_type": "markdown",
      "source": [
        "## print() , repr()\n"
      ],
      "metadata": {
        "id": "dmXD-M6pesKL"
      }
    },
    {
      "cell_type": "code",
      "source": [
        "a = 10\n",
        "print(a)    # a.__str__\n",
        "a           # a.__repr__\n",
        "repr(a)     # a.__repr__"
      ],
      "metadata": {
        "colab": {
          "base_uri": "https://localhost:8080/",
          "height": 53
        },
        "id": "HQZDXIEPeOYK",
        "outputId": "93415d68-a647-4039-ec3a-0d8e43c26762"
      },
      "execution_count": null,
      "outputs": [
        {
          "output_type": "stream",
          "name": "stdout",
          "text": [
            "10\n"
          ]
        },
        {
          "output_type": "execute_result",
          "data": {
            "text/plain": [
              "'10'"
            ],
            "application/vnd.google.colaboratory.intrinsic+json": {
              "type": "string"
            }
          },
          "metadata": {},
          "execution_count": 48
        }
      ]
    },
    {
      "cell_type": "code",
      "source": [
        "# 실제 Django 에서 사용하는 코드\n",
        "\n",
        "class Notice:\n",
        "    '''\n",
        "    게시물 클래스\n",
        "    '''\n",
        "    def __init__(self, title, contents):\n",
        "        self.title = title\n",
        "        self.contents = contents\n",
        "\n",
        "    def __str__(self):\n",
        "        return self.title\n",
        "\n",
        "    def __repr__(self):             # 정해져 있는 것 사용\n",
        "        return f'{self.title}, {self.contents}'\n",
        "\n",
        "    def __len__(self):\n",
        "        # return 100\n",
        "        return len(self.title + self.contents)"
      ],
      "metadata": {
        "id": "SsrGwOITfA4R"
      },
      "execution_count": null,
      "outputs": []
    },
    {
      "cell_type": "code",
      "source": [
        "게시물1 = Notice('파이썬 이렇게 어려운줄 몰랐다!', '내가 알던 파이썬이 아니야....')\n",
        "게시물2 = Notice('Django는 이렇게 재미있을 줄 몰랐다!', '파이썬을 잘 못해서 내가 할 수 있을까 생각이 들었는데...')\n",
        "\n",
        "print(게시물1)      # 로그로 출력시 주로 사용"
      ],
      "metadata": {
        "colab": {
          "base_uri": "https://localhost:8080/"
        },
        "id": "Kit_H_ObgXD6",
        "outputId": "5651358e-e2ce-4f65-d44a-a2c9a2ef2a2c"
      },
      "execution_count": null,
      "outputs": [
        {
          "output_type": "stream",
          "name": "stdout",
          "text": [
            "파이썬 이렇게 어려운줄 몰랐다!\n"
          ]
        }
      ]
    },
    {
      "cell_type": "code",
      "source": [
        "repr(게시물1)       # 자료형을 대표하는 문자열 취급 *************"
      ],
      "metadata": {
        "colab": {
          "base_uri": "https://localhost:8080/",
          "height": 36
        },
        "id": "3eGWeQlrgYLB",
        "outputId": "13b007a7-deb7-43c1-f4fa-809e5dc9d938"
      },
      "execution_count": null,
      "outputs": [
        {
          "output_type": "execute_result",
          "data": {
            "text/plain": [
              "'파이썬 이렇게 어려운줄 몰랐다!, 내가 알던 파이썬이 아니야....'"
            ],
            "application/vnd.google.colaboratory.intrinsic+json": {
              "type": "string"
            }
          },
          "metadata": {},
          "execution_count": 51
        }
      ]
    },
    {
      "cell_type": "code",
      "source": [
        "게시물1 = Notice('파이썬 이렇게 어려운줄 몰랐다!', '내가 알던 파이썬이 아니야....')\n",
        "len(게시물1)"
      ],
      "metadata": {
        "colab": {
          "base_uri": "https://localhost:8080/"
        },
        "id": "pMWT9kzIjwy7",
        "outputId": "f8325c22-c821-4d15-dca0-fe6eb82a3d53"
      },
      "execution_count": null,
      "outputs": [
        {
          "output_type": "execute_result",
          "data": {
            "text/plain": [
              "35"
            ]
          },
          "metadata": {},
          "execution_count": 63
        }
      ]
    },
    {
      "cell_type": "markdown",
      "source": [
        "## range()\n",
        "* Python 2.x 이 현업에서 많이 쓰임\n",
        "* match 는 3.10 에서 나옴\n"
      ],
      "metadata": {
        "id": "Bcs6ADW-hABj"
      }
    },
    {
      "cell_type": "code",
      "source": [
        "print(type(range(10)))      # Python 2.X 에선 리스트형. 현재는 range 타입\n"
      ],
      "metadata": {
        "colab": {
          "base_uri": "https://localhost:8080/"
        },
        "id": "FRsNc_tkgmzw",
        "outputId": "8eff6ce4-f012-4473-8418-4643f4017f2b"
      },
      "execution_count": null,
      "outputs": [
        {
          "output_type": "stream",
          "name": "stdout",
          "text": [
            "<class 'range'>\n"
          ]
        }
      ]
    },
    {
      "cell_type": "code",
      "source": [
        "print(range(10))"
      ],
      "metadata": {
        "colab": {
          "base_uri": "https://localhost:8080/"
        },
        "id": "LejwD3IchEwx",
        "outputId": "b56ac55d-1eee-4a6e-c643-3f955e12bea3"
      },
      "execution_count": null,
      "outputs": [
        {
          "output_type": "stream",
          "name": "stdout",
          "text": [
            "range(0, 10)\n"
          ]
        }
      ]
    },
    {
      "cell_type": "code",
      "source": [
        "range(10)"
      ],
      "metadata": {
        "colab": {
          "base_uri": "https://localhost:8080/"
        },
        "id": "l_wiNUvviAhi",
        "outputId": "c455bcf5-0fbe-4ae2-edca-c85fd1ffb17c"
      },
      "execution_count": null,
      "outputs": [
        {
          "output_type": "execute_result",
          "data": {
            "text/plain": [
              "range(0, 10)"
            ]
          },
          "metadata": {},
          "execution_count": 56
        }
      ]
    },
    {
      "cell_type": "code",
      "source": [
        "type(range(10))"
      ],
      "metadata": {
        "colab": {
          "base_uri": "https://localhost:8080/"
        },
        "id": "gMWjPfM2iDUY",
        "outputId": "08e8636a-b018-4b82-d39b-d4bf6e82be75"
      },
      "execution_count": null,
      "outputs": [
        {
          "output_type": "execute_result",
          "data": {
            "text/plain": [
              "range"
            ]
          },
          "metadata": {},
          "execution_count": 57
        }
      ]
    },
    {
      "cell_type": "code",
      "source": [
        "# range(10000000000) ==> version 2.x 에서는 리스트 였으니까 메모리를 범위의 갯수만큼 한 번에 생성해야 함\n",
        "# 이것을 개선하고자 2.x 에서 xrange 만듬. 현재값과 다음값만을 가지고 있음. 메모리 공간은 2칸(실제는 더 많음)\n",
        "# 예를 들어\n",
        "\n",
        "# class range(10000000000)\n",
        "# for i in range(1000):       # 0, 1만 가지고 있음\n",
        "#     pass\n",
        "\n",
        "list(range(1000))           # 형변환은 메모리에 큰 부하"
      ],
      "metadata": {
        "id": "MJC_Qr5TiP5E"
      },
      "execution_count": null,
      "outputs": []
    },
    {
      "cell_type": "code",
      "source": [
        "sum(range(1000))"
      ],
      "metadata": {
        "colab": {
          "base_uri": "https://localhost:8080/"
        },
        "id": "5HpSj-3qja_h",
        "outputId": "6b7bdca3-c677-46e5-8730-26944f41c806"
      },
      "execution_count": null,
      "outputs": [
        {
          "output_type": "execute_result",
          "data": {
            "text/plain": [
              "499500"
            ]
          },
          "metadata": {},
          "execution_count": 58
        }
      ]
    },
    {
      "cell_type": "code",
      "source": [
        "sum(list(range(1000)))      # 메모리"
      ],
      "metadata": {
        "colab": {
          "base_uri": "https://localhost:8080/"
        },
        "id": "XgYuKcwPjczx",
        "outputId": "39ce2ecf-c9db-4490-8eda-982c12989c31"
      },
      "execution_count": null,
      "outputs": [
        {
          "output_type": "execute_result",
          "data": {
            "text/plain": [
              "499500"
            ]
          },
          "metadata": {},
          "execution_count": 59
        }
      ]
    },
    {
      "cell_type": "code",
      "source": [
        "values = ['A', 'B', 'C', 'D']\n",
        "print(list(enumerate(values)))\n",
        "print(list(enumerate(values, 1)))   # 시작값 넣는 것 많이 사용합니다. 기억해두세요.\n",
        "print(list(enumerate(values, 100)))\n"
      ],
      "metadata": {
        "colab": {
          "base_uri": "https://localhost:8080/"
        },
        "id": "Av-GrOACjh2D",
        "outputId": "319bfe2b-a4e5-40b4-9ef3-941e7443ce23"
      },
      "execution_count": null,
      "outputs": [
        {
          "output_type": "stream",
          "name": "stdout",
          "text": [
            "[(0, 'A'), (1, 'B'), (2, 'C'), (3, 'D')]\n",
            "[(1, 'A'), (2, 'B'), (3, 'C'), (4, 'D')]\n",
            "[(100, 'A'), (101, 'B'), (102, 'C'), (103, 'D')]\n"
          ]
        }
      ]
    },
    {
      "cell_type": "markdown",
      "source": [
        "## sorted() reversed()\n",
        "* sorted 만 비효율을 감수하고 사용자가 보기 편한 자료형으로 반환"
      ],
      "metadata": {
        "id": "nredezz-ldHs"
      }
    },
    {
      "cell_type": "code",
      "source": [
        "sorted([1, 2, 3, 4, 5])     # sorted 는 리스트를 반환"
      ],
      "metadata": {
        "colab": {
          "base_uri": "https://localhost:8080/"
        },
        "id": "OTCYkDKmlxVA",
        "outputId": "b4156914-1cac-40c9-be22-48f57dc18bb8"
      },
      "execution_count": null,
      "outputs": [
        {
          "output_type": "execute_result",
          "data": {
            "text/plain": [
              "[1, 2, 3, 4, 5]"
            ]
          },
          "metadata": {},
          "execution_count": 72
        }
      ]
    },
    {
      "cell_type": "code",
      "source": [
        "type(sorted([1, 2, 3, 4, 5]))"
      ],
      "metadata": {
        "colab": {
          "base_uri": "https://localhost:8080/"
        },
        "id": "kJwBmkeDl8lQ",
        "outputId": "75181b89-adcd-4011-d507-028fba9f66ac"
      },
      "execution_count": null,
      "outputs": [
        {
          "output_type": "execute_result",
          "data": {
            "text/plain": [
              "list"
            ]
          },
          "metadata": {},
          "execution_count": 73
        }
      ]
    },
    {
      "cell_type": "code",
      "source": [
        "sorted((1, 2, 3, 4, 5))     # 튜플로 줘도 리스트로 반환"
      ],
      "metadata": {
        "colab": {
          "base_uri": "https://localhost:8080/"
        },
        "id": "I2rwY2d2lnJ8",
        "outputId": "7fa93f77-0922-4026-de5b-afd61531774e"
      },
      "execution_count": null,
      "outputs": [
        {
          "output_type": "execute_result",
          "data": {
            "text/plain": [
              "[1, 2, 3, 4, 5]"
            ]
          },
          "metadata": {},
          "execution_count": 71
        }
      ]
    },
    {
      "cell_type": "code",
      "source": [
        "list(reversed('hello world'))\n",
        "list(reversed([1, 2, 3, 10, 5, 4])) # 역 정렬 아닙니다! 역순입니다.\n",
        "list(reversed(sorted([1, 2, 3, 10, 5, 4])))"
      ],
      "metadata": {
        "colab": {
          "base_uri": "https://localhost:8080/"
        },
        "id": "mq1MP2xkk_a5",
        "outputId": "bdc0b55b-a28b-4774-a737-dd7b77d5b54b"
      },
      "execution_count": null,
      "outputs": [
        {
          "output_type": "execute_result",
          "data": {
            "text/plain": [
              "[10, 5, 4, 3, 2, 1]"
            ]
          },
          "metadata": {},
          "execution_count": 67
        }
      ]
    },
    {
      "cell_type": "code",
      "source": [
        "list(reversed([1, 2, 3, 10, 5, 4]))     # 역순"
      ],
      "metadata": {
        "colab": {
          "base_uri": "https://localhost:8080/"
        },
        "id": "LxdO_pZVlMiX",
        "outputId": "36e5ecc7-750b-4a55-f6d2-5c6b76f36ab9"
      },
      "execution_count": null,
      "outputs": [
        {
          "output_type": "execute_result",
          "data": {
            "text/plain": [
              "[4, 5, 10, 3, 2, 1]"
            ]
          },
          "metadata": {},
          "execution_count": 69
        }
      ]
    },
    {
      "cell_type": "code",
      "source": [
        "reversed([1, 2, 3, 10, 5, 4])"
      ],
      "metadata": {
        "colab": {
          "base_uri": "https://localhost:8080/"
        },
        "id": "8x0HJfwQlQdq",
        "outputId": "2f7f3b0c-15cb-4a50-baf0-f574cec80c29"
      },
      "execution_count": null,
      "outputs": [
        {
          "output_type": "execute_result",
          "data": {
            "text/plain": [
              "<list_reverseiterator at 0x79aa18c0e320>"
            ]
          },
          "metadata": {},
          "execution_count": 70
        }
      ]
    },
    {
      "cell_type": "code",
      "source": [
        "l = [3, 2, 1, 5, 4]\n",
        "print(l.sort())\n",
        "print(l)"
      ],
      "metadata": {
        "colab": {
          "base_uri": "https://localhost:8080/"
        },
        "id": "9d6HejawkqVr",
        "outputId": "3d3f2b3a-a0fd-48ea-b4b7-390f616643f8"
      },
      "execution_count": null,
      "outputs": [
        {
          "output_type": "stream",
          "name": "stdout",
          "text": [
            "None\n",
            "[1, 2, 3, 4, 5]\n"
          ]
        }
      ]
    },
    {
      "cell_type": "code",
      "source": [
        "l = [3, 2, 1, 5, 4]\n",
        "print(l.reverse())\n",
        "print(l)\n"
      ],
      "metadata": {
        "colab": {
          "base_uri": "https://localhost:8080/"
        },
        "id": "PjluEkK8k1QR",
        "outputId": "7089b7c8-59a1-4b7f-f6d6-0b64e72e181c"
      },
      "execution_count": null,
      "outputs": [
        {
          "output_type": "stream",
          "name": "stdout",
          "text": [
            "None\n",
            "[4, 5, 1, 2, 3]\n"
          ]
        }
      ]
    },
    {
      "cell_type": "markdown",
      "source": [
        "## match\n",
        "* 2024 년에는 중요도 별표 0.5개. 현업에서 사용 거의 못하니까\n",
        "* 2 ~ 3년 후에는 중요도가 별표 3 ~ 4개 정도로 올라갈 것\n",
        "* 속도가 if 보다 훨씬 빠름\n",
        "* 퍼포먼스 문제가 있다면 match 를 사용할 수는 있지만, 동료들이 익숙치 않아서 적용 어렵다. v3.10 이상\n"
      ],
      "metadata": {
        "id": "bNclrwI0mAMz"
      }
    },
    {
      "cell_type": "code",
      "source": [
        "요일 = 3\n",
        "match 요일:\n",
        "    case 0:\n",
        "        print('일요일')\n",
        "    case 1:\n",
        "        print('월요일')\n",
        "    case 2:\n",
        "        print('화요일')\n",
        "    case 3:\n",
        "        print('수요일')\n",
        "    case 4:\n",
        "        print('목요일')\n",
        "    case 5:\n",
        "        print('금요일')\n",
        "    case 6:\n",
        "        print('토요일')\n",
        "    case _:\n",
        "        print('요일없음')"
      ],
      "metadata": {
        "colab": {
          "base_uri": "https://localhost:8080/"
        },
        "id": "zo1mA9Yhk3gJ",
        "outputId": "c2a11677-8629-4eca-c8ef-a838baa9df19"
      },
      "execution_count": null,
      "outputs": [
        {
          "output_type": "stream",
          "name": "stdout",
          "text": [
            "수요일\n"
          ]
        }
      ]
    },
    {
      "cell_type": "code",
      "source": [
        "요일 = 3\n",
        "match 요일:\n",
        "    case 0:\n",
        "        print('일요일')\n",
        "    case 1:\n",
        "        print('월요일')\n",
        "    case 2:\n",
        "        print('화요일')\n",
        "    case 3:\n",
        "        # print('수요일')               # 에러 발생. 다른 언어에서는 3, 4를 한번에 정의 가능.\n",
        "    case 4:\n",
        "        print('목요일')             # case 3, 4 를 같은 값으로 하려면 똑같이 두번 적어야 함.\n",
        "    case 5:\n",
        "        print('금요일')\n",
        "    case 6:\n",
        "        print('토요일')\n",
        "    case _:\n",
        "        print('요일없음')"
      ],
      "metadata": {
        "colab": {
          "base_uri": "https://localhost:8080/",
          "height": 145
        },
        "id": "4mR1L1LCnkPj",
        "outputId": "a3917e30-3287-468a-a33a-79c6592541c1"
      },
      "execution_count": null,
      "outputs": [
        {
          "output_type": "error",
          "ename": "IndentationError",
          "evalue": "expected an indented block after 'case' statement on line 9 (<ipython-input-77-dfe8bd8a44fd>, line 11)",
          "traceback": [
            "\u001b[0;36m  File \u001b[0;32m\"<ipython-input-77-dfe8bd8a44fd>\"\u001b[0;36m, line \u001b[0;32m11\u001b[0m\n\u001b[0;31m    case 4:\u001b[0m\n\u001b[0m    ^\u001b[0m\n\u001b[0;31mIndentationError\u001b[0m\u001b[0;31m:\u001b[0m expected an indented block after 'case' statement on line 9\n"
          ]
        }
      ]
    },
    {
      "cell_type": "code",
      "source": [
        "text = '1'\n",
        "match text:\n",
        "    case '1' | '2':\n",
        "        print('1, 2')\n",
        "    case _:\n",
        "        print('No Match')"
      ],
      "metadata": {
        "colab": {
          "base_uri": "https://localhost:8080/"
        },
        "id": "4b8I_bWPoeQH",
        "outputId": "fb40585f-3f33-4ea2-c6dc-fb26752b92df"
      },
      "execution_count": null,
      "outputs": [
        {
          "output_type": "stream",
          "name": "stdout",
          "text": [
            "1, 2\n"
          ]
        }
      ]
    },
    {
      "cell_type": "markdown",
      "source": [
        "## .get()"
      ],
      "metadata": {
        "id": "kso3r3Q08HTL"
      }
    },
    {
      "cell_type": "code",
      "source": [
        "# 여러분들은 오히려 이런 코드보다 아래 코드를 더 많이 만나게 되실겁니다.\n",
        "def 요일반환(요일):\n",
        "    return {\n",
        "        0: '일요일',\n",
        "        1: '월요일',\n",
        "        2: '화요일',\n",
        "        3: '수요일',\n",
        "        }.get(요일, '요일없음')\n",
        "\n",
        "요일반환(2)\n",
        "요일반환(100)"
      ],
      "metadata": {
        "colab": {
          "base_uri": "https://localhost:8080/",
          "height": 36
        },
        "id": "tm7hBjzFoxA6",
        "outputId": "96bbe173-14bf-4586-d0d6-75a669e3b927"
      },
      "execution_count": null,
      "outputs": [
        {
          "output_type": "execute_result",
          "data": {
            "text/plain": [
              "'요일없음'"
            ],
            "application/vnd.google.colaboratory.intrinsic+json": {
              "type": "string"
            }
          },
          "metadata": {},
          "execution_count": 82
        }
      ]
    },
    {
      "cell_type": "code",
      "source": [],
      "metadata": {
        "id": "YMlneeOe5jg7"
      },
      "execution_count": null,
      "outputs": []
    }
  ]
}
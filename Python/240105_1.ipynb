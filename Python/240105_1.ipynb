{
  "nbformat": 4,
  "nbformat_minor": 0,
  "metadata": {
    "colab": {
      "provenance": [],
      "authorship_tag": "ABX9TyN3sH2LPP9jFOWl2jYe7jho",
      "include_colab_link": true
    },
    "kernelspec": {
      "name": "python3",
      "display_name": "Python 3"
    },
    "language_info": {
      "name": "python"
    }
  },
  "cells": [
    {
      "cell_type": "markdown",
      "metadata": {
        "id": "view-in-github",
        "colab_type": "text"
      },
      "source": [
        "<a href=\"https://colab.research.google.com/github/northeast23/orm/blob/main/240105_1.ipynb\" target=\"_parent\"><img src=\"https://colab.research.google.com/assets/colab-badge.svg\" alt=\"Open In Colab\"/></a>"
      ]
    },
    {
      "cell_type": "markdown",
      "source": [
        "# 리스트\n",
        "\n",
        "* Python 에서 모든 것은 객체. 모든 데이터 타입이 객체로 관리됨.\n",
        "* 리스트는 객체들의 참조를 저장하는 컨테이너.\n",
        "* 그래서 리스트자체, 리스트내의 item 들이 주소값을 가지고 있고. 주소 값에 가면 value 가 있다.\n",
        "* Python [list] 의 각 주소들은 연속적이지 않다. (C 언어에서는 연속값으로 주소를 갖는다)\n",
        "* 다양한 데이터를 관리할 수 있어 효율적이나 단점은 참조를 저장하기위한 메모리가 추가적으로 필요. 메모리 사용, 속도 문제\n",
        "==> trade off\n",
        "\n"
      ],
      "metadata": {
        "id": "qaXMWM6z7UdC"
      }
    },
    {
      "cell_type": "markdown",
      "source": [
        "## 접근 시간 (시간복잡도 O(l) )\n"
      ],
      "metadata": {
        "id": "e1cNezW6EnEM"
      }
    },
    {
      "cell_type": "code",
      "source": [],
      "metadata": {
        "id": "-iiJOAQzFGDh"
      },
      "execution_count": null,
      "outputs": []
    },
    {
      "cell_type": "markdown",
      "source": [
        "## 리스트"
      ],
      "metadata": {
        "id": "pF_EiV24FGda"
      }
    },
    {
      "cell_type": "code",
      "source": [
        "a = [1, 2, 3]\n",
        "dir(a)"
      ],
      "metadata": {
        "colab": {
          "base_uri": "https://localhost:8080/"
        },
        "id": "r7SE4ABqEmir",
        "outputId": "b48f8a82-dcc3-4433-926c-7a19792105fc"
      },
      "execution_count": null,
      "outputs": [
        {
          "output_type": "execute_result",
          "data": {
            "text/plain": [
              "['__add__',\n",
              " '__class__',\n",
              " '__class_getitem__',\n",
              " '__contains__',\n",
              " '__delattr__',\n",
              " '__delitem__',\n",
              " '__dir__',\n",
              " '__doc__',\n",
              " '__eq__',\n",
              " '__format__',\n",
              " '__ge__',\n",
              " '__getattribute__',\n",
              " '__getitem__',\n",
              " '__gt__',\n",
              " '__hash__',\n",
              " '__iadd__',\n",
              " '__imul__',\n",
              " '__init__',\n",
              " '__init_subclass__',\n",
              " '__iter__',\n",
              " '__le__',\n",
              " '__len__',\n",
              " '__lt__',\n",
              " '__mul__',\n",
              " '__ne__',\n",
              " '__new__',\n",
              " '__reduce__',\n",
              " '__reduce_ex__',\n",
              " '__repr__',\n",
              " '__reversed__',\n",
              " '__rmul__',\n",
              " '__setattr__',\n",
              " '__setitem__',\n",
              " '__sizeof__',\n",
              " '__str__',\n",
              " '__subclasshook__',\n",
              " 'append',\n",
              " 'clear',\n",
              " 'copy',\n",
              " 'count',\n",
              " 'extend',\n",
              " 'index',\n",
              " 'insert',\n",
              " 'pop',\n",
              " 'remove',\n",
              " 'reverse',\n",
              " 'sort']"
            ]
          },
          "metadata": {},
          "execution_count": 3
        }
      ]
    },
    {
      "cell_type": "code",
      "execution_count": null,
      "metadata": {
        "id": "QeMAaZTe7LTF"
      },
      "outputs": [],
      "source": []
    },
    {
      "cell_type": "markdown",
      "source": [
        "# 복습\n"
      ],
      "metadata": {
        "id": "iied2U4IJkph"
      }
    },
    {
      "cell_type": "code",
      "source": [
        "0.1 + 0.2       # 2진수 일때 무한 소수"
      ],
      "metadata": {
        "colab": {
          "base_uri": "https://localhost:8080/"
        },
        "id": "s5GhZM1OJugZ",
        "outputId": "59c06319-a1b5-4222-97c4-91b30a1302e2"
      },
      "execution_count": null,
      "outputs": [
        {
          "output_type": "execute_result",
          "data": {
            "text/plain": [
              "0.30000000000000004"
            ]
          },
          "metadata": {},
          "execution_count": 4
        }
      ]
    },
    {
      "cell_type": "code",
      "source": [
        "# 해결방법\n",
        "import decimal\n",
        "\n",
        "float(decimal.Decimal('.1') + decimal.Decimal('.2')) # 출력: 0.3"
      ],
      "metadata": {
        "id": "E2U284ybJ7wK"
      },
      "execution_count": null,
      "outputs": []
    },
    {
      "cell_type": "code",
      "source": [
        "# 회색 줄은 영문자 80자, 한글은 32자\n",
        "# 아래 print 문에서 회색 세로줄 보이는 것은 위에 글자수를 벗어난 것\n",
        "# PEP\n",
        "print('hello worldhello worldhello worldhello worldhello worldhello worldhello worldhello worldhello worldhello worldhello worldhello worldhello worldhello world')"
      ],
      "metadata": {
        "colab": {
          "base_uri": "https://localhost:8080/"
        },
        "id": "Oq7EpStsJ8EX",
        "outputId": "c515f8e7-a293-4b37-c6f0-95a73a258743"
      },
      "execution_count": null,
      "outputs": [
        {
          "output_type": "stream",
          "name": "stdout",
          "text": [
            "hello worldhello worldhello worldhello worldhello worldhello worldhello worldhello worldhello worldhello worldhello worldhello worldhello worldhello world\n"
          ]
        }
      ]
    },
    {
      "cell_type": "code",
      "source": [
        "# 위의 글자수 문제를 해결하는 방법 - 권장하지 않음\n",
        "print(\"hello worldhello worldhello worldhello worldhello worldello worldhello wo\\rldhello worldhello worldhello worldhello world\")"
      ],
      "metadata": {
        "colab": {
          "base_uri": "https://localhost:8080/"
        },
        "id": "NjYqAreUKjT6",
        "outputId": "27493c22-f81e-41ab-d0fc-58f1b6e57539"
      },
      "execution_count": null,
      "outputs": [
        {
          "output_type": "stream",
          "name": "stdout",
          "text": [
            "hello worldhello worldhello worldhello worldhello worldello worldhello wo\rldhello worldhello worldhello worldhello world\n"
          ]
        }
      ]
    },
    {
      "cell_type": "code",
      "source": [
        "# 해결방법 2 - 권장\n",
        "print(\"hello worldhello worldhello worldhello worldhello worldello worldhello\"\n",
        "        \"worldhello worldhello worldhello worldhello world\")\n",
        "print(\"hello world\"\n",
        "        \"hello world\")"
      ],
      "metadata": {
        "colab": {
          "base_uri": "https://localhost:8080/"
        },
        "id": "10WQrAP4KJvY",
        "outputId": "2ea70464-e2c4-4f30-beee-f9ae2ca7a867"
      },
      "execution_count": null,
      "outputs": [
        {
          "output_type": "stream",
          "name": "stdout",
          "text": [
            "hello worldhello worldhello worldhello worldhello worldello worldhelloworldhello worldhello worldhello worldhello world\n",
            "hello worldhello world\n"
          ]
        }
      ]
    },
    {
      "cell_type": "code",
      "source": [
        "# Method chain 으로 80자 이상되면?\n",
        "# Method chaining 으로 3개 이상 비권유 ==> 가독성 나빠짐\n",
        "\n",
        "'hello world'.upper().split(' ').pop().lower()      # 비권유\n",
        "\n",
        "# 단계별로 따로\n",
        "up_case = 'hello world'.upper()\n",
        "s_case = up_case.split()\n",
        "rr = s_case.pop()\n",
        "lc_case = rr.lower()\n",
        "\n",
        "lc_case\n"
      ],
      "metadata": {
        "colab": {
          "base_uri": "https://localhost:8080/",
          "height": 36
        },
        "id": "lyKHNgEKLQ7G",
        "outputId": "c74c325b-241b-4ff4-cc86-b042cd169d66"
      },
      "execution_count": 53,
      "outputs": [
        {
          "output_type": "execute_result",
          "data": {
            "text/plain": [
              "'world'"
            ],
            "application/vnd.google.colaboratory.intrinsic+json": {
              "type": "string"
            }
          },
          "metadata": {},
          "execution_count": 53
        }
      ]
    },
    {
      "cell_type": "markdown",
      "source": [
        "## chaining method ('\\ backslash') 로 연결?\n",
        "\n"
      ],
      "metadata": {
        "id": "_ZbZa4ABWCO4"
      }
    },
    {
      "cell_type": "code",
      "source": [
        "# 허용함 - \\ 빼면 허용안함  ***** 그렇지만 권장 안함\n",
        "'hello world'.upper()\\\n",
        "            .split(' ')\\\n",
        "            .pop()\\\n",
        "            .lower()\n",
        "\n",
        "# 허용하지 않음(\\n)\n",
        "# 'hello world'.upper()\n",
        "#     .split(' ')\n",
        "#     .pop()\n",
        "#     .lower()\n",
        "\n",
        "# 허용하지 않음(\\n)\n",
        "# 'hello world'.upper()\n",
        "# .split(' ')\n",
        "# .pop()\n",
        "# .lower()"
      ],
      "metadata": {
        "colab": {
          "base_uri": "https://localhost:8080/",
          "height": 36
        },
        "id": "npjaMs84WOz1",
        "outputId": "0fe718bc-209d-4fb8-93ed-54eb9e855cb0"
      },
      "execution_count": 54,
      "outputs": [
        {
          "output_type": "execute_result",
          "data": {
            "text/plain": [
              "'world'"
            ],
            "application/vnd.google.colaboratory.intrinsic+json": {
              "type": "string"
            }
          },
          "metadata": {},
          "execution_count": 54
        }
      ]
    },
    {
      "cell_type": "code",
      "source": [
        "# 허용함\n",
        "'hello world'.upper()   .split(' ')    .pop()    .lower()"
      ],
      "metadata": {
        "colab": {
          "base_uri": "https://localhost:8080/",
          "height": 36
        },
        "id": "RgVFBAJqXHn7",
        "outputId": "9b6e1397-ca53-4c4d-a117-967576d1b1ab"
      },
      "execution_count": null,
      "outputs": [
        {
          "output_type": "execute_result",
          "data": {
            "text/plain": [
              "'world'"
            ],
            "application/vnd.google.colaboratory.intrinsic+json": {
              "type": "string"
            }
          },
          "metadata": {},
          "execution_count": 30
        }
      ]
    },
    {
      "cell_type": "code",
      "source": [
        "# 매직 메쏘드 와 메쏘드, 클래스 변수, 인스턴스 변수 **\n",
        "\n",
        "dir('hello world')\n"
      ],
      "metadata": {
        "colab": {
          "base_uri": "https://localhost:8080/"
        },
        "id": "eATUoWPaL5le",
        "outputId": "caf2cb32-bbf2-4333-d0f0-7898d5c2e41f"
      },
      "execution_count": null,
      "outputs": [
        {
          "output_type": "execute_result",
          "data": {
            "text/plain": [
              "['__add__',\n",
              " '__class__',\n",
              " '__contains__',\n",
              " '__delattr__',\n",
              " '__dir__',\n",
              " '__doc__',\n",
              " '__eq__',\n",
              " '__format__',\n",
              " '__ge__',\n",
              " '__getattribute__',\n",
              " '__getitem__',\n",
              " '__getnewargs__',\n",
              " '__gt__',\n",
              " '__hash__',\n",
              " '__init__',\n",
              " '__init_subclass__',\n",
              " '__iter__',\n",
              " '__le__',\n",
              " '__len__',\n",
              " '__lt__',\n",
              " '__mod__',\n",
              " '__mul__',\n",
              " '__ne__',\n",
              " '__new__',\n",
              " '__reduce__',\n",
              " '__reduce_ex__',\n",
              " '__repr__',\n",
              " '__rmod__',\n",
              " '__rmul__',\n",
              " '__setattr__',\n",
              " '__sizeof__',\n",
              " '__str__',\n",
              " '__subclasshook__',\n",
              " 'capitalize',\n",
              " 'casefold',\n",
              " 'center',\n",
              " 'count',\n",
              " 'encode',\n",
              " 'endswith',\n",
              " 'expandtabs',\n",
              " 'find',\n",
              " 'format',\n",
              " 'format_map',\n",
              " 'index',\n",
              " 'isalnum',\n",
              " 'isalpha',\n",
              " 'isascii',\n",
              " 'isdecimal',\n",
              " 'isdigit',\n",
              " 'isidentifier',\n",
              " 'islower',\n",
              " 'isnumeric',\n",
              " 'isprintable',\n",
              " 'isspace',\n",
              " 'istitle',\n",
              " 'isupper',\n",
              " 'join',\n",
              " 'ljust',\n",
              " 'lower',\n",
              " 'lstrip',\n",
              " 'maketrans',\n",
              " 'partition',\n",
              " 'removeprefix',\n",
              " 'removesuffix',\n",
              " 'replace',\n",
              " 'rfind',\n",
              " 'rindex',\n",
              " 'rjust',\n",
              " 'rpartition',\n",
              " 'rsplit',\n",
              " 'rstrip',\n",
              " 'split',\n",
              " 'splitlines',\n",
              " 'startswith',\n",
              " 'strip',\n",
              " 'swapcase',\n",
              " 'title',\n",
              " 'translate',\n",
              " 'upper',\n",
              " 'zfill']"
            ]
          },
          "metadata": {},
          "execution_count": 12
        }
      ]
    },
    {
      "cell_type": "markdown",
      "source": [
        "## .find(): 없을떄 -1 반환  ** -1 은 True 임 **"
      ],
      "metadata": {
        "id": "eDnOwq6TMRHw"
      }
    },
    {
      "cell_type": "code",
      "source": [
        "# .find() : 없을떄 -1 반환  ** -1 은 True 임 **\n",
        "# index()\n",
        "tst = 'hello world'.find('hi')\n",
        "print(tst)         #   <-- True 로 나옴. 주의\n"
      ],
      "metadata": {
        "colab": {
          "base_uri": "https://localhost:8080/"
        },
        "id": "FwQLcs10NbAM",
        "outputId": "e4107da6-ff84-4f64-a925-08f793b99cfd"
      },
      "execution_count": null,
      "outputs": [
        {
          "output_type": "stream",
          "name": "stdout",
          "text": [
            "-1\n"
          ]
        },
        {
          "output_type": "execute_result",
          "data": {
            "text/plain": [
              "True"
            ]
          },
          "metadata": {},
          "execution_count": 13
        }
      ]
    },
    {
      "cell_type": "code",
      "source": [
        "'hello world'.index('hi')   # 오류 발생"
      ],
      "metadata": {
        "colab": {
          "base_uri": "https://localhost:8080/",
          "height": 181
        },
        "id": "duENMLblMffu",
        "outputId": "a75f7e21-1f0a-44f2-ceed-13fc597e1f17"
      },
      "execution_count": 64,
      "outputs": [
        {
          "output_type": "error",
          "ename": "ValueError",
          "evalue": "substring not found",
          "traceback": [
            "\u001b[0;31m---------------------------------------------------------------------------\u001b[0m",
            "\u001b[0;31mValueError\u001b[0m                                Traceback (most recent call last)",
            "\u001b[0;32m<ipython-input-64-7b541bc8cfd3>\u001b[0m in \u001b[0;36m<cell line: 1>\u001b[0;34m()\u001b[0m\n\u001b[0;32m----> 1\u001b[0;31m \u001b[0;34m'hello world'\u001b[0m\u001b[0;34m.\u001b[0m\u001b[0mindex\u001b[0m\u001b[0;34m(\u001b[0m\u001b[0;34m'hi'\u001b[0m\u001b[0;34m)\u001b[0m\u001b[0;34m\u001b[0m\u001b[0;34m\u001b[0m\u001b[0m\n\u001b[0m",
            "\u001b[0;31mValueError\u001b[0m: substring not found"
          ]
        }
      ]
    },
    {
      "cell_type": "code",
      "source": [
        "# isdigit isalpha\n",
        "\n",
        "a1 = '123'.isdigit()\n",
        "a2 = '1h23'.isalpha()\n",
        "\n",
        "print(a1, a2)\n"
      ],
      "metadata": {
        "colab": {
          "base_uri": "https://localhost:8080/"
        },
        "id": "1g_Y8LdFMdSy",
        "outputId": "809c5806-9d4a-4b25-e0ab-dc8c4349e005"
      },
      "execution_count": 56,
      "outputs": [
        {
          "output_type": "stream",
          "name": "stdout",
          "text": [
            "True False\n"
          ]
        }
      ]
    },
    {
      "cell_type": "code",
      "source": [
        "# .replace 가 어디까지 변환하나 : 전부 변함  (다른 언어에서 replaceall )\n",
        "'hello world hello world hello world '.replace(\"hello\", \"hi\")\n",
        "\n",
        "# 정규표현식을 사용못함   (다른 언어에서는 됨)\n",
        "#  re.sub 을 사용해야 함\n"
      ],
      "metadata": {
        "colab": {
          "base_uri": "https://localhost:8080/",
          "height": 36
        },
        "id": "oYIt_yi8N2qk",
        "outputId": "d7fcc273-bd78-4803-ac07-9a9e387cecdc"
      },
      "execution_count": null,
      "outputs": [
        {
          "output_type": "execute_result",
          "data": {
            "text/plain": [
              "'hi world hi world hi world '"
            ],
            "application/vnd.google.colaboratory.intrinsic+json": {
              "type": "string"
            }
          },
          "metadata": {},
          "execution_count": 16
        }
      ]
    },
    {
      "cell_type": "code",
      "source": [
        "# .strip() 공백 제거\n",
        "# .zfill() zero fill"
      ],
      "metadata": {
        "id": "eISLssr8OczS"
      },
      "execution_count": null,
      "outputs": []
    },
    {
      "cell_type": "markdown",
      "source": [
        "# [List] (sequence 형 - indexing, slicing)\n",
        "\n",
        "* 변경이 가능한 자료형\n",
        "* 순서가 있는 자료형 (indexing, slicing)\n"
      ],
      "metadata": {
        "id": "nRGN8RCaPbHO"
      }
    },
    {
      "cell_type": "code",
      "source": [
        "l = [10, 20, 30]"
      ],
      "metadata": {
        "id": "8j6A77DEPVAD"
      },
      "execution_count": null,
      "outputs": []
    },
    {
      "cell_type": "code",
      "source": [
        "# 라인수가 길면 아래 형태로 만들기\n",
        "l = [10,     # 콤마를 보고 다음 라인으로 넘어가도 괜찮다고 진행. ] 닫힐때 까지\n",
        "     20,\n",
        "     30]"
      ],
      "metadata": {
        "id": "gJz1uU9qPtWq"
      },
      "execution_count": null,
      "outputs": []
    },
    {
      "cell_type": "code",
      "source": [
        "# 권장형\n",
        "# # 자료 목록 끝에 , 을 넣는 이유 (실무에서 더 많이 사용)\n",
        "# 실무에서 콤마를 버전업으로 인식하는 경우도 많고,\n",
        "# 콤마를 빼먹는 경우가 많고\n",
        "# 편의성: Ctrl C + Ctrl V 가능해서\n",
        "# 자동 변환 SW 사용함 (**python black formatter**) ==> 사용해서 코드 변환. 협업\n",
        "# python black formatter 로 수정하면 자료형 끝에 comma 삽입 됨 - JSON 관련 실행 안됨\n",
        "\n",
        "l = [\n",
        "    10,\n",
        "    20,\n",
        "    30,     # python 에서는 괜찮지만 통신을 위해 JSON 사용할 때는 콤마 허용 안함\n",
        "]\n",
        "\n"
      ],
      "metadata": {
        "id": "5B4H720iQJw6"
      },
      "execution_count": null,
      "outputs": []
    },
    {
      "cell_type": "code",
      "source": [
        "a = 10\n",
        "b = a\n",
        "c = b\n",
        "print(c)\n"
      ],
      "metadata": {
        "colab": {
          "base_uri": "https://localhost:8080/"
        },
        "id": "aVcejIhXSncy",
        "outputId": "deb781d2-858d-46bb-ae14-5cf022e8937d"
      },
      "execution_count": null,
      "outputs": [
        {
          "output_type": "stream",
          "name": "stdout",
          "text": [
            "10\n"
          ]
        }
      ]
    },
    {
      "cell_type": "code",
      "source": [
        "# 변수들이 값을 가리킴. id()로 확인\n",
        "\n",
        "a = 10\n",
        "b = a\n",
        "c = b\n",
        "a = 20\n",
        "print(c)\n",
        "\n",
        "#\n",
        "print(id(a))\n",
        "print(id(b))\n"
      ],
      "metadata": {
        "colab": {
          "base_uri": "https://localhost:8080/"
        },
        "id": "CpHtEoqRSn7x",
        "outputId": "291b3886-4215-4024-e7c3-19c7e1a632fb"
      },
      "execution_count": 57,
      "outputs": [
        {
          "output_type": "stream",
          "name": "stdout",
          "text": [
            "10\n",
            "138105300616016\n",
            "138105300615696\n"
          ]
        }
      ]
    },
    {
      "cell_type": "code",
      "source": [
        "a = 10\n",
        "b = a\n",
        "c = b\n",
        "print(c)\n",
        "\n",
        "#\n",
        "print(id(a))\n",
        "print(id(b))\n",
        "print(a is b)   # -5 ~ 256 까지는 같은 주소값 들어감"
      ],
      "metadata": {
        "colab": {
          "base_uri": "https://localhost:8080/"
        },
        "id": "R4hZaD6ZYF5U",
        "outputId": "8133c0bf-899e-49ec-8701-12e0c5997e55"
      },
      "execution_count": null,
      "outputs": [
        {
          "output_type": "stream",
          "name": "stdout",
          "text": [
            "10\n",
            "134505467626000\n",
            "134505467626000\n",
            "True\n"
          ]
        }
      ]
    },
    {
      "cell_type": "code",
      "source": [
        "# -5 ~ 256 까지는 같은 값 들어감\n",
        "a = 299\n",
        "b = 258\n",
        "\n",
        "#\n",
        "print(id(a))\n",
        "print(id(b))\n",
        "print(a is b)\n"
      ],
      "metadata": {
        "colab": {
          "base_uri": "https://localhost:8080/"
        },
        "id": "W9ve8lelSoWb",
        "outputId": "ab7f5ad0-335e-42c4-93b0-30b75038d0b1"
      },
      "execution_count": null,
      "outputs": [
        {
          "output_type": "stream",
          "name": "stdout",
          "text": [
            "134504199207728\n",
            "134504199199792\n",
            "False\n"
          ]
        }
      ]
    },
    {
      "cell_type": "markdown",
      "source": [
        "## string 은 가변적이 아니라 값을 재할당 해줘야 함"
      ],
      "metadata": {
        "id": "_dTjJ1mMyjxz"
      }
    },
    {
      "cell_type": "code",
      "source": [
        "# string 은 가변적이지 않음. 다시 할당해야 함\n",
        "s = 'hello world'\n",
        "s = s.replace('h','y')\n",
        "print(s)\n",
        "\n",
        "'y' + s[1:]"
      ],
      "metadata": {
        "colab": {
          "base_uri": "https://localhost:8080/",
          "height": 53
        },
        "id": "LUyVUtxQYLs1",
        "outputId": "9463e9ad-7046-46e8-d065-7dbef8bae54b"
      },
      "execution_count": null,
      "outputs": [
        {
          "output_type": "stream",
          "name": "stdout",
          "text": [
            "yello world\n"
          ]
        },
        {
          "output_type": "execute_result",
          "data": {
            "text/plain": [
              "'yello world'"
            ],
            "application/vnd.google.colaboratory.intrinsic+json": {
              "type": "string"
            }
          },
          "metadata": {},
          "execution_count": 37
        }
      ]
    },
    {
      "cell_type": "code",
      "source": [
        "l = [10, 20, 30]\n",
        "l[2] = 1000\n",
        "print(l)"
      ],
      "metadata": {
        "colab": {
          "base_uri": "https://localhost:8080/"
        },
        "id": "0HDFoRveYlUL",
        "outputId": "477869a0-6224-4430-a236-2222d56b28f7"
      },
      "execution_count": null,
      "outputs": [
        {
          "output_type": "stream",
          "name": "stdout",
          "text": [
            "[10, 20, 1000]\n"
          ]
        }
      ]
    },
    {
      "cell_type": "code",
      "source": [
        "# 변수명[stop]\n",
        "# 변수명[start:stop]\n",
        "# 변수명[start:stop:step]\n",
        "l = [10, 20, 30, 40, 50]\n",
        "\n",
        "print(l)\n",
        "print(\"l[-1]: \",l[-1])\n",
        "print(\"l[-2: ]: \",l[-2:])    # 마이너스 인덱싱, 마이너스 슬라이싱은 최종적으로 양수 치환\n",
        "print(\"l[3:]: \",l[3:])"
      ],
      "metadata": {
        "id": "2vdv2sRuZiax",
        "colab": {
          "base_uri": "https://localhost:8080/"
        },
        "outputId": "8e02f82c-c4d5-497e-b3af-8680baf93ee4"
      },
      "execution_count": 60,
      "outputs": [
        {
          "output_type": "stream",
          "name": "stdout",
          "text": [
            "[10, 20, 30, 40, 50]\n",
            "l[-1]:  50\n",
            "l[-2: ]:  [40, 50]\n",
            "l[3:]:  [40, 50]\n"
          ]
        }
      ]
    },
    {
      "cell_type": "code",
      "source": [
        "# type 은 검색 키워드, GPT 질문 키워드가 달라질 수 있음\n",
        "# dir 는 대략적인 속성을 알 수 있음\n",
        "type(l), dir(l)"
      ],
      "metadata": {
        "colab": {
          "base_uri": "https://localhost:8080/"
        },
        "id": "NcDMdCM0a2Bu",
        "outputId": "783da2b1-bdd9-4998-db44-0a70b1bb0c4d"
      },
      "execution_count": null,
      "outputs": [
        {
          "output_type": "execute_result",
          "data": {
            "text/plain": [
              "(list,\n",
              " ['__add__',\n",
              "  '__class__',\n",
              "  '__class_getitem__',\n",
              "  '__contains__',\n",
              "  '__delattr__',\n",
              "  '__delitem__',\n",
              "  '__dir__',\n",
              "  '__doc__',\n",
              "  '__eq__',\n",
              "  '__format__',\n",
              "  '__ge__',\n",
              "  '__getattribute__',\n",
              "  '__getitem__',\n",
              "  '__gt__',\n",
              "  '__hash__',\n",
              "  '__iadd__',\n",
              "  '__imul__',\n",
              "  '__init__',\n",
              "  '__init_subclass__',\n",
              "  '__iter__',\n",
              "  '__le__',\n",
              "  '__len__',\n",
              "  '__lt__',\n",
              "  '__mul__',\n",
              "  '__ne__',\n",
              "  '__new__',\n",
              "  '__reduce__',\n",
              "  '__reduce_ex__',\n",
              "  '__repr__',\n",
              "  '__reversed__',\n",
              "  '__rmul__',\n",
              "  '__setattr__',\n",
              "  '__setitem__',\n",
              "  '__sizeof__',\n",
              "  '__str__',\n",
              "  '__subclasshook__',\n",
              "  'append',\n",
              "  'clear',\n",
              "  'copy',\n",
              "  'count',\n",
              "  'extend',\n",
              "  'index',\n",
              "  'insert',\n",
              "  'pop',\n",
              "  'remove',\n",
              "  'reverse',\n",
              "  'sort'])"
            ]
          },
          "metadata": {},
          "execution_count": 41
        }
      ]
    },
    {
      "cell_type": "code",
      "source": [
        "# cell 많이 잡아서 Alt + 방향키. 중간에 따로 닫을 때 \"end 키\""
      ],
      "metadata": {
        "id": "aeOPRrDwanzo"
      },
      "execution_count": null,
      "outputs": []
    },
    {
      "cell_type": "code",
      "source": [
        "l = [10, 20, 30]\n",
        "l + [100]"
      ],
      "metadata": {
        "colab": {
          "base_uri": "https://localhost:8080/"
        },
        "id": "oRQAgE4Ebhtw",
        "outputId": "ceecff91-8cf8-4869-d5c7-be20a3a41648"
      },
      "execution_count": null,
      "outputs": [
        {
          "output_type": "execute_result",
          "data": {
            "text/plain": [
              "[10, 20, 30, 100]"
            ]
          },
          "metadata": {},
          "execution_count": 42
        }
      ]
    },
    {
      "cell_type": "code",
      "source": [
        "l + [100, 200]"
      ],
      "metadata": {
        "colab": {
          "base_uri": "https://localhost:8080/"
        },
        "id": "QCSn1BU4bp35",
        "outputId": "a8f45597-9d3b-4656-dc55-46836158ab92"
      },
      "execution_count": null,
      "outputs": [
        {
          "output_type": "execute_result",
          "data": {
            "text/plain": [
              "[10, 20, 30, 100, 200]"
            ]
          },
          "metadata": {},
          "execution_count": 43
        }
      ]
    },
    {
      "cell_type": "code",
      "source": [
        "# 아래는 되지만,\n",
        "l * 3"
      ],
      "metadata": {
        "colab": {
          "base_uri": "https://localhost:8080/"
        },
        "id": "IDz7_mRYbtO-",
        "outputId": "18eba339-d2a5-41dc-8c7f-24ec5265ed99"
      },
      "execution_count": null,
      "outputs": [
        {
          "output_type": "execute_result",
          "data": {
            "text/plain": [
              "[10, 20, 30, 10, 20, 30, 10, 20, 30]"
            ]
          },
          "metadata": {},
          "execution_count": 48
        }
      ]
    },
    {
      "cell_type": "code",
      "source": [
        "l = [1, 2, 3] * 3\n",
        "print(l)"
      ],
      "metadata": {
        "colab": {
          "base_uri": "https://localhost:8080/"
        },
        "id": "r_eIPZ7xcMzy",
        "outputId": "97dc8cbe-f48e-47f8-92d5-4619354f78cb"
      },
      "execution_count": null,
      "outputs": [
        {
          "output_type": "stream",
          "name": "stdout",
          "text": [
            "[1, 2, 3, 1, 2, 3, 1, 2, 3]\n"
          ]
        }
      ]
    },
    {
      "cell_type": "code",
      "source": [
        "# 리스트 곱하기 매우 주의\n",
        "# 곱하기가 이중으로 있을때 리스트컴프리헨션\n",
        "# 아래 내용 이해해야 함    **************************\n",
        "\n",
        "l = [[1, 2, 3] * 3] * 2\n",
        "l[1][0] = 1000\n",
        "l"
      ],
      "metadata": {
        "colab": {
          "base_uri": "https://localhost:8080/"
        },
        "id": "T4bBLYeCbwgQ",
        "outputId": "bf35a9fa-c14f-4d52-e24e-660970bcc3ae"
      },
      "execution_count": null,
      "outputs": [
        {
          "output_type": "execute_result",
          "data": {
            "text/plain": [
              "[[1000, 2, 3, 1, 2, 3, 1, 2, 3], [1000, 2, 3, 1, 2, 3, 1, 2, 3]]"
            ]
          },
          "metadata": {},
          "execution_count": 51
        }
      ]
    },
    {
      "cell_type": "code",
      "source": [
        "l[1][1] = 10000\n",
        "l"
      ],
      "metadata": {
        "colab": {
          "base_uri": "https://localhost:8080/"
        },
        "id": "YrpcNrKTcfFq",
        "outputId": "1891ba5e-0b6c-472c-f5ea-79e01901a0be"
      },
      "execution_count": null,
      "outputs": [
        {
          "output_type": "execute_result",
          "data": {
            "text/plain": [
              "[[1000, 10000, 3, 1, 2, 3, 1, 2, 3], [1000, 10000, 3, 1, 2, 3, 1, 2, 3]]"
            ]
          },
          "metadata": {},
          "execution_count": 53
        }
      ]
    },
    {
      "cell_type": "code",
      "source": [
        "# 암기\n",
        "x = 10      # 스칼라\n",
        "x = [10]    # vector 방향 있음\n",
        "x = [10, 20]    # vector 방향 있음\n",
        "x = [[10, 20], [10, 20]]    # matrix (행렬)\n",
        "x = [[[10, 20], [10, 20]], [[10, 20], [10, 20]]]    # tensor 3차원\n"
      ],
      "metadata": {
        "id": "zWWozFcpc80S"
      },
      "execution_count": null,
      "outputs": []
    },
    {
      "cell_type": "code",
      "source": [
        "a = 10\n",
        "b = 10.1\n",
        "c = 10 + 2j     # 복소수 (complex)\n",
        "\n",
        "print(dir(a), dir(b), dir(c))"
      ],
      "metadata": {
        "colab": {
          "base_uri": "https://localhost:8080/"
        },
        "id": "wvaeUHwRd-Tc",
        "outputId": "59ec7250-0a4a-4286-bc75-bd97d841599e"
      },
      "execution_count": null,
      "outputs": [
        {
          "output_type": "stream",
          "name": "stdout",
          "text": [
            "['__abs__', '__add__', '__and__', '__bool__', '__ceil__', '__class__', '__delattr__', '__dir__', '__divmod__', '__doc__', '__eq__', '__float__', '__floor__', '__floordiv__', '__format__', '__ge__', '__getattribute__', '__getnewargs__', '__gt__', '__hash__', '__index__', '__init__', '__init_subclass__', '__int__', '__invert__', '__le__', '__lshift__', '__lt__', '__mod__', '__mul__', '__ne__', '__neg__', '__new__', '__or__', '__pos__', '__pow__', '__radd__', '__rand__', '__rdivmod__', '__reduce__', '__reduce_ex__', '__repr__', '__rfloordiv__', '__rlshift__', '__rmod__', '__rmul__', '__ror__', '__round__', '__rpow__', '__rrshift__', '__rshift__', '__rsub__', '__rtruediv__', '__rxor__', '__setattr__', '__sizeof__', '__str__', '__sub__', '__subclasshook__', '__truediv__', '__trunc__', '__xor__', 'as_integer_ratio', 'bit_count', 'bit_length', 'conjugate', 'denominator', 'from_bytes', 'imag', 'numerator', 'real', 'to_bytes'] ['__abs__', '__add__', '__bool__', '__ceil__', '__class__', '__delattr__', '__dir__', '__divmod__', '__doc__', '__eq__', '__float__', '__floor__', '__floordiv__', '__format__', '__ge__', '__getattribute__', '__getformat__', '__getnewargs__', '__gt__', '__hash__', '__init__', '__init_subclass__', '__int__', '__le__', '__lt__', '__mod__', '__mul__', '__ne__', '__neg__', '__new__', '__pos__', '__pow__', '__radd__', '__rdivmod__', '__reduce__', '__reduce_ex__', '__repr__', '__rfloordiv__', '__rmod__', '__rmul__', '__round__', '__rpow__', '__rsub__', '__rtruediv__', '__setattr__', '__setformat__', '__sizeof__', '__str__', '__sub__', '__subclasshook__', '__truediv__', '__trunc__', 'as_integer_ratio', 'conjugate', 'fromhex', 'hex', 'imag', 'is_integer', 'real'] ['__abs__', '__add__', '__bool__', '__class__', '__delattr__', '__dir__', '__doc__', '__eq__', '__format__', '__ge__', '__getattribute__', '__getnewargs__', '__gt__', '__hash__', '__init__', '__init_subclass__', '__le__', '__lt__', '__mul__', '__ne__', '__neg__', '__new__', '__pos__', '__pow__', '__radd__', '__reduce__', '__reduce_ex__', '__repr__', '__rmul__', '__rpow__', '__rsub__', '__rtruediv__', '__setattr__', '__sizeof__', '__str__', '__sub__', '__subclasshook__', '__truediv__', 'conjugate', 'imag', 'real']\n"
          ]
        }
      ]
    },
    {
      "cell_type": "code",
      "source": [
        "# tensorflow google 에서 만든 딥러닝 라이브러리\n",
        "# 그래서 인공지능은 행렬의 연산이라고 볼 수 있음"
      ],
      "metadata": {
        "id": "0shdoRRseNb7"
      },
      "execution_count": null,
      "outputs": []
    },
    {
      "cell_type": "code",
      "source": [
        "x = [[1, 2], [3, 4], [5, 6]]    # matrix (행렬)\n",
        "\n",
        "print(x[1])\n",
        "\n",
        "print(x[1][1])\n"
      ],
      "metadata": {
        "colab": {
          "base_uri": "https://localhost:8080/"
        },
        "id": "RY_JGzvoeId6",
        "outputId": "3c53b7fc-7118-4aa7-85b0-bdb6f84b3b19"
      },
      "execution_count": null,
      "outputs": [
        {
          "output_type": "stream",
          "name": "stdout",
          "text": [
            "[3, 4]\n",
            "4\n"
          ]
        }
      ]
    },
    {
      "cell_type": "code",
      "source": [
        "# 여기 연습   ***************************************************************\n",
        "# Ctrl + Alt + 화살표 위나 아래 . print( 입력하고, end 버트 누르고)`)` 입력\n",
        "# Ctrl + Alt + 화살표 위나 아래, `print(` 입력했고, end버튼 눌렀고, `)` 입력했습니다.\n",
        "\n",
        "x = [[1, 2], [3, 'hello world'], [5, 6]]\n",
        "\n",
        "x[1]\n",
        "x[1][1]\n",
        "x[1][1][6:]\n",
        "\n",
        "print(\"print1 \", (x[1]))            #\n",
        "print(\"print2 \", (x[1][1]))         ##\n",
        "print(\"print3 \", (x[1][1][6:]))     ##"
      ],
      "metadata": {
        "colab": {
          "base_uri": "https://localhost:8080/"
        },
        "id": "MJskQGPQeg5p",
        "outputId": "1fc51de7-c643-4e50-84f6-af5685fa5308"
      },
      "execution_count": null,
      "outputs": [
        {
          "output_type": "stream",
          "name": "stdout",
          "text": [
            "print1  [3, 'hello world']\n",
            "print2  hello world\n",
            "print3  world\n"
          ]
        }
      ]
    },
    {
      "cell_type": "code",
      "source": [
        "# 프린트 하는것 (1) 과 맨마지막 출력(2) 가 다르다\n",
        "\n",
        "x = 10\n",
        "\n",
        "print(x)    # (1)     __str__\n",
        "\n",
        "x           # (2)     __repr__"
      ],
      "metadata": {
        "colab": {
          "base_uri": "https://localhost:8080/"
        },
        "id": "Lo4y1ktrfvYM",
        "outputId": "da0eae6f-9e19-4bf7-a212-ba686d0b0faa"
      },
      "execution_count": null,
      "outputs": [
        {
          "output_type": "stream",
          "name": "stdout",
          "text": [
            "10\n"
          ]
        },
        {
          "output_type": "execute_result",
          "data": {
            "text/plain": [
              "10"
            ]
          },
          "metadata": {},
          "execution_count": 61
        }
      ]
    },
    {
      "cell_type": "code",
      "source": [
        "l = [10, 20, 30]\n",
        "dir(l)\n",
        "\n",
        "#\n",
        "# Shift + Tab\n",
        "# Ctrl + [, Ctrl + ]\n"
      ],
      "metadata": {
        "colab": {
          "base_uri": "https://localhost:8080/"
        },
        "id": "As2i-Zmef-dm",
        "outputId": "0101c021-c20b-447d-fe99-f526c53758a6"
      },
      "execution_count": null,
      "outputs": [
        {
          "output_type": "execute_result",
          "data": {
            "text/plain": [
              "['__add__',\n",
              " '__class__',\n",
              " '__class_getitem__',\n",
              " '__contains__',\n",
              " '__delattr__',\n",
              " '__delitem__',\n",
              " '__dir__',\n",
              " '__doc__',\n",
              " '__eq__',\n",
              " '__format__',\n",
              " '__ge__',\n",
              " '__getattribute__',\n",
              " '__getitem__',\n",
              " '__gt__',\n",
              " '__hash__',\n",
              " '__iadd__',\n",
              " '__imul__',\n",
              " '__init__',\n",
              " '__init_subclass__',\n",
              " '__iter__',\n",
              " '__le__',\n",
              " '__len__',\n",
              " '__lt__',\n",
              " '__mul__',\n",
              " '__ne__',\n",
              " '__new__',\n",
              " '__reduce__',\n",
              " '__reduce_ex__',\n",
              " '__repr__',\n",
              " '__reversed__',\n",
              " '__rmul__',\n",
              " '__setattr__',\n",
              " '__setitem__',\n",
              " '__sizeof__',\n",
              " '__str__',\n",
              " '__subclasshook__',\n",
              " 'append',\n",
              " 'clear',\n",
              " 'copy',\n",
              " 'count',\n",
              " 'extend',\n",
              " 'index',\n",
              " 'insert',\n",
              " 'pop',\n",
              " 'remove',\n",
              " 'reverse',\n",
              " 'sort']"
            ]
          },
          "metadata": {},
          "execution_count": 64
        }
      ]
    },
    {
      "cell_type": "markdown",
      "source": [
        "'append',\n",
        " 'clear',\n",
        " 'copy',\n",
        " 'count',\n",
        " 'extend',\n",
        " 'index',\n",
        " 'insert',\n",
        " 'pop',\n",
        " 'remove',\n",
        " 'reverse',\n",
        " 'sort']"
      ],
      "metadata": {
        "id": "xhpI3yDigzV1"
      }
    },
    {
      "cell_type": "code",
      "source": [
        "# List > method > append\n",
        "\n",
        "l = [10, 20, 30]\n",
        "l.append(100)\n",
        "l"
      ],
      "metadata": {
        "colab": {
          "base_uri": "https://localhost:8080/"
        },
        "id": "pAPxlOQngQ7m",
        "outputId": "de5a3947-faf4-4053-9639-94ae410dcdfb"
      },
      "execution_count": null,
      "outputs": [
        {
          "output_type": "execute_result",
          "data": {
            "text/plain": [
              "[10, 20, 30, 100]"
            ]
          },
          "metadata": {},
          "execution_count": 68
        }
      ]
    },
    {
      "cell_type": "code",
      "source": [
        "# list l 의 맨앞에 item 넣고 싶을 떄\n",
        "# 방법 1\n",
        "l = [10, 20, 30]\n",
        "l = [1000] + l\n",
        "l\n"
      ],
      "metadata": {
        "colab": {
          "base_uri": "https://localhost:8080/"
        },
        "id": "F0ipsB_tg2h3",
        "outputId": "dbdeb02f-4d8d-4cb7-e636-34bd33d760e2"
      },
      "execution_count": 4,
      "outputs": [
        {
          "output_type": "execute_result",
          "data": {
            "text/plain": [
              "[1000, 10, 20, 30]"
            ]
          },
          "metadata": {},
          "execution_count": 4
        }
      ]
    },
    {
      "cell_type": "code",
      "source": [
        "# 리스트 앞에 넣는\n",
        "# 방법 2\n",
        "\n",
        "l = [10, 20, 30]\n",
        "x = 1000\n",
        "\n",
        "l = [x] + l[:]\n",
        "l\n"
      ],
      "metadata": {
        "colab": {
          "base_uri": "https://localhost:8080/"
        },
        "id": "7ycRvzCb5g-A",
        "outputId": "5d64c043-1b84-4c5a-c4bd-4efdbca0c72f"
      },
      "execution_count": 7,
      "outputs": [
        {
          "output_type": "execute_result",
          "data": {
            "text/plain": [
              "[1000, 10, 20, 30]"
            ]
          },
          "metadata": {},
          "execution_count": 7
        }
      ]
    },
    {
      "cell_type": "code",
      "source": [
        "# 리스트 앞에 넣는\n",
        "# 방법 3\n",
        "\n",
        "l = [10, 20, 30]\n",
        "l.insert(0, 999)\n",
        "l"
      ],
      "metadata": {
        "colab": {
          "base_uri": "https://localhost:8080/"
        },
        "id": "tC1cEHut52Jc",
        "outputId": "3de5e450-69f9-4bc2-dabc-3674bcf5c284"
      },
      "execution_count": 8,
      "outputs": [
        {
          "output_type": "execute_result",
          "data": {
            "text/plain": [
              "[999, 10, 20, 30]"
            ]
          },
          "metadata": {},
          "execution_count": 8
        }
      ]
    },
    {
      "cell_type": "code",
      "source": [
        "# .pop()     뒤에서 제거\n",
        "# .pop(0)    앞에서 제거"
      ],
      "metadata": {
        "id": "XzswMxKekWSN"
      },
      "execution_count": null,
      "outputs": []
    },
    {
      "cell_type": "code",
      "source": [
        "ㅣ = [10, 20, 30, 40]\n",
        "ㅣ[:-1]     # ㅣ = ㅣ[:-1]\n",
        "ㅣ[1:]      # ㅣ = 1[1:]"
      ],
      "metadata": {
        "colab": {
          "base_uri": "https://localhost:8080/"
        },
        "id": "-3CTmvxnkvRs",
        "outputId": "02fe3ec4-b15f-4dc5-ab07-eb816630f091"
      },
      "execution_count": null,
      "outputs": [
        {
          "output_type": "execute_result",
          "data": {
            "text/plain": [
              "[20, 30, 40]"
            ]
          },
          "metadata": {},
          "execution_count": 7
        }
      ]
    },
    {
      "cell_type": "code",
      "source": [
        "l = [10, 20, 30, 40]\n",
        "l.index(20)"
      ],
      "metadata": {
        "colab": {
          "base_uri": "https://localhost:8080/"
        },
        "id": "Qp0NToe3k9AG",
        "outputId": "7b6efdd0-6b57-4bcf-f0a0-1fe2e6ec86b5"
      },
      "execution_count": null,
      "outputs": [
        {
          "output_type": "execute_result",
          "data": {
            "text/plain": [
              "1"
            ]
          },
          "metadata": {},
          "execution_count": 10
        }
      ]
    },
    {
      "cell_type": "code",
      "source": [
        "# 기억할 것\n",
        "# index 에러 무시하도록 만들기 --> slicing 사용. 범위 벗어나도 에러 발생 안함\n",
        "\n",
        "ㅣ = [10, 20, 30, 40]\n",
        "l[100:101]\n"
      ],
      "metadata": {
        "colab": {
          "base_uri": "https://localhost:8080/"
        },
        "id": "6v1n-ON2lC02",
        "outputId": "c9c057de-4125-4770-a970-860659486542"
      },
      "execution_count": null,
      "outputs": [
        {
          "output_type": "execute_result",
          "data": {
            "text/plain": [
              "[]"
            ]
          },
          "metadata": {},
          "execution_count": 11
        }
      ]
    },
    {
      "cell_type": "code",
      "source": [
        "# clear() 모두 지움\n",
        "ㅣ = [10, 20, 30, 40]\n",
        "l.clear()\n",
        "l"
      ],
      "metadata": {
        "colab": {
          "base_uri": "https://localhost:8080/"
        },
        "id": "kb4LBsS2lint",
        "outputId": "08cb8316-f343-48c3-84b1-9f63df0b4464"
      },
      "execution_count": null,
      "outputs": [
        {
          "output_type": "execute_result",
          "data": {
            "text/plain": [
              "[]"
            ]
          },
          "metadata": {},
          "execution_count": 13
        }
      ]
    },
    {
      "cell_type": "code",
      "source": [
        "#\n",
        "l = [10, 20, 30, 40]\n",
        "ll = l\n",
        "l[0] = 1000\n",
        "ll[0]\n",
        "\n",
        "print(id(l), id(ll))       # 같은 리스트를 가리키는 주소\n",
        "l is ll\n"
      ],
      "metadata": {
        "colab": {
          "base_uri": "https://localhost:8080/"
        },
        "id": "TPua-CCKlpcE",
        "outputId": "93ce29e6-10a4-4cdd-aea7-9165dfe1ac6a"
      },
      "execution_count": null,
      "outputs": [
        {
          "output_type": "stream",
          "name": "stdout",
          "text": [
            "138104030837248 138104030837248\n"
          ]
        },
        {
          "output_type": "execute_result",
          "data": {
            "text/plain": [
              "True"
            ]
          },
          "metadata": {},
          "execution_count": 16
        }
      ]
    },
    {
      "cell_type": "code",
      "source": [
        "#\n",
        "l = [10, 20, 30, 40]\n",
        "ll = l.copy()   # 또다른 리스트를 같게 됨\n",
        "lll = l[:]      # copy 의 다른 표현.\n",
        "\n",
        "l[0] = 1000\n",
        "l, ll           # 다른 값을 가짐. 다른 리스트니까"
      ],
      "metadata": {
        "colab": {
          "base_uri": "https://localhost:8080/"
        },
        "id": "tYKwoHpElpzN",
        "outputId": "c26770bc-33d7-42c6-c6f6-30d827355eb4"
      },
      "execution_count": null,
      "outputs": [
        {
          "output_type": "execute_result",
          "data": {
            "text/plain": [
              "([1000, 20, 30, 40], [10, 20, 30, 40])"
            ]
          },
          "metadata": {},
          "execution_count": 17
        }
      ]
    },
    {
      "cell_type": "markdown",
      "source": [],
      "metadata": {
        "id": "G9nltvjelqfd"
      }
    },
    {
      "cell_type": "code",
      "source": [
        "#\n",
        "\n",
        "l = [10, 20, 30, 40]\n",
        "l.count(10)"
      ],
      "metadata": {
        "colab": {
          "base_uri": "https://localhost:8080/"
        },
        "id": "RLhBoEZznLAG",
        "outputId": "569ca2f6-fc65-47c6-858e-4d6e53d1361c"
      },
      "execution_count": null,
      "outputs": [
        {
          "output_type": "execute_result",
          "data": {
            "text/plain": [
              "1"
            ]
          },
          "metadata": {},
          "execution_count": 18
        }
      ]
    },
    {
      "cell_type": "code",
      "source": [
        "# 구글입사문제\n",
        "# 1 ~ 10000 에서 갓 숫자에서 8 카운트\n",
        "str([1, 2, 3, 4, 5, 6, 7, 8, 9, 10, 11, 12, 13, 14, 15 ]).count('8')\n",
        "\n",
        "\n",
        "list(range(10))\n",
        "str(list(range(20)))\n",
        "str(list(range(20))).count('8')\n"
      ],
      "metadata": {
        "colab": {
          "base_uri": "https://localhost:8080/"
        },
        "id": "0aEK4wy5nUF3",
        "outputId": "a6ccd5c7-a498-44de-a4f6-8586add8c2e6"
      },
      "execution_count": null,
      "outputs": [
        {
          "output_type": "execute_result",
          "data": {
            "text/plain": [
              "2"
            ]
          },
          "metadata": {},
          "execution_count": 21
        }
      ]
    },
    {
      "cell_type": "code",
      "source": [
        "# extend  객체 요소를 개별 추가\n",
        "# append 와의 차이 확인  ****************************\n",
        "l = [10, 20, 30, 40]\n",
        "l.extend([50, 60])  # 일반적 사용\n",
        "\n",
        "print(l)\n",
        "\n",
        "l.extend('hello')\n",
        "print(l)"
      ],
      "metadata": {
        "colab": {
          "base_uri": "https://localhost:8080/"
        },
        "id": "_fSmpQKGoodG",
        "outputId": "3dedcfcd-c8c8-40d1-f3e9-d732d6811b3e"
      },
      "execution_count": null,
      "outputs": [
        {
          "output_type": "stream",
          "name": "stdout",
          "text": [
            "[10, 20, 30, 40, 50, 60]\n",
            "[10, 20, 30, 40, 50, 60, 'h', 'e', 'l', 'l', 'o']\n"
          ]
        }
      ]
    },
    {
      "cell_type": "code",
      "source": [
        "# remove 처음으로 찾는 요소를 삭제. 한 개 지울떄만 사용\n",
        "l = [1, 1, 1, 1, 2, 2, 3, 3, 3]\n",
        "l.remove(1)\n",
        "l\n",
        "\n",
        "\n"
      ],
      "metadata": {
        "colab": {
          "base_uri": "https://localhost:8080/"
        },
        "id": "xSxKOIE4pWa9",
        "outputId": "96aa2581-bb1b-4af1-fb4c-7525970dbefe"
      },
      "execution_count": null,
      "outputs": [
        {
          "output_type": "execute_result",
          "data": {
            "text/plain": [
              "[1, 1, 1, 2, 2, 3, 3, 3]"
            ]
          },
          "metadata": {},
          "execution_count": 27
        }
      ]
    },
    {
      "cell_type": "markdown",
      "source": [
        "## filter(조건함수, 검색리스트)\n",
        "* 여러 item 지울 때 filter 사용     "
      ],
      "metadata": {
        "id": "6XuUQHAS6rGP"
      }
    },
    {
      "cell_type": "code",
      "source": [
        "# 여러 item 지울 때 filter 사용\n",
        "# filter(조건함수, 검색리스트)\n",
        "\n",
        "def f(x):\n",
        "    return x != 1\n",
        "\n",
        "l = [1, 1, 1, 1, 2, 2, 3, 3, 3]\n",
        "list(filter(f, l))\n",
        "\n"
      ],
      "metadata": {
        "colab": {
          "base_uri": "https://localhost:8080/"
        },
        "id": "aCF834isqJaW",
        "outputId": "48586c0b-c57d-4735-ba02-13405170a4f2"
      },
      "execution_count": null,
      "outputs": [
        {
          "output_type": "execute_result",
          "data": {
            "text/plain": [
              "[2, 2, 3, 3, 3]"
            ]
          },
          "metadata": {},
          "execution_count": 52
        }
      ]
    },
    {
      "cell_type": "code",
      "source": [
        "# reverse 와 sort 주의\n",
        "# reverse 는 역순 (역정렬 아님)\n",
        "l = [1, 2, 3, 4, 9, 5, 6, 7]\n",
        "l.reverse()     # 역정렬이 아니라 역순 . 원본이 변함. ** 주의 **\n",
        "l\n"
      ],
      "metadata": {
        "colab": {
          "base_uri": "https://localhost:8080/"
        },
        "id": "HLJGz98oqkp1",
        "outputId": "a3cb041d-04ee-4011-8f91-7ebfcd68b80a"
      },
      "execution_count": null,
      "outputs": [
        {
          "output_type": "execute_result",
          "data": {
            "text/plain": [
              "[7, 6, 5, 9, 4, 3, 2, 1]"
            ]
          },
          "metadata": {},
          "execution_count": 34
        }
      ]
    },
    {
      "cell_type": "code",
      "source": [
        "# reverse vs reversed ****************************\n",
        "l = [1, 2, 3, 4, 9, 5, 6, 7]\n",
        "tmp = l.reverse()\n",
        "\n",
        "list(reversed(l))       # 역순. 원본이 안변함\n",
        "print(\"reversed\", l)\n",
        "print(\"reverse\", tmp)\n"
      ],
      "metadata": {
        "colab": {
          "base_uri": "https://localhost:8080/"
        },
        "id": "g9n-vIIdq84E",
        "outputId": "45c9470c-9e63-4a47-c93e-4d009c121360"
      },
      "execution_count": null,
      "outputs": [
        {
          "output_type": "stream",
          "name": "stdout",
          "text": [
            "reversed [7, 6, 5, 9, 4, 3, 2, 1]\n",
            "reverse None\n"
          ]
        }
      ]
    },
    {
      "cell_type": "code",
      "source": [
        "# sort()\n",
        "#\n"
      ],
      "metadata": {
        "id": "RdW33YdWq9R8"
      },
      "execution_count": null,
      "outputs": []
    },
    {
      "cell_type": "code",
      "source": [
        "l = [1, 2, 3, 4, 9, 5, 6, 7]\n",
        "l.sort()    # 정렬\n",
        "l.reverse() # 역순. 원본 변함\n",
        "l"
      ],
      "metadata": {
        "colab": {
          "base_uri": "https://localhost:8080/"
        },
        "id": "0SadkZL-q9iN",
        "outputId": "fe204a92-8566-4e5f-f3f8-562c8bec7169"
      },
      "execution_count": null,
      "outputs": [
        {
          "output_type": "execute_result",
          "data": {
            "text/plain": [
              "[9, 7, 6, 5, 4, 3, 2, 1]"
            ]
          },
          "metadata": {},
          "execution_count": 41
        }
      ]
    },
    {
      "cell_type": "code",
      "source": [
        "# sorted()  --> 원본 변경 안함\n",
        "\n",
        "l = [1, 2, 3, 4, 9, 5, 6, 7]\n",
        "tmp = sorted(l)\n",
        "print(tmp)\n",
        "\n",
        "print(l)    # 원본 변경 안함"
      ],
      "metadata": {
        "colab": {
          "base_uri": "https://localhost:8080/"
        },
        "id": "g6_W_vJ2s7v-",
        "outputId": "a2dcba38-2dd2-47be-e267-0f39a28b1327"
      },
      "execution_count": null,
      "outputs": [
        {
          "output_type": "stream",
          "name": "stdout",
          "text": [
            "[1, 2, 3, 4, 5, 6, 7, 9]\n",
            "[1, 2, 3, 4, 9, 5, 6, 7]\n"
          ]
        }
      ]
    },
    {
      "cell_type": "code",
      "source": [
        "# sort, sorted, reverse, reversed 코딩테스트 전문\n",
        "\n"
      ],
      "metadata": {
        "id": "SCFpfi96tOOk"
      },
      "execution_count": null,
      "outputs": []
    },
    {
      "cell_type": "code",
      "source": [
        "# 국, 영, 수, 이름\n",
        "\n",
        "s = [[100, 87, 91, '김'], [56, 38, 89, '하'], [33, 86, 100, '중']]\n",
        "\n",
        "def f(x):\n",
        "    return x[0]     # 국어 점수로만 정렬\n",
        "\n",
        "sorted(s, key=f)\n",
        "sorted(s, key=f, reverse=True)"
      ],
      "metadata": {
        "colab": {
          "base_uri": "https://localhost:8080/"
        },
        "id": "9-YEbu_duYi-",
        "outputId": "610bd441-0ebe-44e2-92aa-6adf04e63fd6"
      },
      "execution_count": null,
      "outputs": [
        {
          "output_type": "execute_result",
          "data": {
            "text/plain": [
              "[[33, 86, 100, '중'], [56, 38, 89, '하'], [100, 87, 91, '김']]"
            ]
          },
          "metadata": {},
          "execution_count": 48
        }
      ]
    },
    {
      "cell_type": "code",
      "source": [
        "# 국, 영, 수, 이름\n",
        "\n",
        "s = [[100, 87, 91, '김'], [56, 38, 89, '하'], [33, 86, 100, '중']]\n",
        "\n",
        "def f(x):\n",
        "    return x[3]     # 이름 순 정렬\n",
        "\n",
        "sorted(s, key=f)\n",
        "# sorted(s, key=f, reverse=True)"
      ],
      "metadata": {
        "colab": {
          "base_uri": "https://localhost:8080/"
        },
        "id": "gCVjjs5FvCYc",
        "outputId": "59a1c0f5-ef4a-45d1-8e19-c366d4189a9c"
      },
      "execution_count": null,
      "outputs": [
        {
          "output_type": "execute_result",
          "data": {
            "text/plain": [
              "[[100, 87, 91, '김'], [33, 86, 100, '중'], [56, 38, 89, '하']]"
            ]
          },
          "metadata": {},
          "execution_count": 50
        }
      ]
    },
    {
      "cell_type": "code",
      "source": [
        "# 평균 점수 높은 순 정렬 ***************************\n",
        "s = [[100, 87, 91, '김'], [56, 38, 89, '하'], [33, 86, 100, '중']]\n",
        "\n",
        "def f(x):\n",
        "    return x[0] + x[1] + x[2]    # 나눠도 결국 같은 순위니까 계산 안함\n",
        "\n",
        "sorted(s, key=f)\n",
        "sorted(s, key=f, reverse=True)"
      ],
      "metadata": {
        "colab": {
          "base_uri": "https://localhost:8080/"
        },
        "id": "hafMeh2su4Bk",
        "outputId": "d1705c3f-476f-4a92-d47a-1388df26546b"
      },
      "execution_count": null,
      "outputs": [
        {
          "output_type": "execute_result",
          "data": {
            "text/plain": [
              "[[100, 87, 91, '김'], [33, 86, 100, '중'], [56, 38, 89, '하']]"
            ]
          },
          "metadata": {},
          "execution_count": 51
        }
      ]
    }
  ]
}
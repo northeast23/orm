{
  "nbformat": 4,
  "nbformat_minor": 0,
  "metadata": {
    "colab": {
      "provenance": [],
      "toc_visible": true,
      "authorship_tag": "ABX9TyOaqK8+WiXgyYewqLE488qX",
      "include_colab_link": true
    },
    "kernelspec": {
      "name": "python3",
      "display_name": "Python 3"
    },
    "language_info": {
      "name": "python"
    }
  },
  "cells": [
    {
      "cell_type": "markdown",
      "metadata": {
        "id": "view-in-github",
        "colab_type": "text"
      },
      "source": [
        "<a href=\"https://colab.research.google.com/github/northeast23/orm/blob/main/240103_1.ipynb\" target=\"_parent\"><img src=\"https://colab.research.google.com/assets/colab-badge.svg\" alt=\"Open In Colab\"/></a>"
      ]
    },
    {
      "cell_type": "markdown",
      "source": [
        "# 문자열(String)"
      ],
      "metadata": {
        "id": "fhSai2XcoAeb"
      }
    },
    {
      "cell_type": "code",
      "execution_count": 5,
      "metadata": {
        "id": "aK6tI92ymJqM"
      },
      "outputs": [],
      "source": [
        "i = ''' 안녕하세요\n",
        "여러줄 문장\n",
        "여러줄 문장\n",
        "'''\n",
        "\n",
        "j = \"\"\"안녕하세요\n",
        "여러줄 문장\n",
        "여러줄 문장\n",
        "\"\"\"\n",
        "\n"
      ]
    },
    {
      "cell_type": "markdown",
      "source": [],
      "metadata": {
        "id": "xLv9PuEixBjt"
      }
    },
    {
      "cell_type": "code",
      "source": [
        "print(i)"
      ],
      "metadata": {
        "id": "Bw5Oy-HsyEiE"
      },
      "execution_count": null,
      "outputs": []
    },
    {
      "cell_type": "code",
      "source": [
        "# 변수만 출력 - colab\n",
        "i"
      ],
      "metadata": {
        "colab": {
          "base_uri": "https://localhost:8080/",
          "height": 36
        },
        "id": "wNQB2pwUyEeH",
        "outputId": "324c25fb-9185-4659-9837-57a5a4a0e76f"
      },
      "execution_count": 6,
      "outputs": [
        {
          "output_type": "execute_result",
          "data": {
            "text/plain": [
              "' 안녕하세요 \\n여러줄 문장 \\n여러줄 문장 \\n'"
            ],
            "application/vnd.google.colaboratory.intrinsic+json": {
              "type": "string"
            }
          },
          "metadata": {},
          "execution_count": 6
        }
      ]
    },
    {
      "cell_type": "markdown",
      "source": [],
      "metadata": {
        "id": "-7STImPJyEF6"
      }
    },
    {
      "cell_type": "code",
      "source": [
        "# 문자의 덧셈은 문자를 결합하는 형태\n",
        "# 곱셈으로 하면 문자열 반복\n",
        "\n",
        "print(j)\n",
        "\n",
        "x = 10\n",
        "y = 20\n",
        "\n",
        "print(x+y)\n",
        "\n",
        "z = \"Hello\"\n",
        "\n",
        "print(x*3)     # int 로 들어간 값\n",
        "\n",
        "print(z * 3)\n",
        "\n",
        "x = '10'\n",
        "print(x*3)"
      ],
      "metadata": {
        "colab": {
          "base_uri": "https://localhost:8080/"
        },
        "id": "y2QI5frCyD84",
        "outputId": "8b87ece1-1187-4924-c73f-82b053309c0b"
      },
      "execution_count": 13,
      "outputs": [
        {
          "output_type": "stream",
          "name": "stdout",
          "text": [
            "안녕하세요 \n",
            "여러줄 문장 \n",
            "여러줄 문장 \n",
            "\n",
            "30\n",
            "30\n",
            "HelloHelloHello\n",
            "101010\n"
          ]
        }
      ]
    },
    {
      "cell_type": "code",
      "source": [
        "a = 10\n",
        "b = 20\n",
        "\n",
        "z = \"Hello\"\n",
        "\n",
        "print(a*3)     # int 로 들어간 값\n",
        "print(z*3)"
      ],
      "metadata": {
        "colab": {
          "base_uri": "https://localhost:8080/"
        },
        "id": "_rqkLf9qyDgL",
        "outputId": "f32498e8-2f1c-4b24-ec55-f9bb40a76eba"
      },
      "execution_count": 16,
      "outputs": [
        {
          "output_type": "stream",
          "name": "stdout",
          "text": [
            "30\n",
            "HelloHelloHello\n"
          ]
        }
      ]
    },
    {
      "cell_type": "markdown",
      "source": [
        "## 인덱싱 ( 맨마지막 부를때 [-1]  )\n",
        "\n",
        "* 범위를 벗어나면 IndexError"
      ],
      "metadata": {
        "id": "SLowuzg3yDxO"
      }
    },
    {
      "cell_type": "code",
      "source": [
        "# 문자열 인덱싱\n",
        "\n",
        "s = '위니브 월드'\n",
        "print(s[0])\n",
        "print(s[-1])     # 맨 마지막 문자 출력"
      ],
      "metadata": {
        "colab": {
          "base_uri": "https://localhost:8080/"
        },
        "id": "b4N44pS-2rq3",
        "outputId": "db27a729-78a3-4f23-cb1f-efb042b01e89"
      },
      "execution_count": 12,
      "outputs": [
        {
          "output_type": "stream",
          "name": "stdout",
          "text": [
            "위\n",
            "드\n"
          ]
        }
      ]
    },
    {
      "cell_type": "markdown",
      "source": [
        "## Slicing (  [start:stop:step])\n",
        "\n",
        "* my_str[0:6] 형태\n",
        "* 에러가 표시되지 않"
      ],
      "metadata": {
        "id": "YFY0Wq9A4KfV"
      }
    },
    {
      "cell_type": "code",
      "source": [
        "# 문자열 슬라이싱\n",
        "\n",
        "s = \"위니브 월드 외곽\"\n",
        "\n",
        "print(s[0:7])   # stop point 에서는 안가져옴\n",
        "\n",
        "print(s[0:])    #\n",
        "print(s[0:9:2])\n",
        "print(s[:])     # 전체 출력\n",
        "print(s[::-1])  # 뒤에서 부터 거꾸로 출력\n",
        "print(s[::2])"
      ],
      "metadata": {
        "colab": {
          "base_uri": "https://localhost:8080/"
        },
        "id": "12dmgJzR37QT",
        "outputId": "6635ae08-168a-4eaa-9a1c-abfa76b1e62b"
      },
      "execution_count": 22,
      "outputs": [
        {
          "output_type": "stream",
          "name": "stdout",
          "text": [
            "위니브 월드 \n",
            "위니브 월드 외곽\n",
            "위브월 곽\n",
            "위니브 월드 외곽\n",
            "곽외 드월 브니위\n",
            "위브월 곽\n"
          ]
        }
      ]
    },
    {
      "cell_type": "code",
      "source": [
        "## 실습\n",
        "s = 'weniv_licat.png'\n",
        "# 출력은 weniv_licat 만 나오게    backtick 앞뒤로 싸서 디스코드나 노션에 올릴 수 있음\n",
        "\n",
        "print(s[0:11])"
      ],
      "metadata": {
        "colab": {
          "base_uri": "https://localhost:8080/"
        },
        "id": "mCkA4b0k4k5p",
        "outputId": "b4eb9c83-e7aa-4177-b9ca-ca2cb3b4ee25"
      },
      "execution_count": 24,
      "outputs": [
        {
          "output_type": "stream",
          "name": "stdout",
          "text": [
            "weniv_licat\n"
          ]
        }
      ]
    },
    {
      "cell_type": "code",
      "source": [
        "s = 'weniv_licat.png'\n",
        "print(s[-4:])   # - (뒤에서 부터) 4 번째 시작점\n",
        "\n",
        "print(s[-1:-4],\"***\")    # 출력없음. 뒤에서 시작해서 -4에 끝나는 것은 안됨\n"
      ],
      "metadata": {
        "colab": {
          "base_uri": "https://localhost:8080/"
        },
        "id": "c8_8MoZw6ghT",
        "outputId": "f0fc12d5-86cd-4daf-a793-a9924f0fb9a7"
      },
      "execution_count": 32,
      "outputs": [
        {
          "output_type": "stream",
          "name": "stdout",
          "text": [
            ".png\n",
            " ***\n"
          ]
        }
      ]
    },
    {
      "cell_type": "code",
      "source": [
        "# 슬라이스 복사 - 다만 ID 가 달라짐\n",
        "\n",
        "s = [1, 2, 3]\n",
        "ss = s[:]\n",
        "\n",
        "print(id(s), id(ss))     # s 와 ss 의 값은 같지만 ID 는 다르다"
      ],
      "metadata": {
        "colab": {
          "base_uri": "https://localhost:8080/"
        },
        "id": "bBmCNkOb7LgY",
        "outputId": "0e897491-665a-4bcd-88e0-5e82a63d9341"
      },
      "execution_count": 33,
      "outputs": [
        {
          "output_type": "stream",
          "name": "stdout",
          "text": [
            "140656158946432 140656158939712\n"
          ]
        }
      ]
    },
    {
      "cell_type": "markdown",
      "source": [
        "## 문자열 Methods"
      ],
      "metadata": {
        "id": "LUT5eQl58i4M"
      }
    },
    {
      "cell_type": "markdown",
      "source": [
        "### lower(), upper()"
      ],
      "metadata": {
        "id": "D04i2Uhh84Ch"
      }
    },
    {
      "cell_type": "code",
      "source": [
        "s = 'weniv CEO licat'\n",
        "s.lower()"
      ],
      "metadata": {
        "colab": {
          "base_uri": "https://localhost:8080/",
          "height": 36
        },
        "id": "DcyvCoVH8Zw6",
        "outputId": "13edfc1c-0900-4916-9c66-d4d389b941c0"
      },
      "execution_count": 34,
      "outputs": [
        {
          "output_type": "execute_result",
          "data": {
            "text/plain": [
              "'weniv ceo licat'"
            ],
            "application/vnd.google.colaboratory.intrinsic+json": {
              "type": "string"
            }
          },
          "metadata": {},
          "execution_count": 34
        }
      ]
    },
    {
      "cell_type": "code",
      "source": [
        "s.upper()"
      ],
      "metadata": {
        "colab": {
          "base_uri": "https://localhost:8080/",
          "height": 36
        },
        "id": "2ZMRfriD8unc",
        "outputId": "f4d07583-6845-44af-8cb0-c8a96b2177b1"
      },
      "execution_count": 35,
      "outputs": [
        {
          "output_type": "execute_result",
          "data": {
            "text/plain": [
              "'WENIV CEO LICAT'"
            ],
            "application/vnd.google.colaboratory.intrinsic+json": {
              "type": "string"
            }
          },
          "metadata": {},
          "execution_count": 35
        }
      ]
    },
    {
      "cell_type": "markdown",
      "source": [
        "### find() index()  : 해당 위치를 찾는 메소드\n",
        "\n",
        "* find() 는 값을 못 찾으면 -1 을 반환\n",
        "* index() 는 값을 못 찾으면 index error 반환"
      ],
      "metadata": {
        "id": "TATyS3Qt851K"
      }
    },
    {
      "cell_type": "code",
      "source": [
        "#\n",
        "s = 'weniv CEO licat'\n",
        "s.find('CEO')      # 문자의 위치를 반환\n"
      ],
      "metadata": {
        "colab": {
          "base_uri": "https://localhost:8080/"
        },
        "id": "dDOPk6Bi8w5o",
        "outputId": "5ca9f36d-efd2-4e07-d17b-5ed91db99615"
      },
      "execution_count": 38,
      "outputs": [
        {
          "output_type": "execute_result",
          "data": {
            "text/plain": [
              "6"
            ]
          },
          "metadata": {},
          "execution_count": 38
        }
      ]
    },
    {
      "cell_type": "code",
      "source": [
        "s.index('CEO')"
      ],
      "metadata": {
        "colab": {
          "base_uri": "https://localhost:8080/"
        },
        "id": "6Mdc6vF-9PoR",
        "outputId": "b629a729-e04b-4559-cbcf-0c368f5e1042"
      },
      "execution_count": 39,
      "outputs": [
        {
          "output_type": "execute_result",
          "data": {
            "text/plain": [
              "6"
            ]
          },
          "metadata": {},
          "execution_count": 39
        }
      ]
    },
    {
      "cell_type": "markdown",
      "source": [
        "### count()    문자열안에 몇개 있는지 counting"
      ],
      "metadata": {
        "id": "NoZ2F7Yp9nYh"
      }
    },
    {
      "cell_type": "code",
      "source": [
        "s = 'weniv CEO licat'\n",
        "s.count('i')"
      ],
      "metadata": {
        "colab": {
          "base_uri": "https://localhost:8080/"
        },
        "id": "CNYymLIX9hWB",
        "outputId": "76dd6892-af71-4767-b4e2-5a0524824688"
      },
      "execution_count": 41,
      "outputs": [
        {
          "output_type": "execute_result",
          "data": {
            "text/plain": [
              "2"
            ]
          },
          "metadata": {},
          "execution_count": 41
        }
      ]
    },
    {
      "cell_type": "code",
      "source": [
        "s.count(' ')     # 공백도 찾음"
      ],
      "metadata": {
        "colab": {
          "base_uri": "https://localhost:8080/"
        },
        "id": "ZO50NedZ9tsv",
        "outputId": "326313c9-7369-4acd-da24-6eb375f158c5"
      },
      "execution_count": 42,
      "outputs": [
        {
          "output_type": "execute_result",
          "data": {
            "text/plain": [
              "2"
            ]
          },
          "metadata": {},
          "execution_count": 42
        }
      ]
    },
    {
      "cell_type": "markdown",
      "source": [
        "### strip() : 문자열 양끝의 공백 제거\n",
        "\n",
        "* 공백 제거후 다시 문자열로 할당하면 리스트로 들어감\n"
      ],
      "metadata": {
        "id": "BLrawvAu-CxT"
      }
    },
    {
      "cell_type": "code",
      "source": [
        "s = '      weniv CEO licat   '\n",
        "s.split()"
      ],
      "metadata": {
        "colab": {
          "base_uri": "https://localhost:8080/"
        },
        "id": "tWx1ubwp96a5",
        "outputId": "8be85926-be73-409e-ece9-3d08826e0bf4"
      },
      "execution_count": 43,
      "outputs": [
        {
          "output_type": "execute_result",
          "data": {
            "text/plain": [
              "['weniv', 'CEO', 'licat']"
            ]
          },
          "metadata": {},
          "execution_count": 43
        }
      ]
    },
    {
      "cell_type": "code",
      "source": [
        "s"
      ],
      "metadata": {
        "colab": {
          "base_uri": "https://localhost:8080/",
          "height": 36
        },
        "id": "iJL-YBoi-Mxh",
        "outputId": "75bc7233-429c-40f4-d011-ad70628397ef"
      },
      "execution_count": 44,
      "outputs": [
        {
          "output_type": "execute_result",
          "data": {
            "text/plain": [
              "'      weniv CEO licat   '"
            ],
            "application/vnd.google.colaboratory.intrinsic+json": {
              "type": "string"
            }
          },
          "metadata": {},
          "execution_count": 44
        }
      ]
    },
    {
      "cell_type": "code",
      "source": [
        "s = s.split()"
      ],
      "metadata": {
        "id": "NmaijuAD-O9w"
      },
      "execution_count": 45,
      "outputs": []
    },
    {
      "cell_type": "code",
      "source": [
        "s"
      ],
      "metadata": {
        "colab": {
          "base_uri": "https://localhost:8080/"
        },
        "id": "l4kNgC-R-UQY",
        "outputId": "c3c67b35-0f69-44e0-b9e3-c8f96353a702"
      },
      "execution_count": 46,
      "outputs": [
        {
          "output_type": "execute_result",
          "data": {
            "text/plain": [
              "['weniv', 'CEO', 'licat']"
            ]
          },
          "metadata": {},
          "execution_count": 46
        }
      ]
    },
    {
      "cell_type": "code",
      "source": [
        "# 문자열을 변경해서 (원본이 안바뀌니까) 저장하면 리스트로 저장됨\n",
        "type(s)\n",
        "str(s)\n",
        "type(s)"
      ],
      "metadata": {
        "colab": {
          "base_uri": "https://localhost:8080/"
        },
        "id": "sQyTvat7-Vcz",
        "outputId": "b46a562e-983f-4d80-90a7-40229010921f"
      },
      "execution_count": 52,
      "outputs": [
        {
          "output_type": "execute_result",
          "data": {
            "text/plain": [
              "str"
            ]
          },
          "metadata": {},
          "execution_count": 52
        }
      ]
    },
    {
      "cell_type": "code",
      "source": [],
      "metadata": {
        "id": "zmP02i15_x9_"
      },
      "execution_count": null,
      "outputs": []
    },
    {
      "cell_type": "code",
      "source": [
        "'      weniv, CEO! licat   '.strip(' ,!#@~')      # !  왜 안사라지는지 확인"
      ],
      "metadata": {
        "colab": {
          "base_uri": "https://localhost:8080/",
          "height": 36
        },
        "id": "yZyuNBhq-ZSh",
        "outputId": "9e2317af-0365-443e-bc4b-ecc8cb1c8a1b"
      },
      "execution_count": 50,
      "outputs": [
        {
          "output_type": "execute_result",
          "data": {
            "text/plain": [
              "'weniv, CEO! licat'"
            ],
            "application/vnd.google.colaboratory.intrinsic+json": {
              "type": "string"
            }
          },
          "metadata": {},
          "execution_count": 50
        }
      ]
    },
    {
      "cell_type": "markdown",
      "source": [
        "### replace() - 대소문자 구분 함"
      ],
      "metadata": {
        "id": "I4pQv_-X_M6j"
      }
    },
    {
      "cell_type": "code",
      "source": [
        "s = 'weniv CEO licat'\n",
        "s.replace(\"CEO\",\"CTO\")"
      ],
      "metadata": {
        "colab": {
          "base_uri": "https://localhost:8080/",
          "height": 36
        },
        "id": "wh8bnFoU-2bx",
        "outputId": "f3806799-c4ec-4b91-dbad-35be898c09d8"
      },
      "execution_count": 51,
      "outputs": [
        {
          "output_type": "execute_result",
          "data": {
            "text/plain": [
              "'weniv CTO licat'"
            ],
            "application/vnd.google.colaboratory.intrinsic+json": {
              "type": "string"
            }
          },
          "metadata": {},
          "execution_count": 51
        }
      ]
    },
    {
      "cell_type": "markdown",
      "source": [
        "### split() + join()\n",
        "\n",
        "* split() : 문자열을 자르고(list로 변환)\n",
        "* join() : list 의 문자열을 합쳐서 string 으로 변환"
      ],
      "metadata": {
        "id": "wE9mnmGFAE1g"
      }
    },
    {
      "cell_type": "code",
      "source": [
        "phone = input(\"전화번호 :   \").split()\n",
        "\n",
        "'-'.join(phone)"
      ],
      "metadata": {
        "colab": {
          "base_uri": "https://localhost:8080/",
          "height": 54
        },
        "id": "FvPSJAET_LMk",
        "outputId": "f37bb5b9-8697-4d26-8d33-6ee0473fd017"
      },
      "execution_count": 55,
      "outputs": [
        {
          "name": "stdout",
          "output_type": "stream",
          "text": [
            "전화번호 :   024 1235 1215\n"
          ]
        },
        {
          "output_type": "execute_result",
          "data": {
            "text/plain": [
              "'024-1235-1215'"
            ],
            "application/vnd.google.colaboratory.intrinsic+json": {
              "type": "string"
            }
          },
          "metadata": {},
          "execution_count": 55
        }
      ]
    },
    {
      "cell_type": "code",
      "source": [
        "sentence = input(\" 문장을 넣어주세요:   \")\n",
        "type(sentence)     # 입력값은 따로 지정 안하면 string 으로 만들어짐\n",
        "sentence.split()\n",
        "type(sentence)     # 슬라이싱해도 스트링\n"
      ],
      "metadata": {
        "colab": {
          "base_uri": "https://localhost:8080/"
        },
        "id": "z6AC65ahAbEh",
        "outputId": "28af2784-b425-435a-8c40-79c4b830c869"
      },
      "execution_count": 57,
      "outputs": [
        {
          "name": "stdout",
          "output_type": "stream",
          "text": [
            " 문장을 넣어주세요:   saSgASDg sdgSDg AS dH\n"
          ]
        },
        {
          "output_type": "execute_result",
          "data": {
            "text/plain": [
              "str"
            ]
          },
          "metadata": {},
          "execution_count": 57
        }
      ]
    },
    {
      "cell_type": "code",
      "source": [
        "#  ex\n",
        "s = 'weniv CEO licat'\n",
        "s.split()\n",
        "\n",
        "t = 'weniv-CEO-licat'\n",
        "t.split('-')\n",
        "t = t.split('-')     # 원래의 문자열을 변경\n",
        "\n",
        "print(t)\n",
        "\n",
        "'-'.join(s)          # 문자열 -->split 하면 list --> ' '.join() : 다시 string\n",
        "print(s)\n",
        "type(s)\n"
      ],
      "metadata": {
        "colab": {
          "base_uri": "https://localhost:8080/"
        },
        "id": "YZseQXzLDm3Z",
        "outputId": "17904972-783a-469c-e023-d092f5ab7583"
      },
      "execution_count": 73,
      "outputs": [
        {
          "output_type": "stream",
          "name": "stdout",
          "text": [
            "['weniv', 'CEO', 'licat']\n",
            "weniv CEO licat\n"
          ]
        },
        {
          "output_type": "execute_result",
          "data": {
            "text/plain": [
              "str"
            ]
          },
          "metadata": {},
          "execution_count": 73
        }
      ]
    },
    {
      "cell_type": "markdown",
      "source": [
        "### string 과 list 차이:    list[str1, str2,..]"
      ],
      "metadata": {
        "id": "PbdtFTVhB4s5"
      }
    },
    {
      "cell_type": "code",
      "source": [
        "# string vs list\n",
        "stc = 'assfj adsg:LDh SDHH'\n",
        "print(\"string[3:7]:  \", stc[3:7])\n",
        "\n",
        "lst_stc = [stc, stc, stc, stc, stc, stc]\n",
        "print(lst_stc)\n",
        "\n",
        "print(\"list[3]:   \", lst_stc[3])\n",
        "\n",
        "\n"
      ],
      "metadata": {
        "colab": {
          "base_uri": "https://localhost:8080/"
        },
        "id": "CVake7zYBD2w",
        "outputId": "b1aa39e8-315c-4998-8efa-4be8cc197264"
      },
      "execution_count": 67,
      "outputs": [
        {
          "output_type": "stream",
          "name": "stdout",
          "text": [
            "string[3:7]:   fj a\n",
            "['assfj adsg:LDh SDHH', 'assfj adsg:LDh SDHH', 'assfj adsg:LDh SDHH', 'assfj adsg:LDh SDHH', 'assfj adsg:LDh SDHH', 'assfj adsg:LDh SDHH']\n",
            "list[3]:    assfj adsg:LDh SDHH\n"
          ]
        }
      ]
    },
    {
      "cell_type": "markdown",
      "source": [
        "### format()"
      ],
      "metadata": {
        "id": "CkxWdQqEHoZJ"
      }
    },
    {
      "cell_type": "code",
      "source": [
        "name = \"licat\"\n",
        "age = 29\n",
        "\n",
        "print(\"test \".format(name, age))    ### ################# 확인"
      ],
      "metadata": {
        "colab": {
          "base_uri": "https://localhost:8080/"
        },
        "id": "aLSDD0eXCoto",
        "outputId": "d2753895-cc85-444a-caca-ef22acc3f884"
      },
      "execution_count": 75,
      "outputs": [
        {
          "output_type": "stream",
          "name": "stdout",
          "text": [
            "test \n"
          ]
        }
      ]
    },
    {
      "cell_type": "markdown",
      "source": [],
      "metadata": {
        "id": "CDqMmZHnILDC"
      }
    },
    {
      "cell_type": "code",
      "source": [
        "#\n",
        "s = '123s'\n",
        "print(s.isalnum())   # 숫자와 문자가 있으면 TRUE\n",
        "print(s.isdigit())   #\n",
        "print(s.isalpha())"
      ],
      "metadata": {
        "colab": {
          "base_uri": "https://localhost:8080/"
        },
        "id": "ekJxL12fH-Aa",
        "outputId": "fe05d359-737c-45eb-e39a-b1c9499faac8"
      },
      "execution_count": 81,
      "outputs": [
        {
          "output_type": "stream",
          "name": "stdout",
          "text": [
            "True\n",
            "False\n",
            "False\n"
          ]
        }
      ]
    },
    {
      "cell_type": "markdown",
      "source": [
        "### rjust() ljust() center()\n",
        "\n",
        "문자열 지정길이로 맞춰서\n",
        "* rjust() :  문자열을 오른쪽에 두고 나머지 채움  \n",
        "* ljust() :  문자열을 왼쪽에 두고 나머지 채움\n",
        "* center() : 길이대로 문자열을 가운데 두고 나머지는 채움"
      ],
      "metadata": {
        "id": "gxO0UVSTJBx0"
      }
    },
    {
      "cell_type": "code",
      "source": [
        "s = 'licat'\n",
        "print(s.rjust(10,\"-\"))\n",
        "print(s.ljust(10,\"-\"))\n",
        "print(s.center(10,\"-\"))\n"
      ],
      "metadata": {
        "colab": {
          "base_uri": "https://localhost:8080/"
        },
        "id": "uCVZALFRJPXu",
        "outputId": "45e5a3a6-b38f-4ea9-bba8-265c21a2ea2f"
      },
      "execution_count": 86,
      "outputs": [
        {
          "output_type": "stream",
          "name": "stdout",
          "text": [
            "-----licat\n",
            "licat-----\n",
            "--licat---\n",
            "903566-1******\n"
          ]
        }
      ]
    },
    {
      "cell_type": "code",
      "source": [
        "idnum = \"903566-1\"\n",
        "\n",
        "print(idnum.ljust(14,'*'))\n"
      ],
      "metadata": {
        "colab": {
          "base_uri": "https://localhost:8080/"
        },
        "id": "1LuC63MGKb5u",
        "outputId": "08547300-3ca0-4c9b-e4d5-2ad43b75e09a"
      },
      "execution_count": 87,
      "outputs": [
        {
          "output_type": "stream",
          "name": "stdout",
          "text": [
            "903566-1******\n"
          ]
        }
      ]
    },
    {
      "cell_type": "markdown",
      "source": [
        "### zfill() - zero 를 채워줌\n",
        "\n",
        "* 문자열의 앞쪽을 '0'으로 채워서 반환"
      ],
      "metadata": {
        "id": "-TsPVeTjM2WU"
      }
    },
    {
      "cell_type": "code",
      "source": [
        "# zfill 연습\n",
        "\n",
        "my_id = \"0010234-52415236\"\n",
        "\n",
        "print(my_id.zfill(20))"
      ],
      "metadata": {
        "colab": {
          "base_uri": "https://localhost:8080/"
        },
        "id": "sBAg2PZ5JBn5",
        "outputId": "c4676299-01eb-40ee-ade8-ec7a8fa122ff"
      },
      "execution_count": 96,
      "outputs": [
        {
          "output_type": "stream",
          "name": "stdout",
          "text": [
            "00000010234-52415236\n"
          ]
        }
      ]
    },
    {
      "cell_type": "code",
      "source": [
        "# yy,dd,dd 맞추기\n",
        "\n",
        "yr = '23'\n",
        "mm = '9'\n",
        "dd = '3'\n",
        "\n",
        "date = yr.zfill(2) +  mm.zfill(2) + dd.zfill(2)\n",
        "\n",
        "print(date)\n"
      ],
      "metadata": {
        "colab": {
          "base_uri": "https://localhost:8080/"
        },
        "id": "aY8pS7NbIamA",
        "outputId": "dc46a778-fef1-422d-b232-e7aacfe66e83"
      },
      "execution_count": 100,
      "outputs": [
        {
          "output_type": "stream",
          "name": "stdout",
          "text": [
            "230903\n"
          ]
        }
      ]
    },
    {
      "cell_type": "code",
      "source": [
        "yr = '23'\n",
        "mm = '9'\n",
        "dd = '3'\n",
        "\n",
        "date = yr.zfill(2) +  mm.zfill(2) + dd.zfill(2)\n",
        "print(date)\n",
        "\n",
        "n_yr = yr.zfill(2)\n",
        "n_mm = mm.zfill(2)\n",
        "n_dd = dd.zfill(2)\n",
        "\n",
        "yr_lst = [n_yr, n_mm, n_dd]\n",
        "print(yr_lst)\n",
        "print('-'.join(yr_lst))"
      ],
      "metadata": {
        "colab": {
          "base_uri": "https://localhost:8080/"
        },
        "id": "XbyyBI33PDdY",
        "outputId": "c083c620-f804-49c8-9c34-c718e9304d5f"
      },
      "execution_count": 109,
      "outputs": [
        {
          "output_type": "stream",
          "name": "stdout",
          "text": [
            "230903\n",
            "['23', '09', '03']\n",
            "23-09-03\n"
          ]
        }
      ]
    },
    {
      "cell_type": "code",
      "source": [
        "년 = '23'\n",
        "월 = '9'\n",
        "일 = '8'\n",
        "오늘날짜 = 년 + 월 + 일\n",
        "print(오늘날짜)\n",
        "오늘날짜 = 년 + 월.zfill(2) + 일.zfill(2)\n",
        "print(오늘날짜)\n"
      ],
      "metadata": {
        "colab": {
          "base_uri": "https://localhost:8080/"
        },
        "id": "P6MkSUPQO6aZ",
        "outputId": "163098c0-7e8b-4462-fa3c-dc4046165ab6"
      },
      "execution_count": 99,
      "outputs": [
        {
          "output_type": "stream",
          "name": "stdout",
          "text": [
            "2398\n",
            "230908\n"
          ]
        }
      ]
    },
    {
      "cell_type": "markdown",
      "source": [
        "### maketrans(), str.translate()  - 사용법 어려움\n",
        "\n",
        "* replace 와 다르게 한번에 많은 문자열을 치환할 수 있음\n",
        "\n",
        "  text,translate(table) 로 사용 가능"
      ],
      "metadata": {
        "id": "LmAcvx6bQXuQ"
      }
    },
    {
      "cell_type": "code",
      "source": [
        "# 변환 테이블 생성\n",
        "table = str.maketrans(\"abc\", \"123\")     # abc 를 각각 123 으로 변경함 (maketrans)\n",
        "\n",
        "print(type(table))\n",
        "\n",
        "text = \"abcde\"\n",
        "print(type(text))\n",
        "\n",
        "result = text.translate(table)\n",
        "\n",
        "print(result)"
      ],
      "metadata": {
        "colab": {
          "base_uri": "https://localhost:8080/"
        },
        "id": "-3bP9U4JOmtE",
        "outputId": "8c092647-2436-4639-874b-7b267327ac4b"
      },
      "execution_count": 4,
      "outputs": [
        {
          "output_type": "stream",
          "name": "stdout",
          "text": [
            "<class 'dict'>\n",
            "<class 'str'>\n",
            "123de\n"
          ]
        }
      ]
    },
    {
      "cell_type": "code",
      "source": [
        "table = str.maketrans('', '',\"de\")\n",
        "text = \"abcde d e.  saghnfrsde\"\n",
        "result = text.translate(table)\n",
        "print(result)"
      ],
      "metadata": {
        "colab": {
          "base_uri": "https://localhost:8080/"
        },
        "id": "ln52fdIJSCCd",
        "outputId": "73e5e720-4fe0-4312-c145-fd4e362c691c"
      },
      "execution_count": 114,
      "outputs": [
        {
          "output_type": "stream",
          "name": "stdout",
          "text": [
            "abc  .  saghnfrs\n"
          ]
        }
      ]
    },
    {
      "cell_type": "code",
      "source": [
        "table = str.maketrans('', '',\"de\")   # de 를 지움\n",
        "text = \"abcde\"\n",
        "result = text.translate(table)\n",
        "print(result)  # 123de"
      ],
      "metadata": {
        "colab": {
          "base_uri": "https://localhost:8080/"
        },
        "id": "BCfdruDTIqEr",
        "outputId": "0c87b8fb-9f08-483b-b846-6dfc815cc8e2"
      },
      "execution_count": 6,
      "outputs": [
        {
          "output_type": "stream",
          "name": "stdout",
          "text": [
            "abc\n"
          ]
        }
      ]
    },
    {
      "cell_type": "markdown",
      "source": [
        "## 문자열 포맷팅"
      ],
      "metadata": {
        "id": "GQXFXb-aQlA3"
      }
    },
    {
      "cell_type": "markdown",
      "source": [
        "* format(var1,var2) 처럼 사용하는 것 이외에도 아래 방법 있음"
      ],
      "metadata": {
        "id": "qNu8Oj3gS1Qr"
      }
    },
    {
      "cell_type": "markdown",
      "source": [
        "## 이스케이프 문자 (back slash **\\**)"
      ],
      "metadata": {
        "id": "73wNX31-QwVk"
      }
    },
    {
      "cell_type": "markdown",
      "source": [
        "- `\\n`: 새로운 줄(줄바꿈)을 나타냅니다.\n",
        "- `\\t`: 탭 문자를 나타냅니다.\n",
        "- `\\r`: 커서를 현재 줄의 처음으로 이동합니다.\n",
        "- `\\\"`: 큰따옴표를 나타냅니다.\n",
        "- `\\'`: 작은따옴표를 나타냅니다.\n",
        "- `\\\\`: 백슬래시를 나타냅니다."
      ],
      "metadata": {
        "id": "UfAS0T4IQuiS"
      }
    },
    {
      "cell_type": "code",
      "source": [
        "## 연습\n",
        "\n",
        "print(\"Hello\\nworld\")"
      ],
      "metadata": {
        "colab": {
          "base_uri": "https://localhost:8080/"
        },
        "id": "1dznoHXMQs3l",
        "outputId": "5342d221-999e-4b9e-fc65-ad90e335a56d"
      },
      "execution_count": 116,
      "outputs": [
        {
          "output_type": "stream",
          "name": "stdout",
          "text": [
            "Hello\n",
            "world\n"
          ]
        }
      ]
    },
    {
      "cell_type": "code",
      "source": [
        "print(\"Hello\\tWorld\")"
      ],
      "metadata": {
        "colab": {
          "base_uri": "https://localhost:8080/"
        },
        "id": "4yxRmbcATky7",
        "outputId": "8e46e157-a9f9-43d7-bbd6-137190392265"
      },
      "execution_count": 117,
      "outputs": [
        {
          "output_type": "stream",
          "name": "stdout",
          "text": [
            "Hello\tWorld\n"
          ]
        }
      ]
    },
    {
      "cell_type": "code",
      "source": [
        "print(\"Hello\\rWorld\")"
      ],
      "metadata": {
        "colab": {
          "base_uri": "https://localhost:8080/"
        },
        "id": "PCnqrUhwQtIM",
        "outputId": "250fffe0-63ee-4a44-8593-be50ef520288"
      },
      "execution_count": 118,
      "outputs": [
        {
          "output_type": "stream",
          "name": "stdout",
          "text": [
            "Hello\rWorld\n"
          ]
        }
      ]
    },
    {
      "cell_type": "code",
      "source": [
        "print(\"She said, \\\"Hello World!\\\"\")"
      ],
      "metadata": {
        "colab": {
          "base_uri": "https://localhost:8080/"
        },
        "id": "XxHT46mFQtn7",
        "outputId": "083a8aee-7816-45b4-ce43-1f085d15e5ec"
      },
      "execution_count": 120,
      "outputs": [
        {
          "output_type": "stream",
          "name": "stdout",
          "text": [
            "She said, \"Hello World!\"\n"
          ]
        }
      ]
    },
    {
      "cell_type": "code",
      "source": [
        "print(\"She said, '\\'\"Hello World!\\\" ' ')   ### 여기 마저 하기"
      ],
      "metadata": {
        "id": "-6QULYCiUOsz"
      },
      "execution_count": null,
      "outputs": []
    },
    {
      "cell_type": "markdown",
      "source": [
        "# 논리형 (True / False)"
      ],
      "metadata": {
        "id": "kdTxHA67W7yU"
      }
    },
    {
      "cell_type": "code",
      "source": [],
      "metadata": {
        "id": "IU0BcOG9W8qj"
      },
      "execution_count": null,
      "outputs": []
    },
    {
      "cell_type": "markdown",
      "source": [
        "# None (자료형)"
      ],
      "metadata": {
        "id": "UslgjIqaYgkh"
      }
    },
    {
      "cell_type": "code",
      "source": [
        "양말상자 = None     # 출력 없음"
      ],
      "metadata": {
        "id": "FfW9A51OY9ci"
      },
      "execution_count": 123,
      "outputs": []
    },
    {
      "cell_type": "code",
      "source": [
        "양말상자 = None\n",
        "print(양말상자)"
      ],
      "metadata": {
        "colab": {
          "base_uri": "https://localhost:8080/"
        },
        "id": "2SziWoSHY_hU",
        "outputId": "cfc1f62e-1460-4b19-9028-70dbc6e10fe1"
      },
      "execution_count": 122,
      "outputs": [
        {
          "output_type": "stream",
          "name": "stdout",
          "text": [
            "None\n"
          ]
        }
      ]
    },
    {
      "cell_type": "code",
      "source": [
        "dir(None)     # 매직 메소드(__ underscore 두개) 가 출력됨\n"
      ],
      "metadata": {
        "colab": {
          "base_uri": "https://localhost:8080/"
        },
        "id": "s1anVoo6ZDiU",
        "outputId": "076da906-4d06-42bc-9a2e-e261a1cef7e4"
      },
      "execution_count": 124,
      "outputs": [
        {
          "output_type": "execute_result",
          "data": {
            "text/plain": [
              "['__bool__',\n",
              " '__class__',\n",
              " '__delattr__',\n",
              " '__dir__',\n",
              " '__doc__',\n",
              " '__eq__',\n",
              " '__format__',\n",
              " '__ge__',\n",
              " '__getattribute__',\n",
              " '__gt__',\n",
              " '__hash__',\n",
              " '__init__',\n",
              " '__init_subclass__',\n",
              " '__le__',\n",
              " '__lt__',\n",
              " '__ne__',\n",
              " '__new__',\n",
              " '__reduce__',\n",
              " '__reduce_ex__',\n",
              " '__repr__',\n",
              " '__setattr__',\n",
              " '__sizeof__',\n",
              " '__str__',\n",
              " '__subclasshook__']"
            ]
          },
          "metadata": {},
          "execution_count": 124
        }
      ]
    },
    {
      "cell_type": "code",
      "source": [
        "x = None\n",
        "y = None\n",
        "print(id(x), id(y))      # ID주 가 같다"
      ],
      "metadata": {
        "colab": {
          "base_uri": "https://localhost:8080/"
        },
        "id": "3WBuBBUuZLSN",
        "outputId": "3dd3ff8e-fc6d-4a59-967c-86e14d5b2c10"
      },
      "execution_count": 125,
      "outputs": [
        {
          "output_type": "stream",
          "name": "stdout",
          "text": [
            "99666358518752 99666358518752\n"
          ]
        }
      ]
    },
    {
      "cell_type": "markdown",
      "source": [
        "# Method Chanining (형 변환 주의)"
      ],
      "metadata": {
        "id": "lU1DqHdwZx3R"
      }
    },
    {
      "cell_type": "code",
      "source": [
        "sentence = '   Hello, Python'\n",
        "print(sentence)\n",
        "result2 = sentence.strip().lower().replace('world','python')\n",
        "print(result2)"
      ],
      "metadata": {
        "colab": {
          "base_uri": "https://localhost:8080/"
        },
        "id": "MYYzF9S4Z0mV",
        "outputId": "52f07e6e-f089-4f75-bd98-7cd0d55b99dc"
      },
      "execution_count": 131,
      "outputs": [
        {
          "output_type": "stream",
          "name": "stdout",
          "text": [
            "   Hello, Python\n",
            "hello, python\n"
          ]
        }
      ]
    },
    {
      "cell_type": "code",
      "source": [],
      "metadata": {
        "id": "zshqB24valKL"
      },
      "execution_count": null,
      "outputs": []
    },
    {
      "cell_type": "markdown",
      "source": [],
      "metadata": {
        "id": "HazuERq4Z1IW"
      }
    },
    {
      "cell_type": "code",
      "source": [],
      "metadata": {
        "id": "MYw7yQcMZnlS"
      },
      "execution_count": null,
      "outputs": []
    }
  ]
}
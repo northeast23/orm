{
  "nbformat": 4,
  "nbformat_minor": 0,
  "metadata": {
    "colab": {
      "provenance": [],
      "authorship_tag": "ABX9TyOUqOyqWCk8BMOMB5hoavHl",
      "include_colab_link": true
    },
    "kernelspec": {
      "name": "python3",
      "display_name": "Python 3"
    },
    "language_info": {
      "name": "python"
    }
  },
  "cells": [
    {
      "cell_type": "markdown",
      "metadata": {
        "id": "view-in-github",
        "colab_type": "text"
      },
      "source": [
        "<a href=\"https://colab.research.google.com/github/northeast23/orm/blob/main/%EC%BD%94%EB%94%A9%EC%97%B0%EC%8A%B51_1229.ipynb\" target=\"_parent\"><img src=\"https://colab.research.google.com/assets/colab-badge.svg\" alt=\"Open In Colab\"/></a>"
      ]
    },
    {
      "cell_type": "code",
      "execution_count": 4,
      "metadata": {
        "colab": {
          "base_uri": "https://localhost:8080/"
        },
        "id": "oNpTdXqwzjRf",
        "outputId": "aa8b203c-75a1-4070-eed1-f9af31bdd392"
      },
      "outputs": [
        {
          "output_type": "stream",
          "name": "stdout",
          "text": [
            "성함을 입력해주세요:     cccsd\n",
            "\n",
            "\n",
            "희망하는 전화번호 끝자리 4자리를 입력해주세요:     2356\n",
            "\n",
            "cccsd님, 010-9302-2356 가 사용 가능합니다.\n",
            "이 전화번호로 결정하시겠어요? Y/N 로 응답해주세요:    N\n",
            "\n",
            "희망하는 전화번호 끝자리 4자리를 입력해주세요:     3578\n",
            "\n",
            "cccsd님, 010-7382-3578 가 사용 가능합니다.\n",
            "이 전화번호로 결정하시겠어요? Y/N 로 응답해주세요:    N\n",
            "\n",
            "희망하는 전화번호 끝자리 4자리를 입력해주세요:     46578\n",
            "\n",
            "희망 끝자리 번호는 #### 형태로 입력해주셔야 합니다.\n",
            "\n",
            "희망하는 전화번호 끝자리 4자리를 입력해주세요:     0000\n",
            "\n",
            "cccsd님, 010-7736-0000 가 사용 가능합니다.\n",
            "이 전화번호로 결정하시겠어요? Y/N 로 응답해주세요:    Y\n",
            "\n",
            "cccsd 님의 새로운 전화번호는 010-7736-0000 입니다\n"
          ]
        }
      ],
      "source": [
        "# 전화번호 끝자리 입력하면 새로운 전화번호 찾아주는 프로그램\n",
        "\n",
        "import random\n",
        "from typing_extensions import Concatenate\n",
        "\n",
        "# 희망번호를 끝자리로 랜덤 번호 생성하는 함수\n",
        "def get_num(nmb):\n",
        "  rdm_num = str(random.randint(1000, 9999))\n",
        "  my_num = \"010-\" + rdm_num + \"-\" + str(nmb)\n",
        "  return my_num\n",
        "\n",
        "name = input(\"성함을 입력해주세요:     \")\n",
        "print()\n",
        "\n",
        "answer = \"N\"\n",
        "while answer == \"N\":\n",
        "  print()\n",
        "  nmb = input(\"희망하는 전화번호 끝자리 4자리를 입력해주세요:     \")\n",
        "\n",
        "  len_nmb = len(str(nmb))\n",
        "\n",
        "  match len_nmb:\n",
        "    case 4:\n",
        "      print()\n",
        "      new_number = get_num(nmb)\n",
        "\n",
        "      print(f'{name}님, {new_number} 가 사용 가능합니다.')\n",
        "      answer = input(\"이 전화번호로 결정하시겠어요? Y/N 로 응답해주세요:    \")\n",
        "\n",
        "    case _:\n",
        "      print()\n",
        "      print(\"희망 끝자리 번호는 #### 형태로 입력해주셔야 합니다.\")\n",
        "\n",
        "  if answer == \"Y\":\n",
        "    print()\n",
        "    print(f'{name} 님의 새로운 전화번호는 {new_number} 입니다')\n",
        "    break"
      ]
    },
    {
      "cell_type": "code",
      "source": [
        "\n"
      ],
      "metadata": {
        "id": "azmEE_rx0-Td"
      },
      "execution_count": null,
      "outputs": []
    }
  ]
}
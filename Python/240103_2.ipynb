{
  "nbformat": 4,
  "nbformat_minor": 0,
  "metadata": {
    "colab": {
      "provenance": [],
      "toc_visible": true,
      "authorship_tag": "ABX9TyNhXWfqebwl3ZouBEfUY9Vl",
      "include_colab_link": true
    },
    "kernelspec": {
      "name": "python3",
      "display_name": "Python 3"
    },
    "language_info": {
      "name": "python"
    }
  },
  "cells": [
    {
      "cell_type": "markdown",
      "metadata": {
        "id": "view-in-github",
        "colab_type": "text"
      },
      "source": [
        "<a href=\"https://colab.research.google.com/github/northeast23/orm/blob/main/240103_2.ipynb\" target=\"_parent\"><img src=\"https://colab.research.google.com/assets/colab-badge.svg\" alt=\"Open In Colab\"/></a>"
      ]
    },
    {
      "cell_type": "markdown",
      "source": [
        "# 형 변환\n",
        "\n",
        "Built-in Function 기능\n",
        "* int() 정수로 변환\n",
        "* str() 문자열로 변환\n",
        "* float() 실수로 변환\n",
        "* list() 리스트로 변환\n",
        "* tuple() 튜플로 변환\n",
        "* dict() 딕셔너리로 변환\n",
        "* set() 셋으로 변환\n",
        "\n",
        "None 을 형변환해도 None\n",
        "float --> string ---> int 일때 에러 발생.\n",
        "소수점(.) 때문에 발생\n",
        "\n",
        "* 문자열에 대하여 형변환을 주로 함"
      ],
      "metadata": {
        "id": "pWewrqzDueyB"
      }
    },
    {
      "cell_type": "code",
      "execution_count": 4,
      "metadata": {
        "colab": {
          "base_uri": "https://localhost:8080/"
        },
        "id": "biGYX2l6uXSL",
        "outputId": "ac513632-35ed-450b-ed7f-5491cd835ff3"
      },
      "outputs": [
        {
          "output_type": "stream",
          "name": "stdout",
          "text": [
            "월급을 입력해주세요10000000\n",
            "100000001000000010000000100000001000000010000000100000001000000010000000100000001000000010000000\n"
          ]
        }
      ],
      "source": [
        "m_sal = input(\"월급을 입력해주세요\")\n",
        "y_sal = m_sal * 12\n",
        "print(y_sal)"
      ]
    },
    {
      "cell_type": "code",
      "source": [
        "m_sal = input(\"월급을 입력해주세요\")\n",
        "y_sal = int(m_sal) * 12\n",
        "print(y_sal)"
      ],
      "metadata": {
        "colab": {
          "base_uri": "https://localhost:8080/"
        },
        "id": "zUZ6WGeIusfv",
        "outputId": "c9aa8106-df50-48ae-a471-96e40313cb29"
      },
      "execution_count": 5,
      "outputs": [
        {
          "output_type": "stream",
          "name": "stdout",
          "text": [
            "월급을 입력해주세요10000000\n",
            "120000000\n"
          ]
        }
      ]
    },
    {
      "cell_type": "code",
      "source": [
        "f = 3.14159\n",
        "print(int(f))"
      ],
      "metadata": {
        "colab": {
          "base_uri": "https://localhost:8080/"
        },
        "id": "6jFWj2-Qus1V",
        "outputId": "fe819446-aca8-4a52-8286-416ad205e801"
      },
      "execution_count": 6,
      "outputs": [
        {
          "output_type": "stream",
          "name": "stdout",
          "text": [
            "3\n"
          ]
        }
      ]
    },
    {
      "cell_type": "code",
      "source": [
        "true_int = True\n",
        "false_int = False\n",
        "\n",
        "print(true_int)\n",
        "print(false_int)"
      ],
      "metadata": {
        "colab": {
          "base_uri": "https://localhost:8080/"
        },
        "id": "DypNMBWLw1vv",
        "outputId": "dcae754e-8432-47fc-aabb-fec1ea0a8171"
      },
      "execution_count": 8,
      "outputs": [
        {
          "output_type": "stream",
          "name": "stdout",
          "text": [
            "True\n",
            "False\n"
          ]
        }
      ]
    },
    {
      "cell_type": "code",
      "source": [
        "true_int = int(True)\n",
        "false_int = int(False)\n",
        "\n",
        "print(true_int)\n",
        "print(false_int)"
      ],
      "metadata": {
        "colab": {
          "base_uri": "https://localhost:8080/"
        },
        "id": "LurSv8MpwIGv",
        "outputId": "258181b8-cbd9-40ba-ff2e-ba6b01692a62"
      },
      "execution_count": 7,
      "outputs": [
        {
          "output_type": "stream",
          "name": "stdout",
          "text": [
            "1\n",
            "0\n"
          ]
        }
      ]
    },
    {
      "cell_type": "code",
      "source": [
        "true_int = float(True)\n",
        "false_int = float(False)\n",
        "\n",
        "print(true_int)\n",
        "print(false_int)\n",
        "\n",
        "print(int(None))    # None 은 형변환 안됨"
      ],
      "metadata": {
        "colab": {
          "base_uri": "https://localhost:8080/",
          "height": 254
        },
        "id": "Ak0NV2Fwwyvn",
        "outputId": "17750a0a-bd0c-4735-8498-75730834f1d3"
      },
      "execution_count": 11,
      "outputs": [
        {
          "output_type": "stream",
          "name": "stdout",
          "text": [
            "1.0\n",
            "0.0\n"
          ]
        },
        {
          "output_type": "error",
          "ename": "TypeError",
          "evalue": "ignored",
          "traceback": [
            "\u001b[0;31m---------------------------------------------------------------------------\u001b[0m",
            "\u001b[0;31mTypeError\u001b[0m                                 Traceback (most recent call last)",
            "\u001b[0;32m<ipython-input-11-c1d069136150>\u001b[0m in \u001b[0;36m<cell line: 7>\u001b[0;34m()\u001b[0m\n\u001b[1;32m      5\u001b[0m \u001b[0mprint\u001b[0m\u001b[0;34m(\u001b[0m\u001b[0mfalse_int\u001b[0m\u001b[0;34m)\u001b[0m\u001b[0;34m\u001b[0m\u001b[0;34m\u001b[0m\u001b[0m\n\u001b[1;32m      6\u001b[0m \u001b[0;34m\u001b[0m\u001b[0m\n\u001b[0;32m----> 7\u001b[0;31m \u001b[0mprint\u001b[0m\u001b[0;34m(\u001b[0m\u001b[0mint\u001b[0m\u001b[0;34m(\u001b[0m\u001b[0;32mNone\u001b[0m\u001b[0;34m)\u001b[0m\u001b[0;34m)\u001b[0m\u001b[0;34m\u001b[0m\u001b[0;34m\u001b[0m\u001b[0m\n\u001b[0m",
            "\u001b[0;31mTypeError\u001b[0m: int() argument must be a string, a bytes-like object or a real number, not 'NoneType'"
          ]
        }
      ]
    },
    {
      "cell_type": "code",
      "source": [
        "n = 123\n",
        "print(type(n))\n",
        "\n",
        "m = 123.4\n",
        "print(type(m))\n",
        "\n",
        "n = str(n)\n",
        "print(type(n))\n",
        "\n",
        "m = str(m)\n",
        "print(type(m))"
      ],
      "metadata": {
        "colab": {
          "base_uri": "https://localhost:8080/"
        },
        "id": "OZc7a7WnxD22",
        "outputId": "57d44b39-6cda-4b6e-93d6-04b23380327a"
      },
      "execution_count": 22,
      "outputs": [
        {
          "output_type": "stream",
          "name": "stdout",
          "text": [
            "<class 'int'>\n",
            "<class 'float'>\n",
            "<class 'str'>\n",
            "<class 'str'>\n"
          ]
        }
      ]
    },
    {
      "cell_type": "code",
      "source": [
        "print(\"book('test'):\", bool('test'))"
      ],
      "metadata": {
        "colab": {
          "base_uri": "https://localhost:8080/"
        },
        "id": "OPTP89kHxIIF",
        "outputId": "62a74987-0144-4d37-b95a-e67f1a851385"
      },
      "execution_count": 12,
      "outputs": [
        {
          "output_type": "stream",
          "name": "stdout",
          "text": [
            "book('test'): True\n"
          ]
        }
      ]
    },
    {
      "cell_type": "code",
      "source": [
        "# 값이 있으면 true\n",
        "print(\"bool('test'):\", bool('test'))\n",
        "print(\"bool(' '):\", bool(' '))   # 공백 = 값 . true\n",
        "print(\"bool(''):\", bool(''))\n",
        "print(\"bool(100):\", bool(100))\n",
        "print(\"bool(1):\", bool(1))\n",
        "print(\"bool(0):\", bool(0))\n",
        "print(\"bool(-1):\", bool(-1))\n",
        "print(\"bool(None):\", bool(None))    # None\n",
        "print(\"bool([]):\", bool([]))\n",
        "print(\"bool(tuple()):\", bool(tuple()))\n",
        "print(\"bool({}):\", bool({}))\n",
        "print(\"bool(set()):\", bool(set()))\n"
      ],
      "metadata": {
        "colab": {
          "base_uri": "https://localhost:8080/"
        },
        "id": "La2NWXJ2x1j9",
        "outputId": "6abc45fb-9c18-4ce7-afa3-4228b6abf92b"
      },
      "execution_count": 15,
      "outputs": [
        {
          "output_type": "stream",
          "name": "stdout",
          "text": [
            "bool('test'): True\n",
            "bool(' '): True\n",
            "bool(''): False\n",
            "bool(100): True\n",
            "bool(1): True\n",
            "bool(0): False\n",
            "bool(-1): True\n",
            "bool(None): False\n",
            "bool([]): False\n",
            "bool(tuple()): False\n",
            "bool({}): False\n",
            "bool(set()): False\n"
          ]
        }
      ]
    },
    {
      "cell_type": "code",
      "source": [
        "s = 10\n",
        "print(float(s))\n",
        "\n",
        "s = '10'\n",
        "print(float(s))\n",
        "\n",
        "s = '3.14'\n",
        "print(float(s))"
      ],
      "metadata": {
        "colab": {
          "base_uri": "https://localhost:8080/"
        },
        "id": "Vs53ZOARx-b8",
        "outputId": "0c9db4cf-6098-4d90-d5b3-0c633ed382f0"
      },
      "execution_count": 16,
      "outputs": [
        {
          "output_type": "stream",
          "name": "stdout",
          "text": [
            "10.0\n",
            "10.0\n",
            "3.14\n"
          ]
        }
      ]
    },
    {
      "cell_type": "code",
      "source": [
        "infinity = float('inf')\n",
        "neg_infinity = float('-inf')\n",
        "not_a_number = float('nan')   # nan : Not A Number\n"
      ],
      "metadata": {
        "id": "l4mEEEEKyvN8"
      },
      "execution_count": 17,
      "outputs": []
    },
    {
      "cell_type": "markdown",
      "source": [],
      "metadata": {
        "id": "PKxlMDmYyxkw"
      }
    },
    {
      "cell_type": "code",
      "source": [
        "# 나눗셈 결과는 항상 float\n",
        "10 / 1\n"
      ],
      "metadata": {
        "colab": {
          "base_uri": "https://localhost:8080/"
        },
        "id": "HUvnUhhYywtt",
        "outputId": "4dc7b260-b1a3-4e41-d6d2-40d28bb2f538"
      },
      "execution_count": 18,
      "outputs": [
        {
          "output_type": "execute_result",
          "data": {
            "text/plain": [
              "10.0"
            ]
          },
          "metadata": {},
          "execution_count": 18
        }
      ]
    },
    {
      "cell_type": "markdown",
      "source": [
        "## List\n",
        "\n",
        "* map method list(map(int, '12345'))\n",
        ": 정수를 리스트로 변환해 줌"
      ],
      "metadata": {
        "id": "_V5oSjwyz5Ck"
      }
    },
    {
      "cell_type": "code",
      "source": [
        "# Set 은 중복을 허용하지 않음. sequence 가 없어서 뒤섞일 수 있음.\n"
      ],
      "metadata": {
        "id": "NRm_xt0Yz76E"
      },
      "execution_count": null,
      "outputs": []
    },
    {
      "cell_type": "code",
      "source": [
        "list(map(int, ['10', '20', '30']))\n"
      ],
      "metadata": {
        "colab": {
          "base_uri": "https://localhost:8080/"
        },
        "id": "73Vt-Po6z7Tm",
        "outputId": "71427a59-40dc-458a-88af-e4f76b329449"
      },
      "execution_count": 23,
      "outputs": [
        {
          "output_type": "execute_result",
          "data": {
            "text/plain": [
              "[10, 20, 30]"
            ]
          },
          "metadata": {},
          "execution_count": 23
        }
      ]
    },
    {
      "cell_type": "code",
      "source": [
        "list(map(int, '12345'))"
      ],
      "metadata": {
        "colab": {
          "base_uri": "https://localhost:8080/"
        },
        "id": "hESCJ7P5z8XG",
        "outputId": "7fed4b15-320c-474b-f5ea-e8ac64086403"
      },
      "execution_count": 25,
      "outputs": [
        {
          "output_type": "execute_result",
          "data": {
            "text/plain": [
              "[1, 2, 3, 4, 5]"
            ]
          },
          "metadata": {},
          "execution_count": 25
        }
      ]
    },
    {
      "cell_type": "markdown",
      "source": [
        "## 연습문제\n"
      ],
      "metadata": {
        "id": "MIkHyHIB6vSw"
      }
    },
    {
      "cell_type": "code",
      "source": [
        "# # # 1번 문제\n",
        "\n",
        "# 다음 변수들이 가리키고 있는 값에 화살표를 그려주세요.\n",
        "# (z의 값은 무엇일까요?)\n",
        "\n",
        "x = 100\n",
        "y = 100\n",
        "z = x\n",
        "\n",
        "print(z)"
      ],
      "metadata": {
        "colab": {
          "base_uri": "https://localhost:8080/"
        },
        "id": "uDEXJ2mUUoT5",
        "outputId": "73bbcba4-5b4d-41b6-b5fc-c8051412994b"
      },
      "execution_count": 12,
      "outputs": [
        {
          "output_type": "stream",
          "name": "stdout",
          "text": [
            "100\n"
          ]
        }
      ]
    },
    {
      "cell_type": "code",
      "source": [
        "# 문제2\n",
        "x = 258\n",
        "y = 258\n",
        "z = x\n",
        "\n",
        "print(z)\n"
      ],
      "metadata": {
        "colab": {
          "base_uri": "https://localhost:8080/"
        },
        "id": "aex0Ip-fU5vM",
        "outputId": "5db96246-ce16-4829-d24e-70c641b7676c"
      },
      "execution_count": 13,
      "outputs": [
        {
          "output_type": "stream",
          "name": "stdout",
          "text": [
            "258\n"
          ]
        }
      ]
    },
    {
      "cell_type": "code",
      "source": [
        "# 3번 문제\n",
        "\n",
        "str = input(\"문장을 입력해주세요:  \")\n",
        "print(str*2)"
      ],
      "metadata": {
        "colab": {
          "base_uri": "https://localhost:8080/"
        },
        "id": "k6tv7wscz9CS",
        "outputId": "49580506-64d6-4991-8858-380979069476"
      },
      "execution_count": 26,
      "outputs": [
        {
          "output_type": "stream",
          "name": "stdout",
          "text": [
            "문장을 입력해주세요:  안녕하세요\n",
            "안녕하세요안녕하세요\n"
          ]
        }
      ]
    },
    {
      "cell_type": "markdown",
      "source": [
        "### 연습문제 4번"
      ],
      "metadata": {
        "id": "Pw4ZU6uqbA-U"
      }
    },
    {
      "cell_type": "code",
      "source": [
        "# 4번 문제\n",
        "# 아래 변수에서 중복을 제거한 유일한 숫자를 알아내는 코드를 작성해주세요. 형변환을 통해 풀어주세요.\n",
        "# n = 1234567890123123123   --> 1234567890 로 보여주라는 질문인지 모르겠음\n",
        "# len(set(str(n)))    --> 숫자의 갯수 보여줌\n",
        "\n",
        "num = 1234567890123123123\n",
        "s_num = set(str(num))\n",
        "print(\"set으로 했을때: \", s_num)      # set 으로 숫자 순서가 변경.\n",
        "\n",
        "old_num = str(num)\n",
        "new_num = str()\n",
        "\n",
        "for txt in old_num:\n",
        "  if new_num.find(txt) == -1 :     # new_num 에 없으면\n",
        "    new_num = new_num + txt\n",
        "\n",
        "print(\"Old_num: \", old_num)\n",
        "print(\"New_num: \", new_num)\n",
        "\n"
      ],
      "metadata": {
        "colab": {
          "base_uri": "https://localhost:8080/"
        },
        "id": "Q7qX68HRz9W3",
        "outputId": "f63698fe-06cc-4ced-b592-d26079b93259"
      },
      "execution_count": 7,
      "outputs": [
        {
          "output_type": "stream",
          "name": "stdout",
          "text": [
            "set으로 했을때:  {'9', '4', '7', '8', '5', '1', '3', '0', '2', '6'}\n",
            "Old_num:  1234567890123123123\n",
            "New_num:  1234567890\n"
          ]
        }
      ]
    },
    {
      "cell_type": "code",
      "source": [
        "# 5번 문자열 s에 마지막에 있는 문자열을 2번 더 붙이는 코드를 작성해주세요.\n",
        "s = 'jun'\n",
        "s + (s[-1:]*2)\n"
      ],
      "metadata": {
        "colab": {
          "base_uri": "https://localhost:8080/",
          "height": 36
        },
        "id": "XM5FERuqG3Pu",
        "outputId": "d5484d44-51e2-4228-903c-bd5116fb9c92"
      },
      "execution_count": 54,
      "outputs": [
        {
          "output_type": "execute_result",
          "data": {
            "text/plain": [
              "'junnn'"
            ],
            "application/vnd.google.colaboratory.intrinsic+json": {
              "type": "string"
            }
          },
          "metadata": {},
          "execution_count": 54
        }
      ]
    },
    {
      "cell_type": "code",
      "source": [
        "# 6번 'abcde', 숫자, 대쉬(-), 언더스코어(_)를 모두 제거해주세요. 문자열에 translate를 사용해주세요.\n",
        "\n",
        "s = \"hello_world123\"\n",
        "\n",
        "table = str.maketrans('','','abcde0123456789-_')\n",
        "s.translate(table)\n"
      ],
      "metadata": {
        "colab": {
          "base_uri": "https://localhost:8080/",
          "height": 36
        },
        "id": "lMjycUiLHisy",
        "outputId": "656a4da2-3e18-46cf-b8e5-fe9683073a19"
      },
      "execution_count": 59,
      "outputs": [
        {
          "output_type": "execute_result",
          "data": {
            "text/plain": [
              "'hlloworl'"
            ],
            "application/vnd.google.colaboratory.intrinsic+json": {
              "type": "string"
            }
          },
          "metadata": {},
          "execution_count": 59
        }
      ]
    },
    {
      "cell_type": "code",
      "source": [
        "# 7번 문제\n",
        "# 확장자를 출력해주는 코드를 작성해주세요. 확장자는 png, jpeg, mp4 등입니다.\n",
        "\n",
        "s = 'licat.jpeg'\n",
        "# 출력값: 'jpeg'\n",
        "s_lst = s.split(\".\")\n",
        "print(s_lst[-1])\n",
        "\n",
        "s = 'li.cat.png'\n",
        "#  출력값: 'png'\n",
        "\n",
        "s_lst = s.split(\".\")\n",
        "print(s_lst[-1])\n",
        "\n"
      ],
      "metadata": {
        "colab": {
          "base_uri": "https://localhost:8080/"
        },
        "id": "y1ciesZOOOZm",
        "outputId": "0d1a7d14-5b84-460d-eab9-d5257757ad14"
      },
      "execution_count": 72,
      "outputs": [
        {
          "output_type": "stream",
          "name": "stdout",
          "text": [
            "jpeg\n",
            "png\n"
          ]
        }
      ]
    },
    {
      "cell_type": "markdown",
      "source": [
        "# 연산자"
      ],
      "metadata": {
        "id": "faxvP51o7fnf"
      }
    },
    {
      "cell_type": "markdown",
      "source": [
        "## 나눗셈 (division)\n",
        "\n",
        "* '/' float, '//' 는 정수로 반환\n",
        "* 음수는 내림으로 계산해서 정수 반환"
      ],
      "metadata": {
        "id": "VmxBdIm-7ie4"
      }
    },
    {
      "cell_type": "code",
      "source": [
        "# 나머지\n",
        "\n",
        "a = 10\n",
        "b = 3\n",
        "divide = a/b\n",
        "\n",
        "print(10 / 3)\n",
        "print(10 // 3)\n",
        "print(10 % 3)\n",
        "\n",
        "print(f'{a} / {b} = {divide:.2f}')"
      ],
      "metadata": {
        "colab": {
          "base_uri": "https://localhost:8080/"
        },
        "id": "pIP-GFqpz9pV",
        "outputId": "a31c38f5-1fbb-413e-e4c1-cedb0cb1c62c"
      },
      "execution_count": 42,
      "outputs": [
        {
          "output_type": "stream",
          "name": "stdout",
          "text": [
            "3.3333333333333335\n",
            "3\n",
            "1\n",
            "10 / 3 = 3.33\n"
          ]
        }
      ]
    },
    {
      "cell_type": "markdown",
      "source": [
        "## square (** 로 표시)"
      ],
      "metadata": {
        "id": "O8ASX08ZAgjg"
      }
    },
    {
      "cell_type": "code",
      "source": [
        "-2**2     # 정답은 4\n"
      ],
      "metadata": {
        "colab": {
          "base_uri": "https://localhost:8080/"
        },
        "id": "6B_9z-22_cWi",
        "outputId": "f0900256-2548-4827-d07e-19ed516eb525"
      },
      "execution_count": 33,
      "outputs": [
        {
          "output_type": "execute_result",
          "data": {
            "text/plain": [
              "-4"
            ]
          },
          "metadata": {},
          "execution_count": 33
        }
      ]
    },
    {
      "cell_type": "code",
      "source": [
        "# 음수를 괄호에 넣고 제곱\n",
        "(-2)**2"
      ],
      "metadata": {
        "colab": {
          "base_uri": "https://localhost:8080/"
        },
        "id": "eN-whV90AyeB",
        "outputId": "5655fd91-b2a1-42c2-a57d-7dba66c67725"
      },
      "execution_count": 37,
      "outputs": [
        {
          "output_type": "execute_result",
          "data": {
            "text/plain": [
              "4"
            ]
          },
          "metadata": {},
          "execution_count": 37
        }
      ]
    },
    {
      "cell_type": "markdown",
      "source": [
        "# 비교연산자 ( ==, !=, >=, <=, <, > )"
      ],
      "metadata": {
        "id": "D2vTFsO7CyBO"
      }
    },
    {
      "cell_type": "code",
      "source": [],
      "metadata": {
        "id": "HbhTZK2RA0T1"
      },
      "execution_count": null,
      "outputs": []
    },
    {
      "cell_type": "markdown",
      "source": [
        "# 부동소수점 비교 (math.isclose() 활용\n",
        "\n",
        "부동소수점 계산이 틀리는 것을 방지"
      ],
      "metadata": {
        "id": "AqgBfCb_EDXQ"
      }
    },
    {
      "cell_type": "code",
      "source": [
        "#\n",
        "\n",
        "\n",
        "import math\n",
        "\n",
        "result = 0.1 + 0.2\n",
        "print(result)"
      ],
      "metadata": {
        "colab": {
          "base_uri": "https://localhost:8080/"
        },
        "id": "6bI_zbttCw_8",
        "outputId": "00508088-8c5f-4f8e-9d4a-436a06949a89"
      },
      "execution_count": 43,
      "outputs": [
        {
          "output_type": "stream",
          "name": "stdout",
          "text": [
            "0.30000000000000004\n"
          ]
        }
      ]
    },
    {
      "cell_type": "code",
      "source": [
        "print(result == 0.3)"
      ],
      "metadata": {
        "colab": {
          "base_uri": "https://localhost:8080/"
        },
        "id": "wnwih9dZEZWx",
        "outputId": "c6199bcc-e626-40b4-d766-ad1894f16d58"
      },
      "execution_count": 44,
      "outputs": [
        {
          "output_type": "stream",
          "name": "stdout",
          "text": [
            "False\n"
          ]
        }
      ]
    },
    {
      "cell_type": "code",
      "source": [
        "print(math.isclose(result, 0.3))"
      ],
      "metadata": {
        "colab": {
          "base_uri": "https://localhost:8080/"
        },
        "id": "xaMKV0OeEcN4",
        "outputId": "5f1e1fc0-59c2-4c49-bbc9-45300c581369"
      },
      "execution_count": 45,
      "outputs": [
        {
          "output_type": "stream",
          "name": "stdout",
          "text": [
            "True\n"
          ]
        }
      ]
    },
    {
      "cell_type": "code",
      "source": [
        "print(math.isclose(result, 0.29))\n",
        "print(math.isclose(result, 0.31))\n",
        "print(math.isclose(result, 0.30000001)) # False"
      ],
      "metadata": {
        "colab": {
          "base_uri": "https://localhost:8080/"
        },
        "id": "glswmKrnEhNf",
        "outputId": "76974240-2d38-4924-acca-5ecd87a809d6"
      },
      "execution_count": 47,
      "outputs": [
        {
          "output_type": "stream",
          "name": "stdout",
          "text": [
            "False\n",
            "False\n",
            "False\n"
          ]
        }
      ]
    },
    {
      "cell_type": "code",
      "source": [],
      "metadata": {
        "id": "h_Sgsy_BElJg"
      },
      "execution_count": null,
      "outputs": []
    }
  ]
}

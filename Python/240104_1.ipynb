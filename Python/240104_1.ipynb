{
  "nbformat": 4,
  "nbformat_minor": 0,
  "metadata": {
    "colab": {
      "provenance": [],
      "authorship_tag": "ABX9TyPT5q4C+dOQzgILab/Q4Zdd",
      "include_colab_link": true
    },
    "kernelspec": {
      "name": "python3",
      "display_name": "Python 3"
    },
    "language_info": {
      "name": "python"
    }
  },
  "cells": [
    {
      "cell_type": "markdown",
      "metadata": {
        "id": "view-in-github",
        "colab_type": "text"
      },
      "source": [
        "<a href=\"https://colab.research.google.com/github/northeast23/orm/blob/main/240104_1.ipynb\" target=\"_parent\"><img src=\"https://colab.research.google.com/assets/colab-badge.svg\" alt=\"Open In Colab\"/></a>"
      ]
    },
    {
      "cell_type": "markdown",
      "source": [
        "# 논리연산자 (Logical Operators)"
      ],
      "metadata": {
        "id": "zclpML9h0Vjr"
      }
    },
    {
      "cell_type": "markdown",
      "source": [
        "## and"
      ],
      "metadata": {
        "id": "P2_1h6eo7caN"
      }
    },
    {
      "cell_type": "code",
      "source": [
        "num = 15\n",
        "result = num > 10 and num < 20\n",
        "print(result)                  # True"
      ],
      "metadata": {
        "colab": {
          "base_uri": "https://localhost:8080/"
        },
        "id": "mJz85Gma8IhC",
        "outputId": "74a12fb3-348f-4618-cb1e-a036df4b9bde"
      },
      "execution_count": 1,
      "outputs": [
        {
          "output_type": "stream",
          "name": "stdout",
          "text": [
            "True\n"
          ]
        }
      ]
    },
    {
      "cell_type": "code",
      "source": [
        "for i in range(101):\n",
        "  if i % 3 == 0 and i % 5 == 0:     # 5 의 배수이자 3의 배수 ==> 15의 배수 찾\n",
        "    print(i)"
      ],
      "metadata": {
        "colab": {
          "base_uri": "https://localhost:8080/"
        },
        "id": "T6nh1nG08ofb",
        "outputId": "826aceea-9ce6-4b8e-ff26-8c5138392675"
      },
      "execution_count": 2,
      "outputs": [
        {
          "output_type": "stream",
          "name": "stdout",
          "text": [
            "0\n",
            "15\n",
            "30\n",
            "45\n",
            "60\n",
            "75\n",
            "90\n"
          ]
        }
      ]
    },
    {
      "cell_type": "markdown",
      "source": [
        "## and - 단락평가(Short Circuit Evaluation)\n",
        "\n",
        "* and / or 연산에서 A 답이 false 이면 뒤를 수행하지 않음.\n",
        "* 가장 많이 걸러지는 조건을 맨 앞에 두어야 리소스를 줄일 수 있음"
      ],
      "metadata": {
        "id": "uTxXSH-DALxY"
      }
    },
    {
      "cell_type": "code",
      "source": [
        "a = 'hello'\n",
        "b = ''\n",
        "\n",
        "ans = a and b # 출력: ''\n",
        "print(bool(ans))"
      ],
      "metadata": {
        "colab": {
          "base_uri": "https://localhost:8080/"
        },
        "id": "d9RjMVGmAixa",
        "outputId": "85924566-7c28-43d7-e229-5e8274e06aa6"
      },
      "execution_count": 5,
      "outputs": [
        {
          "output_type": "stream",
          "name": "stdout",
          "text": [
            "False\n"
          ]
        }
      ]
    },
    {
      "cell_type": "markdown",
      "source": [
        "## or 단락평가(Short Circuit Evaluation)\n",
        "\n",
        "* or 연산에서 A 답이 true 이면 뒤를 수행하지 않음.\n",
        "* 가장 많이 걸러지는 조건을 맨 앞에 두어야 리소스를 줄일 수 있음"
      ],
      "metadata": {
        "id": "PDregxOc7e-K"
      }
    },
    {
      "cell_type": "markdown",
      "source": [
        "## not"
      ],
      "metadata": {
        "id": "o9OKNjS67flR"
      }
    },
    {
      "cell_type": "code",
      "source": [],
      "metadata": {
        "id": "xydzQ14V8Kas"
      },
      "execution_count": null,
      "outputs": []
    },
    {
      "cell_type": "markdown",
      "source": [
        "# 할당 연산 ( += 같은 형태. 연산후 할당 )\n",
        "\n"
      ],
      "metadata": {
        "id": "lU6mcb3-EN-M"
      }
    },
    {
      "cell_type": "markdown",
      "source": [
        "* //=    몫대입   ( a//=b  or a=a//b\n"
      ],
      "metadata": {
        "id": "4k8lVikrE2cy"
      }
    },
    {
      "cell_type": "code",
      "source": [
        "x = 5\n",
        "y = 2\n",
        "z = 10\n",
        "\n",
        "x1 = y * z\n",
        "x2 = x + (y * z)\n",
        "x += y * z   # 25\n",
        "\n",
        "print(x1)\n",
        "print(x2)\n",
        "print(x)"
      ],
      "metadata": {
        "colab": {
          "base_uri": "https://localhost:8080/"
        },
        "id": "NHTr5ZYB8KVy",
        "outputId": "5027aba4-0c40-43ea-b12a-7676aceb06ca"
      },
      "execution_count": 7,
      "outputs": [
        {
          "output_type": "stream",
          "name": "stdout",
          "text": [
            "20\n",
            "25\n",
            "25\n"
          ]
        }
      ]
    },
    {
      "cell_type": "code",
      "source": [
        "x = 5\n",
        "y = 2\n",
        "x /= y\n",
        "print(x)"
      ],
      "metadata": {
        "colab": {
          "base_uri": "https://localhost:8080/"
        },
        "id": "vE0CfQTh8KR6",
        "outputId": "88dc47c3-3b6f-4ccf-c96e-ac1f46619eff"
      },
      "execution_count": 8,
      "outputs": [
        {
          "output_type": "stream",
          "name": "stdout",
          "text": [
            "2.5\n"
          ]
        }
      ]
    },
    {
      "cell_type": "markdown",
      "source": [
        "# 식별연산 (is 구문, **id()** )\n",
        "\n",
        "* is **저장된 정보** 같으면 true\n",
        "* is not **저장된 정보** 가 다르면 true\n",
        "* **id()**   -5 ~ 256 까지는 같은 주소, 범위 벗어나면 주소가 달라짐. 주의"
      ],
      "metadata": {
        "id": "dZvj4IXwHRw4"
      }
    },
    {
      "cell_type": "code",
      "source": [
        "# 동일 인물 확인\n",
        "coffee_emp = \"Brand\"\n",
        "org_emp = \"Brand\"\n",
        "\n",
        "print(coffee_emp is org_emp)\n",
        "print(coffee_emp == org_emp)"
      ],
      "metadata": {
        "colab": {
          "base_uri": "https://localhost:8080/"
        },
        "id": "-PIYpoLY8KFK",
        "outputId": "b920a129-56dd-4b0a-cd60-f8809efda206"
      },
      "execution_count": 17,
      "outputs": [
        {
          "output_type": "stream",
          "name": "stdout",
          "text": [
            "True\n",
            "True\n"
          ]
        }
      ]
    },
    {
      "cell_type": "code",
      "source": [
        "coffee_emp_id = 1000\n",
        "org_emp_id = 1000\n",
        "\n",
        "print(coffee_emp is org_emp)   # false 나올 수 있음\n",
        "print(coffee_emp == org_emp)"
      ],
      "metadata": {
        "colab": {
          "base_uri": "https://localhost:8080/"
        },
        "id": "F8qQEtCV8KBy",
        "outputId": "325fdc36-c09f-4b54-d183-17f2eeb19db1"
      },
      "execution_count": 18,
      "outputs": [
        {
          "output_type": "stream",
          "name": "stdout",
          "text": [
            "True\n",
            "True\n"
          ]
        }
      ]
    },
    {
      "cell_type": "code",
      "source": [
        "a = [1, 2, 3]\n",
        "b = [1, 2, 3]\n",
        "c = a\n",
        "\n",
        "print('a == b', a == b)\n",
        "print('a == c', a == c)\n",
        "print('a is b', a is b)     # List 는 배열을 새로 생성하면 주소가 달라짐\n",
        "print('a is c', a is c)\n",
        "\n",
        "print(id(a),   id(b)  , id(c) )"
      ],
      "metadata": {
        "colab": {
          "base_uri": "https://localhost:8080/"
        },
        "id": "GG7UzVG58J9g",
        "outputId": "41ae66a3-0f46-40fc-914d-3889faba8583"
      },
      "execution_count": 20,
      "outputs": [
        {
          "output_type": "stream",
          "name": "stdout",
          "text": [
            "a == b True\n",
            "a == c True\n",
            "a is b False\n",
            "a is c True\n",
            "137025982828992 137025982783104 137025982828992\n"
          ]
        }
      ]
    },
    {
      "cell_type": "markdown",
      "source": [
        "# 멤버 연산 ( in : print(\"apple\" **in** fruits) )\n"
      ],
      "metadata": {
        "id": "8tzSdyKuPnmH"
      }
    },
    {
      "cell_type": "code",
      "source": [
        "a = [1, 2, 3, 4]\n",
        "b = [1, 2, 3, 4]\n",
        "c = 'hello world'\n",
        "\n",
        "print(1 in a) # 출력: True\n",
        "print(0 not in a) # 출력: True\n",
        "print([2] in b) # 출력: False\n",
        "print([1, 2] in b) # 출력: False\n",
        "print('h' in c) # 출력: True\n",
        "print('hello ' in c) # 출력: True"
      ],
      "metadata": {
        "colab": {
          "base_uri": "https://localhost:8080/"
        },
        "id": "_H2JleW0QOON",
        "outputId": "f746c9a6-fb31-408b-d14b-360d065fa253"
      },
      "execution_count": 21,
      "outputs": [
        {
          "output_type": "stream",
          "name": "stdout",
          "text": [
            "True\n",
            "True\n",
            "False\n",
            "False\n",
            "True\n",
            "True\n"
          ]
        }
      ]
    },
    {
      "cell_type": "markdown",
      "source": [
        "# 연습문제"
      ],
      "metadata": {
        "id": "YPEOywcuSx54"
      }
    },
    {
      "cell_type": "code",
      "source": [
        "# 연습문제\n",
        "# 입력한 금액을 5000원, 1000원, 500원, 100원으로 교환하는 프로그램을 만들어주세요.\n",
        "\n",
        "amt = input(\"금액:   \")\n",
        "cal = int(amt)\n",
        "cal_5000 = cal // 5000     # // 내림 나눗셈 . 5000 원 몇개\n",
        "\n",
        "cal_1000 = (cal-(cal_5000*5000)) // 1000\n",
        "cal_500 = (cal-(cal_5000*5000) - (cal_1000*1000)) // 500\n",
        "cal_100 = (cal-(cal_5000*5000) - (cal_1000*1000)-(cal_500*500)) // 100\n",
        "cal_10 = (cal-(cal_5000*5000) - (cal_1000*1000)-(cal_500*500)-(cal_100*100))\n",
        "chng = cal - (cal_5000*5000) - (cal_1000*1000)-(cal_500*500)-(cal_100*100) - (cal_10*10)\n",
        "print(f'입력된 금액: {amt} 를 5000원권 {cal_5000} 장, 1000원권 {cal_1000}, 500원 {cal_500} 개, 100원 {cal_100}개를 교환하였습니다.')"
      ],
      "metadata": {
        "colab": {
          "base_uri": "https://localhost:8080/"
        },
        "id": "PjRKMX6kQAnA",
        "outputId": "0693c1be-43a1-4095-d5bf-6c4489e71644"
      },
      "execution_count": 25,
      "outputs": [
        {
          "output_type": "stream",
          "name": "stdout",
          "text": [
            "금액:   3527784\n",
            "입력된 금액: 3527784 를 5000원권 705 장, 1000원권 2, 500원 1 개, 100원 2개를 교환하였습니다.\n"
          ]
        }
      ]
    },
    {
      "cell_type": "code",
      "source": [
        "#실습 2\n",
        "\n",
        "my_prc, pct = input(\" 제품 원가 ____ 와 할인율 ____ % 를 입력해주세요\").split()\n",
        "print (my_prc, pct)\n",
        "\n",
        "prc = float(my_prc)\n",
        "pct2 = float(pct)\n",
        "\n",
        "sale_price = prc - (prc * pct2 / 100)\n",
        "\n",
        "print(int(sale_price))\n",
        "\n"
      ],
      "metadata": {
        "colab": {
          "base_uri": "https://localhost:8080/"
        },
        "id": "M9ts236tPx4l",
        "outputId": "e69959b2-b93c-48f9-ea58-be2ac3f3bdbe"
      },
      "execution_count": 36,
      "outputs": [
        {
          "output_type": "stream",
          "name": "stdout",
          "text": [
            " 제품 원가 ____ 와 할인율 ____ % 를 입력해주세요100000 10\n",
            "100000 10\n",
            "90000\n"
          ]
        }
      ]
    },
    {
      "cell_type": "code",
      "source": [
        "# 문제\n",
        "\n",
        "name, age = input(\"이름 ___  나이___ \").split()\n",
        "t_age = int(age)\n",
        "\n",
        "n_age = t_age + 1\n",
        "\n",
        "ln = len(name)\n",
        "\n",
        "adult = bool(t_age >= 18)      # 입력한 나이로 성인여부 판단\n",
        "\n",
        "print(f'내년 나이 {n_age} , 이름 길이 {ln} 올해 성인여부 {adult}')"
      ],
      "metadata": {
        "colab": {
          "base_uri": "https://localhost:8080/"
        },
        "id": "FQBsSE5mgxsk",
        "outputId": "9f659794-a716-496e-9776-b4eaae0f3f34"
      },
      "execution_count": 42,
      "outputs": [
        {
          "output_type": "stream",
          "name": "stdout",
          "text": [
            "이름 ___  나이___ 홍길동 16\n",
            "내년 나이 17 , 이름 길이 3 올해 성인여부 False\n"
          ]
        }
      ]
    }
  ]
}
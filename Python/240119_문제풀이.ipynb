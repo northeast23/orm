{
  "nbformat": 4,
  "nbformat_minor": 0,
  "metadata": {
    "colab": {
      "provenance": [],
      "authorship_tag": "ABX9TyPgrpO+BQ2RsamUs5FaNYQ+"
    },
    "kernelspec": {
      "name": "python3",
      "display_name": "Python 3"
    },
    "language_info": {
      "name": "python"
    }
  },
  "cells": [
    {
      "cell_type": "markdown",
      "source": [
        "# 프로그래머스 코딩 문제\n",
        "[모범답안](https://github.com/paullabkorea/programmersLv0)\n",
        "\n",
        "* 코딩 인터뷰 완전분석\n",
        "* 듣기\n",
        "* 예제\n",
        "* 무식하게 풀기\n",
        "* 최적화\n",
        "* 검토하기\n",
        "* 구현하기\n",
        "* 테스트"
      ],
      "metadata": {
        "id": "9oharlJYELA5"
      }
    },
    {
      "cell_type": "markdown",
      "source": [
        "```\n",
        "def solution(data):\n",
        "    return\n",
        "\n",
        "solution()\n",
        "```"
      ],
      "metadata": {
        "id": "E9Pe57ZYMXlF"
      }
    },
    {
      "cell_type": "markdown",
      "source": [
        "## 짝수와 홀수 갯수 찾기"
      ],
      "metadata": {
        "id": "Wxr6Xvs4L2oV"
      }
    },
    {
      "cell_type": "code",
      "source": [
        "# 비효율적\n",
        "def solution(data):\n",
        "\n",
        "    even_num = [i % 2 == 0 for i in data]   # 순회\n",
        "    odd_num = [i % 2 != 0 for i in data]    # 순회\n",
        "    # print(odd_num, even_num)\n",
        "    return [sum(odd_num), sum(even_num)]    # sum - 순차적으로 sum (순회함)\n",
        "\n",
        "solution([1, 2, 3, 4, 5])\n",
        "\n"
      ],
      "metadata": {
        "colab": {
          "base_uri": "https://localhost:8080/"
        },
        "id": "u5Gr75_hLwqC",
        "outputId": "99d88562-343e-46f1-a5f2-3267381d44e1"
      },
      "execution_count": 7,
      "outputs": [
        {
          "output_type": "execute_result",
          "data": {
            "text/plain": [
              "[3, 2]"
            ]
          },
          "metadata": {},
          "execution_count": 7
        }
      ]
    },
    {
      "cell_type": "code",
      "source": [
        "def solution(data):\n",
        "    count = 0\n",
        "    for i in data:\n",
        "        if i % 2 == 0:\n",
        "            count += 1\n",
        "    return [count, len(data)-count]"
      ],
      "metadata": {
        "id": "bC1SMA3dQYQq"
      },
      "execution_count": 9,
      "outputs": []
    },
    {
      "cell_type": "code",
      "source": [
        "# 좋은 풀이는 아닙니다.\n",
        "# data의 가변 최대치를 봅니다.\n",
        "def solution(data):\n",
        "    짝수 = [i % 2 == 0 for i in data]\n",
        "    return [sum(짝수), len(data) - sum(짝수)] # sum이 순회합니다."
      ],
      "metadata": {
        "id": "Khwfb8auRcvy"
      },
      "execution_count": 12,
      "outputs": []
    },
    {
      "cell_type": "code",
      "execution_count": 11,
      "metadata": {
        "colab": {
          "base_uri": "https://localhost:8080/"
        },
        "id": "PIVQFP-FD0cv",
        "outputId": "5f600326-923c-4fe4-9a2b-dcd038597687"
      },
      "outputs": [
        {
          "output_type": "execute_result",
          "data": {
            "text/plain": [
              "[2, 3]"
            ]
          },
          "metadata": {},
          "execution_count": 11
        }
      ],
      "source": [
        "#\n",
        "def solution(num_list):\n",
        "    answer = [0, 0]\n",
        "    for i in num_list:\n",
        "        answer[i % 2] += 1\n",
        "    return answer\n",
        "\n",
        "solution([1, 2, 3, 4, 5])"
      ]
    },
    {
      "cell_type": "code",
      "source": [
        "def solution(data):\n",
        "    짝수 = [i % 2 == 0 for i in data]   # 순회\n",
        "    갯수 = sum(짝수)                    # 순회\n",
        "    return [갯수, len(data) - 갯수]"
      ],
      "metadata": {
        "id": "ReTRBTAIRSmV"
      },
      "execution_count": null,
      "outputs": []
    },
    {
      "cell_type": "markdown",
      "source": [
        "## 키큰 사람 찾기\n",
        "[키큰 사람 찾기](https://school.programmers.co.kr/learn/courses/30/lessons/120585)"
      ],
      "metadata": {
        "id": "kwGxjO6uSJWZ"
      }
    },
    {
      "cell_type": "markdown",
      "source": [
        "\n",
        "\n",
        "```\n",
        "제한사항\n",
        "1 ≤ array의 길이 ≤ 100\n",
        "1 ≤ height ≤ 200\n",
        "1 ≤ array의 원소 ≤ 200\n",
        "\n",
        "array\t               height\tresult\n",
        "[149, 180, 192, 170]\t167\t       3\n",
        "[180, 120, 140]\t     190\t       0\n",
        "\n",
        "입출력 예 #1\n",
        "\n",
        "149, 180, 192, 170 중 머쓱이보다 키가 큰 사람은 180, 192, 170으로 세 명입니다.\n",
        "입출력 예 #2\n",
        "\n",
        "180, 120, 140 중 190보다 큰 수는 없으므로 0명입니다.\n",
        "```\n",
        "\n"
      ],
      "metadata": {
        "id": "yrJ20PcxSjsF"
      }
    },
    {
      "cell_type": "code",
      "source": [
        "# 순회돌거나 인덱싱하지말고 unpacking 해서 사용\n",
        "# 아래 코드 비추\n",
        "\n",
        "def solution(array, height):\n",
        "    count = 0\n",
        "    for i in array:\n",
        "        if i > height:\n",
        "            count += 1\n",
        "    return count\n",
        "\n",
        "solution([149, 180, 192, 170], 167)"
      ],
      "metadata": {
        "colab": {
          "base_uri": "https://localhost:8080/"
        },
        "id": "oTgBIQunSOs9",
        "outputId": "15d60892-151a-42a4-bbac-f142e4e0bcdc"
      },
      "execution_count": 15,
      "outputs": [
        {
          "output_type": "execute_result",
          "data": {
            "text/plain": [
              "3"
            ]
          },
          "metadata": {},
          "execution_count": 15
        }
      ]
    },
    {
      "cell_type": "markdown",
      "source": [
        "### 여기 재확인 (filter)"
      ],
      "metadata": {
        "id": "NeB49AQqVrTe"
      }
    },
    {
      "cell_type": "code",
      "source": [
        "# map(filter) 사용\n",
        "# filter 는 호출전까지 실행안되는 object(instance), len(filter( )) 안됨\n",
        "# 주문만 하고 아직 제조되지 않은 커피\n",
        "# 커피를 달라고 소리쳐야 그떄 제조 (순회나 형변환 )\n",
        "\n",
        "def solution(array, height):\n",
        "    answer = sum(list(map(filter(lambda x: x > height, array))))\n",
        "    return answer\n",
        "\n",
        "solution([149, 180, 192, 170], 167)"
      ],
      "metadata": {
        "colab": {
          "base_uri": "https://localhost:8080/",
          "height": 332
        },
        "id": "2QrBmUQWT5M6",
        "outputId": "e0f448a0-85e1-4ab7-a8a9-2bf75a58f614"
      },
      "execution_count": 16,
      "outputs": [
        {
          "output_type": "error",
          "ename": "TypeError",
          "evalue": "map() must have at least two arguments.",
          "traceback": [
            "\u001b[0;31m---------------------------------------------------------------------------\u001b[0m",
            "\u001b[0;31mTypeError\u001b[0m                                 Traceback (most recent call last)",
            "\u001b[0;32m<ipython-input-16-5d286b1693ed>\u001b[0m in \u001b[0;36m<cell line: 10>\u001b[0;34m()\u001b[0m\n\u001b[1;32m      8\u001b[0m     \u001b[0;32mreturn\u001b[0m \u001b[0manswer\u001b[0m\u001b[0;34m\u001b[0m\u001b[0;34m\u001b[0m\u001b[0m\n\u001b[1;32m      9\u001b[0m \u001b[0;34m\u001b[0m\u001b[0m\n\u001b[0;32m---> 10\u001b[0;31m \u001b[0msolution\u001b[0m\u001b[0;34m(\u001b[0m\u001b[0;34m[\u001b[0m\u001b[0;36m149\u001b[0m\u001b[0;34m,\u001b[0m \u001b[0;36m180\u001b[0m\u001b[0;34m,\u001b[0m \u001b[0;36m192\u001b[0m\u001b[0;34m,\u001b[0m \u001b[0;36m170\u001b[0m\u001b[0;34m]\u001b[0m\u001b[0;34m,\u001b[0m \u001b[0;36m167\u001b[0m\u001b[0;34m)\u001b[0m\u001b[0;34m\u001b[0m\u001b[0;34m\u001b[0m\u001b[0m\n\u001b[0m",
            "\u001b[0;32m<ipython-input-16-5d286b1693ed>\u001b[0m in \u001b[0;36msolution\u001b[0;34m(array, height)\u001b[0m\n\u001b[1;32m      5\u001b[0m \u001b[0;34m\u001b[0m\u001b[0m\n\u001b[1;32m      6\u001b[0m \u001b[0;32mdef\u001b[0m \u001b[0msolution\u001b[0m\u001b[0;34m(\u001b[0m\u001b[0marray\u001b[0m\u001b[0;34m,\u001b[0m \u001b[0mheight\u001b[0m\u001b[0;34m)\u001b[0m\u001b[0;34m:\u001b[0m\u001b[0;34m\u001b[0m\u001b[0;34m\u001b[0m\u001b[0m\n\u001b[0;32m----> 7\u001b[0;31m     \u001b[0manswer\u001b[0m \u001b[0;34m=\u001b[0m \u001b[0msum\u001b[0m\u001b[0;34m(\u001b[0m\u001b[0mlist\u001b[0m\u001b[0;34m(\u001b[0m\u001b[0mmap\u001b[0m\u001b[0;34m(\u001b[0m\u001b[0mfilter\u001b[0m\u001b[0;34m(\u001b[0m\u001b[0;32mlambda\u001b[0m \u001b[0mx\u001b[0m\u001b[0;34m:\u001b[0m \u001b[0mx\u001b[0m \u001b[0;34m>\u001b[0m \u001b[0mheight\u001b[0m\u001b[0;34m,\u001b[0m \u001b[0marray\u001b[0m\u001b[0;34m)\u001b[0m\u001b[0;34m)\u001b[0m\u001b[0;34m)\u001b[0m\u001b[0;34m)\u001b[0m\u001b[0;34m\u001b[0m\u001b[0;34m\u001b[0m\u001b[0m\n\u001b[0m\u001b[1;32m      8\u001b[0m     \u001b[0;32mreturn\u001b[0m \u001b[0manswer\u001b[0m\u001b[0;34m\u001b[0m\u001b[0;34m\u001b[0m\u001b[0m\n\u001b[1;32m      9\u001b[0m \u001b[0;34m\u001b[0m\u001b[0m\n",
            "\u001b[0;31mTypeError\u001b[0m: map() must have at least two arguments."
          ]
        }
      ]
    },
    {
      "cell_type": "code",
      "source": [
        "# 리스트의 형변환보다는 sum 이 부하가 덜함\n",
        "\n",
        "def solution(array, height):\n",
        "    return sum(map(lambda x: x > height, array))\n",
        "\n",
        "solution([149, 180, 192, 170], 167)\n"
      ],
      "metadata": {
        "id": "Acv6Tw1QU79m"
      },
      "execution_count": null,
      "outputs": []
    },
    {
      "cell_type": "markdown",
      "source": [
        "## 숨어있는 숫자의 덧셈\n",
        "\n",
        "[link text](https://school.programmers.co.kr/learn/courses/30/lessons/120851)"
      ],
      "metadata": {
        "id": "al4p1wsfV0Er"
      }
    },
    {
      "cell_type": "code",
      "source": [
        "def solution():\n",
        "    pass\n",
        "\n",
        "solution(\"aAb1B2cC34oOp\")"
      ],
      "metadata": {
        "id": "Q26HWgYIV3ds"
      },
      "execution_count": null,
      "outputs": []
    },
    {
      "cell_type": "code",
      "source": [
        "# 오답, 그러나 이렇게도 많이 사용합니다.\n",
        "def solution(my_string):\n",
        "    count = 0\n",
        "    for i in my_string:\n",
        "        if i.isdigit():\n",
        "            count += 1\n",
        "\n",
        "solution(\"aAb1B2cC34oOp\")"
      ],
      "metadata": {
        "id": "E02vRPpeW2VB"
      },
      "execution_count": null,
      "outputs": []
    },
    {
      "cell_type": "code",
      "source": [
        "# 비효율적. 문법 복습 차원\n",
        "def solution(my_string):\n",
        "    result = 0\n",
        "    for i in my_string:\n",
        "        if i.isdigit():\n",
        "            result += int(i)\n",
        "\n",
        "    return result\n",
        "\n",
        "solution(\"aAb1B2cC34oOp\")"
      ],
      "metadata": {
        "id": "y4lUcoAfW7Wz"
      },
      "execution_count": null,
      "outputs": []
    },
    {
      "cell_type": "code",
      "source": [
        "# 비효율적. 문법 복습 차원 *********** 답이 아님 확인 ---------\n",
        "def solution(my_str):\n",
        "    return list(filter(lambda x: str.isdigit, list(my_str)))    # str.isdigit 은 함수를 전달한 것\n",
        "\n",
        "solution(\"aAb1B2cC34oOp\")"
      ],
      "metadata": {
        "colab": {
          "base_uri": "https://localhost:8080/"
        },
        "id": "5wXAr1gZW8n_",
        "outputId": "8180b84f-9664-4e17-8e7f-f38e8b98656a"
      },
      "execution_count": 18,
      "outputs": [
        {
          "output_type": "execute_result",
          "data": {
            "text/plain": [
              "['a', 'A', 'b', '1', 'B', '2', 'c', 'C', '3', '4', 'o', 'O', 'p']"
            ]
          },
          "metadata": {},
          "execution_count": 18
        }
      ]
    },
    {
      "cell_type": "code",
      "source": [
        "# 효율적이진 않지만, 문법 복습차원에서\n",
        "def solution(my_string):\n",
        "    return sum(map(int,(filter(str.isdigit, my_string))))\n",
        "\n",
        "solution(\"aAb1B2cC34oOp\")"
      ],
      "metadata": {
        "colab": {
          "base_uri": "https://localhost:8080/"
        },
        "id": "eOEGwjXHYm1F",
        "outputId": "52df76d0-4b2f-4804-ebdb-cfe97da571cc"
      },
      "execution_count": 19,
      "outputs": [
        {
          "output_type": "execute_result",
          "data": {
            "text/plain": [
              "10"
            ]
          },
          "metadata": {},
          "execution_count": 19
        }
      ]
    },
    {
      "cell_type": "code",
      "source": [
        "# isdigit에 () 가 있고 없고의 차이는 무엇인가요?\n",
        "def 함수(x):\n",
        "    return x.isdigit()\n",
        "\n",
        "def solution(my_string):\n",
        "    return list(filter(함수, my_string))\n",
        "\n",
        "solution(\"aAb1B2cC34oOp\")"
      ],
      "metadata": {
        "id": "2zKy-2eIXWca"
      },
      "execution_count": null,
      "outputs": []
    },
    {
      "cell_type": "code",
      "source": [
        "# r 는 raw 의미\n",
        "\n",
        "r'hello\\nworld'      # \\ 은 escape 문자.\n"
      ],
      "metadata": {
        "colab": {
          "base_uri": "https://localhost:8080/",
          "height": 35
        },
        "id": "TdKrwS1UZZeb",
        "outputId": "33bd3416-885a-4591-c045-8d3aca93068d"
      },
      "execution_count": 20,
      "outputs": [
        {
          "output_type": "execute_result",
          "data": {
            "text/plain": [
              "'hello\\\\nworld'"
            ],
            "application/vnd.google.colaboratory.intrinsic+json": {
              "type": "string"
            }
          },
          "metadata": {},
          "execution_count": 20
        }
      ]
    },
    {
      "cell_type": "code",
      "source": [
        "# r은 raw 날것의 라는 뜻이 있어요.\n",
        "# 실무에서 자주쓰는 용어입니다. raw != low(이 용어는 자주 사용하지 않습니다.)\n",
        "# raw data를 전달해줘 => 가공하지 않은 순수 데이터를 달라는 얘기입니다.\n",
        "\n",
        "r'hello\\nworld' # \\n 이스케이프 문자입니다.\n",
        "print('hello\\nworld')\n",
        "print(r'hello\\nworld') # 왜요? 정규표현식에서 이스케이프 문자를 많이 사용하니까요!"
      ],
      "metadata": {
        "id": "PdjTVekbaJj6"
      },
      "execution_count": null,
      "outputs": []
    },
    {
      "cell_type": "code",
      "source": [
        "import re\n",
        "\n",
        "re.findall(r'[0-9]', \"aAb1B2cC34oOp\")"
      ],
      "metadata": {
        "id": "Gy5IPFjXaZiQ"
      },
      "execution_count": null,
      "outputs": []
    },
    {
      "cell_type": "code",
      "source": [
        "# 자주 사용\n",
        "import re\n",
        "\n",
        "def solution(s):\n",
        "    return sum(map(int, re.findall(r'[0-9]', s)))\n",
        "\n",
        "solution('aAb1B2cC34oOp')"
      ],
      "metadata": {
        "colab": {
          "base_uri": "https://localhost:8080/"
        },
        "id": "8ZQt-2cndlG_",
        "outputId": "0b955d75-d86e-4542-8faa-7be947b36798"
      },
      "execution_count": 21,
      "outputs": [
        {
          "output_type": "execute_result",
          "data": {
            "text/plain": [
              "10"
            ]
          },
          "metadata": {},
          "execution_count": 21
        }
      ]
    },
    {
      "cell_type": "code",
      "source": [
        "# 정답\n",
        "import re\n",
        "\n",
        "def solution(s):\n",
        "    return sum(map(int, (re.sub(r'[a-zA-Z]', '', s))))\n",
        "\n",
        "solution('aAb1B2cC34oOp')"
      ],
      "metadata": {
        "id": "yN7o9Jh-duFF"
      },
      "execution_count": null,
      "outputs": []
    },
    {
      "cell_type": "markdown",
      "source": [
        "## 암호 해독\n",
        "[link text](https://school.programmers.co.kr/learn/courses/30/lessons/120892)"
      ],
      "metadata": {
        "id": "GOcWmLGsekwa"
      }
    },
    {
      "cell_type": "code",
      "source": [
        "def solution(cipher, code):\n",
        "    return cipher[code-1::code]\n",
        "\n",
        "solution('dfjardstddetckdaccccdegk', 4)\n",
        "solution('pfqallllabwaoclk', 2)"
      ],
      "metadata": {
        "colab": {
          "base_uri": "https://localhost:8080/",
          "height": 35
        },
        "id": "0jbmivw0exQ3",
        "outputId": "cf1faa0b-abe2-48c8-bdd4-14215a16e148"
      },
      "execution_count": 23,
      "outputs": [
        {
          "output_type": "execute_result",
          "data": {
            "text/plain": [
              "'fallback'"
            ],
            "application/vnd.google.colaboratory.intrinsic+json": {
              "type": "string"
            }
          },
          "metadata": {},
          "execution_count": 23
        }
      ]
    },
    {
      "cell_type": "code",
      "source": [
        "# 여기 카운트 따라가기 *****************\n",
        "def solution(cipher, code):\n",
        "    count = 1\n",
        "    for i in cipher:\n",
        "        if count == code:\n",
        "            print(i)\n",
        "            count = 0\n",
        "        count += 1\n",
        "\n",
        "solution('dfjardstddetckdaccccdegk', 4)"
      ],
      "metadata": {
        "colab": {
          "base_uri": "https://localhost:8080/"
        },
        "id": "rYK_wce6fdBb",
        "outputId": "3596047e-2adf-4d2b-bcd3-8b0033d14865"
      },
      "execution_count": 24,
      "outputs": [
        {
          "output_type": "stream",
          "name": "stdout",
          "text": [
            "a\n",
            "t\n",
            "t\n",
            "a\n",
            "c\n",
            "k\n"
          ]
        }
      ]
    },
    {
      "cell_type": "code",
      "source": [
        "# 이렇게도 가능하나 print 썼어서 정답은 아님. 부하!\n",
        "def solution(cipher, code):\n",
        "    count = 1\n",
        "    for i, j in enumerate(cipher, 1):\n",
        "        if i % code == 0:\n",
        "            print(j)\n",
        "\n",
        "\n",
        "solution('dfjardstddetckdaccccdegk', 4)"
      ],
      "metadata": {
        "id": "OOX02rgqgGKR"
      },
      "execution_count": null,
      "outputs": []
    },
    {
      "cell_type": "markdown",
      "source": [
        "## 369 게임\n",
        "[link text](https://school.programmers.co.kr/learn/courses/30/lessons/120891)"
      ],
      "metadata": {
        "id": "h3CiYSFKjqUl"
      }
    },
    {
      "cell_type": "markdown",
      "source": [
        "\n",
        "\n",
        "```\n",
        "제한사항\n",
        "1 ≤ order ≤ 1,000,000\n",
        "입출력 예\n",
        "order\tresult\n",
        "3\t1\n",
        "29423\t2\n",
        "```\n",
        "\n"
      ],
      "metadata": {
        "id": "XDOMANjokGT8"
      }
    },
    {
      "cell_type": "code",
      "source": [
        "def solution(order):\n",
        "    order = str(order)\n",
        "    return order.count('3') + order.count('6') + order.count('9')"
      ],
      "metadata": {
        "id": "tTUEITj2jxJi"
      },
      "execution_count": null,
      "outputs": []
    },
    {
      "cell_type": "code",
      "source": [
        "import re\n",
        "\n",
        "def solution(order):\n",
        "    order = str(order)\n",
        "    return len(list(re.findall(r'[369]', '1231231234839291')))"
      ],
      "metadata": {
        "id": "UU8Zvxj0jzoV"
      },
      "execution_count": null,
      "outputs": []
    },
    {
      "cell_type": "markdown",
      "source": [
        "## 중복문자 제거. 순서대로\n",
        "[link text](https://school.programmers.co.kr/learn/courses/30/lessons/120888)"
      ],
      "metadata": {
        "id": "kzeTzwMvkNxA"
      }
    },
    {
      "cell_type": "markdown",
      "source": [
        "\n",
        "\n",
        "```\n",
        "\"people\"\t\"peol\"\n",
        "\"We are the world\"\t\"We arthwold\"\n",
        "```\n",
        "\n"
      ],
      "metadata": {
        "id": "Il0Ut2igkov_"
      }
    },
    {
      "cell_type": "code",
      "source": [
        "# set 으로 중복 제거. 순서를 보장하지 않음.\n",
        "set(\"people\")"
      ],
      "metadata": {
        "colab": {
          "base_uri": "https://localhost:8080/"
        },
        "id": "pRjG9c-ek85f",
        "outputId": "f79f9365-a4a2-4971-b94b-c05be2076422"
      },
      "execution_count": 27,
      "outputs": [
        {
          "output_type": "execute_result",
          "data": {
            "text/plain": [
              "{'e', 'l', 'o', 'p'}"
            ]
          },
          "metadata": {},
          "execution_count": 27
        }
      ]
    },
    {
      "cell_type": "code",
      "source": [
        "def solution(my_str):\n",
        "    answer = ''\n",
        "    for i in my_str:\n",
        "        if i not in answer:\n",
        "            answer += i\n",
        "    return answer\n",
        "\n",
        "solution(\"people\")"
      ],
      "metadata": {
        "colab": {
          "base_uri": "https://localhost:8080/",
          "height": 35
        },
        "id": "9S_S1l6Bkn11",
        "outputId": "7929350d-4e9d-4e4d-c867-6f5e9e6be954"
      },
      "execution_count": 28,
      "outputs": [
        {
          "output_type": "execute_result",
          "data": {
            "text/plain": [
              "'peol'"
            ],
            "application/vnd.google.colaboratory.intrinsic+json": {
              "type": "string"
            }
          },
          "metadata": {},
          "execution_count": 28
        }
      ]
    },
    {
      "cell_type": "code",
      "source": [
        "# 멋진 풀이.\n",
        "def solution(my_string):\n",
        "    return ''.join(dict.fromkeys(my_string))    # dictionary 의 key 는 중복허용안함. 3.6 부터 순서를 보장\n",
        "                                                # join 하면 key 값으로만 join\n",
        "solution('people')"
      ],
      "metadata": {
        "colab": {
          "base_uri": "https://localhost:8080/",
          "height": 35
        },
        "id": "GVYRkX1Jk3mU",
        "outputId": "455916b3-1d63-4e98-ba6b-ff589ac15672"
      },
      "execution_count": 29,
      "outputs": [
        {
          "output_type": "execute_result",
          "data": {
            "text/plain": [
              "'peol'"
            ],
            "application/vnd.google.colaboratory.intrinsic+json": {
              "type": "string"
            }
          },
          "metadata": {},
          "execution_count": 29
        }
      ]
    },
    {
      "cell_type": "markdown",
      "source": [
        "## A 를 순서를 바꿔서 B 만들기 (sorted)\n",
        "[link text](https://school.programmers.co.kr/learn/courses/30/lessons/120886)"
      ],
      "metadata": {
        "id": "VGNvAUTbm7iS"
      }
    },
    {
      "cell_type": "markdown",
      "source": [
        "\n",
        "\n",
        "```\n",
        "# 3시간, 4시간, 1문제당 30분 ~ 40분\n",
        "# 앞에 문제는 20분 내에 푸는 문제도 있어야 함\n",
        "# Lv 1 ~ 2는 20분 ~ 40분 내에 푸셔야 합니다.\n",
        "# 실전에서는 Lv1 ~ 2도 1시간 걸리셔도 됩니다.\n",
        "# Lv4 ~ Lv5 포기\n",
        "################\n",
        "# 연습하면서 Lv0 10분 ~ 20분 고민하셨으면 정답을 보시고 외우시는 편이 좀 더 편하실겁니다.\n",
        "```\n",
        "\n"
      ],
      "metadata": {
        "id": "Paj8SxYUxpmT"
      }
    },
    {
      "cell_type": "code",
      "source": [
        "def solution(before, after):\n",
        "    if len(before) != len(after): # 예외 처리는 앞에서 반드시 해주어야 합니다. 특히나 요소가 없거나 길이가 0인 경우\n",
        "        return 0\n",
        "    return 1 if sorted(before) == sorted(after) else 0      # sorted() 한 결과를 비교해서 같으면 그 단어를 만들수 있으니까\n",
        "\n",
        "solution(\"olleh\", \"hello\")"
      ],
      "metadata": {
        "colab": {
          "base_uri": "https://localhost:8080/"
        },
        "id": "XnSee0damdgy",
        "outputId": "51c941e3-bd0f-4607-d53c-0bc5b5c99642"
      },
      "execution_count": 49,
      "outputs": [
        {
          "output_type": "execute_result",
          "data": {
            "text/plain": [
              "1"
            ]
          },
          "metadata": {},
          "execution_count": 49
        }
      ]
    },
    {
      "cell_type": "code",
      "source": [
        "import collections\n",
        "\n",
        "\n",
        "# collections.Counter(\"olleh\") == collections.Counter(\"hello\")\n",
        "# collections.Counter(\"olleh\") == collections.Counter(\"hhhhhhhhhello\")\n",
        "collections.Counter(\"olleh\")"
      ],
      "metadata": {
        "colab": {
          "base_uri": "https://localhost:8080/"
        },
        "id": "I6tRwtL_wlB5",
        "outputId": "c881e2e8-d0db-408d-ae05-9c9a6a40ef24"
      },
      "execution_count": 51,
      "outputs": [
        {
          "output_type": "execute_result",
          "data": {
            "text/plain": [
              "Counter({'o': 1, 'l': 2, 'e': 1, 'h': 1})"
            ]
          },
          "metadata": {},
          "execution_count": 51
        }
      ]
    },
    {
      "cell_type": "code",
      "source": [
        "def solution(before, after):\n",
        "    a = list(after)\n",
        "    for i in before:\n",
        "        if i in a:\n",
        "            a.remove(i)\n",
        "        else:\n",
        "            return 0\n",
        "    if a:               # 많아도 됨. 성능에 영향을 끼치지 않음\n",
        "        return 0\n",
        "    return 1\n",
        "\n",
        "solution(\"olleh\", \"hello\")\n"
      ],
      "metadata": {
        "colab": {
          "base_uri": "https://localhost:8080/"
        },
        "id": "pYtDIQwZnmrj",
        "outputId": "0ea67bcc-5eba-44c6-e001-142f29a21397"
      },
      "execution_count": 53,
      "outputs": [
        {
          "output_type": "execute_result",
          "data": {
            "text/plain": [
              "1"
            ]
          },
          "metadata": {},
          "execution_count": 53
        }
      ]
    },
    {
      "cell_type": "code",
      "source": [
        "# 회문\n",
        "\n",
        "# 'hello' => 'elloh' => 'llohe'\n",
        "# 'hello' => 'ohell' => 'lohel'\n",
        "# collections.deque를 사용해서 풀면 쉽게 풀립니다.\n",
        "\n",
        "# 문제1 'hello'를 앞뒤로 이동시켜 'llohe'를 만들 수 있나요?\n",
        "# 'hellohello'\n",
        "\n",
        "# 문제2 몇칸 이동했나요?\n",
        "# 'hellohello'.index('llohe')"
      ],
      "metadata": {
        "id": "Raq3IdixyJ0T"
      },
      "execution_count": null,
      "outputs": []
    },
    {
      "cell_type": "markdown",
      "source": [
        "## 저주의 숫자 3 (filter)\n",
        "[link text](https://school.programmers.co.kr/learn/courses/30/lessons/120871)"
      ],
      "metadata": {
        "id": "OXFYud6nyYYb"
      }
    },
    {
      "cell_type": "markdown",
      "source": [],
      "metadata": {
        "id": "VyT5HOcxz9YY"
      }
    },
    {
      "cell_type": "markdown",
      "source": [
        "![image.png](data:image/png;base64,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)"
      ],
      "metadata": {
        "id": "ZaNjIcd2zVeq"
      }
    },
    {
      "cell_type": "code",
      "source": [
        "filter(lambda x: (x % 3 != 0) and ('3' not in str(x)), range(1000))\n",
        "\n"
      ],
      "metadata": {
        "colab": {
          "base_uri": "https://localhost:8080/"
        },
        "id": "jauqabrJy7IQ",
        "outputId": "2b2cea76-7e23-4a09-8a35-933e5f063c03"
      },
      "execution_count": 62,
      "outputs": [
        {
          "output_type": "execute_result",
          "data": {
            "text/plain": [
              "<filter at 0x79890e78b7c0>"
            ]
          },
          "metadata": {},
          "execution_count": 62
        }
      ]
    },
    {
      "cell_type": "code",
      "source": [
        "list(filter(lambda x: (x % 3 != 0) and ('3' not in str(x)), range(1000)))[15-1]"
      ],
      "metadata": {
        "colab": {
          "base_uri": "https://localhost:8080/"
        },
        "id": "fWHMIoQp0rrz",
        "outputId": "490f3886-f3db-49bd-c310-99fa512a45c9"
      },
      "execution_count": 63,
      "outputs": [
        {
          "output_type": "execute_result",
          "data": {
            "text/plain": [
              "25"
            ]
          },
          "metadata": {},
          "execution_count": 63
        }
      ]
    },
    {
      "cell_type": "code",
      "source": [
        "def solution(num):\n",
        "    return list(filter(lambda x: (x % 3 != 0) and ('3' not in str(x)), range(1000)))[num-1]\n",
        "\n",
        "solution(15)"
      ],
      "metadata": {
        "colab": {
          "base_uri": "https://localhost:8080/"
        },
        "id": "WmU8J9ur0_Ue",
        "outputId": "1a79388b-a9b7-42d1-a5c9-a1421c4698cd"
      },
      "execution_count": 64,
      "outputs": [
        {
          "output_type": "execute_result",
          "data": {
            "text/plain": [
              "25"
            ]
          },
          "metadata": {},
          "execution_count": 64
        }
      ]
    },
    {
      "cell_type": "code",
      "source": [
        "solution = lambda n:[i for i in range(10000) if i % 3 != 0 and '3' not in str(i)][n-1]\n",
        "\n",
        "solution(15)"
      ],
      "metadata": {
        "colab": {
          "base_uri": "https://localhost:8080/"
        },
        "id": "H7VUDmg61HKA",
        "outputId": "614d7cfd-5dc5-42df-a9d7-56ea8caa63d2"
      },
      "execution_count": 66,
      "outputs": [
        {
          "output_type": "execute_result",
          "data": {
            "text/plain": [
              "25"
            ]
          },
          "metadata": {},
          "execution_count": 66
        }
      ]
    },
    {
      "cell_type": "code",
      "source": [
        "def solution(n):\n",
        "    l = []\n",
        "    for i in range(1000):\n",
        "        if (i % 3 != 0) and ('3' not in str(i)):\n",
        "            l.append(i)\n",
        "    print(l[n-1])\n",
        "\n",
        "solution(15)"
      ],
      "metadata": {
        "colab": {
          "base_uri": "https://localhost:8080/"
        },
        "id": "w1BdE2-x1rGp",
        "outputId": "ed550104-1c72-418a-950c-d02a708eea1b"
      },
      "execution_count": 76,
      "outputs": [
        {
          "output_type": "stream",
          "name": "stdout",
          "text": [
            "25\n"
          ]
        }
      ]
    },
    {
      "cell_type": "markdown",
      "source": [
        "## 진료 순서 정하기 (좋은 문제)\n",
        "[link text](https://school.programmers.co.kr/learn/courses/30/lessons/120835)"
      ],
      "metadata": {
        "id": "EoOsuCnkHuyw"
      }
    },
    {
      "cell_type": "markdown",
      "source": [
        "\n",
        "```\n",
        "입출력 예\n",
        "emergency\tresult\n",
        "[3, 76, 24]\t[3, 1, 2]\n",
        "[1, 2, 3, 4, 5, 6, 7]\t[7, 6, 5, 4, 3, 2, 1]\n",
        "[30, 10, 23, 6, 100]\t[2, 4, 3, 5, 1]\n",
        "```\n",
        "\n"
      ],
      "metadata": {
        "id": "YgXPhVX5J8OU"
      }
    },
    {
      "cell_type": "code",
      "source": [
        "# 좋은 문제입니다.\n",
        "emergency = [3, 76, 24]\n",
        "\n",
        "sorted_emergency = sorted(emergency, reverse=True)\n",
        "sorted_emergency\n",
        "\n",
        "# 원하는 결과값 [3, 1, 2]\n",
        "[sorted_emergency.index(i) + 1 for i in emergency]"
      ],
      "metadata": {
        "colab": {
          "base_uri": "https://localhost:8080/"
        },
        "id": "MXM8yWSI2tMy",
        "outputId": "05531ac3-b3f5-43c0-9d93-ab2152b98b88"
      },
      "execution_count": 83,
      "outputs": [
        {
          "output_type": "execute_result",
          "data": {
            "text/plain": [
              "[3, 1, 2]"
            ]
          },
          "metadata": {},
          "execution_count": 83
        }
      ]
    },
    {
      "cell_type": "code",
      "source": [
        "# emergency     result\n",
        "# [3, 76, 24]   [3, 1, 2]\n",
        "\n",
        "def solution(emergency):\n",
        "    sorted_emergency = sorted(emergency, reverse=True)\n",
        "    return [sorted_emergency.index(i) + 1 for i in emergency]\n",
        "\n",
        "\n",
        "solution([3, 76, 24])"
      ],
      "metadata": {
        "id": "-iZIqBQPLSkr"
      },
      "execution_count": null,
      "outputs": []
    },
    {
      "cell_type": "code",
      "source": [
        "# '064' 넣을때 스트링으로 넣어야 함. 아니면 에러 날 수도.\n",
        "data = ['제주', '경기', '전주'] # ['064', '031', '063']\n",
        "data2 = {\n",
        "    '제주': '064',\n",
        "    '경기': '031',\n",
        "    '전주': '063'\n",
        "}\n",
        "\n",
        "[data2[i] for i in data]\n"
      ],
      "metadata": {
        "colab": {
          "base_uri": "https://localhost:8080/"
        },
        "id": "_cBcPCcVKVfJ",
        "outputId": "4502d522-529f-42ff-8343-3ad373dc1a2d"
      },
      "execution_count": 84,
      "outputs": [
        {
          "output_type": "execute_result",
          "data": {
            "text/plain": [
              "['064', '031', '063']"
            ]
          },
          "metadata": {},
          "execution_count": 84
        }
      ]
    },
    {
      "cell_type": "markdown",
      "source": [
        "## 가까운 수 찾기 (sorted)\n",
        "[link text](https://school.programmers.co.kr/learn/courses/30/lessons/120890)"
      ],
      "metadata": {
        "id": "jk7IM6EvL96X"
      }
    },
    {
      "cell_type": "markdown",
      "source": [
        "\n",
        "\n",
        "```\n",
        "array\tn\tresult\n",
        "[3, 10, 28]\t20\t28\n",
        "[10, 11, 12]\t13\t12\n",
        "```\n",
        "\n"
      ],
      "metadata": {
        "id": "ModtM3NHMPtR"
      }
    },
    {
      "cell_type": "code",
      "source": [
        "# [3, 10, 28] => [17, 10, 8]\n",
        "# 원하는 숫자: 20\n",
        "# result: 28"
      ],
      "metadata": {
        "id": "MaWjF72tQX4T"
      },
      "execution_count": null,
      "outputs": []
    },
    {
      "cell_type": "code",
      "source": [
        "l = [3, 10, 28]\n",
        "sorted(l, key=lambda x: abs(x - 20))[0]"
      ],
      "metadata": {
        "colab": {
          "base_uri": "https://localhost:8080/"
        },
        "id": "CuB4NgyKQZQR",
        "outputId": "22a7efba-9ce0-4e2c-d09f-d872653f60c8"
      },
      "execution_count": 87,
      "outputs": [
        {
          "output_type": "execute_result",
          "data": {
            "text/plain": [
              "28"
            ]
          },
          "metadata": {},
          "execution_count": 87
        }
      ]
    },
    {
      "cell_type": "code",
      "source": [
        "# 오류\n",
        "def solution(array, n):\n",
        "    return sorted(array, key=lambda x: abs(x - n))[0]"
      ],
      "metadata": {
        "id": "k_FO9nd7QGWP"
      },
      "execution_count": null,
      "outputs": []
    },
    {
      "cell_type": "code",
      "source": [
        "def solution(array, n):\n",
        "    return sorted(array, key=lambda x:(abs(x-n), x))[0]"
      ],
      "metadata": {
        "id": "Sugf-ZKgQeYv"
      },
      "execution_count": null,
      "outputs": []
    },
    {
      "cell_type": "code",
      "source": [
        "# [3, 10, 28, 30, 12] => [17, 10, 8, 10, 8]\n",
        "# [3, 10, 28, 30, 12] => [(17, 3), (10, 10), (8, 28), (10, 30), (8, 12)]\n",
        "# 원하는 숫자: 20\n",
        "# result: 28\n",
        "\n",
        "array = [3, 10, 28, 30, 12]\n",
        "n = 20\n",
        "\n",
        "28 - 20 == 8\n",
        "12 - 20 == -8\n",
        "\n",
        "20 - 28 == -8\n",
        "20 - 12 == 8\n",
        "\n",
        "sorted(array, key=lambda x:(abs(x-n), x))[0]\n",
        "sorted(array, key=lambda x:(abs(x-n), n-x))[0] # 팁, n-x이거나 x-n 2개 중에 하나입니다."
      ],
      "metadata": {
        "id": "D5baqstfQfut"
      },
      "execution_count": null,
      "outputs": []
    },
    {
      "cell_type": "markdown",
      "source": [
        "## k 의 갯수\n",
        "\n",
        "[link text](https://school.programmers.co.kr/learn/courses/30/lessons/120887)"
      ],
      "metadata": {
        "id": "RkCTtUXqQkCS"
      }
    },
    {
      "cell_type": "markdown",
      "source": [
        "\n",
        "\n",
        "```\n",
        "i\tj\tk\tresult\n",
        "1\t13\t1\t6\n",
        "10\t50\t5\t5\n",
        "3\t10\t2\t0\n",
        "```\n",
        "\n"
      ],
      "metadata": {
        "id": "HyiWc9YyQ5co"
      }
    },
    {
      "cell_type": "code",
      "source": [
        "# i    j    k\n",
        "# 1    13    1\n",
        "\n",
        "i = 1\n",
        "j = 13\n",
        "k = 1\n",
        "\n",
        "str(list(range(i, j+1))).count(str(k))\n"
      ],
      "metadata": {
        "colab": {
          "base_uri": "https://localhost:8080/"
        },
        "id": "jwg2QxwFQjPV",
        "outputId": "2b9212dc-2aa7-44f5-9e89-9ebb6610d6e8"
      },
      "execution_count": 89,
      "outputs": [
        {
          "output_type": "execute_result",
          "data": {
            "text/plain": [
              "6"
            ]
          },
          "metadata": {},
          "execution_count": 89
        }
      ]
    },
    {
      "cell_type": "code",
      "source": [
        "a = 10\n",
        "b = 20\n",
        "\n",
        "# swap\n",
        "\n",
        "temp = a\n",
        "a = b\n",
        "b = temp\n",
        "\n",
        "# python에서 사용하는 swap\n",
        "\n",
        "a = 10\n",
        "b = 20\n",
        "a, b = b, a         # Python 에서만 됨\n",
        "a, b"
      ],
      "metadata": {
        "colab": {
          "base_uri": "https://localhost:8080/"
        },
        "id": "wEbMnTu1Ud0D",
        "outputId": "60f710d2-0c7f-43c4-8a7b-626b258f5380"
      },
      "execution_count": 90,
      "outputs": [
        {
          "output_type": "execute_result",
          "data": {
            "text/plain": [
              "(20, 10)"
            ]
          },
          "metadata": {},
          "execution_count": 90
        }
      ]
    },
    {
      "cell_type": "code",
      "source": [
        "i = 1\n",
        "j = 13\n",
        "k = 1\n",
        "\n",
        "def solution(i, j, k):\n",
        "    return str(list(range(i, j+1))).count(str(k))"
      ],
      "metadata": {
        "id": "1U6EcIZmRXcN"
      },
      "execution_count": null,
      "outputs": []
    },
    {
      "cell_type": "code",
      "source": [
        "i = 1\n",
        "j = 13\n",
        "k = 1\n",
        "\n",
        "count = 0\n",
        "for temp in range(i, j):\n",
        "    count += str(temp).count(str(k))\n",
        "\n",
        "count"
      ],
      "metadata": {
        "id": "ylF-vKKQVK6W"
      },
      "execution_count": null,
      "outputs": []
    },
    {
      "cell_type": "markdown",
      "source": [
        "# 다른 문제"
      ],
      "metadata": {
        "id": "sW0dLJiobs0-"
      }
    },
    {
      "cell_type": "markdown",
      "source": [
        "## 직접 출제 문제"
      ],
      "metadata": {
        "id": "p47soyYHWu_k"
      }
    },
    {
      "cell_type": "code",
      "source": [
        "# 각 선분이 있는 곳에 총 길이 합을 구하라\n",
        "# [[0, 5], [3, 5], [7, 10]]\n",
        "\n",
        "선 = [False] * 10\n",
        "선"
      ],
      "metadata": {
        "colab": {
          "base_uri": "https://localhost:8080/"
        },
        "id": "PmV3mgKNWyWb",
        "outputId": "f2537c0f-881f-44ec-d566-ccffdcbaba28"
      },
      "execution_count": 92,
      "outputs": [
        {
          "output_type": "execute_result",
          "data": {
            "text/plain": [
              "[False, False, False, False, False, False, False, False, False, False]"
            ]
          },
          "metadata": {},
          "execution_count": 92
        }
      ]
    },
    {
      "cell_type": "code",
      "source": [
        "for i in range(0, 5):\n",
        "    선[i] = True\n",
        "\n",
        "선"
      ],
      "metadata": {
        "colab": {
          "base_uri": "https://localhost:8080/"
        },
        "id": "o1vCCQpFXcYX",
        "outputId": "d3c508f4-e905-4e67-eb40-e30111fdab9e"
      },
      "execution_count": 93,
      "outputs": [
        {
          "output_type": "execute_result",
          "data": {
            "text/plain": [
              "[True, True, True, True, True, False, False, False, False, False]"
            ]
          },
          "metadata": {},
          "execution_count": 93
        }
      ]
    },
    {
      "cell_type": "code",
      "source": [
        "for i in range(3, 5):\n",
        "    선[i] = True\n",
        "\n",
        "선"
      ],
      "metadata": {
        "colab": {
          "base_uri": "https://localhost:8080/"
        },
        "id": "dXitkksZXd5m",
        "outputId": "26f7cc34-290e-4b7f-8525-502351e3f6c4"
      },
      "execution_count": 94,
      "outputs": [
        {
          "output_type": "execute_result",
          "data": {
            "text/plain": [
              "[True, True, True, True, True, False, False, False, False, False]"
            ]
          },
          "metadata": {},
          "execution_count": 94
        }
      ]
    },
    {
      "cell_type": "code",
      "source": [
        "for i in range(7, 10):\n",
        "    선[i] = True\n",
        "\n",
        "선"
      ],
      "metadata": {
        "colab": {
          "base_uri": "https://localhost:8080/"
        },
        "id": "8u2BD17bXg1_",
        "outputId": "4b97a516-19c2-45bf-b1da-797e1e0f64a8"
      },
      "execution_count": 95,
      "outputs": [
        {
          "output_type": "execute_result",
          "data": {
            "text/plain": [
              "[True, True, True, True, True, False, False, True, True, True]"
            ]
          },
          "metadata": {},
          "execution_count": 95
        }
      ]
    },
    {
      "cell_type": "markdown",
      "source": [
        "## 에라토스테스트의 체"
      ],
      "metadata": {
        "id": "6jSF7W1DYNDw"
      }
    },
    {
      "cell_type": "code",
      "source": [
        "# 에라토스테스트의 체 => 소수판별 => 이것을 알고리즘 문제로 내는 것은 저는 반대\n",
        "소수 = [True] * 120\n",
        "소수[0] = 소수[1] = False\n",
        "\n",
        "for i in range(4, 120, 2):\n",
        "    소수[i] = False\n",
        "\n",
        "for i in range(6, 120, 3):\n",
        "    소수[i] = False\n",
        "\n",
        "# for i in range(4, 120, 4): # 2의 배수에 속하기 때문에 4의 배수는 할 필요가 없습니다.\n",
        "#     소수[i] = False\n",
        "\n",
        "...\n",
        "\n",
        "# https://nahwasa.com/entry/%EC%97%90%EB%9D%BC%ED%86%A0%EC%8A%A4%ED%85%8C%EB%84%A4%EC%8A%A4%EC%9D%98-%EC%B2%B4-%ED%98%B9%EC%9D%80-%EC%86%8C%EC%88%98%ED%8C%90%EC%A0%95-%EC%8B%9C-%EC%A0%9C%EA%B3%B1%EA%B7%BC-%EA%B9%8C%EC%A7%80%EB%A7%8C-%ED%99%95%EC%9D%B8%ED%95%98%EB%A9%B4-%EB%90%98%EB%8A%94-%EC%9D%B4%EC%9C%A0"
      ],
      "metadata": {
        "id": "BLyRHBznXiM8"
      },
      "execution_count": null,
      "outputs": []
    },
    {
      "cell_type": "code",
      "source": [
        "16\n",
        "\n",
        "# 곱해지는 각 자연수중 하나는 무조건\n",
        "# 제곱근과 같거나 작아야하는거니까\n",
        "\n",
        "# 4 * 4\n",
        "# 2 * 8\n",
        "\n",
        "# 2, 3, 4\n",
        "\n",
        "# 2, 4, 6, 8, 10, 12\n",
        "# 3, 6, 9, 12\n",
        "# ---\n",
        "# 5, 10, 15"
      ],
      "metadata": {
        "id": "Pv9r-VMDYPtA"
      },
      "execution_count": null,
      "outputs": []
    },
    {
      "cell_type": "code",
      "source": [
        "for 소수, 판별 in enumerate(소수):\n",
        "    if 판별:\n",
        "        print(소수)"
      ],
      "metadata": {
        "id": "pmhpa2mHbYTn"
      },
      "execution_count": null,
      "outputs": []
    },
    {
      "cell_type": "code",
      "source": [
        "# https://100.pyalgo.co.kr/?page=23#\n",
        "# ([[1, 3, 5], [7, 9, 11], [13, 15, 17]], 7)"
      ],
      "metadata": {
        "id": "igIeJsUncQ6S"
      },
      "execution_count": null,
      "outputs": []
    },
    {
      "cell_type": "code",
      "source": [
        "s = [[1, 3, 5], [7, 9, 11], [13, 15, 17]]\n",
        "7 in sum(s, [])"
      ],
      "metadata": {
        "id": "VRUFJCFGcSEG"
      },
      "execution_count": null,
      "outputs": []
    },
    {
      "cell_type": "code",
      "source": [
        "s = [[[1, 3, 5], [7, 9, 11]], [13, 15, 17]]\n",
        "sum(s, [])"
      ],
      "metadata": {
        "id": "7ESc4_YOcTcM"
      },
      "execution_count": null,
      "outputs": []
    },
    {
      "cell_type": "markdown",
      "source": [
        "## 2차원 배열 탐색 (Numpy)\n",
        "\n",
        "* Numpy 하면 쉽고 빠르게 가능"
      ],
      "metadata": {
        "id": "gu7bbU5rbogC"
      }
    },
    {
      "cell_type": "code",
      "source": [
        "# 행렬의 연산과 같은 것은 np를 사용하시면 쉽고 빠르게 풀 수 있습니다.\n",
        "import numpy as np\n",
        "\n",
        "x = np.array([1, 2, 3])\n",
        "x * 2"
      ],
      "metadata": {
        "colab": {
          "base_uri": "https://localhost:8080/"
        },
        "id": "xMt11Yl5b91j",
        "outputId": "b8825881-f105-4ef0-e0df-0f872543dc17"
      },
      "execution_count": 96,
      "outputs": [
        {
          "output_type": "execute_result",
          "data": {
            "text/plain": [
              "array([2, 4, 6])"
            ]
          },
          "metadata": {},
          "execution_count": 96
        }
      ]
    },
    {
      "cell_type": "code",
      "source": [
        "s = [[1, 3, 5], [7, 9, 11], [13, 15, 17]]\n",
        "s = np.array(s)\n",
        "cols, rows = np.where(s == 7)\n",
        "rows\n",
        "cols"
      ],
      "metadata": {
        "colab": {
          "base_uri": "https://localhost:8080/"
        },
        "id": "KbbWO2VFbzZ8",
        "outputId": "7cfd4983-5132-49d5-c9a7-97a8c6d0fc06"
      },
      "execution_count": 99,
      "outputs": [
        {
          "output_type": "execute_result",
          "data": {
            "text/plain": [
              "array([1])"
            ]
          },
          "metadata": {},
          "execution_count": 99
        }
      ]
    },
    {
      "cell_type": "code",
      "source": [
        "# 지뢰찾기\n",
        "x = [[0, 1, 0, 0],\n",
        "     [0, 1, 0, 0],\n",
        "     [0, 0, 0, 1]]\n",
        "\n",
        "x = np.array(x)\n",
        "np.where(x == 1)"
      ],
      "metadata": {
        "colab": {
          "base_uri": "https://localhost:8080/"
        },
        "id": "tfx1v3XfchG8",
        "outputId": "0cc94543-c681-4fef-a860-86b0b44e9618"
      },
      "execution_count": 100,
      "outputs": [
        {
          "output_type": "execute_result",
          "data": {
            "text/plain": [
              "(array([0, 1, 2]), array([1, 1, 3]))"
            ]
          },
          "metadata": {},
          "execution_count": 100
        }
      ]
    },
    {
      "cell_type": "code",
      "source": [
        "\n",
        "x = [[0, 1, 0, 0],\n",
        "     [0, 1, 0, 0],\n",
        "     [0, 0, 0, 1]]\n",
        "\n",
        "s = 0\n",
        "for i in x:\n",
        "    s += i.count(1)\n",
        "\n",
        "s\n",
        "x = [[0, 1, 0, 0],\n",
        "     [0, 1, 0, 0],\n",
        "     [0, 0, 0, 1]]\n",
        "\n",
        "x = np.array(x)\n",
        "x == 1"
      ],
      "metadata": {
        "colab": {
          "base_uri": "https://localhost:8080/"
        },
        "id": "oS0rCeGQdgAR",
        "outputId": "1d0b39a3-65e5-4f79-98a1-07062706aa02"
      },
      "execution_count": 101,
      "outputs": [
        {
          "output_type": "execute_result",
          "data": {
            "text/plain": [
              "3"
            ]
          },
          "metadata": {},
          "execution_count": 101
        }
      ]
    },
    {
      "cell_type": "code",
      "source": [
        "x = [[0, 5, 2, 0],\n",
        "     [0, 7, 0, 6],\n",
        "     [0, 1, 3, 5]]\n",
        "\n",
        "x = np.array(x)\n",
        "x > 3"
      ],
      "metadata": {
        "id": "P1B5YWY0dhjb"
      },
      "execution_count": null,
      "outputs": []
    }
  ]
}
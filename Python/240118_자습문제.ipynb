{
  "nbformat": 4,
  "nbformat_minor": 0,
  "metadata": {
    "colab": {
      "provenance": [],
      "authorship_tag": "ABX9TyMziIHBbOeRG79scUP2D2iZ"
    },
    "kernelspec": {
      "name": "python3",
      "display_name": "Python 3"
    },
    "language_info": {
      "name": "python"
    }
  },
  "cells": [
    {
      "cell_type": "markdown",
      "source": [
        "\n",
        "\n",
        "```\n",
        "문제 1: 이메일 주소 변경하기 (sub 사용)\n",
        "문제: 주어진 문자열에서 모든 이메일 주소를 user@weniv.co.kr으로 변경하시오.\n",
        "\n",
        "예시 입력: \"저의 이메일 주소는 kim123@gmail.com입니다. 친구의 이메일 주소는 lee456@gmail.com입니다.\"\n",
        "예시 출력: \"저의 이메일 주소는 user@weniv.co.kr입니다. 친구의 이메일 주소는 user@weniv.co.kr입니다.\"\n",
        "\n",
        "힌트: 이메일 주소를 찾기 위한 정규표현식은 \\b[A-Za-z0-9._%+-]+@[A-Za-z0-9.-]+\\.[A-Z|a-z]{2,}\\b를 사용할 수 있습니다.\n",
        "\n",
        "\n",
        "문제 2: HTML 태그 제거하기 (sub 사용)\n",
        "문제: 주어진 HTML 문자열에서 모든 HTML 태그를 제거하고 텍스트만 남기시오.\n",
        "\n",
        "예시 입력: \"<p>이것은 <b>예시</b> 문장입니다.</p>\"\n",
        "예시 출력: \"이것은 예시 문장입니다.\"\n",
        "\n",
        "힌트: HTML 태그를 찾기 위한 정규표현식은 <[^>]+>를 사용할 수 있습니다.\n",
        "```\n",
        "\n"
      ],
      "metadata": {
        "id": "imb3oDJzeawp"
      }
    },
    {
      "cell_type": "code",
      "source": [],
      "metadata": {
        "id": "HfVCCHwIjTST"
      },
      "execution_count": 2,
      "outputs": []
    },
    {
      "cell_type": "code",
      "execution_count": 7,
      "metadata": {
        "colab": {
          "base_uri": "https://localhost:8080/",
          "height": 35
        },
        "id": "q6M1-YySeXwM",
        "outputId": "87e4f8e4-537a-4f8a-ee50-a758911433fb"
      },
      "outputs": [
        {
          "output_type": "execute_result",
          "data": {
            "text/plain": [
              "'저의 이메일 주소는 user@weniv.co.kr입니다. 친구의 이메일 주소는 user@weniv.co.kr입니다.'"
            ],
            "application/vnd.google.colaboratory.intrinsic+json": {
              "type": "string"
            }
          },
          "metadata": {},
          "execution_count": 7
        }
      ],
      "source": [
        "# 문제 1: 이메일 주소 변경하기 (sub 사용)\n",
        "# 문제: 주어진 문자열에서 모든 이메일 주소를 user@weniv.co.kr으로 변경하시오.\n",
        "\n",
        "# 예시 입력: \"저의 이메일 주소는 kim123@gmail.com입니다. 친구의 이메일 주소는 lee456@gmail.com입니다.\"\n",
        "# 예시 출력: \"저의 이메일 주소는 user@weniv.co.kr입니다. 친구의 이메일 주소는 user@weniv.co.kr입니다.\"\n",
        "\n",
        "# 힌트: 이메일 주소를 찾기 위한 정규표현식은 \\b[A-Za-z0-9._%+-]+@[A-Za-z0-9.-]+\\.[A-Z|a-z]{2,}\\b를 사용할 수 있습니다.\n",
        "\n",
        "import re\n",
        "\n",
        "s='저의 이메일 주소는 kim123@gmail.com입니다. 친구의 이메일 주소는 lee456@gmail.com입니다.'\n",
        "\n",
        "result = re.sub(r'[A-Za-z0-9._%+-]+@[A-Za-z0-9.-]+\\.[A-Z|a-z]{2,}', 'user@weniv.co.kr', s)\n",
        "result\n",
        "\n",
        "\n"
      ]
    },
    {
      "cell_type": "code",
      "source": [
        "# 문제 2: HTML 태그 제거하기 (sub 사용)\n",
        "# 문제: 주어진 HTML 문자열에서 모든 HTML 태그를 제거하고 텍스트만 남기시오.\n",
        "\n",
        "# 예시 입력: \"<p>이것은 <b>예시</b> 문장입니다.</p>\"\n",
        "# 예시 출력: \"이것은 예시 문장입니다.\"\n",
        "\n",
        "# 힌트: HTML 태그를 찾기 위한 정규표현식은 <[^>]+>를 사용할 수 있습니다.\n",
        "\n",
        "import re\n",
        "\n",
        "s = \"<p>이것은 <b>예시</b> 문장입니다.</p>\"\n",
        "re.sub(r'<[^>]+>',\"\",s)\n"
      ],
      "metadata": {
        "colab": {
          "base_uri": "https://localhost:8080/",
          "height": 35
        },
        "id": "cJ6Oto5JgBns",
        "outputId": "d224ea78-3a8a-4ea3-c115-155ad64f1d47"
      },
      "execution_count": 8,
      "outputs": [
        {
          "output_type": "execute_result",
          "data": {
            "text/plain": [
              "'이것은 예시 문장입니다.'"
            ],
            "application/vnd.google.colaboratory.intrinsic+json": {
              "type": "string"
            }
          },
          "metadata": {},
          "execution_count": 8
        }
      ]
    },
    {
      "cell_type": "code",
      "source": [],
      "metadata": {
        "id": "HNx_E3pjnHxY"
      },
      "execution_count": null,
      "outputs": []
    }
  ]
}
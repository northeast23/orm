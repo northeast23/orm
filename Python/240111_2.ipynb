{
  "nbformat": 4,
  "nbformat_minor": 0,
  "metadata": {
    "colab": {
      "provenance": [],
      "authorship_tag": "ABX9TyMaaJHGdldFODsitPuQ5bGv"
    },
    "kernelspec": {
      "name": "python3",
      "display_name": "Python 3"
    },
    "language_info": {
      "name": "python"
    }
  },
  "cells": [
    {
      "cell_type": "markdown",
      "source": [
        "# class Name: (재사용성, 확장성)\n",
        "\n",
        "* 여러개 만들어보기"
      ],
      "metadata": {
        "id": "eOO8JW7R7-5A"
      }
    },
    {
      "cell_type": "markdown",
      "source": [
        "## 예시\n"
      ],
      "metadata": {
        "id": "bPlrrpn28omr"
      }
    },
    {
      "cell_type": "markdown",
      "source": [
        "* class 클래스이름 => 인스턴스\n",
        "* class Blog => 게시물1, 게시물2, 게시물3, ..\n",
        "* class Dot => 점1, 점2, 점3,...\n",
        "* class Matrix => 행렬1, 행렬2, 행렬3,..\n",
        "* class User => 유저1, 유저2, 유저3,..\n",
        "* class Cart => 장바구니1, 장바구니2,..\n",
        "* class Comment => 댓글1, 댓글2, ..\n",
        "* class Character => Licat, Lion, Mob1(몬스터)\n",
        "* class Product => 상품1, 상품2, 상품3...\n",
        "* class Class_ => 강의1, 강의2, 강의3..\n",
        "* class Teacher => 강사1, 강사2, 강사3...\n"
      ],
      "metadata": {
        "id": "xiT3O4s_83gu"
      }
    },
    {
      "cell_type": "markdown",
      "source": [
        "## 기초상식\n",
        "* __init__ 매직메서드 없는 클래스 사용 가능\n",
        "* 클래스를 꼭 사용해야 하나?\n",
        "  - 일부 자료에서는 반드시 사용해야 함\n",
        "   :\n",
        "  \n",
        "* 데이터의 양, 확장성, 다양성 등을 고려\n",
        "* 클래스에 메쏘드로 담으면 나중에 그 기능을 따로 만들지 않아도 됨. 그냥 불러오면 되니까.\n",
        "* 기본 클래스(list, tuple, dict(속도개선되어도), set) 은 매우 느리다.\n",
        "* 데이터의 양이 많아지면 기본 클래스는 매우 부담\n",
        "\n",
        "- ex. 크롤링 할때\n",
        "  book 이라는 클래스"
      ],
      "metadata": {
        "id": "-AvkKQU5ACgC"
      }
    },
    {
      "cell_type": "code",
      "execution_count": null,
      "metadata": {
        "colab": {
          "base_uri": "https://localhost:8080/"
        },
        "id": "YchKdWiB76nK",
        "outputId": "78686982-b002-42bf-e578-b3f57d0d079f"
      },
      "outputs": [
        {
          "output_type": "execute_result",
          "data": {
            "text/plain": [
              "100"
            ]
          },
          "metadata": {},
          "execution_count": 1
        }
      ],
      "source": [
        "# 기초상식\n",
        "class 우편번호:\n",
        "    제주도 = 100\n",
        "    경기도 = 101\n",
        "    전라북도 = 102\n",
        "    전라남도 = 103\n",
        "\n",
        "우편번호.제주도"
      ]
    },
    {
      "cell_type": "code",
      "source": [
        "# 1번\n",
        "# 클래스를 설계하실 떄\n",
        "#\n",
        "# in_create_at(Snake 표기법) - 파이썬 권고사항\n",
        "#\n",
        "class Post:\n",
        "    def __init__(\n",
        "            self,\n",
        "            in_title='',\n",
        "            in_contents='',\n",
        "            in_count=0,\n",
        "            in_created_at='',\n",
        "            in_updated_at='',\n",
        "            in_author=''):      # 인스턴스 생성시 값을 가져옴\n",
        "        self.title = in_title          #\n",
        "        self.contents = in_contents\n",
        "        self.count = in_count\n",
        "        self.created_at = in_created_at\n",
        "        self.updated_at = in_updated_at\n",
        "        self.author = in_author\n",
        "\n",
        "    # def __add__(self):\n",
        "    #     pass\n",
        "    def __add__(self, next):\n",
        "        # return self.count + next.count  # 게시물1 과 게시물2 가 더해짐\n",
        "        return self.title + next.title\n",
        "\n",
        "    def __len__(self):\n",
        "        pass\n",
        "\n",
        "    def __str__(self):      # 안하면\n",
        "        return self.title   # __str__ 이랑 __repr__ 같이 사용. 내용도 같음\n",
        "\n",
        "    def __repr__(self):\n",
        "        return self.title\n",
        "\n",
        "    def update(self):\n",
        "        pass\n",
        "\n",
        "    def delete(self):\n",
        "        pass\n",
        "\n",
        "게시물1 = Post(\n",
        "    '파이썬은 참 깊군요!',\n",
        "    '오늘은 파이썬 클래스를 배웠는데 너무 어렵기도 하고, 신기했습니다.',\n",
        "    0,\n",
        "    '2024-01-11',\n",
        "    '2024-01-11',\n",
        "    '이호준')\n",
        "\n",
        "print(게시물1)\n",
        "print(게시물1.title)\n",
        "\n",
        "게시물2 = Post('파이썬은 참 깊군요!', '오늘은 파이썬 클래스를 배웠는데 너무 어렵기도 하고, 신기했습니다.',\n",
        "    0, '2024-01-11', '2024-01-11', '이호준')\n",
        "\n",
        "print(게시물1 + 게시물2)    # +연산이 나오면 앞(게시물 1)의 __add__가 실행됩니다"
      ],
      "metadata": {
        "colab": {
          "base_uri": "https://localhost:8080/"
        },
        "id": "dP6jJ0SPAuDE",
        "outputId": "54fff4a8-9a40-41d3-c52a-6a4ca26e9bea"
      },
      "execution_count": null,
      "outputs": [
        {
          "output_type": "stream",
          "name": "stdout",
          "text": [
            "파이썬은 참 깊군요!\n",
            "파이썬은 참 깊군요!\n",
            "파이썬은 참 깊군요!파이썬은 참 깊군요!\n"
          ]
        }
      ]
    },
    {
      "cell_type": "markdown",
      "source": [
        "## 선생님 코드 (프린트 차이 확인 필요 *********)"
      ],
      "metadata": {
        "id": "31M9UEXYLuCn"
      }
    },
    {
      "cell_type": "code",
      "source": [
        "# 1번\n",
        "# 클래스를 설계하실 때\n",
        "# 첫 번째로 - 모든 인스턴스에서 공유해야할 변수(클래스 변수)나 메서드 설정\n",
        "# 두 번째로 - 인스턴스 고유의 영역\n",
        "# in_crerate_at(스네이크 표기법) - 파이썬 권고사항\n",
        "# inCreatedAt(카멜 표기법) - 파이썬에서는 잘 사용하지 않습니다.(JavaScript에서는 많이 사용합니다.)\n",
        "# InCreatedAt(파스칼 표기법) - 파이썬 클래스\n",
        "\n",
        "class Post:\n",
        "    def __init__(\n",
        "            self,\n",
        "            in_title='',\n",
        "            in_contents='',\n",
        "            in_count=0,\n",
        "            in_crerate_at='',\n",
        "            in_updated_at='',\n",
        "            in_author=''\n",
        "        ):\n",
        "        self.title = in_title\n",
        "        self.contents = in_contents\n",
        "        self.count = in_count\n",
        "        self.created_at = in_crerate_at\n",
        "        self.updated_at = in_updated_at\n",
        "        self.author = in_author\n",
        "\n",
        "    def __str__(self):\n",
        "        return self.title\n",
        "\n",
        "    def __repr__(self):\n",
        "        return self.title\n",
        "\n",
        "    def __add__(self, next):\n",
        "        # return self.count + next.count\n",
        "        return self.title + next.title\n",
        "\n",
        "    def __eq__(self, next):\n",
        "        return self.title == next.title\n",
        "\n",
        "    def update(self, in_contents):\n",
        "        '''\n",
        "        in_ 실무에서 사용하는 접두사가 아닙니다!\n",
        "        여러분에 이해를 돕기 위한 변수명입니다.\n",
        "        '''\n",
        "        self.contents = in_contents\n",
        "        return '게시물 수정에 성공했습니다! 200'\n",
        "\n",
        "게시물1 = Post(\n",
        "    '파이썬은 참 깊군요!',\n",
        "    '오늘은 파이썬 클래스를 배웠는데 너무 어렵기도 하고, 신기했습니다.',\n",
        "    0,\n",
        "    '2024-01-11',\n",
        "    '2024-01-11',\n",
        "    '이호준'\n",
        ")\n",
        "\n",
        "게시물2 = Post('2', '22', 0, '2024-01-11', '2024-01-11', '이호준')\n",
        "\n",
        "print(게시물1)\n",
        "print(게시물1.title)\n",
        "print(게시물1 + 게시물2) # +연산이 나오면 앞(게시물 1)의 __add__가 실행됩니다.\n",
        "게시물1.update('hello world')\n",
        "게시물1.contents\n",
        "\n",
        "게시물1 == 게시물2      # 잊어도 됨. __eq__ 없으면 False   # 현재는 False 로 나옴\n"
      ],
      "metadata": {
        "colab": {
          "base_uri": "https://localhost:8080/"
        },
        "id": "xgvniW2ED4bL",
        "outputId": "4259733b-8b61-4552-b973-61f75ee3a111"
      },
      "execution_count": null,
      "outputs": [
        {
          "output_type": "stream",
          "name": "stdout",
          "text": [
            "파이썬은 참 깊군요!\n",
            "파이썬은 참 깊군요!\n",
            "파이썬은 참 깊군요!2\n"
          ]
        },
        {
          "output_type": "execute_result",
          "data": {
            "text/plain": [
              "False"
            ]
          },
          "metadata": {},
          "execution_count": 3
        }
      ]
    },
    {
      "cell_type": "code",
      "source": [
        "[1, 2, 3] == [1, 2, 3]      # 값만 비교해서 True (파이썬)"
      ],
      "metadata": {
        "colab": {
          "base_uri": "https://localhost:8080/"
        },
        "id": "YlQnD5HWLTuj",
        "outputId": "443a52e4-c20a-4405-a047-8bb5a4908d2f"
      },
      "execution_count": null,
      "outputs": [
        {
          "output_type": "execute_result",
          "data": {
            "text/plain": [
              "True"
            ]
          },
          "metadata": {},
          "execution_count": 4
        }
      ]
    },
    {
      "cell_type": "code",
      "source": [
        "[1, 2, 3] is [1, 2, 3]      #"
      ],
      "metadata": {
        "colab": {
          "base_uri": "https://localhost:8080/"
        },
        "id": "B91jq6VoMtCC",
        "outputId": "37d47a4b-df5f-4244-c5f5-28b9eeefe6ea"
      },
      "execution_count": null,
      "outputs": [
        {
          "output_type": "execute_result",
          "data": {
            "text/plain": [
              "False"
            ]
          },
          "metadata": {},
          "execution_count": 5
        }
      ]
    },
    {
      "cell_type": "code",
      "source": [
        "l = []"
      ],
      "metadata": {
        "id": "A6fGhC1fOFO1"
      },
      "execution_count": null,
      "outputs": []
    },
    {
      "cell_type": "code",
      "source": [],
      "metadata": {
        "id": "RIypl477OFBX"
      },
      "execution_count": null,
      "outputs": []
    },
    {
      "cell_type": "markdown",
      "source": [
        "## Dot\n"
      ],
      "metadata": {
        "id": "qMlnq6dDNwob"
      }
    },
    {
      "cell_type": "code",
      "source": [
        "# 기획\n",
        "class Dot:\n",
        "    def __init__(self, x, y):\n",
        "        self.x = x\n",
        "        self.y = y\n",
        "\n",
        "    def __add__(self):\n",
        "        pass\n",
        "\n",
        "    def __multi__(self, next):\n",
        "        pass\n",
        "\n",
        "    def distance(self, next):\n",
        "        pass\n"
      ],
      "metadata": {
        "id": "_nPszRD7Mvtd"
      },
      "execution_count": null,
      "outputs": []
    },
    {
      "cell_type": "code",
      "source": [
        "class Dot:\n",
        "    def __init__(self, x, y):\n",
        "        self.x = x\n",
        "        self.y = y\n",
        "\n",
        "    def __add__(self, next):\n",
        "        return (self.x + next.x, self.y + self.y)       # 자료변하지 않도록 튜플\n",
        "\n",
        "    def __mul__(self, next):\n",
        "        return (self.x * next.x, self.y * next.y)\n",
        "\n",
        "    def distance(self, next):\n",
        "        dx = self.x - next.x\n",
        "        dy = self.y - next.y\n",
        "        return (dx**2 + dy**2) ** 0.5   # root 는 **0.5 로 많이 사용\n",
        "\n",
        "dot1 = Dot(20, 10)\n",
        "dot2 = Dot(30, 5)\n",
        "\n",
        "dot1 + dot2\n",
        "dot1 * dot2\n",
        "dot1.distance(dot2)"
      ],
      "metadata": {
        "colab": {
          "base_uri": "https://localhost:8080/"
        },
        "id": "jSlZJFY_O9BC",
        "outputId": "5d53740e-129d-41fe-bd4c-206d7bedf712"
      },
      "execution_count": null,
      "outputs": [
        {
          "output_type": "execute_result",
          "data": {
            "text/plain": [
              "11.180339887498949"
            ]
          },
          "metadata": {},
          "execution_count": 8
        }
      ]
    },
    {
      "cell_type": "markdown",
      "source": [
        "## character"
      ],
      "metadata": {
        "id": "PvKtwIbTS5PY"
      }
    },
    {
      "cell_type": "code",
      "source": [
        "class Character:\n",
        "    def __init__(self, name, skill, hp, mp, power, x):\n",
        "        self.name = name\n",
        "        self.skill = skill\n",
        "        self.hp = hp\n",
        "        self.mp = mp\n",
        "        self.power = power\n",
        "        self.x = x\n",
        "\n",
        "    def move(self):\n",
        "        self.x += 100\n",
        "\n",
        "    def attact(self, next):\n",
        "        next.hp -= self.power\n",
        "\n",
        "\n",
        "주인공1 = Character('licat', '질풍검', 100, 100, 10, 10)\n",
        "몹1 = Character('licat', '질풍검', 100, 100, 10, 10)\n",
        "\n",
        "주인공1.attact(몹1)\n",
        "몹1.hp"
      ],
      "metadata": {
        "colab": {
          "base_uri": "https://localhost:8080/"
        },
        "id": "Lz1thh_HQLVU",
        "outputId": "67eb604a-8b90-411e-c911-3145e29d3163"
      },
      "execution_count": null,
      "outputs": [
        {
          "output_type": "execute_result",
          "data": {
            "text/plain": [
              "90"
            ]
          },
          "metadata": {},
          "execution_count": 9
        }
      ]
    },
    {
      "cell_type": "markdown",
      "source": [
        "## 자습문제\n",
        "```\n",
        "1. 다음 숫자 중 5보다 크고, 20보다 작으면서 짝수인 수를 모두 더하는 코드를 완성 해주세요. 오늘 배운 filter 사용은 필수 입니다.\n",
        "\n",
        "number = [1, 5, 7, 4, 3, 22, 23, 15, 26, 17, 3]\n",
        "def solution(data)\n",
        "    return\n",
        "\n",
        "solution(number)\n",
        "\n",
        "2. 다음에 정보가 담겨져 있는 것을 Class로 만들어주세요. 메서드로는 '할인' 메서드를 만들어주세요. 예를 들어 아래 책을 10% 할인한다고 하면 4500원이 됩니다. `책.할인(10) == 4500`의 형태로 만들어주시면 됩니다.\n",
        "{\n",
        "    '책제목': 'hello world python',\n",
        "    '책 내용 요약': 'hello world...',\n",
        "    '저자': '이호준',\n",
        "    '발행일': '2024-01-11',\n",
        "    '가격': 5000\n",
        "}\n",
        "\n",
        "3. 다음 문제를 풀고 정답을 제출해주세요.\n",
        "3.1 https://100.pyalgo.co.kr/?page=10#\n",
        "3.2 https://100.pyalgo.co.kr/?page=18#\n",
        "```"
      ],
      "metadata": {
        "id": "8mDTxBWaYByk"
      }
    },
    {
      "cell_type": "code",
      "source": [
        "# 1. 다음 숫자 중 5보다 크고, 20보다 작으면서 짝수인 수를 모두 더하는 코드를 완성 해주세요. 오늘 배운 filter 사용은 필수 입니다.\n",
        "# list(filter(lambda x: x % 2 == 0, range(100)))\n",
        "\n",
        "number = [1, 5, 7, 4, 3, 22, 23, 15, 26, 17, 3]\n",
        "\n",
        "def solution(data):\n",
        "    a = list(filter(lambda x: (x > 5 and x < 20) and (x % 2 ==0), data))\n",
        "    return sum(a)\n",
        "\n",
        "solution(number)"
      ],
      "metadata": {
        "colab": {
          "base_uri": "https://localhost:8080/"
        },
        "id": "X2mAxZL0TxbM",
        "outputId": "8fe3c780-e61b-4d56-fbad-3c319bf9ae9c"
      },
      "execution_count": null,
      "outputs": [
        {
          "output_type": "execute_result",
          "data": {
            "text/plain": [
              "0"
            ]
          },
          "metadata": {},
          "execution_count": 10
        }
      ]
    },
    {
      "cell_type": "code",
      "source": [
        "number = [1, 5, 7, 4, 3, 22, 23, 15, 26, 17, 3]\n",
        "sum(number)"
      ],
      "metadata": {
        "colab": {
          "base_uri": "https://localhost:8080/"
        },
        "id": "pO0iihHucsmm",
        "outputId": "298f9714-7416-4070-924c-478f43fc5ba2"
      },
      "execution_count": null,
      "outputs": [
        {
          "output_type": "execute_result",
          "data": {
            "text/plain": [
              "126"
            ]
          },
          "metadata": {},
          "execution_count": 11
        }
      ]
    },
    {
      "cell_type": "code",
      "source": [
        "'''\n",
        "2. 다음에 정보가 담겨져 있는 것을 Class로 만들어주세요. 메서드로는 '할인' 메서드를 만들어주세요. 예를 들어 아래 책을 10% 할인한다고 하면 4500원이 됩니다. `책.할인(10) == 4500`의 형태로 만들어주시면 됩니다.\n",
        "{\n",
        "    '책제목': 'hello world python',\n",
        "    '책 내용 요약': 'hello world...',\n",
        "    '저자': '이호준',\n",
        "    '발행일': '2024-01-11',\n",
        "    '가격': 5000\n",
        "}\n",
        "'''\n",
        "class Book:\n",
        "\n",
        "    def __init__(self, title, summary, author, pubdate, price):\n",
        "        self.title = title\n",
        "        self.summary = summary\n",
        "        self.author = author\n",
        "        self.pubdate = pubdate\n",
        "        self.price = price\n",
        "\n",
        "    def discount(self, perc):\n",
        "        x = self.price - (self.price * perc)/100\n",
        "        return int(x)\n",
        "\n",
        "\n",
        "내책 = Book('초보자용 파이썬', '하루하루 조금씩 배우는 파이썬', '아나벨', '2024-01-11', 9900 )\n",
        "\n",
        "print(내책.title, 내책.summary, 내책.author, 내책.price)\n",
        "print(내책.discount(10))\n",
        "\n"
      ],
      "metadata": {
        "colab": {
          "base_uri": "https://localhost:8080/"
        },
        "id": "5_KxJgxmdvcE",
        "outputId": "e02ee49d-092a-4a82-dc81-5dfa1afdc457"
      },
      "execution_count": null,
      "outputs": [
        {
          "output_type": "stream",
          "name": "stdout",
          "text": [
            "초보자용 파이썬 하루하루 조금씩 배우는 파이썬 아나벨 9900\n",
            "8910\n"
          ]
        }
      ]
    },
    {
      "cell_type": "code",
      "source": [
        "# 3. 다음 문제를 풀고 정답을 제출해주세요.\n",
        "# 3.1 https://100.pyalgo.co.kr/?page=10#\n",
        "'''\n",
        "능력치가 비정상적으로 높은 캐릭터들의 리스트를 뽑고자 합니다.\n",
        "캐릭터 이름, 공격력, 방어력, 체력, 마력이 리스트로\n",
        "['Licat', 98, 30, 21, 60]와 같이 주어졌을 때\n",
        "모든 능력치의 합이 350 이상이 되는 캐릭터의 이름을 출력하는\n",
        "solution함수를 완성해주세요.\n",
        "3 ≤ 캐릭터의 수 ≤ 10\n",
        "10 ≤ 능력치 ≤ 100\n",
        "350이 넘는 캐릭터의 이름은 알파벳 순으로 출력합니다.\n",
        "'''\n",
        "\n",
        "class Character:\n",
        "    def __init__(self, name, attack_pr, defense_pr, stamina, magic_pr):\n",
        "        self.name = name\n",
        "        self.attack_pr = attack_pr\n",
        "        self.defense_pr = defense_pr\n",
        "        self.stamina = stamina\n",
        "        self.magic_pr = magic_pr\n",
        "                                ##################\n",
        "    def __str__(self):\n",
        "        return self\n",
        "                                #### 있어야 제대로 보임\n",
        "    def __repr__(self):\n",
        "        return self\n",
        "                                #################\n",
        "\n",
        "    def solution(self):\n",
        "        total = self.attack_pr + self.defense_pr + self.stamina + self.magic_pr\n",
        "        return total >= 350\n",
        "\n",
        "몬1 = Character('부르터스', 86, 79, 99, 42)\n",
        "몬2 = Character('알라딘', 24, 63, 43, 67)\n",
        "몬3 = Character('헤르미', 97, 96, 89, 90)\n",
        "몬4 = Character('아람', 75, 63, 25, 85)\n",
        "몬5 = Character('스미스', 25, 22, 11, 78)\n",
        "몬6 = Character('짱구', 86, 79, 82, 11)\n",
        "몬7 = Character('노아', 65, 73, 59, 30)\n",
        "몬8 = Character('피터', 99, 89, 88, 85)\n",
        "\n",
        "몬스 = [몬1, 몬2, 몬3, 몬4, 몬5, 몬6, 몬7, 몬8]\n",
        "\n",
        "tt = list(filter(lambda x: x.solution(), 몬스))\n",
        "\n",
        "sorted(tt, key=lambda x: x.name)    # 정렬안됨. __str__, __repr__ 넣어야 함\n",
        "\n",
        "# for i in tt:\n",
        "#     print(i.name)\n"
      ],
      "metadata": {
        "colab": {
          "base_uri": "https://localhost:8080/",
          "height": 450
        },
        "id": "HWSth1IFf2oW",
        "outputId": "fb483245-f6ac-4c5d-988e-211be1daae0f"
      },
      "execution_count": null,
      "outputs": [
        {
          "output_type": "error",
          "ename": "TypeError",
          "evalue": "__repr__ returned non-string (type Character)",
          "traceback": [
            "\u001b[0;31m---------------------------------------------------------------------------\u001b[0m",
            "\u001b[0;31mTypeError\u001b[0m                                 Traceback (most recent call last)",
            "\u001b[0;32m/usr/local/lib/python3.10/dist-packages/IPython/core/formatters.py\u001b[0m in \u001b[0;36m__call__\u001b[0;34m(self, obj)\u001b[0m\n\u001b[1;32m    700\u001b[0m                 \u001b[0mtype_pprinters\u001b[0m\u001b[0;34m=\u001b[0m\u001b[0mself\u001b[0m\u001b[0;34m.\u001b[0m\u001b[0mtype_printers\u001b[0m\u001b[0;34m,\u001b[0m\u001b[0;34m\u001b[0m\u001b[0;34m\u001b[0m\u001b[0m\n\u001b[1;32m    701\u001b[0m                 deferred_pprinters=self.deferred_printers)\n\u001b[0;32m--> 702\u001b[0;31m             \u001b[0mprinter\u001b[0m\u001b[0;34m.\u001b[0m\u001b[0mpretty\u001b[0m\u001b[0;34m(\u001b[0m\u001b[0mobj\u001b[0m\u001b[0;34m)\u001b[0m\u001b[0;34m\u001b[0m\u001b[0;34m\u001b[0m\u001b[0m\n\u001b[0m\u001b[1;32m    703\u001b[0m             \u001b[0mprinter\u001b[0m\u001b[0;34m.\u001b[0m\u001b[0mflush\u001b[0m\u001b[0;34m(\u001b[0m\u001b[0;34m)\u001b[0m\u001b[0;34m\u001b[0m\u001b[0;34m\u001b[0m\u001b[0m\n\u001b[1;32m    704\u001b[0m             \u001b[0;32mreturn\u001b[0m \u001b[0mstream\u001b[0m\u001b[0;34m.\u001b[0m\u001b[0mgetvalue\u001b[0m\u001b[0;34m(\u001b[0m\u001b[0;34m)\u001b[0m\u001b[0;34m\u001b[0m\u001b[0;34m\u001b[0m\u001b[0m\n",
            "\u001b[0;32m/usr/local/lib/python3.10/dist-packages/IPython/lib/pretty.py\u001b[0m in \u001b[0;36mpretty\u001b[0;34m(self, obj)\u001b[0m\n\u001b[1;32m    375\u001b[0m                 \u001b[0;32mif\u001b[0m \u001b[0mcls\u001b[0m \u001b[0;32min\u001b[0m \u001b[0mself\u001b[0m\u001b[0;34m.\u001b[0m\u001b[0mtype_pprinters\u001b[0m\u001b[0;34m:\u001b[0m\u001b[0;34m\u001b[0m\u001b[0;34m\u001b[0m\u001b[0m\n\u001b[1;32m    376\u001b[0m                     \u001b[0;31m# printer registered in self.type_pprinters\u001b[0m\u001b[0;34m\u001b[0m\u001b[0;34m\u001b[0m\u001b[0m\n\u001b[0;32m--> 377\u001b[0;31m                     \u001b[0;32mreturn\u001b[0m \u001b[0mself\u001b[0m\u001b[0;34m.\u001b[0m\u001b[0mtype_pprinters\u001b[0m\u001b[0;34m[\u001b[0m\u001b[0mcls\u001b[0m\u001b[0;34m]\u001b[0m\u001b[0;34m(\u001b[0m\u001b[0mobj\u001b[0m\u001b[0;34m,\u001b[0m \u001b[0mself\u001b[0m\u001b[0;34m,\u001b[0m \u001b[0mcycle\u001b[0m\u001b[0;34m)\u001b[0m\u001b[0;34m\u001b[0m\u001b[0;34m\u001b[0m\u001b[0m\n\u001b[0m\u001b[1;32m    378\u001b[0m                 \u001b[0;32melse\u001b[0m\u001b[0;34m:\u001b[0m\u001b[0;34m\u001b[0m\u001b[0;34m\u001b[0m\u001b[0m\n\u001b[1;32m    379\u001b[0m                     \u001b[0;31m# deferred printer\u001b[0m\u001b[0;34m\u001b[0m\u001b[0;34m\u001b[0m\u001b[0m\n",
            "\u001b[0;32m/usr/local/lib/python3.10/dist-packages/IPython/lib/pretty.py\u001b[0m in \u001b[0;36minner\u001b[0;34m(obj, p, cycle)\u001b[0m\n\u001b[1;32m    553\u001b[0m                 \u001b[0mp\u001b[0m\u001b[0;34m.\u001b[0m\u001b[0mtext\u001b[0m\u001b[0;34m(\u001b[0m\u001b[0;34m','\u001b[0m\u001b[0;34m)\u001b[0m\u001b[0;34m\u001b[0m\u001b[0;34m\u001b[0m\u001b[0m\n\u001b[1;32m    554\u001b[0m                 \u001b[0mp\u001b[0m\u001b[0;34m.\u001b[0m\u001b[0mbreakable\u001b[0m\u001b[0;34m(\u001b[0m\u001b[0;34m)\u001b[0m\u001b[0;34m\u001b[0m\u001b[0;34m\u001b[0m\u001b[0m\n\u001b[0;32m--> 555\u001b[0;31m             \u001b[0mp\u001b[0m\u001b[0;34m.\u001b[0m\u001b[0mpretty\u001b[0m\u001b[0;34m(\u001b[0m\u001b[0mx\u001b[0m\u001b[0;34m)\u001b[0m\u001b[0;34m\u001b[0m\u001b[0;34m\u001b[0m\u001b[0m\n\u001b[0m\u001b[1;32m    556\u001b[0m         \u001b[0;32mif\u001b[0m \u001b[0mlen\u001b[0m\u001b[0;34m(\u001b[0m\u001b[0mobj\u001b[0m\u001b[0;34m)\u001b[0m \u001b[0;34m==\u001b[0m \u001b[0;36m1\u001b[0m \u001b[0;32mand\u001b[0m \u001b[0mtype\u001b[0m\u001b[0;34m(\u001b[0m\u001b[0mobj\u001b[0m\u001b[0;34m)\u001b[0m \u001b[0;32mis\u001b[0m \u001b[0mtuple\u001b[0m\u001b[0;34m:\u001b[0m\u001b[0;34m\u001b[0m\u001b[0;34m\u001b[0m\u001b[0m\n\u001b[1;32m    557\u001b[0m             \u001b[0;31m# Special case for 1-item tuples.\u001b[0m\u001b[0;34m\u001b[0m\u001b[0;34m\u001b[0m\u001b[0m\n",
            "\u001b[0;32m/usr/local/lib/python3.10/dist-packages/IPython/lib/pretty.py\u001b[0m in \u001b[0;36mpretty\u001b[0;34m(self, obj)\u001b[0m\n\u001b[1;32m    392\u001b[0m                         \u001b[0;32mif\u001b[0m \u001b[0mcls\u001b[0m \u001b[0;32mis\u001b[0m \u001b[0;32mnot\u001b[0m \u001b[0mobject\u001b[0m\u001b[0;31m \u001b[0m\u001b[0;31m\\\u001b[0m\u001b[0;34m\u001b[0m\u001b[0;34m\u001b[0m\u001b[0m\n\u001b[1;32m    393\u001b[0m                                 \u001b[0;32mand\u001b[0m \u001b[0mcallable\u001b[0m\u001b[0;34m(\u001b[0m\u001b[0mcls\u001b[0m\u001b[0;34m.\u001b[0m\u001b[0m__dict__\u001b[0m\u001b[0;34m.\u001b[0m\u001b[0mget\u001b[0m\u001b[0;34m(\u001b[0m\u001b[0;34m'__repr__'\u001b[0m\u001b[0;34m)\u001b[0m\u001b[0;34m)\u001b[0m\u001b[0;34m:\u001b[0m\u001b[0;34m\u001b[0m\u001b[0;34m\u001b[0m\u001b[0m\n\u001b[0;32m--> 394\u001b[0;31m                             \u001b[0;32mreturn\u001b[0m \u001b[0m_repr_pprint\u001b[0m\u001b[0;34m(\u001b[0m\u001b[0mobj\u001b[0m\u001b[0;34m,\u001b[0m \u001b[0mself\u001b[0m\u001b[0;34m,\u001b[0m \u001b[0mcycle\u001b[0m\u001b[0;34m)\u001b[0m\u001b[0;34m\u001b[0m\u001b[0;34m\u001b[0m\u001b[0m\n\u001b[0m\u001b[1;32m    395\u001b[0m \u001b[0;34m\u001b[0m\u001b[0m\n\u001b[1;32m    396\u001b[0m             \u001b[0;32mreturn\u001b[0m \u001b[0m_default_pprint\u001b[0m\u001b[0;34m(\u001b[0m\u001b[0mobj\u001b[0m\u001b[0;34m,\u001b[0m \u001b[0mself\u001b[0m\u001b[0;34m,\u001b[0m \u001b[0mcycle\u001b[0m\u001b[0;34m)\u001b[0m\u001b[0;34m\u001b[0m\u001b[0;34m\u001b[0m\u001b[0m\n",
            "\u001b[0;32m/usr/local/lib/python3.10/dist-packages/IPython/lib/pretty.py\u001b[0m in \u001b[0;36m_repr_pprint\u001b[0;34m(obj, p, cycle)\u001b[0m\n\u001b[1;32m    698\u001b[0m     \u001b[0;34m\"\"\"A pprint that just redirects to the normal repr function.\"\"\"\u001b[0m\u001b[0;34m\u001b[0m\u001b[0;34m\u001b[0m\u001b[0m\n\u001b[1;32m    699\u001b[0m     \u001b[0;31m# Find newlines and replace them with p.break_()\u001b[0m\u001b[0;34m\u001b[0m\u001b[0;34m\u001b[0m\u001b[0m\n\u001b[0;32m--> 700\u001b[0;31m     \u001b[0moutput\u001b[0m \u001b[0;34m=\u001b[0m \u001b[0mrepr\u001b[0m\u001b[0;34m(\u001b[0m\u001b[0mobj\u001b[0m\u001b[0;34m)\u001b[0m\u001b[0;34m\u001b[0m\u001b[0;34m\u001b[0m\u001b[0m\n\u001b[0m\u001b[1;32m    701\u001b[0m     \u001b[0mlines\u001b[0m \u001b[0;34m=\u001b[0m \u001b[0moutput\u001b[0m\u001b[0;34m.\u001b[0m\u001b[0msplitlines\u001b[0m\u001b[0;34m(\u001b[0m\u001b[0;34m)\u001b[0m\u001b[0;34m\u001b[0m\u001b[0;34m\u001b[0m\u001b[0m\n\u001b[1;32m    702\u001b[0m     \u001b[0;32mwith\u001b[0m \u001b[0mp\u001b[0m\u001b[0;34m.\u001b[0m\u001b[0mgroup\u001b[0m\u001b[0;34m(\u001b[0m\u001b[0;34m)\u001b[0m\u001b[0;34m:\u001b[0m\u001b[0;34m\u001b[0m\u001b[0;34m\u001b[0m\u001b[0m\n",
            "\u001b[0;31mTypeError\u001b[0m: __repr__ returned non-string (type Character)"
          ]
        }
      ]
    },
    {
      "cell_type": "code",
      "source": [
        "# 3.2 https://100.pyalgo.co.kr/?page=18#\n",
        "'''\n",
        "일주일 동안의 최고 기온이 기록된 데이터가 주어집니다.\n",
        "이 데이터에서 가장 높은 온도를 기록한 상위 3일을 찾아\n",
        "'YY-MM-DD: 온도' 형식으로 반환하는 코드를 작성해주세요.\n",
        "데이터는 'YYYY-MM-DD' 형식의 날짜와 해당 날짜의 최고 온도(섭씨)로 구성됩니다.\n",
        "{'2024-01-01': 15, '2024-01-02': 17, '2024-01-03': 16,\n",
        "'2024-01-04': 20, '2024-01-05': 19, '2024-01-06': 21, '2024-01-07': 18}\n",
        "'''\n",
        "\n",
        "data = {'2024-01-01': 15, '2024-01-02': 17, '2024-01-03': 16,\n",
        "'2024-01-04': 20, '2024-01-05': 19, '2024-01-06': 21, '2024-01-07': 18}\n",
        "\n",
        "data_list = list(data.items())\n",
        "\n",
        "y = sorted(data_list, key=lambda x: x[1], reverse = True)[0:3]\n",
        "\n",
        "print(f'{date}'))\n",
        "\n",
        "\n",
        "\n",
        "\n",
        "\n",
        "\n"
      ],
      "metadata": {
        "id": "2bBhNeRngzyC",
        "colab": {
          "base_uri": "https://localhost:8080/"
        },
        "outputId": "c3faf6ec-dd1f-43c9-809f-92e38cef5ac2"
      },
      "execution_count": null,
      "outputs": [
        {
          "output_type": "stream",
          "name": "stdout",
          "text": [
            "[('2024-01-06', 21), ('2024-01-04', 20), ('2024-01-05', 19)]\n"
          ]
        }
      ]
    },
    {
      "cell_type": "code",
      "source": [
        "data = {'2024-01-01': 15, '2024-01-02': 17, '2024-01-03': 16,\n",
        "'2024-01-04': 20, '2024-01-05': 19, '2024-01-06': 21, '2024-01-07': 18}\n",
        "\n",
        "def solution(data):\n",
        "\n",
        "    pre = sorted(data.items(), key=lambda x : x[1],reverse=True)[:3]\n",
        "    result = [f'{date[2:]}: {temp}' for date, temp in pre]\n",
        "\n",
        "    return result\n",
        "\n",
        "solution(data)"
      ],
      "metadata": {
        "colab": {
          "base_uri": "https://localhost:8080/"
        },
        "id": "kFJ1WpODlOd3",
        "outputId": "fa80dd39-58e9-41e7-9b14-3ff03469860f"
      },
      "execution_count": null,
      "outputs": [
        {
          "output_type": "execute_result",
          "data": {
            "text/plain": [
              "['24-01-06: 21', '24-01-04: 20', '24-01-05: 19']"
            ]
          },
          "metadata": {},
          "execution_count": 2
        }
      ]
    },
    {
      "cell_type": "code",
      "source": [
        "person = {'name': 'licat', 'city': 'Jeju', 'job': 'Developer'}\n",
        "print(person.items())"
      ],
      "metadata": {
        "colab": {
          "base_uri": "https://localhost:8080/"
        },
        "id": "ANLGWtePWIlN",
        "outputId": "d4fa9d8c-0f9a-4ed3-e2da-2b88bcc887d0"
      },
      "execution_count": null,
      "outputs": [
        {
          "output_type": "stream",
          "name": "stdout",
          "text": [
            "dict_items([('name', 'licat'), ('city', 'Jeju'), ('job', 'Developer')])\n"
          ]
        }
      ]
    },
    {
      "cell_type": "code",
      "source": [
        "data = {\n",
        "    '2024-01-01': 15,\n",
        "    '2024-01-02': 17,\n",
        "    '2024-01-03': 16,\n",
        "    '2024-01-04': 20,\n",
        "    '2024-01-05': 19,\n",
        "    '2024-01-06': 21,\n",
        "    '2024-01-07': 18\n",
        "    }\n",
        "\n",
        "def find(3):\n"
      ],
      "metadata": {
        "id": "ARHs2I2_Z-Xd"
      },
      "execution_count": null,
      "outputs": []
    }
  ]
}
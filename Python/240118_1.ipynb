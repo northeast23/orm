{
  "nbformat": 4,
  "nbformat_minor": 0,
  "metadata": {
    "colab": {
      "provenance": [],
      "authorship_tag": "ABX9TyNc+ir/aoPPnnk6qJu9R+g4"
    },
    "kernelspec": {
      "name": "python3",
      "display_name": "Python 3"
    },
    "language_info": {
      "name": "python"
    }
  },
  "cells": [
    {
      "cell_type": "markdown",
      "source": [
        "# 파이썬 버전별 변경 사항"
      ],
      "metadata": {
        "id": "FxbsxXz28yAP"
      }
    },
    {
      "cell_type": "markdown",
      "source": [
        "* Python 3.5: async await\n",
        "* Python 3.6: Dict에 순서, f-string, 타입힌트\n",
        "* Python 3.7: dataclasses\n",
        "* Python 3.8: 왈러스 연산자(:=)\n",
        "* Python 3.9: 딕셔너리 결합 연산자(|)\n",
        "* Python 3.10: match"
      ],
      "metadata": {
        "id": "zNpFwEoXARZc"
      }
    },
    {
      "cell_type": "code",
      "source": [
        "# id, name, email이 각각 3번씩 반복\n",
        "# -> 이러한 현상을  보일러 플레이트(boiler-plate)라 함\n",
        "# -> print를 해도 필드값이 보이지 않아 불편\n",
        "class User:\n",
        "    def __init__(self, id, name, email):\n",
        "        self.id = id\n",
        "        self.name = name\n",
        "        self.email = email"
      ],
      "metadata": {
        "id": "NKZhjeR083ak"
      },
      "execution_count": null,
      "outputs": []
    },
    {
      "cell_type": "code",
      "source": [
        "# 좋은 기능인데 쓰는 사람이 없음\n",
        "\n",
        "from dataclasses import dataclass\n",
        "\n",
        "@dataclass\n",
        "class User:\n",
        "    id: int\n",
        "    name: str\n",
        "    email : str\n",
        "\n",
        "user = User(123, 'hojun', 'hojun@gmail')\n",
        "user"
      ],
      "metadata": {
        "id": "Po6B-XGU839B"
      },
      "execution_count": null,
      "outputs": []
    },
    {
      "cell_type": "markdown",
      "source": [
        "# 파일 입출력 (열었으면 닫아야 함)\n",
        "* close 안하면 메모리가 살아있음\n",
        "* 파일모드 : r, w, a, r+ (r+ 잘 사용안함)\n"
      ],
      "metadata": {
        "id": "ehKbWsDdAVo_"
      }
    },
    {
      "cell_type": "code",
      "source": [
        "# open(파일이름, 파일모드) - w 로 열면 있는 내용 지워지고 열림 ?\n",
        "\n",
        "f = open('python.txt', 'w') # 파일모드 : r, w, a, r+,\n",
        "f.close()"
      ],
      "metadata": {
        "id": "Knq-aX2L84KB"
      },
      "execution_count": null,
      "outputs": []
    },
    {
      "cell_type": "code",
      "source": [
        "f = open('python.txt', 'w') # 파일모드 : r, w, a, r+,\n",
        "f.write('hello world')\n",
        "f.close()"
      ],
      "metadata": {
        "id": "NmVvN7N684kn"
      },
      "execution_count": null,
      "outputs": []
    },
    {
      "cell_type": "code",
      "source": [
        "for i in range(10):\n",
        "    with open(f'test{i}.txt', 'w') as f:\n",
        "        f.write('hello world!')"
      ],
      "metadata": {
        "id": "lDlNkKYG85Vy"
      },
      "execution_count": null,
      "outputs": []
    },
    {
      "cell_type": "markdown",
      "source": [
        "## DB data 처리\n",
        "\n",
        "* 미션1: 각각의 회원이름_info.txt 로 정리\n",
        "* 미션2: 액셀로 각각 정보 정리\n",
        "* 미션3: html table 로 정리하기 --> table 클릭하면 정렬되게 하기 (JS)\n"
      ],
      "metadata": {
        "id": "aRoGRm97B9ut"
      }
    },
    {
      "cell_type": "code",
      "source": [
        "# DB data\n",
        "db_data = [\n",
        "  {\n",
        "    \"_id\": \"7f5440ab-7e2f-4a42-Be13-89987fa65b32\",\n",
        "    \"index\": \"1\",\n",
        "    \"name\": \"등윤상\",\n",
        "    \"email\": \"user-qe89s09@ut.io\",\n",
        "    \"phone\": \"010-3542-7711\",\n",
        "    \"country\": \"키리바시\",\n",
        "    \"address\": \"방학로 74-9\",\n",
        "    \"job\": \"일러스트레이터\"\n",
        "  },\n",
        "  {\n",
        "    \"_id\": \"b4f7ade0-38bb-4e6f-B94a-18af1426eb30\",\n",
        "    \"index\": \"2\",\n",
        "    \"name\": \"노동규\",\n",
        "    \"email\": \"user-nyr5mqw@ornare.com\",\n",
        "    \"phone\": \"010-9743-6320\",\n",
        "    \"country\": \"베냉\",\n",
        "    \"address\": \"남부순환로 54-6\",\n",
        "    \"job\": \"애완동물미용사\"\n",
        "  },\n",
        "  {\n",
        "    \"_id\": \"5d788255-8d5e-4f03-B446-dbac6a147e37\",\n",
        "    \"index\": \"3\",\n",
        "    \"name\": \"경진아\",\n",
        "    \"email\": \"user-n7pey4v@Etiam.biz\",\n",
        "    \"phone\": \"010-4049-8718\",\n",
        "    \"country\": \"아르메니아\",\n",
        "    \"address\": \"강남대로 87-5\",\n",
        "    \"job\": \"플로리스트\"\n",
        "  },\n",
        "  {\n",
        "    \"_id\": \"083efce4-17ed-4e9f-Ad7c-f9aa0ac6cb79\",\n",
        "    \"index\": \"4\",\n",
        "    \"name\": \"복소유\",\n",
        "    \"email\": \"user-ohaz2is@nibh.biz\",\n",
        "    \"phone\": \"010-3400-5945\",\n",
        "    \"country\": \"페루\",\n",
        "    \"address\": \"양산로 78-1\",\n",
        "    \"job\": \"응급구조사\"\n",
        "  },\n",
        "  {\n",
        "    \"_id\": \"d54ce0fa-c025-4af6-Cd9a-b9d10aa8be5a\",\n",
        "    \"index\": \"5\",\n",
        "    \"name\": \"화예빈\",\n",
        "    \"email\": \"user-mnkpdlp@vel.net\",\n",
        "    \"phone\": \"010-3120-8720\",\n",
        "    \"country\": \"허드 및 맥도널드 제도\",\n",
        "    \"address\": \"한남대로 6-2\",\n",
        "    \"job\": \"전문의사\"\n",
        "  }\n",
        "]"
      ],
      "metadata": {
        "id": "-aDhfmKRBr2u"
      },
      "execution_count": null,
      "outputs": []
    },
    {
      "cell_type": "markdown",
      "source": [
        "### 미션 1"
      ],
      "metadata": {
        "id": "zVt16cYKF_IL"
      }
    },
    {
      "cell_type": "code",
      "source": [
        "# 미션1: 각각의 회원이름_info.txt 로 정리\n",
        "# 데이터 추출은 map() 사용\n",
        "\n",
        "list(map(lambda x: x['name']. db_data))\n",
        "\n",
        "for i, name in enumerate(map(lambda x: x['name'], db_data)):\n",
        "  with open(f'{name}_')\n"
      ],
      "metadata": {
        "id": "3NtvZG-KBrzE"
      },
      "execution_count": null,
      "outputs": []
    },
    {
      "cell_type": "code",
      "source": [
        "# BeautifulSoup\n",
        "from bs4 import BeautifulSoup\n",
        "import json\n",
        "\n",
        "soup = BeautifulSoup(str(db_data), 'html.parser')\n",
        "# json_data = json.loads(soup.text)\n",
        "# json_data"
      ],
      "metadata": {
        "id": "5sJhQzPUBrwL"
      },
      "execution_count": null,
      "outputs": []
    },
    {
      "cell_type": "markdown",
      "source": [
        "### 미션 2\n",
        "엑셀로 각각 정보 정리"
      ],
      "metadata": {
        "id": "SpFPekp-IFjp"
      }
    },
    {
      "cell_type": "code",
      "source": [
        "# 미션 2\n",
        "# 엑셀로 각각 정보 정리\n",
        "# \"_id\": \"d54ce0fa-c025-4af6-Cd9a-b9d10aa8be5a\",\n",
        "# \"index\": \"5\",\n",
        "# \"name\": \"화예빈\",\n",
        "# \"email\": \"user-mnkpdlp@vel.net\",\n",
        "# \"phone\": \"010-3120-8720\",\n",
        "# \"country\": \"허드 및 맥도널드 제도\",\n",
        "# \"address\": \"한남대로 6-2\",\n",
        "# \"job\": \"전문의사\"\n",
        "with open('data.csv', 'w') as f:\n",
        "    s = '아이디,인덱스,이름,이메일,휴대폰,나라,주소,직업\\n'\n",
        "    for i in db_data:\n",
        "        s += f'{i[\"_id\"]},{i[\"index\"]},{i[\"name\"]},{i[\"email\"]},{i[\"phone\"]},{i[\"country\"]},{i[\"address\"]},{i[\"job\"]}\\n'\n",
        "    f.write(s)\n",
        "\n"
      ],
      "metadata": {
        "id": "g_zMdByVBrsv"
      },
      "execution_count": null,
      "outputs": []
    },
    {
      "cell_type": "markdown",
      "source": [
        "### Excel Writer\n",
        "!pip install xlsxwriter"
      ],
      "metadata": {
        "id": "N4j7twLBJIZF"
      }
    },
    {
      "cell_type": "code",
      "source": [
        "!pip install xlsxwriter"
      ],
      "metadata": {
        "colab": {
          "base_uri": "https://localhost:8080/"
        },
        "id": "-NNTNDlJBrpa",
        "outputId": "ea0f7548-585c-40a9-fe87-c84fcbde4b34"
      },
      "execution_count": 1,
      "outputs": [
        {
          "output_type": "stream",
          "name": "stdout",
          "text": [
            "Collecting xlsxwriter\n",
            "  Downloading XlsxWriter-3.1.9-py3-none-any.whl (154 kB)\n",
            "\u001b[?25l     \u001b[90m━━━━━━━━━━━━━━━━━━━━━━━━━━━━━━━━━━━━━━━━\u001b[0m \u001b[32m0.0/154.8 kB\u001b[0m \u001b[31m?\u001b[0m eta \u001b[36m-:--:--\u001b[0m\r\u001b[2K     \u001b[91m━━━━━━━━━━━━━━━\u001b[0m\u001b[91m╸\u001b[0m\u001b[90m━━━━━━━━━━━━━━━━━━━━━━━━\u001b[0m \u001b[32m61.4/154.8 kB\u001b[0m \u001b[31m1.7 MB/s\u001b[0m eta \u001b[36m0:00:01\u001b[0m\r\u001b[2K     \u001b[90m━━━━━━━━━━━━━━━━━━━━━━━━━━━━━━━━━━━━━━━━\u001b[0m \u001b[32m154.8/154.8 kB\u001b[0m \u001b[31m2.3 MB/s\u001b[0m eta \u001b[36m0:00:00\u001b[0m\n",
            "\u001b[?25hInstalling collected packages: xlsxwriter\n",
            "Successfully installed xlsxwriter-3.1.9\n"
          ]
        }
      ]
    },
    {
      "cell_type": "code",
      "source": [
        "#\n",
        "import xlsxwriter\n",
        "workbook = xlsxwriter.Workbook('hello.xlsx')\n",
        "worksheet = workbook.add_worksheet('test')\n",
        "\n",
        "worksheet.write('A1', 'A')\n",
        "worksheet.write('B1', 'B')\n",
        "worksheet.write('C1', 'C')\n",
        "worksheet.write('A2', 'D')\n",
        "worksheet.write('B2', 'E')\n",
        "worksheet.write('C2', 'F')\n",
        "\n",
        "# 이것도 가능\n",
        "worksheet.write(2, 0, 'hello')\n",
        "\n",
        "workbook.close()"
      ],
      "metadata": {
        "id": "wg3k397tBrlh"
      },
      "execution_count": 3,
      "outputs": []
    },
    {
      "cell_type": "code",
      "source": [
        "import xlsxwriter\n",
        "\n",
        "workbook = xlsxwriter.Workbook('hello.xlsx')\n",
        "worksheet = workbook.add_worksheet('test')\n",
        "\n",
        "철수 = [10, 20, 30]\n",
        "영희 = [40, 50, 60]\n",
        "\n",
        "worksheet.write('A1', '국')\n",
        "worksheet.write('B1', '영')\n",
        "worksheet.write('C1', '수')\n",
        "worksheet.write('A2', 철수[0])\n",
        "worksheet.write('B2', 철수[1])\n",
        "worksheet.write('C2', 철수[2])\n",
        "worksheet.write('A3', 영희[0])\n",
        "worksheet.write('B3', 영희[1])\n",
        "worksheet.write('C3', 영희[2])\n",
        "\n",
        "for i in zip('ABC', 철수, 영희):\n",
        "    worksheet.write(f'{i[0]}4', i[1] + i[2])\n",
        "\n",
        "workbook.close()"
      ],
      "metadata": {
        "id": "ppEVqgmPBriA"
      },
      "execution_count": null,
      "outputs": []
    },
    {
      "cell_type": "code",
      "source": [
        "for i in zip('ABC', 철수, 영희):\n",
        "    print(f'{i[0]}4', i[1] + i[2])"
      ],
      "metadata": {
        "id": "stuWW2wkBrcs"
      },
      "execution_count": null,
      "outputs": []
    },
    {
      "cell_type": "code",
      "source": [
        "# 여기 확인 **********************\n",
        "\n",
        "import xlsxwriter\n",
        "\n",
        "workbook = xlsxwriter.Workbook('hello.xlsx')\n",
        "worksheet = workbook.add_worksheet('test')\n",
        "\n",
        "철수 = [10, 20, 30]\n",
        "영희 = [40, 50, 60]\n",
        "\n",
        "worksheet.write('A1', '국')\n",
        "worksheet.write('B1', '영')\n",
        "worksheet.write('C1', '수')\n",
        "worksheet.write('A2', 철수[0])\n",
        "worksheet.write('B2', 철수[1])\n",
        "worksheet.write('C2', 철수[2])\n",
        "worksheet.write('A3', 영희[0])\n",
        "worksheet.write('B3', 영희[1])\n",
        "worksheet.write('C3', 영희[2])\n",
        "\n",
        "for i in zip('ABC', 철수, 영희):\n",
        "    worksheet.write(f'{i[0]}4', i[1] + i[2])\n",
        "\n",
        "# D1에 평균 텍스트 삽입\n",
        "worksheet.write('D1', '평균')\n",
        "# 수식 삽입\n",
        "worksheet.write('D2', '=SUM(A2:C2)/3')\n",
        "worksheet.write('D3', '=SUM(A3:C3)/3')\n",
        "\n",
        "workbook.close()"
      ],
      "metadata": {
        "id": "Cc3YxV_rO_Rw"
      },
      "execution_count": null,
      "outputs": []
    },
    {
      "cell_type": "code",
      "source": [
        "# 크롤링\n",
        "# 웹크롤링 -> 엑셀\n",
        "# 한글파일 크롤링 -> 엑셀\n",
        "# PDF 크롤링 -> 엑셀\n",
        "\n",
        "# 파일 형식 변환\n",
        "# CSV => xlsx\n",
        "# JSON => xlsx\n",
        "\n",
        "# 메크로\n",
        "# 메크로 작동 로직 => 엑셀"
      ],
      "metadata": {
        "id": "H_UOLzydBrTk"
      },
      "execution_count": null,
      "outputs": []
    },
    {
      "cell_type": "markdown",
      "source": [
        "## 미션 3 : html table 로 정리"
      ],
      "metadata": {
        "id": "7yWzxX1wOZg_"
      }
    },
    {
      "cell_type": "code",
      "source": [
        "s = '''\n",
        "<style>\n",
        "    table {\n",
        "        border-collapse: collapse;\n",
        "        width: 100%;\n",
        "        border: 1px solid black;\n",
        "    }\n",
        "    tr, td, th {\n",
        "        border: 1px solid black;\n",
        "    }\n",
        "</style>\n",
        "<table>\n",
        "    <tr>\n",
        "        <th>아이디</th>\n",
        "        <th>인덱스</th>\n",
        "        <th>이름</th>\n",
        "        <th>이메일</th>\n",
        "        <th>휴대폰</th>\n",
        "        <th>나라</th>\n",
        "        <th>주소</th>\n",
        "        <th>직업</th>\n",
        "    </tr>\n",
        "    <tr>\n",
        "        <td>hojun</td>\n",
        "        <td>hojun</td>\n",
        "        <td>hojun</td>\n",
        "        <td>hojun</td>\n",
        "        <td>hojun</td>\n",
        "        <td>hojun</td>\n",
        "        <td>hojun</td>\n",
        "        <td>hojun</td>\n",
        "    </tr>\n",
        "</table>\n",
        "'''\n",
        "s   # \\n 은 엔터\n"
      ],
      "metadata": {
        "colab": {
          "base_uri": "https://localhost:8080/",
          "height": 104
        },
        "id": "-IwlFl9OOlAb",
        "outputId": "9c17c0e5-9bc7-4978-bddd-702dd966516f"
      },
      "execution_count": 5,
      "outputs": [
        {
          "output_type": "execute_result",
          "data": {
            "text/plain": [
              "'\\n<style>\\n    table {\\n        border-collapse: collapse;\\n        width: 100%;\\n        border: 1px solid black;\\n    }\\n    tr, td, th {\\n        border: 1px solid black;\\n    }\\n</style>\\n<table>\\n    <tr>\\n        <th>아이디</th>\\n        <th>인덱스</th>\\n        <th>이름</th>\\n        <th>이메일</th>\\n        <th>휴대폰</th>\\n        <th>나라</th>\\n        <th>주소</th>\\n        <th>직업</th>\\n    </tr>\\n    <tr>\\n        <td>hojun</td>\\n        <td>hojun</td>\\n        <td>hojun</td>\\n        <td>hojun</td>\\n        <td>hojun</td>\\n        <td>hojun</td>\\n        <td>hojun</td>\\n        <td>hojun</td>\\n    </tr>\\n</table>\\n'"
            ],
            "application/vnd.google.colaboratory.intrinsic+json": {
              "type": "string"
            }
          },
          "metadata": {},
          "execution_count": 5
        }
      ]
    },
    {
      "cell_type": "code",
      "source": [
        "s = '''\n",
        "<style>\n",
        "    table {\n",
        "        border-collapse: collapse;\n",
        "        width: 100%;\n",
        "        border: 1px solid black;\n",
        "    }\n",
        "    tr, td, th {\n",
        "        border: 1px solid black;\n",
        "    }\n",
        "</style>\n",
        "<table>\n",
        "    <tr>\n",
        "        <th>아이디</th>\n",
        "        <th>인덱스</th>\n",
        "        <th>이름</th>\n",
        "        <th>이메일</th>\n",
        "        <th>휴대폰</th>\n",
        "        <th>나라</th>\n",
        "        <th>주소</th>\n",
        "        <th>직업</th>\n",
        "    </tr>\n",
        "'''\n",
        "s += f'''\n",
        "<tr>\n",
        "        <td>{db_data[0][\"_id\"]}</td>\n",
        "        <td>{db_data[0][\"index\"]}</td>\n",
        "        <td>{db_data[0][\"name\"]}</td>\n",
        "        <td>{db_data[0][\"email\"]}</td>\n",
        "        <td>{db_data[0][\"phone\"]}</td>\n",
        "        <td>{db_data[0][\"country\"]}</td>\n",
        "        <td>{db_data[0][\"address\"]}</td>\n",
        "        <td>{db_data[0][\"job\"]}</td>\n",
        "    </tr>\n",
        "</table>'''\n",
        "s"
      ],
      "metadata": {
        "id": "c9OmpFkBQapd"
      },
      "execution_count": null,
      "outputs": []
    },
    {
      "cell_type": "code",
      "source": [
        "s = '''\n",
        "<style>\n",
        "    table {\n",
        "        border-collapse: collapse;\n",
        "        width: 100%;\n",
        "        border: 1px solid black;\n",
        "    }\n",
        "    tr, td, th {\n",
        "        border: 1px solid black;\n",
        "    }\n",
        "</style>\n",
        "<table>\n",
        "    <tr>\n",
        "        <th>아이디</th>\n",
        "        <th>인덱스</th>\n",
        "        <th>이름</th>\n",
        "        <th>이메일</th>\n",
        "        <th>휴대폰</th>\n",
        "        <th>나라</th>\n",
        "        <th>주소</th>\n",
        "        <th>직업</th>\n",
        "    </tr>\n",
        "'''\n",
        "\n",
        "for item in db_data:\n",
        "    s += f'''\n",
        "        <tr>\n",
        "                <td>{item[\"_id\"]}</td>\n",
        "                <td>{item[\"index\"]}</td>\n",
        "                <td>{item[\"name\"]}</td>\n",
        "                <td>{item[\"email\"]}</td>\n",
        "                <td>{item[\"phone\"]}</td>\n",
        "                <td>{item[\"country\"]}</td>\n",
        "                <td>{item[\"address\"]}</td>\n",
        "                <td>{item[\"job\"]}</td>\n",
        "        </tr>\n",
        "        '''\n",
        "\n",
        "s += '</table>'\n",
        "\n",
        "with open('test.html', 'w') as f:\n",
        "    f.write(s)\n"
      ],
      "metadata": {
        "id": "Sstnop2NW-QN"
      },
      "execution_count": null,
      "outputs": []
    },
    {
      "cell_type": "code",
      "source": [
        "# 한 라인씩 읽어오기. open/close 사용대신 with 로\n",
        "f = open('test.html', 'r')\n",
        "while True:\n",
        "    line = f.readline()\n",
        "    if not line:\n",
        "        break\n",
        "    print(line, end='')\n",
        "f.close()"
      ],
      "metadata": {
        "id": "3_-A1Im_XBEc"
      },
      "execution_count": null,
      "outputs": []
    },
    {
      "cell_type": "code",
      "source": [
        "# 전체 읽기\n",
        "f = open('test.html', 'r')\n",
        "data = f.read()\n",
        "print(data)\n",
        "f.close()"
      ],
      "metadata": {
        "id": "tW0XF_zuXPqf"
      },
      "execution_count": null,
      "outputs": []
    },
    {
      "cell_type": "code",
      "source": [
        "# 아래에 append\n",
        "f = open('test.html', 'a')\n",
        "s = '<p>hello world!</p>'\n",
        "f.write(s)\n",
        "f.close()"
      ],
      "metadata": {
        "id": "Uq7fvgFlXgBb"
      },
      "execution_count": null,
      "outputs": []
    },
    {
      "cell_type": "markdown",
      "source": [
        "# 복습 방법\n",
        " 1. 제가 권하는 복습 방법: algo문제 푸는 것(프로그래머스(Lv0), 100pyalgo(Lv0 ~ 2))\n",
        "    프로그래머스 모범답안:\n",
        "    https://github.com/paullabkorea/programmersLv0/blob/main/Solution.md\n",
        " 2. 이론을 복습하길 원하시는 분: 인프런 영상 드린 파이썬 부트캠프 (타이핑 치지 않고 1번, 타이핑 치고 1번)"
      ],
      "metadata": {
        "id": "TcRrCB6KWmlm"
      }
    },
    {
      "cell_type": "markdown",
      "source": [
        "# 비트연산\n",
        "(알고리즘테스트에서 간혹 출제)\n"
      ],
      "metadata": {
        "id": "57IOlty1YG5K"
      }
    },
    {
      "cell_type": "code",
      "source": [
        "# 실무에서 비트연산을 하는 경우가 거~~~의 없습니다.\n",
        "# 알고리즘 테스트에서 CS지식 정도를 테스트 하는 용도로 간혹 출제가 됩니다.\n",
        "# 진법: 수학 기초 상식\n",
        "\n",
        "# 10진법\n",
        "# 1542 == 1 * (10**3) + 5 * (10**2) + 4 * (10**1) + 2 * (10**0)\n",
        "# 0123456789 10\n",
        "\n",
        "# 16진법\n",
        "# 1542 == 1 * (16**3) + 5 * (16**2) + 4 * (16**1) + 2 * (16**0)\n",
        "# 0123456789abcdef 10\n",
        "\n",
        "# 8진법\n",
        "# 1542 == 1 * (8**3) + 5 * (8**2) + 4 * (8**1) + 2 * (8**0)\n",
        "# 01234567 10\n",
        "\n",
        "# 01 10"
      ],
      "metadata": {
        "id": "bufJ0a5WYCB9"
      },
      "execution_count": null,
      "outputs": []
    },
    {
      "cell_type": "code",
      "source": [
        "# 진법 변환 팁\n",
        "# 10진 == 2진\n",
        "# 실제로 10자로 표현\n",
        "# 8개 비트 사용하면 맨앞에 하나는 양수 음수 부호로 사\n",
        "\n",
        "# 1 == 1\n",
        "# 2 == 10\n",
        "# 4 == 100\n",
        "# 8 == 1000\n",
        "# 16 == 10000\n",
        "\n",
        "# 9는? 8 + 1 => 1000 + 1 => 1001\n",
        "# 15는? 16 - 1 => 10000 - 1 => 1111"
      ],
      "metadata": {
        "id": "ZBh_fUc0Z9eW"
      },
      "execution_count": null,
      "outputs": []
    },
    {
      "cell_type": "markdown",
      "source": [
        "## 3 & 9\n"
      ],
      "metadata": {
        "id": "hyy_PD4RaS_4"
      }
    },
    {
      "cell_type": "code",
      "source": [
        "# 3 & 9\n",
        "\n",
        "  0011  # 3\n",
        "  1001  # 9\n",
        "# -----\n",
        "  0001  (& And. 두개 모두 1이어야 1)\n"
      ],
      "metadata": {
        "id": "ajx_H1vwaZ_l"
      },
      "execution_count": null,
      "outputs": []
    },
    {
      "cell_type": "markdown",
      "source": [
        "## 3 | 9"
      ],
      "metadata": {
        "id": "59wxZjShbdAV"
      }
    },
    {
      "cell_type": "code",
      "source": [
        "# 3 | 9   # or\n",
        "\n",
        "# 0011\n",
        "# 1001\n",
        "# ----\n",
        "# 1011 => 11"
      ],
      "metadata": {
        "id": "P0A8K0lLbZnI"
      },
      "execution_count": null,
      "outputs": []
    },
    {
      "cell_type": "code",
      "source": [
        "# 복습 XXX\n",
        "# 8개의 비트(bit)를 숫자로 사용할 수 있습니다.\n",
        "# 8개 비트 사용하면 1개를 부호 비트\n",
        "00000000\n",
        "00000001 == 1\n",
        "11111110 == -1    #\n",
        "11111111 + 1 => 00000000(우리가 원하는 값)\n"
      ],
      "metadata": {
        "id": "suD-BMfdbsRe"
      },
      "execution_count": null,
      "outputs": []
    },
    {
      "cell_type": "markdown",
      "source": [
        "## 비밀지도\n",
        "* 문제를 보면 입출력을 확인\n",
        "* 진법 변환"
      ],
      "metadata": {
        "id": "1_XqroQqcSQm"
      }
    },
    {
      "cell_type": "markdown",
      "source": [
        "```\n",
        "매개변수\t값\n",
        "n\t5\n",
        "arr1\t[9, 20, 28, 18, 11]\n",
        "arr2\t[30, 1, 21, 17, 28]\n",
        "출력\t[\"#####\",\"# # #\", \"### #\", \"# ##\", \"#####\"]\n",
        "매개변수\t값\n",
        "n\t6\n",
        "arr1\t[46, 33, 33 ,22, 31, 50]\n",
        "arr2\t[27 ,56, 19, 14, 14, 10]\n",
        "출력\t[\"######\", \"### #\", \"## ##\", \" #### \", \" #####\", \"### # \"]\n",
        "```"
      ],
      "metadata": {
        "id": "uDHbuRuFcpZE"
      }
    },
    {
      "cell_type": "markdown",
      "source": [
        "### bin(), oct(), hex()\n",
        "* 2진법으로 변환 bin()\n",
        "* 8진법         oct()\n",
        "* 16진법        hex()"
      ],
      "metadata": {
        "id": "P21Apzs_hS0A"
      }
    },
    {
      "cell_type": "code",
      "source": [
        "# 2진법으로 변환 bin()\n",
        "# 8진법         oct()\n",
        "# 16진법        hex()\n",
        "\n",
        "int('0b11111', 2)    # 2진수를 10진수로 변환\n",
        "int('11111', 2)"
      ],
      "metadata": {
        "colab": {
          "base_uri": "https://localhost:8080/"
        },
        "id": "bm9A5f3Chvep",
        "outputId": "ea1c365b-9885-44a1-a9eb-d68d0e0f1a55"
      },
      "execution_count": 11,
      "outputs": [
        {
          "output_type": "execute_result",
          "data": {
            "text/plain": [
              "31"
            ]
          },
          "metadata": {},
          "execution_count": 11
        }
      ]
    },
    {
      "cell_type": "code",
      "source": [
        "\n",
        "9|30    # 9 + 30\n",
        "bin(9 | 30)\n",
        "bin(9|30)[2:]   #0b 는 2진수라는 표시. 그래서 제외\n",
        "bin(9|30)[2:].replace('1', '#').replace('0', '')    # 그림의 색칠한 부분\n",
        "\n",
        "arr1 = [9, 20, 28, 18, 11]\n",
        "arr2 = [30, 1, 21, 17, 28]\n",
        "\n",
        "for i, j in zip(arr1, arr2):\n",
        "    print(bin(i | j)[2:].replace('1', '#').replace('0', ' '))"
      ],
      "metadata": {
        "colab": {
          "base_uri": "https://localhost:8080/"
        },
        "id": "RhJ9YkkOcnps",
        "outputId": "9efdfe9f-ae61-483b-85da-f5b889ffa1a3"
      },
      "execution_count": 10,
      "outputs": [
        {
          "output_type": "stream",
          "name": "stdout",
          "text": [
            "#####\n",
            "# # #\n",
            "### #\n",
            "#  ##\n",
            "#####\n"
          ]
        }
      ]
    },
    {
      "cell_type": "code",
      "source": [
        "[\"#####\",\"# # #\", \"### #\", \"# ##\", \"#####\"]\n"
      ],
      "metadata": {
        "colab": {
          "base_uri": "https://localhost:8080/"
        },
        "id": "wu1sGPcIcbO1",
        "outputId": "6dfce068-981f-44e0-ee63-c434d0d3cfc6"
      },
      "execution_count": 8,
      "outputs": [
        {
          "output_type": "execute_result",
          "data": {
            "text/plain": [
              "['#####', '# # #', '### #', '# ##', '#####']"
            ]
          },
          "metadata": {},
          "execution_count": 8
        }
      ]
    },
    {
      "cell_type": "markdown",
      "source": [
        "# f-string (string 을 만든다 생각)"
      ],
      "metadata": {
        "id": "V6GbyIqs82wO"
      }
    },
    {
      "cell_type": "code",
      "execution_count": null,
      "metadata": {
        "id": "1Zo17TFV4pkL"
      },
      "outputs": [],
      "source": [
        "# 문자열에 들어가는 문자열 만들기\n",
        "\n",
        "name = '이호준'\n",
        "age = 10\n",
        "\n",
        "'제 이름은 %s 이고 제 나이는 %d 입니다.'%(name, age)  # % 용법\n",
        "'제 이름은 {}이고 제 나이는 {}입니다'.format(name, age)     # 권장하지 않음\n",
        "f'제 이름은 {name}이고 제 나이는 {age} 입니다'              # 권장. f-string 안에 수식넣지 않기\n"
      ]
    },
    {
      "cell_type": "code",
      "source": [
        "삼 = '짝'*3\n",
        "칠 = '짝'*7\n",
        "print('삼삼칠 박수 :  {0}!!! {0}!!! {1}!!! '.format(삼,칠))\n",
        "print(f'삼삼칠 박수 :  {삼}!!! {삼}!!! {칠}!!! ')"
      ],
      "metadata": {
        "colab": {
          "base_uri": "https://localhost:8080/"
        },
        "id": "f4nGEXFsj82k",
        "outputId": "36d1f255-220a-459c-ecbe-4c1bb68e39d5"
      },
      "execution_count": 12,
      "outputs": [
        {
          "output_type": "stream",
          "name": "stdout",
          "text": [
            "삼삼칠 박수 :  짝짝짝!!! 짝짝짝!!! 짝짝짝짝짝짝짝!!! \n",
            "삼삼칠 박수 :  짝짝짝!!! 짝짝짝!!! 짝짝짝짝짝짝짝!!! \n"
          ]
        }
      ]
    },
    {
      "cell_type": "code",
      "source": [
        "삼 = '짝'*3\n",
        "칠 = '짝'*7\n",
        "print('삼삼칠 박수 :  {0}!!! {0}!!! {1}!!! '.format(삼, 칠))\n",
        "print(f'삼삼칠 박수 :  {삼}!!! {삼}!!! {칠}!!! ')\n",
        "print(f'삼삼칠 박수 :  {삼*2}!!! {삼}!!! {칠}!!! ') # {}안에서 연산하는 것은 가독성을 해칠 우려가 있습니다."
      ],
      "metadata": {
        "colab": {
          "base_uri": "https://localhost:8080/"
        },
        "id": "ZC1OGR9Xj-Yt",
        "outputId": "948909e6-b200-4686-ca2f-5f16d590df56"
      },
      "execution_count": 13,
      "outputs": [
        {
          "output_type": "stream",
          "name": "stdout",
          "text": [
            "삼삼칠 박수 :  짝짝짝!!! 짝짝짝!!! 짝짝짝짝짝짝짝!!! \n",
            "삼삼칠 박수 :  짝짝짝!!! 짝짝짝!!! 짝짝짝짝짝짝짝!!! \n",
            "삼삼칠 박수 :  짝짝짝짝짝짝!!! 짝짝짝!!! 짝짝짝짝짝짝짝!!! \n"
          ]
        }
      ]
    },
    {
      "cell_type": "code",
      "source": [
        "one_length = 5.343\n",
        "\n",
        "print(f'{one_length} 입니다.')\n",
        "print(f'{one_length:.1f} 입니다.')\n",
        "print('{0:.2f}'.format(one_length))\n",
        "print('{:.2f}'.format(one_length))"
      ],
      "metadata": {
        "colab": {
          "base_uri": "https://localhost:8080/"
        },
        "id": "OaMNE3l8kKSj",
        "outputId": "78bc0247-b4ff-4e95-870a-26de64759817"
      },
      "execution_count": 16,
      "outputs": [
        {
          "output_type": "stream",
          "name": "stdout",
          "text": [
            "5.343 입니다.\n",
            "5.3 입니다.\n",
            "5.34\n",
            "5.34\n"
          ]
        }
      ]
    },
    {
      "cell_type": "markdown",
      "source": [
        "## 가운데 정렬 (^)"
      ],
      "metadata": {
        "id": "Pqav_e2glSN3"
      }
    },
    {
      "cell_type": "code",
      "source": [
        "# log 출력할 때 가운데 정렬은 많이 사용합니다.\n",
        "age = 100\n",
        "print('당신의 나이는 [{:^15}]세'.format(22))\n",
        "print(f'당신의 나이는 [{age:^15}]세')"
      ],
      "metadata": {
        "colab": {
          "base_uri": "https://localhost:8080/"
        },
        "id": "PCywOVZhkUTc",
        "outputId": "211286f7-cab1-4653-d037-7d3f19607890"
      },
      "execution_count": 17,
      "outputs": [
        {
          "output_type": "stream",
          "name": "stdout",
          "text": [
            "당신의 나이는 [      22       ]세\n",
            "당신의 나이는 [      100      ]세\n"
          ]
        }
      ]
    },
    {
      "cell_type": "code",
      "source": [
        "# log 출력할 때 가운데 정렬은 많이 사용합니다.\n",
        "age = 100\n",
        "print('당신의 나이는 [{:^15}]세'.format(22))\n",
        "print(f'당신의 나이는 [{age:^15}]세')\n",
        "print(f'당신의 나이는 [{age:<15}]세')\n",
        "print(f'당신의 나이는 [{age:>15}]세')\n",
        "print(f'당신의 나이는 [{age:=^15}]세')\n",
        "print(f'당신의 나이는 [{age:#^15}]세')"
      ],
      "metadata": {
        "colab": {
          "base_uri": "https://localhost:8080/"
        },
        "id": "-BjA_ehXlRHb",
        "outputId": "d98340fb-ecf4-43f1-d91e-e5fbb35835a2"
      },
      "execution_count": 18,
      "outputs": [
        {
          "output_type": "stream",
          "name": "stdout",
          "text": [
            "당신의 나이는 [      22       ]세\n",
            "당신의 나이는 [      100      ]세\n",
            "당신의 나이는 [100            ]세\n",
            "당신의 나이는 [            100]세\n",
            "당신의 나이는 [======100======]세\n",
            "당신의 나이는 [######100######]세\n"
          ]
        }
      ]
    },
    {
      "cell_type": "code",
      "source": [
        "# 중괄호 3개는 1년에 5번정도 만나는 것 같습니다.\n",
        "# 잘 모르시면 이걸 해결하는 것이 참 힘듭니다.\n",
        "\n",
        "age = 10\n",
        "\n",
        "print(f'My set is {{1, 2, 3}}.')    # 출력: My set is {1, 2, 3}.\n",
        "print(f'My set is {{age*2}}.')      # 출력: My set is {age*2}.\n",
        "print(f'My set is {{{age*2}}}.')    # 출력: My set is {20}."
      ],
      "metadata": {
        "id": "uaiAyWXLlcHU"
      },
      "execution_count": null,
      "outputs": []
    },
    {
      "cell_type": "markdown",
      "source": [
        "# Comprehension"
      ],
      "metadata": {
        "id": "XqP8wIuHm2IQ"
      }
    },
    {
      "cell_type": "code",
      "source": [
        "l = []\n",
        "for i in range(2, 10):\n",
        "    for j in range(1, 10):\n",
        "        l.append(f'{i} X {j} = {i*j}')\n",
        "\n",
        "l"
      ],
      "metadata": {
        "id": "gL_9rkQdmwOs"
      },
      "execution_count": null,
      "outputs": []
    },
    {
      "cell_type": "code",
      "source": [
        "# list comrehension\n",
        "# for 문보다 속도가 빠름 (C 계열로 구현됨)\n",
        "# 위의 code --> list comprehension\n",
        "\n",
        "[f'{i} X {j} = {i*j}' for i in range(2, 10) for j in range(1, 10) ]\n",
        "\n"
      ],
      "metadata": {
        "id": "6_IcDvLzmyJq"
      },
      "execution_count": 20,
      "outputs": []
    },
    {
      "cell_type": "markdown",
      "source": [
        "# Asynchronize : asyncio.run()\n",
        "* !pip install nest_asyncio  (colab 용)"
      ],
      "metadata": {
        "id": "nM_qMCA9ox5c"
      }
    },
    {
      "cell_type": "code",
      "source": [
        "!pip install nest_asyncio"
      ],
      "metadata": {
        "colab": {
          "base_uri": "https://localhost:8080/"
        },
        "id": "nLqxpyy5pBYz",
        "outputId": "a5b39cbb-046f-4d65-9189-c3546c80d387"
      },
      "execution_count": 21,
      "outputs": [
        {
          "output_type": "stream",
          "name": "stdout",
          "text": [
            "Requirement already satisfied: nest_asyncio in /usr/local/lib/python3.10/dist-packages (1.5.8)\n"
          ]
        }
      ]
    },
    {
      "cell_type": "code",
      "source": [
        "# Synchronized\n",
        "\n",
        "import time\n",
        "\n",
        "def job(number):\n",
        "    print(f\"Job {number} started\")\n",
        "    time.sleep(1)  # 매우 오래 걸리는 작업, 일반 sleep은 CPU를 쉬게 합니다.\n",
        "    print(f\"Job {number} completed\")\n",
        "\n",
        "job(1)\n",
        "job(2)\n",
        "job(3)"
      ],
      "metadata": {
        "colab": {
          "base_uri": "https://localhost:8080/"
        },
        "id": "dFDrN3gJnWsk",
        "outputId": "f8dd408d-13e4-4982-d832-df7603a83c73"
      },
      "execution_count": 22,
      "outputs": [
        {
          "output_type": "stream",
          "name": "stdout",
          "text": [
            "Job 1 started\n",
            "Job 1 completed\n",
            "Job 2 started\n",
            "Job 2 completed\n",
            "Job 3 started\n",
            "Job 3 completed\n"
          ]
        }
      ]
    },
    {
      "cell_type": "code",
      "source": [
        "# colab에서 작동하는 코드\n",
        "# 기본 base는 colab에서 작동하지 않습니다.\n",
        "import asyncio\n",
        "\n",
        "async def job(number):\n",
        "    print(f\"Job {number} started\")\n",
        "    await asyncio.sleep(1) # 매우 오래 걸리는 작업, asyncio.sleep은 비동기 처리를 할 수 있도록 합니다.(다른 작업이 가능합니다.)\n",
        "    print(f\"Job {number} completed\")\n",
        "\n",
        "async def main():\n",
        "    await asyncio.gather(job(1), job(2), job(3)) # await asyncio.wait([job(1), job(2), job(3)])\n",
        "\n",
        "# asyncio.run(main())    # 에러 왜 날까\n",
        "print('hello world')"
      ],
      "metadata": {
        "colab": {
          "base_uri": "https://localhost:8080/"
        },
        "id": "kPk_3yb3pjQ5",
        "outputId": "7c12c794-2fbf-4e4b-9361-800746c070ef"
      },
      "execution_count": 26,
      "outputs": [
        {
          "output_type": "stream",
          "name": "stdout",
          "text": [
            "hello world\n"
          ]
        }
      ]
    },
    {
      "cell_type": "markdown",
      "source": [
        "## 코루틴 (잊어도 됨)"
      ],
      "metadata": {
        "id": "mwEXkmwWrUBn"
      }
    },
    {
      "cell_type": "code",
      "source": [
        "def job():\n",
        "    print('job')"
      ],
      "metadata": {
        "id": "li4KaE5crTtb"
      },
      "execution_count": 27,
      "outputs": []
    },
    {
      "cell_type": "code",
      "source": [
        "\n",
        "async def job():\n",
        "    print('job')\n",
        "\n",
        "print(job) # <function job at 0x7fc8cb38ef80>\n",
        "job() # <coroutine object job at 0x7fc8cb32bc30>, print('job')이 실행되진 않습니다!"
      ],
      "metadata": {
        "id": "WVOsexrHrTpk"
      },
      "execution_count": null,
      "outputs": []
    },
    {
      "cell_type": "code",
      "source": [
        "# def job():\n",
        "#     print('job')\n",
        "\n",
        "# async def main():\n",
        "#     # return await job()\n",
        "\n",
        "# # main() # <coroutine object main at 0x7fc8cb22bf40>?\n",
        "# # print(await main()) # None"
      ],
      "metadata": {
        "colab": {
          "base_uri": "https://localhost:8080/",
          "height": 141
        },
        "id": "ToLMSlPmpoxL",
        "outputId": "49a62e18-3201-4ccb-ce3f-2eb7d9be2b74"
      },
      "execution_count": 2,
      "outputs": [
        {
          "output_type": "error",
          "ename": "IndentationError",
          "evalue": "expected an indented block after function definition on line 4 (<ipython-input-2-287542596428>, line 8)",
          "traceback": [
            "\u001b[0;36m  File \u001b[0;32m\"<ipython-input-2-287542596428>\"\u001b[0;36m, line \u001b[0;32m8\u001b[0m\n\u001b[0;31m    print(await main()) # None\u001b[0m\n\u001b[0m    ^\u001b[0m\n\u001b[0;31mIndentationError\u001b[0m\u001b[0;31m:\u001b[0m expected an indented block after function definition on line 4\n"
          ]
        }
      ]
    },
    {
      "cell_type": "code",
      "source": [],
      "metadata": {
        "id": "i7gPEW71rpqK"
      },
      "execution_count": null,
      "outputs": []
    }
  ]
}
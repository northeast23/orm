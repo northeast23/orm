{
  "nbformat": 4,
  "nbformat_minor": 0,
  "metadata": {
    "colab": {
      "provenance": [],
      "toc_visible": true,
      "authorship_tag": "ABX9TyOlhGLztWie3CUAhixiCKnc",
      "include_colab_link": true
    },
    "kernelspec": {
      "name": "python3",
      "display_name": "Python 3"
    },
    "language_info": {
      "name": "python"
    }
  },
  "cells": [
    {
      "cell_type": "markdown",
      "metadata": {
        "id": "view-in-github",
        "colab_type": "text"
      },
      "source": [
        "<a href=\"https://colab.research.google.com/github/northeast23/orm/blob/main/240102_2.ipynb\" target=\"_parent\"><img src=\"https://colab.research.google.com/assets/colab-badge.svg\" alt=\"Open In Colab\"/></a>"
      ]
    },
    {
      "cell_type": "markdown",
      "source": [
        "# 변수 (대문자, 소문자, _ (underscore))"
      ],
      "metadata": {
        "id": "ogiEI7uPM-Rg"
      }
    },
    {
      "cell_type": "markdown",
      "source": [
        "* 숫자로 시작하지 않음. _test ()   1test (X)\n",
        "* 일반적으로 소문자로 시작. 사용하지 않는 변수는 _ 로 시작 (snake 표기법)\n",
        "* Python keyword 사용 않함 (import keyword    print(keyword.kwlist)\n",
        "* - (하이픈) 사용 불가\n",
        "* class 는 대문자로 시작\n",
        "* word_word_word  (한단어 마다 _ 로 연결하는 형태)\n",
        "\n"
      ],
      "metadata": {
        "id": "7NeyBQXJNC4m"
      }
    },
    {
      "cell_type": "markdown",
      "source": [
        "## type()"
      ],
      "metadata": {
        "id": "TFgK2UBin9uq"
      }
    },
    {
      "cell_type": "code",
      "execution_count": 3,
      "metadata": {
        "colab": {
          "base_uri": "https://localhost:8080/",
          "height": 0
        },
        "id": "q1m9w8aQUpSY",
        "outputId": "a0c9fd81-8d03-4297-e547-f55b0e7ce8c0"
      },
      "outputs": [
        {
          "output_type": "stream",
          "name": "stdout",
          "text": [
            "<class 'int'>\n",
            "['__abs__', '__add__', '__and__', '__bool__', '__ceil__', '__class__', '__delattr__', '__dir__', '__divmod__', '__doc__', '__eq__', '__float__', '__floor__', '__floordiv__', '__format__', '__ge__', '__getattribute__', '__getnewargs__', '__gt__', '__hash__', '__index__', '__init__', '__init_subclass__', '__int__', '__invert__', '__le__', '__lshift__', '__lt__', '__mod__', '__mul__', '__ne__', '__neg__', '__new__', '__or__', '__pos__', '__pow__', '__radd__', '__rand__', '__rdivmod__', '__reduce__', '__reduce_ex__', '__repr__', '__rfloordiv__', '__rlshift__', '__rmod__', '__rmul__', '__ror__', '__round__', '__rpow__', '__rrshift__', '__rshift__', '__rsub__', '__rtruediv__', '__rxor__', '__setattr__', '__sizeof__', '__str__', '__sub__', '__subclasshook__', '__truediv__', '__trunc__', '__xor__', 'as_integer_ratio', 'bit_count', 'bit_length', 'conjugate', 'denominator', 'from_bytes', 'imag', 'numerator', 'real', 'to_bytes']\n",
            "<class 'str'>\n",
            "['__add__', '__class__', '__contains__', '__delattr__', '__dir__', '__doc__', '__eq__', '__format__', '__ge__', '__getattribute__', '__getitem__', '__getnewargs__', '__gt__', '__hash__', '__init__', '__init_subclass__', '__iter__', '__le__', '__len__', '__lt__', '__mod__', '__mul__', '__ne__', '__new__', '__reduce__', '__reduce_ex__', '__repr__', '__rmod__', '__rmul__', '__setattr__', '__sizeof__', '__str__', '__subclasshook__', 'capitalize', 'casefold', 'center', 'count', 'encode', 'endswith', 'expandtabs', 'find', 'format', 'format_map', 'index', 'isalnum', 'isalpha', 'isascii', 'isdecimal', 'isdigit', 'isidentifier', 'islower', 'isnumeric', 'isprintable', 'isspace', 'istitle', 'isupper', 'join', 'ljust', 'lower', 'lstrip', 'maketrans', 'partition', 'removeprefix', 'removesuffix', 'replace', 'rfind', 'rindex', 'rjust', 'rpartition', 'rsplit', 'rstrip', 'split', 'splitlines', 'startswith', 'strip', 'swapcase', 'title', 'translate', 'upper', 'zfill']\n"
          ]
        }
      ],
      "source": [
        "# Integer\n",
        "x = 10      # method 사용 가능\n",
        "print(type(x))\n",
        "print(dir(x))\n",
        "\n",
        "# String\n",
        "x = \"10\"\n",
        "print(type(x))\n",
        "print(dir(x))\n"
      ]
    },
    {
      "cell_type": "markdown",
      "source": [
        "## * dir()"
      ],
      "metadata": {
        "id": "HuuzNYupnzNS"
      }
    },
    {
      "cell_type": "markdown",
      "source": [],
      "metadata": {
        "id": "tuOOSWK3n26Q"
      }
    },
    {
      "cell_type": "code",
      "source": [
        "x = 10\n",
        "\n",
        "print(x)\n",
        "\n",
        "x = 20\n",
        "\n",
        "print(x)\n",
        "\n",
        "# del x  하면 변수가 지워짐\n",
        "\n",
        "del x\n",
        "\n",
        "print(x)  #  오류 발생"
      ],
      "metadata": {
        "colab": {
          "base_uri": "https://localhost:8080/",
          "height": 247
        },
        "id": "ZbsjxVfcoICX",
        "outputId": "f6459857-dc1c-4410-95a5-752459719b8f"
      },
      "execution_count": 7,
      "outputs": [
        {
          "output_type": "stream",
          "name": "stdout",
          "text": [
            "10\n",
            "20\n"
          ]
        },
        {
          "output_type": "error",
          "ename": "NameError",
          "evalue": "ignored",
          "traceback": [
            "\u001b[0;31m---------------------------------------------------------------------------\u001b[0m",
            "\u001b[0;31mNameError\u001b[0m                                 Traceback (most recent call last)",
            "\u001b[0;32m<ipython-input-7-5491e3e5fbb4>\u001b[0m in \u001b[0;36m<cell line: 13>\u001b[0;34m()\u001b[0m\n\u001b[1;32m     11\u001b[0m \u001b[0;32mdel\u001b[0m \u001b[0mx\u001b[0m\u001b[0;34m\u001b[0m\u001b[0;34m\u001b[0m\u001b[0m\n\u001b[1;32m     12\u001b[0m \u001b[0;34m\u001b[0m\u001b[0m\n\u001b[0;32m---> 13\u001b[0;31m \u001b[0mprint\u001b[0m\u001b[0;34m(\u001b[0m\u001b[0mx\u001b[0m\u001b[0;34m)\u001b[0m\u001b[0;34m\u001b[0m\u001b[0;34m\u001b[0m\u001b[0m\n\u001b[0m",
            "\u001b[0;31mNameError\u001b[0m: name 'x' is not defined"
          ]
        }
      ]
    },
    {
      "cell_type": "code",
      "source": [
        "# None 대문자로 시작\n",
        "nn = None"
      ],
      "metadata": {
        "id": "Dvz5rd7roI0J"
      },
      "execution_count": 8,
      "outputs": []
    },
    {
      "cell_type": "markdown",
      "source": [
        "## 런타임 다시 시작 (colab menu Runtime) > 세션 다시 시작"
      ],
      "metadata": {
        "id": "Kx3IF5ocqiF5"
      }
    },
    {
      "cell_type": "markdown",
      "source": [
        "# 변수 유형\n"
      ],
      "metadata": {
        "id": "qtMFSMBzt4eQ"
      }
    },
    {
      "cell_type": "markdown",
      "source": [
        "\n",
        "* Bool --> True / False (숫자타입이 아님)\n",
        "* 나눗셈 결과는 **FLOAT**"
      ],
      "metadata": {
        "id": "gKBqIA3yt75_"
      }
    },
    {
      "cell_type": "code",
      "source": [
        "l = [1, 2, 3, 4]       # list, 리스트 자료형\n",
        "m = ['one', 'two']     # list, 리스트 자료형\n",
        "n = (1, 2, 3, 4)       # tuple, 튜플 자료형\n",
        "o = ('one', 'two')     # tuple, 튜플 자료형\n",
        "p = {'one':1, 'two':2} # dict, 딕셔너리 자료형\n",
        "q = {1, 2, 3, 4}       # set, 셋 자료형"
      ],
      "metadata": {
        "id": "MEmMfVkAoIrG"
      },
      "execution_count": 9,
      "outputs": []
    },
    {
      "cell_type": "markdown",
      "source": [
        "## 나눗셈 결과는 Float 형"
      ],
      "metadata": {
        "id": "hmFwAd52w_4V"
      }
    },
    {
      "cell_type": "code",
      "source": [
        "x = 40\n",
        "y = 20\n",
        "result = x / y\n",
        "\n",
        "print(result)\n",
        "type(result)"
      ],
      "metadata": {
        "colab": {
          "base_uri": "https://localhost:8080/",
          "height": 0
        },
        "id": "Xun0A2yyuGOm",
        "outputId": "ad162280-61c8-412b-e48e-b8f63bdb8031"
      },
      "execution_count": 11,
      "outputs": [
        {
          "output_type": "stream",
          "name": "stdout",
          "text": [
            "2.0\n"
          ]
        },
        {
          "output_type": "execute_result",
          "data": {
            "text/plain": [
              "float"
            ]
          },
          "metadata": {},
          "execution_count": 11
        }
      ]
    },
    {
      "cell_type": "markdown",
      "source": [
        "## 진수 (Binary,\n",
        "\n"
      ],
      "metadata": {
        "id": "8_-KgoixxuqO"
      }
    },
    {
      "cell_type": "code",
      "source": [
        "# 0b  로 시작하면 이진수\n",
        "x = 0b110\n",
        "print(x)\n",
        "print(type(x))\n",
        "\n",
        "# Oo 8진수\n",
        "# Ox hexa decimal\n",
        "\n",
        "\n",
        "# 여기 채우기\n",
        "x = 26\n",
        "print()"
      ],
      "metadata": {
        "colab": {
          "base_uri": "https://localhost:8080/",
          "height": 0
        },
        "id": "7cwxWfGSx_GV",
        "outputId": "2063014c-5404-47fe-83ff-d87173f3bc4f"
      },
      "execution_count": 12,
      "outputs": [
        {
          "output_type": "stream",
          "name": "stdout",
          "text": [
            "6\n",
            "<class 'int'>\n"
          ]
        }
      ]
    },
    {
      "cell_type": "markdown",
      "source": [
        "# Method"
      ],
      "metadata": {
        "id": "iIJFPz9xx-F9"
      }
    },
    {
      "cell_type": "code",
      "source": [
        "#  Method 확인 하는 방법\n",
        "# __method__   ---> magic method, 있어야 기본 기능 수행\n",
        "# 점 찍으면 method 에 접근 가능. () 로 수행함\n",
        "\n",
        "x = 5\n",
        "\n",
        "# print(dir(x))\n",
        "\n",
        "x.bit_count()    # x 값의 바이너리값에서 1의 갯수를 세는 method"
      ],
      "metadata": {
        "colab": {
          "base_uri": "https://localhost:8080/",
          "height": 0
        },
        "id": "8qKHjwTFyxuk",
        "outputId": "9eecb6cc-311b-40ed-8fb1-f81b93d8cf05"
      },
      "execution_count": 17,
      "outputs": [
        {
          "output_type": "execute_result",
          "data": {
            "text/plain": [
              "2"
            ]
          },
          "metadata": {},
          "execution_count": 17
        }
      ]
    },
    {
      "cell_type": "markdown",
      "source": [
        "## id() : -5 ~ 256 내에서만 해당"
      ],
      "metadata": {
        "id": "oBg5OdeRzwDL"
      }
    },
    {
      "cell_type": "code",
      "source": [
        "#  id(x), id(y) : -5 ~ 256 내에서만 해당\n",
        "\n",
        "x = 256\n",
        "y = 256\n",
        "\n",
        "print(x,y)\n",
        "print(x == y)\n",
        "print(x is y)\n",
        "print(id(x), id(y))\n",
        "\n",
        "print()\n",
        "x = 257\n",
        "y = 257\n",
        "print(x, y)\n",
        "print(id(x), id(y))   # 256 벗어나면 id 값이 다름\n",
        "print(x == y)\n",
        "print(x is y)   # 결과값이 False 로 나옴"
      ],
      "metadata": {
        "colab": {
          "base_uri": "https://localhost:8080/",
          "height": 0
        },
        "id": "vYiyipQFz7iN",
        "outputId": "98e3c75f-61d2-4b1d-d0c7-a511ba817fbb"
      },
      "execution_count": 34,
      "outputs": [
        {
          "output_type": "stream",
          "name": "stdout",
          "text": [
            "256 256\n",
            "True\n",
            "True\n",
            "140168502878416 140168502878416\n",
            "\n",
            "257 257\n",
            "140167235594448 140167235595856\n",
            "True\n",
            "False\n"
          ]
        }
      ]
    },
    {
      "cell_type": "markdown",
      "source": [
        "## Float\n",
        "\n"
      ],
      "metadata": {
        "id": "BLI3kUtt278K"
      }
    },
    {
      "cell_type": "markdown",
      "source": [
        "### infinite\n",
        "\n",
        "`print(\"inf\")`\n",
        "* print 할때 \"inf\" 로 표현되지만 실수(float) 이다\n",
        "* 실수형 계산은 틀릴 수도 있다 (십진수로 표시하면서 생기는 문제)\n",
        "  --> decimal() 로 해결\n",
        "* inf: 양의 무한대\n",
        "* -inf: 음의 무한대"
      ],
      "metadata": {
        "id": "DMrNLFAH3Rkg"
      }
    },
    {
      "cell_type": "code",
      "source": [
        "# print 할때 \"inf\" 로 표현되지만 실수(float) 이다\n",
        "\n",
        "x = float(\"inf\")\n",
        "print(x)\n",
        "\n",
        "x_test = 10.1\n",
        "y_test = 10.5\n",
        "print(x_test + y_test)   # 20.6 이 안나올 수도 있음\n",
        "\n",
        "x_test = 0.1\n",
        "y_test = 0.2\n",
        "print(x_test + y_test)   # 0.3 이 안나올 수도 있음"
      ],
      "metadata": {
        "colab": {
          "base_uri": "https://localhost:8080/",
          "height": 0
        },
        "id": "mtnJOb3b2-X5",
        "outputId": "9c41ab80-e7e3-4025-9a34-9ad37f26e9a2"
      },
      "execution_count": 54,
      "outputs": [
        {
          "output_type": "stream",
          "name": "stdout",
          "text": [
            "inf\n",
            "20.6\n",
            "0.30000000000000004\n"
          ]
        }
      ]
    },
    {
      "cell_type": "code",
      "source": [
        "import decimal\n",
        "\n",
        "#  decimal 사용\n",
        "float(decimal.Decimal('.1') + decimal.Decimal('.2'))\n",
        "print(float(decimal.Decimal('.1') + decimal.Decimal('.2')))\n",
        "\n",
        "#  decimal 없이 사용\n",
        "float(.1 + .1)\n",
        "\n"
      ],
      "metadata": {
        "colab": {
          "base_uri": "https://localhost:8080/",
          "height": 0
        },
        "id": "0P9rNRTv4sgY",
        "outputId": "e23d878e-920b-4ab7-858b-aa159eca3f48"
      },
      "execution_count": 62,
      "outputs": [
        {
          "output_type": "stream",
          "name": "stdout",
          "text": [
            "0.3\n"
          ]
        },
        {
          "output_type": "execute_result",
          "data": {
            "text/plain": [
              "0.2"
            ]
          },
          "metadata": {},
          "execution_count": 62
        }
      ]
    },
    {
      "cell_type": "code",
      "source": [
        "# square\n",
        "print(2e7)"
      ],
      "metadata": {
        "colab": {
          "base_uri": "https://localhost:8080/",
          "height": 0
        },
        "id": "w3NBa1Yi5lv1",
        "outputId": "56e494bb-49cc-4fec-bd7e-c5c261348848"
      },
      "execution_count": 63,
      "outputs": [
        {
          "output_type": "stream",
          "name": "stdout",
          "text": [
            "20000000.0\n"
          ]
        }
      ]
    },
    {
      "cell_type": "markdown",
      "source": [
        "### 복소수 (complex):     x = 3 + 4j  또는  x = complex(3,4)\n",
        "* 실수와 허수의 합\n",
        "* 수학에서는 i 사용, Python 에서는 j 사용\n",
        "* x = 3 + 4j  또는  x = complex(3,4) 로 표현"
      ],
      "metadata": {
        "id": "mBPbYDq35vhd"
      }
    },
    {
      "cell_type": "code",
      "source": [
        "x = 3 + 4j\n",
        "print(x)\n",
        "\n",
        "x1 = 3 + 4j\n",
        "x2 = complex(3,4)\n",
        "\n",
        "print(x1, x2)\n",
        "\n",
        "type(x1)\n",
        "print(x.real)\n",
        "\n",
        "print(x1*x2)\n"
      ],
      "metadata": {
        "colab": {
          "base_uri": "https://localhost:8080/",
          "height": 0
        },
        "id": "N0fiik7c53G9",
        "outputId": "73cb733b-e323-4c6f-cb18-3d255cba98b1"
      },
      "execution_count": 70,
      "outputs": [
        {
          "output_type": "stream",
          "name": "stdout",
          "text": [
            "(3+4j)\n",
            "(3+4j) (3+4j)\n",
            "3.0\n",
            "(-7+24j)\n"
          ]
        }
      ]
    },
    {
      "cell_type": "markdown",
      "source": [
        "x = 3 + 4j\n",
        "print(x.real) # 출력 : 3.0\n",
        "x = 3 + 4j\n",
        "print(x.imag)"
      ],
      "metadata": {
        "id": "eGiZro4x71Zu"
      }
    },
    {
      "cell_type": "markdown",
      "source": [
        "# 복습 문제 (Python 100 제, 9번 15번 23번 39번)"
      ],
      "metadata": {
        "id": "ovdSTpln9ceH"
      }
    },
    {
      "cell_type": "code",
      "source": [
        "# 9 번\n",
        "\"\"\" year = '2019'\n",
        "month = '04'\n",
        "day = '26'\n",
        "hour = '11'\n",
        "minute = '34'\n",
        "second = '27'\n",
        "\n",
        "print(year, month, day, )\n",
        "print(hour, minute, second, )\n",
        "\n",
        "2019/04/26 11:34:27   \"\"\"\n",
        "\n",
        "year = '2019'\n",
        "month = '04'\n",
        "day = '26'\n",
        "hour = '11'\n",
        "minute = '34'\n",
        "second = '27'\n",
        "\n",
        "print(year, month, day, sep=\"/\",end = \" \" )\n",
        "print(hour, minute, second, sep = \":\" )\n"
      ],
      "metadata": {
        "colab": {
          "base_uri": "https://localhost:8080/"
        },
        "id": "6TSGCE5_gfj9",
        "outputId": "380b48b8-161f-40c8-9433-94d99282a73f"
      },
      "execution_count": 176,
      "outputs": [
        {
          "output_type": "stream",
          "name": "stdout",
          "text": [
            "2019/04/26 11:34:27\n"
          ]
        }
      ]
    },
    {
      "cell_type": "code",
      "source": [
        "#  파이선 100제 - 9번\n",
        "aaa, bbb, ccc = input(\"전화번호를 ### #### #### 로 입력해주세요 :    \").split()\n",
        "print(aaa, bbb, ccc, sep = \"-\", end = \"입력됨\")"
      ],
      "metadata": {
        "colab": {
          "base_uri": "https://localhost:8080/",
          "height": 0
        },
        "id": "qrFb8con9aL8",
        "outputId": "f38bc1ee-2558-47ac-e24a-26de17adb0fc"
      },
      "execution_count": 76,
      "outputs": [
        {
          "output_type": "stream",
          "name": "stdout",
          "text": [
            "전화번호를 ### #### #### 로 입력해주세요 :    234 5006 3425\n",
            "234-5006-3425입력됨"
          ]
        }
      ]
    },
    {
      "cell_type": "code",
      "source": [
        "# 파이선 100제 - 15번\n",
        "\n",
        "name = input(\"이름을 알려주세요 \\n\")\n",
        "place = input(\"사는 곳은 어디 인가요? \\n\")\n",
        "print(f'안녕하세요 제 이름은 {name} 이고, 거주하는 곳은 {place} 입니다. 반갑습니다. \\n')"
      ],
      "metadata": {
        "colab": {
          "base_uri": "https://localhost:8080/",
          "height": 0
        },
        "id": "QwLql8oL-_pr",
        "outputId": "87e2858a-3fc6-4cfe-de83-ad933f933611"
      },
      "execution_count": 78,
      "outputs": [
        {
          "output_type": "stream",
          "name": "stdout",
          "text": [
            "이름을 알려주세요 \n",
            "jame\n",
            "사는 곳은 어디 인가요? \n",
            "서울\n",
            "안녕하세요 제 이름은 jame 이고, 거주하는 곳은 서울 입니다. 반갑습니다. \n",
            "\n"
          ]
        }
      ]
    },
    {
      "cell_type": "code",
      "source": [
        "# 파이선 100제 - 23번\n",
        "\n",
        "print(10/2)"
      ],
      "metadata": {
        "colab": {
          "base_uri": "https://localhost:8080/"
        },
        "id": "ohL9tgYmgEXA",
        "outputId": "2b0c42b4-eb28-4107-aa09-f4f7a58a7a5d"
      },
      "execution_count": 175,
      "outputs": [
        {
          "output_type": "stream",
          "name": "stdout",
          "text": [
            "5.0\n"
          ]
        }
      ]
    },
    {
      "cell_type": "code",
      "source": [
        "# 파이선 100제 - 23번\n",
        "\n",
        "ans = input(\"대한민국의 수도는 어디인가요? \")\n",
        "\n",
        "result = (ans == \"서울\")\n",
        "\n",
        "if result == True:\n",
        "  print (\"O\")\n",
        "else:\n",
        "  print (\"X\")\n",
        "\n"
      ],
      "metadata": {
        "colab": {
          "base_uri": "https://localhost:8080/",
          "height": 0
        },
        "id": "X0ZZ7he5_wSR",
        "outputId": "5a970e9d-8d8d-4a64-e637-7ce7f5483e7f"
      },
      "execution_count": 85,
      "outputs": [
        {
          "output_type": "stream",
          "name": "stdout",
          "text": [
            "대한민국의 수도는 어디인가요? 대전\n",
            "X\n"
          ]
        }
      ]
    },
    {
      "cell_type": "code",
      "source": [
        "# 39번\n",
        "'''\n",
        "**문장이 입력되면 모든 q를 e로, b를 n으로 바꾸는 프로그램을 작성해 주세요.**\n",
        "\n",
        "- 완성하려는 문장 안에 q나 b가 들어가지 않는다고 가정합니다. '''\n",
        "\n",
        "sentence = list(input('문장을 입력해 주세요'))     # 리스트로 변경할 필요 없었음\n",
        "print(sentence)\n",
        "\n",
        "i = 0\n",
        "\n",
        "for i in range(len(sentence)) :\n",
        "\n",
        "  if sentence[i] == \"q\" :\n",
        "    sentence[i] = \"e\"\n",
        "  elif sentence[i] == \"b\":\n",
        "    sentence[i] = \"n\"\n",
        "\n",
        "  i = i+1\n",
        "\n",
        "str_sen = ' '.join(sentence)\n",
        "\n",
        "print(str_sen)\n",
        "\n"
      ],
      "metadata": {
        "colab": {
          "base_uri": "https://localhost:8080/"
        },
        "id": "Kc-vfNtzBwu8",
        "outputId": "55fc6ed0-2e97-4bb6-91e5-6a344fef0dba"
      },
      "execution_count": 168,
      "outputs": [
        {
          "output_type": "stream",
          "name": "stdout",
          "text": [
            "문장을 입력해 주세요aaqq bb 변경\n",
            "['a', 'a', 'q', 'q', ' ', 'b', 'b', ' ', '변', '경']\n",
            "a a e e   n n   변 경\n"
          ]
        }
      ]
    },
    {
      "cell_type": "code",
      "source": [
        "# 39번 이것이 원하는 정답\n",
        "\n",
        "sentence = input('문장 입력해 주세요')\n",
        "print(type(sentence))\n",
        "\n",
        "new_sentence = sentence.replace(\"q\",\"e\").replace(\"b\",\"n\")\n",
        "\n",
        "print(new_sentence)"
      ],
      "metadata": {
        "colab": {
          "base_uri": "https://localhost:8080/"
        },
        "id": "oVrGp-mVXxpv",
        "outputId": "a8fd978f-1d28-4e33-bb7f-c957199e6caf"
      },
      "execution_count": 174,
      "outputs": [
        {
          "output_type": "stream",
          "name": "stdout",
          "text": [
            "문장 입력해 주세요qq 와 nn을 변경하고 bb 도 바꿔보자\n",
            "<class 'str'>\n",
            "ee 와 nn을 변경하고 nn 도 바꿔보자\n"
          ]
        }
      ]
    }
  ]
}
{
  "nbformat": 4,
  "nbformat_minor": 0,
  "metadata": {
    "colab": {
      "provenance": [],
      "toc_visible": true,
      "authorship_tag": "ABX9TyMRqcXiCg0qLFECLXkhiOaK"
    },
    "kernelspec": {
      "name": "python3",
      "display_name": "Python 3"
    },
    "language_info": {
      "name": "python"
    }
  },
  "cells": [
    {
      "cell_type": "markdown",
      "source": [
        "# 자주 사용하지는 않지만 가능한"
      ],
      "metadata": {
        "id": "zkNQw7lKbu9p"
      }
    },
    {
      "cell_type": "code",
      "execution_count": null,
      "metadata": {
        "colab": {
          "base_uri": "https://localhost:8080/",
          "height": 148
        },
        "id": "txcrwK7UbucP",
        "outputId": "e1a6c6ed-577e-45fc-e66d-99c767fbad4f"
      },
      "outputs": [
        {
          "output_type": "error",
          "ename": "SyntaxError",
          "evalue": "invalid syntax (<ipython-input-1-9b2106d6230d>, line 1)",
          "traceback": [
            "\u001b[0;36m  File \u001b[0;32m\"<ipython-input-1-9b2106d6230d>\"\u001b[0;36m, line \u001b[0;32m1\u001b[0m\n\u001b[0;31m    l = [lambda]\u001b[0m\n\u001b[0m               ^\u001b[0m\n\u001b[0;31mSyntaxError\u001b[0m\u001b[0;31m:\u001b[0m invalid syntax\n"
          ]
        }
      ],
      "source": [
        "l = [lambda]"
      ]
    },
    {
      "cell_type": "markdown",
      "source": [
        "# map()"
      ],
      "metadata": {
        "id": "-dKXvly_cQQw"
      }
    },
    {
      "cell_type": "markdown",
      "source": [
        "### map(int, [ ])"
      ],
      "metadata": {
        "id": "uMh-65tueK4D"
      }
    },
    {
      "cell_type": "code",
      "source": [
        "list(map(int, ['1', '11', 100, '77']))"
      ],
      "metadata": {
        "id": "00pIuoxNcTeZ"
      },
      "execution_count": null,
      "outputs": []
    },
    {
      "cell_type": "code",
      "source": [
        "list(map(str, [1, 11, 100, 77]))"
      ],
      "metadata": {
        "id": "c3A0kIGAekgQ"
      },
      "execution_count": null,
      "outputs": []
    },
    {
      "cell_type": "code",
      "source": [
        "list(map(str.isdigit, 'hello w2orl3d'))"
      ],
      "metadata": {
        "id": "kCOu1w-1cT0i"
      },
      "execution_count": null,
      "outputs": []
    },
    {
      "cell_type": "markdown",
      "source": [
        "## 심화 (map, get)"
      ],
      "metadata": {
        "id": "6EvBH_66fMtj"
      }
    },
    {
      "cell_type": "code",
      "source": [
        "# 복습X (중요도는 좀 있어서, 복습 시간에 가능하면 한 번 복습해보시길 권해드립니다.)\n",
        "# 난이도가 있는 것을 해보겠습니다.\n",
        "요일 = {\n",
        "    0: '일요일',\n",
        "    1: '월요일',\n",
        "    2: '화요일',\n",
        "    3: '수요일',\n",
        "    4: '목요일',\n",
        "    5: '금요일',\n",
        "    6: '토요일',\n",
        "}\n",
        "\n",
        "def 함수(x):\n",
        "    return 요일.get(x, '요일없음')\n",
        "\n",
        "list(map(함수, [1, 5, 6, 3, 4]))"
      ],
      "metadata": {
        "id": "fpyR-ZtTcUTi"
      },
      "execution_count": null,
      "outputs": []
    },
    {
      "cell_type": "markdown",
      "source": [
        "# Class 두번째"
      ],
      "metadata": {
        "id": "AuRj5bOGholg"
      }
    },
    {
      "cell_type": "markdown",
      "source": [
        "## class Character:\n",
        "게임은 C (Python 보다 16배 빠르다. Java는 Python 보다 60% 정도 빠르다)\n",
        "\n",
        "* pygame\n"
      ],
      "metadata": {
        "id": "v55nnlW_iTcc"
      }
    },
    {
      "cell_type": "code",
      "source": [
        "class Character:\n",
        "\n",
        "    character_count = 0\n",
        "\n",
        "    def __init__(self, name, skill, hp, mp, power, x):\n",
        "        self.name = name\n",
        "        self.skill = skill\n",
        "        self.hp = hp\n",
        "        self.mp = mp\n",
        "        self.power = power\n",
        "        self.x = x\n",
        "        Character.character_count_increase()\n",
        "\n",
        "    @classmethod\n",
        "    def character_count_increase(cls):\n",
        "        '''\n",
        "        캐릭터가 100개 이상 생성되면 경고 메시지 출력\n",
        "        cls는 class입니다. self는 instance입니다.\n",
        "        2개가 다릅니다!\n",
        "        '''\n",
        "        cls.character_count += 1\n",
        "\n",
        "    def move(self):\n",
        "        self.x += 100\n",
        "\n",
        "    def attact(self, next):\n",
        "        next.hp -= self.power\n",
        "\n",
        "\n",
        "주인공1 = Character('licat', '질풍검', 100, 100, 10, 10)\n",
        "몹1 = Character('licat', '질풍검', 100, 100, 10, 10)\n",
        "\n",
        "주인공1.attact(몹1)\n",
        "몹1.hp\n",
        "\n",
        "몹1.character_count"
      ],
      "metadata": {
        "id": "k4pAmwuzfTQM"
      },
      "execution_count": null,
      "outputs": []
    },
    {
      "cell_type": "markdown",
      "source": [
        "## class Matrix:\n",
        "\n",
        "* 행렬연산은 [1, 2, 3] + [1, 2, 3] 일떄\n",
        "1 + 1, 2 + 2, 3 + 3 같이 수행\n"
      ],
      "metadata": {
        "id": "w3fex-fWiPJa"
      }
    },
    {
      "cell_type": "code",
      "source": [
        "# [1, 2, 3] + [1, 2, 3] => 리스트의합은 [1, 2, 3, 1, 2, 3]\n",
        "# [1, 2, 3] + [1, 2, 3] ==> 원하는 결과는 [2, 4, 6]"
      ],
      "metadata": {
        "id": "dVhuGEWwjPAs"
      },
      "execution_count": null,
      "outputs": []
    },
    {
      "cell_type": "markdown",
      "source": [
        "### 비권장"
      ],
      "metadata": {
        "id": "Jno88LEHknf9"
      }
    },
    {
      "cell_type": "code",
      "source": [
        "class Matrix:\n",
        "    def __init__(self, value):\n",
        "        self.value = value\n",
        "\n",
        "    def __add__(self, next):\n",
        "        result = []\n",
        "        for i in range(len(self.value)):        # 비권장********\n",
        "            result.append(self.value[i] + next.value[i])\n",
        "        return result\n",
        "\n",
        "a = Matrix([1, 2, 3])\n",
        "b = Matrix([1, 2, 3])\n",
        "\n",
        "a + b\n"
      ],
      "metadata": {
        "colab": {
          "base_uri": "https://localhost:8080/"
        },
        "id": "81enhYxKiidM",
        "outputId": "52020a7e-fad4-4528-b2cf-87c8d49dab91"
      },
      "execution_count": null,
      "outputs": [
        {
          "output_type": "execute_result",
          "data": {
            "text/plain": [
              "[2, 4, 6]"
            ]
          },
          "metadata": {},
          "execution_count": 3
        }
      ]
    },
    {
      "cell_type": "markdown",
      "source": [
        "### 권장"
      ],
      "metadata": {
        "id": "QjCasZijkpq2"
      }
    },
    {
      "cell_type": "code",
      "source": [
        "class Matrix:\n",
        "    def __init__(self, value):\n",
        "        self.value = value\n",
        "\n",
        "    def __add__(self, next):\n",
        "        result = []\n",
        "        for i, _ in enumerate(self.value):\n",
        "            result.append(self.value[i] + next.value[i])\n",
        "        return result\n",
        "\n",
        "a = Matrix([1, 2, 3])\n",
        "b = Matrix([1, 2, 3])\n",
        "\n",
        "a + b\n",
        "\n",
        "# 파이썬에서 사용하지 않는 변수는 _로 할당합니다."
      ],
      "metadata": {
        "id": "jTPAswnMiN70"
      },
      "execution_count": null,
      "outputs": []
    },
    {
      "cell_type": "markdown",
      "source": [],
      "metadata": {
        "id": "Tz0urAw0k3vO"
      }
    },
    {
      "cell_type": "code",
      "source": [
        "# [1, 2, 3] * 3 == [1, 2, 3, 1, 2, 3, 1, 2, 3]\n",
        "# [1, 2, 3] + [1, 2, 3] == [2, 4, 6] # 우리가 원하는 형태\n",
        "\n"
      ],
      "metadata": {
        "id": "o67uZ-p9k4n9"
      },
      "execution_count": null,
      "outputs": []
    },
    {
      "cell_type": "code",
      "source": [
        "class Matrix:\n",
        "    def __init__(self, value):\n",
        "        self.value = value\n",
        "\n",
        "    def __add__(self, next):\n",
        "        result = []\n",
        "        for i, _ in enumerate(self.value):\n",
        "            result.append(self.value[i] + next.value[i])\n",
        "        return result\n",
        "\n",
        "    # def __mul__(self, next):\n",
        "    #     for i, _ in enumerate(self.value):\n",
        "    #         self.value[i] *= next\n",
        "    #     return self.value\n",
        "\n",
        "a = Matrix([1, 2, 3])\n",
        "b = Matrix([1, 2, 3])\n",
        "\n",
        "a + b\n",
        "a * b\n",
        "\n",
        "# 파이썬에서 사용하지 않는 변수는 _로 할당합니다."
      ],
      "metadata": {
        "colab": {
          "base_uri": "https://localhost:8080/",
          "height": 259
        },
        "id": "EsW57NZwob8x",
        "outputId": "176c95ad-1126-42e4-8a36-91017589cbd2"
      },
      "execution_count": null,
      "outputs": [
        {
          "output_type": "error",
          "ename": "TypeError",
          "evalue": "unsupported operand type(s) for *: 'Matrix' and 'Matrix'",
          "traceback": [
            "\u001b[0;31m---------------------------------------------------------------------------\u001b[0m",
            "\u001b[0;31mTypeError\u001b[0m                                 Traceback (most recent call last)",
            "\u001b[0;32m<ipython-input-1-d24ff6d39ed8>\u001b[0m in \u001b[0;36m<cell line: 20>\u001b[0;34m()\u001b[0m\n\u001b[1;32m     18\u001b[0m \u001b[0;34m\u001b[0m\u001b[0m\n\u001b[1;32m     19\u001b[0m \u001b[0ma\u001b[0m \u001b[0;34m+\u001b[0m \u001b[0mb\u001b[0m\u001b[0;34m\u001b[0m\u001b[0;34m\u001b[0m\u001b[0m\n\u001b[0;32m---> 20\u001b[0;31m \u001b[0ma\u001b[0m \u001b[0;34m*\u001b[0m \u001b[0mb\u001b[0m\u001b[0;34m\u001b[0m\u001b[0;34m\u001b[0m\u001b[0m\n\u001b[0m\u001b[1;32m     21\u001b[0m \u001b[0;34m\u001b[0m\u001b[0m\n\u001b[1;32m     22\u001b[0m \u001b[0;31m# 파이썬에서 사용하지 않는 변수는 _로 할당합니다.\u001b[0m\u001b[0;34m\u001b[0m\u001b[0;34m\u001b[0m\u001b[0m\n",
            "\u001b[0;31mTypeError\u001b[0m: unsupported operand type(s) for *: 'Matrix' and 'Matrix'"
          ]
        }
      ]
    },
    {
      "cell_type": "markdown",
      "source": [
        "## 이터레이터, 제너레이터\n",
        "\n",
        "* __iter__  다음에 __next__ (iterable)\n",
        "* iter 는 처음 한번 . 그 이후에는 __next__ 돌림(stop/error 까지)"
      ],
      "metadata": {
        "id": "6Q-KwmoRpwoP"
      }
    },
    {
      "cell_type": "markdown",
      "source": [
        "### Iterator\n"
      ],
      "metadata": {
        "id": "I_7ouJ-7rSbn"
      }
    },
    {
      "cell_type": "code",
      "source": [
        "# 참고 코드\n",
        "class MyIterator:\n",
        "    def __init__(self, stop):\n",
        "        self.currentValue = 0\n",
        "        self.stop = stop\n",
        "\n",
        "    def __iter__(self):\n",
        "        return self\n",
        "\n",
        "    def __next__(self):\n",
        "        if self.currentValue >= self.stop:\n",
        "            raise StopIteration     # 에러 발생시키기\n",
        "        result = self.currentValue\n",
        "        self.currentValue += 1\n",
        "        return result\n",
        "\n",
        "my_iterator = MyIterator(5)\n",
        "\n",
        "for i in my_iterator:\n",
        "    print(i)\n",
        "\n"
      ],
      "metadata": {
        "id": "uEp1SAceqZgC"
      },
      "execution_count": null,
      "outputs": []
    },
    {
      "cell_type": "markdown",
      "source": [
        "### Iterator (for 문 여러번 쓸때)"
      ],
      "metadata": {
        "id": "PtcfhHCytp-W"
      }
    },
    {
      "cell_type": "code",
      "source": [
        "# 참고 코드\n",
        "# 왜 0, 1, 2, 3, 4가 2번 출력되지 않았는가?\n",
        "class MyIterator:\n",
        "    def __init__(self, stop):\n",
        "        self.currentValue = 0\n",
        "        self.stop = stop\n",
        "\n",
        "\n",
        "    def __iter__(self):     # 초기화 해주는 곳. for 문 두번이상 돌리려면 초기화 필요\n",
        "        return self\n",
        "\n",
        "    def __next__(self):\n",
        "        if self.currentValue >= self.stop:\n",
        "            raise StopIteration     # 에러\n",
        "        result = self.currentValue\n",
        "        self.currentValue += 1\n",
        "        return result\n",
        "\n",
        "my_iterator = MyIterator(5)\n",
        "\n",
        "for i in my_iterator:\n",
        "    print(i)\n",
        "for i in my_iterator:       # 프린트가 한번만 됨. 왜냐면 self.currentValue == 5. 초기화 다시 해야함.\n",
        "    print(i)"
      ],
      "metadata": {
        "colab": {
          "base_uri": "https://localhost:8080/"
        },
        "id": "Y6FYFdE6pwZP",
        "outputId": "262f984c-1b49-4048-8812-04613d941ff9"
      },
      "execution_count": null,
      "outputs": [
        {
          "output_type": "stream",
          "name": "stdout",
          "text": [
            "0\n",
            "1\n",
            "2\n",
            "3\n",
            "4\n"
          ]
        }
      ]
    },
    {
      "cell_type": "code",
      "source": [
        "##\n",
        "# 왜 0, 1, 2, 3, 4가 2번 출력되지 않았는가?\n",
        "class MyIterator:\n",
        "    def __init__(self, stop):\n",
        "        self.currentValue = 0\n",
        "        self.stop = stop\n",
        "\n",
        "    def __iter__(self):\n",
        "        self.currentValue = 0       # 초기화\n",
        "        return self\n",
        "\n",
        "    def __next__(self):\n",
        "        if self.currentValue >= self.stop:\n",
        "            raise StopIteration\n",
        "        result = self.currentValue\n",
        "        self.currentValue += 1\n",
        "        return result\n",
        "\n",
        "my_iterator = MyIterator(5)\n",
        "\n",
        "for i in my_iterator:\n",
        "    print(i)\n",
        "\n",
        "for i in my_iterator:\n",
        "    print(i)"
      ],
      "metadata": {
        "colab": {
          "base_uri": "https://localhost:8080/"
        },
        "id": "D-ra9YNwo2T4",
        "outputId": "d45d037a-aff3-4aa6-9c66-72289e4fe917"
      },
      "execution_count": null,
      "outputs": [
        {
          "output_type": "stream",
          "name": "stdout",
          "text": [
            "0\n",
            "1\n",
            "2\n",
            "3\n",
            "4\n",
            "0\n",
            "1\n",
            "2\n",
            "3\n",
            "4\n"
          ]
        }
      ]
    },
    {
      "cell_type": "markdown",
      "source": [
        "### iterable 객체"
      ],
      "metadata": {
        "id": "gEMvbvHAvOvz"
      }
    },
    {
      "cell_type": "code",
      "source": [
        "class Matrix:\n",
        "    def __init__(self, value):\n",
        "        self.index = 0\n",
        "        self.value = value\n",
        "\n",
        "    def __add__(self, next):\n",
        "        result = []\n",
        "        for i, _ in enumerate(self.value):\n",
        "            result.append(self.value[i] + next.value[i])\n",
        "        return result\n",
        "\n",
        "    def __mul__(self, next):\n",
        "        for i, _ in enumerate(self.value):\n",
        "            self.value[i] *= next\n",
        "        return self.value\n",
        "\n",
        "    def __str__(self):\n",
        "        return str(self.value)\n",
        "\n",
        "    def __repr__(self):\n",
        "        return str(self.value)\n",
        "\n",
        "    def __iter__(self):\n",
        "        return self\n",
        "\n",
        "    def __next__(self):\n",
        "        if self.index >= len(self.value):\n",
        "            raise StopIteration\n",
        "        idx = self.index\n",
        "        self.index += 1\n",
        "        return self.value[idx]\n",
        "\n",
        "a = Matrix([1, 2, 3])\n",
        "\n",
        "for i in a:\n",
        "    print(i)"
      ],
      "metadata": {
        "id": "GC5F-_wetBGX"
      },
      "execution_count": null,
      "outputs": []
    },
    {
      "cell_type": "markdown",
      "source": [
        "## 제너레이터 (어려우니 나중에)\n"
      ],
      "metadata": {
        "id": "_wy8Qri3vik-"
      }
    },
    {
      "cell_type": "markdown",
      "source": [],
      "metadata": {
        "id": "-K-_RbeQwBBw"
      }
    },
    {
      "cell_type": "markdown",
      "source": [
        "## zip (), map(), reversed() filter() 재순회 안됨"
      ],
      "metadata": {
        "id": "gzaNBs1UwDYC"
      }
    },
    {
      "cell_type": "code",
      "source": [
        "a = [1, 2, 3]\n",
        "b = ['a', 'b', 'c']\n",
        "\n",
        "z = zip(a, b)\n",
        "print(list(z)) # [(1, 'a'), (2, 'b'), (3, 'c')]\n",
        "\n",
        "# zip 객체는 한 번 사용되었으므로 빈 리스트가 반환됩니다.\n",
        "print(list(z)) # []"
      ],
      "metadata": {
        "id": "W8tHFgkCv3mt"
      },
      "execution_count": null,
      "outputs": []
    },
    {
      "cell_type": "markdown",
      "source": [
        "## sorted() 만 재순회 가능"
      ],
      "metadata": {
        "id": "iY55o12zwaq-"
      }
    },
    {
      "cell_type": "code",
      "source": [],
      "metadata": {
        "id": "_LFR3Cshwn8_"
      },
      "execution_count": null,
      "outputs": []
    },
    {
      "cell_type": "markdown",
      "source": [
        "## 상속"
      ],
      "metadata": {
        "id": "ZMly-XN3wofC"
      }
    },
    {
      "cell_type": "code",
      "source": [
        "class Character:\n",
        "\n",
        "    character_count = 0\n",
        "\n",
        "    def __init__(self, name, skill, hp, mp, power, x):\n",
        "        self.name = name\n",
        "        self.skill = skill\n",
        "        self.hp = hp\n",
        "        self.mp = mp\n",
        "        self.power = power\n",
        "\n",
        "    def attact(self, next):\n",
        "        next.hp -= self.power\n",
        "\n",
        "class Item():\n",
        "\n",
        "\n",
        "class Hero(Character, Item):\n",
        "    pass\n",
        "\n",
        "class Mob(Character, DropItem):\n",
        "    pass\n",
        "\n",
        "주인공1 = Character('licat', '질풍검', 100, 100, 10, 10)\n",
        "몹1 = Character('licat', '질풍검', 100, 100, 10, 10)\n",
        "\n",
        "주인공1.attact(몹1)\n",
        "몹1.hp\n",
        "\n",
        "몹1.character_count"
      ],
      "metadata": {
        "id": "wiDDcBa5wqPS"
      },
      "execution_count": null,
      "outputs": []
    }
  ]
}